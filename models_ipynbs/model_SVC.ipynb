{
 "cells": [
  {
   "cell_type": "code",
   "execution_count": 1,
   "id": "f7ab3990-6ffd-4157-898b-accab11b710d",
   "metadata": {},
   "outputs": [],
   "source": [
    "import os\n",
    "\n",
    "import pandas as pd\n",
    "import numpy as np\n",
    "import matplotlib.pyplot as plt\n",
    "import seaborn as sns\n",
    "\n",
    "from sklearn.model_selection import train_test_split, GridSearchCV, RandomizedSearchCV\n",
    "from sklearn.svm import SVC\n",
    "from sklearn.metrics import precision_recall_curve, roc_curve, roc_auc_score, f1_score, auc\n",
    "\n",
    "\n",
    "sns.set(style=\"whitegrid\")\n",
    "sns.set_color_codes(\"pastel\")"
   ]
  },
  {
   "cell_type": "code",
   "execution_count": 2,
   "id": "7c09dad8-fb70-4bba-8ef7-34b9ee8feca1",
   "metadata": {
    "scrolled": true
   },
   "outputs": [
    {
     "name": "stdout",
     "output_type": "stream",
     "text": [
      "Fitting 5 folds for each of 576 candidates, totalling 2880 fits\n",
      "[CV 1/5] END C=0.001, coef0=0.1, degree=2, gamma=scale, kernel=linear, max_iter=500;, score=0.618 total time=   0.0s\n",
      "[CV 2/5] END C=0.001, coef0=0.1, degree=2, gamma=scale, kernel=linear, max_iter=500;, score=0.618 total time=   0.0s\n",
      "[CV 3/5] END C=0.001, coef0=0.1, degree=2, gamma=scale, kernel=linear, max_iter=500;, score=0.618 total time=   0.0s\n",
      "[CV 4/5] END C=0.001, coef0=0.1, degree=2, gamma=scale, kernel=linear, max_iter=500;, score=0.618 total time=   0.0s\n",
      "[CV 5/5] END C=0.001, coef0=0.1, degree=2, gamma=scale, kernel=linear, max_iter=500;, score=0.616 total time=   0.0s\n",
      "[CV 1/5] END C=0.001, coef0=0.1, degree=2, gamma=scale, kernel=linear, max_iter=1000;, score=0.618 total time=   0.0s\n",
      "[CV 2/5] END C=0.001, coef0=0.1, degree=2, gamma=scale, kernel=linear, max_iter=1000;, score=0.618 total time=   0.0s\n",
      "[CV 3/5] END C=0.001, coef0=0.1, degree=2, gamma=scale, kernel=linear, max_iter=1000;, score=0.618 total time=   0.0s\n",
      "[CV 4/5] END C=0.001, coef0=0.1, degree=2, gamma=scale, kernel=linear, max_iter=1000;, score=0.618 total time=   0.0s\n",
      "[CV 5/5] END C=0.001, coef0=0.1, degree=2, gamma=scale, kernel=linear, max_iter=1000;, score=0.616 total time=   0.0s\n",
      "[CV 1/5] END C=0.001, coef0=0.1, degree=2, gamma=scale, kernel=linear, max_iter=10000;, score=0.618 total time=   0.0s\n",
      "[CV 2/5] END C=0.001, coef0=0.1, degree=2, gamma=scale, kernel=linear, max_iter=10000;, score=0.618 total time=   0.0s\n",
      "[CV 3/5] END C=0.001, coef0=0.1, degree=2, gamma=scale, kernel=linear, max_iter=10000;, score=0.618 total time=   0.0s\n",
      "[CV 4/5] END C=0.001, coef0=0.1, degree=2, gamma=scale, kernel=linear, max_iter=10000;, score=0.618 total time=   0.0s\n",
      "[CV 5/5] END C=0.001, coef0=0.1, degree=2, gamma=scale, kernel=linear, max_iter=10000;, score=0.616 total time=   0.0s\n",
      "[CV 1/5] END C=0.001, coef0=0.1, degree=2, gamma=scale, kernel=linear, max_iter=100000;, score=0.618 total time=   0.0s\n",
      "[CV 2/5] END C=0.001, coef0=0.1, degree=2, gamma=scale, kernel=linear, max_iter=100000;, score=0.618 total time=   0.0s\n",
      "[CV 3/5] END C=0.001, coef0=0.1, degree=2, gamma=scale, kernel=linear, max_iter=100000;, score=0.618 total time=   0.0s\n",
      "[CV 4/5] END C=0.001, coef0=0.1, degree=2, gamma=scale, kernel=linear, max_iter=100000;, score=0.618 total time=   0.0s\n",
      "[CV 5/5] END C=0.001, coef0=0.1, degree=2, gamma=scale, kernel=linear, max_iter=100000;, score=0.616 total time=   0.0s\n",
      "[CV 1/5] END C=0.001, coef0=0.1, degree=2, gamma=scale, kernel=rbf, max_iter=500;, score=0.618 total time=   0.1s\n",
      "[CV 2/5] END C=0.001, coef0=0.1, degree=2, gamma=scale, kernel=rbf, max_iter=500;, score=0.618 total time=   0.1s\n",
      "[CV 3/5] END C=0.001, coef0=0.1, degree=2, gamma=scale, kernel=rbf, max_iter=500;, score=0.618 total time=   0.1s\n",
      "[CV 4/5] END C=0.001, coef0=0.1, degree=2, gamma=scale, kernel=rbf, max_iter=500;, score=0.618 total time=   0.1s\n",
      "[CV 5/5] END C=0.001, coef0=0.1, degree=2, gamma=scale, kernel=rbf, max_iter=500;, score=0.616 total time=   0.1s\n",
      "[CV 1/5] END C=0.001, coef0=0.1, degree=2, gamma=scale, kernel=rbf, max_iter=1000;, score=0.618 total time=   0.1s\n",
      "[CV 2/5] END C=0.001, coef0=0.1, degree=2, gamma=scale, kernel=rbf, max_iter=1000;, score=0.618 total time=   0.1s\n",
      "[CV 3/5] END C=0.001, coef0=0.1, degree=2, gamma=scale, kernel=rbf, max_iter=1000;, score=0.618 total time=   0.1s\n",
      "[CV 4/5] END C=0.001, coef0=0.1, degree=2, gamma=scale, kernel=rbf, max_iter=1000;, score=0.618 total time=   0.1s\n",
      "[CV 5/5] END C=0.001, coef0=0.1, degree=2, gamma=scale, kernel=rbf, max_iter=1000;, score=0.616 total time=   0.1s\n",
      "[CV 1/5] END C=0.001, coef0=0.1, degree=2, gamma=scale, kernel=rbf, max_iter=10000;, score=0.618 total time=   0.1s\n",
      "[CV 2/5] END C=0.001, coef0=0.1, degree=2, gamma=scale, kernel=rbf, max_iter=10000;, score=0.618 total time=   0.1s\n",
      "[CV 3/5] END C=0.001, coef0=0.1, degree=2, gamma=scale, kernel=rbf, max_iter=10000;, score=0.618 total time=   0.1s\n",
      "[CV 4/5] END C=0.001, coef0=0.1, degree=2, gamma=scale, kernel=rbf, max_iter=10000;, score=0.618 total time=   0.1s\n",
      "[CV 5/5] END C=0.001, coef0=0.1, degree=2, gamma=scale, kernel=rbf, max_iter=10000;, score=0.616 total time=   0.1s\n",
      "[CV 1/5] END C=0.001, coef0=0.1, degree=2, gamma=scale, kernel=rbf, max_iter=100000;, score=0.618 total time=   0.1s\n",
      "[CV 2/5] END C=0.001, coef0=0.1, degree=2, gamma=scale, kernel=rbf, max_iter=100000;, score=0.618 total time=   0.1s\n",
      "[CV 3/5] END C=0.001, coef0=0.1, degree=2, gamma=scale, kernel=rbf, max_iter=100000;, score=0.618 total time=   0.1s\n",
      "[CV 4/5] END C=0.001, coef0=0.1, degree=2, gamma=scale, kernel=rbf, max_iter=100000;, score=0.618 total time=   0.1s\n",
      "[CV 5/5] END C=0.001, coef0=0.1, degree=2, gamma=scale, kernel=rbf, max_iter=100000;, score=0.616 total time=   0.1s\n",
      "[CV 1/5] END C=0.001, coef0=0.1, degree=2, gamma=scale, kernel=poly, max_iter=500;, score=0.618 total time=   0.0s\n",
      "[CV 2/5] END C=0.001, coef0=0.1, degree=2, gamma=scale, kernel=poly, max_iter=500;, score=0.618 total time=   0.0s\n",
      "[CV 3/5] END C=0.001, coef0=0.1, degree=2, gamma=scale, kernel=poly, max_iter=500;, score=0.618 total time=   0.0s\n",
      "[CV 4/5] END C=0.001, coef0=0.1, degree=2, gamma=scale, kernel=poly, max_iter=500;, score=0.618 total time=   0.0s\n",
      "[CV 5/5] END C=0.001, coef0=0.1, degree=2, gamma=scale, kernel=poly, max_iter=500;, score=0.616 total time=   0.0s\n",
      "[CV 1/5] END C=0.001, coef0=0.1, degree=2, gamma=scale, kernel=poly, max_iter=1000;, score=0.618 total time=   0.0s\n",
      "[CV 2/5] END C=0.001, coef0=0.1, degree=2, gamma=scale, kernel=poly, max_iter=1000;, score=0.618 total time=   0.0s\n",
      "[CV 3/5] END C=0.001, coef0=0.1, degree=2, gamma=scale, kernel=poly, max_iter=1000;, score=0.618 total time=   0.0s\n",
      "[CV 4/5] END C=0.001, coef0=0.1, degree=2, gamma=scale, kernel=poly, max_iter=1000;, score=0.618 total time=   0.0s\n",
      "[CV 5/5] END C=0.001, coef0=0.1, degree=2, gamma=scale, kernel=poly, max_iter=1000;, score=0.616 total time=   0.0s\n",
      "[CV 1/5] END C=0.001, coef0=0.1, degree=2, gamma=scale, kernel=poly, max_iter=10000;, score=0.618 total time=   0.0s\n",
      "[CV 2/5] END C=0.001, coef0=0.1, degree=2, gamma=scale, kernel=poly, max_iter=10000;, score=0.618 total time=   0.0s\n",
      "[CV 3/5] END C=0.001, coef0=0.1, degree=2, gamma=scale, kernel=poly, max_iter=10000;, score=0.618 total time=   0.0s\n",
      "[CV 4/5] END C=0.001, coef0=0.1, degree=2, gamma=scale, kernel=poly, max_iter=10000;, score=0.618 total time=   0.0s\n",
      "[CV 5/5] END C=0.001, coef0=0.1, degree=2, gamma=scale, kernel=poly, max_iter=10000;, score=0.616 total time=   0.0s\n",
      "[CV 1/5] END C=0.001, coef0=0.1, degree=2, gamma=scale, kernel=poly, max_iter=100000;, score=0.618 total time=   0.0s\n",
      "[CV 2/5] END C=0.001, coef0=0.1, degree=2, gamma=scale, kernel=poly, max_iter=100000;, score=0.618 total time=   0.0s\n",
      "[CV 3/5] END C=0.001, coef0=0.1, degree=2, gamma=scale, kernel=poly, max_iter=100000;, score=0.618 total time=   0.0s\n",
      "[CV 4/5] END C=0.001, coef0=0.1, degree=2, gamma=scale, kernel=poly, max_iter=100000;, score=0.618 total time=   0.0s\n",
      "[CV 5/5] END C=0.001, coef0=0.1, degree=2, gamma=scale, kernel=poly, max_iter=100000;, score=0.616 total time=   0.0s\n",
      "[CV 1/5] END C=0.001, coef0=0.1, degree=3, gamma=scale, kernel=linear, max_iter=500;, score=0.618 total time=   0.0s\n",
      "[CV 2/5] END C=0.001, coef0=0.1, degree=3, gamma=scale, kernel=linear, max_iter=500;, score=0.618 total time=   0.0s\n",
      "[CV 3/5] END C=0.001, coef0=0.1, degree=3, gamma=scale, kernel=linear, max_iter=500;, score=0.618 total time=   0.0s\n",
      "[CV 4/5] END C=0.001, coef0=0.1, degree=3, gamma=scale, kernel=linear, max_iter=500;, score=0.618 total time=   0.0s\n",
      "[CV 5/5] END C=0.001, coef0=0.1, degree=3, gamma=scale, kernel=linear, max_iter=500;, score=0.616 total time=   0.0s\n",
      "[CV 1/5] END C=0.001, coef0=0.1, degree=3, gamma=scale, kernel=linear, max_iter=1000;, score=0.618 total time=   0.0s\n",
      "[CV 2/5] END C=0.001, coef0=0.1, degree=3, gamma=scale, kernel=linear, max_iter=1000;, score=0.618 total time=   0.0s\n",
      "[CV 3/5] END C=0.001, coef0=0.1, degree=3, gamma=scale, kernel=linear, max_iter=1000;, score=0.618 total time=   0.0s\n",
      "[CV 4/5] END C=0.001, coef0=0.1, degree=3, gamma=scale, kernel=linear, max_iter=1000;, score=0.618 total time=   0.0s\n",
      "[CV 5/5] END C=0.001, coef0=0.1, degree=3, gamma=scale, kernel=linear, max_iter=1000;, score=0.616 total time=   0.0s\n",
      "[CV 1/5] END C=0.001, coef0=0.1, degree=3, gamma=scale, kernel=linear, max_iter=10000;, score=0.618 total time=   0.0s\n",
      "[CV 2/5] END C=0.001, coef0=0.1, degree=3, gamma=scale, kernel=linear, max_iter=10000;, score=0.618 total time=   0.0s\n",
      "[CV 3/5] END C=0.001, coef0=0.1, degree=3, gamma=scale, kernel=linear, max_iter=10000;, score=0.618 total time=   0.0s\n",
      "[CV 4/5] END C=0.001, coef0=0.1, degree=3, gamma=scale, kernel=linear, max_iter=10000;, score=0.618 total time=   0.0s\n",
      "[CV 5/5] END C=0.001, coef0=0.1, degree=3, gamma=scale, kernel=linear, max_iter=10000;, score=0.616 total time=   0.0s\n",
      "[CV 1/5] END C=0.001, coef0=0.1, degree=3, gamma=scale, kernel=linear, max_iter=100000;, score=0.618 total time=   0.0s\n",
      "[CV 2/5] END C=0.001, coef0=0.1, degree=3, gamma=scale, kernel=linear, max_iter=100000;, score=0.618 total time=   0.0s\n",
      "[CV 3/5] END C=0.001, coef0=0.1, degree=3, gamma=scale, kernel=linear, max_iter=100000;, score=0.618 total time=   0.0s\n",
      "[CV 4/5] END C=0.001, coef0=0.1, degree=3, gamma=scale, kernel=linear, max_iter=100000;, score=0.618 total time=   0.0s\n",
      "[CV 5/5] END C=0.001, coef0=0.1, degree=3, gamma=scale, kernel=linear, max_iter=100000;, score=0.616 total time=   0.0s\n",
      "[CV 1/5] END C=0.001, coef0=0.1, degree=3, gamma=scale, kernel=rbf, max_iter=500;, score=0.618 total time=   0.1s\n",
      "[CV 2/5] END C=0.001, coef0=0.1, degree=3, gamma=scale, kernel=rbf, max_iter=500;, score=0.618 total time=   0.1s\n",
      "[CV 3/5] END C=0.001, coef0=0.1, degree=3, gamma=scale, kernel=rbf, max_iter=500;, score=0.618 total time=   0.1s\n",
      "[CV 4/5] END C=0.001, coef0=0.1, degree=3, gamma=scale, kernel=rbf, max_iter=500;, score=0.618 total time=   0.1s\n",
      "[CV 5/5] END C=0.001, coef0=0.1, degree=3, gamma=scale, kernel=rbf, max_iter=500;, score=0.616 total time=   0.1s\n",
      "[CV 1/5] END C=0.001, coef0=0.1, degree=3, gamma=scale, kernel=rbf, max_iter=1000;, score=0.618 total time=   0.1s\n",
      "[CV 2/5] END C=0.001, coef0=0.1, degree=3, gamma=scale, kernel=rbf, max_iter=1000;, score=0.618 total time=   0.1s\n",
      "[CV 3/5] END C=0.001, coef0=0.1, degree=3, gamma=scale, kernel=rbf, max_iter=1000;, score=0.618 total time=   0.1s\n",
      "[CV 4/5] END C=0.001, coef0=0.1, degree=3, gamma=scale, kernel=rbf, max_iter=1000;, score=0.618 total time=   0.1s\n",
      "[CV 5/5] END C=0.001, coef0=0.1, degree=3, gamma=scale, kernel=rbf, max_iter=1000;, score=0.616 total time=   0.1s\n",
      "[CV 1/5] END C=0.001, coef0=0.1, degree=3, gamma=scale, kernel=rbf, max_iter=10000;, score=0.618 total time=   0.1s\n",
      "[CV 2/5] END C=0.001, coef0=0.1, degree=3, gamma=scale, kernel=rbf, max_iter=10000;, score=0.618 total time=   0.1s\n",
      "[CV 3/5] END C=0.001, coef0=0.1, degree=3, gamma=scale, kernel=rbf, max_iter=10000;, score=0.618 total time=   0.1s\n",
      "[CV 4/5] END C=0.001, coef0=0.1, degree=3, gamma=scale, kernel=rbf, max_iter=10000;, score=0.618 total time=   0.1s\n",
      "[CV 5/5] END C=0.001, coef0=0.1, degree=3, gamma=scale, kernel=rbf, max_iter=10000;, score=0.616 total time=   0.1s\n",
      "[CV 1/5] END C=0.001, coef0=0.1, degree=3, gamma=scale, kernel=rbf, max_iter=100000;, score=0.618 total time=   0.1s\n",
      "[CV 2/5] END C=0.001, coef0=0.1, degree=3, gamma=scale, kernel=rbf, max_iter=100000;, score=0.618 total time=   0.1s\n",
      "[CV 3/5] END C=0.001, coef0=0.1, degree=3, gamma=scale, kernel=rbf, max_iter=100000;, score=0.618 total time=   0.1s\n",
      "[CV 4/5] END C=0.001, coef0=0.1, degree=3, gamma=scale, kernel=rbf, max_iter=100000;, score=0.618 total time=   0.1s\n",
      "[CV 5/5] END C=0.001, coef0=0.1, degree=3, gamma=scale, kernel=rbf, max_iter=100000;, score=0.616 total time=   0.1s\n",
      "[CV 1/5] END C=0.001, coef0=0.1, degree=3, gamma=scale, kernel=poly, max_iter=500;, score=0.618 total time=   0.0s\n",
      "[CV 2/5] END C=0.001, coef0=0.1, degree=3, gamma=scale, kernel=poly, max_iter=500;, score=0.618 total time=   0.0s\n",
      "[CV 3/5] END C=0.001, coef0=0.1, degree=3, gamma=scale, kernel=poly, max_iter=500;, score=0.618 total time=   0.0s\n",
      "[CV 4/5] END C=0.001, coef0=0.1, degree=3, gamma=scale, kernel=poly, max_iter=500;, score=0.618 total time=   0.0s\n",
      "[CV 5/5] END C=0.001, coef0=0.1, degree=3, gamma=scale, kernel=poly, max_iter=500;, score=0.616 total time=   0.0s\n",
      "[CV 1/5] END C=0.001, coef0=0.1, degree=3, gamma=scale, kernel=poly, max_iter=1000;, score=0.618 total time=   0.0s\n",
      "[CV 2/5] END C=0.001, coef0=0.1, degree=3, gamma=scale, kernel=poly, max_iter=1000;, score=0.618 total time=   0.0s\n",
      "[CV 3/5] END C=0.001, coef0=0.1, degree=3, gamma=scale, kernel=poly, max_iter=1000;, score=0.618 total time=   0.0s\n",
      "[CV 4/5] END C=0.001, coef0=0.1, degree=3, gamma=scale, kernel=poly, max_iter=1000;, score=0.618 total time=   0.0s\n",
      "[CV 5/5] END C=0.001, coef0=0.1, degree=3, gamma=scale, kernel=poly, max_iter=1000;, score=0.616 total time=   0.0s\n",
      "[CV 1/5] END C=0.001, coef0=0.1, degree=3, gamma=scale, kernel=poly, max_iter=10000;, score=0.618 total time=   0.0s\n",
      "[CV 2/5] END C=0.001, coef0=0.1, degree=3, gamma=scale, kernel=poly, max_iter=10000;, score=0.618 total time=   0.0s\n",
      "[CV 3/5] END C=0.001, coef0=0.1, degree=3, gamma=scale, kernel=poly, max_iter=10000;, score=0.618 total time=   0.0s\n",
      "[CV 4/5] END C=0.001, coef0=0.1, degree=3, gamma=scale, kernel=poly, max_iter=10000;, score=0.618 total time=   0.0s\n",
      "[CV 5/5] END C=0.001, coef0=0.1, degree=3, gamma=scale, kernel=poly, max_iter=10000;, score=0.616 total time=   0.0s\n",
      "[CV 1/5] END C=0.001, coef0=0.1, degree=3, gamma=scale, kernel=poly, max_iter=100000;, score=0.618 total time=   0.0s\n",
      "[CV 2/5] END C=0.001, coef0=0.1, degree=3, gamma=scale, kernel=poly, max_iter=100000;, score=0.618 total time=   0.0s\n",
      "[CV 3/5] END C=0.001, coef0=0.1, degree=3, gamma=scale, kernel=poly, max_iter=100000;, score=0.618 total time=   0.0s\n",
      "[CV 4/5] END C=0.001, coef0=0.1, degree=3, gamma=scale, kernel=poly, max_iter=100000;, score=0.618 total time=   0.0s\n",
      "[CV 5/5] END C=0.001, coef0=0.1, degree=3, gamma=scale, kernel=poly, max_iter=100000;, score=0.616 total time=   0.0s\n",
      "[CV 1/5] END C=0.001, coef0=0.1, degree=4, gamma=scale, kernel=linear, max_iter=500;, score=0.618 total time=   0.0s\n",
      "[CV 2/5] END C=0.001, coef0=0.1, degree=4, gamma=scale, kernel=linear, max_iter=500;, score=0.618 total time=   0.0s\n",
      "[CV 3/5] END C=0.001, coef0=0.1, degree=4, gamma=scale, kernel=linear, max_iter=500;, score=0.618 total time=   0.0s\n",
      "[CV 4/5] END C=0.001, coef0=0.1, degree=4, gamma=scale, kernel=linear, max_iter=500;, score=0.618 total time=   0.0s\n",
      "[CV 5/5] END C=0.001, coef0=0.1, degree=4, gamma=scale, kernel=linear, max_iter=500;, score=0.616 total time=   0.0s\n",
      "[CV 1/5] END C=0.001, coef0=0.1, degree=4, gamma=scale, kernel=linear, max_iter=1000;, score=0.618 total time=   0.0s\n",
      "[CV 2/5] END C=0.001, coef0=0.1, degree=4, gamma=scale, kernel=linear, max_iter=1000;, score=0.618 total time=   0.0s\n",
      "[CV 3/5] END C=0.001, coef0=0.1, degree=4, gamma=scale, kernel=linear, max_iter=1000;, score=0.618 total time=   0.0s\n",
      "[CV 4/5] END C=0.001, coef0=0.1, degree=4, gamma=scale, kernel=linear, max_iter=1000;, score=0.618 total time=   0.0s\n",
      "[CV 5/5] END C=0.001, coef0=0.1, degree=4, gamma=scale, kernel=linear, max_iter=1000;, score=0.616 total time=   0.0s\n",
      "[CV 1/5] END C=0.001, coef0=0.1, degree=4, gamma=scale, kernel=linear, max_iter=10000;, score=0.618 total time=   0.0s\n",
      "[CV 2/5] END C=0.001, coef0=0.1, degree=4, gamma=scale, kernel=linear, max_iter=10000;, score=0.618 total time=   0.0s\n",
      "[CV 3/5] END C=0.001, coef0=0.1, degree=4, gamma=scale, kernel=linear, max_iter=10000;, score=0.618 total time=   0.0s\n",
      "[CV 4/5] END C=0.001, coef0=0.1, degree=4, gamma=scale, kernel=linear, max_iter=10000;, score=0.618 total time=   0.0s\n",
      "[CV 5/5] END C=0.001, coef0=0.1, degree=4, gamma=scale, kernel=linear, max_iter=10000;, score=0.616 total time=   0.0s\n",
      "[CV 1/5] END C=0.001, coef0=0.1, degree=4, gamma=scale, kernel=linear, max_iter=100000;, score=0.618 total time=   0.0s\n",
      "[CV 2/5] END C=0.001, coef0=0.1, degree=4, gamma=scale, kernel=linear, max_iter=100000;, score=0.618 total time=   0.0s\n",
      "[CV 3/5] END C=0.001, coef0=0.1, degree=4, gamma=scale, kernel=linear, max_iter=100000;, score=0.618 total time=   0.0s\n",
      "[CV 4/5] END C=0.001, coef0=0.1, degree=4, gamma=scale, kernel=linear, max_iter=100000;, score=0.618 total time=   0.0s\n",
      "[CV 5/5] END C=0.001, coef0=0.1, degree=4, gamma=scale, kernel=linear, max_iter=100000;, score=0.616 total time=   0.0s\n",
      "[CV 1/5] END C=0.001, coef0=0.1, degree=4, gamma=scale, kernel=rbf, max_iter=500;, score=0.618 total time=   0.1s\n",
      "[CV 2/5] END C=0.001, coef0=0.1, degree=4, gamma=scale, kernel=rbf, max_iter=500;, score=0.618 total time=   0.1s\n",
      "[CV 3/5] END C=0.001, coef0=0.1, degree=4, gamma=scale, kernel=rbf, max_iter=500;, score=0.618 total time=   0.1s\n",
      "[CV 4/5] END C=0.001, coef0=0.1, degree=4, gamma=scale, kernel=rbf, max_iter=500;, score=0.618 total time=   0.1s\n",
      "[CV 5/5] END C=0.001, coef0=0.1, degree=4, gamma=scale, kernel=rbf, max_iter=500;, score=0.616 total time=   0.1s\n",
      "[CV 1/5] END C=0.001, coef0=0.1, degree=4, gamma=scale, kernel=rbf, max_iter=1000;, score=0.618 total time=   0.1s\n",
      "[CV 2/5] END C=0.001, coef0=0.1, degree=4, gamma=scale, kernel=rbf, max_iter=1000;, score=0.618 total time=   0.1s\n",
      "[CV 3/5] END C=0.001, coef0=0.1, degree=4, gamma=scale, kernel=rbf, max_iter=1000;, score=0.618 total time=   0.1s\n",
      "[CV 4/5] END C=0.001, coef0=0.1, degree=4, gamma=scale, kernel=rbf, max_iter=1000;, score=0.618 total time=   0.1s\n",
      "[CV 5/5] END C=0.001, coef0=0.1, degree=4, gamma=scale, kernel=rbf, max_iter=1000;, score=0.616 total time=   0.1s\n",
      "[CV 1/5] END C=0.001, coef0=0.1, degree=4, gamma=scale, kernel=rbf, max_iter=10000;, score=0.618 total time=   0.1s\n",
      "[CV 2/5] END C=0.001, coef0=0.1, degree=4, gamma=scale, kernel=rbf, max_iter=10000;, score=0.618 total time=   0.1s\n",
      "[CV 3/5] END C=0.001, coef0=0.1, degree=4, gamma=scale, kernel=rbf, max_iter=10000;, score=0.618 total time=   0.1s\n",
      "[CV 4/5] END C=0.001, coef0=0.1, degree=4, gamma=scale, kernel=rbf, max_iter=10000;, score=0.618 total time=   0.1s\n",
      "[CV 5/5] END C=0.001, coef0=0.1, degree=4, gamma=scale, kernel=rbf, max_iter=10000;, score=0.616 total time=   0.1s\n",
      "[CV 1/5] END C=0.001, coef0=0.1, degree=4, gamma=scale, kernel=rbf, max_iter=100000;, score=0.618 total time=   0.1s\n",
      "[CV 2/5] END C=0.001, coef0=0.1, degree=4, gamma=scale, kernel=rbf, max_iter=100000;, score=0.618 total time=   0.1s\n",
      "[CV 3/5] END C=0.001, coef0=0.1, degree=4, gamma=scale, kernel=rbf, max_iter=100000;, score=0.618 total time=   0.1s\n",
      "[CV 4/5] END C=0.001, coef0=0.1, degree=4, gamma=scale, kernel=rbf, max_iter=100000;, score=0.618 total time=   0.1s\n",
      "[CV 5/5] END C=0.001, coef0=0.1, degree=4, gamma=scale, kernel=rbf, max_iter=100000;, score=0.616 total time=   0.1s\n",
      "[CV 1/5] END C=0.001, coef0=0.1, degree=4, gamma=scale, kernel=poly, max_iter=500;, score=0.618 total time=   0.0s\n",
      "[CV 2/5] END C=0.001, coef0=0.1, degree=4, gamma=scale, kernel=poly, max_iter=500;, score=0.618 total time=   0.0s\n",
      "[CV 3/5] END C=0.001, coef0=0.1, degree=4, gamma=scale, kernel=poly, max_iter=500;, score=0.618 total time=   0.0s\n",
      "[CV 4/5] END C=0.001, coef0=0.1, degree=4, gamma=scale, kernel=poly, max_iter=500;, score=0.618 total time=   0.0s\n",
      "[CV 5/5] END C=0.001, coef0=0.1, degree=4, gamma=scale, kernel=poly, max_iter=500;, score=0.616 total time=   0.0s\n",
      "[CV 1/5] END C=0.001, coef0=0.1, degree=4, gamma=scale, kernel=poly, max_iter=1000;, score=0.618 total time=   0.0s\n",
      "[CV 2/5] END C=0.001, coef0=0.1, degree=4, gamma=scale, kernel=poly, max_iter=1000;, score=0.618 total time=   0.0s\n",
      "[CV 3/5] END C=0.001, coef0=0.1, degree=4, gamma=scale, kernel=poly, max_iter=1000;, score=0.618 total time=   0.0s\n",
      "[CV 4/5] END C=0.001, coef0=0.1, degree=4, gamma=scale, kernel=poly, max_iter=1000;, score=0.618 total time=   0.0s\n",
      "[CV 5/5] END C=0.001, coef0=0.1, degree=4, gamma=scale, kernel=poly, max_iter=1000;, score=0.616 total time=   0.0s\n",
      "[CV 1/5] END C=0.001, coef0=0.1, degree=4, gamma=scale, kernel=poly, max_iter=10000;, score=0.618 total time=   0.0s\n",
      "[CV 2/5] END C=0.001, coef0=0.1, degree=4, gamma=scale, kernel=poly, max_iter=10000;, score=0.618 total time=   0.0s\n",
      "[CV 3/5] END C=0.001, coef0=0.1, degree=4, gamma=scale, kernel=poly, max_iter=10000;, score=0.618 total time=   0.0s\n",
      "[CV 4/5] END C=0.001, coef0=0.1, degree=4, gamma=scale, kernel=poly, max_iter=10000;, score=0.618 total time=   0.0s\n",
      "[CV 5/5] END C=0.001, coef0=0.1, degree=4, gamma=scale, kernel=poly, max_iter=10000;, score=0.616 total time=   0.0s\n",
      "[CV 1/5] END C=0.001, coef0=0.1, degree=4, gamma=scale, kernel=poly, max_iter=100000;, score=0.618 total time=   0.0s\n",
      "[CV 2/5] END C=0.001, coef0=0.1, degree=4, gamma=scale, kernel=poly, max_iter=100000;, score=0.618 total time=   0.0s\n",
      "[CV 3/5] END C=0.001, coef0=0.1, degree=4, gamma=scale, kernel=poly, max_iter=100000;, score=0.618 total time=   0.0s\n",
      "[CV 4/5] END C=0.001, coef0=0.1, degree=4, gamma=scale, kernel=poly, max_iter=100000;, score=0.618 total time=   0.0s\n",
      "[CV 5/5] END C=0.001, coef0=0.1, degree=4, gamma=scale, kernel=poly, max_iter=100000;, score=0.616 total time=   0.0s\n",
      "[CV 1/5] END C=0.001, coef0=0.1, degree=5, gamma=scale, kernel=linear, max_iter=500;, score=0.618 total time=   0.0s\n",
      "[CV 2/5] END C=0.001, coef0=0.1, degree=5, gamma=scale, kernel=linear, max_iter=500;, score=0.618 total time=   0.0s\n",
      "[CV 3/5] END C=0.001, coef0=0.1, degree=5, gamma=scale, kernel=linear, max_iter=500;, score=0.618 total time=   0.0s\n",
      "[CV 4/5] END C=0.001, coef0=0.1, degree=5, gamma=scale, kernel=linear, max_iter=500;, score=0.618 total time=   0.0s\n",
      "[CV 5/5] END C=0.001, coef0=0.1, degree=5, gamma=scale, kernel=linear, max_iter=500;, score=0.616 total time=   0.0s\n",
      "[CV 1/5] END C=0.001, coef0=0.1, degree=5, gamma=scale, kernel=linear, max_iter=1000;, score=0.618 total time=   0.0s\n",
      "[CV 2/5] END C=0.001, coef0=0.1, degree=5, gamma=scale, kernel=linear, max_iter=1000;, score=0.618 total time=   0.0s\n",
      "[CV 3/5] END C=0.001, coef0=0.1, degree=5, gamma=scale, kernel=linear, max_iter=1000;, score=0.618 total time=   0.0s\n",
      "[CV 4/5] END C=0.001, coef0=0.1, degree=5, gamma=scale, kernel=linear, max_iter=1000;, score=0.618 total time=   0.0s\n",
      "[CV 5/5] END C=0.001, coef0=0.1, degree=5, gamma=scale, kernel=linear, max_iter=1000;, score=0.616 total time=   0.0s\n",
      "[CV 1/5] END C=0.001, coef0=0.1, degree=5, gamma=scale, kernel=linear, max_iter=10000;, score=0.618 total time=   0.0s\n",
      "[CV 2/5] END C=0.001, coef0=0.1, degree=5, gamma=scale, kernel=linear, max_iter=10000;, score=0.618 total time=   0.0s\n",
      "[CV 3/5] END C=0.001, coef0=0.1, degree=5, gamma=scale, kernel=linear, max_iter=10000;, score=0.618 total time=   0.0s\n",
      "[CV 4/5] END C=0.001, coef0=0.1, degree=5, gamma=scale, kernel=linear, max_iter=10000;, score=0.618 total time=   0.0s\n",
      "[CV 5/5] END C=0.001, coef0=0.1, degree=5, gamma=scale, kernel=linear, max_iter=10000;, score=0.616 total time=   0.0s\n",
      "[CV 1/5] END C=0.001, coef0=0.1, degree=5, gamma=scale, kernel=linear, max_iter=100000;, score=0.618 total time=   0.0s\n",
      "[CV 2/5] END C=0.001, coef0=0.1, degree=5, gamma=scale, kernel=linear, max_iter=100000;, score=0.618 total time=   0.0s\n",
      "[CV 3/5] END C=0.001, coef0=0.1, degree=5, gamma=scale, kernel=linear, max_iter=100000;, score=0.618 total time=   0.0s\n",
      "[CV 4/5] END C=0.001, coef0=0.1, degree=5, gamma=scale, kernel=linear, max_iter=100000;, score=0.618 total time=   0.0s\n",
      "[CV 5/5] END C=0.001, coef0=0.1, degree=5, gamma=scale, kernel=linear, max_iter=100000;, score=0.616 total time=   0.0s\n",
      "[CV 1/5] END C=0.001, coef0=0.1, degree=5, gamma=scale, kernel=rbf, max_iter=500;, score=0.618 total time=   0.1s\n",
      "[CV 2/5] END C=0.001, coef0=0.1, degree=5, gamma=scale, kernel=rbf, max_iter=500;, score=0.618 total time=   0.1s\n",
      "[CV 3/5] END C=0.001, coef0=0.1, degree=5, gamma=scale, kernel=rbf, max_iter=500;, score=0.618 total time=   0.1s\n",
      "[CV 4/5] END C=0.001, coef0=0.1, degree=5, gamma=scale, kernel=rbf, max_iter=500;, score=0.618 total time=   0.1s\n",
      "[CV 5/5] END C=0.001, coef0=0.1, degree=5, gamma=scale, kernel=rbf, max_iter=500;, score=0.616 total time=   0.1s\n",
      "[CV 1/5] END C=0.001, coef0=0.1, degree=5, gamma=scale, kernel=rbf, max_iter=1000;, score=0.618 total time=   0.1s\n",
      "[CV 2/5] END C=0.001, coef0=0.1, degree=5, gamma=scale, kernel=rbf, max_iter=1000;, score=0.618 total time=   0.1s\n",
      "[CV 3/5] END C=0.001, coef0=0.1, degree=5, gamma=scale, kernel=rbf, max_iter=1000;, score=0.618 total time=   0.1s\n",
      "[CV 4/5] END C=0.001, coef0=0.1, degree=5, gamma=scale, kernel=rbf, max_iter=1000;, score=0.618 total time=   0.1s\n",
      "[CV 5/5] END C=0.001, coef0=0.1, degree=5, gamma=scale, kernel=rbf, max_iter=1000;, score=0.616 total time=   0.1s\n",
      "[CV 1/5] END C=0.001, coef0=0.1, degree=5, gamma=scale, kernel=rbf, max_iter=10000;, score=0.618 total time=   0.1s\n",
      "[CV 2/5] END C=0.001, coef0=0.1, degree=5, gamma=scale, kernel=rbf, max_iter=10000;, score=0.618 total time=   0.1s\n",
      "[CV 3/5] END C=0.001, coef0=0.1, degree=5, gamma=scale, kernel=rbf, max_iter=10000;, score=0.618 total time=   0.1s\n",
      "[CV 4/5] END C=0.001, coef0=0.1, degree=5, gamma=scale, kernel=rbf, max_iter=10000;, score=0.618 total time=   0.1s\n",
      "[CV 5/5] END C=0.001, coef0=0.1, degree=5, gamma=scale, kernel=rbf, max_iter=10000;, score=0.616 total time=   0.1s\n",
      "[CV 1/5] END C=0.001, coef0=0.1, degree=5, gamma=scale, kernel=rbf, max_iter=100000;, score=0.618 total time=   0.1s\n",
      "[CV 2/5] END C=0.001, coef0=0.1, degree=5, gamma=scale, kernel=rbf, max_iter=100000;, score=0.618 total time=   0.1s\n",
      "[CV 3/5] END C=0.001, coef0=0.1, degree=5, gamma=scale, kernel=rbf, max_iter=100000;, score=0.618 total time=   0.1s\n",
      "[CV 4/5] END C=0.001, coef0=0.1, degree=5, gamma=scale, kernel=rbf, max_iter=100000;, score=0.618 total time=   0.1s\n",
      "[CV 5/5] END C=0.001, coef0=0.1, degree=5, gamma=scale, kernel=rbf, max_iter=100000;, score=0.616 total time=   0.1s\n",
      "[CV 1/5] END C=0.001, coef0=0.1, degree=5, gamma=scale, kernel=poly, max_iter=500;, score=0.629 total time=   0.0s\n",
      "[CV 2/5] END C=0.001, coef0=0.1, degree=5, gamma=scale, kernel=poly, max_iter=500;, score=0.669 total time=   0.0s\n",
      "[CV 3/5] END C=0.001, coef0=0.1, degree=5, gamma=scale, kernel=poly, max_iter=500;, score=0.612 total time=   0.0s\n",
      "[CV 4/5] END C=0.001, coef0=0.1, degree=5, gamma=scale, kernel=poly, max_iter=500;, score=0.646 total time=   0.0s\n",
      "[CV 5/5] END C=0.001, coef0=0.1, degree=5, gamma=scale, kernel=poly, max_iter=500;, score=0.650 total time=   0.0s\n",
      "[CV 1/5] END C=0.001, coef0=0.1, degree=5, gamma=scale, kernel=poly, max_iter=1000;, score=0.629 total time=   0.0s\n",
      "[CV 2/5] END C=0.001, coef0=0.1, degree=5, gamma=scale, kernel=poly, max_iter=1000;, score=0.669 total time=   0.0s\n",
      "[CV 3/5] END C=0.001, coef0=0.1, degree=5, gamma=scale, kernel=poly, max_iter=1000;, score=0.612 total time=   0.0s\n",
      "[CV 4/5] END C=0.001, coef0=0.1, degree=5, gamma=scale, kernel=poly, max_iter=1000;, score=0.646 total time=   0.0s\n",
      "[CV 5/5] END C=0.001, coef0=0.1, degree=5, gamma=scale, kernel=poly, max_iter=1000;, score=0.650 total time=   0.0s\n",
      "[CV 1/5] END C=0.001, coef0=0.1, degree=5, gamma=scale, kernel=poly, max_iter=10000;, score=0.629 total time=   0.0s\n",
      "[CV 2/5] END C=0.001, coef0=0.1, degree=5, gamma=scale, kernel=poly, max_iter=10000;, score=0.669 total time=   0.0s\n",
      "[CV 3/5] END C=0.001, coef0=0.1, degree=5, gamma=scale, kernel=poly, max_iter=10000;, score=0.612 total time=   0.0s\n",
      "[CV 4/5] END C=0.001, coef0=0.1, degree=5, gamma=scale, kernel=poly, max_iter=10000;, score=0.646 total time=   0.0s\n",
      "[CV 5/5] END C=0.001, coef0=0.1, degree=5, gamma=scale, kernel=poly, max_iter=10000;, score=0.650 total time=   0.0s\n",
      "[CV 1/5] END C=0.001, coef0=0.1, degree=5, gamma=scale, kernel=poly, max_iter=100000;, score=0.629 total time=   0.0s\n",
      "[CV 2/5] END C=0.001, coef0=0.1, degree=5, gamma=scale, kernel=poly, max_iter=100000;, score=0.669 total time=   0.0s\n",
      "[CV 3/5] END C=0.001, coef0=0.1, degree=5, gamma=scale, kernel=poly, max_iter=100000;, score=0.612 total time=   0.0s\n",
      "[CV 4/5] END C=0.001, coef0=0.1, degree=5, gamma=scale, kernel=poly, max_iter=100000;, score=0.646 total time=   0.0s\n",
      "[CV 5/5] END C=0.001, coef0=0.1, degree=5, gamma=scale, kernel=poly, max_iter=100000;, score=0.650 total time=   0.0s\n",
      "[CV 1/5] END C=0.001, coef0=1, degree=2, gamma=scale, kernel=linear, max_iter=500;, score=0.618 total time=   0.0s\n",
      "[CV 2/5] END C=0.001, coef0=1, degree=2, gamma=scale, kernel=linear, max_iter=500;, score=0.618 total time=   0.0s\n",
      "[CV 3/5] END C=0.001, coef0=1, degree=2, gamma=scale, kernel=linear, max_iter=500;, score=0.618 total time=   0.0s\n",
      "[CV 4/5] END C=0.001, coef0=1, degree=2, gamma=scale, kernel=linear, max_iter=500;, score=0.618 total time=   0.0s\n",
      "[CV 5/5] END C=0.001, coef0=1, degree=2, gamma=scale, kernel=linear, max_iter=500;, score=0.616 total time=   0.0s\n",
      "[CV 1/5] END C=0.001, coef0=1, degree=2, gamma=scale, kernel=linear, max_iter=1000;, score=0.618 total time=   0.0s\n",
      "[CV 2/5] END C=0.001, coef0=1, degree=2, gamma=scale, kernel=linear, max_iter=1000;, score=0.618 total time=   0.0s\n",
      "[CV 3/5] END C=0.001, coef0=1, degree=2, gamma=scale, kernel=linear, max_iter=1000;, score=0.618 total time=   0.0s\n",
      "[CV 4/5] END C=0.001, coef0=1, degree=2, gamma=scale, kernel=linear, max_iter=1000;, score=0.618 total time=   0.0s\n",
      "[CV 5/5] END C=0.001, coef0=1, degree=2, gamma=scale, kernel=linear, max_iter=1000;, score=0.616 total time=   0.0s\n",
      "[CV 1/5] END C=0.001, coef0=1, degree=2, gamma=scale, kernel=linear, max_iter=10000;, score=0.618 total time=   0.0s\n",
      "[CV 2/5] END C=0.001, coef0=1, degree=2, gamma=scale, kernel=linear, max_iter=10000;, score=0.618 total time=   0.0s\n",
      "[CV 3/5] END C=0.001, coef0=1, degree=2, gamma=scale, kernel=linear, max_iter=10000;, score=0.618 total time=   0.0s\n",
      "[CV 4/5] END C=0.001, coef0=1, degree=2, gamma=scale, kernel=linear, max_iter=10000;, score=0.618 total time=   0.0s\n",
      "[CV 5/5] END C=0.001, coef0=1, degree=2, gamma=scale, kernel=linear, max_iter=10000;, score=0.616 total time=   0.0s\n",
      "[CV 1/5] END C=0.001, coef0=1, degree=2, gamma=scale, kernel=linear, max_iter=100000;, score=0.618 total time=   0.0s\n",
      "[CV 2/5] END C=0.001, coef0=1, degree=2, gamma=scale, kernel=linear, max_iter=100000;, score=0.618 total time=   0.0s\n",
      "[CV 3/5] END C=0.001, coef0=1, degree=2, gamma=scale, kernel=linear, max_iter=100000;, score=0.618 total time=   0.0s\n",
      "[CV 4/5] END C=0.001, coef0=1, degree=2, gamma=scale, kernel=linear, max_iter=100000;, score=0.618 total time=   0.0s\n",
      "[CV 5/5] END C=0.001, coef0=1, degree=2, gamma=scale, kernel=linear, max_iter=100000;, score=0.616 total time=   0.0s\n",
      "[CV 1/5] END C=0.001, coef0=1, degree=2, gamma=scale, kernel=rbf, max_iter=500;, score=0.618 total time=   0.1s\n",
      "[CV 2/5] END C=0.001, coef0=1, degree=2, gamma=scale, kernel=rbf, max_iter=500;, score=0.618 total time=   0.1s\n",
      "[CV 3/5] END C=0.001, coef0=1, degree=2, gamma=scale, kernel=rbf, max_iter=500;, score=0.618 total time=   0.1s\n",
      "[CV 4/5] END C=0.001, coef0=1, degree=2, gamma=scale, kernel=rbf, max_iter=500;, score=0.618 total time=   0.1s\n",
      "[CV 5/5] END C=0.001, coef0=1, degree=2, gamma=scale, kernel=rbf, max_iter=500;, score=0.616 total time=   0.1s\n",
      "[CV 1/5] END C=0.001, coef0=1, degree=2, gamma=scale, kernel=rbf, max_iter=1000;, score=0.618 total time=   0.1s\n",
      "[CV 2/5] END C=0.001, coef0=1, degree=2, gamma=scale, kernel=rbf, max_iter=1000;, score=0.618 total time=   0.1s\n",
      "[CV 3/5] END C=0.001, coef0=1, degree=2, gamma=scale, kernel=rbf, max_iter=1000;, score=0.618 total time=   0.1s\n",
      "[CV 4/5] END C=0.001, coef0=1, degree=2, gamma=scale, kernel=rbf, max_iter=1000;, score=0.618 total time=   0.1s\n",
      "[CV 5/5] END C=0.001, coef0=1, degree=2, gamma=scale, kernel=rbf, max_iter=1000;, score=0.616 total time=   0.1s\n",
      "[CV 1/5] END C=0.001, coef0=1, degree=2, gamma=scale, kernel=rbf, max_iter=10000;, score=0.618 total time=   0.1s\n",
      "[CV 2/5] END C=0.001, coef0=1, degree=2, gamma=scale, kernel=rbf, max_iter=10000;, score=0.618 total time=   0.1s\n",
      "[CV 3/5] END C=0.001, coef0=1, degree=2, gamma=scale, kernel=rbf, max_iter=10000;, score=0.618 total time=   0.1s\n",
      "[CV 4/5] END C=0.001, coef0=1, degree=2, gamma=scale, kernel=rbf, max_iter=10000;, score=0.618 total time=   0.1s\n",
      "[CV 5/5] END C=0.001, coef0=1, degree=2, gamma=scale, kernel=rbf, max_iter=10000;, score=0.616 total time=   0.1s\n",
      "[CV 1/5] END C=0.001, coef0=1, degree=2, gamma=scale, kernel=rbf, max_iter=100000;, score=0.618 total time=   0.1s\n",
      "[CV 2/5] END C=0.001, coef0=1, degree=2, gamma=scale, kernel=rbf, max_iter=100000;, score=0.618 total time=   0.1s\n",
      "[CV 3/5] END C=0.001, coef0=1, degree=2, gamma=scale, kernel=rbf, max_iter=100000;, score=0.618 total time=   0.1s\n",
      "[CV 4/5] END C=0.001, coef0=1, degree=2, gamma=scale, kernel=rbf, max_iter=100000;, score=0.618 total time=   0.1s\n",
      "[CV 5/5] END C=0.001, coef0=1, degree=2, gamma=scale, kernel=rbf, max_iter=100000;, score=0.616 total time=   0.1s\n",
      "[CV 1/5] END C=0.001, coef0=1, degree=2, gamma=scale, kernel=poly, max_iter=500;, score=0.618 total time=   0.1s\n",
      "[CV 2/5] END C=0.001, coef0=1, degree=2, gamma=scale, kernel=poly, max_iter=500;, score=0.618 total time=   0.1s\n",
      "[CV 3/5] END C=0.001, coef0=1, degree=2, gamma=scale, kernel=poly, max_iter=500;, score=0.618 total time=   0.1s\n",
      "[CV 4/5] END C=0.001, coef0=1, degree=2, gamma=scale, kernel=poly, max_iter=500;, score=0.618 total time=   0.1s\n",
      "[CV 5/5] END C=0.001, coef0=1, degree=2, gamma=scale, kernel=poly, max_iter=500;, score=0.616 total time=   0.1s\n",
      "[CV 1/5] END C=0.001, coef0=1, degree=2, gamma=scale, kernel=poly, max_iter=1000;, score=0.618 total time=   0.0s\n",
      "[CV 2/5] END C=0.001, coef0=1, degree=2, gamma=scale, kernel=poly, max_iter=1000;, score=0.618 total time=   0.0s\n",
      "[CV 3/5] END C=0.001, coef0=1, degree=2, gamma=scale, kernel=poly, max_iter=1000;, score=0.618 total time=   0.0s\n",
      "[CV 4/5] END C=0.001, coef0=1, degree=2, gamma=scale, kernel=poly, max_iter=1000;, score=0.618 total time=   0.0s\n",
      "[CV 5/5] END C=0.001, coef0=1, degree=2, gamma=scale, kernel=poly, max_iter=1000;, score=0.616 total time=   0.0s\n",
      "[CV 1/5] END C=0.001, coef0=1, degree=2, gamma=scale, kernel=poly, max_iter=10000;, score=0.618 total time=   0.0s\n",
      "[CV 2/5] END C=0.001, coef0=1, degree=2, gamma=scale, kernel=poly, max_iter=10000;, score=0.618 total time=   0.0s\n",
      "[CV 3/5] END C=0.001, coef0=1, degree=2, gamma=scale, kernel=poly, max_iter=10000;, score=0.618 total time=   0.0s\n",
      "[CV 4/5] END C=0.001, coef0=1, degree=2, gamma=scale, kernel=poly, max_iter=10000;, score=0.618 total time=   0.0s\n",
      "[CV 5/5] END C=0.001, coef0=1, degree=2, gamma=scale, kernel=poly, max_iter=10000;, score=0.616 total time=   0.0s\n",
      "[CV 1/5] END C=0.001, coef0=1, degree=2, gamma=scale, kernel=poly, max_iter=100000;, score=0.618 total time=   0.0s\n",
      "[CV 2/5] END C=0.001, coef0=1, degree=2, gamma=scale, kernel=poly, max_iter=100000;, score=0.618 total time=   0.0s\n",
      "[CV 3/5] END C=0.001, coef0=1, degree=2, gamma=scale, kernel=poly, max_iter=100000;, score=0.618 total time=   0.0s\n",
      "[CV 4/5] END C=0.001, coef0=1, degree=2, gamma=scale, kernel=poly, max_iter=100000;, score=0.618 total time=   0.0s\n",
      "[CV 5/5] END C=0.001, coef0=1, degree=2, gamma=scale, kernel=poly, max_iter=100000;, score=0.616 total time=   0.0s\n",
      "[CV 1/5] END C=0.001, coef0=1, degree=3, gamma=scale, kernel=linear, max_iter=500;, score=0.618 total time=   0.0s\n",
      "[CV 2/5] END C=0.001, coef0=1, degree=3, gamma=scale, kernel=linear, max_iter=500;, score=0.618 total time=   0.0s\n",
      "[CV 3/5] END C=0.001, coef0=1, degree=3, gamma=scale, kernel=linear, max_iter=500;, score=0.618 total time=   0.0s\n",
      "[CV 4/5] END C=0.001, coef0=1, degree=3, gamma=scale, kernel=linear, max_iter=500;, score=0.618 total time=   0.0s\n",
      "[CV 5/5] END C=0.001, coef0=1, degree=3, gamma=scale, kernel=linear, max_iter=500;, score=0.616 total time=   0.0s\n",
      "[CV 1/5] END C=0.001, coef0=1, degree=3, gamma=scale, kernel=linear, max_iter=1000;, score=0.618 total time=   0.0s\n",
      "[CV 2/5] END C=0.001, coef0=1, degree=3, gamma=scale, kernel=linear, max_iter=1000;, score=0.618 total time=   0.0s\n",
      "[CV 3/5] END C=0.001, coef0=1, degree=3, gamma=scale, kernel=linear, max_iter=1000;, score=0.618 total time=   0.0s\n",
      "[CV 4/5] END C=0.001, coef0=1, degree=3, gamma=scale, kernel=linear, max_iter=1000;, score=0.618 total time=   0.0s\n",
      "[CV 5/5] END C=0.001, coef0=1, degree=3, gamma=scale, kernel=linear, max_iter=1000;, score=0.616 total time=   0.0s\n",
      "[CV 1/5] END C=0.001, coef0=1, degree=3, gamma=scale, kernel=linear, max_iter=10000;, score=0.618 total time=   0.0s\n",
      "[CV 2/5] END C=0.001, coef0=1, degree=3, gamma=scale, kernel=linear, max_iter=10000;, score=0.618 total time=   0.0s\n",
      "[CV 3/5] END C=0.001, coef0=1, degree=3, gamma=scale, kernel=linear, max_iter=10000;, score=0.618 total time=   0.0s\n",
      "[CV 4/5] END C=0.001, coef0=1, degree=3, gamma=scale, kernel=linear, max_iter=10000;, score=0.618 total time=   0.0s\n",
      "[CV 5/5] END C=0.001, coef0=1, degree=3, gamma=scale, kernel=linear, max_iter=10000;, score=0.616 total time=   0.0s\n",
      "[CV 1/5] END C=0.001, coef0=1, degree=3, gamma=scale, kernel=linear, max_iter=100000;, score=0.618 total time=   0.0s\n",
      "[CV 2/5] END C=0.001, coef0=1, degree=3, gamma=scale, kernel=linear, max_iter=100000;, score=0.618 total time=   0.0s\n",
      "[CV 3/5] END C=0.001, coef0=1, degree=3, gamma=scale, kernel=linear, max_iter=100000;, score=0.618 total time=   0.0s\n",
      "[CV 4/5] END C=0.001, coef0=1, degree=3, gamma=scale, kernel=linear, max_iter=100000;, score=0.618 total time=   0.0s\n",
      "[CV 5/5] END C=0.001, coef0=1, degree=3, gamma=scale, kernel=linear, max_iter=100000;, score=0.616 total time=   0.0s\n",
      "[CV 1/5] END C=0.001, coef0=1, degree=3, gamma=scale, kernel=rbf, max_iter=500;, score=0.618 total time=   0.1s\n",
      "[CV 2/5] END C=0.001, coef0=1, degree=3, gamma=scale, kernel=rbf, max_iter=500;, score=0.618 total time=   0.1s\n",
      "[CV 3/5] END C=0.001, coef0=1, degree=3, gamma=scale, kernel=rbf, max_iter=500;, score=0.618 total time=   0.1s\n",
      "[CV 4/5] END C=0.001, coef0=1, degree=3, gamma=scale, kernel=rbf, max_iter=500;, score=0.618 total time=   0.1s\n",
      "[CV 5/5] END C=0.001, coef0=1, degree=3, gamma=scale, kernel=rbf, max_iter=500;, score=0.616 total time=   0.1s\n",
      "[CV 1/5] END C=0.001, coef0=1, degree=3, gamma=scale, kernel=rbf, max_iter=1000;, score=0.618 total time=   0.1s\n",
      "[CV 2/5] END C=0.001, coef0=1, degree=3, gamma=scale, kernel=rbf, max_iter=1000;, score=0.618 total time=   0.1s\n",
      "[CV 3/5] END C=0.001, coef0=1, degree=3, gamma=scale, kernel=rbf, max_iter=1000;, score=0.618 total time=   0.1s\n",
      "[CV 4/5] END C=0.001, coef0=1, degree=3, gamma=scale, kernel=rbf, max_iter=1000;, score=0.618 total time=   0.1s\n",
      "[CV 5/5] END C=0.001, coef0=1, degree=3, gamma=scale, kernel=rbf, max_iter=1000;, score=0.616 total time=   0.1s\n",
      "[CV 1/5] END C=0.001, coef0=1, degree=3, gamma=scale, kernel=rbf, max_iter=10000;, score=0.618 total time=   0.1s\n",
      "[CV 2/5] END C=0.001, coef0=1, degree=3, gamma=scale, kernel=rbf, max_iter=10000;, score=0.618 total time=   0.1s\n",
      "[CV 3/5] END C=0.001, coef0=1, degree=3, gamma=scale, kernel=rbf, max_iter=10000;, score=0.618 total time=   0.1s\n",
      "[CV 4/5] END C=0.001, coef0=1, degree=3, gamma=scale, kernel=rbf, max_iter=10000;, score=0.618 total time=   0.1s\n",
      "[CV 5/5] END C=0.001, coef0=1, degree=3, gamma=scale, kernel=rbf, max_iter=10000;, score=0.616 total time=   0.1s\n",
      "[CV 1/5] END C=0.001, coef0=1, degree=3, gamma=scale, kernel=rbf, max_iter=100000;, score=0.618 total time=   0.1s\n",
      "[CV 2/5] END C=0.001, coef0=1, degree=3, gamma=scale, kernel=rbf, max_iter=100000;, score=0.618 total time=   0.1s\n",
      "[CV 3/5] END C=0.001, coef0=1, degree=3, gamma=scale, kernel=rbf, max_iter=100000;, score=0.618 total time=   0.1s\n",
      "[CV 4/5] END C=0.001, coef0=1, degree=3, gamma=scale, kernel=rbf, max_iter=100000;, score=0.618 total time=   0.1s\n",
      "[CV 5/5] END C=0.001, coef0=1, degree=3, gamma=scale, kernel=rbf, max_iter=100000;, score=0.616 total time=   0.1s\n",
      "[CV 1/5] END C=0.001, coef0=1, degree=3, gamma=scale, kernel=poly, max_iter=500;, score=0.618 total time=   0.0s\n",
      "[CV 2/5] END C=0.001, coef0=1, degree=3, gamma=scale, kernel=poly, max_iter=500;, score=0.618 total time=   0.0s\n",
      "[CV 3/5] END C=0.001, coef0=1, degree=3, gamma=scale, kernel=poly, max_iter=500;, score=0.618 total time=   0.0s\n",
      "[CV 4/5] END C=0.001, coef0=1, degree=3, gamma=scale, kernel=poly, max_iter=500;, score=0.618 total time=   0.0s\n",
      "[CV 5/5] END C=0.001, coef0=1, degree=3, gamma=scale, kernel=poly, max_iter=500;, score=0.616 total time=   0.0s\n",
      "[CV 1/5] END C=0.001, coef0=1, degree=3, gamma=scale, kernel=poly, max_iter=1000;, score=0.618 total time=   0.0s\n",
      "[CV 2/5] END C=0.001, coef0=1, degree=3, gamma=scale, kernel=poly, max_iter=1000;, score=0.618 total time=   0.0s\n",
      "[CV 3/5] END C=0.001, coef0=1, degree=3, gamma=scale, kernel=poly, max_iter=1000;, score=0.618 total time=   0.0s\n",
      "[CV 4/5] END C=0.001, coef0=1, degree=3, gamma=scale, kernel=poly, max_iter=1000;, score=0.618 total time=   0.0s\n",
      "[CV 5/5] END C=0.001, coef0=1, degree=3, gamma=scale, kernel=poly, max_iter=1000;, score=0.616 total time=   0.0s\n",
      "[CV 1/5] END C=0.001, coef0=1, degree=3, gamma=scale, kernel=poly, max_iter=10000;, score=0.618 total time=   0.0s\n",
      "[CV 2/5] END C=0.001, coef0=1, degree=3, gamma=scale, kernel=poly, max_iter=10000;, score=0.618 total time=   0.0s\n",
      "[CV 3/5] END C=0.001, coef0=1, degree=3, gamma=scale, kernel=poly, max_iter=10000;, score=0.618 total time=   0.0s\n",
      "[CV 4/5] END C=0.001, coef0=1, degree=3, gamma=scale, kernel=poly, max_iter=10000;, score=0.618 total time=   0.0s\n",
      "[CV 5/5] END C=0.001, coef0=1, degree=3, gamma=scale, kernel=poly, max_iter=10000;, score=0.616 total time=   0.0s\n",
      "[CV 1/5] END C=0.001, coef0=1, degree=3, gamma=scale, kernel=poly, max_iter=100000;, score=0.618 total time=   0.0s\n",
      "[CV 2/5] END C=0.001, coef0=1, degree=3, gamma=scale, kernel=poly, max_iter=100000;, score=0.618 total time=   0.0s\n",
      "[CV 3/5] END C=0.001, coef0=1, degree=3, gamma=scale, kernel=poly, max_iter=100000;, score=0.618 total time=   0.0s\n",
      "[CV 4/5] END C=0.001, coef0=1, degree=3, gamma=scale, kernel=poly, max_iter=100000;, score=0.618 total time=   0.0s\n",
      "[CV 5/5] END C=0.001, coef0=1, degree=3, gamma=scale, kernel=poly, max_iter=100000;, score=0.616 total time=   0.0s\n",
      "[CV 1/5] END C=0.001, coef0=1, degree=4, gamma=scale, kernel=linear, max_iter=500;, score=0.618 total time=   0.0s\n",
      "[CV 2/5] END C=0.001, coef0=1, degree=4, gamma=scale, kernel=linear, max_iter=500;, score=0.618 total time=   0.0s\n",
      "[CV 3/5] END C=0.001, coef0=1, degree=4, gamma=scale, kernel=linear, max_iter=500;, score=0.618 total time=   0.0s\n",
      "[CV 4/5] END C=0.001, coef0=1, degree=4, gamma=scale, kernel=linear, max_iter=500;, score=0.618 total time=   0.0s\n",
      "[CV 5/5] END C=0.001, coef0=1, degree=4, gamma=scale, kernel=linear, max_iter=500;, score=0.616 total time=   0.0s\n",
      "[CV 1/5] END C=0.001, coef0=1, degree=4, gamma=scale, kernel=linear, max_iter=1000;, score=0.618 total time=   0.0s\n",
      "[CV 2/5] END C=0.001, coef0=1, degree=4, gamma=scale, kernel=linear, max_iter=1000;, score=0.618 total time=   0.0s\n",
      "[CV 3/5] END C=0.001, coef0=1, degree=4, gamma=scale, kernel=linear, max_iter=1000;, score=0.618 total time=   0.0s\n",
      "[CV 4/5] END C=0.001, coef0=1, degree=4, gamma=scale, kernel=linear, max_iter=1000;, score=0.618 total time=   0.0s\n",
      "[CV 5/5] END C=0.001, coef0=1, degree=4, gamma=scale, kernel=linear, max_iter=1000;, score=0.616 total time=   0.0s\n",
      "[CV 1/5] END C=0.001, coef0=1, degree=4, gamma=scale, kernel=linear, max_iter=10000;, score=0.618 total time=   0.0s\n",
      "[CV 2/5] END C=0.001, coef0=1, degree=4, gamma=scale, kernel=linear, max_iter=10000;, score=0.618 total time=   0.0s\n",
      "[CV 3/5] END C=0.001, coef0=1, degree=4, gamma=scale, kernel=linear, max_iter=10000;, score=0.618 total time=   0.0s\n",
      "[CV 4/5] END C=0.001, coef0=1, degree=4, gamma=scale, kernel=linear, max_iter=10000;, score=0.618 total time=   0.0s\n",
      "[CV 5/5] END C=0.001, coef0=1, degree=4, gamma=scale, kernel=linear, max_iter=10000;, score=0.616 total time=   0.0s\n",
      "[CV 1/5] END C=0.001, coef0=1, degree=4, gamma=scale, kernel=linear, max_iter=100000;, score=0.618 total time=   0.0s\n",
      "[CV 2/5] END C=0.001, coef0=1, degree=4, gamma=scale, kernel=linear, max_iter=100000;, score=0.618 total time=   0.0s\n",
      "[CV 3/5] END C=0.001, coef0=1, degree=4, gamma=scale, kernel=linear, max_iter=100000;, score=0.618 total time=   0.0s\n",
      "[CV 4/5] END C=0.001, coef0=1, degree=4, gamma=scale, kernel=linear, max_iter=100000;, score=0.618 total time=   0.0s\n",
      "[CV 5/5] END C=0.001, coef0=1, degree=4, gamma=scale, kernel=linear, max_iter=100000;, score=0.616 total time=   0.0s\n",
      "[CV 1/5] END C=0.001, coef0=1, degree=4, gamma=scale, kernel=rbf, max_iter=500;, score=0.618 total time=   0.1s\n",
      "[CV 2/5] END C=0.001, coef0=1, degree=4, gamma=scale, kernel=rbf, max_iter=500;, score=0.618 total time=   0.1s\n",
      "[CV 3/5] END C=0.001, coef0=1, degree=4, gamma=scale, kernel=rbf, max_iter=500;, score=0.618 total time=   0.1s\n",
      "[CV 4/5] END C=0.001, coef0=1, degree=4, gamma=scale, kernel=rbf, max_iter=500;, score=0.618 total time=   0.1s\n",
      "[CV 5/5] END C=0.001, coef0=1, degree=4, gamma=scale, kernel=rbf, max_iter=500;, score=0.616 total time=   0.1s\n",
      "[CV 1/5] END C=0.001, coef0=1, degree=4, gamma=scale, kernel=rbf, max_iter=1000;, score=0.618 total time=   0.1s\n",
      "[CV 2/5] END C=0.001, coef0=1, degree=4, gamma=scale, kernel=rbf, max_iter=1000;, score=0.618 total time=   0.1s\n",
      "[CV 3/5] END C=0.001, coef0=1, degree=4, gamma=scale, kernel=rbf, max_iter=1000;, score=0.618 total time=   0.1s\n",
      "[CV 4/5] END C=0.001, coef0=1, degree=4, gamma=scale, kernel=rbf, max_iter=1000;, score=0.618 total time=   0.1s\n",
      "[CV 5/5] END C=0.001, coef0=1, degree=4, gamma=scale, kernel=rbf, max_iter=1000;, score=0.616 total time=   0.1s\n",
      "[CV 1/5] END C=0.001, coef0=1, degree=4, gamma=scale, kernel=rbf, max_iter=10000;, score=0.618 total time=   0.1s\n",
      "[CV 2/5] END C=0.001, coef0=1, degree=4, gamma=scale, kernel=rbf, max_iter=10000;, score=0.618 total time=   0.1s\n",
      "[CV 3/5] END C=0.001, coef0=1, degree=4, gamma=scale, kernel=rbf, max_iter=10000;, score=0.618 total time=   0.1s\n",
      "[CV 4/5] END C=0.001, coef0=1, degree=4, gamma=scale, kernel=rbf, max_iter=10000;, score=0.618 total time=   0.1s\n",
      "[CV 5/5] END C=0.001, coef0=1, degree=4, gamma=scale, kernel=rbf, max_iter=10000;, score=0.616 total time=   0.1s\n",
      "[CV 1/5] END C=0.001, coef0=1, degree=4, gamma=scale, kernel=rbf, max_iter=100000;, score=0.618 total time=   0.1s\n",
      "[CV 2/5] END C=0.001, coef0=1, degree=4, gamma=scale, kernel=rbf, max_iter=100000;, score=0.618 total time=   0.1s\n",
      "[CV 3/5] END C=0.001, coef0=1, degree=4, gamma=scale, kernel=rbf, max_iter=100000;, score=0.618 total time=   0.1s\n",
      "[CV 4/5] END C=0.001, coef0=1, degree=4, gamma=scale, kernel=rbf, max_iter=100000;, score=0.618 total time=   0.1s\n",
      "[CV 5/5] END C=0.001, coef0=1, degree=4, gamma=scale, kernel=rbf, max_iter=100000;, score=0.616 total time=   0.1s\n",
      "[CV 1/5] END C=0.001, coef0=1, degree=4, gamma=scale, kernel=poly, max_iter=500;, score=0.680 total time=   0.0s\n",
      "[CV 2/5] END C=0.001, coef0=1, degree=4, gamma=scale, kernel=poly, max_iter=500;, score=0.736 total time=   0.0s\n",
      "[CV 3/5] END C=0.001, coef0=1, degree=4, gamma=scale, kernel=poly, max_iter=500;, score=0.685 total time=   0.0s\n",
      "[CV 4/5] END C=0.001, coef0=1, degree=4, gamma=scale, kernel=poly, max_iter=500;, score=0.713 total time=   0.0s\n",
      "[CV 5/5] END C=0.001, coef0=1, degree=4, gamma=scale, kernel=poly, max_iter=500;, score=0.746 total time=   0.0s\n",
      "[CV 1/5] END C=0.001, coef0=1, degree=4, gamma=scale, kernel=poly, max_iter=1000;, score=0.680 total time=   0.0s\n",
      "[CV 2/5] END C=0.001, coef0=1, degree=4, gamma=scale, kernel=poly, max_iter=1000;, score=0.736 total time=   0.0s\n",
      "[CV 3/5] END C=0.001, coef0=1, degree=4, gamma=scale, kernel=poly, max_iter=1000;, score=0.685 total time=   0.0s\n",
      "[CV 4/5] END C=0.001, coef0=1, degree=4, gamma=scale, kernel=poly, max_iter=1000;, score=0.713 total time=   0.0s\n",
      "[CV 5/5] END C=0.001, coef0=1, degree=4, gamma=scale, kernel=poly, max_iter=1000;, score=0.746 total time=   0.0s\n",
      "[CV 1/5] END C=0.001, coef0=1, degree=4, gamma=scale, kernel=poly, max_iter=10000;, score=0.680 total time=   0.0s\n",
      "[CV 2/5] END C=0.001, coef0=1, degree=4, gamma=scale, kernel=poly, max_iter=10000;, score=0.736 total time=   0.0s\n",
      "[CV 3/5] END C=0.001, coef0=1, degree=4, gamma=scale, kernel=poly, max_iter=10000;, score=0.685 total time=   0.0s\n",
      "[CV 4/5] END C=0.001, coef0=1, degree=4, gamma=scale, kernel=poly, max_iter=10000;, score=0.713 total time=   0.0s\n",
      "[CV 5/5] END C=0.001, coef0=1, degree=4, gamma=scale, kernel=poly, max_iter=10000;, score=0.746 total time=   0.0s\n",
      "[CV 1/5] END C=0.001, coef0=1, degree=4, gamma=scale, kernel=poly, max_iter=100000;, score=0.680 total time=   0.0s\n",
      "[CV 2/5] END C=0.001, coef0=1, degree=4, gamma=scale, kernel=poly, max_iter=100000;, score=0.736 total time=   0.0s\n",
      "[CV 3/5] END C=0.001, coef0=1, degree=4, gamma=scale, kernel=poly, max_iter=100000;, score=0.685 total time=   0.0s\n",
      "[CV 4/5] END C=0.001, coef0=1, degree=4, gamma=scale, kernel=poly, max_iter=100000;, score=0.713 total time=   0.0s\n",
      "[CV 5/5] END C=0.001, coef0=1, degree=4, gamma=scale, kernel=poly, max_iter=100000;, score=0.746 total time=   0.0s\n",
      "[CV 1/5] END C=0.001, coef0=1, degree=5, gamma=scale, kernel=linear, max_iter=500;, score=0.618 total time=   0.0s\n",
      "[CV 2/5] END C=0.001, coef0=1, degree=5, gamma=scale, kernel=linear, max_iter=500;, score=0.618 total time=   0.0s\n",
      "[CV 3/5] END C=0.001, coef0=1, degree=5, gamma=scale, kernel=linear, max_iter=500;, score=0.618 total time=   0.0s\n",
      "[CV 4/5] END C=0.001, coef0=1, degree=5, gamma=scale, kernel=linear, max_iter=500;, score=0.618 total time=   0.0s\n",
      "[CV 5/5] END C=0.001, coef0=1, degree=5, gamma=scale, kernel=linear, max_iter=500;, score=0.616 total time=   0.0s\n",
      "[CV 1/5] END C=0.001, coef0=1, degree=5, gamma=scale, kernel=linear, max_iter=1000;, score=0.618 total time=   0.0s\n",
      "[CV 2/5] END C=0.001, coef0=1, degree=5, gamma=scale, kernel=linear, max_iter=1000;, score=0.618 total time=   0.0s\n",
      "[CV 3/5] END C=0.001, coef0=1, degree=5, gamma=scale, kernel=linear, max_iter=1000;, score=0.618 total time=   0.0s\n",
      "[CV 4/5] END C=0.001, coef0=1, degree=5, gamma=scale, kernel=linear, max_iter=1000;, score=0.618 total time=   0.0s\n",
      "[CV 5/5] END C=0.001, coef0=1, degree=5, gamma=scale, kernel=linear, max_iter=1000;, score=0.616 total time=   0.0s\n",
      "[CV 1/5] END C=0.001, coef0=1, degree=5, gamma=scale, kernel=linear, max_iter=10000;, score=0.618 total time=   0.0s\n",
      "[CV 2/5] END C=0.001, coef0=1, degree=5, gamma=scale, kernel=linear, max_iter=10000;, score=0.618 total time=   0.0s\n",
      "[CV 3/5] END C=0.001, coef0=1, degree=5, gamma=scale, kernel=linear, max_iter=10000;, score=0.618 total time=   0.0s\n",
      "[CV 4/5] END C=0.001, coef0=1, degree=5, gamma=scale, kernel=linear, max_iter=10000;, score=0.618 total time=   0.0s\n",
      "[CV 5/5] END C=0.001, coef0=1, degree=5, gamma=scale, kernel=linear, max_iter=10000;, score=0.616 total time=   0.0s\n",
      "[CV 1/5] END C=0.001, coef0=1, degree=5, gamma=scale, kernel=linear, max_iter=100000;, score=0.618 total time=   0.0s\n",
      "[CV 2/5] END C=0.001, coef0=1, degree=5, gamma=scale, kernel=linear, max_iter=100000;, score=0.618 total time=   0.0s\n",
      "[CV 3/5] END C=0.001, coef0=1, degree=5, gamma=scale, kernel=linear, max_iter=100000;, score=0.618 total time=   0.0s\n",
      "[CV 4/5] END C=0.001, coef0=1, degree=5, gamma=scale, kernel=linear, max_iter=100000;, score=0.618 total time=   0.0s\n",
      "[CV 5/5] END C=0.001, coef0=1, degree=5, gamma=scale, kernel=linear, max_iter=100000;, score=0.616 total time=   0.0s\n",
      "[CV 1/5] END C=0.001, coef0=1, degree=5, gamma=scale, kernel=rbf, max_iter=500;, score=0.618 total time=   0.1s\n",
      "[CV 2/5] END C=0.001, coef0=1, degree=5, gamma=scale, kernel=rbf, max_iter=500;, score=0.618 total time=   0.1s\n",
      "[CV 3/5] END C=0.001, coef0=1, degree=5, gamma=scale, kernel=rbf, max_iter=500;, score=0.618 total time=   0.1s\n",
      "[CV 4/5] END C=0.001, coef0=1, degree=5, gamma=scale, kernel=rbf, max_iter=500;, score=0.618 total time=   0.1s\n",
      "[CV 5/5] END C=0.001, coef0=1, degree=5, gamma=scale, kernel=rbf, max_iter=500;, score=0.616 total time=   0.1s\n",
      "[CV 1/5] END C=0.001, coef0=1, degree=5, gamma=scale, kernel=rbf, max_iter=1000;, score=0.618 total time=   0.1s\n",
      "[CV 2/5] END C=0.001, coef0=1, degree=5, gamma=scale, kernel=rbf, max_iter=1000;, score=0.618 total time=   0.1s\n",
      "[CV 3/5] END C=0.001, coef0=1, degree=5, gamma=scale, kernel=rbf, max_iter=1000;, score=0.618 total time=   0.1s\n",
      "[CV 4/5] END C=0.001, coef0=1, degree=5, gamma=scale, kernel=rbf, max_iter=1000;, score=0.618 total time=   0.1s\n",
      "[CV 5/5] END C=0.001, coef0=1, degree=5, gamma=scale, kernel=rbf, max_iter=1000;, score=0.616 total time=   0.1s\n",
      "[CV 1/5] END C=0.001, coef0=1, degree=5, gamma=scale, kernel=rbf, max_iter=10000;, score=0.618 total time=   0.1s\n",
      "[CV 2/5] END C=0.001, coef0=1, degree=5, gamma=scale, kernel=rbf, max_iter=10000;, score=0.618 total time=   0.1s\n",
      "[CV 3/5] END C=0.001, coef0=1, degree=5, gamma=scale, kernel=rbf, max_iter=10000;, score=0.618 total time=   0.1s\n",
      "[CV 4/5] END C=0.001, coef0=1, degree=5, gamma=scale, kernel=rbf, max_iter=10000;, score=0.618 total time=   0.1s\n",
      "[CV 5/5] END C=0.001, coef0=1, degree=5, gamma=scale, kernel=rbf, max_iter=10000;, score=0.616 total time=   0.1s\n",
      "[CV 1/5] END C=0.001, coef0=1, degree=5, gamma=scale, kernel=rbf, max_iter=100000;, score=0.618 total time=   0.1s\n",
      "[CV 2/5] END C=0.001, coef0=1, degree=5, gamma=scale, kernel=rbf, max_iter=100000;, score=0.618 total time=   0.1s\n",
      "[CV 3/5] END C=0.001, coef0=1, degree=5, gamma=scale, kernel=rbf, max_iter=100000;, score=0.618 total time=   0.1s\n",
      "[CV 4/5] END C=0.001, coef0=1, degree=5, gamma=scale, kernel=rbf, max_iter=100000;, score=0.618 total time=   0.1s\n",
      "[CV 5/5] END C=0.001, coef0=1, degree=5, gamma=scale, kernel=rbf, max_iter=100000;, score=0.616 total time=   0.1s\n",
      "[CV 1/5] END C=0.001, coef0=1, degree=5, gamma=scale, kernel=poly, max_iter=500;, score=0.753 total time=   0.0s\n",
      "[CV 2/5] END C=0.001, coef0=1, degree=5, gamma=scale, kernel=poly, max_iter=500;, score=0.820 total time=   0.0s\n",
      "[CV 3/5] END C=0.001, coef0=1, degree=5, gamma=scale, kernel=poly, max_iter=500;, score=0.809 total time=   0.0s\n",
      "[CV 4/5] END C=0.001, coef0=1, degree=5, gamma=scale, kernel=poly, max_iter=500;, score=0.764 total time=   0.0s\n",
      "[CV 5/5] END C=0.001, coef0=1, degree=5, gamma=scale, kernel=poly, max_iter=500;, score=0.808 total time=   0.0s\n",
      "[CV 1/5] END C=0.001, coef0=1, degree=5, gamma=scale, kernel=poly, max_iter=1000;, score=0.753 total time=   0.0s\n",
      "[CV 2/5] END C=0.001, coef0=1, degree=5, gamma=scale, kernel=poly, max_iter=1000;, score=0.820 total time=   0.0s\n",
      "[CV 3/5] END C=0.001, coef0=1, degree=5, gamma=scale, kernel=poly, max_iter=1000;, score=0.809 total time=   0.0s\n",
      "[CV 4/5] END C=0.001, coef0=1, degree=5, gamma=scale, kernel=poly, max_iter=1000;, score=0.764 total time=   0.0s\n",
      "[CV 5/5] END C=0.001, coef0=1, degree=5, gamma=scale, kernel=poly, max_iter=1000;, score=0.808 total time=   0.0s\n",
      "[CV 1/5] END C=0.001, coef0=1, degree=5, gamma=scale, kernel=poly, max_iter=10000;, score=0.753 total time=   0.0s\n",
      "[CV 2/5] END C=0.001, coef0=1, degree=5, gamma=scale, kernel=poly, max_iter=10000;, score=0.820 total time=   0.0s\n",
      "[CV 3/5] END C=0.001, coef0=1, degree=5, gamma=scale, kernel=poly, max_iter=10000;, score=0.809 total time=   0.0s\n",
      "[CV 4/5] END C=0.001, coef0=1, degree=5, gamma=scale, kernel=poly, max_iter=10000;, score=0.764 total time=   0.0s\n",
      "[CV 5/5] END C=0.001, coef0=1, degree=5, gamma=scale, kernel=poly, max_iter=10000;, score=0.808 total time=   0.0s\n",
      "[CV 1/5] END C=0.001, coef0=1, degree=5, gamma=scale, kernel=poly, max_iter=100000;, score=0.753 total time=   0.0s\n",
      "[CV 2/5] END C=0.001, coef0=1, degree=5, gamma=scale, kernel=poly, max_iter=100000;, score=0.820 total time=   0.0s\n",
      "[CV 3/5] END C=0.001, coef0=1, degree=5, gamma=scale, kernel=poly, max_iter=100000;, score=0.809 total time=   0.0s\n",
      "[CV 4/5] END C=0.001, coef0=1, degree=5, gamma=scale, kernel=poly, max_iter=100000;, score=0.764 total time=   0.0s\n",
      "[CV 5/5] END C=0.001, coef0=1, degree=5, gamma=scale, kernel=poly, max_iter=100000;, score=0.808 total time=   0.0s\n",
      "[CV 1/5] END C=0.001, coef0=10, degree=2, gamma=scale, kernel=linear, max_iter=500;, score=0.618 total time=   0.0s\n",
      "[CV 2/5] END C=0.001, coef0=10, degree=2, gamma=scale, kernel=linear, max_iter=500;, score=0.618 total time=   0.0s\n",
      "[CV 3/5] END C=0.001, coef0=10, degree=2, gamma=scale, kernel=linear, max_iter=500;, score=0.618 total time=   0.0s\n",
      "[CV 4/5] END C=0.001, coef0=10, degree=2, gamma=scale, kernel=linear, max_iter=500;, score=0.618 total time=   0.0s\n",
      "[CV 5/5] END C=0.001, coef0=10, degree=2, gamma=scale, kernel=linear, max_iter=500;, score=0.616 total time=   0.0s\n",
      "[CV 1/5] END C=0.001, coef0=10, degree=2, gamma=scale, kernel=linear, max_iter=1000;, score=0.618 total time=   0.0s\n",
      "[CV 2/5] END C=0.001, coef0=10, degree=2, gamma=scale, kernel=linear, max_iter=1000;, score=0.618 total time=   0.0s\n",
      "[CV 3/5] END C=0.001, coef0=10, degree=2, gamma=scale, kernel=linear, max_iter=1000;, score=0.618 total time=   0.0s\n",
      "[CV 4/5] END C=0.001, coef0=10, degree=2, gamma=scale, kernel=linear, max_iter=1000;, score=0.618 total time=   0.0s\n",
      "[CV 5/5] END C=0.001, coef0=10, degree=2, gamma=scale, kernel=linear, max_iter=1000;, score=0.616 total time=   0.0s\n",
      "[CV 1/5] END C=0.001, coef0=10, degree=2, gamma=scale, kernel=linear, max_iter=10000;, score=0.618 total time=   0.0s\n",
      "[CV 2/5] END C=0.001, coef0=10, degree=2, gamma=scale, kernel=linear, max_iter=10000;, score=0.618 total time=   0.0s\n",
      "[CV 3/5] END C=0.001, coef0=10, degree=2, gamma=scale, kernel=linear, max_iter=10000;, score=0.618 total time=   0.0s\n",
      "[CV 4/5] END C=0.001, coef0=10, degree=2, gamma=scale, kernel=linear, max_iter=10000;, score=0.618 total time=   0.0s\n",
      "[CV 5/5] END C=0.001, coef0=10, degree=2, gamma=scale, kernel=linear, max_iter=10000;, score=0.616 total time=   0.0s\n",
      "[CV 1/5] END C=0.001, coef0=10, degree=2, gamma=scale, kernel=linear, max_iter=100000;, score=0.618 total time=   0.0s\n",
      "[CV 2/5] END C=0.001, coef0=10, degree=2, gamma=scale, kernel=linear, max_iter=100000;, score=0.618 total time=   0.0s\n",
      "[CV 3/5] END C=0.001, coef0=10, degree=2, gamma=scale, kernel=linear, max_iter=100000;, score=0.618 total time=   0.0s\n",
      "[CV 4/5] END C=0.001, coef0=10, degree=2, gamma=scale, kernel=linear, max_iter=100000;, score=0.618 total time=   0.0s\n",
      "[CV 5/5] END C=0.001, coef0=10, degree=2, gamma=scale, kernel=linear, max_iter=100000;, score=0.616 total time=   0.0s\n",
      "[CV 1/5] END C=0.001, coef0=10, degree=2, gamma=scale, kernel=rbf, max_iter=500;, score=0.618 total time=   0.1s\n",
      "[CV 2/5] END C=0.001, coef0=10, degree=2, gamma=scale, kernel=rbf, max_iter=500;, score=0.618 total time=   0.1s\n",
      "[CV 3/5] END C=0.001, coef0=10, degree=2, gamma=scale, kernel=rbf, max_iter=500;, score=0.618 total time=   0.1s\n",
      "[CV 4/5] END C=0.001, coef0=10, degree=2, gamma=scale, kernel=rbf, max_iter=500;, score=0.618 total time=   0.1s\n",
      "[CV 5/5] END C=0.001, coef0=10, degree=2, gamma=scale, kernel=rbf, max_iter=500;, score=0.616 total time=   0.1s\n",
      "[CV 1/5] END C=0.001, coef0=10, degree=2, gamma=scale, kernel=rbf, max_iter=1000;, score=0.618 total time=   0.1s\n",
      "[CV 2/5] END C=0.001, coef0=10, degree=2, gamma=scale, kernel=rbf, max_iter=1000;, score=0.618 total time=   0.1s\n",
      "[CV 3/5] END C=0.001, coef0=10, degree=2, gamma=scale, kernel=rbf, max_iter=1000;, score=0.618 total time=   0.1s\n",
      "[CV 4/5] END C=0.001, coef0=10, degree=2, gamma=scale, kernel=rbf, max_iter=1000;, score=0.618 total time=   0.1s\n",
      "[CV 5/5] END C=0.001, coef0=10, degree=2, gamma=scale, kernel=rbf, max_iter=1000;, score=0.616 total time=   0.1s\n",
      "[CV 1/5] END C=0.001, coef0=10, degree=2, gamma=scale, kernel=rbf, max_iter=10000;, score=0.618 total time=   0.1s\n",
      "[CV 2/5] END C=0.001, coef0=10, degree=2, gamma=scale, kernel=rbf, max_iter=10000;, score=0.618 total time=   0.1s\n",
      "[CV 3/5] END C=0.001, coef0=10, degree=2, gamma=scale, kernel=rbf, max_iter=10000;, score=0.618 total time=   0.1s\n",
      "[CV 4/5] END C=0.001, coef0=10, degree=2, gamma=scale, kernel=rbf, max_iter=10000;, score=0.618 total time=   0.1s\n",
      "[CV 5/5] END C=0.001, coef0=10, degree=2, gamma=scale, kernel=rbf, max_iter=10000;, score=0.616 total time=   0.1s\n",
      "[CV 1/5] END C=0.001, coef0=10, degree=2, gamma=scale, kernel=rbf, max_iter=100000;, score=0.618 total time=   0.1s\n",
      "[CV 2/5] END C=0.001, coef0=10, degree=2, gamma=scale, kernel=rbf, max_iter=100000;, score=0.618 total time=   0.1s\n",
      "[CV 3/5] END C=0.001, coef0=10, degree=2, gamma=scale, kernel=rbf, max_iter=100000;, score=0.618 total time=   0.1s\n",
      "[CV 4/5] END C=0.001, coef0=10, degree=2, gamma=scale, kernel=rbf, max_iter=100000;, score=0.618 total time=   0.1s\n",
      "[CV 5/5] END C=0.001, coef0=10, degree=2, gamma=scale, kernel=rbf, max_iter=100000;, score=0.616 total time=   0.1s\n",
      "[CV 1/5] END C=0.001, coef0=10, degree=2, gamma=scale, kernel=poly, max_iter=500;, score=0.618 total time=   0.0s\n",
      "[CV 2/5] END C=0.001, coef0=10, degree=2, gamma=scale, kernel=poly, max_iter=500;, score=0.618 total time=   0.0s\n",
      "[CV 3/5] END C=0.001, coef0=10, degree=2, gamma=scale, kernel=poly, max_iter=500;, score=0.618 total time=   0.0s\n",
      "[CV 4/5] END C=0.001, coef0=10, degree=2, gamma=scale, kernel=poly, max_iter=500;, score=0.618 total time=   0.0s\n",
      "[CV 5/5] END C=0.001, coef0=10, degree=2, gamma=scale, kernel=poly, max_iter=500;, score=0.616 total time=   0.0s\n",
      "[CV 1/5] END C=0.001, coef0=10, degree=2, gamma=scale, kernel=poly, max_iter=1000;, score=0.618 total time=   0.0s\n",
      "[CV 2/5] END C=0.001, coef0=10, degree=2, gamma=scale, kernel=poly, max_iter=1000;, score=0.618 total time=   0.0s\n",
      "[CV 3/5] END C=0.001, coef0=10, degree=2, gamma=scale, kernel=poly, max_iter=1000;, score=0.618 total time=   0.0s\n",
      "[CV 4/5] END C=0.001, coef0=10, degree=2, gamma=scale, kernel=poly, max_iter=1000;, score=0.618 total time=   0.0s\n",
      "[CV 5/5] END C=0.001, coef0=10, degree=2, gamma=scale, kernel=poly, max_iter=1000;, score=0.616 total time=   0.0s\n",
      "[CV 1/5] END C=0.001, coef0=10, degree=2, gamma=scale, kernel=poly, max_iter=10000;, score=0.618 total time=   0.0s\n",
      "[CV 2/5] END C=0.001, coef0=10, degree=2, gamma=scale, kernel=poly, max_iter=10000;, score=0.618 total time=   0.0s\n",
      "[CV 3/5] END C=0.001, coef0=10, degree=2, gamma=scale, kernel=poly, max_iter=10000;, score=0.618 total time=   0.0s\n",
      "[CV 4/5] END C=0.001, coef0=10, degree=2, gamma=scale, kernel=poly, max_iter=10000;, score=0.618 total time=   0.0s\n",
      "[CV 5/5] END C=0.001, coef0=10, degree=2, gamma=scale, kernel=poly, max_iter=10000;, score=0.616 total time=   0.0s\n",
      "[CV 1/5] END C=0.001, coef0=10, degree=2, gamma=scale, kernel=poly, max_iter=100000;, score=0.618 total time=   0.0s\n",
      "[CV 2/5] END C=0.001, coef0=10, degree=2, gamma=scale, kernel=poly, max_iter=100000;, score=0.618 total time=   0.0s\n",
      "[CV 3/5] END C=0.001, coef0=10, degree=2, gamma=scale, kernel=poly, max_iter=100000;, score=0.618 total time=   0.0s\n",
      "[CV 4/5] END C=0.001, coef0=10, degree=2, gamma=scale, kernel=poly, max_iter=100000;, score=0.618 total time=   0.0s\n",
      "[CV 5/5] END C=0.001, coef0=10, degree=2, gamma=scale, kernel=poly, max_iter=100000;, score=0.616 total time=   0.0s\n",
      "[CV 1/5] END C=0.001, coef0=10, degree=3, gamma=scale, kernel=linear, max_iter=500;, score=0.618 total time=   0.0s\n",
      "[CV 2/5] END C=0.001, coef0=10, degree=3, gamma=scale, kernel=linear, max_iter=500;, score=0.618 total time=   0.0s\n",
      "[CV 3/5] END C=0.001, coef0=10, degree=3, gamma=scale, kernel=linear, max_iter=500;, score=0.618 total time=   0.0s\n",
      "[CV 4/5] END C=0.001, coef0=10, degree=3, gamma=scale, kernel=linear, max_iter=500;, score=0.618 total time=   0.0s\n",
      "[CV 5/5] END C=0.001, coef0=10, degree=3, gamma=scale, kernel=linear, max_iter=500;, score=0.616 total time=   0.0s\n",
      "[CV 1/5] END C=0.001, coef0=10, degree=3, gamma=scale, kernel=linear, max_iter=1000;, score=0.618 total time=   0.0s\n",
      "[CV 2/5] END C=0.001, coef0=10, degree=3, gamma=scale, kernel=linear, max_iter=1000;, score=0.618 total time=   0.0s\n",
      "[CV 3/5] END C=0.001, coef0=10, degree=3, gamma=scale, kernel=linear, max_iter=1000;, score=0.618 total time=   0.0s\n",
      "[CV 4/5] END C=0.001, coef0=10, degree=3, gamma=scale, kernel=linear, max_iter=1000;, score=0.618 total time=   0.0s\n",
      "[CV 5/5] END C=0.001, coef0=10, degree=3, gamma=scale, kernel=linear, max_iter=1000;, score=0.616 total time=   0.0s\n",
      "[CV 1/5] END C=0.001, coef0=10, degree=3, gamma=scale, kernel=linear, max_iter=10000;, score=0.618 total time=   0.0s\n",
      "[CV 2/5] END C=0.001, coef0=10, degree=3, gamma=scale, kernel=linear, max_iter=10000;, score=0.618 total time=   0.0s\n",
      "[CV 3/5] END C=0.001, coef0=10, degree=3, gamma=scale, kernel=linear, max_iter=10000;, score=0.618 total time=   0.0s\n",
      "[CV 4/5] END C=0.001, coef0=10, degree=3, gamma=scale, kernel=linear, max_iter=10000;, score=0.618 total time=   0.0s\n",
      "[CV 5/5] END C=0.001, coef0=10, degree=3, gamma=scale, kernel=linear, max_iter=10000;, score=0.616 total time=   0.0s\n",
      "[CV 1/5] END C=0.001, coef0=10, degree=3, gamma=scale, kernel=linear, max_iter=100000;, score=0.618 total time=   0.0s\n",
      "[CV 2/5] END C=0.001, coef0=10, degree=3, gamma=scale, kernel=linear, max_iter=100000;, score=0.618 total time=   0.0s\n",
      "[CV 3/5] END C=0.001, coef0=10, degree=3, gamma=scale, kernel=linear, max_iter=100000;, score=0.618 total time=   0.0s\n",
      "[CV 4/5] END C=0.001, coef0=10, degree=3, gamma=scale, kernel=linear, max_iter=100000;, score=0.618 total time=   0.0s\n",
      "[CV 5/5] END C=0.001, coef0=10, degree=3, gamma=scale, kernel=linear, max_iter=100000;, score=0.616 total time=   0.0s\n",
      "[CV 1/5] END C=0.001, coef0=10, degree=3, gamma=scale, kernel=rbf, max_iter=500;, score=0.618 total time=   0.1s\n",
      "[CV 2/5] END C=0.001, coef0=10, degree=3, gamma=scale, kernel=rbf, max_iter=500;, score=0.618 total time=   0.1s\n",
      "[CV 3/5] END C=0.001, coef0=10, degree=3, gamma=scale, kernel=rbf, max_iter=500;, score=0.618 total time=   0.1s\n",
      "[CV 4/5] END C=0.001, coef0=10, degree=3, gamma=scale, kernel=rbf, max_iter=500;, score=0.618 total time=   0.1s\n",
      "[CV 5/5] END C=0.001, coef0=10, degree=3, gamma=scale, kernel=rbf, max_iter=500;, score=0.616 total time=   0.1s\n",
      "[CV 1/5] END C=0.001, coef0=10, degree=3, gamma=scale, kernel=rbf, max_iter=1000;, score=0.618 total time=   0.1s\n",
      "[CV 2/5] END C=0.001, coef0=10, degree=3, gamma=scale, kernel=rbf, max_iter=1000;, score=0.618 total time=   0.1s\n",
      "[CV 3/5] END C=0.001, coef0=10, degree=3, gamma=scale, kernel=rbf, max_iter=1000;, score=0.618 total time=   0.1s\n",
      "[CV 4/5] END C=0.001, coef0=10, degree=3, gamma=scale, kernel=rbf, max_iter=1000;, score=0.618 total time=   0.1s\n",
      "[CV 5/5] END C=0.001, coef0=10, degree=3, gamma=scale, kernel=rbf, max_iter=1000;, score=0.616 total time=   0.1s\n",
      "[CV 1/5] END C=0.001, coef0=10, degree=3, gamma=scale, kernel=rbf, max_iter=10000;, score=0.618 total time=   0.1s\n",
      "[CV 2/5] END C=0.001, coef0=10, degree=3, gamma=scale, kernel=rbf, max_iter=10000;, score=0.618 total time=   0.1s\n",
      "[CV 3/5] END C=0.001, coef0=10, degree=3, gamma=scale, kernel=rbf, max_iter=10000;, score=0.618 total time=   0.1s\n",
      "[CV 4/5] END C=0.001, coef0=10, degree=3, gamma=scale, kernel=rbf, max_iter=10000;, score=0.618 total time=   0.1s\n",
      "[CV 5/5] END C=0.001, coef0=10, degree=3, gamma=scale, kernel=rbf, max_iter=10000;, score=0.616 total time=   0.1s\n",
      "[CV 1/5] END C=0.001, coef0=10, degree=3, gamma=scale, kernel=rbf, max_iter=100000;, score=0.618 total time=   0.1s\n",
      "[CV 2/5] END C=0.001, coef0=10, degree=3, gamma=scale, kernel=rbf, max_iter=100000;, score=0.618 total time=   0.1s\n",
      "[CV 3/5] END C=0.001, coef0=10, degree=3, gamma=scale, kernel=rbf, max_iter=100000;, score=0.618 total time=   0.1s\n",
      "[CV 4/5] END C=0.001, coef0=10, degree=3, gamma=scale, kernel=rbf, max_iter=100000;, score=0.618 total time=   0.1s\n",
      "[CV 5/5] END C=0.001, coef0=10, degree=3, gamma=scale, kernel=rbf, max_iter=100000;, score=0.616 total time=   0.1s\n",
      "[CV 1/5] END C=0.001, coef0=10, degree=3, gamma=scale, kernel=poly, max_iter=500;, score=0.803 total time=   0.0s\n",
      "[CV 2/5] END C=0.001, coef0=10, degree=3, gamma=scale, kernel=poly, max_iter=500;, score=0.809 total time=   0.0s\n",
      "[CV 3/5] END C=0.001, coef0=10, degree=3, gamma=scale, kernel=poly, max_iter=500;, score=0.787 total time=   0.0s\n",
      "[CV 4/5] END C=0.001, coef0=10, degree=3, gamma=scale, kernel=poly, max_iter=500;, score=0.753 total time=   0.0s\n",
      "[CV 5/5] END C=0.001, coef0=10, degree=3, gamma=scale, kernel=poly, max_iter=500;, score=0.797 total time=   0.0s\n",
      "[CV 1/5] END C=0.001, coef0=10, degree=3, gamma=scale, kernel=poly, max_iter=1000;, score=0.803 total time=   0.0s\n",
      "[CV 2/5] END C=0.001, coef0=10, degree=3, gamma=scale, kernel=poly, max_iter=1000;, score=0.809 total time=   0.0s\n",
      "[CV 3/5] END C=0.001, coef0=10, degree=3, gamma=scale, kernel=poly, max_iter=1000;, score=0.787 total time=   0.0s\n",
      "[CV 4/5] END C=0.001, coef0=10, degree=3, gamma=scale, kernel=poly, max_iter=1000;, score=0.753 total time=   0.0s\n",
      "[CV 5/5] END C=0.001, coef0=10, degree=3, gamma=scale, kernel=poly, max_iter=1000;, score=0.797 total time=   0.0s\n",
      "[CV 1/5] END C=0.001, coef0=10, degree=3, gamma=scale, kernel=poly, max_iter=10000;, score=0.803 total time=   0.0s\n",
      "[CV 2/5] END C=0.001, coef0=10, degree=3, gamma=scale, kernel=poly, max_iter=10000;, score=0.809 total time=   0.0s\n",
      "[CV 3/5] END C=0.001, coef0=10, degree=3, gamma=scale, kernel=poly, max_iter=10000;, score=0.787 total time=   0.1s\n",
      "[CV 4/5] END C=0.001, coef0=10, degree=3, gamma=scale, kernel=poly, max_iter=10000;, score=0.753 total time=   0.0s\n",
      "[CV 5/5] END C=0.001, coef0=10, degree=3, gamma=scale, kernel=poly, max_iter=10000;, score=0.797 total time=   0.0s\n",
      "[CV 1/5] END C=0.001, coef0=10, degree=3, gamma=scale, kernel=poly, max_iter=100000;, score=0.803 total time=   0.0s\n",
      "[CV 2/5] END C=0.001, coef0=10, degree=3, gamma=scale, kernel=poly, max_iter=100000;, score=0.809 total time=   0.0s\n",
      "[CV 3/5] END C=0.001, coef0=10, degree=3, gamma=scale, kernel=poly, max_iter=100000;, score=0.787 total time=   0.0s\n",
      "[CV 4/5] END C=0.001, coef0=10, degree=3, gamma=scale, kernel=poly, max_iter=100000;, score=0.753 total time=   0.0s\n",
      "[CV 5/5] END C=0.001, coef0=10, degree=3, gamma=scale, kernel=poly, max_iter=100000;, score=0.797 total time=   0.0s\n",
      "[CV 1/5] END C=0.001, coef0=10, degree=4, gamma=scale, kernel=linear, max_iter=500;, score=0.618 total time=   0.0s\n",
      "[CV 2/5] END C=0.001, coef0=10, degree=4, gamma=scale, kernel=linear, max_iter=500;, score=0.618 total time=   0.0s\n",
      "[CV 3/5] END C=0.001, coef0=10, degree=4, gamma=scale, kernel=linear, max_iter=500;, score=0.618 total time=   0.0s\n",
      "[CV 4/5] END C=0.001, coef0=10, degree=4, gamma=scale, kernel=linear, max_iter=500;, score=0.618 total time=   0.0s\n",
      "[CV 5/5] END C=0.001, coef0=10, degree=4, gamma=scale, kernel=linear, max_iter=500;, score=0.616 total time=   0.0s\n",
      "[CV 1/5] END C=0.001, coef0=10, degree=4, gamma=scale, kernel=linear, max_iter=1000;, score=0.618 total time=   0.0s\n",
      "[CV 2/5] END C=0.001, coef0=10, degree=4, gamma=scale, kernel=linear, max_iter=1000;, score=0.618 total time=   0.0s\n",
      "[CV 3/5] END C=0.001, coef0=10, degree=4, gamma=scale, kernel=linear, max_iter=1000;, score=0.618 total time=   0.0s\n",
      "[CV 4/5] END C=0.001, coef0=10, degree=4, gamma=scale, kernel=linear, max_iter=1000;, score=0.618 total time=   0.0s\n",
      "[CV 5/5] END C=0.001, coef0=10, degree=4, gamma=scale, kernel=linear, max_iter=1000;, score=0.616 total time=   0.0s\n",
      "[CV 1/5] END C=0.001, coef0=10, degree=4, gamma=scale, kernel=linear, max_iter=10000;, score=0.618 total time=   0.0s\n",
      "[CV 2/5] END C=0.001, coef0=10, degree=4, gamma=scale, kernel=linear, max_iter=10000;, score=0.618 total time=   0.0s\n",
      "[CV 3/5] END C=0.001, coef0=10, degree=4, gamma=scale, kernel=linear, max_iter=10000;, score=0.618 total time=   0.0s\n",
      "[CV 4/5] END C=0.001, coef0=10, degree=4, gamma=scale, kernel=linear, max_iter=10000;, score=0.618 total time=   0.0s\n",
      "[CV 5/5] END C=0.001, coef0=10, degree=4, gamma=scale, kernel=linear, max_iter=10000;, score=0.616 total time=   0.0s\n",
      "[CV 1/5] END C=0.001, coef0=10, degree=4, gamma=scale, kernel=linear, max_iter=100000;, score=0.618 total time=   0.0s\n",
      "[CV 2/5] END C=0.001, coef0=10, degree=4, gamma=scale, kernel=linear, max_iter=100000;, score=0.618 total time=   0.0s\n",
      "[CV 3/5] END C=0.001, coef0=10, degree=4, gamma=scale, kernel=linear, max_iter=100000;, score=0.618 total time=   0.0s\n",
      "[CV 4/5] END C=0.001, coef0=10, degree=4, gamma=scale, kernel=linear, max_iter=100000;, score=0.618 total time=   0.0s\n",
      "[CV 5/5] END C=0.001, coef0=10, degree=4, gamma=scale, kernel=linear, max_iter=100000;, score=0.616 total time=   0.0s\n",
      "[CV 1/5] END C=0.001, coef0=10, degree=4, gamma=scale, kernel=rbf, max_iter=500;, score=0.618 total time=   0.1s\n",
      "[CV 2/5] END C=0.001, coef0=10, degree=4, gamma=scale, kernel=rbf, max_iter=500;, score=0.618 total time=   0.1s\n",
      "[CV 3/5] END C=0.001, coef0=10, degree=4, gamma=scale, kernel=rbf, max_iter=500;, score=0.618 total time=   0.1s\n",
      "[CV 4/5] END C=0.001, coef0=10, degree=4, gamma=scale, kernel=rbf, max_iter=500;, score=0.618 total time=   0.1s\n",
      "[CV 5/5] END C=0.001, coef0=10, degree=4, gamma=scale, kernel=rbf, max_iter=500;, score=0.616 total time=   0.1s\n",
      "[CV 1/5] END C=0.001, coef0=10, degree=4, gamma=scale, kernel=rbf, max_iter=1000;, score=0.618 total time=   0.1s\n",
      "[CV 2/5] END C=0.001, coef0=10, degree=4, gamma=scale, kernel=rbf, max_iter=1000;, score=0.618 total time=   0.1s\n",
      "[CV 3/5] END C=0.001, coef0=10, degree=4, gamma=scale, kernel=rbf, max_iter=1000;, score=0.618 total time=   0.1s\n",
      "[CV 4/5] END C=0.001, coef0=10, degree=4, gamma=scale, kernel=rbf, max_iter=1000;, score=0.618 total time=   0.1s\n",
      "[CV 5/5] END C=0.001, coef0=10, degree=4, gamma=scale, kernel=rbf, max_iter=1000;, score=0.616 total time=   0.1s\n",
      "[CV 1/5] END C=0.001, coef0=10, degree=4, gamma=scale, kernel=rbf, max_iter=10000;, score=0.618 total time=   0.1s\n",
      "[CV 2/5] END C=0.001, coef0=10, degree=4, gamma=scale, kernel=rbf, max_iter=10000;, score=0.618 total time=   0.1s\n",
      "[CV 3/5] END C=0.001, coef0=10, degree=4, gamma=scale, kernel=rbf, max_iter=10000;, score=0.618 total time=   0.1s\n",
      "[CV 4/5] END C=0.001, coef0=10, degree=4, gamma=scale, kernel=rbf, max_iter=10000;, score=0.618 total time=   0.1s\n",
      "[CV 5/5] END C=0.001, coef0=10, degree=4, gamma=scale, kernel=rbf, max_iter=10000;, score=0.616 total time=   0.1s\n",
      "[CV 1/5] END C=0.001, coef0=10, degree=4, gamma=scale, kernel=rbf, max_iter=100000;, score=0.618 total time=   0.1s\n",
      "[CV 2/5] END C=0.001, coef0=10, degree=4, gamma=scale, kernel=rbf, max_iter=100000;, score=0.618 total time=   0.1s\n",
      "[CV 3/5] END C=0.001, coef0=10, degree=4, gamma=scale, kernel=rbf, max_iter=100000;, score=0.618 total time=   0.1s\n",
      "[CV 4/5] END C=0.001, coef0=10, degree=4, gamma=scale, kernel=rbf, max_iter=100000;, score=0.618 total time=   0.1s\n",
      "[CV 5/5] END C=0.001, coef0=10, degree=4, gamma=scale, kernel=rbf, max_iter=100000;, score=0.616 total time=   0.1s\n",
      "[CV 1/5] END C=0.001, coef0=10, degree=4, gamma=scale, kernel=poly, max_iter=500;, score=0.831 total time=   0.1s\n",
      "[CV 2/5] END C=0.001, coef0=10, degree=4, gamma=scale, kernel=poly, max_iter=500;, score=0.820 total time=   0.0s\n"
     ]
    },
    {
     "name": "stderr",
     "output_type": "stream",
     "text": [
      "/Library/Frameworks/Python.framework/Versions/3.9/lib/python3.9/site-packages/sklearn/svm/_base.py:297: ConvergenceWarning: Solver terminated early (max_iter=500).  Consider pre-processing your data with StandardScaler or MinMaxScaler.\n",
      "  warnings.warn(\n",
      "/Library/Frameworks/Python.framework/Versions/3.9/lib/python3.9/site-packages/sklearn/svm/_base.py:297: ConvergenceWarning: Solver terminated early (max_iter=500).  Consider pre-processing your data with StandardScaler or MinMaxScaler.\n",
      "  warnings.warn(\n",
      "/Library/Frameworks/Python.framework/Versions/3.9/lib/python3.9/site-packages/sklearn/svm/_base.py:297: ConvergenceWarning: Solver terminated early (max_iter=500).  Consider pre-processing your data with StandardScaler or MinMaxScaler.\n",
      "  warnings.warn(\n",
      "/Library/Frameworks/Python.framework/Versions/3.9/lib/python3.9/site-packages/sklearn/svm/_base.py:297: ConvergenceWarning: Solver terminated early (max_iter=500).  Consider pre-processing your data with StandardScaler or MinMaxScaler.\n",
      "  warnings.warn(\n"
     ]
    },
    {
     "name": "stdout",
     "output_type": "stream",
     "text": [
      "[CV 3/5] END C=0.001, coef0=10, degree=4, gamma=scale, kernel=poly, max_iter=500;, score=0.815 total time=   0.1s\n",
      "[CV 4/5] END C=0.001, coef0=10, degree=4, gamma=scale, kernel=poly, max_iter=500;, score=0.770 total time=   0.1s\n",
      "[CV 5/5] END C=0.001, coef0=10, degree=4, gamma=scale, kernel=poly, max_iter=500;, score=0.836 total time=   0.1s\n",
      "[CV 1/5] END C=0.001, coef0=10, degree=4, gamma=scale, kernel=poly, max_iter=1000;, score=0.831 total time=   0.1s\n"
     ]
    },
    {
     "name": "stderr",
     "output_type": "stream",
     "text": [
      "/Library/Frameworks/Python.framework/Versions/3.9/lib/python3.9/site-packages/sklearn/svm/_base.py:297: ConvergenceWarning: Solver terminated early (max_iter=500).  Consider pre-processing your data with StandardScaler or MinMaxScaler.\n",
      "  warnings.warn(\n",
      "/Library/Frameworks/Python.framework/Versions/3.9/lib/python3.9/site-packages/sklearn/svm/_base.py:297: ConvergenceWarning: Solver terminated early (max_iter=1000).  Consider pre-processing your data with StandardScaler or MinMaxScaler.\n",
      "  warnings.warn(\n",
      "/Library/Frameworks/Python.framework/Versions/3.9/lib/python3.9/site-packages/sklearn/svm/_base.py:297: ConvergenceWarning: Solver terminated early (max_iter=1000).  Consider pre-processing your data with StandardScaler or MinMaxScaler.\n",
      "  warnings.warn(\n"
     ]
    },
    {
     "name": "stdout",
     "output_type": "stream",
     "text": [
      "[CV 2/5] END C=0.001, coef0=10, degree=4, gamma=scale, kernel=poly, max_iter=1000;, score=0.820 total time=   0.1s\n",
      "[CV 3/5] END C=0.001, coef0=10, degree=4, gamma=scale, kernel=poly, max_iter=1000;, score=0.815 total time=   0.1s\n",
      "[CV 4/5] END C=0.001, coef0=10, degree=4, gamma=scale, kernel=poly, max_iter=1000;, score=0.775 total time=   0.1s\n",
      "[CV 5/5] END C=0.001, coef0=10, degree=4, gamma=scale, kernel=poly, max_iter=1000;, score=0.831 total time=   0.0s\n"
     ]
    },
    {
     "name": "stderr",
     "output_type": "stream",
     "text": [
      "/Library/Frameworks/Python.framework/Versions/3.9/lib/python3.9/site-packages/sklearn/svm/_base.py:297: ConvergenceWarning: Solver terminated early (max_iter=1000).  Consider pre-processing your data with StandardScaler or MinMaxScaler.\n",
      "  warnings.warn(\n",
      "/Library/Frameworks/Python.framework/Versions/3.9/lib/python3.9/site-packages/sklearn/svm/_base.py:297: ConvergenceWarning: Solver terminated early (max_iter=1000).  Consider pre-processing your data with StandardScaler or MinMaxScaler.\n",
      "  warnings.warn(\n"
     ]
    },
    {
     "name": "stdout",
     "output_type": "stream",
     "text": [
      "[CV 1/5] END C=0.001, coef0=10, degree=4, gamma=scale, kernel=poly, max_iter=10000;, score=0.831 total time=   0.0s\n",
      "[CV 2/5] END C=0.001, coef0=10, degree=4, gamma=scale, kernel=poly, max_iter=10000;, score=0.820 total time=   0.0s\n",
      "[CV 3/5] END C=0.001, coef0=10, degree=4, gamma=scale, kernel=poly, max_iter=10000;, score=0.815 total time=   0.0s\n",
      "[CV 4/5] END C=0.001, coef0=10, degree=4, gamma=scale, kernel=poly, max_iter=10000;, score=0.775 total time=   0.0s\n",
      "[CV 5/5] END C=0.001, coef0=10, degree=4, gamma=scale, kernel=poly, max_iter=10000;, score=0.831 total time=   0.0s\n",
      "[CV 1/5] END C=0.001, coef0=10, degree=4, gamma=scale, kernel=poly, max_iter=100000;, score=0.831 total time=   0.0s\n",
      "[CV 2/5] END C=0.001, coef0=10, degree=4, gamma=scale, kernel=poly, max_iter=100000;, score=0.820 total time=   0.0s\n",
      "[CV 3/5] END C=0.001, coef0=10, degree=4, gamma=scale, kernel=poly, max_iter=100000;, score=0.815 total time=   0.0s\n",
      "[CV 4/5] END C=0.001, coef0=10, degree=4, gamma=scale, kernel=poly, max_iter=100000;, score=0.775 total time=   0.0s\n",
      "[CV 5/5] END C=0.001, coef0=10, degree=4, gamma=scale, kernel=poly, max_iter=100000;, score=0.831 total time=   0.0s\n",
      "[CV 1/5] END C=0.001, coef0=10, degree=5, gamma=scale, kernel=linear, max_iter=500;, score=0.618 total time=   0.0s\n",
      "[CV 2/5] END C=0.001, coef0=10, degree=5, gamma=scale, kernel=linear, max_iter=500;, score=0.618 total time=   0.0s\n",
      "[CV 3/5] END C=0.001, coef0=10, degree=5, gamma=scale, kernel=linear, max_iter=500;, score=0.618 total time=   0.0s\n",
      "[CV 4/5] END C=0.001, coef0=10, degree=5, gamma=scale, kernel=linear, max_iter=500;, score=0.618 total time=   0.0s\n",
      "[CV 5/5] END C=0.001, coef0=10, degree=5, gamma=scale, kernel=linear, max_iter=500;, score=0.616 total time=   0.0s\n",
      "[CV 1/5] END C=0.001, coef0=10, degree=5, gamma=scale, kernel=linear, max_iter=1000;, score=0.618 total time=   0.0s\n",
      "[CV 2/5] END C=0.001, coef0=10, degree=5, gamma=scale, kernel=linear, max_iter=1000;, score=0.618 total time=   0.0s\n",
      "[CV 3/5] END C=0.001, coef0=10, degree=5, gamma=scale, kernel=linear, max_iter=1000;, score=0.618 total time=   0.0s\n",
      "[CV 4/5] END C=0.001, coef0=10, degree=5, gamma=scale, kernel=linear, max_iter=1000;, score=0.618 total time=   0.0s\n",
      "[CV 5/5] END C=0.001, coef0=10, degree=5, gamma=scale, kernel=linear, max_iter=1000;, score=0.616 total time=   0.0s\n",
      "[CV 1/5] END C=0.001, coef0=10, degree=5, gamma=scale, kernel=linear, max_iter=10000;, score=0.618 total time=   0.0s\n",
      "[CV 2/5] END C=0.001, coef0=10, degree=5, gamma=scale, kernel=linear, max_iter=10000;, score=0.618 total time=   0.0s\n",
      "[CV 3/5] END C=0.001, coef0=10, degree=5, gamma=scale, kernel=linear, max_iter=10000;, score=0.618 total time=   0.0s\n",
      "[CV 4/5] END C=0.001, coef0=10, degree=5, gamma=scale, kernel=linear, max_iter=10000;, score=0.618 total time=   0.0s\n",
      "[CV 5/5] END C=0.001, coef0=10, degree=5, gamma=scale, kernel=linear, max_iter=10000;, score=0.616 total time=   0.0s\n",
      "[CV 1/5] END C=0.001, coef0=10, degree=5, gamma=scale, kernel=linear, max_iter=100000;, score=0.618 total time=   0.0s\n",
      "[CV 2/5] END C=0.001, coef0=10, degree=5, gamma=scale, kernel=linear, max_iter=100000;, score=0.618 total time=   0.0s\n",
      "[CV 3/5] END C=0.001, coef0=10, degree=5, gamma=scale, kernel=linear, max_iter=100000;, score=0.618 total time=   0.0s\n",
      "[CV 4/5] END C=0.001, coef0=10, degree=5, gamma=scale, kernel=linear, max_iter=100000;, score=0.618 total time=   0.0s\n",
      "[CV 5/5] END C=0.001, coef0=10, degree=5, gamma=scale, kernel=linear, max_iter=100000;, score=0.616 total time=   0.0s\n",
      "[CV 1/5] END C=0.001, coef0=10, degree=5, gamma=scale, kernel=rbf, max_iter=500;, score=0.618 total time=   0.1s\n",
      "[CV 2/5] END C=0.001, coef0=10, degree=5, gamma=scale, kernel=rbf, max_iter=500;, score=0.618 total time=   0.1s\n",
      "[CV 3/5] END C=0.001, coef0=10, degree=5, gamma=scale, kernel=rbf, max_iter=500;, score=0.618 total time=   0.1s\n",
      "[CV 4/5] END C=0.001, coef0=10, degree=5, gamma=scale, kernel=rbf, max_iter=500;, score=0.618 total time=   0.1s\n",
      "[CV 5/5] END C=0.001, coef0=10, degree=5, gamma=scale, kernel=rbf, max_iter=500;, score=0.616 total time=   0.1s\n",
      "[CV 1/5] END C=0.001, coef0=10, degree=5, gamma=scale, kernel=rbf, max_iter=1000;, score=0.618 total time=   0.1s\n",
      "[CV 2/5] END C=0.001, coef0=10, degree=5, gamma=scale, kernel=rbf, max_iter=1000;, score=0.618 total time=   0.1s\n",
      "[CV 3/5] END C=0.001, coef0=10, degree=5, gamma=scale, kernel=rbf, max_iter=1000;, score=0.618 total time=   0.1s\n",
      "[CV 4/5] END C=0.001, coef0=10, degree=5, gamma=scale, kernel=rbf, max_iter=1000;, score=0.618 total time=   0.1s\n",
      "[CV 5/5] END C=0.001, coef0=10, degree=5, gamma=scale, kernel=rbf, max_iter=1000;, score=0.616 total time=   0.1s\n",
      "[CV 1/5] END C=0.001, coef0=10, degree=5, gamma=scale, kernel=rbf, max_iter=10000;, score=0.618 total time=   0.1s\n",
      "[CV 2/5] END C=0.001, coef0=10, degree=5, gamma=scale, kernel=rbf, max_iter=10000;, score=0.618 total time=   0.1s\n",
      "[CV 3/5] END C=0.001, coef0=10, degree=5, gamma=scale, kernel=rbf, max_iter=10000;, score=0.618 total time=   0.1s\n",
      "[CV 4/5] END C=0.001, coef0=10, degree=5, gamma=scale, kernel=rbf, max_iter=10000;, score=0.618 total time=   0.1s\n",
      "[CV 5/5] END C=0.001, coef0=10, degree=5, gamma=scale, kernel=rbf, max_iter=10000;, score=0.616 total time=   0.1s\n",
      "[CV 1/5] END C=0.001, coef0=10, degree=5, gamma=scale, kernel=rbf, max_iter=100000;, score=0.618 total time=   0.1s\n",
      "[CV 2/5] END C=0.001, coef0=10, degree=5, gamma=scale, kernel=rbf, max_iter=100000;, score=0.618 total time=   0.1s\n",
      "[CV 3/5] END C=0.001, coef0=10, degree=5, gamma=scale, kernel=rbf, max_iter=100000;, score=0.618 total time=   0.1s\n",
      "[CV 4/5] END C=0.001, coef0=10, degree=5, gamma=scale, kernel=rbf, max_iter=100000;, score=0.618 total time=   0.1s\n",
      "[CV 5/5] END C=0.001, coef0=10, degree=5, gamma=scale, kernel=rbf, max_iter=100000;, score=0.616 total time=   0.1s\n",
      "[CV 1/5] END C=0.001, coef0=10, degree=5, gamma=scale, kernel=poly, max_iter=500;, score=0.837 total time=   0.0s\n"
     ]
    },
    {
     "name": "stderr",
     "output_type": "stream",
     "text": [
      "/Library/Frameworks/Python.framework/Versions/3.9/lib/python3.9/site-packages/sklearn/svm/_base.py:297: ConvergenceWarning: Solver terminated early (max_iter=500).  Consider pre-processing your data with StandardScaler or MinMaxScaler.\n",
      "  warnings.warn(\n",
      "/Library/Frameworks/Python.framework/Versions/3.9/lib/python3.9/site-packages/sklearn/svm/_base.py:297: ConvergenceWarning: Solver terminated early (max_iter=500).  Consider pre-processing your data with StandardScaler or MinMaxScaler.\n",
      "  warnings.warn(\n",
      "/Library/Frameworks/Python.framework/Versions/3.9/lib/python3.9/site-packages/sklearn/svm/_base.py:297: ConvergenceWarning: Solver terminated early (max_iter=500).  Consider pre-processing your data with StandardScaler or MinMaxScaler.\n",
      "  warnings.warn(\n",
      "/Library/Frameworks/Python.framework/Versions/3.9/lib/python3.9/site-packages/sklearn/svm/_base.py:297: ConvergenceWarning: Solver terminated early (max_iter=500).  Consider pre-processing your data with StandardScaler or MinMaxScaler.\n",
      "  warnings.warn(\n",
      "/Library/Frameworks/Python.framework/Versions/3.9/lib/python3.9/site-packages/sklearn/svm/_base.py:297: ConvergenceWarning: Solver terminated early (max_iter=500).  Consider pre-processing your data with StandardScaler or MinMaxScaler.\n",
      "  warnings.warn(\n",
      "/Library/Frameworks/Python.framework/Versions/3.9/lib/python3.9/site-packages/sklearn/svm/_base.py:297: ConvergenceWarning: Solver terminated early (max_iter=1000).  Consider pre-processing your data with StandardScaler or MinMaxScaler.\n",
      "  warnings.warn(\n"
     ]
    },
    {
     "name": "stdout",
     "output_type": "stream",
     "text": [
      "[CV 2/5] END C=0.001, coef0=10, degree=5, gamma=scale, kernel=poly, max_iter=500;, score=0.820 total time=   0.0s\n",
      "[CV 3/5] END C=0.001, coef0=10, degree=5, gamma=scale, kernel=poly, max_iter=500;, score=0.820 total time=   0.0s\n",
      "[CV 4/5] END C=0.001, coef0=10, degree=5, gamma=scale, kernel=poly, max_iter=500;, score=0.798 total time=   0.0s\n",
      "[CV 5/5] END C=0.001, coef0=10, degree=5, gamma=scale, kernel=poly, max_iter=500;, score=0.847 total time=   0.0s\n",
      "[CV 1/5] END C=0.001, coef0=10, degree=5, gamma=scale, kernel=poly, max_iter=1000;, score=0.826 total time=   0.0s\n",
      "[CV 2/5] END C=0.001, coef0=10, degree=5, gamma=scale, kernel=poly, max_iter=1000;, score=0.820 total time=   0.0s\n"
     ]
    },
    {
     "name": "stderr",
     "output_type": "stream",
     "text": [
      "/Library/Frameworks/Python.framework/Versions/3.9/lib/python3.9/site-packages/sklearn/svm/_base.py:297: ConvergenceWarning: Solver terminated early (max_iter=1000).  Consider pre-processing your data with StandardScaler or MinMaxScaler.\n",
      "  warnings.warn(\n",
      "/Library/Frameworks/Python.framework/Versions/3.9/lib/python3.9/site-packages/sklearn/svm/_base.py:297: ConvergenceWarning: Solver terminated early (max_iter=1000).  Consider pre-processing your data with StandardScaler or MinMaxScaler.\n",
      "  warnings.warn(\n",
      "/Library/Frameworks/Python.framework/Versions/3.9/lib/python3.9/site-packages/sklearn/svm/_base.py:297: ConvergenceWarning: Solver terminated early (max_iter=1000).  Consider pre-processing your data with StandardScaler or MinMaxScaler.\n",
      "  warnings.warn(\n",
      "/Library/Frameworks/Python.framework/Versions/3.9/lib/python3.9/site-packages/sklearn/svm/_base.py:297: ConvergenceWarning: Solver terminated early (max_iter=1000).  Consider pre-processing your data with StandardScaler or MinMaxScaler.\n",
      "  warnings.warn(\n"
     ]
    },
    {
     "name": "stdout",
     "output_type": "stream",
     "text": [
      "[CV 3/5] END C=0.001, coef0=10, degree=5, gamma=scale, kernel=poly, max_iter=1000;, score=0.815 total time=   0.0s\n",
      "[CV 4/5] END C=0.001, coef0=10, degree=5, gamma=scale, kernel=poly, max_iter=1000;, score=0.792 total time=   0.0s\n",
      "[CV 5/5] END C=0.001, coef0=10, degree=5, gamma=scale, kernel=poly, max_iter=1000;, score=0.842 total time=   0.0s\n",
      "[CV 1/5] END C=0.001, coef0=10, degree=5, gamma=scale, kernel=poly, max_iter=10000;, score=0.843 total time=   0.1s\n"
     ]
    },
    {
     "name": "stderr",
     "output_type": "stream",
     "text": [
      "/Library/Frameworks/Python.framework/Versions/3.9/lib/python3.9/site-packages/sklearn/svm/_base.py:297: ConvergenceWarning: Solver terminated early (max_iter=10000).  Consider pre-processing your data with StandardScaler or MinMaxScaler.\n",
      "  warnings.warn(\n",
      "/Library/Frameworks/Python.framework/Versions/3.9/lib/python3.9/site-packages/sklearn/svm/_base.py:297: ConvergenceWarning: Solver terminated early (max_iter=10000).  Consider pre-processing your data with StandardScaler or MinMaxScaler.\n",
      "  warnings.warn(\n",
      "/Library/Frameworks/Python.framework/Versions/3.9/lib/python3.9/site-packages/sklearn/svm/_base.py:297: ConvergenceWarning: Solver terminated early (max_iter=10000).  Consider pre-processing your data with StandardScaler or MinMaxScaler.\n",
      "  warnings.warn(\n"
     ]
    },
    {
     "name": "stdout",
     "output_type": "stream",
     "text": [
      "[CV 2/5] END C=0.001, coef0=10, degree=5, gamma=scale, kernel=poly, max_iter=10000;, score=0.820 total time=   0.1s\n",
      "[CV 3/5] END C=0.001, coef0=10, degree=5, gamma=scale, kernel=poly, max_iter=10000;, score=0.820 total time=   0.1s\n",
      "[CV 4/5] END C=0.001, coef0=10, degree=5, gamma=scale, kernel=poly, max_iter=10000;, score=0.792 total time=   0.1s\n"
     ]
    },
    {
     "name": "stderr",
     "output_type": "stream",
     "text": [
      "/Library/Frameworks/Python.framework/Versions/3.9/lib/python3.9/site-packages/sklearn/svm/_base.py:297: ConvergenceWarning: Solver terminated early (max_iter=10000).  Consider pre-processing your data with StandardScaler or MinMaxScaler.\n",
      "  warnings.warn(\n",
      "/Library/Frameworks/Python.framework/Versions/3.9/lib/python3.9/site-packages/sklearn/svm/_base.py:297: ConvergenceWarning: Solver terminated early (max_iter=10000).  Consider pre-processing your data with StandardScaler or MinMaxScaler.\n",
      "  warnings.warn(\n"
     ]
    },
    {
     "name": "stdout",
     "output_type": "stream",
     "text": [
      "[CV 5/5] END C=0.001, coef0=10, degree=5, gamma=scale, kernel=poly, max_iter=10000;, score=0.847 total time=   0.1s\n",
      "[CV 1/5] END C=0.001, coef0=10, degree=5, gamma=scale, kernel=poly, max_iter=100000;, score=0.843 total time=   0.1s\n",
      "[CV 2/5] END C=0.001, coef0=10, degree=5, gamma=scale, kernel=poly, max_iter=100000;, score=0.820 total time=   0.1s\n",
      "[CV 3/5] END C=0.001, coef0=10, degree=5, gamma=scale, kernel=poly, max_iter=100000;, score=0.820 total time=   0.1s\n",
      "[CV 4/5] END C=0.001, coef0=10, degree=5, gamma=scale, kernel=poly, max_iter=100000;, score=0.792 total time=   0.1s\n",
      "[CV 5/5] END C=0.001, coef0=10, degree=5, gamma=scale, kernel=poly, max_iter=100000;, score=0.847 total time=   0.1s\n",
      "[CV 1/5] END C=0.01, coef0=0.1, degree=2, gamma=scale, kernel=linear, max_iter=500;, score=0.803 total time=   0.0s\n",
      "[CV 2/5] END C=0.01, coef0=0.1, degree=2, gamma=scale, kernel=linear, max_iter=500;, score=0.815 total time=   0.0s\n",
      "[CV 3/5] END C=0.01, coef0=0.1, degree=2, gamma=scale, kernel=linear, max_iter=500;, score=0.787 total time=   0.0s\n",
      "[CV 4/5] END C=0.01, coef0=0.1, degree=2, gamma=scale, kernel=linear, max_iter=500;, score=0.753 total time=   0.0s\n",
      "[CV 5/5] END C=0.01, coef0=0.1, degree=2, gamma=scale, kernel=linear, max_iter=500;, score=0.785 total time=   0.0s\n",
      "[CV 1/5] END C=0.01, coef0=0.1, degree=2, gamma=scale, kernel=linear, max_iter=1000;, score=0.803 total time=   0.0s\n",
      "[CV 2/5] END C=0.01, coef0=0.1, degree=2, gamma=scale, kernel=linear, max_iter=1000;, score=0.815 total time=   0.0s\n",
      "[CV 3/5] END C=0.01, coef0=0.1, degree=2, gamma=scale, kernel=linear, max_iter=1000;, score=0.787 total time=   0.0s\n",
      "[CV 4/5] END C=0.01, coef0=0.1, degree=2, gamma=scale, kernel=linear, max_iter=1000;, score=0.753 total time=   0.0s\n",
      "[CV 5/5] END C=0.01, coef0=0.1, degree=2, gamma=scale, kernel=linear, max_iter=1000;, score=0.785 total time=   0.0s\n",
      "[CV 1/5] END C=0.01, coef0=0.1, degree=2, gamma=scale, kernel=linear, max_iter=10000;, score=0.803 total time=   0.0s\n",
      "[CV 2/5] END C=0.01, coef0=0.1, degree=2, gamma=scale, kernel=linear, max_iter=10000;, score=0.815 total time=   0.0s\n",
      "[CV 3/5] END C=0.01, coef0=0.1, degree=2, gamma=scale, kernel=linear, max_iter=10000;, score=0.787 total time=   0.0s\n",
      "[CV 4/5] END C=0.01, coef0=0.1, degree=2, gamma=scale, kernel=linear, max_iter=10000;, score=0.753 total time=   0.0s\n",
      "[CV 5/5] END C=0.01, coef0=0.1, degree=2, gamma=scale, kernel=linear, max_iter=10000;, score=0.785 total time=   0.0s\n",
      "[CV 1/5] END C=0.01, coef0=0.1, degree=2, gamma=scale, kernel=linear, max_iter=100000;, score=0.803 total time=   0.0s\n",
      "[CV 2/5] END C=0.01, coef0=0.1, degree=2, gamma=scale, kernel=linear, max_iter=100000;, score=0.815 total time=   0.0s\n",
      "[CV 3/5] END C=0.01, coef0=0.1, degree=2, gamma=scale, kernel=linear, max_iter=100000;, score=0.787 total time=   0.0s\n",
      "[CV 4/5] END C=0.01, coef0=0.1, degree=2, gamma=scale, kernel=linear, max_iter=100000;, score=0.753 total time=   0.0s\n",
      "[CV 5/5] END C=0.01, coef0=0.1, degree=2, gamma=scale, kernel=linear, max_iter=100000;, score=0.785 total time=   0.0s\n",
      "[CV 1/5] END C=0.01, coef0=0.1, degree=2, gamma=scale, kernel=rbf, max_iter=500;, score=0.618 total time=   0.1s\n",
      "[CV 2/5] END C=0.01, coef0=0.1, degree=2, gamma=scale, kernel=rbf, max_iter=500;, score=0.618 total time=   0.1s\n",
      "[CV 3/5] END C=0.01, coef0=0.1, degree=2, gamma=scale, kernel=rbf, max_iter=500;, score=0.618 total time=   0.1s\n",
      "[CV 4/5] END C=0.01, coef0=0.1, degree=2, gamma=scale, kernel=rbf, max_iter=500;, score=0.618 total time=   0.1s\n",
      "[CV 5/5] END C=0.01, coef0=0.1, degree=2, gamma=scale, kernel=rbf, max_iter=500;, score=0.616 total time=   0.1s\n",
      "[CV 1/5] END C=0.01, coef0=0.1, degree=2, gamma=scale, kernel=rbf, max_iter=1000;, score=0.618 total time=   0.1s\n",
      "[CV 2/5] END C=0.01, coef0=0.1, degree=2, gamma=scale, kernel=rbf, max_iter=1000;, score=0.618 total time=   0.1s\n",
      "[CV 3/5] END C=0.01, coef0=0.1, degree=2, gamma=scale, kernel=rbf, max_iter=1000;, score=0.618 total time=   0.1s\n",
      "[CV 4/5] END C=0.01, coef0=0.1, degree=2, gamma=scale, kernel=rbf, max_iter=1000;, score=0.618 total time=   0.1s\n",
      "[CV 5/5] END C=0.01, coef0=0.1, degree=2, gamma=scale, kernel=rbf, max_iter=1000;, score=0.616 total time=   0.1s\n",
      "[CV 1/5] END C=0.01, coef0=0.1, degree=2, gamma=scale, kernel=rbf, max_iter=10000;, score=0.618 total time=   0.1s\n",
      "[CV 2/5] END C=0.01, coef0=0.1, degree=2, gamma=scale, kernel=rbf, max_iter=10000;, score=0.618 total time=   0.1s\n",
      "[CV 3/5] END C=0.01, coef0=0.1, degree=2, gamma=scale, kernel=rbf, max_iter=10000;, score=0.618 total time=   0.1s\n",
      "[CV 4/5] END C=0.01, coef0=0.1, degree=2, gamma=scale, kernel=rbf, max_iter=10000;, score=0.618 total time=   0.1s\n",
      "[CV 5/5] END C=0.01, coef0=0.1, degree=2, gamma=scale, kernel=rbf, max_iter=10000;, score=0.616 total time=   0.1s\n",
      "[CV 1/5] END C=0.01, coef0=0.1, degree=2, gamma=scale, kernel=rbf, max_iter=100000;, score=0.618 total time=   0.1s\n",
      "[CV 2/5] END C=0.01, coef0=0.1, degree=2, gamma=scale, kernel=rbf, max_iter=100000;, score=0.618 total time=   0.1s\n",
      "[CV 3/5] END C=0.01, coef0=0.1, degree=2, gamma=scale, kernel=rbf, max_iter=100000;, score=0.618 total time=   0.1s\n",
      "[CV 4/5] END C=0.01, coef0=0.1, degree=2, gamma=scale, kernel=rbf, max_iter=100000;, score=0.618 total time=   0.1s\n",
      "[CV 5/5] END C=0.01, coef0=0.1, degree=2, gamma=scale, kernel=rbf, max_iter=100000;, score=0.616 total time=   0.1s\n",
      "[CV 1/5] END C=0.01, coef0=0.1, degree=2, gamma=scale, kernel=poly, max_iter=500;, score=0.640 total time=   0.0s\n",
      "[CV 2/5] END C=0.01, coef0=0.1, degree=2, gamma=scale, kernel=poly, max_iter=500;, score=0.669 total time=   0.0s\n",
      "[CV 3/5] END C=0.01, coef0=0.1, degree=2, gamma=scale, kernel=poly, max_iter=500;, score=0.618 total time=   0.0s\n",
      "[CV 4/5] END C=0.01, coef0=0.1, degree=2, gamma=scale, kernel=poly, max_iter=500;, score=0.629 total time=   0.0s\n",
      "[CV 5/5] END C=0.01, coef0=0.1, degree=2, gamma=scale, kernel=poly, max_iter=500;, score=0.627 total time=   0.0s\n",
      "[CV 1/5] END C=0.01, coef0=0.1, degree=2, gamma=scale, kernel=poly, max_iter=1000;, score=0.640 total time=   0.0s\n",
      "[CV 2/5] END C=0.01, coef0=0.1, degree=2, gamma=scale, kernel=poly, max_iter=1000;, score=0.669 total time=   0.0s\n",
      "[CV 3/5] END C=0.01, coef0=0.1, degree=2, gamma=scale, kernel=poly, max_iter=1000;, score=0.618 total time=   0.0s\n",
      "[CV 4/5] END C=0.01, coef0=0.1, degree=2, gamma=scale, kernel=poly, max_iter=1000;, score=0.629 total time=   0.0s\n",
      "[CV 5/5] END C=0.01, coef0=0.1, degree=2, gamma=scale, kernel=poly, max_iter=1000;, score=0.627 total time=   0.0s\n",
      "[CV 1/5] END C=0.01, coef0=0.1, degree=2, gamma=scale, kernel=poly, max_iter=10000;, score=0.640 total time=   0.0s\n",
      "[CV 2/5] END C=0.01, coef0=0.1, degree=2, gamma=scale, kernel=poly, max_iter=10000;, score=0.669 total time=   0.0s\n",
      "[CV 3/5] END C=0.01, coef0=0.1, degree=2, gamma=scale, kernel=poly, max_iter=10000;, score=0.618 total time=   0.0s\n",
      "[CV 4/5] END C=0.01, coef0=0.1, degree=2, gamma=scale, kernel=poly, max_iter=10000;, score=0.629 total time=   0.0s\n",
      "[CV 5/5] END C=0.01, coef0=0.1, degree=2, gamma=scale, kernel=poly, max_iter=10000;, score=0.627 total time=   0.0s\n",
      "[CV 1/5] END C=0.01, coef0=0.1, degree=2, gamma=scale, kernel=poly, max_iter=100000;, score=0.640 total time=   0.1s\n",
      "[CV 2/5] END C=0.01, coef0=0.1, degree=2, gamma=scale, kernel=poly, max_iter=100000;, score=0.669 total time=   0.1s\n",
      "[CV 3/5] END C=0.01, coef0=0.1, degree=2, gamma=scale, kernel=poly, max_iter=100000;, score=0.618 total time=   0.1s\n",
      "[CV 4/5] END C=0.01, coef0=0.1, degree=2, gamma=scale, kernel=poly, max_iter=100000;, score=0.629 total time=   0.1s\n",
      "[CV 5/5] END C=0.01, coef0=0.1, degree=2, gamma=scale, kernel=poly, max_iter=100000;, score=0.627 total time=   0.1s\n",
      "[CV 1/5] END C=0.01, coef0=0.1, degree=3, gamma=scale, kernel=linear, max_iter=500;, score=0.803 total time=   0.0s\n",
      "[CV 2/5] END C=0.01, coef0=0.1, degree=3, gamma=scale, kernel=linear, max_iter=500;, score=0.815 total time=   0.0s\n",
      "[CV 3/5] END C=0.01, coef0=0.1, degree=3, gamma=scale, kernel=linear, max_iter=500;, score=0.787 total time=   0.0s\n",
      "[CV 4/5] END C=0.01, coef0=0.1, degree=3, gamma=scale, kernel=linear, max_iter=500;, score=0.753 total time=   0.0s\n",
      "[CV 5/5] END C=0.01, coef0=0.1, degree=3, gamma=scale, kernel=linear, max_iter=500;, score=0.785 total time=   0.1s\n",
      "[CV 1/5] END C=0.01, coef0=0.1, degree=3, gamma=scale, kernel=linear, max_iter=1000;, score=0.803 total time=   0.0s\n",
      "[CV 2/5] END C=0.01, coef0=0.1, degree=3, gamma=scale, kernel=linear, max_iter=1000;, score=0.815 total time=   0.0s\n",
      "[CV 3/5] END C=0.01, coef0=0.1, degree=3, gamma=scale, kernel=linear, max_iter=1000;, score=0.787 total time=   0.0s\n",
      "[CV 4/5] END C=0.01, coef0=0.1, degree=3, gamma=scale, kernel=linear, max_iter=1000;, score=0.753 total time=   0.0s\n",
      "[CV 5/5] END C=0.01, coef0=0.1, degree=3, gamma=scale, kernel=linear, max_iter=1000;, score=0.785 total time=   0.0s\n",
      "[CV 1/5] END C=0.01, coef0=0.1, degree=3, gamma=scale, kernel=linear, max_iter=10000;, score=0.803 total time=   0.0s\n",
      "[CV 2/5] END C=0.01, coef0=0.1, degree=3, gamma=scale, kernel=linear, max_iter=10000;, score=0.815 total time=   0.0s\n",
      "[CV 3/5] END C=0.01, coef0=0.1, degree=3, gamma=scale, kernel=linear, max_iter=10000;, score=0.787 total time=   0.0s\n",
      "[CV 4/5] END C=0.01, coef0=0.1, degree=3, gamma=scale, kernel=linear, max_iter=10000;, score=0.753 total time=   0.0s\n",
      "[CV 5/5] END C=0.01, coef0=0.1, degree=3, gamma=scale, kernel=linear, max_iter=10000;, score=0.785 total time=   0.0s\n",
      "[CV 1/5] END C=0.01, coef0=0.1, degree=3, gamma=scale, kernel=linear, max_iter=100000;, score=0.803 total time=   0.0s\n",
      "[CV 2/5] END C=0.01, coef0=0.1, degree=3, gamma=scale, kernel=linear, max_iter=100000;, score=0.815 total time=   0.0s\n",
      "[CV 3/5] END C=0.01, coef0=0.1, degree=3, gamma=scale, kernel=linear, max_iter=100000;, score=0.787 total time=   0.0s\n",
      "[CV 4/5] END C=0.01, coef0=0.1, degree=3, gamma=scale, kernel=linear, max_iter=100000;, score=0.753 total time=   0.0s\n",
      "[CV 5/5] END C=0.01, coef0=0.1, degree=3, gamma=scale, kernel=linear, max_iter=100000;, score=0.785 total time=   0.0s\n",
      "[CV 1/5] END C=0.01, coef0=0.1, degree=3, gamma=scale, kernel=rbf, max_iter=500;, score=0.618 total time=   0.1s\n",
      "[CV 2/5] END C=0.01, coef0=0.1, degree=3, gamma=scale, kernel=rbf, max_iter=500;, score=0.618 total time=   0.1s\n",
      "[CV 3/5] END C=0.01, coef0=0.1, degree=3, gamma=scale, kernel=rbf, max_iter=500;, score=0.618 total time=   0.1s\n",
      "[CV 4/5] END C=0.01, coef0=0.1, degree=3, gamma=scale, kernel=rbf, max_iter=500;, score=0.618 total time=   0.1s\n",
      "[CV 5/5] END C=0.01, coef0=0.1, degree=3, gamma=scale, kernel=rbf, max_iter=500;, score=0.616 total time=   0.1s\n",
      "[CV 1/5] END C=0.01, coef0=0.1, degree=3, gamma=scale, kernel=rbf, max_iter=1000;, score=0.618 total time=   0.1s\n",
      "[CV 2/5] END C=0.01, coef0=0.1, degree=3, gamma=scale, kernel=rbf, max_iter=1000;, score=0.618 total time=   0.1s\n",
      "[CV 3/5] END C=0.01, coef0=0.1, degree=3, gamma=scale, kernel=rbf, max_iter=1000;, score=0.618 total time=   0.1s\n",
      "[CV 4/5] END C=0.01, coef0=0.1, degree=3, gamma=scale, kernel=rbf, max_iter=1000;, score=0.618 total time=   0.1s\n",
      "[CV 5/5] END C=0.01, coef0=0.1, degree=3, gamma=scale, kernel=rbf, max_iter=1000;, score=0.616 total time=   0.1s\n",
      "[CV 1/5] END C=0.01, coef0=0.1, degree=3, gamma=scale, kernel=rbf, max_iter=10000;, score=0.618 total time=   0.1s\n",
      "[CV 2/5] END C=0.01, coef0=0.1, degree=3, gamma=scale, kernel=rbf, max_iter=10000;, score=0.618 total time=   0.1s\n",
      "[CV 3/5] END C=0.01, coef0=0.1, degree=3, gamma=scale, kernel=rbf, max_iter=10000;, score=0.618 total time=   0.1s\n",
      "[CV 4/5] END C=0.01, coef0=0.1, degree=3, gamma=scale, kernel=rbf, max_iter=10000;, score=0.618 total time=   0.1s\n",
      "[CV 5/5] END C=0.01, coef0=0.1, degree=3, gamma=scale, kernel=rbf, max_iter=10000;, score=0.616 total time=   0.1s\n",
      "[CV 1/5] END C=0.01, coef0=0.1, degree=3, gamma=scale, kernel=rbf, max_iter=100000;, score=0.618 total time=   0.1s\n",
      "[CV 2/5] END C=0.01, coef0=0.1, degree=3, gamma=scale, kernel=rbf, max_iter=100000;, score=0.618 total time=   0.1s\n",
      "[CV 3/5] END C=0.01, coef0=0.1, degree=3, gamma=scale, kernel=rbf, max_iter=100000;, score=0.618 total time=   0.1s\n",
      "[CV 4/5] END C=0.01, coef0=0.1, degree=3, gamma=scale, kernel=rbf, max_iter=100000;, score=0.618 total time=   0.1s\n",
      "[CV 5/5] END C=0.01, coef0=0.1, degree=3, gamma=scale, kernel=rbf, max_iter=100000;, score=0.616 total time=   0.1s\n",
      "[CV 1/5] END C=0.01, coef0=0.1, degree=3, gamma=scale, kernel=poly, max_iter=500;, score=0.685 total time=   0.0s\n",
      "[CV 2/5] END C=0.01, coef0=0.1, degree=3, gamma=scale, kernel=poly, max_iter=500;, score=0.753 total time=   0.0s\n",
      "[CV 3/5] END C=0.01, coef0=0.1, degree=3, gamma=scale, kernel=poly, max_iter=500;, score=0.685 total time=   0.0s\n",
      "[CV 4/5] END C=0.01, coef0=0.1, degree=3, gamma=scale, kernel=poly, max_iter=500;, score=0.747 total time=   0.0s\n",
      "[CV 5/5] END C=0.01, coef0=0.1, degree=3, gamma=scale, kernel=poly, max_iter=500;, score=0.763 total time=   0.0s\n",
      "[CV 1/5] END C=0.01, coef0=0.1, degree=3, gamma=scale, kernel=poly, max_iter=1000;, score=0.685 total time=   0.0s\n",
      "[CV 2/5] END C=0.01, coef0=0.1, degree=3, gamma=scale, kernel=poly, max_iter=1000;, score=0.753 total time=   0.0s\n",
      "[CV 3/5] END C=0.01, coef0=0.1, degree=3, gamma=scale, kernel=poly, max_iter=1000;, score=0.685 total time=   0.0s\n",
      "[CV 4/5] END C=0.01, coef0=0.1, degree=3, gamma=scale, kernel=poly, max_iter=1000;, score=0.747 total time=   0.0s\n",
      "[CV 5/5] END C=0.01, coef0=0.1, degree=3, gamma=scale, kernel=poly, max_iter=1000;, score=0.763 total time=   0.0s\n",
      "[CV 1/5] END C=0.01, coef0=0.1, degree=3, gamma=scale, kernel=poly, max_iter=10000;, score=0.685 total time=   0.0s\n",
      "[CV 2/5] END C=0.01, coef0=0.1, degree=3, gamma=scale, kernel=poly, max_iter=10000;, score=0.753 total time=   0.0s\n",
      "[CV 3/5] END C=0.01, coef0=0.1, degree=3, gamma=scale, kernel=poly, max_iter=10000;, score=0.685 total time=   0.0s\n",
      "[CV 4/5] END C=0.01, coef0=0.1, degree=3, gamma=scale, kernel=poly, max_iter=10000;, score=0.747 total time=   0.0s\n",
      "[CV 5/5] END C=0.01, coef0=0.1, degree=3, gamma=scale, kernel=poly, max_iter=10000;, score=0.763 total time=   0.0s\n",
      "[CV 1/5] END C=0.01, coef0=0.1, degree=3, gamma=scale, kernel=poly, max_iter=100000;, score=0.685 total time=   0.0s\n",
      "[CV 2/5] END C=0.01, coef0=0.1, degree=3, gamma=scale, kernel=poly, max_iter=100000;, score=0.753 total time=   0.0s\n",
      "[CV 3/5] END C=0.01, coef0=0.1, degree=3, gamma=scale, kernel=poly, max_iter=100000;, score=0.685 total time=   0.0s\n",
      "[CV 4/5] END C=0.01, coef0=0.1, degree=3, gamma=scale, kernel=poly, max_iter=100000;, score=0.747 total time=   0.0s\n",
      "[CV 5/5] END C=0.01, coef0=0.1, degree=3, gamma=scale, kernel=poly, max_iter=100000;, score=0.763 total time=   0.0s\n",
      "[CV 1/5] END C=0.01, coef0=0.1, degree=4, gamma=scale, kernel=linear, max_iter=500;, score=0.803 total time=   0.0s\n",
      "[CV 2/5] END C=0.01, coef0=0.1, degree=4, gamma=scale, kernel=linear, max_iter=500;, score=0.815 total time=   0.0s\n",
      "[CV 3/5] END C=0.01, coef0=0.1, degree=4, gamma=scale, kernel=linear, max_iter=500;, score=0.787 total time=   0.0s\n",
      "[CV 4/5] END C=0.01, coef0=0.1, degree=4, gamma=scale, kernel=linear, max_iter=500;, score=0.753 total time=   0.0s\n",
      "[CV 5/5] END C=0.01, coef0=0.1, degree=4, gamma=scale, kernel=linear, max_iter=500;, score=0.785 total time=   0.0s\n",
      "[CV 1/5] END C=0.01, coef0=0.1, degree=4, gamma=scale, kernel=linear, max_iter=1000;, score=0.803 total time=   0.0s\n",
      "[CV 2/5] END C=0.01, coef0=0.1, degree=4, gamma=scale, kernel=linear, max_iter=1000;, score=0.815 total time=   0.0s\n",
      "[CV 3/5] END C=0.01, coef0=0.1, degree=4, gamma=scale, kernel=linear, max_iter=1000;, score=0.787 total time=   0.0s\n",
      "[CV 4/5] END C=0.01, coef0=0.1, degree=4, gamma=scale, kernel=linear, max_iter=1000;, score=0.753 total time=   0.0s\n",
      "[CV 5/5] END C=0.01, coef0=0.1, degree=4, gamma=scale, kernel=linear, max_iter=1000;, score=0.785 total time=   0.0s\n",
      "[CV 1/5] END C=0.01, coef0=0.1, degree=4, gamma=scale, kernel=linear, max_iter=10000;, score=0.803 total time=   0.0s\n",
      "[CV 2/5] END C=0.01, coef0=0.1, degree=4, gamma=scale, kernel=linear, max_iter=10000;, score=0.815 total time=   0.0s\n",
      "[CV 3/5] END C=0.01, coef0=0.1, degree=4, gamma=scale, kernel=linear, max_iter=10000;, score=0.787 total time=   0.0s\n",
      "[CV 4/5] END C=0.01, coef0=0.1, degree=4, gamma=scale, kernel=linear, max_iter=10000;, score=0.753 total time=   0.0s\n",
      "[CV 5/5] END C=0.01, coef0=0.1, degree=4, gamma=scale, kernel=linear, max_iter=10000;, score=0.785 total time=   0.0s\n",
      "[CV 1/5] END C=0.01, coef0=0.1, degree=4, gamma=scale, kernel=linear, max_iter=100000;, score=0.803 total time=   0.0s\n",
      "[CV 2/5] END C=0.01, coef0=0.1, degree=4, gamma=scale, kernel=linear, max_iter=100000;, score=0.815 total time=   0.0s\n",
      "[CV 3/5] END C=0.01, coef0=0.1, degree=4, gamma=scale, kernel=linear, max_iter=100000;, score=0.787 total time=   0.0s\n",
      "[CV 4/5] END C=0.01, coef0=0.1, degree=4, gamma=scale, kernel=linear, max_iter=100000;, score=0.753 total time=   0.0s\n",
      "[CV 5/5] END C=0.01, coef0=0.1, degree=4, gamma=scale, kernel=linear, max_iter=100000;, score=0.785 total time=   0.0s\n",
      "[CV 1/5] END C=0.01, coef0=0.1, degree=4, gamma=scale, kernel=rbf, max_iter=500;, score=0.618 total time=   0.1s\n",
      "[CV 2/5] END C=0.01, coef0=0.1, degree=4, gamma=scale, kernel=rbf, max_iter=500;, score=0.618 total time=   0.1s\n",
      "[CV 3/5] END C=0.01, coef0=0.1, degree=4, gamma=scale, kernel=rbf, max_iter=500;, score=0.618 total time=   0.1s\n",
      "[CV 4/5] END C=0.01, coef0=0.1, degree=4, gamma=scale, kernel=rbf, max_iter=500;, score=0.618 total time=   0.1s\n",
      "[CV 5/5] END C=0.01, coef0=0.1, degree=4, gamma=scale, kernel=rbf, max_iter=500;, score=0.616 total time=   0.1s\n",
      "[CV 1/5] END C=0.01, coef0=0.1, degree=4, gamma=scale, kernel=rbf, max_iter=1000;, score=0.618 total time=   0.1s\n",
      "[CV 2/5] END C=0.01, coef0=0.1, degree=4, gamma=scale, kernel=rbf, max_iter=1000;, score=0.618 total time=   0.1s\n",
      "[CV 3/5] END C=0.01, coef0=0.1, degree=4, gamma=scale, kernel=rbf, max_iter=1000;, score=0.618 total time=   0.1s\n",
      "[CV 4/5] END C=0.01, coef0=0.1, degree=4, gamma=scale, kernel=rbf, max_iter=1000;, score=0.618 total time=   0.1s\n",
      "[CV 5/5] END C=0.01, coef0=0.1, degree=4, gamma=scale, kernel=rbf, max_iter=1000;, score=0.616 total time=   0.1s\n",
      "[CV 1/5] END C=0.01, coef0=0.1, degree=4, gamma=scale, kernel=rbf, max_iter=10000;, score=0.618 total time=   0.1s\n",
      "[CV 2/5] END C=0.01, coef0=0.1, degree=4, gamma=scale, kernel=rbf, max_iter=10000;, score=0.618 total time=   0.1s\n",
      "[CV 3/5] END C=0.01, coef0=0.1, degree=4, gamma=scale, kernel=rbf, max_iter=10000;, score=0.618 total time=   0.1s\n",
      "[CV 4/5] END C=0.01, coef0=0.1, degree=4, gamma=scale, kernel=rbf, max_iter=10000;, score=0.618 total time=   0.1s\n",
      "[CV 5/5] END C=0.01, coef0=0.1, degree=4, gamma=scale, kernel=rbf, max_iter=10000;, score=0.616 total time=   0.1s\n",
      "[CV 1/5] END C=0.01, coef0=0.1, degree=4, gamma=scale, kernel=rbf, max_iter=100000;, score=0.618 total time=   0.1s\n",
      "[CV 2/5] END C=0.01, coef0=0.1, degree=4, gamma=scale, kernel=rbf, max_iter=100000;, score=0.618 total time=   0.1s\n",
      "[CV 3/5] END C=0.01, coef0=0.1, degree=4, gamma=scale, kernel=rbf, max_iter=100000;, score=0.618 total time=   0.1s\n",
      "[CV 4/5] END C=0.01, coef0=0.1, degree=4, gamma=scale, kernel=rbf, max_iter=100000;, score=0.618 total time=   0.1s\n",
      "[CV 5/5] END C=0.01, coef0=0.1, degree=4, gamma=scale, kernel=rbf, max_iter=100000;, score=0.616 total time=   0.1s\n",
      "[CV 1/5] END C=0.01, coef0=0.1, degree=4, gamma=scale, kernel=poly, max_iter=500;, score=0.702 total time=   0.0s\n",
      "[CV 2/5] END C=0.01, coef0=0.1, degree=4, gamma=scale, kernel=poly, max_iter=500;, score=0.781 total time=   0.0s\n",
      "[CV 3/5] END C=0.01, coef0=0.1, degree=4, gamma=scale, kernel=poly, max_iter=500;, score=0.753 total time=   0.0s\n",
      "[CV 4/5] END C=0.01, coef0=0.1, degree=4, gamma=scale, kernel=poly, max_iter=500;, score=0.753 total time=   0.0s\n",
      "[CV 5/5] END C=0.01, coef0=0.1, degree=4, gamma=scale, kernel=poly, max_iter=500;, score=0.791 total time=   0.0s\n",
      "[CV 1/5] END C=0.01, coef0=0.1, degree=4, gamma=scale, kernel=poly, max_iter=1000;, score=0.702 total time=   0.0s\n",
      "[CV 2/5] END C=0.01, coef0=0.1, degree=4, gamma=scale, kernel=poly, max_iter=1000;, score=0.781 total time=   0.0s\n",
      "[CV 3/5] END C=0.01, coef0=0.1, degree=4, gamma=scale, kernel=poly, max_iter=1000;, score=0.753 total time=   0.0s\n",
      "[CV 4/5] END C=0.01, coef0=0.1, degree=4, gamma=scale, kernel=poly, max_iter=1000;, score=0.753 total time=   0.0s\n",
      "[CV 5/5] END C=0.01, coef0=0.1, degree=4, gamma=scale, kernel=poly, max_iter=1000;, score=0.791 total time=   0.0s\n",
      "[CV 1/5] END C=0.01, coef0=0.1, degree=4, gamma=scale, kernel=poly, max_iter=10000;, score=0.702 total time=   0.0s\n",
      "[CV 2/5] END C=0.01, coef0=0.1, degree=4, gamma=scale, kernel=poly, max_iter=10000;, score=0.781 total time=   0.0s\n",
      "[CV 3/5] END C=0.01, coef0=0.1, degree=4, gamma=scale, kernel=poly, max_iter=10000;, score=0.753 total time=   0.0s\n",
      "[CV 4/5] END C=0.01, coef0=0.1, degree=4, gamma=scale, kernel=poly, max_iter=10000;, score=0.753 total time=   0.0s\n",
      "[CV 5/5] END C=0.01, coef0=0.1, degree=4, gamma=scale, kernel=poly, max_iter=10000;, score=0.791 total time=   0.0s\n",
      "[CV 1/5] END C=0.01, coef0=0.1, degree=4, gamma=scale, kernel=poly, max_iter=100000;, score=0.702 total time=   0.0s\n",
      "[CV 2/5] END C=0.01, coef0=0.1, degree=4, gamma=scale, kernel=poly, max_iter=100000;, score=0.781 total time=   0.0s\n",
      "[CV 3/5] END C=0.01, coef0=0.1, degree=4, gamma=scale, kernel=poly, max_iter=100000;, score=0.753 total time=   0.0s\n",
      "[CV 4/5] END C=0.01, coef0=0.1, degree=4, gamma=scale, kernel=poly, max_iter=100000;, score=0.753 total time=   0.0s\n",
      "[CV 5/5] END C=0.01, coef0=0.1, degree=4, gamma=scale, kernel=poly, max_iter=100000;, score=0.791 total time=   0.0s\n",
      "[CV 1/5] END C=0.01, coef0=0.1, degree=5, gamma=scale, kernel=linear, max_iter=500;, score=0.803 total time=   0.0s\n",
      "[CV 2/5] END C=0.01, coef0=0.1, degree=5, gamma=scale, kernel=linear, max_iter=500;, score=0.815 total time=   0.0s\n",
      "[CV 3/5] END C=0.01, coef0=0.1, degree=5, gamma=scale, kernel=linear, max_iter=500;, score=0.787 total time=   0.0s\n",
      "[CV 4/5] END C=0.01, coef0=0.1, degree=5, gamma=scale, kernel=linear, max_iter=500;, score=0.753 total time=   0.0s\n",
      "[CV 5/5] END C=0.01, coef0=0.1, degree=5, gamma=scale, kernel=linear, max_iter=500;, score=0.785 total time=   0.0s\n",
      "[CV 1/5] END C=0.01, coef0=0.1, degree=5, gamma=scale, kernel=linear, max_iter=1000;, score=0.803 total time=   0.0s\n",
      "[CV 2/5] END C=0.01, coef0=0.1, degree=5, gamma=scale, kernel=linear, max_iter=1000;, score=0.815 total time=   0.0s\n",
      "[CV 3/5] END C=0.01, coef0=0.1, degree=5, gamma=scale, kernel=linear, max_iter=1000;, score=0.787 total time=   0.0s\n",
      "[CV 4/5] END C=0.01, coef0=0.1, degree=5, gamma=scale, kernel=linear, max_iter=1000;, score=0.753 total time=   0.0s\n",
      "[CV 5/5] END C=0.01, coef0=0.1, degree=5, gamma=scale, kernel=linear, max_iter=1000;, score=0.785 total time=   0.0s\n",
      "[CV 1/5] END C=0.01, coef0=0.1, degree=5, gamma=scale, kernel=linear, max_iter=10000;, score=0.803 total time=   0.0s\n",
      "[CV 2/5] END C=0.01, coef0=0.1, degree=5, gamma=scale, kernel=linear, max_iter=10000;, score=0.815 total time=   0.0s\n",
      "[CV 3/5] END C=0.01, coef0=0.1, degree=5, gamma=scale, kernel=linear, max_iter=10000;, score=0.787 total time=   0.0s\n",
      "[CV 4/5] END C=0.01, coef0=0.1, degree=5, gamma=scale, kernel=linear, max_iter=10000;, score=0.753 total time=   0.0s\n",
      "[CV 5/5] END C=0.01, coef0=0.1, degree=5, gamma=scale, kernel=linear, max_iter=10000;, score=0.785 total time=   0.0s\n",
      "[CV 1/5] END C=0.01, coef0=0.1, degree=5, gamma=scale, kernel=linear, max_iter=100000;, score=0.803 total time=   0.0s\n",
      "[CV 2/5] END C=0.01, coef0=0.1, degree=5, gamma=scale, kernel=linear, max_iter=100000;, score=0.815 total time=   0.0s\n",
      "[CV 3/5] END C=0.01, coef0=0.1, degree=5, gamma=scale, kernel=linear, max_iter=100000;, score=0.787 total time=   0.0s\n",
      "[CV 4/5] END C=0.01, coef0=0.1, degree=5, gamma=scale, kernel=linear, max_iter=100000;, score=0.753 total time=   0.0s\n",
      "[CV 5/5] END C=0.01, coef0=0.1, degree=5, gamma=scale, kernel=linear, max_iter=100000;, score=0.785 total time=   0.0s\n",
      "[CV 1/5] END C=0.01, coef0=0.1, degree=5, gamma=scale, kernel=rbf, max_iter=500;, score=0.618 total time=   0.1s\n",
      "[CV 2/5] END C=0.01, coef0=0.1, degree=5, gamma=scale, kernel=rbf, max_iter=500;, score=0.618 total time=   0.1s\n",
      "[CV 3/5] END C=0.01, coef0=0.1, degree=5, gamma=scale, kernel=rbf, max_iter=500;, score=0.618 total time=   0.1s\n",
      "[CV 4/5] END C=0.01, coef0=0.1, degree=5, gamma=scale, kernel=rbf, max_iter=500;, score=0.618 total time=   0.1s\n",
      "[CV 5/5] END C=0.01, coef0=0.1, degree=5, gamma=scale, kernel=rbf, max_iter=500;, score=0.616 total time=   0.1s\n",
      "[CV 1/5] END C=0.01, coef0=0.1, degree=5, gamma=scale, kernel=rbf, max_iter=1000;, score=0.618 total time=   0.1s\n",
      "[CV 2/5] END C=0.01, coef0=0.1, degree=5, gamma=scale, kernel=rbf, max_iter=1000;, score=0.618 total time=   0.1s\n",
      "[CV 3/5] END C=0.01, coef0=0.1, degree=5, gamma=scale, kernel=rbf, max_iter=1000;, score=0.618 total time=   0.1s\n",
      "[CV 4/5] END C=0.01, coef0=0.1, degree=5, gamma=scale, kernel=rbf, max_iter=1000;, score=0.618 total time=   0.1s\n",
      "[CV 5/5] END C=0.01, coef0=0.1, degree=5, gamma=scale, kernel=rbf, max_iter=1000;, score=0.616 total time=   0.1s\n",
      "[CV 1/5] END C=0.01, coef0=0.1, degree=5, gamma=scale, kernel=rbf, max_iter=10000;, score=0.618 total time=   0.1s\n",
      "[CV 2/5] END C=0.01, coef0=0.1, degree=5, gamma=scale, kernel=rbf, max_iter=10000;, score=0.618 total time=   0.1s\n",
      "[CV 3/5] END C=0.01, coef0=0.1, degree=5, gamma=scale, kernel=rbf, max_iter=10000;, score=0.618 total time=   0.1s\n",
      "[CV 4/5] END C=0.01, coef0=0.1, degree=5, gamma=scale, kernel=rbf, max_iter=10000;, score=0.618 total time=   0.1s\n",
      "[CV 5/5] END C=0.01, coef0=0.1, degree=5, gamma=scale, kernel=rbf, max_iter=10000;, score=0.616 total time=   0.1s\n",
      "[CV 1/5] END C=0.01, coef0=0.1, degree=5, gamma=scale, kernel=rbf, max_iter=100000;, score=0.618 total time=   0.1s\n",
      "[CV 2/5] END C=0.01, coef0=0.1, degree=5, gamma=scale, kernel=rbf, max_iter=100000;, score=0.618 total time=   0.1s\n",
      "[CV 3/5] END C=0.01, coef0=0.1, degree=5, gamma=scale, kernel=rbf, max_iter=100000;, score=0.618 total time=   0.1s\n",
      "[CV 4/5] END C=0.01, coef0=0.1, degree=5, gamma=scale, kernel=rbf, max_iter=100000;, score=0.618 total time=   0.1s\n",
      "[CV 5/5] END C=0.01, coef0=0.1, degree=5, gamma=scale, kernel=rbf, max_iter=100000;, score=0.616 total time=   0.1s\n",
      "[CV 1/5] END C=0.01, coef0=0.1, degree=5, gamma=scale, kernel=poly, max_iter=500;, score=0.719 total time=   0.1s\n",
      "[CV 2/5] END C=0.01, coef0=0.1, degree=5, gamma=scale, kernel=poly, max_iter=500;, score=0.815 total time=   0.0s\n",
      "[CV 3/5] END C=0.01, coef0=0.1, degree=5, gamma=scale, kernel=poly, max_iter=500;, score=0.798 total time=   0.0s\n",
      "[CV 4/5] END C=0.01, coef0=0.1, degree=5, gamma=scale, kernel=poly, max_iter=500;, score=0.775 total time=   0.0s\n",
      "[CV 5/5] END C=0.01, coef0=0.1, degree=5, gamma=scale, kernel=poly, max_iter=500;, score=0.808 total time=   0.0s\n",
      "[CV 1/5] END C=0.01, coef0=0.1, degree=5, gamma=scale, kernel=poly, max_iter=1000;, score=0.719 total time=   0.0s\n",
      "[CV 2/5] END C=0.01, coef0=0.1, degree=5, gamma=scale, kernel=poly, max_iter=1000;, score=0.815 total time=   0.0s\n",
      "[CV 3/5] END C=0.01, coef0=0.1, degree=5, gamma=scale, kernel=poly, max_iter=1000;, score=0.798 total time=   0.0s\n",
      "[CV 4/5] END C=0.01, coef0=0.1, degree=5, gamma=scale, kernel=poly, max_iter=1000;, score=0.775 total time=   0.0s\n",
      "[CV 5/5] END C=0.01, coef0=0.1, degree=5, gamma=scale, kernel=poly, max_iter=1000;, score=0.808 total time=   0.0s\n",
      "[CV 1/5] END C=0.01, coef0=0.1, degree=5, gamma=scale, kernel=poly, max_iter=10000;, score=0.719 total time=   0.0s\n",
      "[CV 2/5] END C=0.01, coef0=0.1, degree=5, gamma=scale, kernel=poly, max_iter=10000;, score=0.815 total time=   0.0s\n",
      "[CV 3/5] END C=0.01, coef0=0.1, degree=5, gamma=scale, kernel=poly, max_iter=10000;, score=0.798 total time=   0.0s\n",
      "[CV 4/5] END C=0.01, coef0=0.1, degree=5, gamma=scale, kernel=poly, max_iter=10000;, score=0.775 total time=   0.0s\n",
      "[CV 5/5] END C=0.01, coef0=0.1, degree=5, gamma=scale, kernel=poly, max_iter=10000;, score=0.808 total time=   0.0s\n",
      "[CV 1/5] END C=0.01, coef0=0.1, degree=5, gamma=scale, kernel=poly, max_iter=100000;, score=0.719 total time=   0.0s\n",
      "[CV 2/5] END C=0.01, coef0=0.1, degree=5, gamma=scale, kernel=poly, max_iter=100000;, score=0.815 total time=   0.0s\n",
      "[CV 3/5] END C=0.01, coef0=0.1, degree=5, gamma=scale, kernel=poly, max_iter=100000;, score=0.798 total time=   0.0s\n",
      "[CV 4/5] END C=0.01, coef0=0.1, degree=5, gamma=scale, kernel=poly, max_iter=100000;, score=0.775 total time=   0.0s\n",
      "[CV 5/5] END C=0.01, coef0=0.1, degree=5, gamma=scale, kernel=poly, max_iter=100000;, score=0.808 total time=   0.0s\n",
      "[CV 1/5] END C=0.01, coef0=1, degree=2, gamma=scale, kernel=linear, max_iter=500;, score=0.803 total time=   0.0s\n",
      "[CV 2/5] END C=0.01, coef0=1, degree=2, gamma=scale, kernel=linear, max_iter=500;, score=0.815 total time=   0.0s\n",
      "[CV 3/5] END C=0.01, coef0=1, degree=2, gamma=scale, kernel=linear, max_iter=500;, score=0.787 total time=   0.0s\n",
      "[CV 4/5] END C=0.01, coef0=1, degree=2, gamma=scale, kernel=linear, max_iter=500;, score=0.753 total time=   0.0s\n",
      "[CV 5/5] END C=0.01, coef0=1, degree=2, gamma=scale, kernel=linear, max_iter=500;, score=0.785 total time=   0.0s\n",
      "[CV 1/5] END C=0.01, coef0=1, degree=2, gamma=scale, kernel=linear, max_iter=1000;, score=0.803 total time=   0.0s\n",
      "[CV 2/5] END C=0.01, coef0=1, degree=2, gamma=scale, kernel=linear, max_iter=1000;, score=0.815 total time=   0.0s\n",
      "[CV 3/5] END C=0.01, coef0=1, degree=2, gamma=scale, kernel=linear, max_iter=1000;, score=0.787 total time=   0.0s\n",
      "[CV 4/5] END C=0.01, coef0=1, degree=2, gamma=scale, kernel=linear, max_iter=1000;, score=0.753 total time=   0.0s\n",
      "[CV 5/5] END C=0.01, coef0=1, degree=2, gamma=scale, kernel=linear, max_iter=1000;, score=0.785 total time=   0.0s\n",
      "[CV 1/5] END C=0.01, coef0=1, degree=2, gamma=scale, kernel=linear, max_iter=10000;, score=0.803 total time=   0.0s\n",
      "[CV 2/5] END C=0.01, coef0=1, degree=2, gamma=scale, kernel=linear, max_iter=10000;, score=0.815 total time=   0.0s\n",
      "[CV 3/5] END C=0.01, coef0=1, degree=2, gamma=scale, kernel=linear, max_iter=10000;, score=0.787 total time=   0.0s\n",
      "[CV 4/5] END C=0.01, coef0=1, degree=2, gamma=scale, kernel=linear, max_iter=10000;, score=0.753 total time=   0.0s\n",
      "[CV 5/5] END C=0.01, coef0=1, degree=2, gamma=scale, kernel=linear, max_iter=10000;, score=0.785 total time=   0.0s\n",
      "[CV 1/5] END C=0.01, coef0=1, degree=2, gamma=scale, kernel=linear, max_iter=100000;, score=0.803 total time=   0.0s\n",
      "[CV 2/5] END C=0.01, coef0=1, degree=2, gamma=scale, kernel=linear, max_iter=100000;, score=0.815 total time=   0.0s\n",
      "[CV 3/5] END C=0.01, coef0=1, degree=2, gamma=scale, kernel=linear, max_iter=100000;, score=0.787 total time=   0.0s\n",
      "[CV 4/5] END C=0.01, coef0=1, degree=2, gamma=scale, kernel=linear, max_iter=100000;, score=0.753 total time=   0.0s\n",
      "[CV 5/5] END C=0.01, coef0=1, degree=2, gamma=scale, kernel=linear, max_iter=100000;, score=0.785 total time=   0.0s\n",
      "[CV 1/5] END C=0.01, coef0=1, degree=2, gamma=scale, kernel=rbf, max_iter=500;, score=0.618 total time=   0.1s\n",
      "[CV 2/5] END C=0.01, coef0=1, degree=2, gamma=scale, kernel=rbf, max_iter=500;, score=0.618 total time=   0.1s\n",
      "[CV 3/5] END C=0.01, coef0=1, degree=2, gamma=scale, kernel=rbf, max_iter=500;, score=0.618 total time=   0.1s\n",
      "[CV 4/5] END C=0.01, coef0=1, degree=2, gamma=scale, kernel=rbf, max_iter=500;, score=0.618 total time=   0.1s\n",
      "[CV 5/5] END C=0.01, coef0=1, degree=2, gamma=scale, kernel=rbf, max_iter=500;, score=0.616 total time=   0.1s\n",
      "[CV 1/5] END C=0.01, coef0=1, degree=2, gamma=scale, kernel=rbf, max_iter=1000;, score=0.618 total time=   0.1s\n",
      "[CV 2/5] END C=0.01, coef0=1, degree=2, gamma=scale, kernel=rbf, max_iter=1000;, score=0.618 total time=   0.1s\n",
      "[CV 3/5] END C=0.01, coef0=1, degree=2, gamma=scale, kernel=rbf, max_iter=1000;, score=0.618 total time=   0.1s\n",
      "[CV 4/5] END C=0.01, coef0=1, degree=2, gamma=scale, kernel=rbf, max_iter=1000;, score=0.618 total time=   0.1s\n",
      "[CV 5/5] END C=0.01, coef0=1, degree=2, gamma=scale, kernel=rbf, max_iter=1000;, score=0.616 total time=   0.1s\n",
      "[CV 1/5] END C=0.01, coef0=1, degree=2, gamma=scale, kernel=rbf, max_iter=10000;, score=0.618 total time=   0.1s\n",
      "[CV 2/5] END C=0.01, coef0=1, degree=2, gamma=scale, kernel=rbf, max_iter=10000;, score=0.618 total time=   0.1s\n",
      "[CV 3/5] END C=0.01, coef0=1, degree=2, gamma=scale, kernel=rbf, max_iter=10000;, score=0.618 total time=   0.1s\n",
      "[CV 4/5] END C=0.01, coef0=1, degree=2, gamma=scale, kernel=rbf, max_iter=10000;, score=0.618 total time=   0.1s\n",
      "[CV 5/5] END C=0.01, coef0=1, degree=2, gamma=scale, kernel=rbf, max_iter=10000;, score=0.616 total time=   0.1s\n",
      "[CV 1/5] END C=0.01, coef0=1, degree=2, gamma=scale, kernel=rbf, max_iter=100000;, score=0.618 total time=   0.1s\n",
      "[CV 2/5] END C=0.01, coef0=1, degree=2, gamma=scale, kernel=rbf, max_iter=100000;, score=0.618 total time=   0.1s\n",
      "[CV 3/5] END C=0.01, coef0=1, degree=2, gamma=scale, kernel=rbf, max_iter=100000;, score=0.618 total time=   0.1s\n",
      "[CV 4/5] END C=0.01, coef0=1, degree=2, gamma=scale, kernel=rbf, max_iter=100000;, score=0.618 total time=   0.1s\n",
      "[CV 5/5] END C=0.01, coef0=1, degree=2, gamma=scale, kernel=rbf, max_iter=100000;, score=0.616 total time=   0.1s\n",
      "[CV 1/5] END C=0.01, coef0=1, degree=2, gamma=scale, kernel=poly, max_iter=500;, score=0.685 total time=   0.0s\n",
      "[CV 2/5] END C=0.01, coef0=1, degree=2, gamma=scale, kernel=poly, max_iter=500;, score=0.753 total time=   0.0s\n",
      "[CV 3/5] END C=0.01, coef0=1, degree=2, gamma=scale, kernel=poly, max_iter=500;, score=0.697 total time=   0.0s\n",
      "[CV 4/5] END C=0.01, coef0=1, degree=2, gamma=scale, kernel=poly, max_iter=500;, score=0.730 total time=   0.0s\n",
      "[CV 5/5] END C=0.01, coef0=1, degree=2, gamma=scale, kernel=poly, max_iter=500;, score=0.751 total time=   0.0s\n",
      "[CV 1/5] END C=0.01, coef0=1, degree=2, gamma=scale, kernel=poly, max_iter=1000;, score=0.685 total time=   0.0s\n",
      "[CV 2/5] END C=0.01, coef0=1, degree=2, gamma=scale, kernel=poly, max_iter=1000;, score=0.753 total time=   0.0s\n",
      "[CV 3/5] END C=0.01, coef0=1, degree=2, gamma=scale, kernel=poly, max_iter=1000;, score=0.697 total time=   0.0s\n",
      "[CV 4/5] END C=0.01, coef0=1, degree=2, gamma=scale, kernel=poly, max_iter=1000;, score=0.730 total time=   0.0s\n",
      "[CV 5/5] END C=0.01, coef0=1, degree=2, gamma=scale, kernel=poly, max_iter=1000;, score=0.751 total time=   0.0s\n",
      "[CV 1/5] END C=0.01, coef0=1, degree=2, gamma=scale, kernel=poly, max_iter=10000;, score=0.685 total time=   0.0s\n",
      "[CV 2/5] END C=0.01, coef0=1, degree=2, gamma=scale, kernel=poly, max_iter=10000;, score=0.753 total time=   0.0s\n",
      "[CV 3/5] END C=0.01, coef0=1, degree=2, gamma=scale, kernel=poly, max_iter=10000;, score=0.697 total time=   0.0s\n",
      "[CV 4/5] END C=0.01, coef0=1, degree=2, gamma=scale, kernel=poly, max_iter=10000;, score=0.730 total time=   0.0s\n",
      "[CV 5/5] END C=0.01, coef0=1, degree=2, gamma=scale, kernel=poly, max_iter=10000;, score=0.751 total time=   0.0s\n",
      "[CV 1/5] END C=0.01, coef0=1, degree=2, gamma=scale, kernel=poly, max_iter=100000;, score=0.685 total time=   0.0s\n",
      "[CV 2/5] END C=0.01, coef0=1, degree=2, gamma=scale, kernel=poly, max_iter=100000;, score=0.753 total time=   0.0s\n",
      "[CV 3/5] END C=0.01, coef0=1, degree=2, gamma=scale, kernel=poly, max_iter=100000;, score=0.697 total time=   0.0s\n",
      "[CV 4/5] END C=0.01, coef0=1, degree=2, gamma=scale, kernel=poly, max_iter=100000;, score=0.730 total time=   0.0s\n",
      "[CV 5/5] END C=0.01, coef0=1, degree=2, gamma=scale, kernel=poly, max_iter=100000;, score=0.751 total time=   0.0s\n",
      "[CV 1/5] END C=0.01, coef0=1, degree=3, gamma=scale, kernel=linear, max_iter=500;, score=0.803 total time=   0.0s\n",
      "[CV 2/5] END C=0.01, coef0=1, degree=3, gamma=scale, kernel=linear, max_iter=500;, score=0.815 total time=   0.0s\n",
      "[CV 3/5] END C=0.01, coef0=1, degree=3, gamma=scale, kernel=linear, max_iter=500;, score=0.787 total time=   0.0s\n",
      "[CV 4/5] END C=0.01, coef0=1, degree=3, gamma=scale, kernel=linear, max_iter=500;, score=0.753 total time=   0.0s\n",
      "[CV 5/5] END C=0.01, coef0=1, degree=3, gamma=scale, kernel=linear, max_iter=500;, score=0.785 total time=   0.0s\n",
      "[CV 1/5] END C=0.01, coef0=1, degree=3, gamma=scale, kernel=linear, max_iter=1000;, score=0.803 total time=   0.0s\n",
      "[CV 2/5] END C=0.01, coef0=1, degree=3, gamma=scale, kernel=linear, max_iter=1000;, score=0.815 total time=   0.0s\n",
      "[CV 3/5] END C=0.01, coef0=1, degree=3, gamma=scale, kernel=linear, max_iter=1000;, score=0.787 total time=   0.0s\n",
      "[CV 4/5] END C=0.01, coef0=1, degree=3, gamma=scale, kernel=linear, max_iter=1000;, score=0.753 total time=   0.0s\n",
      "[CV 5/5] END C=0.01, coef0=1, degree=3, gamma=scale, kernel=linear, max_iter=1000;, score=0.785 total time=   0.0s\n",
      "[CV 1/5] END C=0.01, coef0=1, degree=3, gamma=scale, kernel=linear, max_iter=10000;, score=0.803 total time=   0.0s\n",
      "[CV 2/5] END C=0.01, coef0=1, degree=3, gamma=scale, kernel=linear, max_iter=10000;, score=0.815 total time=   0.0s\n",
      "[CV 3/5] END C=0.01, coef0=1, degree=3, gamma=scale, kernel=linear, max_iter=10000;, score=0.787 total time=   0.0s\n",
      "[CV 4/5] END C=0.01, coef0=1, degree=3, gamma=scale, kernel=linear, max_iter=10000;, score=0.753 total time=   0.0s\n",
      "[CV 5/5] END C=0.01, coef0=1, degree=3, gamma=scale, kernel=linear, max_iter=10000;, score=0.785 total time=   0.0s\n",
      "[CV 1/5] END C=0.01, coef0=1, degree=3, gamma=scale, kernel=linear, max_iter=100000;, score=0.803 total time=   0.0s\n",
      "[CV 2/5] END C=0.01, coef0=1, degree=3, gamma=scale, kernel=linear, max_iter=100000;, score=0.815 total time=   0.0s\n",
      "[CV 3/5] END C=0.01, coef0=1, degree=3, gamma=scale, kernel=linear, max_iter=100000;, score=0.787 total time=   0.0s\n",
      "[CV 4/5] END C=0.01, coef0=1, degree=3, gamma=scale, kernel=linear, max_iter=100000;, score=0.753 total time=   0.0s\n",
      "[CV 5/5] END C=0.01, coef0=1, degree=3, gamma=scale, kernel=linear, max_iter=100000;, score=0.785 total time=   0.0s\n",
      "[CV 1/5] END C=0.01, coef0=1, degree=3, gamma=scale, kernel=rbf, max_iter=500;, score=0.618 total time=   0.1s\n",
      "[CV 2/5] END C=0.01, coef0=1, degree=3, gamma=scale, kernel=rbf, max_iter=500;, score=0.618 total time=   0.1s\n",
      "[CV 3/5] END C=0.01, coef0=1, degree=3, gamma=scale, kernel=rbf, max_iter=500;, score=0.618 total time=   0.1s\n",
      "[CV 4/5] END C=0.01, coef0=1, degree=3, gamma=scale, kernel=rbf, max_iter=500;, score=0.618 total time=   0.1s\n",
      "[CV 5/5] END C=0.01, coef0=1, degree=3, gamma=scale, kernel=rbf, max_iter=500;, score=0.616 total time=   0.1s\n",
      "[CV 1/5] END C=0.01, coef0=1, degree=3, gamma=scale, kernel=rbf, max_iter=1000;, score=0.618 total time=   0.1s\n",
      "[CV 2/5] END C=0.01, coef0=1, degree=3, gamma=scale, kernel=rbf, max_iter=1000;, score=0.618 total time=   0.1s\n",
      "[CV 3/5] END C=0.01, coef0=1, degree=3, gamma=scale, kernel=rbf, max_iter=1000;, score=0.618 total time=   0.1s\n",
      "[CV 4/5] END C=0.01, coef0=1, degree=3, gamma=scale, kernel=rbf, max_iter=1000;, score=0.618 total time=   0.1s\n",
      "[CV 5/5] END C=0.01, coef0=1, degree=3, gamma=scale, kernel=rbf, max_iter=1000;, score=0.616 total time=   0.1s\n",
      "[CV 1/5] END C=0.01, coef0=1, degree=3, gamma=scale, kernel=rbf, max_iter=10000;, score=0.618 total time=   0.1s\n",
      "[CV 2/5] END C=0.01, coef0=1, degree=3, gamma=scale, kernel=rbf, max_iter=10000;, score=0.618 total time=   0.1s\n",
      "[CV 3/5] END C=0.01, coef0=1, degree=3, gamma=scale, kernel=rbf, max_iter=10000;, score=0.618 total time=   0.1s\n",
      "[CV 4/5] END C=0.01, coef0=1, degree=3, gamma=scale, kernel=rbf, max_iter=10000;, score=0.618 total time=   0.1s\n",
      "[CV 5/5] END C=0.01, coef0=1, degree=3, gamma=scale, kernel=rbf, max_iter=10000;, score=0.616 total time=   0.1s\n",
      "[CV 1/5] END C=0.01, coef0=1, degree=3, gamma=scale, kernel=rbf, max_iter=100000;, score=0.618 total time=   0.1s\n",
      "[CV 2/5] END C=0.01, coef0=1, degree=3, gamma=scale, kernel=rbf, max_iter=100000;, score=0.618 total time=   0.1s\n",
      "[CV 3/5] END C=0.01, coef0=1, degree=3, gamma=scale, kernel=rbf, max_iter=100000;, score=0.618 total time=   0.1s\n",
      "[CV 4/5] END C=0.01, coef0=1, degree=3, gamma=scale, kernel=rbf, max_iter=100000;, score=0.618 total time=   0.1s\n",
      "[CV 5/5] END C=0.01, coef0=1, degree=3, gamma=scale, kernel=rbf, max_iter=100000;, score=0.616 total time=   0.1s\n",
      "[CV 1/5] END C=0.01, coef0=1, degree=3, gamma=scale, kernel=poly, max_iter=500;, score=0.803 total time=   0.0s\n",
      "[CV 2/5] END C=0.01, coef0=1, degree=3, gamma=scale, kernel=poly, max_iter=500;, score=0.803 total time=   0.0s\n",
      "[CV 3/5] END C=0.01, coef0=1, degree=3, gamma=scale, kernel=poly, max_iter=500;, score=0.787 total time=   0.0s\n",
      "[CV 4/5] END C=0.01, coef0=1, degree=3, gamma=scale, kernel=poly, max_iter=500;, score=0.753 total time=   0.0s\n",
      "[CV 5/5] END C=0.01, coef0=1, degree=3, gamma=scale, kernel=poly, max_iter=500;, score=0.797 total time=   0.0s\n",
      "[CV 1/5] END C=0.01, coef0=1, degree=3, gamma=scale, kernel=poly, max_iter=1000;, score=0.803 total time=   0.0s\n",
      "[CV 2/5] END C=0.01, coef0=1, degree=3, gamma=scale, kernel=poly, max_iter=1000;, score=0.803 total time=   0.0s\n",
      "[CV 3/5] END C=0.01, coef0=1, degree=3, gamma=scale, kernel=poly, max_iter=1000;, score=0.787 total time=   0.0s\n",
      "[CV 4/5] END C=0.01, coef0=1, degree=3, gamma=scale, kernel=poly, max_iter=1000;, score=0.753 total time=   0.0s\n",
      "[CV 5/5] END C=0.01, coef0=1, degree=3, gamma=scale, kernel=poly, max_iter=1000;, score=0.797 total time=   0.0s\n",
      "[CV 1/5] END C=0.01, coef0=1, degree=3, gamma=scale, kernel=poly, max_iter=10000;, score=0.803 total time=   0.0s\n",
      "[CV 2/5] END C=0.01, coef0=1, degree=3, gamma=scale, kernel=poly, max_iter=10000;, score=0.803 total time=   0.0s\n",
      "[CV 3/5] END C=0.01, coef0=1, degree=3, gamma=scale, kernel=poly, max_iter=10000;, score=0.787 total time=   0.0s\n",
      "[CV 4/5] END C=0.01, coef0=1, degree=3, gamma=scale, kernel=poly, max_iter=10000;, score=0.753 total time=   0.0s\n",
      "[CV 5/5] END C=0.01, coef0=1, degree=3, gamma=scale, kernel=poly, max_iter=10000;, score=0.797 total time=   0.0s\n",
      "[CV 1/5] END C=0.01, coef0=1, degree=3, gamma=scale, kernel=poly, max_iter=100000;, score=0.803 total time=   0.0s\n",
      "[CV 2/5] END C=0.01, coef0=1, degree=3, gamma=scale, kernel=poly, max_iter=100000;, score=0.803 total time=   0.0s\n",
      "[CV 3/5] END C=0.01, coef0=1, degree=3, gamma=scale, kernel=poly, max_iter=100000;, score=0.787 total time=   0.0s\n",
      "[CV 4/5] END C=0.01, coef0=1, degree=3, gamma=scale, kernel=poly, max_iter=100000;, score=0.753 total time=   0.0s\n",
      "[CV 5/5] END C=0.01, coef0=1, degree=3, gamma=scale, kernel=poly, max_iter=100000;, score=0.797 total time=   0.0s\n",
      "[CV 1/5] END C=0.01, coef0=1, degree=4, gamma=scale, kernel=linear, max_iter=500;, score=0.803 total time=   0.0s\n",
      "[CV 2/5] END C=0.01, coef0=1, degree=4, gamma=scale, kernel=linear, max_iter=500;, score=0.815 total time=   0.0s\n",
      "[CV 3/5] END C=0.01, coef0=1, degree=4, gamma=scale, kernel=linear, max_iter=500;, score=0.787 total time=   0.0s\n",
      "[CV 4/5] END C=0.01, coef0=1, degree=4, gamma=scale, kernel=linear, max_iter=500;, score=0.753 total time=   0.0s\n",
      "[CV 5/5] END C=0.01, coef0=1, degree=4, gamma=scale, kernel=linear, max_iter=500;, score=0.785 total time=   0.0s\n",
      "[CV 1/5] END C=0.01, coef0=1, degree=4, gamma=scale, kernel=linear, max_iter=1000;, score=0.803 total time=   0.0s\n",
      "[CV 2/5] END C=0.01, coef0=1, degree=4, gamma=scale, kernel=linear, max_iter=1000;, score=0.815 total time=   0.0s\n",
      "[CV 3/5] END C=0.01, coef0=1, degree=4, gamma=scale, kernel=linear, max_iter=1000;, score=0.787 total time=   0.0s\n",
      "[CV 4/5] END C=0.01, coef0=1, degree=4, gamma=scale, kernel=linear, max_iter=1000;, score=0.753 total time=   0.0s\n",
      "[CV 5/5] END C=0.01, coef0=1, degree=4, gamma=scale, kernel=linear, max_iter=1000;, score=0.785 total time=   0.0s\n",
      "[CV 1/5] END C=0.01, coef0=1, degree=4, gamma=scale, kernel=linear, max_iter=10000;, score=0.803 total time=   0.0s\n",
      "[CV 2/5] END C=0.01, coef0=1, degree=4, gamma=scale, kernel=linear, max_iter=10000;, score=0.815 total time=   0.0s\n",
      "[CV 3/5] END C=0.01, coef0=1, degree=4, gamma=scale, kernel=linear, max_iter=10000;, score=0.787 total time=   0.0s\n",
      "[CV 4/5] END C=0.01, coef0=1, degree=4, gamma=scale, kernel=linear, max_iter=10000;, score=0.753 total time=   0.0s\n",
      "[CV 5/5] END C=0.01, coef0=1, degree=4, gamma=scale, kernel=linear, max_iter=10000;, score=0.785 total time=   0.0s\n",
      "[CV 1/5] END C=0.01, coef0=1, degree=4, gamma=scale, kernel=linear, max_iter=100000;, score=0.803 total time=   0.0s\n",
      "[CV 2/5] END C=0.01, coef0=1, degree=4, gamma=scale, kernel=linear, max_iter=100000;, score=0.815 total time=   0.0s\n",
      "[CV 3/5] END C=0.01, coef0=1, degree=4, gamma=scale, kernel=linear, max_iter=100000;, score=0.787 total time=   0.0s\n",
      "[CV 4/5] END C=0.01, coef0=1, degree=4, gamma=scale, kernel=linear, max_iter=100000;, score=0.753 total time=   0.0s\n",
      "[CV 5/5] END C=0.01, coef0=1, degree=4, gamma=scale, kernel=linear, max_iter=100000;, score=0.785 total time=   0.0s\n",
      "[CV 1/5] END C=0.01, coef0=1, degree=4, gamma=scale, kernel=rbf, max_iter=500;, score=0.618 total time=   0.1s\n",
      "[CV 2/5] END C=0.01, coef0=1, degree=4, gamma=scale, kernel=rbf, max_iter=500;, score=0.618 total time=   0.1s\n",
      "[CV 3/5] END C=0.01, coef0=1, degree=4, gamma=scale, kernel=rbf, max_iter=500;, score=0.618 total time=   0.1s\n",
      "[CV 4/5] END C=0.01, coef0=1, degree=4, gamma=scale, kernel=rbf, max_iter=500;, score=0.618 total time=   0.1s\n",
      "[CV 5/5] END C=0.01, coef0=1, degree=4, gamma=scale, kernel=rbf, max_iter=500;, score=0.616 total time=   0.1s\n",
      "[CV 1/5] END C=0.01, coef0=1, degree=4, gamma=scale, kernel=rbf, max_iter=1000;, score=0.618 total time=   0.1s\n",
      "[CV 2/5] END C=0.01, coef0=1, degree=4, gamma=scale, kernel=rbf, max_iter=1000;, score=0.618 total time=   0.1s\n",
      "[CV 3/5] END C=0.01, coef0=1, degree=4, gamma=scale, kernel=rbf, max_iter=1000;, score=0.618 total time=   0.1s\n",
      "[CV 4/5] END C=0.01, coef0=1, degree=4, gamma=scale, kernel=rbf, max_iter=1000;, score=0.618 total time=   0.1s\n",
      "[CV 5/5] END C=0.01, coef0=1, degree=4, gamma=scale, kernel=rbf, max_iter=1000;, score=0.616 total time=   0.1s\n",
      "[CV 1/5] END C=0.01, coef0=1, degree=4, gamma=scale, kernel=rbf, max_iter=10000;, score=0.618 total time=   0.1s\n",
      "[CV 2/5] END C=0.01, coef0=1, degree=4, gamma=scale, kernel=rbf, max_iter=10000;, score=0.618 total time=   0.1s\n",
      "[CV 3/5] END C=0.01, coef0=1, degree=4, gamma=scale, kernel=rbf, max_iter=10000;, score=0.618 total time=   0.1s\n",
      "[CV 4/5] END C=0.01, coef0=1, degree=4, gamma=scale, kernel=rbf, max_iter=10000;, score=0.618 total time=   0.1s\n",
      "[CV 5/5] END C=0.01, coef0=1, degree=4, gamma=scale, kernel=rbf, max_iter=10000;, score=0.616 total time=   0.1s\n",
      "[CV 1/5] END C=0.01, coef0=1, degree=4, gamma=scale, kernel=rbf, max_iter=100000;, score=0.618 total time=   0.1s\n",
      "[CV 2/5] END C=0.01, coef0=1, degree=4, gamma=scale, kernel=rbf, max_iter=100000;, score=0.618 total time=   0.1s\n",
      "[CV 3/5] END C=0.01, coef0=1, degree=4, gamma=scale, kernel=rbf, max_iter=100000;, score=0.618 total time=   0.1s\n",
      "[CV 4/5] END C=0.01, coef0=1, degree=4, gamma=scale, kernel=rbf, max_iter=100000;, score=0.618 total time=   0.1s\n",
      "[CV 5/5] END C=0.01, coef0=1, degree=4, gamma=scale, kernel=rbf, max_iter=100000;, score=0.616 total time=   0.1s\n",
      "[CV 1/5] END C=0.01, coef0=1, degree=4, gamma=scale, kernel=poly, max_iter=500;, score=0.826 total time=   0.0s\n",
      "[CV 2/5] END C=0.01, coef0=1, degree=4, gamma=scale, kernel=poly, max_iter=500;, score=0.809 total time=   0.0s\n",
      "[CV 3/5] END C=0.01, coef0=1, degree=4, gamma=scale, kernel=poly, max_iter=500;, score=0.792 total time=   0.0s\n",
      "[CV 4/5] END C=0.01, coef0=1, degree=4, gamma=scale, kernel=poly, max_iter=500;, score=0.764 total time=   0.0s\n",
      "[CV 5/5] END C=0.01, coef0=1, degree=4, gamma=scale, kernel=poly, max_iter=500;, score=0.825 total time=   0.0s\n",
      "[CV 1/5] END C=0.01, coef0=1, degree=4, gamma=scale, kernel=poly, max_iter=1000;, score=0.826 total time=   0.0s\n",
      "[CV 2/5] END C=0.01, coef0=1, degree=4, gamma=scale, kernel=poly, max_iter=1000;, score=0.809 total time=   0.0s\n",
      "[CV 3/5] END C=0.01, coef0=1, degree=4, gamma=scale, kernel=poly, max_iter=1000;, score=0.792 total time=   0.0s\n",
      "[CV 4/5] END C=0.01, coef0=1, degree=4, gamma=scale, kernel=poly, max_iter=1000;, score=0.764 total time=   0.0s\n",
      "[CV 5/5] END C=0.01, coef0=1, degree=4, gamma=scale, kernel=poly, max_iter=1000;, score=0.825 total time=   0.0s\n",
      "[CV 1/5] END C=0.01, coef0=1, degree=4, gamma=scale, kernel=poly, max_iter=10000;, score=0.826 total time=   0.0s\n",
      "[CV 2/5] END C=0.01, coef0=1, degree=4, gamma=scale, kernel=poly, max_iter=10000;, score=0.809 total time=   0.0s\n",
      "[CV 3/5] END C=0.01, coef0=1, degree=4, gamma=scale, kernel=poly, max_iter=10000;, score=0.792 total time=   0.0s\n",
      "[CV 4/5] END C=0.01, coef0=1, degree=4, gamma=scale, kernel=poly, max_iter=10000;, score=0.764 total time=   0.0s\n",
      "[CV 5/5] END C=0.01, coef0=1, degree=4, gamma=scale, kernel=poly, max_iter=10000;, score=0.825 total time=   0.0s\n",
      "[CV 1/5] END C=0.01, coef0=1, degree=4, gamma=scale, kernel=poly, max_iter=100000;, score=0.826 total time=   0.0s\n",
      "[CV 2/5] END C=0.01, coef0=1, degree=4, gamma=scale, kernel=poly, max_iter=100000;, score=0.809 total time=   0.0s\n",
      "[CV 3/5] END C=0.01, coef0=1, degree=4, gamma=scale, kernel=poly, max_iter=100000;, score=0.792 total time=   0.0s\n",
      "[CV 4/5] END C=0.01, coef0=1, degree=4, gamma=scale, kernel=poly, max_iter=100000;, score=0.764 total time=   0.0s\n",
      "[CV 5/5] END C=0.01, coef0=1, degree=4, gamma=scale, kernel=poly, max_iter=100000;, score=0.825 total time=   0.0s\n",
      "[CV 1/5] END C=0.01, coef0=1, degree=5, gamma=scale, kernel=linear, max_iter=500;, score=0.803 total time=   0.0s\n",
      "[CV 2/5] END C=0.01, coef0=1, degree=5, gamma=scale, kernel=linear, max_iter=500;, score=0.815 total time=   0.0s\n",
      "[CV 3/5] END C=0.01, coef0=1, degree=5, gamma=scale, kernel=linear, max_iter=500;, score=0.787 total time=   0.0s\n",
      "[CV 4/5] END C=0.01, coef0=1, degree=5, gamma=scale, kernel=linear, max_iter=500;, score=0.753 total time=   0.0s\n",
      "[CV 5/5] END C=0.01, coef0=1, degree=5, gamma=scale, kernel=linear, max_iter=500;, score=0.785 total time=   0.0s\n",
      "[CV 1/5] END C=0.01, coef0=1, degree=5, gamma=scale, kernel=linear, max_iter=1000;, score=0.803 total time=   0.0s\n",
      "[CV 2/5] END C=0.01, coef0=1, degree=5, gamma=scale, kernel=linear, max_iter=1000;, score=0.815 total time=   0.0s\n",
      "[CV 3/5] END C=0.01, coef0=1, degree=5, gamma=scale, kernel=linear, max_iter=1000;, score=0.787 total time=   0.0s\n",
      "[CV 4/5] END C=0.01, coef0=1, degree=5, gamma=scale, kernel=linear, max_iter=1000;, score=0.753 total time=   0.0s\n",
      "[CV 5/5] END C=0.01, coef0=1, degree=5, gamma=scale, kernel=linear, max_iter=1000;, score=0.785 total time=   0.0s\n",
      "[CV 1/5] END C=0.01, coef0=1, degree=5, gamma=scale, kernel=linear, max_iter=10000;, score=0.803 total time=   0.0s\n",
      "[CV 2/5] END C=0.01, coef0=1, degree=5, gamma=scale, kernel=linear, max_iter=10000;, score=0.815 total time=   0.0s\n",
      "[CV 3/5] END C=0.01, coef0=1, degree=5, gamma=scale, kernel=linear, max_iter=10000;, score=0.787 total time=   0.0s\n",
      "[CV 4/5] END C=0.01, coef0=1, degree=5, gamma=scale, kernel=linear, max_iter=10000;, score=0.753 total time=   0.0s\n",
      "[CV 5/5] END C=0.01, coef0=1, degree=5, gamma=scale, kernel=linear, max_iter=10000;, score=0.785 total time=   0.0s\n",
      "[CV 1/5] END C=0.01, coef0=1, degree=5, gamma=scale, kernel=linear, max_iter=100000;, score=0.803 total time=   0.0s\n",
      "[CV 2/5] END C=0.01, coef0=1, degree=5, gamma=scale, kernel=linear, max_iter=100000;, score=0.815 total time=   0.0s\n",
      "[CV 3/5] END C=0.01, coef0=1, degree=5, gamma=scale, kernel=linear, max_iter=100000;, score=0.787 total time=   0.0s\n",
      "[CV 4/5] END C=0.01, coef0=1, degree=5, gamma=scale, kernel=linear, max_iter=100000;, score=0.753 total time=   0.0s\n",
      "[CV 5/5] END C=0.01, coef0=1, degree=5, gamma=scale, kernel=linear, max_iter=100000;, score=0.785 total time=   0.0s\n",
      "[CV 1/5] END C=0.01, coef0=1, degree=5, gamma=scale, kernel=rbf, max_iter=500;, score=0.618 total time=   0.1s\n",
      "[CV 2/5] END C=0.01, coef0=1, degree=5, gamma=scale, kernel=rbf, max_iter=500;, score=0.618 total time=   0.1s\n",
      "[CV 3/5] END C=0.01, coef0=1, degree=5, gamma=scale, kernel=rbf, max_iter=500;, score=0.618 total time=   0.1s\n",
      "[CV 4/5] END C=0.01, coef0=1, degree=5, gamma=scale, kernel=rbf, max_iter=500;, score=0.618 total time=   0.1s\n",
      "[CV 5/5] END C=0.01, coef0=1, degree=5, gamma=scale, kernel=rbf, max_iter=500;, score=0.616 total time=   0.1s\n",
      "[CV 1/5] END C=0.01, coef0=1, degree=5, gamma=scale, kernel=rbf, max_iter=1000;, score=0.618 total time=   0.1s\n",
      "[CV 2/5] END C=0.01, coef0=1, degree=5, gamma=scale, kernel=rbf, max_iter=1000;, score=0.618 total time=   0.1s\n",
      "[CV 3/5] END C=0.01, coef0=1, degree=5, gamma=scale, kernel=rbf, max_iter=1000;, score=0.618 total time=   0.1s\n",
      "[CV 4/5] END C=0.01, coef0=1, degree=5, gamma=scale, kernel=rbf, max_iter=1000;, score=0.618 total time=   0.1s\n",
      "[CV 5/5] END C=0.01, coef0=1, degree=5, gamma=scale, kernel=rbf, max_iter=1000;, score=0.616 total time=   0.1s\n",
      "[CV 1/5] END C=0.01, coef0=1, degree=5, gamma=scale, kernel=rbf, max_iter=10000;, score=0.618 total time=   0.1s\n",
      "[CV 2/5] END C=0.01, coef0=1, degree=5, gamma=scale, kernel=rbf, max_iter=10000;, score=0.618 total time=   0.1s\n",
      "[CV 3/5] END C=0.01, coef0=1, degree=5, gamma=scale, kernel=rbf, max_iter=10000;, score=0.618 total time=   0.1s\n",
      "[CV 4/5] END C=0.01, coef0=1, degree=5, gamma=scale, kernel=rbf, max_iter=10000;, score=0.618 total time=   0.1s\n",
      "[CV 5/5] END C=0.01, coef0=1, degree=5, gamma=scale, kernel=rbf, max_iter=10000;, score=0.616 total time=   0.1s\n",
      "[CV 1/5] END C=0.01, coef0=1, degree=5, gamma=scale, kernel=rbf, max_iter=100000;, score=0.618 total time=   0.1s\n",
      "[CV 2/5] END C=0.01, coef0=1, degree=5, gamma=scale, kernel=rbf, max_iter=100000;, score=0.618 total time=   0.1s\n",
      "[CV 3/5] END C=0.01, coef0=1, degree=5, gamma=scale, kernel=rbf, max_iter=100000;, score=0.618 total time=   0.1s\n",
      "[CV 4/5] END C=0.01, coef0=1, degree=5, gamma=scale, kernel=rbf, max_iter=100000;, score=0.618 total time=   0.1s\n",
      "[CV 5/5] END C=0.01, coef0=1, degree=5, gamma=scale, kernel=rbf, max_iter=100000;, score=0.616 total time=   0.1s\n",
      "[CV 1/5] END C=0.01, coef0=1, degree=5, gamma=scale, kernel=poly, max_iter=500;, score=0.831 total time=   0.0s\n"
     ]
    },
    {
     "name": "stderr",
     "output_type": "stream",
     "text": [
      "/Library/Frameworks/Python.framework/Versions/3.9/lib/python3.9/site-packages/sklearn/svm/_base.py:297: ConvergenceWarning: Solver terminated early (max_iter=500).  Consider pre-processing your data with StandardScaler or MinMaxScaler.\n",
      "  warnings.warn(\n",
      "/Library/Frameworks/Python.framework/Versions/3.9/lib/python3.9/site-packages/sklearn/svm/_base.py:297: ConvergenceWarning: Solver terminated early (max_iter=500).  Consider pre-processing your data with StandardScaler or MinMaxScaler.\n",
      "  warnings.warn(\n",
      "/Library/Frameworks/Python.framework/Versions/3.9/lib/python3.9/site-packages/sklearn/svm/_base.py:297: ConvergenceWarning: Solver terminated early (max_iter=500).  Consider pre-processing your data with StandardScaler or MinMaxScaler.\n",
      "  warnings.warn(\n"
     ]
    },
    {
     "name": "stdout",
     "output_type": "stream",
     "text": [
      "[CV 2/5] END C=0.01, coef0=1, degree=5, gamma=scale, kernel=poly, max_iter=500;, score=0.815 total time=   0.0s\n",
      "[CV 3/5] END C=0.01, coef0=1, degree=5, gamma=scale, kernel=poly, max_iter=500;, score=0.798 total time=   0.0s\n",
      "[CV 4/5] END C=0.01, coef0=1, degree=5, gamma=scale, kernel=poly, max_iter=500;, score=0.781 total time=   0.0s\n",
      "[CV 5/5] END C=0.01, coef0=1, degree=5, gamma=scale, kernel=poly, max_iter=500;, score=0.836 total time=   0.0s\n",
      "[CV 1/5] END C=0.01, coef0=1, degree=5, gamma=scale, kernel=poly, max_iter=1000;, score=0.831 total time=   0.0s\n",
      "[CV 2/5] END C=0.01, coef0=1, degree=5, gamma=scale, kernel=poly, max_iter=1000;, score=0.815 total time=   0.0s\n",
      "[CV 3/5] END C=0.01, coef0=1, degree=5, gamma=scale, kernel=poly, max_iter=1000;, score=0.798 total time=   0.0s\n",
      "[CV 4/5] END C=0.01, coef0=1, degree=5, gamma=scale, kernel=poly, max_iter=1000;, score=0.781 total time=   0.0s\n",
      "[CV 5/5] END C=0.01, coef0=1, degree=5, gamma=scale, kernel=poly, max_iter=1000;, score=0.836 total time=   0.0s\n",
      "[CV 1/5] END C=0.01, coef0=1, degree=5, gamma=scale, kernel=poly, max_iter=10000;, score=0.831 total time=   0.0s\n",
      "[CV 2/5] END C=0.01, coef0=1, degree=5, gamma=scale, kernel=poly, max_iter=10000;, score=0.815 total time=   0.0s\n",
      "[CV 3/5] END C=0.01, coef0=1, degree=5, gamma=scale, kernel=poly, max_iter=10000;, score=0.798 total time=   0.0s\n",
      "[CV 4/5] END C=0.01, coef0=1, degree=5, gamma=scale, kernel=poly, max_iter=10000;, score=0.781 total time=   0.0s\n",
      "[CV 5/5] END C=0.01, coef0=1, degree=5, gamma=scale, kernel=poly, max_iter=10000;, score=0.836 total time=   0.0s\n",
      "[CV 1/5] END C=0.01, coef0=1, degree=5, gamma=scale, kernel=poly, max_iter=100000;, score=0.831 total time=   0.0s\n",
      "[CV 2/5] END C=0.01, coef0=1, degree=5, gamma=scale, kernel=poly, max_iter=100000;, score=0.815 total time=   0.0s\n",
      "[CV 3/5] END C=0.01, coef0=1, degree=5, gamma=scale, kernel=poly, max_iter=100000;, score=0.798 total time=   0.0s\n",
      "[CV 4/5] END C=0.01, coef0=1, degree=5, gamma=scale, kernel=poly, max_iter=100000;, score=0.781 total time=   0.0s\n",
      "[CV 5/5] END C=0.01, coef0=1, degree=5, gamma=scale, kernel=poly, max_iter=100000;, score=0.836 total time=   0.0s\n",
      "[CV 1/5] END C=0.01, coef0=10, degree=2, gamma=scale, kernel=linear, max_iter=500;, score=0.803 total time=   0.0s\n",
      "[CV 2/5] END C=0.01, coef0=10, degree=2, gamma=scale, kernel=linear, max_iter=500;, score=0.815 total time=   0.0s\n",
      "[CV 3/5] END C=0.01, coef0=10, degree=2, gamma=scale, kernel=linear, max_iter=500;, score=0.787 total time=   0.0s\n",
      "[CV 4/5] END C=0.01, coef0=10, degree=2, gamma=scale, kernel=linear, max_iter=500;, score=0.753 total time=   0.0s\n",
      "[CV 5/5] END C=0.01, coef0=10, degree=2, gamma=scale, kernel=linear, max_iter=500;, score=0.785 total time=   0.0s\n",
      "[CV 1/5] END C=0.01, coef0=10, degree=2, gamma=scale, kernel=linear, max_iter=1000;, score=0.803 total time=   0.0s\n",
      "[CV 2/5] END C=0.01, coef0=10, degree=2, gamma=scale, kernel=linear, max_iter=1000;, score=0.815 total time=   0.0s\n",
      "[CV 3/5] END C=0.01, coef0=10, degree=2, gamma=scale, kernel=linear, max_iter=1000;, score=0.787 total time=   0.0s\n",
      "[CV 4/5] END C=0.01, coef0=10, degree=2, gamma=scale, kernel=linear, max_iter=1000;, score=0.753 total time=   0.0s\n",
      "[CV 5/5] END C=0.01, coef0=10, degree=2, gamma=scale, kernel=linear, max_iter=1000;, score=0.785 total time=   0.0s\n",
      "[CV 1/5] END C=0.01, coef0=10, degree=2, gamma=scale, kernel=linear, max_iter=10000;, score=0.803 total time=   0.0s\n",
      "[CV 2/5] END C=0.01, coef0=10, degree=2, gamma=scale, kernel=linear, max_iter=10000;, score=0.815 total time=   0.0s\n",
      "[CV 3/5] END C=0.01, coef0=10, degree=2, gamma=scale, kernel=linear, max_iter=10000;, score=0.787 total time=   0.0s\n",
      "[CV 4/5] END C=0.01, coef0=10, degree=2, gamma=scale, kernel=linear, max_iter=10000;, score=0.753 total time=   0.0s\n",
      "[CV 5/5] END C=0.01, coef0=10, degree=2, gamma=scale, kernel=linear, max_iter=10000;, score=0.785 total time=   0.0s\n",
      "[CV 1/5] END C=0.01, coef0=10, degree=2, gamma=scale, kernel=linear, max_iter=100000;, score=0.803 total time=   0.0s\n",
      "[CV 2/5] END C=0.01, coef0=10, degree=2, gamma=scale, kernel=linear, max_iter=100000;, score=0.815 total time=   0.0s\n",
      "[CV 3/5] END C=0.01, coef0=10, degree=2, gamma=scale, kernel=linear, max_iter=100000;, score=0.787 total time=   0.0s\n",
      "[CV 4/5] END C=0.01, coef0=10, degree=2, gamma=scale, kernel=linear, max_iter=100000;, score=0.753 total time=   0.0s\n",
      "[CV 5/5] END C=0.01, coef0=10, degree=2, gamma=scale, kernel=linear, max_iter=100000;, score=0.785 total time=   0.0s\n",
      "[CV 1/5] END C=0.01, coef0=10, degree=2, gamma=scale, kernel=rbf, max_iter=500;, score=0.618 total time=   0.1s\n",
      "[CV 2/5] END C=0.01, coef0=10, degree=2, gamma=scale, kernel=rbf, max_iter=500;, score=0.618 total time=   0.1s\n",
      "[CV 3/5] END C=0.01, coef0=10, degree=2, gamma=scale, kernel=rbf, max_iter=500;, score=0.618 total time=   0.1s\n",
      "[CV 4/5] END C=0.01, coef0=10, degree=2, gamma=scale, kernel=rbf, max_iter=500;, score=0.618 total time=   0.1s\n",
      "[CV 5/5] END C=0.01, coef0=10, degree=2, gamma=scale, kernel=rbf, max_iter=500;, score=0.616 total time=   0.1s\n",
      "[CV 1/5] END C=0.01, coef0=10, degree=2, gamma=scale, kernel=rbf, max_iter=1000;, score=0.618 total time=   0.1s\n",
      "[CV 2/5] END C=0.01, coef0=10, degree=2, gamma=scale, kernel=rbf, max_iter=1000;, score=0.618 total time=   0.1s\n",
      "[CV 3/5] END C=0.01, coef0=10, degree=2, gamma=scale, kernel=rbf, max_iter=1000;, score=0.618 total time=   0.1s\n",
      "[CV 4/5] END C=0.01, coef0=10, degree=2, gamma=scale, kernel=rbf, max_iter=1000;, score=0.618 total time=   0.1s\n",
      "[CV 5/5] END C=0.01, coef0=10, degree=2, gamma=scale, kernel=rbf, max_iter=1000;, score=0.616 total time=   0.1s\n",
      "[CV 1/5] END C=0.01, coef0=10, degree=2, gamma=scale, kernel=rbf, max_iter=10000;, score=0.618 total time=   0.1s\n",
      "[CV 2/5] END C=0.01, coef0=10, degree=2, gamma=scale, kernel=rbf, max_iter=10000;, score=0.618 total time=   0.1s\n",
      "[CV 3/5] END C=0.01, coef0=10, degree=2, gamma=scale, kernel=rbf, max_iter=10000;, score=0.618 total time=   0.1s\n",
      "[CV 4/5] END C=0.01, coef0=10, degree=2, gamma=scale, kernel=rbf, max_iter=10000;, score=0.618 total time=   0.1s\n",
      "[CV 5/5] END C=0.01, coef0=10, degree=2, gamma=scale, kernel=rbf, max_iter=10000;, score=0.616 total time=   0.1s\n",
      "[CV 1/5] END C=0.01, coef0=10, degree=2, gamma=scale, kernel=rbf, max_iter=100000;, score=0.618 total time=   0.1s\n",
      "[CV 2/5] END C=0.01, coef0=10, degree=2, gamma=scale, kernel=rbf, max_iter=100000;, score=0.618 total time=   0.1s\n",
      "[CV 3/5] END C=0.01, coef0=10, degree=2, gamma=scale, kernel=rbf, max_iter=100000;, score=0.618 total time=   0.1s\n",
      "[CV 4/5] END C=0.01, coef0=10, degree=2, gamma=scale, kernel=rbf, max_iter=100000;, score=0.618 total time=   0.1s\n",
      "[CV 5/5] END C=0.01, coef0=10, degree=2, gamma=scale, kernel=rbf, max_iter=100000;, score=0.616 total time=   0.1s\n",
      "[CV 1/5] END C=0.01, coef0=10, degree=2, gamma=scale, kernel=poly, max_iter=500;, score=0.803 total time=   0.0s\n",
      "[CV 2/5] END C=0.01, coef0=10, degree=2, gamma=scale, kernel=poly, max_iter=500;, score=0.815 total time=   0.0s\n",
      "[CV 3/5] END C=0.01, coef0=10, degree=2, gamma=scale, kernel=poly, max_iter=500;, score=0.787 total time=   0.0s\n",
      "[CV 4/5] END C=0.01, coef0=10, degree=2, gamma=scale, kernel=poly, max_iter=500;, score=0.753 total time=   0.0s\n",
      "[CV 5/5] END C=0.01, coef0=10, degree=2, gamma=scale, kernel=poly, max_iter=500;, score=0.785 total time=   0.0s\n",
      "[CV 1/5] END C=0.01, coef0=10, degree=2, gamma=scale, kernel=poly, max_iter=1000;, score=0.803 total time=   0.0s\n",
      "[CV 2/5] END C=0.01, coef0=10, degree=2, gamma=scale, kernel=poly, max_iter=1000;, score=0.815 total time=   0.0s\n",
      "[CV 3/5] END C=0.01, coef0=10, degree=2, gamma=scale, kernel=poly, max_iter=1000;, score=0.787 total time=   0.0s\n",
      "[CV 4/5] END C=0.01, coef0=10, degree=2, gamma=scale, kernel=poly, max_iter=1000;, score=0.753 total time=   0.0s\n",
      "[CV 5/5] END C=0.01, coef0=10, degree=2, gamma=scale, kernel=poly, max_iter=1000;, score=0.785 total time=   0.0s\n",
      "[CV 1/5] END C=0.01, coef0=10, degree=2, gamma=scale, kernel=poly, max_iter=10000;, score=0.803 total time=   0.0s\n",
      "[CV 2/5] END C=0.01, coef0=10, degree=2, gamma=scale, kernel=poly, max_iter=10000;, score=0.815 total time=   0.0s\n",
      "[CV 3/5] END C=0.01, coef0=10, degree=2, gamma=scale, kernel=poly, max_iter=10000;, score=0.787 total time=   0.0s\n",
      "[CV 4/5] END C=0.01, coef0=10, degree=2, gamma=scale, kernel=poly, max_iter=10000;, score=0.753 total time=   0.0s\n",
      "[CV 5/5] END C=0.01, coef0=10, degree=2, gamma=scale, kernel=poly, max_iter=10000;, score=0.785 total time=   0.0s\n",
      "[CV 1/5] END C=0.01, coef0=10, degree=2, gamma=scale, kernel=poly, max_iter=100000;, score=0.803 total time=   0.0s\n",
      "[CV 2/5] END C=0.01, coef0=10, degree=2, gamma=scale, kernel=poly, max_iter=100000;, score=0.815 total time=   0.0s\n",
      "[CV 3/5] END C=0.01, coef0=10, degree=2, gamma=scale, kernel=poly, max_iter=100000;, score=0.787 total time=   0.0s\n",
      "[CV 4/5] END C=0.01, coef0=10, degree=2, gamma=scale, kernel=poly, max_iter=100000;, score=0.753 total time=   0.0s\n",
      "[CV 5/5] END C=0.01, coef0=10, degree=2, gamma=scale, kernel=poly, max_iter=100000;, score=0.785 total time=   0.0s\n",
      "[CV 1/5] END C=0.01, coef0=10, degree=3, gamma=scale, kernel=linear, max_iter=500;, score=0.803 total time=   0.0s\n",
      "[CV 2/5] END C=0.01, coef0=10, degree=3, gamma=scale, kernel=linear, max_iter=500;, score=0.815 total time=   0.0s\n",
      "[CV 3/5] END C=0.01, coef0=10, degree=3, gamma=scale, kernel=linear, max_iter=500;, score=0.787 total time=   0.0s\n",
      "[CV 4/5] END C=0.01, coef0=10, degree=3, gamma=scale, kernel=linear, max_iter=500;, score=0.753 total time=   0.0s\n",
      "[CV 5/5] END C=0.01, coef0=10, degree=3, gamma=scale, kernel=linear, max_iter=500;, score=0.785 total time=   0.0s\n",
      "[CV 1/5] END C=0.01, coef0=10, degree=3, gamma=scale, kernel=linear, max_iter=1000;, score=0.803 total time=   0.0s\n",
      "[CV 2/5] END C=0.01, coef0=10, degree=3, gamma=scale, kernel=linear, max_iter=1000;, score=0.815 total time=   0.0s\n",
      "[CV 3/5] END C=0.01, coef0=10, degree=3, gamma=scale, kernel=linear, max_iter=1000;, score=0.787 total time=   0.0s\n",
      "[CV 4/5] END C=0.01, coef0=10, degree=3, gamma=scale, kernel=linear, max_iter=1000;, score=0.753 total time=   0.0s\n",
      "[CV 5/5] END C=0.01, coef0=10, degree=3, gamma=scale, kernel=linear, max_iter=1000;, score=0.785 total time=   0.0s\n",
      "[CV 1/5] END C=0.01, coef0=10, degree=3, gamma=scale, kernel=linear, max_iter=10000;, score=0.803 total time=   0.0s\n",
      "[CV 2/5] END C=0.01, coef0=10, degree=3, gamma=scale, kernel=linear, max_iter=10000;, score=0.815 total time=   0.0s\n",
      "[CV 3/5] END C=0.01, coef0=10, degree=3, gamma=scale, kernel=linear, max_iter=10000;, score=0.787 total time=   0.0s\n",
      "[CV 4/5] END C=0.01, coef0=10, degree=3, gamma=scale, kernel=linear, max_iter=10000;, score=0.753 total time=   0.0s\n",
      "[CV 5/5] END C=0.01, coef0=10, degree=3, gamma=scale, kernel=linear, max_iter=10000;, score=0.785 total time=   0.0s\n",
      "[CV 1/5] END C=0.01, coef0=10, degree=3, gamma=scale, kernel=linear, max_iter=100000;, score=0.803 total time=   0.0s\n",
      "[CV 2/5] END C=0.01, coef0=10, degree=3, gamma=scale, kernel=linear, max_iter=100000;, score=0.815 total time=   0.0s\n",
      "[CV 3/5] END C=0.01, coef0=10, degree=3, gamma=scale, kernel=linear, max_iter=100000;, score=0.787 total time=   0.0s\n",
      "[CV 4/5] END C=0.01, coef0=10, degree=3, gamma=scale, kernel=linear, max_iter=100000;, score=0.753 total time=   0.0s\n",
      "[CV 5/5] END C=0.01, coef0=10, degree=3, gamma=scale, kernel=linear, max_iter=100000;, score=0.785 total time=   0.0s\n",
      "[CV 1/5] END C=0.01, coef0=10, degree=3, gamma=scale, kernel=rbf, max_iter=500;, score=0.618 total time=   0.1s\n",
      "[CV 2/5] END C=0.01, coef0=10, degree=3, gamma=scale, kernel=rbf, max_iter=500;, score=0.618 total time=   0.1s\n",
      "[CV 3/5] END C=0.01, coef0=10, degree=3, gamma=scale, kernel=rbf, max_iter=500;, score=0.618 total time=   0.1s\n",
      "[CV 4/5] END C=0.01, coef0=10, degree=3, gamma=scale, kernel=rbf, max_iter=500;, score=0.618 total time=   0.1s\n",
      "[CV 5/5] END C=0.01, coef0=10, degree=3, gamma=scale, kernel=rbf, max_iter=500;, score=0.616 total time=   0.1s\n",
      "[CV 1/5] END C=0.01, coef0=10, degree=3, gamma=scale, kernel=rbf, max_iter=1000;, score=0.618 total time=   0.1s\n",
      "[CV 2/5] END C=0.01, coef0=10, degree=3, gamma=scale, kernel=rbf, max_iter=1000;, score=0.618 total time=   0.1s\n",
      "[CV 3/5] END C=0.01, coef0=10, degree=3, gamma=scale, kernel=rbf, max_iter=1000;, score=0.618 total time=   0.1s\n",
      "[CV 4/5] END C=0.01, coef0=10, degree=3, gamma=scale, kernel=rbf, max_iter=1000;, score=0.618 total time=   0.1s\n",
      "[CV 5/5] END C=0.01, coef0=10, degree=3, gamma=scale, kernel=rbf, max_iter=1000;, score=0.616 total time=   0.1s\n",
      "[CV 1/5] END C=0.01, coef0=10, degree=3, gamma=scale, kernel=rbf, max_iter=10000;, score=0.618 total time=   0.1s\n",
      "[CV 2/5] END C=0.01, coef0=10, degree=3, gamma=scale, kernel=rbf, max_iter=10000;, score=0.618 total time=   0.1s\n",
      "[CV 3/5] END C=0.01, coef0=10, degree=3, gamma=scale, kernel=rbf, max_iter=10000;, score=0.618 total time=   0.1s\n",
      "[CV 4/5] END C=0.01, coef0=10, degree=3, gamma=scale, kernel=rbf, max_iter=10000;, score=0.618 total time=   0.1s\n",
      "[CV 5/5] END C=0.01, coef0=10, degree=3, gamma=scale, kernel=rbf, max_iter=10000;, score=0.616 total time=   0.1s\n",
      "[CV 1/5] END C=0.01, coef0=10, degree=3, gamma=scale, kernel=rbf, max_iter=100000;, score=0.618 total time=   0.1s\n",
      "[CV 2/5] END C=0.01, coef0=10, degree=3, gamma=scale, kernel=rbf, max_iter=100000;, score=0.618 total time=   0.1s\n",
      "[CV 3/5] END C=0.01, coef0=10, degree=3, gamma=scale, kernel=rbf, max_iter=100000;, score=0.618 total time=   0.1s\n",
      "[CV 4/5] END C=0.01, coef0=10, degree=3, gamma=scale, kernel=rbf, max_iter=100000;, score=0.618 total time=   0.1s\n",
      "[CV 5/5] END C=0.01, coef0=10, degree=3, gamma=scale, kernel=rbf, max_iter=100000;, score=0.616 total time=   0.1s\n"
     ]
    },
    {
     "name": "stderr",
     "output_type": "stream",
     "text": [
      "/Library/Frameworks/Python.framework/Versions/3.9/lib/python3.9/site-packages/sklearn/svm/_base.py:297: ConvergenceWarning: Solver terminated early (max_iter=500).  Consider pre-processing your data with StandardScaler or MinMaxScaler.\n",
      "  warnings.warn(\n",
      "/Library/Frameworks/Python.framework/Versions/3.9/lib/python3.9/site-packages/sklearn/svm/_base.py:297: ConvergenceWarning: Solver terminated early (max_iter=500).  Consider pre-processing your data with StandardScaler or MinMaxScaler.\n",
      "  warnings.warn(\n",
      "/Library/Frameworks/Python.framework/Versions/3.9/lib/python3.9/site-packages/sklearn/svm/_base.py:297: ConvergenceWarning: Solver terminated early (max_iter=500).  Consider pre-processing your data with StandardScaler or MinMaxScaler.\n",
      "  warnings.warn(\n",
      "/Library/Frameworks/Python.framework/Versions/3.9/lib/python3.9/site-packages/sklearn/svm/_base.py:297: ConvergenceWarning: Solver terminated early (max_iter=500).  Consider pre-processing your data with StandardScaler or MinMaxScaler.\n",
      "  warnings.warn(\n",
      "/Library/Frameworks/Python.framework/Versions/3.9/lib/python3.9/site-packages/sklearn/svm/_base.py:297: ConvergenceWarning: Solver terminated early (max_iter=500).  Consider pre-processing your data with StandardScaler or MinMaxScaler.\n",
      "  warnings.warn(\n"
     ]
    },
    {
     "name": "stdout",
     "output_type": "stream",
     "text": [
      "[CV 1/5] END C=0.01, coef0=10, degree=3, gamma=scale, kernel=poly, max_iter=500;, score=0.826 total time=   0.0s\n",
      "[CV 2/5] END C=0.01, coef0=10, degree=3, gamma=scale, kernel=poly, max_iter=500;, score=0.820 total time=   0.0s\n",
      "[CV 3/5] END C=0.01, coef0=10, degree=3, gamma=scale, kernel=poly, max_iter=500;, score=0.798 total time=   0.0s\n",
      "[CV 4/5] END C=0.01, coef0=10, degree=3, gamma=scale, kernel=poly, max_iter=500;, score=0.764 total time=   0.0s\n",
      "[CV 5/5] END C=0.01, coef0=10, degree=3, gamma=scale, kernel=poly, max_iter=500;, score=0.808 total time=   0.0s\n",
      "[CV 1/5] END C=0.01, coef0=10, degree=3, gamma=scale, kernel=poly, max_iter=1000;, score=0.826 total time=   0.0s\n"
     ]
    },
    {
     "name": "stderr",
     "output_type": "stream",
     "text": [
      "/Library/Frameworks/Python.framework/Versions/3.9/lib/python3.9/site-packages/sklearn/svm/_base.py:297: ConvergenceWarning: Solver terminated early (max_iter=1000).  Consider pre-processing your data with StandardScaler or MinMaxScaler.\n",
      "  warnings.warn(\n",
      "/Library/Frameworks/Python.framework/Versions/3.9/lib/python3.9/site-packages/sklearn/svm/_base.py:297: ConvergenceWarning: Solver terminated early (max_iter=1000).  Consider pre-processing your data with StandardScaler or MinMaxScaler.\n",
      "  warnings.warn(\n",
      "/Library/Frameworks/Python.framework/Versions/3.9/lib/python3.9/site-packages/sklearn/svm/_base.py:297: ConvergenceWarning: Solver terminated early (max_iter=1000).  Consider pre-processing your data with StandardScaler or MinMaxScaler.\n",
      "  warnings.warn(\n",
      "/Library/Frameworks/Python.framework/Versions/3.9/lib/python3.9/site-packages/sklearn/svm/_base.py:297: ConvergenceWarning: Solver terminated early (max_iter=1000).  Consider pre-processing your data with StandardScaler or MinMaxScaler.\n",
      "  warnings.warn(\n"
     ]
    },
    {
     "name": "stdout",
     "output_type": "stream",
     "text": [
      "[CV 2/5] END C=0.01, coef0=10, degree=3, gamma=scale, kernel=poly, max_iter=1000;, score=0.820 total time=   0.0s\n",
      "[CV 3/5] END C=0.01, coef0=10, degree=3, gamma=scale, kernel=poly, max_iter=1000;, score=0.798 total time=   0.0s\n",
      "[CV 4/5] END C=0.01, coef0=10, degree=3, gamma=scale, kernel=poly, max_iter=1000;, score=0.764 total time=   0.0s\n",
      "[CV 5/5] END C=0.01, coef0=10, degree=3, gamma=scale, kernel=poly, max_iter=1000;, score=0.808 total time=   0.0s\n",
      "[CV 1/5] END C=0.01, coef0=10, degree=3, gamma=scale, kernel=poly, max_iter=10000;, score=0.826 total time=   0.0s\n",
      "[CV 2/5] END C=0.01, coef0=10, degree=3, gamma=scale, kernel=poly, max_iter=10000;, score=0.820 total time=   0.0s\n",
      "[CV 3/5] END C=0.01, coef0=10, degree=3, gamma=scale, kernel=poly, max_iter=10000;, score=0.798 total time=   0.0s\n",
      "[CV 4/5] END C=0.01, coef0=10, degree=3, gamma=scale, kernel=poly, max_iter=10000;, score=0.764 total time=   0.0s\n",
      "[CV 5/5] END C=0.01, coef0=10, degree=3, gamma=scale, kernel=poly, max_iter=10000;, score=0.808 total time=   0.0s\n",
      "[CV 1/5] END C=0.01, coef0=10, degree=3, gamma=scale, kernel=poly, max_iter=100000;, score=0.826 total time=   0.0s\n",
      "[CV 2/5] END C=0.01, coef0=10, degree=3, gamma=scale, kernel=poly, max_iter=100000;, score=0.820 total time=   0.0s\n",
      "[CV 3/5] END C=0.01, coef0=10, degree=3, gamma=scale, kernel=poly, max_iter=100000;, score=0.798 total time=   0.0s\n",
      "[CV 4/5] END C=0.01, coef0=10, degree=3, gamma=scale, kernel=poly, max_iter=100000;, score=0.764 total time=   0.0s\n",
      "[CV 5/5] END C=0.01, coef0=10, degree=3, gamma=scale, kernel=poly, max_iter=100000;, score=0.808 total time=   0.0s\n",
      "[CV 1/5] END C=0.01, coef0=10, degree=4, gamma=scale, kernel=linear, max_iter=500;, score=0.803 total time=   0.0s\n",
      "[CV 2/5] END C=0.01, coef0=10, degree=4, gamma=scale, kernel=linear, max_iter=500;, score=0.815 total time=   0.0s\n",
      "[CV 3/5] END C=0.01, coef0=10, degree=4, gamma=scale, kernel=linear, max_iter=500;, score=0.787 total time=   0.0s\n",
      "[CV 4/5] END C=0.01, coef0=10, degree=4, gamma=scale, kernel=linear, max_iter=500;, score=0.753 total time=   0.0s\n",
      "[CV 5/5] END C=0.01, coef0=10, degree=4, gamma=scale, kernel=linear, max_iter=500;, score=0.785 total time=   0.0s\n",
      "[CV 1/5] END C=0.01, coef0=10, degree=4, gamma=scale, kernel=linear, max_iter=1000;, score=0.803 total time=   0.0s\n",
      "[CV 2/5] END C=0.01, coef0=10, degree=4, gamma=scale, kernel=linear, max_iter=1000;, score=0.815 total time=   0.0s\n",
      "[CV 3/5] END C=0.01, coef0=10, degree=4, gamma=scale, kernel=linear, max_iter=1000;, score=0.787 total time=   0.0s\n",
      "[CV 4/5] END C=0.01, coef0=10, degree=4, gamma=scale, kernel=linear, max_iter=1000;, score=0.753 total time=   0.0s\n",
      "[CV 5/5] END C=0.01, coef0=10, degree=4, gamma=scale, kernel=linear, max_iter=1000;, score=0.785 total time=   0.0s\n",
      "[CV 1/5] END C=0.01, coef0=10, degree=4, gamma=scale, kernel=linear, max_iter=10000;, score=0.803 total time=   0.0s\n",
      "[CV 2/5] END C=0.01, coef0=10, degree=4, gamma=scale, kernel=linear, max_iter=10000;, score=0.815 total time=   0.0s\n",
      "[CV 3/5] END C=0.01, coef0=10, degree=4, gamma=scale, kernel=linear, max_iter=10000;, score=0.787 total time=   0.0s\n",
      "[CV 4/5] END C=0.01, coef0=10, degree=4, gamma=scale, kernel=linear, max_iter=10000;, score=0.753 total time=   0.0s\n",
      "[CV 5/5] END C=0.01, coef0=10, degree=4, gamma=scale, kernel=linear, max_iter=10000;, score=0.785 total time=   0.0s\n",
      "[CV 1/5] END C=0.01, coef0=10, degree=4, gamma=scale, kernel=linear, max_iter=100000;, score=0.803 total time=   0.0s\n",
      "[CV 2/5] END C=0.01, coef0=10, degree=4, gamma=scale, kernel=linear, max_iter=100000;, score=0.815 total time=   0.0s\n",
      "[CV 3/5] END C=0.01, coef0=10, degree=4, gamma=scale, kernel=linear, max_iter=100000;, score=0.787 total time=   0.0s\n",
      "[CV 4/5] END C=0.01, coef0=10, degree=4, gamma=scale, kernel=linear, max_iter=100000;, score=0.753 total time=   0.0s\n",
      "[CV 5/5] END C=0.01, coef0=10, degree=4, gamma=scale, kernel=linear, max_iter=100000;, score=0.785 total time=   0.0s\n",
      "[CV 1/5] END C=0.01, coef0=10, degree=4, gamma=scale, kernel=rbf, max_iter=500;, score=0.618 total time=   0.1s\n",
      "[CV 2/5] END C=0.01, coef0=10, degree=4, gamma=scale, kernel=rbf, max_iter=500;, score=0.618 total time=   0.1s\n",
      "[CV 3/5] END C=0.01, coef0=10, degree=4, gamma=scale, kernel=rbf, max_iter=500;, score=0.618 total time=   0.1s\n",
      "[CV 4/5] END C=0.01, coef0=10, degree=4, gamma=scale, kernel=rbf, max_iter=500;, score=0.618 total time=   0.1s\n",
      "[CV 5/5] END C=0.01, coef0=10, degree=4, gamma=scale, kernel=rbf, max_iter=500;, score=0.616 total time=   0.1s\n",
      "[CV 1/5] END C=0.01, coef0=10, degree=4, gamma=scale, kernel=rbf, max_iter=1000;, score=0.618 total time=   0.1s\n",
      "[CV 2/5] END C=0.01, coef0=10, degree=4, gamma=scale, kernel=rbf, max_iter=1000;, score=0.618 total time=   0.1s\n",
      "[CV 3/5] END C=0.01, coef0=10, degree=4, gamma=scale, kernel=rbf, max_iter=1000;, score=0.618 total time=   0.1s\n",
      "[CV 4/5] END C=0.01, coef0=10, degree=4, gamma=scale, kernel=rbf, max_iter=1000;, score=0.618 total time=   0.1s\n",
      "[CV 5/5] END C=0.01, coef0=10, degree=4, gamma=scale, kernel=rbf, max_iter=1000;, score=0.616 total time=   0.1s\n",
      "[CV 1/5] END C=0.01, coef0=10, degree=4, gamma=scale, kernel=rbf, max_iter=10000;, score=0.618 total time=   0.1s\n",
      "[CV 2/5] END C=0.01, coef0=10, degree=4, gamma=scale, kernel=rbf, max_iter=10000;, score=0.618 total time=   0.1s\n",
      "[CV 3/5] END C=0.01, coef0=10, degree=4, gamma=scale, kernel=rbf, max_iter=10000;, score=0.618 total time=   0.1s\n",
      "[CV 4/5] END C=0.01, coef0=10, degree=4, gamma=scale, kernel=rbf, max_iter=10000;, score=0.618 total time=   0.1s\n",
      "[CV 5/5] END C=0.01, coef0=10, degree=4, gamma=scale, kernel=rbf, max_iter=10000;, score=0.616 total time=   0.1s\n",
      "[CV 1/5] END C=0.01, coef0=10, degree=4, gamma=scale, kernel=rbf, max_iter=100000;, score=0.618 total time=   0.1s\n",
      "[CV 2/5] END C=0.01, coef0=10, degree=4, gamma=scale, kernel=rbf, max_iter=100000;, score=0.618 total time=   0.1s\n",
      "[CV 3/5] END C=0.01, coef0=10, degree=4, gamma=scale, kernel=rbf, max_iter=100000;, score=0.618 total time=   0.1s\n",
      "[CV 4/5] END C=0.01, coef0=10, degree=4, gamma=scale, kernel=rbf, max_iter=100000;, score=0.618 total time=   0.1s\n",
      "[CV 5/5] END C=0.01, coef0=10, degree=4, gamma=scale, kernel=rbf, max_iter=100000;, score=0.616 total time=   0.1s\n",
      "[CV 1/5] END C=0.01, coef0=10, degree=4, gamma=scale, kernel=poly, max_iter=500;, score=0.826 total time=   0.0s\n",
      "[CV 2/5] END C=0.01, coef0=10, degree=4, gamma=scale, kernel=poly, max_iter=500;, score=0.826 total time=   0.0s\n",
      "[CV 3/5] END C=0.01, coef0=10, degree=4, gamma=scale, kernel=poly, max_iter=500;, score=0.820 total time=   0.0s\n",
      "[CV 4/5] END C=0.01, coef0=10, degree=4, gamma=scale, kernel=poly, max_iter=500;, score=0.792 total time=   0.0s\n",
      "[CV 5/5] END C=0.01, coef0=10, degree=4, gamma=scale, kernel=poly, max_iter=500;, score=0.847 total time=   0.0s\n"
     ]
    },
    {
     "name": "stderr",
     "output_type": "stream",
     "text": [
      "/Library/Frameworks/Python.framework/Versions/3.9/lib/python3.9/site-packages/sklearn/svm/_base.py:297: ConvergenceWarning: Solver terminated early (max_iter=500).  Consider pre-processing your data with StandardScaler or MinMaxScaler.\n",
      "  warnings.warn(\n",
      "/Library/Frameworks/Python.framework/Versions/3.9/lib/python3.9/site-packages/sklearn/svm/_base.py:297: ConvergenceWarning: Solver terminated early (max_iter=500).  Consider pre-processing your data with StandardScaler or MinMaxScaler.\n",
      "  warnings.warn(\n",
      "/Library/Frameworks/Python.framework/Versions/3.9/lib/python3.9/site-packages/sklearn/svm/_base.py:297: ConvergenceWarning: Solver terminated early (max_iter=500).  Consider pre-processing your data with StandardScaler or MinMaxScaler.\n",
      "  warnings.warn(\n",
      "/Library/Frameworks/Python.framework/Versions/3.9/lib/python3.9/site-packages/sklearn/svm/_base.py:297: ConvergenceWarning: Solver terminated early (max_iter=500).  Consider pre-processing your data with StandardScaler or MinMaxScaler.\n",
      "  warnings.warn(\n",
      "/Library/Frameworks/Python.framework/Versions/3.9/lib/python3.9/site-packages/sklearn/svm/_base.py:297: ConvergenceWarning: Solver terminated early (max_iter=500).  Consider pre-processing your data with StandardScaler or MinMaxScaler.\n",
      "  warnings.warn(\n",
      "/Library/Frameworks/Python.framework/Versions/3.9/lib/python3.9/site-packages/sklearn/svm/_base.py:297: ConvergenceWarning: Solver terminated early (max_iter=1000).  Consider pre-processing your data with StandardScaler or MinMaxScaler.\n",
      "  warnings.warn(\n"
     ]
    },
    {
     "name": "stdout",
     "output_type": "stream",
     "text": [
      "[CV 1/5] END C=0.01, coef0=10, degree=4, gamma=scale, kernel=poly, max_iter=1000;, score=0.843 total time=   0.0s\n",
      "[CV 2/5] END C=0.01, coef0=10, degree=4, gamma=scale, kernel=poly, max_iter=1000;, score=0.815 total time=   0.0s\n",
      "[CV 3/5] END C=0.01, coef0=10, degree=4, gamma=scale, kernel=poly, max_iter=1000;, score=0.820 total time=   0.0s\n",
      "[CV 4/5] END C=0.01, coef0=10, degree=4, gamma=scale, kernel=poly, max_iter=1000;, score=0.792 total time=   0.0s\n",
      "[CV 5/5] END C=0.01, coef0=10, degree=4, gamma=scale, kernel=poly, max_iter=1000;, score=0.847 total time=   0.0s\n"
     ]
    },
    {
     "name": "stderr",
     "output_type": "stream",
     "text": [
      "/Library/Frameworks/Python.framework/Versions/3.9/lib/python3.9/site-packages/sklearn/svm/_base.py:297: ConvergenceWarning: Solver terminated early (max_iter=1000).  Consider pre-processing your data with StandardScaler or MinMaxScaler.\n",
      "  warnings.warn(\n",
      "/Library/Frameworks/Python.framework/Versions/3.9/lib/python3.9/site-packages/sklearn/svm/_base.py:297: ConvergenceWarning: Solver terminated early (max_iter=1000).  Consider pre-processing your data with StandardScaler or MinMaxScaler.\n",
      "  warnings.warn(\n",
      "/Library/Frameworks/Python.framework/Versions/3.9/lib/python3.9/site-packages/sklearn/svm/_base.py:297: ConvergenceWarning: Solver terminated early (max_iter=1000).  Consider pre-processing your data with StandardScaler or MinMaxScaler.\n",
      "  warnings.warn(\n",
      "/Library/Frameworks/Python.framework/Versions/3.9/lib/python3.9/site-packages/sklearn/svm/_base.py:297: ConvergenceWarning: Solver terminated early (max_iter=1000).  Consider pre-processing your data with StandardScaler or MinMaxScaler.\n",
      "  warnings.warn(\n"
     ]
    },
    {
     "name": "stdout",
     "output_type": "stream",
     "text": [
      "[CV 1/5] END C=0.01, coef0=10, degree=4, gamma=scale, kernel=poly, max_iter=10000;, score=0.843 total time=   0.1s\n",
      "[CV 2/5] END C=0.01, coef0=10, degree=4, gamma=scale, kernel=poly, max_iter=10000;, score=0.815 total time=   0.1s\n",
      "[CV 3/5] END C=0.01, coef0=10, degree=4, gamma=scale, kernel=poly, max_iter=10000;, score=0.820 total time=   0.1s\n"
     ]
    },
    {
     "name": "stderr",
     "output_type": "stream",
     "text": [
      "/Library/Frameworks/Python.framework/Versions/3.9/lib/python3.9/site-packages/sklearn/svm/_base.py:297: ConvergenceWarning: Solver terminated early (max_iter=10000).  Consider pre-processing your data with StandardScaler or MinMaxScaler.\n",
      "  warnings.warn(\n",
      "/Library/Frameworks/Python.framework/Versions/3.9/lib/python3.9/site-packages/sklearn/svm/_base.py:297: ConvergenceWarning: Solver terminated early (max_iter=10000).  Consider pre-processing your data with StandardScaler or MinMaxScaler.\n",
      "  warnings.warn(\n",
      "/Library/Frameworks/Python.framework/Versions/3.9/lib/python3.9/site-packages/sklearn/svm/_base.py:297: ConvergenceWarning: Solver terminated early (max_iter=10000).  Consider pre-processing your data with StandardScaler or MinMaxScaler.\n",
      "  warnings.warn(\n"
     ]
    },
    {
     "name": "stdout",
     "output_type": "stream",
     "text": [
      "[CV 4/5] END C=0.01, coef0=10, degree=4, gamma=scale, kernel=poly, max_iter=10000;, score=0.792 total time=   0.1s\n",
      "[CV 5/5] END C=0.01, coef0=10, degree=4, gamma=scale, kernel=poly, max_iter=10000;, score=0.842 total time=   0.1s\n",
      "[CV 1/5] END C=0.01, coef0=10, degree=4, gamma=scale, kernel=poly, max_iter=100000;, score=0.843 total time=   0.1s\n",
      "[CV 2/5] END C=0.01, coef0=10, degree=4, gamma=scale, kernel=poly, max_iter=100000;, score=0.815 total time=   0.1s\n",
      "[CV 3/5] END C=0.01, coef0=10, degree=4, gamma=scale, kernel=poly, max_iter=100000;, score=0.820 total time=   0.1s\n",
      "[CV 4/5] END C=0.01, coef0=10, degree=4, gamma=scale, kernel=poly, max_iter=100000;, score=0.792 total time=   0.1s\n",
      "[CV 5/5] END C=0.01, coef0=10, degree=4, gamma=scale, kernel=poly, max_iter=100000;, score=0.842 total time=   0.1s\n",
      "[CV 1/5] END C=0.01, coef0=10, degree=5, gamma=scale, kernel=linear, max_iter=500;, score=0.803 total time=   0.0s\n",
      "[CV 2/5] END C=0.01, coef0=10, degree=5, gamma=scale, kernel=linear, max_iter=500;, score=0.815 total time=   0.0s\n",
      "[CV 3/5] END C=0.01, coef0=10, degree=5, gamma=scale, kernel=linear, max_iter=500;, score=0.787 total time=   0.0s\n",
      "[CV 4/5] END C=0.01, coef0=10, degree=5, gamma=scale, kernel=linear, max_iter=500;, score=0.753 total time=   0.0s\n",
      "[CV 5/5] END C=0.01, coef0=10, degree=5, gamma=scale, kernel=linear, max_iter=500;, score=0.785 total time=   0.0s\n",
      "[CV 1/5] END C=0.01, coef0=10, degree=5, gamma=scale, kernel=linear, max_iter=1000;, score=0.803 total time=   0.0s\n",
      "[CV 2/5] END C=0.01, coef0=10, degree=5, gamma=scale, kernel=linear, max_iter=1000;, score=0.815 total time=   0.0s\n",
      "[CV 3/5] END C=0.01, coef0=10, degree=5, gamma=scale, kernel=linear, max_iter=1000;, score=0.787 total time=   0.0s\n",
      "[CV 4/5] END C=0.01, coef0=10, degree=5, gamma=scale, kernel=linear, max_iter=1000;, score=0.753 total time=   0.0s\n",
      "[CV 5/5] END C=0.01, coef0=10, degree=5, gamma=scale, kernel=linear, max_iter=1000;, score=0.785 total time=   0.0s\n",
      "[CV 1/5] END C=0.01, coef0=10, degree=5, gamma=scale, kernel=linear, max_iter=10000;, score=0.803 total time=   0.0s\n",
      "[CV 2/5] END C=0.01, coef0=10, degree=5, gamma=scale, kernel=linear, max_iter=10000;, score=0.815 total time=   0.0s\n",
      "[CV 3/5] END C=0.01, coef0=10, degree=5, gamma=scale, kernel=linear, max_iter=10000;, score=0.787 total time=   0.0s\n",
      "[CV 4/5] END C=0.01, coef0=10, degree=5, gamma=scale, kernel=linear, max_iter=10000;, score=0.753 total time=   0.0s\n",
      "[CV 5/5] END C=0.01, coef0=10, degree=5, gamma=scale, kernel=linear, max_iter=10000;, score=0.785 total time=   0.0s\n",
      "[CV 1/5] END C=0.01, coef0=10, degree=5, gamma=scale, kernel=linear, max_iter=100000;, score=0.803 total time=   0.0s\n",
      "[CV 2/5] END C=0.01, coef0=10, degree=5, gamma=scale, kernel=linear, max_iter=100000;, score=0.815 total time=   0.0s\n",
      "[CV 3/5] END C=0.01, coef0=10, degree=5, gamma=scale, kernel=linear, max_iter=100000;, score=0.787 total time=   0.0s\n",
      "[CV 4/5] END C=0.01, coef0=10, degree=5, gamma=scale, kernel=linear, max_iter=100000;, score=0.753 total time=   0.0s\n",
      "[CV 5/5] END C=0.01, coef0=10, degree=5, gamma=scale, kernel=linear, max_iter=100000;, score=0.785 total time=   0.0s\n",
      "[CV 1/5] END C=0.01, coef0=10, degree=5, gamma=scale, kernel=rbf, max_iter=500;, score=0.618 total time=   0.1s\n",
      "[CV 2/5] END C=0.01, coef0=10, degree=5, gamma=scale, kernel=rbf, max_iter=500;, score=0.618 total time=   0.1s\n",
      "[CV 3/5] END C=0.01, coef0=10, degree=5, gamma=scale, kernel=rbf, max_iter=500;, score=0.618 total time=   0.1s\n",
      "[CV 4/5] END C=0.01, coef0=10, degree=5, gamma=scale, kernel=rbf, max_iter=500;, score=0.618 total time=   0.1s\n",
      "[CV 5/5] END C=0.01, coef0=10, degree=5, gamma=scale, kernel=rbf, max_iter=500;, score=0.616 total time=   0.1s\n",
      "[CV 1/5] END C=0.01, coef0=10, degree=5, gamma=scale, kernel=rbf, max_iter=1000;, score=0.618 total time=   0.1s\n",
      "[CV 2/5] END C=0.01, coef0=10, degree=5, gamma=scale, kernel=rbf, max_iter=1000;, score=0.618 total time=   0.1s\n",
      "[CV 3/5] END C=0.01, coef0=10, degree=5, gamma=scale, kernel=rbf, max_iter=1000;, score=0.618 total time=   0.1s\n",
      "[CV 4/5] END C=0.01, coef0=10, degree=5, gamma=scale, kernel=rbf, max_iter=1000;, score=0.618 total time=   0.1s\n",
      "[CV 5/5] END C=0.01, coef0=10, degree=5, gamma=scale, kernel=rbf, max_iter=1000;, score=0.616 total time=   0.1s\n",
      "[CV 1/5] END C=0.01, coef0=10, degree=5, gamma=scale, kernel=rbf, max_iter=10000;, score=0.618 total time=   0.1s\n",
      "[CV 2/5] END C=0.01, coef0=10, degree=5, gamma=scale, kernel=rbf, max_iter=10000;, score=0.618 total time=   0.1s\n",
      "[CV 3/5] END C=0.01, coef0=10, degree=5, gamma=scale, kernel=rbf, max_iter=10000;, score=0.618 total time=   0.1s\n",
      "[CV 4/5] END C=0.01, coef0=10, degree=5, gamma=scale, kernel=rbf, max_iter=10000;, score=0.618 total time=   0.1s\n",
      "[CV 5/5] END C=0.01, coef0=10, degree=5, gamma=scale, kernel=rbf, max_iter=10000;, score=0.616 total time=   0.1s\n",
      "[CV 1/5] END C=0.01, coef0=10, degree=5, gamma=scale, kernel=rbf, max_iter=100000;, score=0.618 total time=   0.1s\n",
      "[CV 2/5] END C=0.01, coef0=10, degree=5, gamma=scale, kernel=rbf, max_iter=100000;, score=0.618 total time=   0.1s\n",
      "[CV 3/5] END C=0.01, coef0=10, degree=5, gamma=scale, kernel=rbf, max_iter=100000;, score=0.618 total time=   0.1s\n",
      "[CV 4/5] END C=0.01, coef0=10, degree=5, gamma=scale, kernel=rbf, max_iter=100000;, score=0.618 total time=   0.1s\n",
      "[CV 5/5] END C=0.01, coef0=10, degree=5, gamma=scale, kernel=rbf, max_iter=100000;, score=0.616 total time=   0.1s\n",
      "[CV 1/5] END C=0.01, coef0=10, degree=5, gamma=scale, kernel=poly, max_iter=500;, score=0.545 total time=   0.0s\n",
      "[CV 2/5] END C=0.01, coef0=10, degree=5, gamma=scale, kernel=poly, max_iter=500;, score=0.489 total time=   0.0s\n",
      "[CV 3/5] END C=0.01, coef0=10, degree=5, gamma=scale, kernel=poly, max_iter=500;, score=0.461 total time=   0.0s\n",
      "[CV 4/5] END C=0.01, coef0=10, degree=5, gamma=scale, kernel=poly, max_iter=500;, score=0.455 total time=   0.0s\n",
      "[CV 5/5] END C=0.01, coef0=10, degree=5, gamma=scale, kernel=poly, max_iter=500;, score=0.655 total time=   0.0s\n"
     ]
    },
    {
     "name": "stderr",
     "output_type": "stream",
     "text": [
      "/Library/Frameworks/Python.framework/Versions/3.9/lib/python3.9/site-packages/sklearn/svm/_base.py:297: ConvergenceWarning: Solver terminated early (max_iter=500).  Consider pre-processing your data with StandardScaler or MinMaxScaler.\n",
      "  warnings.warn(\n",
      "/Library/Frameworks/Python.framework/Versions/3.9/lib/python3.9/site-packages/sklearn/svm/_base.py:297: ConvergenceWarning: Solver terminated early (max_iter=500).  Consider pre-processing your data with StandardScaler or MinMaxScaler.\n",
      "  warnings.warn(\n",
      "/Library/Frameworks/Python.framework/Versions/3.9/lib/python3.9/site-packages/sklearn/svm/_base.py:297: ConvergenceWarning: Solver terminated early (max_iter=500).  Consider pre-processing your data with StandardScaler or MinMaxScaler.\n",
      "  warnings.warn(\n",
      "/Library/Frameworks/Python.framework/Versions/3.9/lib/python3.9/site-packages/sklearn/svm/_base.py:297: ConvergenceWarning: Solver terminated early (max_iter=500).  Consider pre-processing your data with StandardScaler or MinMaxScaler.\n",
      "  warnings.warn(\n",
      "/Library/Frameworks/Python.framework/Versions/3.9/lib/python3.9/site-packages/sklearn/svm/_base.py:297: ConvergenceWarning: Solver terminated early (max_iter=500).  Consider pre-processing your data with StandardScaler or MinMaxScaler.\n",
      "  warnings.warn(\n",
      "/Library/Frameworks/Python.framework/Versions/3.9/lib/python3.9/site-packages/sklearn/svm/_base.py:297: ConvergenceWarning: Solver terminated early (max_iter=1000).  Consider pre-processing your data with StandardScaler or MinMaxScaler.\n",
      "  warnings.warn(\n"
     ]
    },
    {
     "name": "stdout",
     "output_type": "stream",
     "text": [
      "[CV 1/5] END C=0.01, coef0=10, degree=5, gamma=scale, kernel=poly, max_iter=1000;, score=0.500 total time=   0.0s\n",
      "[CV 2/5] END C=0.01, coef0=10, degree=5, gamma=scale, kernel=poly, max_iter=1000;, score=0.713 total time=   0.0s\n",
      "[CV 3/5] END C=0.01, coef0=10, degree=5, gamma=scale, kernel=poly, max_iter=1000;, score=0.506 total time=   0.0s\n",
      "[CV 4/5] END C=0.01, coef0=10, degree=5, gamma=scale, kernel=poly, max_iter=1000;, score=0.708 total time=   0.0s\n",
      "[CV 5/5] END C=0.01, coef0=10, degree=5, gamma=scale, kernel=poly, max_iter=1000;, score=0.452 total time=   0.0s\n"
     ]
    },
    {
     "name": "stderr",
     "output_type": "stream",
     "text": [
      "/Library/Frameworks/Python.framework/Versions/3.9/lib/python3.9/site-packages/sklearn/svm/_base.py:297: ConvergenceWarning: Solver terminated early (max_iter=1000).  Consider pre-processing your data with StandardScaler or MinMaxScaler.\n",
      "  warnings.warn(\n",
      "/Library/Frameworks/Python.framework/Versions/3.9/lib/python3.9/site-packages/sklearn/svm/_base.py:297: ConvergenceWarning: Solver terminated early (max_iter=1000).  Consider pre-processing your data with StandardScaler or MinMaxScaler.\n",
      "  warnings.warn(\n",
      "/Library/Frameworks/Python.framework/Versions/3.9/lib/python3.9/site-packages/sklearn/svm/_base.py:297: ConvergenceWarning: Solver terminated early (max_iter=1000).  Consider pre-processing your data with StandardScaler or MinMaxScaler.\n",
      "  warnings.warn(\n",
      "/Library/Frameworks/Python.framework/Versions/3.9/lib/python3.9/site-packages/sklearn/svm/_base.py:297: ConvergenceWarning: Solver terminated early (max_iter=1000).  Consider pre-processing your data with StandardScaler or MinMaxScaler.\n",
      "  warnings.warn(\n",
      "/Library/Frameworks/Python.framework/Versions/3.9/lib/python3.9/site-packages/sklearn/svm/_base.py:297: ConvergenceWarning: Solver terminated early (max_iter=10000).  Consider pre-processing your data with StandardScaler or MinMaxScaler.\n",
      "  warnings.warn(\n",
      "/Library/Frameworks/Python.framework/Versions/3.9/lib/python3.9/site-packages/sklearn/svm/_base.py:297: ConvergenceWarning: Solver terminated early (max_iter=10000).  Consider pre-processing your data with StandardScaler or MinMaxScaler.\n",
      "  warnings.warn(\n"
     ]
    },
    {
     "name": "stdout",
     "output_type": "stream",
     "text": [
      "[CV 1/5] END C=0.01, coef0=10, degree=5, gamma=scale, kernel=poly, max_iter=10000;, score=0.820 total time=   0.1s\n",
      "[CV 2/5] END C=0.01, coef0=10, degree=5, gamma=scale, kernel=poly, max_iter=10000;, score=0.826 total time=   0.1s\n"
     ]
    },
    {
     "name": "stderr",
     "output_type": "stream",
     "text": [
      "/Library/Frameworks/Python.framework/Versions/3.9/lib/python3.9/site-packages/sklearn/svm/_base.py:297: ConvergenceWarning: Solver terminated early (max_iter=10000).  Consider pre-processing your data with StandardScaler or MinMaxScaler.\n",
      "  warnings.warn(\n",
      "/Library/Frameworks/Python.framework/Versions/3.9/lib/python3.9/site-packages/sklearn/svm/_base.py:297: ConvergenceWarning: Solver terminated early (max_iter=10000).  Consider pre-processing your data with StandardScaler or MinMaxScaler.\n",
      "  warnings.warn(\n"
     ]
    },
    {
     "name": "stdout",
     "output_type": "stream",
     "text": [
      "[CV 3/5] END C=0.01, coef0=10, degree=5, gamma=scale, kernel=poly, max_iter=10000;, score=0.820 total time=   0.2s\n",
      "[CV 4/5] END C=0.01, coef0=10, degree=5, gamma=scale, kernel=poly, max_iter=10000;, score=0.775 total time=   0.1s\n"
     ]
    },
    {
     "name": "stderr",
     "output_type": "stream",
     "text": [
      "/Library/Frameworks/Python.framework/Versions/3.9/lib/python3.9/site-packages/sklearn/svm/_base.py:297: ConvergenceWarning: Solver terminated early (max_iter=10000).  Consider pre-processing your data with StandardScaler or MinMaxScaler.\n",
      "  warnings.warn(\n"
     ]
    },
    {
     "name": "stdout",
     "output_type": "stream",
     "text": [
      "[CV 5/5] END C=0.01, coef0=10, degree=5, gamma=scale, kernel=poly, max_iter=10000;, score=0.847 total time=   0.2s\n"
     ]
    },
    {
     "name": "stderr",
     "output_type": "stream",
     "text": [
      "/Library/Frameworks/Python.framework/Versions/3.9/lib/python3.9/site-packages/sklearn/svm/_base.py:297: ConvergenceWarning: Solver terminated early (max_iter=100000).  Consider pre-processing your data with StandardScaler or MinMaxScaler.\n",
      "  warnings.warn(\n"
     ]
    },
    {
     "name": "stdout",
     "output_type": "stream",
     "text": [
      "[CV 1/5] END C=0.01, coef0=10, degree=5, gamma=scale, kernel=poly, max_iter=100000;, score=0.803 total time=   0.4s\n"
     ]
    },
    {
     "name": "stderr",
     "output_type": "stream",
     "text": [
      "/Library/Frameworks/Python.framework/Versions/3.9/lib/python3.9/site-packages/sklearn/svm/_base.py:297: ConvergenceWarning: Solver terminated early (max_iter=100000).  Consider pre-processing your data with StandardScaler or MinMaxScaler.\n",
      "  warnings.warn(\n"
     ]
    },
    {
     "name": "stdout",
     "output_type": "stream",
     "text": [
      "[CV 2/5] END C=0.01, coef0=10, degree=5, gamma=scale, kernel=poly, max_iter=100000;, score=0.831 total time=   0.3s\n"
     ]
    },
    {
     "name": "stderr",
     "output_type": "stream",
     "text": [
      "/Library/Frameworks/Python.framework/Versions/3.9/lib/python3.9/site-packages/sklearn/svm/_base.py:297: ConvergenceWarning: Solver terminated early (max_iter=100000).  Consider pre-processing your data with StandardScaler or MinMaxScaler.\n",
      "  warnings.warn(\n"
     ]
    },
    {
     "name": "stdout",
     "output_type": "stream",
     "text": [
      "[CV 3/5] END C=0.01, coef0=10, degree=5, gamma=scale, kernel=poly, max_iter=100000;, score=0.837 total time=   0.4s\n"
     ]
    },
    {
     "name": "stderr",
     "output_type": "stream",
     "text": [
      "/Library/Frameworks/Python.framework/Versions/3.9/lib/python3.9/site-packages/sklearn/svm/_base.py:297: ConvergenceWarning: Solver terminated early (max_iter=100000).  Consider pre-processing your data with StandardScaler or MinMaxScaler.\n",
      "  warnings.warn(\n"
     ]
    },
    {
     "name": "stdout",
     "output_type": "stream",
     "text": [
      "[CV 4/5] END C=0.01, coef0=10, degree=5, gamma=scale, kernel=poly, max_iter=100000;, score=0.775 total time=   0.4s\n"
     ]
    },
    {
     "name": "stderr",
     "output_type": "stream",
     "text": [
      "/Library/Frameworks/Python.framework/Versions/3.9/lib/python3.9/site-packages/sklearn/svm/_base.py:297: ConvergenceWarning: Solver terminated early (max_iter=100000).  Consider pre-processing your data with StandardScaler or MinMaxScaler.\n",
      "  warnings.warn(\n",
      "/Library/Frameworks/Python.framework/Versions/3.9/lib/python3.9/site-packages/sklearn/svm/_base.py:297: ConvergenceWarning: Solver terminated early (max_iter=500).  Consider pre-processing your data with StandardScaler or MinMaxScaler.\n",
      "  warnings.warn(\n",
      "/Library/Frameworks/Python.framework/Versions/3.9/lib/python3.9/site-packages/sklearn/svm/_base.py:297: ConvergenceWarning: Solver terminated early (max_iter=500).  Consider pre-processing your data with StandardScaler or MinMaxScaler.\n",
      "  warnings.warn(\n",
      "/Library/Frameworks/Python.framework/Versions/3.9/lib/python3.9/site-packages/sklearn/svm/_base.py:297: ConvergenceWarning: Solver terminated early (max_iter=500).  Consider pre-processing your data with StandardScaler or MinMaxScaler.\n",
      "  warnings.warn(\n",
      "/Library/Frameworks/Python.framework/Versions/3.9/lib/python3.9/site-packages/sklearn/svm/_base.py:297: ConvergenceWarning: Solver terminated early (max_iter=500).  Consider pre-processing your data with StandardScaler or MinMaxScaler.\n",
      "  warnings.warn(\n",
      "/Library/Frameworks/Python.framework/Versions/3.9/lib/python3.9/site-packages/sklearn/svm/_base.py:297: ConvergenceWarning: Solver terminated early (max_iter=500).  Consider pre-processing your data with StandardScaler or MinMaxScaler.\n",
      "  warnings.warn(\n"
     ]
    },
    {
     "name": "stdout",
     "output_type": "stream",
     "text": [
      "[CV 5/5] END C=0.01, coef0=10, degree=5, gamma=scale, kernel=poly, max_iter=100000;, score=0.853 total time=   0.4s\n",
      "[CV 1/5] END C=0.1, coef0=0.1, degree=2, gamma=scale, kernel=linear, max_iter=500;, score=0.803 total time=   0.0s\n",
      "[CV 2/5] END C=0.1, coef0=0.1, degree=2, gamma=scale, kernel=linear, max_iter=500;, score=0.815 total time=   0.0s\n",
      "[CV 3/5] END C=0.1, coef0=0.1, degree=2, gamma=scale, kernel=linear, max_iter=500;, score=0.787 total time=   0.0s\n",
      "[CV 4/5] END C=0.1, coef0=0.1, degree=2, gamma=scale, kernel=linear, max_iter=500;, score=0.753 total time=   0.0s\n",
      "[CV 5/5] END C=0.1, coef0=0.1, degree=2, gamma=scale, kernel=linear, max_iter=500;, score=0.785 total time=   0.0s\n",
      "[CV 1/5] END C=0.1, coef0=0.1, degree=2, gamma=scale, kernel=linear, max_iter=1000;, score=0.803 total time=   0.0s\n",
      "[CV 2/5] END C=0.1, coef0=0.1, degree=2, gamma=scale, kernel=linear, max_iter=1000;, score=0.815 total time=   0.0s\n",
      "[CV 3/5] END C=0.1, coef0=0.1, degree=2, gamma=scale, kernel=linear, max_iter=1000;, score=0.787 total time=   0.0s\n",
      "[CV 4/5] END C=0.1, coef0=0.1, degree=2, gamma=scale, kernel=linear, max_iter=1000;, score=0.753 total time=   0.0s\n",
      "[CV 5/5] END C=0.1, coef0=0.1, degree=2, gamma=scale, kernel=linear, max_iter=1000;, score=0.785 total time=   0.0s\n"
     ]
    },
    {
     "name": "stderr",
     "output_type": "stream",
     "text": [
      "/Library/Frameworks/Python.framework/Versions/3.9/lib/python3.9/site-packages/sklearn/svm/_base.py:297: ConvergenceWarning: Solver terminated early (max_iter=1000).  Consider pre-processing your data with StandardScaler or MinMaxScaler.\n",
      "  warnings.warn(\n",
      "/Library/Frameworks/Python.framework/Versions/3.9/lib/python3.9/site-packages/sklearn/svm/_base.py:297: ConvergenceWarning: Solver terminated early (max_iter=1000).  Consider pre-processing your data with StandardScaler or MinMaxScaler.\n",
      "  warnings.warn(\n"
     ]
    },
    {
     "name": "stdout",
     "output_type": "stream",
     "text": [
      "[CV 1/5] END C=0.1, coef0=0.1, degree=2, gamma=scale, kernel=linear, max_iter=10000;, score=0.803 total time=   0.0s\n",
      "[CV 2/5] END C=0.1, coef0=0.1, degree=2, gamma=scale, kernel=linear, max_iter=10000;, score=0.815 total time=   0.0s\n",
      "[CV 3/5] END C=0.1, coef0=0.1, degree=2, gamma=scale, kernel=linear, max_iter=10000;, score=0.787 total time=   0.0s\n",
      "[CV 4/5] END C=0.1, coef0=0.1, degree=2, gamma=scale, kernel=linear, max_iter=10000;, score=0.753 total time=   0.1s\n",
      "[CV 5/5] END C=0.1, coef0=0.1, degree=2, gamma=scale, kernel=linear, max_iter=10000;, score=0.785 total time=   0.1s\n",
      "[CV 1/5] END C=0.1, coef0=0.1, degree=2, gamma=scale, kernel=linear, max_iter=100000;, score=0.803 total time=   0.0s\n",
      "[CV 2/5] END C=0.1, coef0=0.1, degree=2, gamma=scale, kernel=linear, max_iter=100000;, score=0.815 total time=   0.1s\n",
      "[CV 3/5] END C=0.1, coef0=0.1, degree=2, gamma=scale, kernel=linear, max_iter=100000;, score=0.787 total time=   0.1s\n",
      "[CV 4/5] END C=0.1, coef0=0.1, degree=2, gamma=scale, kernel=linear, max_iter=100000;, score=0.753 total time=   0.0s\n",
      "[CV 5/5] END C=0.1, coef0=0.1, degree=2, gamma=scale, kernel=linear, max_iter=100000;, score=0.785 total time=   0.1s\n",
      "[CV 1/5] END C=0.1, coef0=0.1, degree=2, gamma=scale, kernel=rbf, max_iter=500;, score=0.809 total time=   0.1s\n",
      "[CV 2/5] END C=0.1, coef0=0.1, degree=2, gamma=scale, kernel=rbf, max_iter=500;, score=0.809 total time=   0.1s\n",
      "[CV 3/5] END C=0.1, coef0=0.1, degree=2, gamma=scale, kernel=rbf, max_iter=500;, score=0.803 total time=   0.1s\n",
      "[CV 4/5] END C=0.1, coef0=0.1, degree=2, gamma=scale, kernel=rbf, max_iter=500;, score=0.781 total time=   0.1s\n",
      "[CV 5/5] END C=0.1, coef0=0.1, degree=2, gamma=scale, kernel=rbf, max_iter=500;, score=0.808 total time=   0.1s\n",
      "[CV 1/5] END C=0.1, coef0=0.1, degree=2, gamma=scale, kernel=rbf, max_iter=1000;, score=0.809 total time=   0.1s\n",
      "[CV 2/5] END C=0.1, coef0=0.1, degree=2, gamma=scale, kernel=rbf, max_iter=1000;, score=0.809 total time=   0.1s\n",
      "[CV 3/5] END C=0.1, coef0=0.1, degree=2, gamma=scale, kernel=rbf, max_iter=1000;, score=0.803 total time=   0.1s\n",
      "[CV 4/5] END C=0.1, coef0=0.1, degree=2, gamma=scale, kernel=rbf, max_iter=1000;, score=0.781 total time=   0.1s\n",
      "[CV 5/5] END C=0.1, coef0=0.1, degree=2, gamma=scale, kernel=rbf, max_iter=1000;, score=0.808 total time=   0.1s\n",
      "[CV 1/5] END C=0.1, coef0=0.1, degree=2, gamma=scale, kernel=rbf, max_iter=10000;, score=0.809 total time=   0.1s\n",
      "[CV 2/5] END C=0.1, coef0=0.1, degree=2, gamma=scale, kernel=rbf, max_iter=10000;, score=0.809 total time=   0.1s\n",
      "[CV 3/5] END C=0.1, coef0=0.1, degree=2, gamma=scale, kernel=rbf, max_iter=10000;, score=0.803 total time=   0.1s\n",
      "[CV 4/5] END C=0.1, coef0=0.1, degree=2, gamma=scale, kernel=rbf, max_iter=10000;, score=0.781 total time=   0.1s\n",
      "[CV 5/5] END C=0.1, coef0=0.1, degree=2, gamma=scale, kernel=rbf, max_iter=10000;, score=0.808 total time=   0.1s\n",
      "[CV 1/5] END C=0.1, coef0=0.1, degree=2, gamma=scale, kernel=rbf, max_iter=100000;, score=0.809 total time=   0.1s\n",
      "[CV 2/5] END C=0.1, coef0=0.1, degree=2, gamma=scale, kernel=rbf, max_iter=100000;, score=0.809 total time=   0.1s\n",
      "[CV 3/5] END C=0.1, coef0=0.1, degree=2, gamma=scale, kernel=rbf, max_iter=100000;, score=0.803 total time=   0.1s\n",
      "[CV 4/5] END C=0.1, coef0=0.1, degree=2, gamma=scale, kernel=rbf, max_iter=100000;, score=0.781 total time=   0.1s\n",
      "[CV 5/5] END C=0.1, coef0=0.1, degree=2, gamma=scale, kernel=rbf, max_iter=100000;, score=0.808 total time=   0.1s\n",
      "[CV 1/5] END C=0.1, coef0=0.1, degree=2, gamma=scale, kernel=poly, max_iter=500;, score=0.809 total time=   0.0s\n",
      "[CV 2/5] END C=0.1, coef0=0.1, degree=2, gamma=scale, kernel=poly, max_iter=500;, score=0.809 total time=   0.0s\n",
      "[CV 3/5] END C=0.1, coef0=0.1, degree=2, gamma=scale, kernel=poly, max_iter=500;, score=0.787 total time=   0.0s\n",
      "[CV 4/5] END C=0.1, coef0=0.1, degree=2, gamma=scale, kernel=poly, max_iter=500;, score=0.753 total time=   0.0s\n",
      "[CV 5/5] END C=0.1, coef0=0.1, degree=2, gamma=scale, kernel=poly, max_iter=500;, score=0.797 total time=   0.0s\n",
      "[CV 1/5] END C=0.1, coef0=0.1, degree=2, gamma=scale, kernel=poly, max_iter=1000;, score=0.809 total time=   0.0s\n",
      "[CV 2/5] END C=0.1, coef0=0.1, degree=2, gamma=scale, kernel=poly, max_iter=1000;, score=0.809 total time=   0.0s\n",
      "[CV 3/5] END C=0.1, coef0=0.1, degree=2, gamma=scale, kernel=poly, max_iter=1000;, score=0.787 total time=   0.0s\n",
      "[CV 4/5] END C=0.1, coef0=0.1, degree=2, gamma=scale, kernel=poly, max_iter=1000;, score=0.753 total time=   0.0s\n",
      "[CV 5/5] END C=0.1, coef0=0.1, degree=2, gamma=scale, kernel=poly, max_iter=1000;, score=0.797 total time=   0.0s\n",
      "[CV 1/5] END C=0.1, coef0=0.1, degree=2, gamma=scale, kernel=poly, max_iter=10000;, score=0.809 total time=   0.0s\n",
      "[CV 2/5] END C=0.1, coef0=0.1, degree=2, gamma=scale, kernel=poly, max_iter=10000;, score=0.809 total time=   0.0s\n",
      "[CV 3/5] END C=0.1, coef0=0.1, degree=2, gamma=scale, kernel=poly, max_iter=10000;, score=0.787 total time=   0.0s\n",
      "[CV 4/5] END C=0.1, coef0=0.1, degree=2, gamma=scale, kernel=poly, max_iter=10000;, score=0.753 total time=   0.0s\n",
      "[CV 5/5] END C=0.1, coef0=0.1, degree=2, gamma=scale, kernel=poly, max_iter=10000;, score=0.797 total time=   0.0s\n",
      "[CV 1/5] END C=0.1, coef0=0.1, degree=2, gamma=scale, kernel=poly, max_iter=100000;, score=0.809 total time=   0.0s\n",
      "[CV 2/5] END C=0.1, coef0=0.1, degree=2, gamma=scale, kernel=poly, max_iter=100000;, score=0.809 total time=   0.0s\n",
      "[CV 3/5] END C=0.1, coef0=0.1, degree=2, gamma=scale, kernel=poly, max_iter=100000;, score=0.787 total time=   0.0s\n",
      "[CV 4/5] END C=0.1, coef0=0.1, degree=2, gamma=scale, kernel=poly, max_iter=100000;, score=0.753 total time=   0.0s\n",
      "[CV 5/5] END C=0.1, coef0=0.1, degree=2, gamma=scale, kernel=poly, max_iter=100000;, score=0.797 total time=   0.0s\n",
      "[CV 1/5] END C=0.1, coef0=0.1, degree=3, gamma=scale, kernel=linear, max_iter=500;, score=0.803 total time=   0.0s\n"
     ]
    },
    {
     "name": "stderr",
     "output_type": "stream",
     "text": [
      "/Library/Frameworks/Python.framework/Versions/3.9/lib/python3.9/site-packages/sklearn/svm/_base.py:297: ConvergenceWarning: Solver terminated early (max_iter=500).  Consider pre-processing your data with StandardScaler or MinMaxScaler.\n",
      "  warnings.warn(\n",
      "/Library/Frameworks/Python.framework/Versions/3.9/lib/python3.9/site-packages/sklearn/svm/_base.py:297: ConvergenceWarning: Solver terminated early (max_iter=500).  Consider pre-processing your data with StandardScaler or MinMaxScaler.\n",
      "  warnings.warn(\n",
      "/Library/Frameworks/Python.framework/Versions/3.9/lib/python3.9/site-packages/sklearn/svm/_base.py:297: ConvergenceWarning: Solver terminated early (max_iter=500).  Consider pre-processing your data with StandardScaler or MinMaxScaler.\n",
      "  warnings.warn(\n",
      "/Library/Frameworks/Python.framework/Versions/3.9/lib/python3.9/site-packages/sklearn/svm/_base.py:297: ConvergenceWarning: Solver terminated early (max_iter=500).  Consider pre-processing your data with StandardScaler or MinMaxScaler.\n",
      "  warnings.warn(\n",
      "/Library/Frameworks/Python.framework/Versions/3.9/lib/python3.9/site-packages/sklearn/svm/_base.py:297: ConvergenceWarning: Solver terminated early (max_iter=500).  Consider pre-processing your data with StandardScaler or MinMaxScaler.\n",
      "  warnings.warn(\n"
     ]
    },
    {
     "name": "stdout",
     "output_type": "stream",
     "text": [
      "[CV 2/5] END C=0.1, coef0=0.1, degree=3, gamma=scale, kernel=linear, max_iter=500;, score=0.815 total time=   0.0s\n",
      "[CV 3/5] END C=0.1, coef0=0.1, degree=3, gamma=scale, kernel=linear, max_iter=500;, score=0.787 total time=   0.0s\n",
      "[CV 4/5] END C=0.1, coef0=0.1, degree=3, gamma=scale, kernel=linear, max_iter=500;, score=0.753 total time=   0.0s\n",
      "[CV 5/5] END C=0.1, coef0=0.1, degree=3, gamma=scale, kernel=linear, max_iter=500;, score=0.785 total time=   0.0s\n",
      "[CV 1/5] END C=0.1, coef0=0.1, degree=3, gamma=scale, kernel=linear, max_iter=1000;, score=0.803 total time=   0.0s\n",
      "[CV 2/5] END C=0.1, coef0=0.1, degree=3, gamma=scale, kernel=linear, max_iter=1000;, score=0.815 total time=   0.0s\n"
     ]
    },
    {
     "name": "stderr",
     "output_type": "stream",
     "text": [
      "/Library/Frameworks/Python.framework/Versions/3.9/lib/python3.9/site-packages/sklearn/svm/_base.py:297: ConvergenceWarning: Solver terminated early (max_iter=1000).  Consider pre-processing your data with StandardScaler or MinMaxScaler.\n",
      "  warnings.warn(\n",
      "/Library/Frameworks/Python.framework/Versions/3.9/lib/python3.9/site-packages/sklearn/svm/_base.py:297: ConvergenceWarning: Solver terminated early (max_iter=1000).  Consider pre-processing your data with StandardScaler or MinMaxScaler.\n",
      "  warnings.warn(\n"
     ]
    },
    {
     "name": "stdout",
     "output_type": "stream",
     "text": [
      "[CV 3/5] END C=0.1, coef0=0.1, degree=3, gamma=scale, kernel=linear, max_iter=1000;, score=0.787 total time=   0.0s\n",
      "[CV 4/5] END C=0.1, coef0=0.1, degree=3, gamma=scale, kernel=linear, max_iter=1000;, score=0.753 total time=   0.0s\n",
      "[CV 5/5] END C=0.1, coef0=0.1, degree=3, gamma=scale, kernel=linear, max_iter=1000;, score=0.785 total time=   0.0s\n",
      "[CV 1/5] END C=0.1, coef0=0.1, degree=3, gamma=scale, kernel=linear, max_iter=10000;, score=0.803 total time=   0.0s\n",
      "[CV 2/5] END C=0.1, coef0=0.1, degree=3, gamma=scale, kernel=linear, max_iter=10000;, score=0.815 total time=   0.0s\n",
      "[CV 3/5] END C=0.1, coef0=0.1, degree=3, gamma=scale, kernel=linear, max_iter=10000;, score=0.787 total time=   0.0s\n",
      "[CV 4/5] END C=0.1, coef0=0.1, degree=3, gamma=scale, kernel=linear, max_iter=10000;, score=0.753 total time=   0.0s\n",
      "[CV 5/5] END C=0.1, coef0=0.1, degree=3, gamma=scale, kernel=linear, max_iter=10000;, score=0.785 total time=   0.0s\n",
      "[CV 1/5] END C=0.1, coef0=0.1, degree=3, gamma=scale, kernel=linear, max_iter=100000;, score=0.803 total time=   0.0s\n",
      "[CV 2/5] END C=0.1, coef0=0.1, degree=3, gamma=scale, kernel=linear, max_iter=100000;, score=0.815 total time=   0.0s\n",
      "[CV 3/5] END C=0.1, coef0=0.1, degree=3, gamma=scale, kernel=linear, max_iter=100000;, score=0.787 total time=   0.0s\n",
      "[CV 4/5] END C=0.1, coef0=0.1, degree=3, gamma=scale, kernel=linear, max_iter=100000;, score=0.753 total time=   0.0s\n",
      "[CV 5/5] END C=0.1, coef0=0.1, degree=3, gamma=scale, kernel=linear, max_iter=100000;, score=0.785 total time=   0.0s\n",
      "[CV 1/5] END C=0.1, coef0=0.1, degree=3, gamma=scale, kernel=rbf, max_iter=500;, score=0.809 total time=   0.1s\n",
      "[CV 2/5] END C=0.1, coef0=0.1, degree=3, gamma=scale, kernel=rbf, max_iter=500;, score=0.809 total time=   0.1s\n",
      "[CV 3/5] END C=0.1, coef0=0.1, degree=3, gamma=scale, kernel=rbf, max_iter=500;, score=0.803 total time=   0.1s\n",
      "[CV 4/5] END C=0.1, coef0=0.1, degree=3, gamma=scale, kernel=rbf, max_iter=500;, score=0.781 total time=   0.1s\n",
      "[CV 5/5] END C=0.1, coef0=0.1, degree=3, gamma=scale, kernel=rbf, max_iter=500;, score=0.808 total time=   0.1s\n",
      "[CV 1/5] END C=0.1, coef0=0.1, degree=3, gamma=scale, kernel=rbf, max_iter=1000;, score=0.809 total time=   0.1s\n",
      "[CV 2/5] END C=0.1, coef0=0.1, degree=3, gamma=scale, kernel=rbf, max_iter=1000;, score=0.809 total time=   0.1s\n",
      "[CV 3/5] END C=0.1, coef0=0.1, degree=3, gamma=scale, kernel=rbf, max_iter=1000;, score=0.803 total time=   0.1s\n",
      "[CV 4/5] END C=0.1, coef0=0.1, degree=3, gamma=scale, kernel=rbf, max_iter=1000;, score=0.781 total time=   0.1s\n",
      "[CV 5/5] END C=0.1, coef0=0.1, degree=3, gamma=scale, kernel=rbf, max_iter=1000;, score=0.808 total time=   0.1s\n",
      "[CV 1/5] END C=0.1, coef0=0.1, degree=3, gamma=scale, kernel=rbf, max_iter=10000;, score=0.809 total time=   0.1s\n",
      "[CV 2/5] END C=0.1, coef0=0.1, degree=3, gamma=scale, kernel=rbf, max_iter=10000;, score=0.809 total time=   0.1s\n",
      "[CV 3/5] END C=0.1, coef0=0.1, degree=3, gamma=scale, kernel=rbf, max_iter=10000;, score=0.803 total time=   0.1s\n",
      "[CV 4/5] END C=0.1, coef0=0.1, degree=3, gamma=scale, kernel=rbf, max_iter=10000;, score=0.781 total time=   0.1s\n",
      "[CV 5/5] END C=0.1, coef0=0.1, degree=3, gamma=scale, kernel=rbf, max_iter=10000;, score=0.808 total time=   0.1s\n",
      "[CV 1/5] END C=0.1, coef0=0.1, degree=3, gamma=scale, kernel=rbf, max_iter=100000;, score=0.809 total time=   0.1s\n",
      "[CV 2/5] END C=0.1, coef0=0.1, degree=3, gamma=scale, kernel=rbf, max_iter=100000;, score=0.809 total time=   0.1s\n",
      "[CV 3/5] END C=0.1, coef0=0.1, degree=3, gamma=scale, kernel=rbf, max_iter=100000;, score=0.803 total time=   0.1s\n",
      "[CV 4/5] END C=0.1, coef0=0.1, degree=3, gamma=scale, kernel=rbf, max_iter=100000;, score=0.781 total time=   0.1s\n",
      "[CV 5/5] END C=0.1, coef0=0.1, degree=3, gamma=scale, kernel=rbf, max_iter=100000;, score=0.808 total time=   0.1s\n",
      "[CV 1/5] END C=0.1, coef0=0.1, degree=3, gamma=scale, kernel=poly, max_iter=500;, score=0.831 total time=   0.0s\n",
      "[CV 2/5] END C=0.1, coef0=0.1, degree=3, gamma=scale, kernel=poly, max_iter=500;, score=0.815 total time=   0.0s\n",
      "[CV 3/5] END C=0.1, coef0=0.1, degree=3, gamma=scale, kernel=poly, max_iter=500;, score=0.787 total time=   0.0s\n",
      "[CV 4/5] END C=0.1, coef0=0.1, degree=3, gamma=scale, kernel=poly, max_iter=500;, score=0.764 total time=   0.0s\n",
      "[CV 5/5] END C=0.1, coef0=0.1, degree=3, gamma=scale, kernel=poly, max_iter=500;, score=0.831 total time=   0.0s\n",
      "[CV 1/5] END C=0.1, coef0=0.1, degree=3, gamma=scale, kernel=poly, max_iter=1000;, score=0.831 total time=   0.0s\n",
      "[CV 2/5] END C=0.1, coef0=0.1, degree=3, gamma=scale, kernel=poly, max_iter=1000;, score=0.815 total time=   0.0s\n",
      "[CV 3/5] END C=0.1, coef0=0.1, degree=3, gamma=scale, kernel=poly, max_iter=1000;, score=0.787 total time=   0.0s\n",
      "[CV 4/5] END C=0.1, coef0=0.1, degree=3, gamma=scale, kernel=poly, max_iter=1000;, score=0.764 total time=   0.0s\n",
      "[CV 5/5] END C=0.1, coef0=0.1, degree=3, gamma=scale, kernel=poly, max_iter=1000;, score=0.831 total time=   0.0s\n",
      "[CV 1/5] END C=0.1, coef0=0.1, degree=3, gamma=scale, kernel=poly, max_iter=10000;, score=0.831 total time=   0.0s\n",
      "[CV 2/5] END C=0.1, coef0=0.1, degree=3, gamma=scale, kernel=poly, max_iter=10000;, score=0.815 total time=   0.0s\n",
      "[CV 3/5] END C=0.1, coef0=0.1, degree=3, gamma=scale, kernel=poly, max_iter=10000;, score=0.787 total time=   0.0s\n",
      "[CV 4/5] END C=0.1, coef0=0.1, degree=3, gamma=scale, kernel=poly, max_iter=10000;, score=0.764 total time=   0.0s\n",
      "[CV 5/5] END C=0.1, coef0=0.1, degree=3, gamma=scale, kernel=poly, max_iter=10000;, score=0.831 total time=   0.0s\n",
      "[CV 1/5] END C=0.1, coef0=0.1, degree=3, gamma=scale, kernel=poly, max_iter=100000;, score=0.831 total time=   0.0s\n",
      "[CV 2/5] END C=0.1, coef0=0.1, degree=3, gamma=scale, kernel=poly, max_iter=100000;, score=0.815 total time=   0.0s\n",
      "[CV 3/5] END C=0.1, coef0=0.1, degree=3, gamma=scale, kernel=poly, max_iter=100000;, score=0.787 total time=   0.0s\n",
      "[CV 4/5] END C=0.1, coef0=0.1, degree=3, gamma=scale, kernel=poly, max_iter=100000;, score=0.764 total time=   0.0s\n",
      "[CV 5/5] END C=0.1, coef0=0.1, degree=3, gamma=scale, kernel=poly, max_iter=100000;, score=0.831 total time=   0.0s\n",
      "[CV 1/5] END C=0.1, coef0=0.1, degree=4, gamma=scale, kernel=linear, max_iter=500;, score=0.803 total time=   0.0s\n",
      "[CV 2/5] END C=0.1, coef0=0.1, degree=4, gamma=scale, kernel=linear, max_iter=500;, score=0.815 total time=   0.0s\n",
      "[CV 3/5] END C=0.1, coef0=0.1, degree=4, gamma=scale, kernel=linear, max_iter=500;, score=0.787 total time=   0.0s\n"
     ]
    },
    {
     "name": "stderr",
     "output_type": "stream",
     "text": [
      "/Library/Frameworks/Python.framework/Versions/3.9/lib/python3.9/site-packages/sklearn/svm/_base.py:297: ConvergenceWarning: Solver terminated early (max_iter=500).  Consider pre-processing your data with StandardScaler or MinMaxScaler.\n",
      "  warnings.warn(\n",
      "/Library/Frameworks/Python.framework/Versions/3.9/lib/python3.9/site-packages/sklearn/svm/_base.py:297: ConvergenceWarning: Solver terminated early (max_iter=500).  Consider pre-processing your data with StandardScaler or MinMaxScaler.\n",
      "  warnings.warn(\n",
      "/Library/Frameworks/Python.framework/Versions/3.9/lib/python3.9/site-packages/sklearn/svm/_base.py:297: ConvergenceWarning: Solver terminated early (max_iter=500).  Consider pre-processing your data with StandardScaler or MinMaxScaler.\n",
      "  warnings.warn(\n",
      "/Library/Frameworks/Python.framework/Versions/3.9/lib/python3.9/site-packages/sklearn/svm/_base.py:297: ConvergenceWarning: Solver terminated early (max_iter=500).  Consider pre-processing your data with StandardScaler or MinMaxScaler.\n",
      "  warnings.warn(\n",
      "/Library/Frameworks/Python.framework/Versions/3.9/lib/python3.9/site-packages/sklearn/svm/_base.py:297: ConvergenceWarning: Solver terminated early (max_iter=500).  Consider pre-processing your data with StandardScaler or MinMaxScaler.\n",
      "  warnings.warn(\n"
     ]
    },
    {
     "name": "stdout",
     "output_type": "stream",
     "text": [
      "[CV 4/5] END C=0.1, coef0=0.1, degree=4, gamma=scale, kernel=linear, max_iter=500;, score=0.753 total time=   0.0s\n",
      "[CV 5/5] END C=0.1, coef0=0.1, degree=4, gamma=scale, kernel=linear, max_iter=500;, score=0.785 total time=   0.0s\n",
      "[CV 1/5] END C=0.1, coef0=0.1, degree=4, gamma=scale, kernel=linear, max_iter=1000;, score=0.803 total time=   0.0s\n",
      "[CV 2/5] END C=0.1, coef0=0.1, degree=4, gamma=scale, kernel=linear, max_iter=1000;, score=0.815 total time=   0.0s\n",
      "[CV 3/5] END C=0.1, coef0=0.1, degree=4, gamma=scale, kernel=linear, max_iter=1000;, score=0.787 total time=   0.0s\n",
      "[CV 4/5] END C=0.1, coef0=0.1, degree=4, gamma=scale, kernel=linear, max_iter=1000;, score=0.753 total time=   0.0s\n"
     ]
    },
    {
     "name": "stderr",
     "output_type": "stream",
     "text": [
      "/Library/Frameworks/Python.framework/Versions/3.9/lib/python3.9/site-packages/sklearn/svm/_base.py:297: ConvergenceWarning: Solver terminated early (max_iter=1000).  Consider pre-processing your data with StandardScaler or MinMaxScaler.\n",
      "  warnings.warn(\n",
      "/Library/Frameworks/Python.framework/Versions/3.9/lib/python3.9/site-packages/sklearn/svm/_base.py:297: ConvergenceWarning: Solver terminated early (max_iter=1000).  Consider pre-processing your data with StandardScaler or MinMaxScaler.\n",
      "  warnings.warn(\n"
     ]
    },
    {
     "name": "stdout",
     "output_type": "stream",
     "text": [
      "[CV 5/5] END C=0.1, coef0=0.1, degree=4, gamma=scale, kernel=linear, max_iter=1000;, score=0.785 total time=   0.0s\n",
      "[CV 1/5] END C=0.1, coef0=0.1, degree=4, gamma=scale, kernel=linear, max_iter=10000;, score=0.803 total time=   0.0s\n",
      "[CV 2/5] END C=0.1, coef0=0.1, degree=4, gamma=scale, kernel=linear, max_iter=10000;, score=0.815 total time=   0.0s\n",
      "[CV 3/5] END C=0.1, coef0=0.1, degree=4, gamma=scale, kernel=linear, max_iter=10000;, score=0.787 total time=   0.0s\n",
      "[CV 4/5] END C=0.1, coef0=0.1, degree=4, gamma=scale, kernel=linear, max_iter=10000;, score=0.753 total time=   0.0s\n",
      "[CV 5/5] END C=0.1, coef0=0.1, degree=4, gamma=scale, kernel=linear, max_iter=10000;, score=0.785 total time=   0.0s\n",
      "[CV 1/5] END C=0.1, coef0=0.1, degree=4, gamma=scale, kernel=linear, max_iter=100000;, score=0.803 total time=   0.0s\n",
      "[CV 2/5] END C=0.1, coef0=0.1, degree=4, gamma=scale, kernel=linear, max_iter=100000;, score=0.815 total time=   0.0s\n",
      "[CV 3/5] END C=0.1, coef0=0.1, degree=4, gamma=scale, kernel=linear, max_iter=100000;, score=0.787 total time=   0.0s\n",
      "[CV 4/5] END C=0.1, coef0=0.1, degree=4, gamma=scale, kernel=linear, max_iter=100000;, score=0.753 total time=   0.0s\n",
      "[CV 5/5] END C=0.1, coef0=0.1, degree=4, gamma=scale, kernel=linear, max_iter=100000;, score=0.785 total time=   0.0s\n",
      "[CV 1/5] END C=0.1, coef0=0.1, degree=4, gamma=scale, kernel=rbf, max_iter=500;, score=0.809 total time=   0.1s\n",
      "[CV 2/5] END C=0.1, coef0=0.1, degree=4, gamma=scale, kernel=rbf, max_iter=500;, score=0.809 total time=   0.1s\n",
      "[CV 3/5] END C=0.1, coef0=0.1, degree=4, gamma=scale, kernel=rbf, max_iter=500;, score=0.803 total time=   0.1s\n",
      "[CV 4/5] END C=0.1, coef0=0.1, degree=4, gamma=scale, kernel=rbf, max_iter=500;, score=0.781 total time=   0.1s\n",
      "[CV 5/5] END C=0.1, coef0=0.1, degree=4, gamma=scale, kernel=rbf, max_iter=500;, score=0.808 total time=   0.1s\n",
      "[CV 1/5] END C=0.1, coef0=0.1, degree=4, gamma=scale, kernel=rbf, max_iter=1000;, score=0.809 total time=   0.1s\n",
      "[CV 2/5] END C=0.1, coef0=0.1, degree=4, gamma=scale, kernel=rbf, max_iter=1000;, score=0.809 total time=   0.1s\n",
      "[CV 3/5] END C=0.1, coef0=0.1, degree=4, gamma=scale, kernel=rbf, max_iter=1000;, score=0.803 total time=   0.1s\n",
      "[CV 4/5] END C=0.1, coef0=0.1, degree=4, gamma=scale, kernel=rbf, max_iter=1000;, score=0.781 total time=   0.1s\n",
      "[CV 5/5] END C=0.1, coef0=0.1, degree=4, gamma=scale, kernel=rbf, max_iter=1000;, score=0.808 total time=   0.1s\n",
      "[CV 1/5] END C=0.1, coef0=0.1, degree=4, gamma=scale, kernel=rbf, max_iter=10000;, score=0.809 total time=   0.1s\n",
      "[CV 2/5] END C=0.1, coef0=0.1, degree=4, gamma=scale, kernel=rbf, max_iter=10000;, score=0.809 total time=   0.1s\n",
      "[CV 3/5] END C=0.1, coef0=0.1, degree=4, gamma=scale, kernel=rbf, max_iter=10000;, score=0.803 total time=   0.1s\n",
      "[CV 4/5] END C=0.1, coef0=0.1, degree=4, gamma=scale, kernel=rbf, max_iter=10000;, score=0.781 total time=   0.1s\n",
      "[CV 5/5] END C=0.1, coef0=0.1, degree=4, gamma=scale, kernel=rbf, max_iter=10000;, score=0.808 total time=   0.1s\n",
      "[CV 1/5] END C=0.1, coef0=0.1, degree=4, gamma=scale, kernel=rbf, max_iter=100000;, score=0.809 total time=   0.1s\n",
      "[CV 2/5] END C=0.1, coef0=0.1, degree=4, gamma=scale, kernel=rbf, max_iter=100000;, score=0.809 total time=   0.1s\n",
      "[CV 3/5] END C=0.1, coef0=0.1, degree=4, gamma=scale, kernel=rbf, max_iter=100000;, score=0.803 total time=   0.1s\n",
      "[CV 4/5] END C=0.1, coef0=0.1, degree=4, gamma=scale, kernel=rbf, max_iter=100000;, score=0.781 total time=   0.1s\n",
      "[CV 5/5] END C=0.1, coef0=0.1, degree=4, gamma=scale, kernel=rbf, max_iter=100000;, score=0.808 total time=   0.1s\n",
      "[CV 1/5] END C=0.1, coef0=0.1, degree=4, gamma=scale, kernel=poly, max_iter=500;, score=0.826 total time=   0.0s\n",
      "[CV 2/5] END C=0.1, coef0=0.1, degree=4, gamma=scale, kernel=poly, max_iter=500;, score=0.820 total time=   0.0s\n",
      "[CV 3/5] END C=0.1, coef0=0.1, degree=4, gamma=scale, kernel=poly, max_iter=500;, score=0.792 total time=   0.0s\n",
      "[CV 4/5] END C=0.1, coef0=0.1, degree=4, gamma=scale, kernel=poly, max_iter=500;, score=0.775 total time=   0.0s\n",
      "[CV 5/5] END C=0.1, coef0=0.1, degree=4, gamma=scale, kernel=poly, max_iter=500;, score=0.836 total time=   0.0s\n"
     ]
    },
    {
     "name": "stderr",
     "output_type": "stream",
     "text": [
      "/Library/Frameworks/Python.framework/Versions/3.9/lib/python3.9/site-packages/sklearn/svm/_base.py:297: ConvergenceWarning: Solver terminated early (max_iter=500).  Consider pre-processing your data with StandardScaler or MinMaxScaler.\n",
      "  warnings.warn(\n",
      "/Library/Frameworks/Python.framework/Versions/3.9/lib/python3.9/site-packages/sklearn/svm/_base.py:297: ConvergenceWarning: Solver terminated early (max_iter=500).  Consider pre-processing your data with StandardScaler or MinMaxScaler.\n",
      "  warnings.warn(\n"
     ]
    },
    {
     "name": "stdout",
     "output_type": "stream",
     "text": [
      "[CV 1/5] END C=0.1, coef0=0.1, degree=4, gamma=scale, kernel=poly, max_iter=1000;, score=0.826 total time=   0.0s\n",
      "[CV 2/5] END C=0.1, coef0=0.1, degree=4, gamma=scale, kernel=poly, max_iter=1000;, score=0.820 total time=   0.0s\n",
      "[CV 3/5] END C=0.1, coef0=0.1, degree=4, gamma=scale, kernel=poly, max_iter=1000;, score=0.792 total time=   0.0s\n",
      "[CV 4/5] END C=0.1, coef0=0.1, degree=4, gamma=scale, kernel=poly, max_iter=1000;, score=0.775 total time=   0.0s\n",
      "[CV 5/5] END C=0.1, coef0=0.1, degree=4, gamma=scale, kernel=poly, max_iter=1000;, score=0.836 total time=   0.0s\n",
      "[CV 1/5] END C=0.1, coef0=0.1, degree=4, gamma=scale, kernel=poly, max_iter=10000;, score=0.826 total time=   0.0s\n",
      "[CV 2/5] END C=0.1, coef0=0.1, degree=4, gamma=scale, kernel=poly, max_iter=10000;, score=0.820 total time=   0.0s\n",
      "[CV 3/5] END C=0.1, coef0=0.1, degree=4, gamma=scale, kernel=poly, max_iter=10000;, score=0.792 total time=   0.0s\n",
      "[CV 4/5] END C=0.1, coef0=0.1, degree=4, gamma=scale, kernel=poly, max_iter=10000;, score=0.775 total time=   0.0s\n",
      "[CV 5/5] END C=0.1, coef0=0.1, degree=4, gamma=scale, kernel=poly, max_iter=10000;, score=0.836 total time=   0.0s\n",
      "[CV 1/5] END C=0.1, coef0=0.1, degree=4, gamma=scale, kernel=poly, max_iter=100000;, score=0.826 total time=   0.0s\n",
      "[CV 2/5] END C=0.1, coef0=0.1, degree=4, gamma=scale, kernel=poly, max_iter=100000;, score=0.820 total time=   0.0s\n",
      "[CV 3/5] END C=0.1, coef0=0.1, degree=4, gamma=scale, kernel=poly, max_iter=100000;, score=0.792 total time=   0.0s\n",
      "[CV 4/5] END C=0.1, coef0=0.1, degree=4, gamma=scale, kernel=poly, max_iter=100000;, score=0.775 total time=   0.0s\n",
      "[CV 5/5] END C=0.1, coef0=0.1, degree=4, gamma=scale, kernel=poly, max_iter=100000;, score=0.836 total time=   0.0s\n",
      "[CV 1/5] END C=0.1, coef0=0.1, degree=5, gamma=scale, kernel=linear, max_iter=500;, score=0.803 total time=   0.0s\n",
      "[CV 2/5] END C=0.1, coef0=0.1, degree=5, gamma=scale, kernel=linear, max_iter=500;, score=0.815 total time=   0.0s\n",
      "[CV 3/5] END C=0.1, coef0=0.1, degree=5, gamma=scale, kernel=linear, max_iter=500;, score=0.787 total time=   0.0s\n"
     ]
    },
    {
     "name": "stderr",
     "output_type": "stream",
     "text": [
      "/Library/Frameworks/Python.framework/Versions/3.9/lib/python3.9/site-packages/sklearn/svm/_base.py:297: ConvergenceWarning: Solver terminated early (max_iter=500).  Consider pre-processing your data with StandardScaler or MinMaxScaler.\n",
      "  warnings.warn(\n",
      "/Library/Frameworks/Python.framework/Versions/3.9/lib/python3.9/site-packages/sklearn/svm/_base.py:297: ConvergenceWarning: Solver terminated early (max_iter=500).  Consider pre-processing your data with StandardScaler or MinMaxScaler.\n",
      "  warnings.warn(\n",
      "/Library/Frameworks/Python.framework/Versions/3.9/lib/python3.9/site-packages/sklearn/svm/_base.py:297: ConvergenceWarning: Solver terminated early (max_iter=500).  Consider pre-processing your data with StandardScaler or MinMaxScaler.\n",
      "  warnings.warn(\n",
      "/Library/Frameworks/Python.framework/Versions/3.9/lib/python3.9/site-packages/sklearn/svm/_base.py:297: ConvergenceWarning: Solver terminated early (max_iter=500).  Consider pre-processing your data with StandardScaler or MinMaxScaler.\n",
      "  warnings.warn(\n",
      "/Library/Frameworks/Python.framework/Versions/3.9/lib/python3.9/site-packages/sklearn/svm/_base.py:297: ConvergenceWarning: Solver terminated early (max_iter=500).  Consider pre-processing your data with StandardScaler or MinMaxScaler.\n",
      "  warnings.warn(\n"
     ]
    },
    {
     "name": "stdout",
     "output_type": "stream",
     "text": [
      "[CV 4/5] END C=0.1, coef0=0.1, degree=5, gamma=scale, kernel=linear, max_iter=500;, score=0.753 total time=   0.0s\n",
      "[CV 5/5] END C=0.1, coef0=0.1, degree=5, gamma=scale, kernel=linear, max_iter=500;, score=0.785 total time=   0.0s\n",
      "[CV 1/5] END C=0.1, coef0=0.1, degree=5, gamma=scale, kernel=linear, max_iter=1000;, score=0.803 total time=   0.0s\n",
      "[CV 2/5] END C=0.1, coef0=0.1, degree=5, gamma=scale, kernel=linear, max_iter=1000;, score=0.815 total time=   0.0s\n",
      "[CV 3/5] END C=0.1, coef0=0.1, degree=5, gamma=scale, kernel=linear, max_iter=1000;, score=0.787 total time=   0.0s\n",
      "[CV 4/5] END C=0.1, coef0=0.1, degree=5, gamma=scale, kernel=linear, max_iter=1000;, score=0.753 total time=   0.0s\n"
     ]
    },
    {
     "name": "stderr",
     "output_type": "stream",
     "text": [
      "/Library/Frameworks/Python.framework/Versions/3.9/lib/python3.9/site-packages/sklearn/svm/_base.py:297: ConvergenceWarning: Solver terminated early (max_iter=1000).  Consider pre-processing your data with StandardScaler or MinMaxScaler.\n",
      "  warnings.warn(\n",
      "/Library/Frameworks/Python.framework/Versions/3.9/lib/python3.9/site-packages/sklearn/svm/_base.py:297: ConvergenceWarning: Solver terminated early (max_iter=1000).  Consider pre-processing your data with StandardScaler or MinMaxScaler.\n",
      "  warnings.warn(\n"
     ]
    },
    {
     "name": "stdout",
     "output_type": "stream",
     "text": [
      "[CV 5/5] END C=0.1, coef0=0.1, degree=5, gamma=scale, kernel=linear, max_iter=1000;, score=0.785 total time=   0.0s\n",
      "[CV 1/5] END C=0.1, coef0=0.1, degree=5, gamma=scale, kernel=linear, max_iter=10000;, score=0.803 total time=   0.0s\n",
      "[CV 2/5] END C=0.1, coef0=0.1, degree=5, gamma=scale, kernel=linear, max_iter=10000;, score=0.815 total time=   0.0s\n",
      "[CV 3/5] END C=0.1, coef0=0.1, degree=5, gamma=scale, kernel=linear, max_iter=10000;, score=0.787 total time=   0.0s\n",
      "[CV 4/5] END C=0.1, coef0=0.1, degree=5, gamma=scale, kernel=linear, max_iter=10000;, score=0.753 total time=   0.0s\n",
      "[CV 5/5] END C=0.1, coef0=0.1, degree=5, gamma=scale, kernel=linear, max_iter=10000;, score=0.785 total time=   0.0s\n",
      "[CV 1/5] END C=0.1, coef0=0.1, degree=5, gamma=scale, kernel=linear, max_iter=100000;, score=0.803 total time=   0.0s\n",
      "[CV 2/5] END C=0.1, coef0=0.1, degree=5, gamma=scale, kernel=linear, max_iter=100000;, score=0.815 total time=   0.0s\n",
      "[CV 3/5] END C=0.1, coef0=0.1, degree=5, gamma=scale, kernel=linear, max_iter=100000;, score=0.787 total time=   0.0s\n",
      "[CV 4/5] END C=0.1, coef0=0.1, degree=5, gamma=scale, kernel=linear, max_iter=100000;, score=0.753 total time=   0.0s\n",
      "[CV 5/5] END C=0.1, coef0=0.1, degree=5, gamma=scale, kernel=linear, max_iter=100000;, score=0.785 total time=   0.0s\n",
      "[CV 1/5] END C=0.1, coef0=0.1, degree=5, gamma=scale, kernel=rbf, max_iter=500;, score=0.809 total time=   0.1s\n",
      "[CV 2/5] END C=0.1, coef0=0.1, degree=5, gamma=scale, kernel=rbf, max_iter=500;, score=0.809 total time=   0.1s\n",
      "[CV 3/5] END C=0.1, coef0=0.1, degree=5, gamma=scale, kernel=rbf, max_iter=500;, score=0.803 total time=   0.1s\n",
      "[CV 4/5] END C=0.1, coef0=0.1, degree=5, gamma=scale, kernel=rbf, max_iter=500;, score=0.781 total time=   0.1s\n",
      "[CV 5/5] END C=0.1, coef0=0.1, degree=5, gamma=scale, kernel=rbf, max_iter=500;, score=0.808 total time=   0.1s\n",
      "[CV 1/5] END C=0.1, coef0=0.1, degree=5, gamma=scale, kernel=rbf, max_iter=1000;, score=0.809 total time=   0.1s\n",
      "[CV 2/5] END C=0.1, coef0=0.1, degree=5, gamma=scale, kernel=rbf, max_iter=1000;, score=0.809 total time=   0.1s\n",
      "[CV 3/5] END C=0.1, coef0=0.1, degree=5, gamma=scale, kernel=rbf, max_iter=1000;, score=0.803 total time=   0.1s\n",
      "[CV 4/5] END C=0.1, coef0=0.1, degree=5, gamma=scale, kernel=rbf, max_iter=1000;, score=0.781 total time=   0.1s\n",
      "[CV 5/5] END C=0.1, coef0=0.1, degree=5, gamma=scale, kernel=rbf, max_iter=1000;, score=0.808 total time=   0.1s\n",
      "[CV 1/5] END C=0.1, coef0=0.1, degree=5, gamma=scale, kernel=rbf, max_iter=10000;, score=0.809 total time=   0.1s\n",
      "[CV 2/5] END C=0.1, coef0=0.1, degree=5, gamma=scale, kernel=rbf, max_iter=10000;, score=0.809 total time=   0.1s\n",
      "[CV 3/5] END C=0.1, coef0=0.1, degree=5, gamma=scale, kernel=rbf, max_iter=10000;, score=0.803 total time=   0.1s\n",
      "[CV 4/5] END C=0.1, coef0=0.1, degree=5, gamma=scale, kernel=rbf, max_iter=10000;, score=0.781 total time=   0.1s\n",
      "[CV 5/5] END C=0.1, coef0=0.1, degree=5, gamma=scale, kernel=rbf, max_iter=10000;, score=0.808 total time=   0.1s\n",
      "[CV 1/5] END C=0.1, coef0=0.1, degree=5, gamma=scale, kernel=rbf, max_iter=100000;, score=0.809 total time=   0.1s\n",
      "[CV 2/5] END C=0.1, coef0=0.1, degree=5, gamma=scale, kernel=rbf, max_iter=100000;, score=0.809 total time=   0.1s\n",
      "[CV 3/5] END C=0.1, coef0=0.1, degree=5, gamma=scale, kernel=rbf, max_iter=100000;, score=0.803 total time=   0.1s\n",
      "[CV 4/5] END C=0.1, coef0=0.1, degree=5, gamma=scale, kernel=rbf, max_iter=100000;, score=0.781 total time=   0.1s\n",
      "[CV 5/5] END C=0.1, coef0=0.1, degree=5, gamma=scale, kernel=rbf, max_iter=100000;, score=0.808 total time=   0.1s\n",
      "[CV 1/5] END C=0.1, coef0=0.1, degree=5, gamma=scale, kernel=poly, max_iter=500;, score=0.820 total time=   0.0s\n",
      "[CV 2/5] END C=0.1, coef0=0.1, degree=5, gamma=scale, kernel=poly, max_iter=500;, score=0.820 total time=   0.0s\n"
     ]
    },
    {
     "name": "stderr",
     "output_type": "stream",
     "text": [
      "/Library/Frameworks/Python.framework/Versions/3.9/lib/python3.9/site-packages/sklearn/svm/_base.py:297: ConvergenceWarning: Solver terminated early (max_iter=500).  Consider pre-processing your data with StandardScaler or MinMaxScaler.\n",
      "  warnings.warn(\n",
      "/Library/Frameworks/Python.framework/Versions/3.9/lib/python3.9/site-packages/sklearn/svm/_base.py:297: ConvergenceWarning: Solver terminated early (max_iter=500).  Consider pre-processing your data with StandardScaler or MinMaxScaler.\n",
      "  warnings.warn(\n",
      "/Library/Frameworks/Python.framework/Versions/3.9/lib/python3.9/site-packages/sklearn/svm/_base.py:297: ConvergenceWarning: Solver terminated early (max_iter=500).  Consider pre-processing your data with StandardScaler or MinMaxScaler.\n",
      "  warnings.warn(\n",
      "/Library/Frameworks/Python.framework/Versions/3.9/lib/python3.9/site-packages/sklearn/svm/_base.py:297: ConvergenceWarning: Solver terminated early (max_iter=500).  Consider pre-processing your data with StandardScaler or MinMaxScaler.\n",
      "  warnings.warn(\n",
      "/Library/Frameworks/Python.framework/Versions/3.9/lib/python3.9/site-packages/sklearn/svm/_base.py:297: ConvergenceWarning: Solver terminated early (max_iter=500).  Consider pre-processing your data with StandardScaler or MinMaxScaler.\n",
      "  warnings.warn(\n"
     ]
    },
    {
     "name": "stdout",
     "output_type": "stream",
     "text": [
      "[CV 3/5] END C=0.1, coef0=0.1, degree=5, gamma=scale, kernel=poly, max_iter=500;, score=0.809 total time=   0.0s\n",
      "[CV 4/5] END C=0.1, coef0=0.1, degree=5, gamma=scale, kernel=poly, max_iter=500;, score=0.775 total time=   0.0s\n",
      "[CV 5/5] END C=0.1, coef0=0.1, degree=5, gamma=scale, kernel=poly, max_iter=500;, score=0.836 total time=   0.0s\n",
      "[CV 1/5] END C=0.1, coef0=0.1, degree=5, gamma=scale, kernel=poly, max_iter=1000;, score=0.820 total time=   0.0s\n",
      "[CV 2/5] END C=0.1, coef0=0.1, degree=5, gamma=scale, kernel=poly, max_iter=1000;, score=0.820 total time=   0.0s\n",
      "[CV 3/5] END C=0.1, coef0=0.1, degree=5, gamma=scale, kernel=poly, max_iter=1000;, score=0.809 total time=   0.0s\n",
      "[CV 4/5] END C=0.1, coef0=0.1, degree=5, gamma=scale, kernel=poly, max_iter=1000;, score=0.775 total time=   0.0s\n",
      "[CV 5/5] END C=0.1, coef0=0.1, degree=5, gamma=scale, kernel=poly, max_iter=1000;, score=0.836 total time=   0.0s\n",
      "[CV 1/5] END C=0.1, coef0=0.1, degree=5, gamma=scale, kernel=poly, max_iter=10000;, score=0.820 total time=   0.0s\n",
      "[CV 2/5] END C=0.1, coef0=0.1, degree=5, gamma=scale, kernel=poly, max_iter=10000;, score=0.820 total time=   0.0s\n",
      "[CV 3/5] END C=0.1, coef0=0.1, degree=5, gamma=scale, kernel=poly, max_iter=10000;, score=0.809 total time=   0.0s\n",
      "[CV 4/5] END C=0.1, coef0=0.1, degree=5, gamma=scale, kernel=poly, max_iter=10000;, score=0.775 total time=   0.0s\n",
      "[CV 5/5] END C=0.1, coef0=0.1, degree=5, gamma=scale, kernel=poly, max_iter=10000;, score=0.836 total time=   0.0s\n",
      "[CV 1/5] END C=0.1, coef0=0.1, degree=5, gamma=scale, kernel=poly, max_iter=100000;, score=0.820 total time=   0.0s\n",
      "[CV 2/5] END C=0.1, coef0=0.1, degree=5, gamma=scale, kernel=poly, max_iter=100000;, score=0.820 total time=   0.0s\n",
      "[CV 3/5] END C=0.1, coef0=0.1, degree=5, gamma=scale, kernel=poly, max_iter=100000;, score=0.809 total time=   0.0s\n",
      "[CV 4/5] END C=0.1, coef0=0.1, degree=5, gamma=scale, kernel=poly, max_iter=100000;, score=0.775 total time=   0.0s\n",
      "[CV 5/5] END C=0.1, coef0=0.1, degree=5, gamma=scale, kernel=poly, max_iter=100000;, score=0.836 total time=   0.0s\n",
      "[CV 1/5] END C=0.1, coef0=1, degree=2, gamma=scale, kernel=linear, max_iter=500;, score=0.803 total time=   0.0s\n",
      "[CV 2/5] END C=0.1, coef0=1, degree=2, gamma=scale, kernel=linear, max_iter=500;, score=0.815 total time=   0.0s\n",
      "[CV 3/5] END C=0.1, coef0=1, degree=2, gamma=scale, kernel=linear, max_iter=500;, score=0.787 total time=   0.0s\n",
      "[CV 4/5] END C=0.1, coef0=1, degree=2, gamma=scale, kernel=linear, max_iter=500;, score=0.753 total time=   0.0s\n",
      "[CV 5/5] END C=0.1, coef0=1, degree=2, gamma=scale, kernel=linear, max_iter=500;, score=0.785 total time=   0.0s\n",
      "[CV 1/5] END C=0.1, coef0=1, degree=2, gamma=scale, kernel=linear, max_iter=1000;, score=0.803 total time=   0.0s\n"
     ]
    },
    {
     "name": "stderr",
     "output_type": "stream",
     "text": [
      "/Library/Frameworks/Python.framework/Versions/3.9/lib/python3.9/site-packages/sklearn/svm/_base.py:297: ConvergenceWarning: Solver terminated early (max_iter=500).  Consider pre-processing your data with StandardScaler or MinMaxScaler.\n",
      "  warnings.warn(\n",
      "/Library/Frameworks/Python.framework/Versions/3.9/lib/python3.9/site-packages/sklearn/svm/_base.py:297: ConvergenceWarning: Solver terminated early (max_iter=500).  Consider pre-processing your data with StandardScaler or MinMaxScaler.\n",
      "  warnings.warn(\n",
      "/Library/Frameworks/Python.framework/Versions/3.9/lib/python3.9/site-packages/sklearn/svm/_base.py:297: ConvergenceWarning: Solver terminated early (max_iter=500).  Consider pre-processing your data with StandardScaler or MinMaxScaler.\n",
      "  warnings.warn(\n",
      "/Library/Frameworks/Python.framework/Versions/3.9/lib/python3.9/site-packages/sklearn/svm/_base.py:297: ConvergenceWarning: Solver terminated early (max_iter=500).  Consider pre-processing your data with StandardScaler or MinMaxScaler.\n",
      "  warnings.warn(\n",
      "/Library/Frameworks/Python.framework/Versions/3.9/lib/python3.9/site-packages/sklearn/svm/_base.py:297: ConvergenceWarning: Solver terminated early (max_iter=500).  Consider pre-processing your data with StandardScaler or MinMaxScaler.\n",
      "  warnings.warn(\n"
     ]
    },
    {
     "name": "stdout",
     "output_type": "stream",
     "text": [
      "[CV 2/5] END C=0.1, coef0=1, degree=2, gamma=scale, kernel=linear, max_iter=1000;, score=0.815 total time=   0.0s\n",
      "[CV 3/5] END C=0.1, coef0=1, degree=2, gamma=scale, kernel=linear, max_iter=1000;, score=0.787 total time=   0.0s\n",
      "[CV 4/5] END C=0.1, coef0=1, degree=2, gamma=scale, kernel=linear, max_iter=1000;, score=0.753 total time=   0.0s\n",
      "[CV 5/5] END C=0.1, coef0=1, degree=2, gamma=scale, kernel=linear, max_iter=1000;, score=0.785 total time=   0.0s\n",
      "[CV 1/5] END C=0.1, coef0=1, degree=2, gamma=scale, kernel=linear, max_iter=10000;, score=0.803 total time=   0.0s\n",
      "[CV 2/5] END C=0.1, coef0=1, degree=2, gamma=scale, kernel=linear, max_iter=10000;, score=0.815 total time=   0.0s\n"
     ]
    },
    {
     "name": "stderr",
     "output_type": "stream",
     "text": [
      "/Library/Frameworks/Python.framework/Versions/3.9/lib/python3.9/site-packages/sklearn/svm/_base.py:297: ConvergenceWarning: Solver terminated early (max_iter=1000).  Consider pre-processing your data with StandardScaler or MinMaxScaler.\n",
      "  warnings.warn(\n",
      "/Library/Frameworks/Python.framework/Versions/3.9/lib/python3.9/site-packages/sklearn/svm/_base.py:297: ConvergenceWarning: Solver terminated early (max_iter=1000).  Consider pre-processing your data with StandardScaler or MinMaxScaler.\n",
      "  warnings.warn(\n"
     ]
    },
    {
     "name": "stdout",
     "output_type": "stream",
     "text": [
      "[CV 3/5] END C=0.1, coef0=1, degree=2, gamma=scale, kernel=linear, max_iter=10000;, score=0.787 total time=   0.0s\n",
      "[CV 4/5] END C=0.1, coef0=1, degree=2, gamma=scale, kernel=linear, max_iter=10000;, score=0.753 total time=   0.0s\n",
      "[CV 5/5] END C=0.1, coef0=1, degree=2, gamma=scale, kernel=linear, max_iter=10000;, score=0.785 total time=   0.0s\n",
      "[CV 1/5] END C=0.1, coef0=1, degree=2, gamma=scale, kernel=linear, max_iter=100000;, score=0.803 total time=   0.0s\n",
      "[CV 2/5] END C=0.1, coef0=1, degree=2, gamma=scale, kernel=linear, max_iter=100000;, score=0.815 total time=   0.0s\n",
      "[CV 3/5] END C=0.1, coef0=1, degree=2, gamma=scale, kernel=linear, max_iter=100000;, score=0.787 total time=   0.0s\n",
      "[CV 4/5] END C=0.1, coef0=1, degree=2, gamma=scale, kernel=linear, max_iter=100000;, score=0.753 total time=   0.0s\n",
      "[CV 5/5] END C=0.1, coef0=1, degree=2, gamma=scale, kernel=linear, max_iter=100000;, score=0.785 total time=   0.0s\n",
      "[CV 1/5] END C=0.1, coef0=1, degree=2, gamma=scale, kernel=rbf, max_iter=500;, score=0.809 total time=   0.1s\n",
      "[CV 2/5] END C=0.1, coef0=1, degree=2, gamma=scale, kernel=rbf, max_iter=500;, score=0.809 total time=   0.1s\n",
      "[CV 3/5] END C=0.1, coef0=1, degree=2, gamma=scale, kernel=rbf, max_iter=500;, score=0.803 total time=   0.1s\n",
      "[CV 4/5] END C=0.1, coef0=1, degree=2, gamma=scale, kernel=rbf, max_iter=500;, score=0.781 total time=   0.1s\n",
      "[CV 5/5] END C=0.1, coef0=1, degree=2, gamma=scale, kernel=rbf, max_iter=500;, score=0.808 total time=   0.1s\n",
      "[CV 1/5] END C=0.1, coef0=1, degree=2, gamma=scale, kernel=rbf, max_iter=1000;, score=0.809 total time=   0.1s\n",
      "[CV 2/5] END C=0.1, coef0=1, degree=2, gamma=scale, kernel=rbf, max_iter=1000;, score=0.809 total time=   0.1s\n",
      "[CV 3/5] END C=0.1, coef0=1, degree=2, gamma=scale, kernel=rbf, max_iter=1000;, score=0.803 total time=   0.1s\n",
      "[CV 4/5] END C=0.1, coef0=1, degree=2, gamma=scale, kernel=rbf, max_iter=1000;, score=0.781 total time=   0.1s\n",
      "[CV 5/5] END C=0.1, coef0=1, degree=2, gamma=scale, kernel=rbf, max_iter=1000;, score=0.808 total time=   0.1s\n",
      "[CV 1/5] END C=0.1, coef0=1, degree=2, gamma=scale, kernel=rbf, max_iter=10000;, score=0.809 total time=   0.1s\n",
      "[CV 2/5] END C=0.1, coef0=1, degree=2, gamma=scale, kernel=rbf, max_iter=10000;, score=0.809 total time=   0.1s\n",
      "[CV 3/5] END C=0.1, coef0=1, degree=2, gamma=scale, kernel=rbf, max_iter=10000;, score=0.803 total time=   0.1s\n",
      "[CV 4/5] END C=0.1, coef0=1, degree=2, gamma=scale, kernel=rbf, max_iter=10000;, score=0.781 total time=   0.1s\n",
      "[CV 5/5] END C=0.1, coef0=1, degree=2, gamma=scale, kernel=rbf, max_iter=10000;, score=0.808 total time=   0.1s\n",
      "[CV 1/5] END C=0.1, coef0=1, degree=2, gamma=scale, kernel=rbf, max_iter=100000;, score=0.809 total time=   0.1s\n",
      "[CV 2/5] END C=0.1, coef0=1, degree=2, gamma=scale, kernel=rbf, max_iter=100000;, score=0.809 total time=   0.1s\n",
      "[CV 3/5] END C=0.1, coef0=1, degree=2, gamma=scale, kernel=rbf, max_iter=100000;, score=0.803 total time=   0.1s\n",
      "[CV 4/5] END C=0.1, coef0=1, degree=2, gamma=scale, kernel=rbf, max_iter=100000;, score=0.781 total time=   0.1s\n",
      "[CV 5/5] END C=0.1, coef0=1, degree=2, gamma=scale, kernel=rbf, max_iter=100000;, score=0.808 total time=   0.1s\n",
      "[CV 1/5] END C=0.1, coef0=1, degree=2, gamma=scale, kernel=poly, max_iter=500;, score=0.803 total time=   0.0s\n",
      "[CV 2/5] END C=0.1, coef0=1, degree=2, gamma=scale, kernel=poly, max_iter=500;, score=0.815 total time=   0.0s\n",
      "[CV 3/5] END C=0.1, coef0=1, degree=2, gamma=scale, kernel=poly, max_iter=500;, score=0.787 total time=   0.0s\n",
      "[CV 4/5] END C=0.1, coef0=1, degree=2, gamma=scale, kernel=poly, max_iter=500;, score=0.753 total time=   0.0s\n",
      "[CV 5/5] END C=0.1, coef0=1, degree=2, gamma=scale, kernel=poly, max_iter=500;, score=0.797 total time=   0.0s\n",
      "[CV 1/5] END C=0.1, coef0=1, degree=2, gamma=scale, kernel=poly, max_iter=1000;, score=0.803 total time=   0.0s\n",
      "[CV 2/5] END C=0.1, coef0=1, degree=2, gamma=scale, kernel=poly, max_iter=1000;, score=0.815 total time=   0.0s\n",
      "[CV 3/5] END C=0.1, coef0=1, degree=2, gamma=scale, kernel=poly, max_iter=1000;, score=0.787 total time=   0.0s\n",
      "[CV 4/5] END C=0.1, coef0=1, degree=2, gamma=scale, kernel=poly, max_iter=1000;, score=0.753 total time=   0.0s\n",
      "[CV 5/5] END C=0.1, coef0=1, degree=2, gamma=scale, kernel=poly, max_iter=1000;, score=0.797 total time=   0.0s\n",
      "[CV 1/5] END C=0.1, coef0=1, degree=2, gamma=scale, kernel=poly, max_iter=10000;, score=0.803 total time=   0.0s\n",
      "[CV 2/5] END C=0.1, coef0=1, degree=2, gamma=scale, kernel=poly, max_iter=10000;, score=0.815 total time=   0.0s\n",
      "[CV 3/5] END C=0.1, coef0=1, degree=2, gamma=scale, kernel=poly, max_iter=10000;, score=0.787 total time=   0.0s\n",
      "[CV 4/5] END C=0.1, coef0=1, degree=2, gamma=scale, kernel=poly, max_iter=10000;, score=0.753 total time=   0.0s\n",
      "[CV 5/5] END C=0.1, coef0=1, degree=2, gamma=scale, kernel=poly, max_iter=10000;, score=0.797 total time=   0.0s\n",
      "[CV 1/5] END C=0.1, coef0=1, degree=2, gamma=scale, kernel=poly, max_iter=100000;, score=0.803 total time=   0.0s\n",
      "[CV 2/5] END C=0.1, coef0=1, degree=2, gamma=scale, kernel=poly, max_iter=100000;, score=0.815 total time=   0.0s\n",
      "[CV 3/5] END C=0.1, coef0=1, degree=2, gamma=scale, kernel=poly, max_iter=100000;, score=0.787 total time=   0.0s\n",
      "[CV 4/5] END C=0.1, coef0=1, degree=2, gamma=scale, kernel=poly, max_iter=100000;, score=0.753 total time=   0.0s\n",
      "[CV 5/5] END C=0.1, coef0=1, degree=2, gamma=scale, kernel=poly, max_iter=100000;, score=0.797 total time=   0.0s\n",
      "[CV 1/5] END C=0.1, coef0=1, degree=3, gamma=scale, kernel=linear, max_iter=500;, score=0.803 total time=   0.0s\n"
     ]
    },
    {
     "name": "stderr",
     "output_type": "stream",
     "text": [
      "/Library/Frameworks/Python.framework/Versions/3.9/lib/python3.9/site-packages/sklearn/svm/_base.py:297: ConvergenceWarning: Solver terminated early (max_iter=500).  Consider pre-processing your data with StandardScaler or MinMaxScaler.\n",
      "  warnings.warn(\n",
      "/Library/Frameworks/Python.framework/Versions/3.9/lib/python3.9/site-packages/sklearn/svm/_base.py:297: ConvergenceWarning: Solver terminated early (max_iter=500).  Consider pre-processing your data with StandardScaler or MinMaxScaler.\n",
      "  warnings.warn(\n",
      "/Library/Frameworks/Python.framework/Versions/3.9/lib/python3.9/site-packages/sklearn/svm/_base.py:297: ConvergenceWarning: Solver terminated early (max_iter=500).  Consider pre-processing your data with StandardScaler or MinMaxScaler.\n",
      "  warnings.warn(\n",
      "/Library/Frameworks/Python.framework/Versions/3.9/lib/python3.9/site-packages/sklearn/svm/_base.py:297: ConvergenceWarning: Solver terminated early (max_iter=500).  Consider pre-processing your data with StandardScaler or MinMaxScaler.\n",
      "  warnings.warn(\n",
      "/Library/Frameworks/Python.framework/Versions/3.9/lib/python3.9/site-packages/sklearn/svm/_base.py:297: ConvergenceWarning: Solver terminated early (max_iter=500).  Consider pre-processing your data with StandardScaler or MinMaxScaler.\n",
      "  warnings.warn(\n"
     ]
    },
    {
     "name": "stdout",
     "output_type": "stream",
     "text": [
      "[CV 2/5] END C=0.1, coef0=1, degree=3, gamma=scale, kernel=linear, max_iter=500;, score=0.815 total time=   0.0s\n",
      "[CV 3/5] END C=0.1, coef0=1, degree=3, gamma=scale, kernel=linear, max_iter=500;, score=0.787 total time=   0.0s\n",
      "[CV 4/5] END C=0.1, coef0=1, degree=3, gamma=scale, kernel=linear, max_iter=500;, score=0.753 total time=   0.0s\n",
      "[CV 5/5] END C=0.1, coef0=1, degree=3, gamma=scale, kernel=linear, max_iter=500;, score=0.785 total time=   0.0s\n",
      "[CV 1/5] END C=0.1, coef0=1, degree=3, gamma=scale, kernel=linear, max_iter=1000;, score=0.803 total time=   0.0s\n",
      "[CV 2/5] END C=0.1, coef0=1, degree=3, gamma=scale, kernel=linear, max_iter=1000;, score=0.815 total time=   0.0s\n"
     ]
    },
    {
     "name": "stderr",
     "output_type": "stream",
     "text": [
      "/Library/Frameworks/Python.framework/Versions/3.9/lib/python3.9/site-packages/sklearn/svm/_base.py:297: ConvergenceWarning: Solver terminated early (max_iter=1000).  Consider pre-processing your data with StandardScaler or MinMaxScaler.\n",
      "  warnings.warn(\n",
      "/Library/Frameworks/Python.framework/Versions/3.9/lib/python3.9/site-packages/sklearn/svm/_base.py:297: ConvergenceWarning: Solver terminated early (max_iter=1000).  Consider pre-processing your data with StandardScaler or MinMaxScaler.\n",
      "  warnings.warn(\n"
     ]
    },
    {
     "name": "stdout",
     "output_type": "stream",
     "text": [
      "[CV 3/5] END C=0.1, coef0=1, degree=3, gamma=scale, kernel=linear, max_iter=1000;, score=0.787 total time=   0.0s\n",
      "[CV 4/5] END C=0.1, coef0=1, degree=3, gamma=scale, kernel=linear, max_iter=1000;, score=0.753 total time=   0.0s\n",
      "[CV 5/5] END C=0.1, coef0=1, degree=3, gamma=scale, kernel=linear, max_iter=1000;, score=0.785 total time=   0.0s\n",
      "[CV 1/5] END C=0.1, coef0=1, degree=3, gamma=scale, kernel=linear, max_iter=10000;, score=0.803 total time=   0.0s\n",
      "[CV 2/5] END C=0.1, coef0=1, degree=3, gamma=scale, kernel=linear, max_iter=10000;, score=0.815 total time=   0.0s\n",
      "[CV 3/5] END C=0.1, coef0=1, degree=3, gamma=scale, kernel=linear, max_iter=10000;, score=0.787 total time=   0.0s\n",
      "[CV 4/5] END C=0.1, coef0=1, degree=3, gamma=scale, kernel=linear, max_iter=10000;, score=0.753 total time=   0.0s\n",
      "[CV 5/5] END C=0.1, coef0=1, degree=3, gamma=scale, kernel=linear, max_iter=10000;, score=0.785 total time=   0.0s\n",
      "[CV 1/5] END C=0.1, coef0=1, degree=3, gamma=scale, kernel=linear, max_iter=100000;, score=0.803 total time=   0.0s\n",
      "[CV 2/5] END C=0.1, coef0=1, degree=3, gamma=scale, kernel=linear, max_iter=100000;, score=0.815 total time=   0.0s\n",
      "[CV 3/5] END C=0.1, coef0=1, degree=3, gamma=scale, kernel=linear, max_iter=100000;, score=0.787 total time=   0.0s\n",
      "[CV 4/5] END C=0.1, coef0=1, degree=3, gamma=scale, kernel=linear, max_iter=100000;, score=0.753 total time=   0.0s\n",
      "[CV 5/5] END C=0.1, coef0=1, degree=3, gamma=scale, kernel=linear, max_iter=100000;, score=0.785 total time=   0.0s\n",
      "[CV 1/5] END C=0.1, coef0=1, degree=3, gamma=scale, kernel=rbf, max_iter=500;, score=0.809 total time=   0.1s\n",
      "[CV 2/5] END C=0.1, coef0=1, degree=3, gamma=scale, kernel=rbf, max_iter=500;, score=0.809 total time=   0.1s\n",
      "[CV 3/5] END C=0.1, coef0=1, degree=3, gamma=scale, kernel=rbf, max_iter=500;, score=0.803 total time=   0.1s\n",
      "[CV 4/5] END C=0.1, coef0=1, degree=3, gamma=scale, kernel=rbf, max_iter=500;, score=0.781 total time=   0.1s\n",
      "[CV 5/5] END C=0.1, coef0=1, degree=3, gamma=scale, kernel=rbf, max_iter=500;, score=0.808 total time=   0.1s\n",
      "[CV 1/5] END C=0.1, coef0=1, degree=3, gamma=scale, kernel=rbf, max_iter=1000;, score=0.809 total time=   0.1s\n",
      "[CV 2/5] END C=0.1, coef0=1, degree=3, gamma=scale, kernel=rbf, max_iter=1000;, score=0.809 total time=   0.1s\n",
      "[CV 3/5] END C=0.1, coef0=1, degree=3, gamma=scale, kernel=rbf, max_iter=1000;, score=0.803 total time=   0.1s\n",
      "[CV 4/5] END C=0.1, coef0=1, degree=3, gamma=scale, kernel=rbf, max_iter=1000;, score=0.781 total time=   0.1s\n",
      "[CV 5/5] END C=0.1, coef0=1, degree=3, gamma=scale, kernel=rbf, max_iter=1000;, score=0.808 total time=   0.1s\n",
      "[CV 1/5] END C=0.1, coef0=1, degree=3, gamma=scale, kernel=rbf, max_iter=10000;, score=0.809 total time=   0.1s\n",
      "[CV 2/5] END C=0.1, coef0=1, degree=3, gamma=scale, kernel=rbf, max_iter=10000;, score=0.809 total time=   0.1s\n",
      "[CV 3/5] END C=0.1, coef0=1, degree=3, gamma=scale, kernel=rbf, max_iter=10000;, score=0.803 total time=   0.1s\n",
      "[CV 4/5] END C=0.1, coef0=1, degree=3, gamma=scale, kernel=rbf, max_iter=10000;, score=0.781 total time=   0.1s\n",
      "[CV 5/5] END C=0.1, coef0=1, degree=3, gamma=scale, kernel=rbf, max_iter=10000;, score=0.808 total time=   0.1s\n",
      "[CV 1/5] END C=0.1, coef0=1, degree=3, gamma=scale, kernel=rbf, max_iter=100000;, score=0.809 total time=   0.1s\n",
      "[CV 2/5] END C=0.1, coef0=1, degree=3, gamma=scale, kernel=rbf, max_iter=100000;, score=0.809 total time=   0.1s\n",
      "[CV 3/5] END C=0.1, coef0=1, degree=3, gamma=scale, kernel=rbf, max_iter=100000;, score=0.803 total time=   0.1s\n",
      "[CV 4/5] END C=0.1, coef0=1, degree=3, gamma=scale, kernel=rbf, max_iter=100000;, score=0.781 total time=   0.1s\n",
      "[CV 5/5] END C=0.1, coef0=1, degree=3, gamma=scale, kernel=rbf, max_iter=100000;, score=0.808 total time=   0.1s\n",
      "[CV 1/5] END C=0.1, coef0=1, degree=3, gamma=scale, kernel=poly, max_iter=500;, score=0.831 total time=   0.0s\n",
      "[CV 2/5] END C=0.1, coef0=1, degree=3, gamma=scale, kernel=poly, max_iter=500;, score=0.820 total time=   0.0s\n",
      "[CV 3/5] END C=0.1, coef0=1, degree=3, gamma=scale, kernel=poly, max_iter=500;, score=0.792 total time=   0.0s\n"
     ]
    },
    {
     "name": "stderr",
     "output_type": "stream",
     "text": [
      "/Library/Frameworks/Python.framework/Versions/3.9/lib/python3.9/site-packages/sklearn/svm/_base.py:297: ConvergenceWarning: Solver terminated early (max_iter=500).  Consider pre-processing your data with StandardScaler or MinMaxScaler.\n",
      "  warnings.warn(\n",
      "/Library/Frameworks/Python.framework/Versions/3.9/lib/python3.9/site-packages/sklearn/svm/_base.py:297: ConvergenceWarning: Solver terminated early (max_iter=500).  Consider pre-processing your data with StandardScaler or MinMaxScaler.\n",
      "  warnings.warn(\n",
      "/Library/Frameworks/Python.framework/Versions/3.9/lib/python3.9/site-packages/sklearn/svm/_base.py:297: ConvergenceWarning: Solver terminated early (max_iter=500).  Consider pre-processing your data with StandardScaler or MinMaxScaler.\n",
      "  warnings.warn(\n",
      "/Library/Frameworks/Python.framework/Versions/3.9/lib/python3.9/site-packages/sklearn/svm/_base.py:297: ConvergenceWarning: Solver terminated early (max_iter=500).  Consider pre-processing your data with StandardScaler or MinMaxScaler.\n",
      "  warnings.warn(\n",
      "/Library/Frameworks/Python.framework/Versions/3.9/lib/python3.9/site-packages/sklearn/svm/_base.py:297: ConvergenceWarning: Solver terminated early (max_iter=500).  Consider pre-processing your data with StandardScaler or MinMaxScaler.\n",
      "  warnings.warn(\n"
     ]
    },
    {
     "name": "stdout",
     "output_type": "stream",
     "text": [
      "[CV 4/5] END C=0.1, coef0=1, degree=3, gamma=scale, kernel=poly, max_iter=500;, score=0.770 total time=   0.0s\n",
      "[CV 5/5] END C=0.1, coef0=1, degree=3, gamma=scale, kernel=poly, max_iter=500;, score=0.831 total time=   0.0s\n",
      "[CV 1/5] END C=0.1, coef0=1, degree=3, gamma=scale, kernel=poly, max_iter=1000;, score=0.831 total time=   0.0s\n",
      "[CV 2/5] END C=0.1, coef0=1, degree=3, gamma=scale, kernel=poly, max_iter=1000;, score=0.820 total time=   0.0s\n",
      "[CV 3/5] END C=0.1, coef0=1, degree=3, gamma=scale, kernel=poly, max_iter=1000;, score=0.792 total time=   0.0s\n",
      "[CV 4/5] END C=0.1, coef0=1, degree=3, gamma=scale, kernel=poly, max_iter=1000;, score=0.770 total time=   0.0s\n",
      "[CV 5/5] END C=0.1, coef0=1, degree=3, gamma=scale, kernel=poly, max_iter=1000;, score=0.831 total time=   0.0s\n",
      "[CV 1/5] END C=0.1, coef0=1, degree=3, gamma=scale, kernel=poly, max_iter=10000;, score=0.831 total time=   0.0s\n",
      "[CV 2/5] END C=0.1, coef0=1, degree=3, gamma=scale, kernel=poly, max_iter=10000;, score=0.820 total time=   0.0s\n",
      "[CV 3/5] END C=0.1, coef0=1, degree=3, gamma=scale, kernel=poly, max_iter=10000;, score=0.792 total time=   0.0s\n",
      "[CV 4/5] END C=0.1, coef0=1, degree=3, gamma=scale, kernel=poly, max_iter=10000;, score=0.770 total time=   0.0s\n",
      "[CV 5/5] END C=0.1, coef0=1, degree=3, gamma=scale, kernel=poly, max_iter=10000;, score=0.831 total time=   0.0s\n",
      "[CV 1/5] END C=0.1, coef0=1, degree=3, gamma=scale, kernel=poly, max_iter=100000;, score=0.831 total time=   0.0s\n",
      "[CV 2/5] END C=0.1, coef0=1, degree=3, gamma=scale, kernel=poly, max_iter=100000;, score=0.820 total time=   0.0s\n",
      "[CV 3/5] END C=0.1, coef0=1, degree=3, gamma=scale, kernel=poly, max_iter=100000;, score=0.792 total time=   0.0s\n",
      "[CV 4/5] END C=0.1, coef0=1, degree=3, gamma=scale, kernel=poly, max_iter=100000;, score=0.770 total time=   0.0s\n",
      "[CV 5/5] END C=0.1, coef0=1, degree=3, gamma=scale, kernel=poly, max_iter=100000;, score=0.831 total time=   0.0s\n",
      "[CV 1/5] END C=0.1, coef0=1, degree=4, gamma=scale, kernel=linear, max_iter=500;, score=0.803 total time=   0.0s\n"
     ]
    },
    {
     "name": "stderr",
     "output_type": "stream",
     "text": [
      "/Library/Frameworks/Python.framework/Versions/3.9/lib/python3.9/site-packages/sklearn/svm/_base.py:297: ConvergenceWarning: Solver terminated early (max_iter=500).  Consider pre-processing your data with StandardScaler or MinMaxScaler.\n",
      "  warnings.warn(\n",
      "/Library/Frameworks/Python.framework/Versions/3.9/lib/python3.9/site-packages/sklearn/svm/_base.py:297: ConvergenceWarning: Solver terminated early (max_iter=500).  Consider pre-processing your data with StandardScaler or MinMaxScaler.\n",
      "  warnings.warn(\n",
      "/Library/Frameworks/Python.framework/Versions/3.9/lib/python3.9/site-packages/sklearn/svm/_base.py:297: ConvergenceWarning: Solver terminated early (max_iter=500).  Consider pre-processing your data with StandardScaler or MinMaxScaler.\n",
      "  warnings.warn(\n",
      "/Library/Frameworks/Python.framework/Versions/3.9/lib/python3.9/site-packages/sklearn/svm/_base.py:297: ConvergenceWarning: Solver terminated early (max_iter=500).  Consider pre-processing your data with StandardScaler or MinMaxScaler.\n",
      "  warnings.warn(\n",
      "/Library/Frameworks/Python.framework/Versions/3.9/lib/python3.9/site-packages/sklearn/svm/_base.py:297: ConvergenceWarning: Solver terminated early (max_iter=500).  Consider pre-processing your data with StandardScaler or MinMaxScaler.\n",
      "  warnings.warn(\n"
     ]
    },
    {
     "name": "stdout",
     "output_type": "stream",
     "text": [
      "[CV 2/5] END C=0.1, coef0=1, degree=4, gamma=scale, kernel=linear, max_iter=500;, score=0.815 total time=   0.0s\n",
      "[CV 3/5] END C=0.1, coef0=1, degree=4, gamma=scale, kernel=linear, max_iter=500;, score=0.787 total time=   0.0s\n",
      "[CV 4/5] END C=0.1, coef0=1, degree=4, gamma=scale, kernel=linear, max_iter=500;, score=0.753 total time=   0.0s\n",
      "[CV 5/5] END C=0.1, coef0=1, degree=4, gamma=scale, kernel=linear, max_iter=500;, score=0.785 total time=   0.0s\n",
      "[CV 1/5] END C=0.1, coef0=1, degree=4, gamma=scale, kernel=linear, max_iter=1000;, score=0.803 total time=   0.0s\n",
      "[CV 2/5] END C=0.1, coef0=1, degree=4, gamma=scale, kernel=linear, max_iter=1000;, score=0.815 total time=   0.0s\n"
     ]
    },
    {
     "name": "stderr",
     "output_type": "stream",
     "text": [
      "/Library/Frameworks/Python.framework/Versions/3.9/lib/python3.9/site-packages/sklearn/svm/_base.py:297: ConvergenceWarning: Solver terminated early (max_iter=1000).  Consider pre-processing your data with StandardScaler or MinMaxScaler.\n",
      "  warnings.warn(\n",
      "/Library/Frameworks/Python.framework/Versions/3.9/lib/python3.9/site-packages/sklearn/svm/_base.py:297: ConvergenceWarning: Solver terminated early (max_iter=1000).  Consider pre-processing your data with StandardScaler or MinMaxScaler.\n",
      "  warnings.warn(\n"
     ]
    },
    {
     "name": "stdout",
     "output_type": "stream",
     "text": [
      "[CV 3/5] END C=0.1, coef0=1, degree=4, gamma=scale, kernel=linear, max_iter=1000;, score=0.787 total time=   0.0s\n",
      "[CV 4/5] END C=0.1, coef0=1, degree=4, gamma=scale, kernel=linear, max_iter=1000;, score=0.753 total time=   0.0s\n",
      "[CV 5/5] END C=0.1, coef0=1, degree=4, gamma=scale, kernel=linear, max_iter=1000;, score=0.785 total time=   0.0s\n",
      "[CV 1/5] END C=0.1, coef0=1, degree=4, gamma=scale, kernel=linear, max_iter=10000;, score=0.803 total time=   0.0s\n",
      "[CV 2/5] END C=0.1, coef0=1, degree=4, gamma=scale, kernel=linear, max_iter=10000;, score=0.815 total time=   0.0s\n",
      "[CV 3/5] END C=0.1, coef0=1, degree=4, gamma=scale, kernel=linear, max_iter=10000;, score=0.787 total time=   0.0s\n",
      "[CV 4/5] END C=0.1, coef0=1, degree=4, gamma=scale, kernel=linear, max_iter=10000;, score=0.753 total time=   0.0s\n",
      "[CV 5/5] END C=0.1, coef0=1, degree=4, gamma=scale, kernel=linear, max_iter=10000;, score=0.785 total time=   0.0s\n",
      "[CV 1/5] END C=0.1, coef0=1, degree=4, gamma=scale, kernel=linear, max_iter=100000;, score=0.803 total time=   0.0s\n",
      "[CV 2/5] END C=0.1, coef0=1, degree=4, gamma=scale, kernel=linear, max_iter=100000;, score=0.815 total time=   0.0s\n",
      "[CV 3/5] END C=0.1, coef0=1, degree=4, gamma=scale, kernel=linear, max_iter=100000;, score=0.787 total time=   0.0s\n",
      "[CV 4/5] END C=0.1, coef0=1, degree=4, gamma=scale, kernel=linear, max_iter=100000;, score=0.753 total time=   0.0s\n",
      "[CV 5/5] END C=0.1, coef0=1, degree=4, gamma=scale, kernel=linear, max_iter=100000;, score=0.785 total time=   0.0s\n",
      "[CV 1/5] END C=0.1, coef0=1, degree=4, gamma=scale, kernel=rbf, max_iter=500;, score=0.809 total time=   0.1s\n",
      "[CV 2/5] END C=0.1, coef0=1, degree=4, gamma=scale, kernel=rbf, max_iter=500;, score=0.809 total time=   0.1s\n",
      "[CV 3/5] END C=0.1, coef0=1, degree=4, gamma=scale, kernel=rbf, max_iter=500;, score=0.803 total time=   0.1s\n",
      "[CV 4/5] END C=0.1, coef0=1, degree=4, gamma=scale, kernel=rbf, max_iter=500;, score=0.781 total time=   0.1s\n",
      "[CV 5/5] END C=0.1, coef0=1, degree=4, gamma=scale, kernel=rbf, max_iter=500;, score=0.808 total time=   0.1s\n",
      "[CV 1/5] END C=0.1, coef0=1, degree=4, gamma=scale, kernel=rbf, max_iter=1000;, score=0.809 total time=   0.1s\n",
      "[CV 2/5] END C=0.1, coef0=1, degree=4, gamma=scale, kernel=rbf, max_iter=1000;, score=0.809 total time=   0.1s\n",
      "[CV 3/5] END C=0.1, coef0=1, degree=4, gamma=scale, kernel=rbf, max_iter=1000;, score=0.803 total time=   0.1s\n",
      "[CV 4/5] END C=0.1, coef0=1, degree=4, gamma=scale, kernel=rbf, max_iter=1000;, score=0.781 total time=   0.1s\n",
      "[CV 5/5] END C=0.1, coef0=1, degree=4, gamma=scale, kernel=rbf, max_iter=1000;, score=0.808 total time=   0.1s\n",
      "[CV 1/5] END C=0.1, coef0=1, degree=4, gamma=scale, kernel=rbf, max_iter=10000;, score=0.809 total time=   0.1s\n",
      "[CV 2/5] END C=0.1, coef0=1, degree=4, gamma=scale, kernel=rbf, max_iter=10000;, score=0.809 total time=   0.1s\n",
      "[CV 3/5] END C=0.1, coef0=1, degree=4, gamma=scale, kernel=rbf, max_iter=10000;, score=0.803 total time=   0.1s\n",
      "[CV 4/5] END C=0.1, coef0=1, degree=4, gamma=scale, kernel=rbf, max_iter=10000;, score=0.781 total time=   0.1s\n",
      "[CV 5/5] END C=0.1, coef0=1, degree=4, gamma=scale, kernel=rbf, max_iter=10000;, score=0.808 total time=   0.1s\n",
      "[CV 1/5] END C=0.1, coef0=1, degree=4, gamma=scale, kernel=rbf, max_iter=100000;, score=0.809 total time=   0.1s\n",
      "[CV 2/5] END C=0.1, coef0=1, degree=4, gamma=scale, kernel=rbf, max_iter=100000;, score=0.809 total time=   0.1s\n",
      "[CV 3/5] END C=0.1, coef0=1, degree=4, gamma=scale, kernel=rbf, max_iter=100000;, score=0.803 total time=   0.1s\n",
      "[CV 4/5] END C=0.1, coef0=1, degree=4, gamma=scale, kernel=rbf, max_iter=100000;, score=0.781 total time=   0.1s\n",
      "[CV 5/5] END C=0.1, coef0=1, degree=4, gamma=scale, kernel=rbf, max_iter=100000;, score=0.808 total time=   0.1s\n",
      "[CV 1/5] END C=0.1, coef0=1, degree=4, gamma=scale, kernel=poly, max_iter=500;, score=0.831 total time=   0.0s\n",
      "[CV 2/5] END C=0.1, coef0=1, degree=4, gamma=scale, kernel=poly, max_iter=500;, score=0.820 total time=   0.0s\n",
      "[CV 3/5] END C=0.1, coef0=1, degree=4, gamma=scale, kernel=poly, max_iter=500;, score=0.820 total time=   0.0s\n",
      "[CV 4/5] END C=0.1, coef0=1, degree=4, gamma=scale, kernel=poly, max_iter=500;, score=0.792 total time=   0.0s\n",
      "[CV 5/5] END C=0.1, coef0=1, degree=4, gamma=scale, kernel=poly, max_iter=500;, score=0.836 total time=   0.0s\n"
     ]
    },
    {
     "name": "stderr",
     "output_type": "stream",
     "text": [
      "/Library/Frameworks/Python.framework/Versions/3.9/lib/python3.9/site-packages/sklearn/svm/_base.py:297: ConvergenceWarning: Solver terminated early (max_iter=500).  Consider pre-processing your data with StandardScaler or MinMaxScaler.\n",
      "  warnings.warn(\n",
      "/Library/Frameworks/Python.framework/Versions/3.9/lib/python3.9/site-packages/sklearn/svm/_base.py:297: ConvergenceWarning: Solver terminated early (max_iter=500).  Consider pre-processing your data with StandardScaler or MinMaxScaler.\n",
      "  warnings.warn(\n",
      "/Library/Frameworks/Python.framework/Versions/3.9/lib/python3.9/site-packages/sklearn/svm/_base.py:297: ConvergenceWarning: Solver terminated early (max_iter=500).  Consider pre-processing your data with StandardScaler or MinMaxScaler.\n",
      "  warnings.warn(\n",
      "/Library/Frameworks/Python.framework/Versions/3.9/lib/python3.9/site-packages/sklearn/svm/_base.py:297: ConvergenceWarning: Solver terminated early (max_iter=500).  Consider pre-processing your data with StandardScaler or MinMaxScaler.\n",
      "  warnings.warn(\n",
      "/Library/Frameworks/Python.framework/Versions/3.9/lib/python3.9/site-packages/sklearn/svm/_base.py:297: ConvergenceWarning: Solver terminated early (max_iter=500).  Consider pre-processing your data with StandardScaler or MinMaxScaler.\n",
      "  warnings.warn(\n"
     ]
    },
    {
     "name": "stdout",
     "output_type": "stream",
     "text": [
      "[CV 1/5] END C=0.1, coef0=1, degree=4, gamma=scale, kernel=poly, max_iter=1000;, score=0.831 total time=   0.0s\n",
      "[CV 2/5] END C=0.1, coef0=1, degree=4, gamma=scale, kernel=poly, max_iter=1000;, score=0.820 total time=   0.0s\n",
      "[CV 3/5] END C=0.1, coef0=1, degree=4, gamma=scale, kernel=poly, max_iter=1000;, score=0.820 total time=   0.0s\n",
      "[CV 4/5] END C=0.1, coef0=1, degree=4, gamma=scale, kernel=poly, max_iter=1000;, score=0.792 total time=   0.0s\n",
      "[CV 5/5] END C=0.1, coef0=1, degree=4, gamma=scale, kernel=poly, max_iter=1000;, score=0.836 total time=   0.0s\n",
      "[CV 1/5] END C=0.1, coef0=1, degree=4, gamma=scale, kernel=poly, max_iter=10000;, score=0.831 total time=   0.0s\n"
     ]
    },
    {
     "name": "stderr",
     "output_type": "stream",
     "text": [
      "/Library/Frameworks/Python.framework/Versions/3.9/lib/python3.9/site-packages/sklearn/svm/_base.py:297: ConvergenceWarning: Solver terminated early (max_iter=1000).  Consider pre-processing your data with StandardScaler or MinMaxScaler.\n",
      "  warnings.warn(\n",
      "/Library/Frameworks/Python.framework/Versions/3.9/lib/python3.9/site-packages/sklearn/svm/_base.py:297: ConvergenceWarning: Solver terminated early (max_iter=1000).  Consider pre-processing your data with StandardScaler or MinMaxScaler.\n",
      "  warnings.warn(\n",
      "/Library/Frameworks/Python.framework/Versions/3.9/lib/python3.9/site-packages/sklearn/svm/_base.py:297: ConvergenceWarning: Solver terminated early (max_iter=1000).  Consider pre-processing your data with StandardScaler or MinMaxScaler.\n",
      "  warnings.warn(\n",
      "/Library/Frameworks/Python.framework/Versions/3.9/lib/python3.9/site-packages/sklearn/svm/_base.py:297: ConvergenceWarning: Solver terminated early (max_iter=1000).  Consider pre-processing your data with StandardScaler or MinMaxScaler.\n",
      "  warnings.warn(\n"
     ]
    },
    {
     "name": "stdout",
     "output_type": "stream",
     "text": [
      "[CV 2/5] END C=0.1, coef0=1, degree=4, gamma=scale, kernel=poly, max_iter=10000;, score=0.820 total time=   0.0s\n",
      "[CV 3/5] END C=0.1, coef0=1, degree=4, gamma=scale, kernel=poly, max_iter=10000;, score=0.820 total time=   0.0s\n",
      "[CV 4/5] END C=0.1, coef0=1, degree=4, gamma=scale, kernel=poly, max_iter=10000;, score=0.792 total time=   0.0s\n",
      "[CV 5/5] END C=0.1, coef0=1, degree=4, gamma=scale, kernel=poly, max_iter=10000;, score=0.836 total time=   0.0s\n",
      "[CV 1/5] END C=0.1, coef0=1, degree=4, gamma=scale, kernel=poly, max_iter=100000;, score=0.831 total time=   0.0s\n",
      "[CV 2/5] END C=0.1, coef0=1, degree=4, gamma=scale, kernel=poly, max_iter=100000;, score=0.820 total time=   0.0s\n",
      "[CV 3/5] END C=0.1, coef0=1, degree=4, gamma=scale, kernel=poly, max_iter=100000;, score=0.820 total time=   0.0s\n",
      "[CV 4/5] END C=0.1, coef0=1, degree=4, gamma=scale, kernel=poly, max_iter=100000;, score=0.792 total time=   0.0s\n",
      "[CV 5/5] END C=0.1, coef0=1, degree=4, gamma=scale, kernel=poly, max_iter=100000;, score=0.836 total time=   0.0s\n",
      "[CV 1/5] END C=0.1, coef0=1, degree=5, gamma=scale, kernel=linear, max_iter=500;, score=0.803 total time=   0.0s\n",
      "[CV 2/5] END C=0.1, coef0=1, degree=5, gamma=scale, kernel=linear, max_iter=500;, score=0.815 total time=   0.0s\n"
     ]
    },
    {
     "name": "stderr",
     "output_type": "stream",
     "text": [
      "/Library/Frameworks/Python.framework/Versions/3.9/lib/python3.9/site-packages/sklearn/svm/_base.py:297: ConvergenceWarning: Solver terminated early (max_iter=500).  Consider pre-processing your data with StandardScaler or MinMaxScaler.\n",
      "  warnings.warn(\n",
      "/Library/Frameworks/Python.framework/Versions/3.9/lib/python3.9/site-packages/sklearn/svm/_base.py:297: ConvergenceWarning: Solver terminated early (max_iter=500).  Consider pre-processing your data with StandardScaler or MinMaxScaler.\n",
      "  warnings.warn(\n",
      "/Library/Frameworks/Python.framework/Versions/3.9/lib/python3.9/site-packages/sklearn/svm/_base.py:297: ConvergenceWarning: Solver terminated early (max_iter=500).  Consider pre-processing your data with StandardScaler or MinMaxScaler.\n",
      "  warnings.warn(\n",
      "/Library/Frameworks/Python.framework/Versions/3.9/lib/python3.9/site-packages/sklearn/svm/_base.py:297: ConvergenceWarning: Solver terminated early (max_iter=500).  Consider pre-processing your data with StandardScaler or MinMaxScaler.\n",
      "  warnings.warn(\n",
      "/Library/Frameworks/Python.framework/Versions/3.9/lib/python3.9/site-packages/sklearn/svm/_base.py:297: ConvergenceWarning: Solver terminated early (max_iter=500).  Consider pre-processing your data with StandardScaler or MinMaxScaler.\n",
      "  warnings.warn(\n"
     ]
    },
    {
     "name": "stdout",
     "output_type": "stream",
     "text": [
      "[CV 3/5] END C=0.1, coef0=1, degree=5, gamma=scale, kernel=linear, max_iter=500;, score=0.787 total time=   0.0s\n",
      "[CV 4/5] END C=0.1, coef0=1, degree=5, gamma=scale, kernel=linear, max_iter=500;, score=0.753 total time=   0.0s\n",
      "[CV 5/5] END C=0.1, coef0=1, degree=5, gamma=scale, kernel=linear, max_iter=500;, score=0.785 total time=   0.0s\n",
      "[CV 1/5] END C=0.1, coef0=1, degree=5, gamma=scale, kernel=linear, max_iter=1000;, score=0.803 total time=   0.0s\n",
      "[CV 2/5] END C=0.1, coef0=1, degree=5, gamma=scale, kernel=linear, max_iter=1000;, score=0.815 total time=   0.0s\n",
      "[CV 3/5] END C=0.1, coef0=1, degree=5, gamma=scale, kernel=linear, max_iter=1000;, score=0.787 total time=   0.0s\n"
     ]
    },
    {
     "name": "stderr",
     "output_type": "stream",
     "text": [
      "/Library/Frameworks/Python.framework/Versions/3.9/lib/python3.9/site-packages/sklearn/svm/_base.py:297: ConvergenceWarning: Solver terminated early (max_iter=1000).  Consider pre-processing your data with StandardScaler or MinMaxScaler.\n",
      "  warnings.warn(\n",
      "/Library/Frameworks/Python.framework/Versions/3.9/lib/python3.9/site-packages/sklearn/svm/_base.py:297: ConvergenceWarning: Solver terminated early (max_iter=1000).  Consider pre-processing your data with StandardScaler or MinMaxScaler.\n",
      "  warnings.warn(\n"
     ]
    },
    {
     "name": "stdout",
     "output_type": "stream",
     "text": [
      "[CV 4/5] END C=0.1, coef0=1, degree=5, gamma=scale, kernel=linear, max_iter=1000;, score=0.753 total time=   0.0s\n",
      "[CV 5/5] END C=0.1, coef0=1, degree=5, gamma=scale, kernel=linear, max_iter=1000;, score=0.785 total time=   0.0s\n",
      "[CV 1/5] END C=0.1, coef0=1, degree=5, gamma=scale, kernel=linear, max_iter=10000;, score=0.803 total time=   0.0s\n",
      "[CV 2/5] END C=0.1, coef0=1, degree=5, gamma=scale, kernel=linear, max_iter=10000;, score=0.815 total time=   0.0s\n",
      "[CV 3/5] END C=0.1, coef0=1, degree=5, gamma=scale, kernel=linear, max_iter=10000;, score=0.787 total time=   0.0s\n",
      "[CV 4/5] END C=0.1, coef0=1, degree=5, gamma=scale, kernel=linear, max_iter=10000;, score=0.753 total time=   0.0s\n",
      "[CV 5/5] END C=0.1, coef0=1, degree=5, gamma=scale, kernel=linear, max_iter=10000;, score=0.785 total time=   0.0s\n",
      "[CV 1/5] END C=0.1, coef0=1, degree=5, gamma=scale, kernel=linear, max_iter=100000;, score=0.803 total time=   0.0s\n",
      "[CV 2/5] END C=0.1, coef0=1, degree=5, gamma=scale, kernel=linear, max_iter=100000;, score=0.815 total time=   0.0s\n",
      "[CV 3/5] END C=0.1, coef0=1, degree=5, gamma=scale, kernel=linear, max_iter=100000;, score=0.787 total time=   0.0s\n",
      "[CV 4/5] END C=0.1, coef0=1, degree=5, gamma=scale, kernel=linear, max_iter=100000;, score=0.753 total time=   0.0s\n",
      "[CV 5/5] END C=0.1, coef0=1, degree=5, gamma=scale, kernel=linear, max_iter=100000;, score=0.785 total time=   0.0s\n",
      "[CV 1/5] END C=0.1, coef0=1, degree=5, gamma=scale, kernel=rbf, max_iter=500;, score=0.809 total time=   0.1s\n",
      "[CV 2/5] END C=0.1, coef0=1, degree=5, gamma=scale, kernel=rbf, max_iter=500;, score=0.809 total time=   0.1s\n",
      "[CV 3/5] END C=0.1, coef0=1, degree=5, gamma=scale, kernel=rbf, max_iter=500;, score=0.803 total time=   0.1s\n",
      "[CV 4/5] END C=0.1, coef0=1, degree=5, gamma=scale, kernel=rbf, max_iter=500;, score=0.781 total time=   0.1s\n",
      "[CV 5/5] END C=0.1, coef0=1, degree=5, gamma=scale, kernel=rbf, max_iter=500;, score=0.808 total time=   0.1s\n",
      "[CV 1/5] END C=0.1, coef0=1, degree=5, gamma=scale, kernel=rbf, max_iter=1000;, score=0.809 total time=   0.1s\n",
      "[CV 2/5] END C=0.1, coef0=1, degree=5, gamma=scale, kernel=rbf, max_iter=1000;, score=0.809 total time=   0.1s\n",
      "[CV 3/5] END C=0.1, coef0=1, degree=5, gamma=scale, kernel=rbf, max_iter=1000;, score=0.803 total time=   0.1s\n",
      "[CV 4/5] END C=0.1, coef0=1, degree=5, gamma=scale, kernel=rbf, max_iter=1000;, score=0.781 total time=   0.1s\n",
      "[CV 5/5] END C=0.1, coef0=1, degree=5, gamma=scale, kernel=rbf, max_iter=1000;, score=0.808 total time=   0.1s\n",
      "[CV 1/5] END C=0.1, coef0=1, degree=5, gamma=scale, kernel=rbf, max_iter=10000;, score=0.809 total time=   0.1s\n",
      "[CV 2/5] END C=0.1, coef0=1, degree=5, gamma=scale, kernel=rbf, max_iter=10000;, score=0.809 total time=   0.1s\n",
      "[CV 3/5] END C=0.1, coef0=1, degree=5, gamma=scale, kernel=rbf, max_iter=10000;, score=0.803 total time=   0.1s\n",
      "[CV 4/5] END C=0.1, coef0=1, degree=5, gamma=scale, kernel=rbf, max_iter=10000;, score=0.781 total time=   0.1s\n",
      "[CV 5/5] END C=0.1, coef0=1, degree=5, gamma=scale, kernel=rbf, max_iter=10000;, score=0.808 total time=   0.1s\n",
      "[CV 1/5] END C=0.1, coef0=1, degree=5, gamma=scale, kernel=rbf, max_iter=100000;, score=0.809 total time=   0.1s\n",
      "[CV 2/5] END C=0.1, coef0=1, degree=5, gamma=scale, kernel=rbf, max_iter=100000;, score=0.809 total time=   0.1s\n",
      "[CV 3/5] END C=0.1, coef0=1, degree=5, gamma=scale, kernel=rbf, max_iter=100000;, score=0.803 total time=   0.1s\n",
      "[CV 4/5] END C=0.1, coef0=1, degree=5, gamma=scale, kernel=rbf, max_iter=100000;, score=0.781 total time=   0.1s\n",
      "[CV 5/5] END C=0.1, coef0=1, degree=5, gamma=scale, kernel=rbf, max_iter=100000;, score=0.808 total time=   0.1s\n"
     ]
    },
    {
     "name": "stderr",
     "output_type": "stream",
     "text": [
      "/Library/Frameworks/Python.framework/Versions/3.9/lib/python3.9/site-packages/sklearn/svm/_base.py:297: ConvergenceWarning: Solver terminated early (max_iter=500).  Consider pre-processing your data with StandardScaler or MinMaxScaler.\n",
      "  warnings.warn(\n",
      "/Library/Frameworks/Python.framework/Versions/3.9/lib/python3.9/site-packages/sklearn/svm/_base.py:297: ConvergenceWarning: Solver terminated early (max_iter=500).  Consider pre-processing your data with StandardScaler or MinMaxScaler.\n",
      "  warnings.warn(\n",
      "/Library/Frameworks/Python.framework/Versions/3.9/lib/python3.9/site-packages/sklearn/svm/_base.py:297: ConvergenceWarning: Solver terminated early (max_iter=500).  Consider pre-processing your data with StandardScaler or MinMaxScaler.\n",
      "  warnings.warn(\n",
      "/Library/Frameworks/Python.framework/Versions/3.9/lib/python3.9/site-packages/sklearn/svm/_base.py:297: ConvergenceWarning: Solver terminated early (max_iter=500).  Consider pre-processing your data with StandardScaler or MinMaxScaler.\n",
      "  warnings.warn(\n",
      "/Library/Frameworks/Python.framework/Versions/3.9/lib/python3.9/site-packages/sklearn/svm/_base.py:297: ConvergenceWarning: Solver terminated early (max_iter=500).  Consider pre-processing your data with StandardScaler or MinMaxScaler.\n",
      "  warnings.warn(\n",
      "/Library/Frameworks/Python.framework/Versions/3.9/lib/python3.9/site-packages/sklearn/svm/_base.py:297: ConvergenceWarning: Solver terminated early (max_iter=1000).  Consider pre-processing your data with StandardScaler or MinMaxScaler.\n",
      "  warnings.warn(\n"
     ]
    },
    {
     "name": "stdout",
     "output_type": "stream",
     "text": [
      "[CV 1/5] END C=0.1, coef0=1, degree=5, gamma=scale, kernel=poly, max_iter=500;, score=0.831 total time=   0.0s\n",
      "[CV 2/5] END C=0.1, coef0=1, degree=5, gamma=scale, kernel=poly, max_iter=500;, score=0.820 total time=   0.0s\n",
      "[CV 3/5] END C=0.1, coef0=1, degree=5, gamma=scale, kernel=poly, max_iter=500;, score=0.815 total time=   0.0s\n",
      "[CV 4/5] END C=0.1, coef0=1, degree=5, gamma=scale, kernel=poly, max_iter=500;, score=0.775 total time=   0.0s\n",
      "[CV 5/5] END C=0.1, coef0=1, degree=5, gamma=scale, kernel=poly, max_iter=500;, score=0.847 total time=   0.0s\n",
      "[CV 1/5] END C=0.1, coef0=1, degree=5, gamma=scale, kernel=poly, max_iter=1000;, score=0.826 total time=   0.0s\n"
     ]
    },
    {
     "name": "stderr",
     "output_type": "stream",
     "text": [
      "/Library/Frameworks/Python.framework/Versions/3.9/lib/python3.9/site-packages/sklearn/svm/_base.py:297: ConvergenceWarning: Solver terminated early (max_iter=1000).  Consider pre-processing your data with StandardScaler or MinMaxScaler.\n",
      "  warnings.warn(\n",
      "/Library/Frameworks/Python.framework/Versions/3.9/lib/python3.9/site-packages/sklearn/svm/_base.py:297: ConvergenceWarning: Solver terminated early (max_iter=1000).  Consider pre-processing your data with StandardScaler or MinMaxScaler.\n",
      "  warnings.warn(\n",
      "/Library/Frameworks/Python.framework/Versions/3.9/lib/python3.9/site-packages/sklearn/svm/_base.py:297: ConvergenceWarning: Solver terminated early (max_iter=1000).  Consider pre-processing your data with StandardScaler or MinMaxScaler.\n",
      "  warnings.warn(\n",
      "/Library/Frameworks/Python.framework/Versions/3.9/lib/python3.9/site-packages/sklearn/svm/_base.py:297: ConvergenceWarning: Solver terminated early (max_iter=1000).  Consider pre-processing your data with StandardScaler or MinMaxScaler.\n",
      "  warnings.warn(\n"
     ]
    },
    {
     "name": "stdout",
     "output_type": "stream",
     "text": [
      "[CV 2/5] END C=0.1, coef0=1, degree=5, gamma=scale, kernel=poly, max_iter=1000;, score=0.820 total time=   0.0s\n",
      "[CV 3/5] END C=0.1, coef0=1, degree=5, gamma=scale, kernel=poly, max_iter=1000;, score=0.815 total time=   0.1s\n",
      "[CV 4/5] END C=0.1, coef0=1, degree=5, gamma=scale, kernel=poly, max_iter=1000;, score=0.775 total time=   0.0s\n",
      "[CV 5/5] END C=0.1, coef0=1, degree=5, gamma=scale, kernel=poly, max_iter=1000;, score=0.836 total time=   0.0s\n",
      "[CV 1/5] END C=0.1, coef0=1, degree=5, gamma=scale, kernel=poly, max_iter=10000;, score=0.826 total time=   0.0s\n",
      "[CV 2/5] END C=0.1, coef0=1, degree=5, gamma=scale, kernel=poly, max_iter=10000;, score=0.820 total time=   0.0s\n",
      "[CV 3/5] END C=0.1, coef0=1, degree=5, gamma=scale, kernel=poly, max_iter=10000;, score=0.815 total time=   0.1s\n",
      "[CV 4/5] END C=0.1, coef0=1, degree=5, gamma=scale, kernel=poly, max_iter=10000;, score=0.775 total time=   0.1s\n",
      "[CV 5/5] END C=0.1, coef0=1, degree=5, gamma=scale, kernel=poly, max_iter=10000;, score=0.836 total time=   0.1s\n",
      "[CV 1/5] END C=0.1, coef0=1, degree=5, gamma=scale, kernel=poly, max_iter=100000;, score=0.826 total time=   0.0s\n",
      "[CV 2/5] END C=0.1, coef0=1, degree=5, gamma=scale, kernel=poly, max_iter=100000;, score=0.820 total time=   0.0s\n",
      "[CV 3/5] END C=0.1, coef0=1, degree=5, gamma=scale, kernel=poly, max_iter=100000;, score=0.815 total time=   0.1s\n",
      "[CV 4/5] END C=0.1, coef0=1, degree=5, gamma=scale, kernel=poly, max_iter=100000;, score=0.775 total time=   0.1s\n",
      "[CV 5/5] END C=0.1, coef0=1, degree=5, gamma=scale, kernel=poly, max_iter=100000;, score=0.836 total time=   0.1s\n",
      "[CV 1/5] END C=0.1, coef0=10, degree=2, gamma=scale, kernel=linear, max_iter=500;, score=0.803 total time=   0.0s\n"
     ]
    },
    {
     "name": "stderr",
     "output_type": "stream",
     "text": [
      "/Library/Frameworks/Python.framework/Versions/3.9/lib/python3.9/site-packages/sklearn/svm/_base.py:297: ConvergenceWarning: Solver terminated early (max_iter=500).  Consider pre-processing your data with StandardScaler or MinMaxScaler.\n",
      "  warnings.warn(\n",
      "/Library/Frameworks/Python.framework/Versions/3.9/lib/python3.9/site-packages/sklearn/svm/_base.py:297: ConvergenceWarning: Solver terminated early (max_iter=500).  Consider pre-processing your data with StandardScaler or MinMaxScaler.\n",
      "  warnings.warn(\n",
      "/Library/Frameworks/Python.framework/Versions/3.9/lib/python3.9/site-packages/sklearn/svm/_base.py:297: ConvergenceWarning: Solver terminated early (max_iter=500).  Consider pre-processing your data with StandardScaler or MinMaxScaler.\n",
      "  warnings.warn(\n",
      "/Library/Frameworks/Python.framework/Versions/3.9/lib/python3.9/site-packages/sklearn/svm/_base.py:297: ConvergenceWarning: Solver terminated early (max_iter=500).  Consider pre-processing your data with StandardScaler or MinMaxScaler.\n",
      "  warnings.warn(\n",
      "/Library/Frameworks/Python.framework/Versions/3.9/lib/python3.9/site-packages/sklearn/svm/_base.py:297: ConvergenceWarning: Solver terminated early (max_iter=500).  Consider pre-processing your data with StandardScaler or MinMaxScaler.\n",
      "  warnings.warn(\n"
     ]
    },
    {
     "name": "stdout",
     "output_type": "stream",
     "text": [
      "[CV 2/5] END C=0.1, coef0=10, degree=2, gamma=scale, kernel=linear, max_iter=500;, score=0.815 total time=   0.0s\n",
      "[CV 3/5] END C=0.1, coef0=10, degree=2, gamma=scale, kernel=linear, max_iter=500;, score=0.787 total time=   0.0s\n",
      "[CV 4/5] END C=0.1, coef0=10, degree=2, gamma=scale, kernel=linear, max_iter=500;, score=0.753 total time=   0.0s\n",
      "[CV 5/5] END C=0.1, coef0=10, degree=2, gamma=scale, kernel=linear, max_iter=500;, score=0.785 total time=   0.0s\n",
      "[CV 1/5] END C=0.1, coef0=10, degree=2, gamma=scale, kernel=linear, max_iter=1000;, score=0.803 total time=   0.0s\n",
      "[CV 2/5] END C=0.1, coef0=10, degree=2, gamma=scale, kernel=linear, max_iter=1000;, score=0.815 total time=   0.0s\n"
     ]
    },
    {
     "name": "stderr",
     "output_type": "stream",
     "text": [
      "/Library/Frameworks/Python.framework/Versions/3.9/lib/python3.9/site-packages/sklearn/svm/_base.py:297: ConvergenceWarning: Solver terminated early (max_iter=1000).  Consider pre-processing your data with StandardScaler or MinMaxScaler.\n",
      "  warnings.warn(\n",
      "/Library/Frameworks/Python.framework/Versions/3.9/lib/python3.9/site-packages/sklearn/svm/_base.py:297: ConvergenceWarning: Solver terminated early (max_iter=1000).  Consider pre-processing your data with StandardScaler or MinMaxScaler.\n",
      "  warnings.warn(\n"
     ]
    },
    {
     "name": "stdout",
     "output_type": "stream",
     "text": [
      "[CV 3/5] END C=0.1, coef0=10, degree=2, gamma=scale, kernel=linear, max_iter=1000;, score=0.787 total time=   0.0s\n",
      "[CV 4/5] END C=0.1, coef0=10, degree=2, gamma=scale, kernel=linear, max_iter=1000;, score=0.753 total time=   0.0s\n",
      "[CV 5/5] END C=0.1, coef0=10, degree=2, gamma=scale, kernel=linear, max_iter=1000;, score=0.785 total time=   0.0s\n",
      "[CV 1/5] END C=0.1, coef0=10, degree=2, gamma=scale, kernel=linear, max_iter=10000;, score=0.803 total time=   0.0s\n",
      "[CV 2/5] END C=0.1, coef0=10, degree=2, gamma=scale, kernel=linear, max_iter=10000;, score=0.815 total time=   0.0s\n",
      "[CV 3/5] END C=0.1, coef0=10, degree=2, gamma=scale, kernel=linear, max_iter=10000;, score=0.787 total time=   0.0s\n",
      "[CV 4/5] END C=0.1, coef0=10, degree=2, gamma=scale, kernel=linear, max_iter=10000;, score=0.753 total time=   0.0s\n",
      "[CV 5/5] END C=0.1, coef0=10, degree=2, gamma=scale, kernel=linear, max_iter=10000;, score=0.785 total time=   0.0s\n",
      "[CV 1/5] END C=0.1, coef0=10, degree=2, gamma=scale, kernel=linear, max_iter=100000;, score=0.803 total time=   0.0s\n",
      "[CV 2/5] END C=0.1, coef0=10, degree=2, gamma=scale, kernel=linear, max_iter=100000;, score=0.815 total time=   0.0s\n",
      "[CV 3/5] END C=0.1, coef0=10, degree=2, gamma=scale, kernel=linear, max_iter=100000;, score=0.787 total time=   0.0s\n",
      "[CV 4/5] END C=0.1, coef0=10, degree=2, gamma=scale, kernel=linear, max_iter=100000;, score=0.753 total time=   0.0s\n",
      "[CV 5/5] END C=0.1, coef0=10, degree=2, gamma=scale, kernel=linear, max_iter=100000;, score=0.785 total time=   0.0s\n",
      "[CV 1/5] END C=0.1, coef0=10, degree=2, gamma=scale, kernel=rbf, max_iter=500;, score=0.809 total time=   0.1s\n",
      "[CV 2/5] END C=0.1, coef0=10, degree=2, gamma=scale, kernel=rbf, max_iter=500;, score=0.809 total time=   0.1s\n",
      "[CV 3/5] END C=0.1, coef0=10, degree=2, gamma=scale, kernel=rbf, max_iter=500;, score=0.803 total time=   0.1s\n",
      "[CV 4/5] END C=0.1, coef0=10, degree=2, gamma=scale, kernel=rbf, max_iter=500;, score=0.781 total time=   0.1s\n",
      "[CV 5/5] END C=0.1, coef0=10, degree=2, gamma=scale, kernel=rbf, max_iter=500;, score=0.808 total time=   0.1s\n",
      "[CV 1/5] END C=0.1, coef0=10, degree=2, gamma=scale, kernel=rbf, max_iter=1000;, score=0.809 total time=   0.1s\n",
      "[CV 2/5] END C=0.1, coef0=10, degree=2, gamma=scale, kernel=rbf, max_iter=1000;, score=0.809 total time=   0.1s\n",
      "[CV 3/5] END C=0.1, coef0=10, degree=2, gamma=scale, kernel=rbf, max_iter=1000;, score=0.803 total time=   0.1s\n",
      "[CV 4/5] END C=0.1, coef0=10, degree=2, gamma=scale, kernel=rbf, max_iter=1000;, score=0.781 total time=   0.1s\n",
      "[CV 5/5] END C=0.1, coef0=10, degree=2, gamma=scale, kernel=rbf, max_iter=1000;, score=0.808 total time=   0.1s\n",
      "[CV 1/5] END C=0.1, coef0=10, degree=2, gamma=scale, kernel=rbf, max_iter=10000;, score=0.809 total time=   0.1s\n",
      "[CV 2/5] END C=0.1, coef0=10, degree=2, gamma=scale, kernel=rbf, max_iter=10000;, score=0.809 total time=   0.1s\n",
      "[CV 3/5] END C=0.1, coef0=10, degree=2, gamma=scale, kernel=rbf, max_iter=10000;, score=0.803 total time=   0.1s\n",
      "[CV 4/5] END C=0.1, coef0=10, degree=2, gamma=scale, kernel=rbf, max_iter=10000;, score=0.781 total time=   0.1s\n",
      "[CV 5/5] END C=0.1, coef0=10, degree=2, gamma=scale, kernel=rbf, max_iter=10000;, score=0.808 total time=   0.1s\n",
      "[CV 1/5] END C=0.1, coef0=10, degree=2, gamma=scale, kernel=rbf, max_iter=100000;, score=0.809 total time=   0.1s\n",
      "[CV 2/5] END C=0.1, coef0=10, degree=2, gamma=scale, kernel=rbf, max_iter=100000;, score=0.809 total time=   0.1s\n",
      "[CV 3/5] END C=0.1, coef0=10, degree=2, gamma=scale, kernel=rbf, max_iter=100000;, score=0.803 total time=   0.1s\n",
      "[CV 4/5] END C=0.1, coef0=10, degree=2, gamma=scale, kernel=rbf, max_iter=100000;, score=0.781 total time=   0.1s\n",
      "[CV 5/5] END C=0.1, coef0=10, degree=2, gamma=scale, kernel=rbf, max_iter=100000;, score=0.808 total time=   0.1s\n",
      "[CV 1/5] END C=0.1, coef0=10, degree=2, gamma=scale, kernel=poly, max_iter=500;, score=0.815 total time=   0.0s\n",
      "[CV 2/5] END C=0.1, coef0=10, degree=2, gamma=scale, kernel=poly, max_iter=500;, score=0.815 total time=   0.0s\n",
      "[CV 3/5] END C=0.1, coef0=10, degree=2, gamma=scale, kernel=poly, max_iter=500;, score=0.787 total time=   0.0s\n",
      "[CV 4/5] END C=0.1, coef0=10, degree=2, gamma=scale, kernel=poly, max_iter=500;, score=0.753 total time=   0.0s\n",
      "[CV 5/5] END C=0.1, coef0=10, degree=2, gamma=scale, kernel=poly, max_iter=500;, score=0.797 total time=   0.0s\n"
     ]
    },
    {
     "name": "stderr",
     "output_type": "stream",
     "text": [
      "/Library/Frameworks/Python.framework/Versions/3.9/lib/python3.9/site-packages/sklearn/svm/_base.py:297: ConvergenceWarning: Solver terminated early (max_iter=500).  Consider pre-processing your data with StandardScaler or MinMaxScaler.\n",
      "  warnings.warn(\n",
      "/Library/Frameworks/Python.framework/Versions/3.9/lib/python3.9/site-packages/sklearn/svm/_base.py:297: ConvergenceWarning: Solver terminated early (max_iter=500).  Consider pre-processing your data with StandardScaler or MinMaxScaler.\n",
      "  warnings.warn(\n",
      "/Library/Frameworks/Python.framework/Versions/3.9/lib/python3.9/site-packages/sklearn/svm/_base.py:297: ConvergenceWarning: Solver terminated early (max_iter=500).  Consider pre-processing your data with StandardScaler or MinMaxScaler.\n",
      "  warnings.warn(\n",
      "/Library/Frameworks/Python.framework/Versions/3.9/lib/python3.9/site-packages/sklearn/svm/_base.py:297: ConvergenceWarning: Solver terminated early (max_iter=500).  Consider pre-processing your data with StandardScaler or MinMaxScaler.\n",
      "  warnings.warn(\n",
      "/Library/Frameworks/Python.framework/Versions/3.9/lib/python3.9/site-packages/sklearn/svm/_base.py:297: ConvergenceWarning: Solver terminated early (max_iter=500).  Consider pre-processing your data with StandardScaler or MinMaxScaler.\n",
      "  warnings.warn(\n"
     ]
    },
    {
     "name": "stdout",
     "output_type": "stream",
     "text": [
      "[CV 1/5] END C=0.1, coef0=10, degree=2, gamma=scale, kernel=poly, max_iter=1000;, score=0.815 total time=   0.0s\n",
      "[CV 2/5] END C=0.1, coef0=10, degree=2, gamma=scale, kernel=poly, max_iter=1000;, score=0.815 total time=   0.0s\n",
      "[CV 3/5] END C=0.1, coef0=10, degree=2, gamma=scale, kernel=poly, max_iter=1000;, score=0.787 total time=   0.0s\n",
      "[CV 4/5] END C=0.1, coef0=10, degree=2, gamma=scale, kernel=poly, max_iter=1000;, score=0.753 total time=   0.0s\n",
      "[CV 5/5] END C=0.1, coef0=10, degree=2, gamma=scale, kernel=poly, max_iter=1000;, score=0.797 total time=   0.0s\n",
      "[CV 1/5] END C=0.1, coef0=10, degree=2, gamma=scale, kernel=poly, max_iter=10000;, score=0.815 total time=   0.0s\n"
     ]
    },
    {
     "name": "stderr",
     "output_type": "stream",
     "text": [
      "/Library/Frameworks/Python.framework/Versions/3.9/lib/python3.9/site-packages/sklearn/svm/_base.py:297: ConvergenceWarning: Solver terminated early (max_iter=1000).  Consider pre-processing your data with StandardScaler or MinMaxScaler.\n",
      "  warnings.warn(\n"
     ]
    },
    {
     "name": "stdout",
     "output_type": "stream",
     "text": [
      "[CV 2/5] END C=0.1, coef0=10, degree=2, gamma=scale, kernel=poly, max_iter=10000;, score=0.815 total time=   0.0s\n",
      "[CV 3/5] END C=0.1, coef0=10, degree=2, gamma=scale, kernel=poly, max_iter=10000;, score=0.787 total time=   0.0s\n",
      "[CV 4/5] END C=0.1, coef0=10, degree=2, gamma=scale, kernel=poly, max_iter=10000;, score=0.753 total time=   0.0s\n",
      "[CV 5/5] END C=0.1, coef0=10, degree=2, gamma=scale, kernel=poly, max_iter=10000;, score=0.797 total time=   0.0s\n",
      "[CV 1/5] END C=0.1, coef0=10, degree=2, gamma=scale, kernel=poly, max_iter=100000;, score=0.815 total time=   0.0s\n",
      "[CV 2/5] END C=0.1, coef0=10, degree=2, gamma=scale, kernel=poly, max_iter=100000;, score=0.815 total time=   0.0s\n",
      "[CV 3/5] END C=0.1, coef0=10, degree=2, gamma=scale, kernel=poly, max_iter=100000;, score=0.787 total time=   0.0s\n",
      "[CV 4/5] END C=0.1, coef0=10, degree=2, gamma=scale, kernel=poly, max_iter=100000;, score=0.753 total time=   0.0s\n",
      "[CV 5/5] END C=0.1, coef0=10, degree=2, gamma=scale, kernel=poly, max_iter=100000;, score=0.797 total time=   0.0s\n",
      "[CV 1/5] END C=0.1, coef0=10, degree=3, gamma=scale, kernel=linear, max_iter=500;, score=0.803 total time=   0.0s\n",
      "[CV 2/5] END C=0.1, coef0=10, degree=3, gamma=scale, kernel=linear, max_iter=500;, score=0.815 total time=   0.0s\n",
      "[CV 3/5] END C=0.1, coef0=10, degree=3, gamma=scale, kernel=linear, max_iter=500;, score=0.787 total time=   0.0s\n"
     ]
    },
    {
     "name": "stderr",
     "output_type": "stream",
     "text": [
      "/Library/Frameworks/Python.framework/Versions/3.9/lib/python3.9/site-packages/sklearn/svm/_base.py:297: ConvergenceWarning: Solver terminated early (max_iter=500).  Consider pre-processing your data with StandardScaler or MinMaxScaler.\n",
      "  warnings.warn(\n",
      "/Library/Frameworks/Python.framework/Versions/3.9/lib/python3.9/site-packages/sklearn/svm/_base.py:297: ConvergenceWarning: Solver terminated early (max_iter=500).  Consider pre-processing your data with StandardScaler or MinMaxScaler.\n",
      "  warnings.warn(\n",
      "/Library/Frameworks/Python.framework/Versions/3.9/lib/python3.9/site-packages/sklearn/svm/_base.py:297: ConvergenceWarning: Solver terminated early (max_iter=500).  Consider pre-processing your data with StandardScaler or MinMaxScaler.\n",
      "  warnings.warn(\n",
      "/Library/Frameworks/Python.framework/Versions/3.9/lib/python3.9/site-packages/sklearn/svm/_base.py:297: ConvergenceWarning: Solver terminated early (max_iter=500).  Consider pre-processing your data with StandardScaler or MinMaxScaler.\n",
      "  warnings.warn(\n",
      "/Library/Frameworks/Python.framework/Versions/3.9/lib/python3.9/site-packages/sklearn/svm/_base.py:297: ConvergenceWarning: Solver terminated early (max_iter=500).  Consider pre-processing your data with StandardScaler or MinMaxScaler.\n",
      "  warnings.warn(\n"
     ]
    },
    {
     "name": "stdout",
     "output_type": "stream",
     "text": [
      "[CV 4/5] END C=0.1, coef0=10, degree=3, gamma=scale, kernel=linear, max_iter=500;, score=0.753 total time=   0.0s\n",
      "[CV 5/5] END C=0.1, coef0=10, degree=3, gamma=scale, kernel=linear, max_iter=500;, score=0.785 total time=   0.0s\n",
      "[CV 1/5] END C=0.1, coef0=10, degree=3, gamma=scale, kernel=linear, max_iter=1000;, score=0.803 total time=   0.0s\n",
      "[CV 2/5] END C=0.1, coef0=10, degree=3, gamma=scale, kernel=linear, max_iter=1000;, score=0.815 total time=   0.0s\n",
      "[CV 3/5] END C=0.1, coef0=10, degree=3, gamma=scale, kernel=linear, max_iter=1000;, score=0.787 total time=   0.0s\n",
      "[CV 4/5] END C=0.1, coef0=10, degree=3, gamma=scale, kernel=linear, max_iter=1000;, score=0.753 total time=   0.0s\n"
     ]
    },
    {
     "name": "stderr",
     "output_type": "stream",
     "text": [
      "/Library/Frameworks/Python.framework/Versions/3.9/lib/python3.9/site-packages/sklearn/svm/_base.py:297: ConvergenceWarning: Solver terminated early (max_iter=1000).  Consider pre-processing your data with StandardScaler or MinMaxScaler.\n",
      "  warnings.warn(\n",
      "/Library/Frameworks/Python.framework/Versions/3.9/lib/python3.9/site-packages/sklearn/svm/_base.py:297: ConvergenceWarning: Solver terminated early (max_iter=1000).  Consider pre-processing your data with StandardScaler or MinMaxScaler.\n",
      "  warnings.warn(\n"
     ]
    },
    {
     "name": "stdout",
     "output_type": "stream",
     "text": [
      "[CV 5/5] END C=0.1, coef0=10, degree=3, gamma=scale, kernel=linear, max_iter=1000;, score=0.785 total time=   0.0s\n",
      "[CV 1/5] END C=0.1, coef0=10, degree=3, gamma=scale, kernel=linear, max_iter=10000;, score=0.803 total time=   0.0s\n",
      "[CV 2/5] END C=0.1, coef0=10, degree=3, gamma=scale, kernel=linear, max_iter=10000;, score=0.815 total time=   0.0s\n",
      "[CV 3/5] END C=0.1, coef0=10, degree=3, gamma=scale, kernel=linear, max_iter=10000;, score=0.787 total time=   0.0s\n",
      "[CV 4/5] END C=0.1, coef0=10, degree=3, gamma=scale, kernel=linear, max_iter=10000;, score=0.753 total time=   0.0s\n",
      "[CV 5/5] END C=0.1, coef0=10, degree=3, gamma=scale, kernel=linear, max_iter=10000;, score=0.785 total time=   0.0s\n",
      "[CV 1/5] END C=0.1, coef0=10, degree=3, gamma=scale, kernel=linear, max_iter=100000;, score=0.803 total time=   0.0s\n",
      "[CV 2/5] END C=0.1, coef0=10, degree=3, gamma=scale, kernel=linear, max_iter=100000;, score=0.815 total time=   0.0s\n",
      "[CV 3/5] END C=0.1, coef0=10, degree=3, gamma=scale, kernel=linear, max_iter=100000;, score=0.787 total time=   0.0s\n",
      "[CV 4/5] END C=0.1, coef0=10, degree=3, gamma=scale, kernel=linear, max_iter=100000;, score=0.753 total time=   0.0s\n",
      "[CV 5/5] END C=0.1, coef0=10, degree=3, gamma=scale, kernel=linear, max_iter=100000;, score=0.785 total time=   0.0s\n",
      "[CV 1/5] END C=0.1, coef0=10, degree=3, gamma=scale, kernel=rbf, max_iter=500;, score=0.809 total time=   0.1s\n",
      "[CV 2/5] END C=0.1, coef0=10, degree=3, gamma=scale, kernel=rbf, max_iter=500;, score=0.809 total time=   0.1s\n",
      "[CV 3/5] END C=0.1, coef0=10, degree=3, gamma=scale, kernel=rbf, max_iter=500;, score=0.803 total time=   0.1s\n",
      "[CV 4/5] END C=0.1, coef0=10, degree=3, gamma=scale, kernel=rbf, max_iter=500;, score=0.781 total time=   0.1s\n",
      "[CV 5/5] END C=0.1, coef0=10, degree=3, gamma=scale, kernel=rbf, max_iter=500;, score=0.808 total time=   0.1s\n",
      "[CV 1/5] END C=0.1, coef0=10, degree=3, gamma=scale, kernel=rbf, max_iter=1000;, score=0.809 total time=   0.1s\n",
      "[CV 2/5] END C=0.1, coef0=10, degree=3, gamma=scale, kernel=rbf, max_iter=1000;, score=0.809 total time=   0.1s\n",
      "[CV 3/5] END C=0.1, coef0=10, degree=3, gamma=scale, kernel=rbf, max_iter=1000;, score=0.803 total time=   0.1s\n",
      "[CV 4/5] END C=0.1, coef0=10, degree=3, gamma=scale, kernel=rbf, max_iter=1000;, score=0.781 total time=   0.1s\n",
      "[CV 5/5] END C=0.1, coef0=10, degree=3, gamma=scale, kernel=rbf, max_iter=1000;, score=0.808 total time=   0.1s\n",
      "[CV 1/5] END C=0.1, coef0=10, degree=3, gamma=scale, kernel=rbf, max_iter=10000;, score=0.809 total time=   0.1s\n",
      "[CV 2/5] END C=0.1, coef0=10, degree=3, gamma=scale, kernel=rbf, max_iter=10000;, score=0.809 total time=   0.1s\n",
      "[CV 3/5] END C=0.1, coef0=10, degree=3, gamma=scale, kernel=rbf, max_iter=10000;, score=0.803 total time=   0.1s\n",
      "[CV 4/5] END C=0.1, coef0=10, degree=3, gamma=scale, kernel=rbf, max_iter=10000;, score=0.781 total time=   0.1s\n",
      "[CV 5/5] END C=0.1, coef0=10, degree=3, gamma=scale, kernel=rbf, max_iter=10000;, score=0.808 total time=   0.1s\n",
      "[CV 1/5] END C=0.1, coef0=10, degree=3, gamma=scale, kernel=rbf, max_iter=100000;, score=0.809 total time=   0.1s\n",
      "[CV 2/5] END C=0.1, coef0=10, degree=3, gamma=scale, kernel=rbf, max_iter=100000;, score=0.809 total time=   0.1s\n",
      "[CV 3/5] END C=0.1, coef0=10, degree=3, gamma=scale, kernel=rbf, max_iter=100000;, score=0.803 total time=   0.1s\n",
      "[CV 4/5] END C=0.1, coef0=10, degree=3, gamma=scale, kernel=rbf, max_iter=100000;, score=0.781 total time=   0.1s\n",
      "[CV 5/5] END C=0.1, coef0=10, degree=3, gamma=scale, kernel=rbf, max_iter=100000;, score=0.808 total time=   0.1s\n"
     ]
    },
    {
     "name": "stderr",
     "output_type": "stream",
     "text": [
      "/Library/Frameworks/Python.framework/Versions/3.9/lib/python3.9/site-packages/sklearn/svm/_base.py:297: ConvergenceWarning: Solver terminated early (max_iter=500).  Consider pre-processing your data with StandardScaler or MinMaxScaler.\n",
      "  warnings.warn(\n",
      "/Library/Frameworks/Python.framework/Versions/3.9/lib/python3.9/site-packages/sklearn/svm/_base.py:297: ConvergenceWarning: Solver terminated early (max_iter=500).  Consider pre-processing your data with StandardScaler or MinMaxScaler.\n",
      "  warnings.warn(\n",
      "/Library/Frameworks/Python.framework/Versions/3.9/lib/python3.9/site-packages/sklearn/svm/_base.py:297: ConvergenceWarning: Solver terminated early (max_iter=500).  Consider pre-processing your data with StandardScaler or MinMaxScaler.\n",
      "  warnings.warn(\n",
      "/Library/Frameworks/Python.framework/Versions/3.9/lib/python3.9/site-packages/sklearn/svm/_base.py:297: ConvergenceWarning: Solver terminated early (max_iter=500).  Consider pre-processing your data with StandardScaler or MinMaxScaler.\n",
      "  warnings.warn(\n",
      "/Library/Frameworks/Python.framework/Versions/3.9/lib/python3.9/site-packages/sklearn/svm/_base.py:297: ConvergenceWarning: Solver terminated early (max_iter=500).  Consider pre-processing your data with StandardScaler or MinMaxScaler.\n",
      "  warnings.warn(\n",
      "/Library/Frameworks/Python.framework/Versions/3.9/lib/python3.9/site-packages/sklearn/svm/_base.py:297: ConvergenceWarning: Solver terminated early (max_iter=1000).  Consider pre-processing your data with StandardScaler or MinMaxScaler.\n",
      "  warnings.warn(\n"
     ]
    },
    {
     "name": "stdout",
     "output_type": "stream",
     "text": [
      "[CV 1/5] END C=0.1, coef0=10, degree=3, gamma=scale, kernel=poly, max_iter=500;, score=0.837 total time=   0.0s\n",
      "[CV 2/5] END C=0.1, coef0=10, degree=3, gamma=scale, kernel=poly, max_iter=500;, score=0.820 total time=   0.0s\n",
      "[CV 3/5] END C=0.1, coef0=10, degree=3, gamma=scale, kernel=poly, max_iter=500;, score=0.809 total time=   0.0s\n",
      "[CV 4/5] END C=0.1, coef0=10, degree=3, gamma=scale, kernel=poly, max_iter=500;, score=0.792 total time=   0.0s\n",
      "[CV 5/5] END C=0.1, coef0=10, degree=3, gamma=scale, kernel=poly, max_iter=500;, score=0.836 total time=   0.0s\n",
      "[CV 1/5] END C=0.1, coef0=10, degree=3, gamma=scale, kernel=poly, max_iter=1000;, score=0.837 total time=   0.0s\n"
     ]
    },
    {
     "name": "stderr",
     "output_type": "stream",
     "text": [
      "/Library/Frameworks/Python.framework/Versions/3.9/lib/python3.9/site-packages/sklearn/svm/_base.py:297: ConvergenceWarning: Solver terminated early (max_iter=1000).  Consider pre-processing your data with StandardScaler or MinMaxScaler.\n",
      "  warnings.warn(\n",
      "/Library/Frameworks/Python.framework/Versions/3.9/lib/python3.9/site-packages/sklearn/svm/_base.py:297: ConvergenceWarning: Solver terminated early (max_iter=1000).  Consider pre-processing your data with StandardScaler or MinMaxScaler.\n",
      "  warnings.warn(\n",
      "/Library/Frameworks/Python.framework/Versions/3.9/lib/python3.9/site-packages/sklearn/svm/_base.py:297: ConvergenceWarning: Solver terminated early (max_iter=1000).  Consider pre-processing your data with StandardScaler or MinMaxScaler.\n",
      "  warnings.warn(\n",
      "/Library/Frameworks/Python.framework/Versions/3.9/lib/python3.9/site-packages/sklearn/svm/_base.py:297: ConvergenceWarning: Solver terminated early (max_iter=1000).  Consider pre-processing your data with StandardScaler or MinMaxScaler.\n",
      "  warnings.warn(\n"
     ]
    },
    {
     "name": "stdout",
     "output_type": "stream",
     "text": [
      "[CV 2/5] END C=0.1, coef0=10, degree=3, gamma=scale, kernel=poly, max_iter=1000;, score=0.820 total time=   0.0s\n",
      "[CV 3/5] END C=0.1, coef0=10, degree=3, gamma=scale, kernel=poly, max_iter=1000;, score=0.820 total time=   0.0s\n",
      "[CV 4/5] END C=0.1, coef0=10, degree=3, gamma=scale, kernel=poly, max_iter=1000;, score=0.792 total time=   0.0s\n",
      "[CV 5/5] END C=0.1, coef0=10, degree=3, gamma=scale, kernel=poly, max_iter=1000;, score=0.842 total time=   0.0s\n",
      "[CV 1/5] END C=0.1, coef0=10, degree=3, gamma=scale, kernel=poly, max_iter=10000;, score=0.831 total time=   0.1s\n",
      "[CV 2/5] END C=0.1, coef0=10, degree=3, gamma=scale, kernel=poly, max_iter=10000;, score=0.820 total time=   0.1s\n",
      "[CV 3/5] END C=0.1, coef0=10, degree=3, gamma=scale, kernel=poly, max_iter=10000;, score=0.820 total time=   0.1s\n",
      "[CV 4/5] END C=0.1, coef0=10, degree=3, gamma=scale, kernel=poly, max_iter=10000;, score=0.792 total time=   0.1s\n",
      "[CV 5/5] END C=0.1, coef0=10, degree=3, gamma=scale, kernel=poly, max_iter=10000;, score=0.842 total time=   0.1s\n",
      "[CV 1/5] END C=0.1, coef0=10, degree=3, gamma=scale, kernel=poly, max_iter=100000;, score=0.831 total time=   0.1s\n",
      "[CV 2/5] END C=0.1, coef0=10, degree=3, gamma=scale, kernel=poly, max_iter=100000;, score=0.820 total time=   0.1s\n",
      "[CV 3/5] END C=0.1, coef0=10, degree=3, gamma=scale, kernel=poly, max_iter=100000;, score=0.820 total time=   0.1s\n",
      "[CV 4/5] END C=0.1, coef0=10, degree=3, gamma=scale, kernel=poly, max_iter=100000;, score=0.792 total time=   0.1s\n",
      "[CV 5/5] END C=0.1, coef0=10, degree=3, gamma=scale, kernel=poly, max_iter=100000;, score=0.842 total time=   0.1s\n",
      "[CV 1/5] END C=0.1, coef0=10, degree=4, gamma=scale, kernel=linear, max_iter=500;, score=0.803 total time=   0.0s\n",
      "[CV 2/5] END C=0.1, coef0=10, degree=4, gamma=scale, kernel=linear, max_iter=500;, score=0.815 total time=   0.0s\n",
      "[CV 3/5] END C=0.1, coef0=10, degree=4, gamma=scale, kernel=linear, max_iter=500;, score=0.787 total time=   0.0s\n"
     ]
    },
    {
     "name": "stderr",
     "output_type": "stream",
     "text": [
      "/Library/Frameworks/Python.framework/Versions/3.9/lib/python3.9/site-packages/sklearn/svm/_base.py:297: ConvergenceWarning: Solver terminated early (max_iter=500).  Consider pre-processing your data with StandardScaler or MinMaxScaler.\n",
      "  warnings.warn(\n",
      "/Library/Frameworks/Python.framework/Versions/3.9/lib/python3.9/site-packages/sklearn/svm/_base.py:297: ConvergenceWarning: Solver terminated early (max_iter=500).  Consider pre-processing your data with StandardScaler or MinMaxScaler.\n",
      "  warnings.warn(\n",
      "/Library/Frameworks/Python.framework/Versions/3.9/lib/python3.9/site-packages/sklearn/svm/_base.py:297: ConvergenceWarning: Solver terminated early (max_iter=500).  Consider pre-processing your data with StandardScaler or MinMaxScaler.\n",
      "  warnings.warn(\n",
      "/Library/Frameworks/Python.framework/Versions/3.9/lib/python3.9/site-packages/sklearn/svm/_base.py:297: ConvergenceWarning: Solver terminated early (max_iter=500).  Consider pre-processing your data with StandardScaler or MinMaxScaler.\n",
      "  warnings.warn(\n",
      "/Library/Frameworks/Python.framework/Versions/3.9/lib/python3.9/site-packages/sklearn/svm/_base.py:297: ConvergenceWarning: Solver terminated early (max_iter=500).  Consider pre-processing your data with StandardScaler or MinMaxScaler.\n",
      "  warnings.warn(\n"
     ]
    },
    {
     "name": "stdout",
     "output_type": "stream",
     "text": [
      "[CV 4/5] END C=0.1, coef0=10, degree=4, gamma=scale, kernel=linear, max_iter=500;, score=0.753 total time=   0.0s\n",
      "[CV 5/5] END C=0.1, coef0=10, degree=4, gamma=scale, kernel=linear, max_iter=500;, score=0.785 total time=   0.0s\n",
      "[CV 1/5] END C=0.1, coef0=10, degree=4, gamma=scale, kernel=linear, max_iter=1000;, score=0.803 total time=   0.0s\n",
      "[CV 2/5] END C=0.1, coef0=10, degree=4, gamma=scale, kernel=linear, max_iter=1000;, score=0.815 total time=   0.0s\n",
      "[CV 3/5] END C=0.1, coef0=10, degree=4, gamma=scale, kernel=linear, max_iter=1000;, score=0.787 total time=   0.0s\n",
      "[CV 4/5] END C=0.1, coef0=10, degree=4, gamma=scale, kernel=linear, max_iter=1000;, score=0.753 total time=   0.0s\n"
     ]
    },
    {
     "name": "stderr",
     "output_type": "stream",
     "text": [
      "/Library/Frameworks/Python.framework/Versions/3.9/lib/python3.9/site-packages/sklearn/svm/_base.py:297: ConvergenceWarning: Solver terminated early (max_iter=1000).  Consider pre-processing your data with StandardScaler or MinMaxScaler.\n",
      "  warnings.warn(\n",
      "/Library/Frameworks/Python.framework/Versions/3.9/lib/python3.9/site-packages/sklearn/svm/_base.py:297: ConvergenceWarning: Solver terminated early (max_iter=1000).  Consider pre-processing your data with StandardScaler or MinMaxScaler.\n",
      "  warnings.warn(\n"
     ]
    },
    {
     "name": "stdout",
     "output_type": "stream",
     "text": [
      "[CV 5/5] END C=0.1, coef0=10, degree=4, gamma=scale, kernel=linear, max_iter=1000;, score=0.785 total time=   0.0s\n",
      "[CV 1/5] END C=0.1, coef0=10, degree=4, gamma=scale, kernel=linear, max_iter=10000;, score=0.803 total time=   0.0s\n",
      "[CV 2/5] END C=0.1, coef0=10, degree=4, gamma=scale, kernel=linear, max_iter=10000;, score=0.815 total time=   0.0s\n",
      "[CV 3/5] END C=0.1, coef0=10, degree=4, gamma=scale, kernel=linear, max_iter=10000;, score=0.787 total time=   0.0s\n",
      "[CV 4/5] END C=0.1, coef0=10, degree=4, gamma=scale, kernel=linear, max_iter=10000;, score=0.753 total time=   0.0s\n",
      "[CV 5/5] END C=0.1, coef0=10, degree=4, gamma=scale, kernel=linear, max_iter=10000;, score=0.785 total time=   0.0s\n",
      "[CV 1/5] END C=0.1, coef0=10, degree=4, gamma=scale, kernel=linear, max_iter=100000;, score=0.803 total time=   0.0s\n",
      "[CV 2/5] END C=0.1, coef0=10, degree=4, gamma=scale, kernel=linear, max_iter=100000;, score=0.815 total time=   0.0s\n",
      "[CV 3/5] END C=0.1, coef0=10, degree=4, gamma=scale, kernel=linear, max_iter=100000;, score=0.787 total time=   0.0s\n",
      "[CV 4/5] END C=0.1, coef0=10, degree=4, gamma=scale, kernel=linear, max_iter=100000;, score=0.753 total time=   0.0s\n",
      "[CV 5/5] END C=0.1, coef0=10, degree=4, gamma=scale, kernel=linear, max_iter=100000;, score=0.785 total time=   0.0s\n",
      "[CV 1/5] END C=0.1, coef0=10, degree=4, gamma=scale, kernel=rbf, max_iter=500;, score=0.809 total time=   0.1s\n",
      "[CV 2/5] END C=0.1, coef0=10, degree=4, gamma=scale, kernel=rbf, max_iter=500;, score=0.809 total time=   0.1s\n",
      "[CV 3/5] END C=0.1, coef0=10, degree=4, gamma=scale, kernel=rbf, max_iter=500;, score=0.803 total time=   0.1s\n",
      "[CV 4/5] END C=0.1, coef0=10, degree=4, gamma=scale, kernel=rbf, max_iter=500;, score=0.781 total time=   0.1s\n",
      "[CV 5/5] END C=0.1, coef0=10, degree=4, gamma=scale, kernel=rbf, max_iter=500;, score=0.808 total time=   0.1s\n",
      "[CV 1/5] END C=0.1, coef0=10, degree=4, gamma=scale, kernel=rbf, max_iter=1000;, score=0.809 total time=   0.1s\n",
      "[CV 2/5] END C=0.1, coef0=10, degree=4, gamma=scale, kernel=rbf, max_iter=1000;, score=0.809 total time=   0.1s\n",
      "[CV 3/5] END C=0.1, coef0=10, degree=4, gamma=scale, kernel=rbf, max_iter=1000;, score=0.803 total time=   0.1s\n",
      "[CV 4/5] END C=0.1, coef0=10, degree=4, gamma=scale, kernel=rbf, max_iter=1000;, score=0.781 total time=   0.1s\n",
      "[CV 5/5] END C=0.1, coef0=10, degree=4, gamma=scale, kernel=rbf, max_iter=1000;, score=0.808 total time=   0.1s\n",
      "[CV 1/5] END C=0.1, coef0=10, degree=4, gamma=scale, kernel=rbf, max_iter=10000;, score=0.809 total time=   0.1s\n",
      "[CV 2/5] END C=0.1, coef0=10, degree=4, gamma=scale, kernel=rbf, max_iter=10000;, score=0.809 total time=   0.1s\n",
      "[CV 3/5] END C=0.1, coef0=10, degree=4, gamma=scale, kernel=rbf, max_iter=10000;, score=0.803 total time=   0.1s\n",
      "[CV 4/5] END C=0.1, coef0=10, degree=4, gamma=scale, kernel=rbf, max_iter=10000;, score=0.781 total time=   0.1s\n",
      "[CV 5/5] END C=0.1, coef0=10, degree=4, gamma=scale, kernel=rbf, max_iter=10000;, score=0.808 total time=   0.1s\n",
      "[CV 1/5] END C=0.1, coef0=10, degree=4, gamma=scale, kernel=rbf, max_iter=100000;, score=0.809 total time=   0.1s\n",
      "[CV 2/5] END C=0.1, coef0=10, degree=4, gamma=scale, kernel=rbf, max_iter=100000;, score=0.809 total time=   0.1s\n",
      "[CV 3/5] END C=0.1, coef0=10, degree=4, gamma=scale, kernel=rbf, max_iter=100000;, score=0.803 total time=   0.1s\n",
      "[CV 4/5] END C=0.1, coef0=10, degree=4, gamma=scale, kernel=rbf, max_iter=100000;, score=0.781 total time=   0.1s\n",
      "[CV 5/5] END C=0.1, coef0=10, degree=4, gamma=scale, kernel=rbf, max_iter=100000;, score=0.808 total time=   0.1s\n",
      "[CV 1/5] END C=0.1, coef0=10, degree=4, gamma=scale, kernel=poly, max_iter=500;, score=0.483 total time=   0.0s\n",
      "[CV 2/5] END C=0.1, coef0=10, degree=4, gamma=scale, kernel=poly, max_iter=500;, score=0.702 total time=   0.0s\n",
      "[CV 3/5] END C=0.1, coef0=10, degree=4, gamma=scale, kernel=poly, max_iter=500;, score=0.427 total time=   0.0s\n",
      "[CV 4/5] END C=0.1, coef0=10, degree=4, gamma=scale, kernel=poly, max_iter=500;, score=0.528 total time=   0.0s\n",
      "[CV 5/5] END C=0.1, coef0=10, degree=4, gamma=scale, kernel=poly, max_iter=500;, score=0.576 total time=   0.0s\n"
     ]
    },
    {
     "name": "stderr",
     "output_type": "stream",
     "text": [
      "/Library/Frameworks/Python.framework/Versions/3.9/lib/python3.9/site-packages/sklearn/svm/_base.py:297: ConvergenceWarning: Solver terminated early (max_iter=500).  Consider pre-processing your data with StandardScaler or MinMaxScaler.\n",
      "  warnings.warn(\n",
      "/Library/Frameworks/Python.framework/Versions/3.9/lib/python3.9/site-packages/sklearn/svm/_base.py:297: ConvergenceWarning: Solver terminated early (max_iter=500).  Consider pre-processing your data with StandardScaler or MinMaxScaler.\n",
      "  warnings.warn(\n",
      "/Library/Frameworks/Python.framework/Versions/3.9/lib/python3.9/site-packages/sklearn/svm/_base.py:297: ConvergenceWarning: Solver terminated early (max_iter=500).  Consider pre-processing your data with StandardScaler or MinMaxScaler.\n",
      "  warnings.warn(\n",
      "/Library/Frameworks/Python.framework/Versions/3.9/lib/python3.9/site-packages/sklearn/svm/_base.py:297: ConvergenceWarning: Solver terminated early (max_iter=500).  Consider pre-processing your data with StandardScaler or MinMaxScaler.\n",
      "  warnings.warn(\n",
      "/Library/Frameworks/Python.framework/Versions/3.9/lib/python3.9/site-packages/sklearn/svm/_base.py:297: ConvergenceWarning: Solver terminated early (max_iter=500).  Consider pre-processing your data with StandardScaler or MinMaxScaler.\n",
      "  warnings.warn(\n",
      "/Library/Frameworks/Python.framework/Versions/3.9/lib/python3.9/site-packages/sklearn/svm/_base.py:297: ConvergenceWarning: Solver terminated early (max_iter=1000).  Consider pre-processing your data with StandardScaler or MinMaxScaler.\n",
      "  warnings.warn(\n"
     ]
    },
    {
     "name": "stdout",
     "output_type": "stream",
     "text": [
      "[CV 1/5] END C=0.1, coef0=10, degree=4, gamma=scale, kernel=poly, max_iter=1000;, score=0.697 total time=   0.0s\n",
      "[CV 2/5] END C=0.1, coef0=10, degree=4, gamma=scale, kernel=poly, max_iter=1000;, score=0.528 total time=   0.0s\n",
      "[CV 3/5] END C=0.1, coef0=10, degree=4, gamma=scale, kernel=poly, max_iter=1000;, score=0.787 total time=   0.0s\n",
      "[CV 4/5] END C=0.1, coef0=10, degree=4, gamma=scale, kernel=poly, max_iter=1000;, score=0.758 total time=   0.0s\n",
      "[CV 5/5] END C=0.1, coef0=10, degree=4, gamma=scale, kernel=poly, max_iter=1000;, score=0.808 total time=   0.0s\n"
     ]
    },
    {
     "name": "stderr",
     "output_type": "stream",
     "text": [
      "/Library/Frameworks/Python.framework/Versions/3.9/lib/python3.9/site-packages/sklearn/svm/_base.py:297: ConvergenceWarning: Solver terminated early (max_iter=1000).  Consider pre-processing your data with StandardScaler or MinMaxScaler.\n",
      "  warnings.warn(\n",
      "/Library/Frameworks/Python.framework/Versions/3.9/lib/python3.9/site-packages/sklearn/svm/_base.py:297: ConvergenceWarning: Solver terminated early (max_iter=1000).  Consider pre-processing your data with StandardScaler or MinMaxScaler.\n",
      "  warnings.warn(\n",
      "/Library/Frameworks/Python.framework/Versions/3.9/lib/python3.9/site-packages/sklearn/svm/_base.py:297: ConvergenceWarning: Solver terminated early (max_iter=1000).  Consider pre-processing your data with StandardScaler or MinMaxScaler.\n",
      "  warnings.warn(\n",
      "/Library/Frameworks/Python.framework/Versions/3.9/lib/python3.9/site-packages/sklearn/svm/_base.py:297: ConvergenceWarning: Solver terminated early (max_iter=1000).  Consider pre-processing your data with StandardScaler or MinMaxScaler.\n",
      "  warnings.warn(\n",
      "/Library/Frameworks/Python.framework/Versions/3.9/lib/python3.9/site-packages/sklearn/svm/_base.py:297: ConvergenceWarning: Solver terminated early (max_iter=10000).  Consider pre-processing your data with StandardScaler or MinMaxScaler.\n",
      "  warnings.warn(\n",
      "/Library/Frameworks/Python.framework/Versions/3.9/lib/python3.9/site-packages/sklearn/svm/_base.py:297: ConvergenceWarning: Solver terminated early (max_iter=10000).  Consider pre-processing your data with StandardScaler or MinMaxScaler.\n",
      "  warnings.warn(\n"
     ]
    },
    {
     "name": "stdout",
     "output_type": "stream",
     "text": [
      "[CV 1/5] END C=0.1, coef0=10, degree=4, gamma=scale, kernel=poly, max_iter=10000;, score=0.831 total time=   0.1s\n",
      "[CV 2/5] END C=0.1, coef0=10, degree=4, gamma=scale, kernel=poly, max_iter=10000;, score=0.820 total time=   0.1s\n"
     ]
    },
    {
     "name": "stderr",
     "output_type": "stream",
     "text": [
      "/Library/Frameworks/Python.framework/Versions/3.9/lib/python3.9/site-packages/sklearn/svm/_base.py:297: ConvergenceWarning: Solver terminated early (max_iter=10000).  Consider pre-processing your data with StandardScaler or MinMaxScaler.\n",
      "  warnings.warn(\n",
      "/Library/Frameworks/Python.framework/Versions/3.9/lib/python3.9/site-packages/sklearn/svm/_base.py:297: ConvergenceWarning: Solver terminated early (max_iter=10000).  Consider pre-processing your data with StandardScaler or MinMaxScaler.\n",
      "  warnings.warn(\n"
     ]
    },
    {
     "name": "stdout",
     "output_type": "stream",
     "text": [
      "[CV 3/5] END C=0.1, coef0=10, degree=4, gamma=scale, kernel=poly, max_iter=10000;, score=0.820 total time=   0.1s\n",
      "[CV 4/5] END C=0.1, coef0=10, degree=4, gamma=scale, kernel=poly, max_iter=10000;, score=0.775 total time=   0.1s\n"
     ]
    },
    {
     "name": "stderr",
     "output_type": "stream",
     "text": [
      "/Library/Frameworks/Python.framework/Versions/3.9/lib/python3.9/site-packages/sklearn/svm/_base.py:297: ConvergenceWarning: Solver terminated early (max_iter=10000).  Consider pre-processing your data with StandardScaler or MinMaxScaler.\n",
      "  warnings.warn(\n"
     ]
    },
    {
     "name": "stdout",
     "output_type": "stream",
     "text": [
      "[CV 5/5] END C=0.1, coef0=10, degree=4, gamma=scale, kernel=poly, max_iter=10000;, score=0.853 total time=   0.1s\n"
     ]
    },
    {
     "name": "stderr",
     "output_type": "stream",
     "text": [
      "/Library/Frameworks/Python.framework/Versions/3.9/lib/python3.9/site-packages/sklearn/svm/_base.py:297: ConvergenceWarning: Solver terminated early (max_iter=100000).  Consider pre-processing your data with StandardScaler or MinMaxScaler.\n",
      "  warnings.warn(\n"
     ]
    },
    {
     "name": "stdout",
     "output_type": "stream",
     "text": [
      "[CV 1/5] END C=0.1, coef0=10, degree=4, gamma=scale, kernel=poly, max_iter=100000;, score=0.820 total time=   0.3s\n",
      "[CV 2/5] END C=0.1, coef0=10, degree=4, gamma=scale, kernel=poly, max_iter=100000;, score=0.820 total time=   0.3s\n"
     ]
    },
    {
     "name": "stderr",
     "output_type": "stream",
     "text": [
      "/Library/Frameworks/Python.framework/Versions/3.9/lib/python3.9/site-packages/sklearn/svm/_base.py:297: ConvergenceWarning: Solver terminated early (max_iter=100000).  Consider pre-processing your data with StandardScaler or MinMaxScaler.\n",
      "  warnings.warn(\n"
     ]
    },
    {
     "name": "stdout",
     "output_type": "stream",
     "text": [
      "[CV 3/5] END C=0.1, coef0=10, degree=4, gamma=scale, kernel=poly, max_iter=100000;, score=0.820 total time=   0.4s\n"
     ]
    },
    {
     "name": "stderr",
     "output_type": "stream",
     "text": [
      "/Library/Frameworks/Python.framework/Versions/3.9/lib/python3.9/site-packages/sklearn/svm/_base.py:297: ConvergenceWarning: Solver terminated early (max_iter=100000).  Consider pre-processing your data with StandardScaler or MinMaxScaler.\n",
      "  warnings.warn(\n"
     ]
    },
    {
     "name": "stdout",
     "output_type": "stream",
     "text": [
      "[CV 4/5] END C=0.1, coef0=10, degree=4, gamma=scale, kernel=poly, max_iter=100000;, score=0.775 total time=   0.3s\n"
     ]
    },
    {
     "name": "stderr",
     "output_type": "stream",
     "text": [
      "/Library/Frameworks/Python.framework/Versions/3.9/lib/python3.9/site-packages/sklearn/svm/_base.py:297: ConvergenceWarning: Solver terminated early (max_iter=100000).  Consider pre-processing your data with StandardScaler or MinMaxScaler.\n",
      "  warnings.warn(\n",
      "/Library/Frameworks/Python.framework/Versions/3.9/lib/python3.9/site-packages/sklearn/svm/_base.py:297: ConvergenceWarning: Solver terminated early (max_iter=500).  Consider pre-processing your data with StandardScaler or MinMaxScaler.\n",
      "  warnings.warn(\n",
      "/Library/Frameworks/Python.framework/Versions/3.9/lib/python3.9/site-packages/sklearn/svm/_base.py:297: ConvergenceWarning: Solver terminated early (max_iter=500).  Consider pre-processing your data with StandardScaler or MinMaxScaler.\n",
      "  warnings.warn(\n",
      "/Library/Frameworks/Python.framework/Versions/3.9/lib/python3.9/site-packages/sklearn/svm/_base.py:297: ConvergenceWarning: Solver terminated early (max_iter=500).  Consider pre-processing your data with StandardScaler or MinMaxScaler.\n",
      "  warnings.warn(\n",
      "/Library/Frameworks/Python.framework/Versions/3.9/lib/python3.9/site-packages/sklearn/svm/_base.py:297: ConvergenceWarning: Solver terminated early (max_iter=500).  Consider pre-processing your data with StandardScaler or MinMaxScaler.\n",
      "  warnings.warn(\n",
      "/Library/Frameworks/Python.framework/Versions/3.9/lib/python3.9/site-packages/sklearn/svm/_base.py:297: ConvergenceWarning: Solver terminated early (max_iter=500).  Consider pre-processing your data with StandardScaler or MinMaxScaler.\n",
      "  warnings.warn(\n"
     ]
    },
    {
     "name": "stdout",
     "output_type": "stream",
     "text": [
      "[CV 5/5] END C=0.1, coef0=10, degree=4, gamma=scale, kernel=poly, max_iter=100000;, score=0.853 total time=   0.3s\n",
      "[CV 1/5] END C=0.1, coef0=10, degree=5, gamma=scale, kernel=linear, max_iter=500;, score=0.803 total time=   0.0s\n",
      "[CV 2/5] END C=0.1, coef0=10, degree=5, gamma=scale, kernel=linear, max_iter=500;, score=0.815 total time=   0.0s\n",
      "[CV 3/5] END C=0.1, coef0=10, degree=5, gamma=scale, kernel=linear, max_iter=500;, score=0.787 total time=   0.0s\n",
      "[CV 4/5] END C=0.1, coef0=10, degree=5, gamma=scale, kernel=linear, max_iter=500;, score=0.753 total time=   0.0s\n",
      "[CV 5/5] END C=0.1, coef0=10, degree=5, gamma=scale, kernel=linear, max_iter=500;, score=0.785 total time=   0.0s\n",
      "[CV 1/5] END C=0.1, coef0=10, degree=5, gamma=scale, kernel=linear, max_iter=1000;, score=0.803 total time=   0.0s\n",
      "[CV 2/5] END C=0.1, coef0=10, degree=5, gamma=scale, kernel=linear, max_iter=1000;, score=0.815 total time=   0.0s\n",
      "[CV 3/5] END C=0.1, coef0=10, degree=5, gamma=scale, kernel=linear, max_iter=1000;, score=0.787 total time=   0.0s\n",
      "[CV 4/5] END C=0.1, coef0=10, degree=5, gamma=scale, kernel=linear, max_iter=1000;, score=0.753 total time=   0.0s\n",
      "[CV 5/5] END C=0.1, coef0=10, degree=5, gamma=scale, kernel=linear, max_iter=1000;, score=0.785 total time=   0.0s\n",
      "[CV 1/5] END C=0.1, coef0=10, degree=5, gamma=scale, kernel=linear, max_iter=10000;, score=0.803 total time=   0.0s\n"
     ]
    },
    {
     "name": "stderr",
     "output_type": "stream",
     "text": [
      "/Library/Frameworks/Python.framework/Versions/3.9/lib/python3.9/site-packages/sklearn/svm/_base.py:297: ConvergenceWarning: Solver terminated early (max_iter=1000).  Consider pre-processing your data with StandardScaler or MinMaxScaler.\n",
      "  warnings.warn(\n",
      "/Library/Frameworks/Python.framework/Versions/3.9/lib/python3.9/site-packages/sklearn/svm/_base.py:297: ConvergenceWarning: Solver terminated early (max_iter=1000).  Consider pre-processing your data with StandardScaler or MinMaxScaler.\n",
      "  warnings.warn(\n"
     ]
    },
    {
     "name": "stdout",
     "output_type": "stream",
     "text": [
      "[CV 2/5] END C=0.1, coef0=10, degree=5, gamma=scale, kernel=linear, max_iter=10000;, score=0.815 total time=   0.0s\n",
      "[CV 3/5] END C=0.1, coef0=10, degree=5, gamma=scale, kernel=linear, max_iter=10000;, score=0.787 total time=   0.0s\n",
      "[CV 4/5] END C=0.1, coef0=10, degree=5, gamma=scale, kernel=linear, max_iter=10000;, score=0.753 total time=   0.0s\n",
      "[CV 5/5] END C=0.1, coef0=10, degree=5, gamma=scale, kernel=linear, max_iter=10000;, score=0.785 total time=   0.0s\n",
      "[CV 1/5] END C=0.1, coef0=10, degree=5, gamma=scale, kernel=linear, max_iter=100000;, score=0.803 total time=   0.0s\n",
      "[CV 2/5] END C=0.1, coef0=10, degree=5, gamma=scale, kernel=linear, max_iter=100000;, score=0.815 total time=   0.0s\n",
      "[CV 3/5] END C=0.1, coef0=10, degree=5, gamma=scale, kernel=linear, max_iter=100000;, score=0.787 total time=   0.0s\n",
      "[CV 4/5] END C=0.1, coef0=10, degree=5, gamma=scale, kernel=linear, max_iter=100000;, score=0.753 total time=   0.0s\n",
      "[CV 5/5] END C=0.1, coef0=10, degree=5, gamma=scale, kernel=linear, max_iter=100000;, score=0.785 total time=   0.0s\n",
      "[CV 1/5] END C=0.1, coef0=10, degree=5, gamma=scale, kernel=rbf, max_iter=500;, score=0.809 total time=   0.1s\n",
      "[CV 2/5] END C=0.1, coef0=10, degree=5, gamma=scale, kernel=rbf, max_iter=500;, score=0.809 total time=   0.1s\n",
      "[CV 3/5] END C=0.1, coef0=10, degree=5, gamma=scale, kernel=rbf, max_iter=500;, score=0.803 total time=   0.1s\n",
      "[CV 4/5] END C=0.1, coef0=10, degree=5, gamma=scale, kernel=rbf, max_iter=500;, score=0.781 total time=   0.1s\n",
      "[CV 5/5] END C=0.1, coef0=10, degree=5, gamma=scale, kernel=rbf, max_iter=500;, score=0.808 total time=   0.1s\n",
      "[CV 1/5] END C=0.1, coef0=10, degree=5, gamma=scale, kernel=rbf, max_iter=1000;, score=0.809 total time=   0.1s\n",
      "[CV 2/5] END C=0.1, coef0=10, degree=5, gamma=scale, kernel=rbf, max_iter=1000;, score=0.809 total time=   0.1s\n",
      "[CV 3/5] END C=0.1, coef0=10, degree=5, gamma=scale, kernel=rbf, max_iter=1000;, score=0.803 total time=   0.1s\n",
      "[CV 4/5] END C=0.1, coef0=10, degree=5, gamma=scale, kernel=rbf, max_iter=1000;, score=0.781 total time=   0.1s\n",
      "[CV 5/5] END C=0.1, coef0=10, degree=5, gamma=scale, kernel=rbf, max_iter=1000;, score=0.808 total time=   0.1s\n",
      "[CV 1/5] END C=0.1, coef0=10, degree=5, gamma=scale, kernel=rbf, max_iter=10000;, score=0.809 total time=   0.1s\n",
      "[CV 2/5] END C=0.1, coef0=10, degree=5, gamma=scale, kernel=rbf, max_iter=10000;, score=0.809 total time=   0.1s\n",
      "[CV 3/5] END C=0.1, coef0=10, degree=5, gamma=scale, kernel=rbf, max_iter=10000;, score=0.803 total time=   0.1s\n",
      "[CV 4/5] END C=0.1, coef0=10, degree=5, gamma=scale, kernel=rbf, max_iter=10000;, score=0.781 total time=   0.1s\n",
      "[CV 5/5] END C=0.1, coef0=10, degree=5, gamma=scale, kernel=rbf, max_iter=10000;, score=0.808 total time=   0.1s\n",
      "[CV 1/5] END C=0.1, coef0=10, degree=5, gamma=scale, kernel=rbf, max_iter=100000;, score=0.809 total time=   0.1s\n",
      "[CV 2/5] END C=0.1, coef0=10, degree=5, gamma=scale, kernel=rbf, max_iter=100000;, score=0.809 total time=   0.1s\n",
      "[CV 3/5] END C=0.1, coef0=10, degree=5, gamma=scale, kernel=rbf, max_iter=100000;, score=0.803 total time=   0.1s\n",
      "[CV 4/5] END C=0.1, coef0=10, degree=5, gamma=scale, kernel=rbf, max_iter=100000;, score=0.781 total time=   0.1s\n",
      "[CV 5/5] END C=0.1, coef0=10, degree=5, gamma=scale, kernel=rbf, max_iter=100000;, score=0.808 total time=   0.1s\n",
      "[CV 1/5] END C=0.1, coef0=10, degree=5, gamma=scale, kernel=poly, max_iter=500;, score=0.596 total time=   0.0s\n",
      "[CV 2/5] END C=0.1, coef0=10, degree=5, gamma=scale, kernel=poly, max_iter=500;, score=0.348 total time=   0.0s\n"
     ]
    },
    {
     "name": "stderr",
     "output_type": "stream",
     "text": [
      "/Library/Frameworks/Python.framework/Versions/3.9/lib/python3.9/site-packages/sklearn/svm/_base.py:297: ConvergenceWarning: Solver terminated early (max_iter=500).  Consider pre-processing your data with StandardScaler or MinMaxScaler.\n",
      "  warnings.warn(\n",
      "/Library/Frameworks/Python.framework/Versions/3.9/lib/python3.9/site-packages/sklearn/svm/_base.py:297: ConvergenceWarning: Solver terminated early (max_iter=500).  Consider pre-processing your data with StandardScaler or MinMaxScaler.\n",
      "  warnings.warn(\n",
      "/Library/Frameworks/Python.framework/Versions/3.9/lib/python3.9/site-packages/sklearn/svm/_base.py:297: ConvergenceWarning: Solver terminated early (max_iter=500).  Consider pre-processing your data with StandardScaler or MinMaxScaler.\n",
      "  warnings.warn(\n",
      "/Library/Frameworks/Python.framework/Versions/3.9/lib/python3.9/site-packages/sklearn/svm/_base.py:297: ConvergenceWarning: Solver terminated early (max_iter=500).  Consider pre-processing your data with StandardScaler or MinMaxScaler.\n",
      "  warnings.warn(\n",
      "/Library/Frameworks/Python.framework/Versions/3.9/lib/python3.9/site-packages/sklearn/svm/_base.py:297: ConvergenceWarning: Solver terminated early (max_iter=500).  Consider pre-processing your data with StandardScaler or MinMaxScaler.\n",
      "  warnings.warn(\n",
      "/Library/Frameworks/Python.framework/Versions/3.9/lib/python3.9/site-packages/sklearn/svm/_base.py:297: ConvergenceWarning: Solver terminated early (max_iter=1000).  Consider pre-processing your data with StandardScaler or MinMaxScaler.\n",
      "  warnings.warn(\n"
     ]
    },
    {
     "name": "stdout",
     "output_type": "stream",
     "text": [
      "[CV 3/5] END C=0.1, coef0=10, degree=5, gamma=scale, kernel=poly, max_iter=500;, score=0.393 total time=   0.0s\n",
      "[CV 4/5] END C=0.1, coef0=10, degree=5, gamma=scale, kernel=poly, max_iter=500;, score=0.416 total time=   0.0s\n",
      "[CV 5/5] END C=0.1, coef0=10, degree=5, gamma=scale, kernel=poly, max_iter=500;, score=0.356 total time=   0.0s\n",
      "[CV 1/5] END C=0.1, coef0=10, degree=5, gamma=scale, kernel=poly, max_iter=1000;, score=0.522 total time=   0.0s\n",
      "[CV 2/5] END C=0.1, coef0=10, degree=5, gamma=scale, kernel=poly, max_iter=1000;, score=0.494 total time=   0.0s\n",
      "[CV 3/5] END C=0.1, coef0=10, degree=5, gamma=scale, kernel=poly, max_iter=1000;, score=0.624 total time=   0.0s\n"
     ]
    },
    {
     "name": "stderr",
     "output_type": "stream",
     "text": [
      "/Library/Frameworks/Python.framework/Versions/3.9/lib/python3.9/site-packages/sklearn/svm/_base.py:297: ConvergenceWarning: Solver terminated early (max_iter=1000).  Consider pre-processing your data with StandardScaler or MinMaxScaler.\n",
      "  warnings.warn(\n",
      "/Library/Frameworks/Python.framework/Versions/3.9/lib/python3.9/site-packages/sklearn/svm/_base.py:297: ConvergenceWarning: Solver terminated early (max_iter=1000).  Consider pre-processing your data with StandardScaler or MinMaxScaler.\n",
      "  warnings.warn(\n",
      "/Library/Frameworks/Python.framework/Versions/3.9/lib/python3.9/site-packages/sklearn/svm/_base.py:297: ConvergenceWarning: Solver terminated early (max_iter=1000).  Consider pre-processing your data with StandardScaler or MinMaxScaler.\n",
      "  warnings.warn(\n",
      "/Library/Frameworks/Python.framework/Versions/3.9/lib/python3.9/site-packages/sklearn/svm/_base.py:297: ConvergenceWarning: Solver terminated early (max_iter=1000).  Consider pre-processing your data with StandardScaler or MinMaxScaler.\n",
      "  warnings.warn(\n"
     ]
    },
    {
     "name": "stdout",
     "output_type": "stream",
     "text": [
      "[CV 4/5] END C=0.1, coef0=10, degree=5, gamma=scale, kernel=poly, max_iter=1000;, score=0.478 total time=   0.0s\n",
      "[CV 5/5] END C=0.1, coef0=10, degree=5, gamma=scale, kernel=poly, max_iter=1000;, score=0.418 total time=   0.0s\n"
     ]
    },
    {
     "name": "stderr",
     "output_type": "stream",
     "text": [
      "/Library/Frameworks/Python.framework/Versions/3.9/lib/python3.9/site-packages/sklearn/svm/_base.py:297: ConvergenceWarning: Solver terminated early (max_iter=10000).  Consider pre-processing your data with StandardScaler or MinMaxScaler.\n",
      "  warnings.warn(\n",
      "/Library/Frameworks/Python.framework/Versions/3.9/lib/python3.9/site-packages/sklearn/svm/_base.py:297: ConvergenceWarning: Solver terminated early (max_iter=10000).  Consider pre-processing your data with StandardScaler or MinMaxScaler.\n",
      "  warnings.warn(\n"
     ]
    },
    {
     "name": "stdout",
     "output_type": "stream",
     "text": [
      "[CV 1/5] END C=0.1, coef0=10, degree=5, gamma=scale, kernel=poly, max_iter=10000;, score=0.798 total time=   0.2s\n",
      "[CV 2/5] END C=0.1, coef0=10, degree=5, gamma=scale, kernel=poly, max_iter=10000;, score=0.820 total time=   0.2s\n"
     ]
    },
    {
     "name": "stderr",
     "output_type": "stream",
     "text": [
      "/Library/Frameworks/Python.framework/Versions/3.9/lib/python3.9/site-packages/sklearn/svm/_base.py:297: ConvergenceWarning: Solver terminated early (max_iter=10000).  Consider pre-processing your data with StandardScaler or MinMaxScaler.\n",
      "  warnings.warn(\n",
      "/Library/Frameworks/Python.framework/Versions/3.9/lib/python3.9/site-packages/sklearn/svm/_base.py:297: ConvergenceWarning: Solver terminated early (max_iter=10000).  Consider pre-processing your data with StandardScaler or MinMaxScaler.\n",
      "  warnings.warn(\n"
     ]
    },
    {
     "name": "stdout",
     "output_type": "stream",
     "text": [
      "[CV 3/5] END C=0.1, coef0=10, degree=5, gamma=scale, kernel=poly, max_iter=10000;, score=0.820 total time=   0.2s\n",
      "[CV 4/5] END C=0.1, coef0=10, degree=5, gamma=scale, kernel=poly, max_iter=10000;, score=0.798 total time=   0.2s\n"
     ]
    },
    {
     "name": "stderr",
     "output_type": "stream",
     "text": [
      "/Library/Frameworks/Python.framework/Versions/3.9/lib/python3.9/site-packages/sklearn/svm/_base.py:297: ConvergenceWarning: Solver terminated early (max_iter=10000).  Consider pre-processing your data with StandardScaler or MinMaxScaler.\n",
      "  warnings.warn(\n"
     ]
    },
    {
     "name": "stdout",
     "output_type": "stream",
     "text": [
      "[CV 5/5] END C=0.1, coef0=10, degree=5, gamma=scale, kernel=poly, max_iter=10000;, score=0.763 total time=   0.2s\n"
     ]
    },
    {
     "name": "stderr",
     "output_type": "stream",
     "text": [
      "/Library/Frameworks/Python.framework/Versions/3.9/lib/python3.9/site-packages/sklearn/svm/_base.py:297: ConvergenceWarning: Solver terminated early (max_iter=100000).  Consider pre-processing your data with StandardScaler or MinMaxScaler.\n",
      "  warnings.warn(\n"
     ]
    },
    {
     "name": "stdout",
     "output_type": "stream",
     "text": [
      "[CV 1/5] END C=0.1, coef0=10, degree=5, gamma=scale, kernel=poly, max_iter=100000;, score=0.787 total time=   0.8s\n"
     ]
    },
    {
     "name": "stderr",
     "output_type": "stream",
     "text": [
      "/Library/Frameworks/Python.framework/Versions/3.9/lib/python3.9/site-packages/sklearn/svm/_base.py:297: ConvergenceWarning: Solver terminated early (max_iter=100000).  Consider pre-processing your data with StandardScaler or MinMaxScaler.\n",
      "  warnings.warn(\n"
     ]
    },
    {
     "name": "stdout",
     "output_type": "stream",
     "text": [
      "[CV 2/5] END C=0.1, coef0=10, degree=5, gamma=scale, kernel=poly, max_iter=100000;, score=0.803 total time=   0.7s\n"
     ]
    },
    {
     "name": "stderr",
     "output_type": "stream",
     "text": [
      "/Library/Frameworks/Python.framework/Versions/3.9/lib/python3.9/site-packages/sklearn/svm/_base.py:297: ConvergenceWarning: Solver terminated early (max_iter=100000).  Consider pre-processing your data with StandardScaler or MinMaxScaler.\n",
      "  warnings.warn(\n"
     ]
    },
    {
     "name": "stdout",
     "output_type": "stream",
     "text": [
      "[CV 3/5] END C=0.1, coef0=10, degree=5, gamma=scale, kernel=poly, max_iter=100000;, score=0.831 total time=   0.8s\n"
     ]
    },
    {
     "name": "stderr",
     "output_type": "stream",
     "text": [
      "/Library/Frameworks/Python.framework/Versions/3.9/lib/python3.9/site-packages/sklearn/svm/_base.py:297: ConvergenceWarning: Solver terminated early (max_iter=100000).  Consider pre-processing your data with StandardScaler or MinMaxScaler.\n",
      "  warnings.warn(\n"
     ]
    },
    {
     "name": "stdout",
     "output_type": "stream",
     "text": [
      "[CV 4/5] END C=0.1, coef0=10, degree=5, gamma=scale, kernel=poly, max_iter=100000;, score=0.770 total time=   0.8s\n"
     ]
    },
    {
     "name": "stderr",
     "output_type": "stream",
     "text": [
      "/Library/Frameworks/Python.framework/Versions/3.9/lib/python3.9/site-packages/sklearn/svm/_base.py:297: ConvergenceWarning: Solver terminated early (max_iter=100000).  Consider pre-processing your data with StandardScaler or MinMaxScaler.\n",
      "  warnings.warn(\n",
      "/Library/Frameworks/Python.framework/Versions/3.9/lib/python3.9/site-packages/sklearn/svm/_base.py:297: ConvergenceWarning: Solver terminated early (max_iter=500).  Consider pre-processing your data with StandardScaler or MinMaxScaler.\n",
      "  warnings.warn(\n",
      "/Library/Frameworks/Python.framework/Versions/3.9/lib/python3.9/site-packages/sklearn/svm/_base.py:297: ConvergenceWarning: Solver terminated early (max_iter=500).  Consider pre-processing your data with StandardScaler or MinMaxScaler.\n",
      "  warnings.warn(\n",
      "/Library/Frameworks/Python.framework/Versions/3.9/lib/python3.9/site-packages/sklearn/svm/_base.py:297: ConvergenceWarning: Solver terminated early (max_iter=500).  Consider pre-processing your data with StandardScaler or MinMaxScaler.\n",
      "  warnings.warn(\n",
      "/Library/Frameworks/Python.framework/Versions/3.9/lib/python3.9/site-packages/sklearn/svm/_base.py:297: ConvergenceWarning: Solver terminated early (max_iter=500).  Consider pre-processing your data with StandardScaler or MinMaxScaler.\n",
      "  warnings.warn(\n",
      "/Library/Frameworks/Python.framework/Versions/3.9/lib/python3.9/site-packages/sklearn/svm/_base.py:297: ConvergenceWarning: Solver terminated early (max_iter=500).  Consider pre-processing your data with StandardScaler or MinMaxScaler.\n",
      "  warnings.warn(\n",
      "/Library/Frameworks/Python.framework/Versions/3.9/lib/python3.9/site-packages/sklearn/svm/_base.py:297: ConvergenceWarning: Solver terminated early (max_iter=1000).  Consider pre-processing your data with StandardScaler or MinMaxScaler.\n",
      "  warnings.warn(\n"
     ]
    },
    {
     "name": "stdout",
     "output_type": "stream",
     "text": [
      "[CV 5/5] END C=0.1, coef0=10, degree=5, gamma=scale, kernel=poly, max_iter=100000;, score=0.825 total time=   0.8s\n",
      "[CV 1/5] END C=10, coef0=0.1, degree=2, gamma=scale, kernel=linear, max_iter=500;, score=0.680 total time=   0.0s\n",
      "[CV 2/5] END C=10, coef0=0.1, degree=2, gamma=scale, kernel=linear, max_iter=500;, score=0.511 total time=   0.0s\n",
      "[CV 3/5] END C=10, coef0=0.1, degree=2, gamma=scale, kernel=linear, max_iter=500;, score=0.376 total time=   0.0s\n",
      "[CV 4/5] END C=10, coef0=0.1, degree=2, gamma=scale, kernel=linear, max_iter=500;, score=0.281 total time=   0.0s\n",
      "[CV 5/5] END C=10, coef0=0.1, degree=2, gamma=scale, kernel=linear, max_iter=500;, score=0.407 total time=   0.0s\n",
      "[CV 1/5] END C=10, coef0=0.1, degree=2, gamma=scale, kernel=linear, max_iter=1000;, score=0.775 total time=   0.0s\n"
     ]
    },
    {
     "name": "stderr",
     "output_type": "stream",
     "text": [
      "/Library/Frameworks/Python.framework/Versions/3.9/lib/python3.9/site-packages/sklearn/svm/_base.py:297: ConvergenceWarning: Solver terminated early (max_iter=1000).  Consider pre-processing your data with StandardScaler or MinMaxScaler.\n",
      "  warnings.warn(\n",
      "/Library/Frameworks/Python.framework/Versions/3.9/lib/python3.9/site-packages/sklearn/svm/_base.py:297: ConvergenceWarning: Solver terminated early (max_iter=1000).  Consider pre-processing your data with StandardScaler or MinMaxScaler.\n",
      "  warnings.warn(\n",
      "/Library/Frameworks/Python.framework/Versions/3.9/lib/python3.9/site-packages/sklearn/svm/_base.py:297: ConvergenceWarning: Solver terminated early (max_iter=1000).  Consider pre-processing your data with StandardScaler or MinMaxScaler.\n",
      "  warnings.warn(\n",
      "/Library/Frameworks/Python.framework/Versions/3.9/lib/python3.9/site-packages/sklearn/svm/_base.py:297: ConvergenceWarning: Solver terminated early (max_iter=1000).  Consider pre-processing your data with StandardScaler or MinMaxScaler.\n",
      "  warnings.warn(\n"
     ]
    },
    {
     "name": "stdout",
     "output_type": "stream",
     "text": [
      "[CV 2/5] END C=10, coef0=0.1, degree=2, gamma=scale, kernel=linear, max_iter=1000;, score=0.803 total time=   0.0s\n",
      "[CV 3/5] END C=10, coef0=0.1, degree=2, gamma=scale, kernel=linear, max_iter=1000;, score=0.775 total time=   0.1s\n",
      "[CV 4/5] END C=10, coef0=0.1, degree=2, gamma=scale, kernel=linear, max_iter=1000;, score=0.787 total time=   0.0s\n",
      "[CV 5/5] END C=10, coef0=0.1, degree=2, gamma=scale, kernel=linear, max_iter=1000;, score=0.797 total time=   0.0s\n"
     ]
    },
    {
     "name": "stderr",
     "output_type": "stream",
     "text": [
      "/Library/Frameworks/Python.framework/Versions/3.9/lib/python3.9/site-packages/sklearn/svm/_base.py:297: ConvergenceWarning: Solver terminated early (max_iter=10000).  Consider pre-processing your data with StandardScaler or MinMaxScaler.\n",
      "  warnings.warn(\n",
      "/Library/Frameworks/Python.framework/Versions/3.9/lib/python3.9/site-packages/sklearn/svm/_base.py:297: ConvergenceWarning: Solver terminated early (max_iter=10000).  Consider pre-processing your data with StandardScaler or MinMaxScaler.\n",
      "  warnings.warn(\n",
      "/Library/Frameworks/Python.framework/Versions/3.9/lib/python3.9/site-packages/sklearn/svm/_base.py:297: ConvergenceWarning: Solver terminated early (max_iter=10000).  Consider pre-processing your data with StandardScaler or MinMaxScaler.\n",
      "  warnings.warn(\n"
     ]
    },
    {
     "name": "stdout",
     "output_type": "stream",
     "text": [
      "[CV 1/5] END C=10, coef0=0.1, degree=2, gamma=scale, kernel=linear, max_iter=10000;, score=0.820 total time=   0.1s\n",
      "[CV 2/5] END C=10, coef0=0.1, degree=2, gamma=scale, kernel=linear, max_iter=10000;, score=0.815 total time=   0.1s\n",
      "[CV 3/5] END C=10, coef0=0.1, degree=2, gamma=scale, kernel=linear, max_iter=10000;, score=0.798 total time=   0.1s\n"
     ]
    },
    {
     "name": "stderr",
     "output_type": "stream",
     "text": [
      "/Library/Frameworks/Python.framework/Versions/3.9/lib/python3.9/site-packages/sklearn/svm/_base.py:297: ConvergenceWarning: Solver terminated early (max_iter=10000).  Consider pre-processing your data with StandardScaler or MinMaxScaler.\n",
      "  warnings.warn(\n",
      "/Library/Frameworks/Python.framework/Versions/3.9/lib/python3.9/site-packages/sklearn/svm/_base.py:297: ConvergenceWarning: Solver terminated early (max_iter=10000).  Consider pre-processing your data with StandardScaler or MinMaxScaler.\n",
      "  warnings.warn(\n"
     ]
    },
    {
     "name": "stdout",
     "output_type": "stream",
     "text": [
      "[CV 4/5] END C=10, coef0=0.1, degree=2, gamma=scale, kernel=linear, max_iter=10000;, score=0.770 total time=   0.1s\n",
      "[CV 5/5] END C=10, coef0=0.1, degree=2, gamma=scale, kernel=linear, max_iter=10000;, score=0.797 total time=   0.1s\n",
      "[CV 1/5] END C=10, coef0=0.1, degree=2, gamma=scale, kernel=linear, max_iter=100000;, score=0.815 total time=   0.1s\n",
      "[CV 2/5] END C=10, coef0=0.1, degree=2, gamma=scale, kernel=linear, max_iter=100000;, score=0.815 total time=   0.1s\n"
     ]
    },
    {
     "name": "stderr",
     "output_type": "stream",
     "text": [
      "/Library/Frameworks/Python.framework/Versions/3.9/lib/python3.9/site-packages/sklearn/svm/_base.py:297: ConvergenceWarning: Solver terminated early (max_iter=100000).  Consider pre-processing your data with StandardScaler or MinMaxScaler.\n",
      "  warnings.warn(\n"
     ]
    },
    {
     "name": "stdout",
     "output_type": "stream",
     "text": [
      "[CV 3/5] END C=10, coef0=0.1, degree=2, gamma=scale, kernel=linear, max_iter=100000;, score=0.798 total time=   0.1s\n",
      "[CV 4/5] END C=10, coef0=0.1, degree=2, gamma=scale, kernel=linear, max_iter=100000;, score=0.770 total time=   0.2s\n"
     ]
    },
    {
     "name": "stderr",
     "output_type": "stream",
     "text": [
      "/Library/Frameworks/Python.framework/Versions/3.9/lib/python3.9/site-packages/sklearn/svm/_base.py:297: ConvergenceWarning: Solver terminated early (max_iter=100000).  Consider pre-processing your data with StandardScaler or MinMaxScaler.\n",
      "  warnings.warn(\n",
      "/Library/Frameworks/Python.framework/Versions/3.9/lib/python3.9/site-packages/sklearn/svm/_base.py:297: ConvergenceWarning: Solver terminated early (max_iter=100000).  Consider pre-processing your data with StandardScaler or MinMaxScaler.\n",
      "  warnings.warn(\n",
      "/Library/Frameworks/Python.framework/Versions/3.9/lib/python3.9/site-packages/sklearn/svm/_base.py:297: ConvergenceWarning: Solver terminated early (max_iter=500).  Consider pre-processing your data with StandardScaler or MinMaxScaler.\n",
      "  warnings.warn(\n",
      "/Library/Frameworks/Python.framework/Versions/3.9/lib/python3.9/site-packages/sklearn/svm/_base.py:297: ConvergenceWarning: Solver terminated early (max_iter=500).  Consider pre-processing your data with StandardScaler or MinMaxScaler.\n",
      "  warnings.warn(\n",
      "/Library/Frameworks/Python.framework/Versions/3.9/lib/python3.9/site-packages/sklearn/svm/_base.py:297: ConvergenceWarning: Solver terminated early (max_iter=500).  Consider pre-processing your data with StandardScaler or MinMaxScaler.\n",
      "  warnings.warn(\n",
      "/Library/Frameworks/Python.framework/Versions/3.9/lib/python3.9/site-packages/sklearn/svm/_base.py:297: ConvergenceWarning: Solver terminated early (max_iter=500).  Consider pre-processing your data with StandardScaler or MinMaxScaler.\n",
      "  warnings.warn(\n"
     ]
    },
    {
     "name": "stdout",
     "output_type": "stream",
     "text": [
      "[CV 5/5] END C=10, coef0=0.1, degree=2, gamma=scale, kernel=linear, max_iter=100000;, score=0.802 total time=   0.2s\n",
      "[CV 1/5] END C=10, coef0=0.1, degree=2, gamma=scale, kernel=rbf, max_iter=500;, score=0.837 total time=   0.1s\n",
      "[CV 2/5] END C=10, coef0=0.1, degree=2, gamma=scale, kernel=rbf, max_iter=500;, score=0.820 total time=   0.0s\n",
      "[CV 3/5] END C=10, coef0=0.1, degree=2, gamma=scale, kernel=rbf, max_iter=500;, score=0.820 total time=   0.0s\n",
      "[CV 4/5] END C=10, coef0=0.1, degree=2, gamma=scale, kernel=rbf, max_iter=500;, score=0.781 total time=   0.0s\n"
     ]
    },
    {
     "name": "stderr",
     "output_type": "stream",
     "text": [
      "/Library/Frameworks/Python.framework/Versions/3.9/lib/python3.9/site-packages/sklearn/svm/_base.py:297: ConvergenceWarning: Solver terminated early (max_iter=500).  Consider pre-processing your data with StandardScaler or MinMaxScaler.\n",
      "  warnings.warn(\n",
      "/Library/Frameworks/Python.framework/Versions/3.9/lib/python3.9/site-packages/sklearn/svm/_base.py:297: ConvergenceWarning: Solver terminated early (max_iter=1000).  Consider pre-processing your data with StandardScaler or MinMaxScaler.\n",
      "  warnings.warn(\n",
      "/Library/Frameworks/Python.framework/Versions/3.9/lib/python3.9/site-packages/sklearn/svm/_base.py:297: ConvergenceWarning: Solver terminated early (max_iter=1000).  Consider pre-processing your data with StandardScaler or MinMaxScaler.\n",
      "  warnings.warn(\n",
      "/Library/Frameworks/Python.framework/Versions/3.9/lib/python3.9/site-packages/sklearn/svm/_base.py:297: ConvergenceWarning: Solver terminated early (max_iter=1000).  Consider pre-processing your data with StandardScaler or MinMaxScaler.\n",
      "  warnings.warn(\n"
     ]
    },
    {
     "name": "stdout",
     "output_type": "stream",
     "text": [
      "[CV 5/5] END C=10, coef0=0.1, degree=2, gamma=scale, kernel=rbf, max_iter=500;, score=0.853 total time=   0.1s\n",
      "[CV 1/5] END C=10, coef0=0.1, degree=2, gamma=scale, kernel=rbf, max_iter=1000;, score=0.837 total time=   0.1s\n",
      "[CV 2/5] END C=10, coef0=0.1, degree=2, gamma=scale, kernel=rbf, max_iter=1000;, score=0.820 total time=   0.1s\n",
      "[CV 3/5] END C=10, coef0=0.1, degree=2, gamma=scale, kernel=rbf, max_iter=1000;, score=0.820 total time=   0.1s\n"
     ]
    },
    {
     "name": "stderr",
     "output_type": "stream",
     "text": [
      "/Library/Frameworks/Python.framework/Versions/3.9/lib/python3.9/site-packages/sklearn/svm/_base.py:297: ConvergenceWarning: Solver terminated early (max_iter=1000).  Consider pre-processing your data with StandardScaler or MinMaxScaler.\n",
      "  warnings.warn(\n",
      "/Library/Frameworks/Python.framework/Versions/3.9/lib/python3.9/site-packages/sklearn/svm/_base.py:297: ConvergenceWarning: Solver terminated early (max_iter=1000).  Consider pre-processing your data with StandardScaler or MinMaxScaler.\n",
      "  warnings.warn(\n"
     ]
    },
    {
     "name": "stdout",
     "output_type": "stream",
     "text": [
      "[CV 4/5] END C=10, coef0=0.1, degree=2, gamma=scale, kernel=rbf, max_iter=1000;, score=0.781 total time=   0.1s\n",
      "[CV 5/5] END C=10, coef0=0.1, degree=2, gamma=scale, kernel=rbf, max_iter=1000;, score=0.853 total time=   0.1s\n",
      "[CV 1/5] END C=10, coef0=0.1, degree=2, gamma=scale, kernel=rbf, max_iter=10000;, score=0.837 total time=   0.1s\n",
      "[CV 2/5] END C=10, coef0=0.1, degree=2, gamma=scale, kernel=rbf, max_iter=10000;, score=0.820 total time=   0.1s\n",
      "[CV 3/5] END C=10, coef0=0.1, degree=2, gamma=scale, kernel=rbf, max_iter=10000;, score=0.820 total time=   0.1s\n",
      "[CV 4/5] END C=10, coef0=0.1, degree=2, gamma=scale, kernel=rbf, max_iter=10000;, score=0.781 total time=   0.1s\n",
      "[CV 5/5] END C=10, coef0=0.1, degree=2, gamma=scale, kernel=rbf, max_iter=10000;, score=0.853 total time=   0.1s\n",
      "[CV 1/5] END C=10, coef0=0.1, degree=2, gamma=scale, kernel=rbf, max_iter=100000;, score=0.837 total time=   0.1s\n",
      "[CV 2/5] END C=10, coef0=0.1, degree=2, gamma=scale, kernel=rbf, max_iter=100000;, score=0.820 total time=   0.1s\n",
      "[CV 3/5] END C=10, coef0=0.1, degree=2, gamma=scale, kernel=rbf, max_iter=100000;, score=0.820 total time=   0.1s\n",
      "[CV 4/5] END C=10, coef0=0.1, degree=2, gamma=scale, kernel=rbf, max_iter=100000;, score=0.781 total time=   0.1s\n",
      "[CV 5/5] END C=10, coef0=0.1, degree=2, gamma=scale, kernel=rbf, max_iter=100000;, score=0.853 total time=   0.1s\n"
     ]
    },
    {
     "name": "stderr",
     "output_type": "stream",
     "text": [
      "/Library/Frameworks/Python.framework/Versions/3.9/lib/python3.9/site-packages/sklearn/svm/_base.py:297: ConvergenceWarning: Solver terminated early (max_iter=500).  Consider pre-processing your data with StandardScaler or MinMaxScaler.\n",
      "  warnings.warn(\n",
      "/Library/Frameworks/Python.framework/Versions/3.9/lib/python3.9/site-packages/sklearn/svm/_base.py:297: ConvergenceWarning: Solver terminated early (max_iter=500).  Consider pre-processing your data with StandardScaler or MinMaxScaler.\n",
      "  warnings.warn(\n",
      "/Library/Frameworks/Python.framework/Versions/3.9/lib/python3.9/site-packages/sklearn/svm/_base.py:297: ConvergenceWarning: Solver terminated early (max_iter=500).  Consider pre-processing your data with StandardScaler or MinMaxScaler.\n",
      "  warnings.warn(\n",
      "/Library/Frameworks/Python.framework/Versions/3.9/lib/python3.9/site-packages/sklearn/svm/_base.py:297: ConvergenceWarning: Solver terminated early (max_iter=500).  Consider pre-processing your data with StandardScaler or MinMaxScaler.\n",
      "  warnings.warn(\n",
      "/Library/Frameworks/Python.framework/Versions/3.9/lib/python3.9/site-packages/sklearn/svm/_base.py:297: ConvergenceWarning: Solver terminated early (max_iter=500).  Consider pre-processing your data with StandardScaler or MinMaxScaler.\n",
      "  warnings.warn(\n",
      "/Library/Frameworks/Python.framework/Versions/3.9/lib/python3.9/site-packages/sklearn/svm/_base.py:297: ConvergenceWarning: Solver terminated early (max_iter=1000).  Consider pre-processing your data with StandardScaler or MinMaxScaler.\n",
      "  warnings.warn(\n"
     ]
    },
    {
     "name": "stdout",
     "output_type": "stream",
     "text": [
      "[CV 1/5] END C=10, coef0=0.1, degree=2, gamma=scale, kernel=poly, max_iter=500;, score=0.837 total time=   0.0s\n",
      "[CV 2/5] END C=10, coef0=0.1, degree=2, gamma=scale, kernel=poly, max_iter=500;, score=0.820 total time=   0.0s\n",
      "[CV 3/5] END C=10, coef0=0.1, degree=2, gamma=scale, kernel=poly, max_iter=500;, score=0.820 total time=   0.0s\n",
      "[CV 4/5] END C=10, coef0=0.1, degree=2, gamma=scale, kernel=poly, max_iter=500;, score=0.781 total time=   0.0s\n",
      "[CV 5/5] END C=10, coef0=0.1, degree=2, gamma=scale, kernel=poly, max_iter=500;, score=0.847 total time=   0.0s\n",
      "[CV 1/5] END C=10, coef0=0.1, degree=2, gamma=scale, kernel=poly, max_iter=1000;, score=0.831 total time=   0.0s\n"
     ]
    },
    {
     "name": "stderr",
     "output_type": "stream",
     "text": [
      "/Library/Frameworks/Python.framework/Versions/3.9/lib/python3.9/site-packages/sklearn/svm/_base.py:297: ConvergenceWarning: Solver terminated early (max_iter=1000).  Consider pre-processing your data with StandardScaler or MinMaxScaler.\n",
      "  warnings.warn(\n",
      "/Library/Frameworks/Python.framework/Versions/3.9/lib/python3.9/site-packages/sklearn/svm/_base.py:297: ConvergenceWarning: Solver terminated early (max_iter=1000).  Consider pre-processing your data with StandardScaler or MinMaxScaler.\n",
      "  warnings.warn(\n",
      "/Library/Frameworks/Python.framework/Versions/3.9/lib/python3.9/site-packages/sklearn/svm/_base.py:297: ConvergenceWarning: Solver terminated early (max_iter=1000).  Consider pre-processing your data with StandardScaler or MinMaxScaler.\n",
      "  warnings.warn(\n",
      "/Library/Frameworks/Python.framework/Versions/3.9/lib/python3.9/site-packages/sklearn/svm/_base.py:297: ConvergenceWarning: Solver terminated early (max_iter=1000).  Consider pre-processing your data with StandardScaler or MinMaxScaler.\n",
      "  warnings.warn(\n"
     ]
    },
    {
     "name": "stdout",
     "output_type": "stream",
     "text": [
      "[CV 2/5] END C=10, coef0=0.1, degree=2, gamma=scale, kernel=poly, max_iter=1000;, score=0.820 total time=   0.1s\n",
      "[CV 3/5] END C=10, coef0=0.1, degree=2, gamma=scale, kernel=poly, max_iter=1000;, score=0.820 total time=   0.0s\n",
      "[CV 4/5] END C=10, coef0=0.1, degree=2, gamma=scale, kernel=poly, max_iter=1000;, score=0.781 total time=   0.0s\n",
      "[CV 5/5] END C=10, coef0=0.1, degree=2, gamma=scale, kernel=poly, max_iter=1000;, score=0.847 total time=   0.0s\n",
      "[CV 1/5] END C=10, coef0=0.1, degree=2, gamma=scale, kernel=poly, max_iter=10000;, score=0.831 total time=   0.0s\n",
      "[CV 2/5] END C=10, coef0=0.1, degree=2, gamma=scale, kernel=poly, max_iter=10000;, score=0.820 total time=   0.1s\n",
      "[CV 3/5] END C=10, coef0=0.1, degree=2, gamma=scale, kernel=poly, max_iter=10000;, score=0.820 total time=   0.1s\n",
      "[CV 4/5] END C=10, coef0=0.1, degree=2, gamma=scale, kernel=poly, max_iter=10000;, score=0.781 total time=   0.1s\n",
      "[CV 5/5] END C=10, coef0=0.1, degree=2, gamma=scale, kernel=poly, max_iter=10000;, score=0.847 total time=   0.1s\n",
      "[CV 1/5] END C=10, coef0=0.1, degree=2, gamma=scale, kernel=poly, max_iter=100000;, score=0.831 total time=   0.0s\n",
      "[CV 2/5] END C=10, coef0=0.1, degree=2, gamma=scale, kernel=poly, max_iter=100000;, score=0.820 total time=   0.1s\n",
      "[CV 3/5] END C=10, coef0=0.1, degree=2, gamma=scale, kernel=poly, max_iter=100000;, score=0.820 total time=   0.1s\n",
      "[CV 4/5] END C=10, coef0=0.1, degree=2, gamma=scale, kernel=poly, max_iter=100000;, score=0.781 total time=   0.1s\n",
      "[CV 5/5] END C=10, coef0=0.1, degree=2, gamma=scale, kernel=poly, max_iter=100000;, score=0.847 total time=   0.1s\n",
      "[CV 1/5] END C=10, coef0=0.1, degree=3, gamma=scale, kernel=linear, max_iter=500;, score=0.680 total time=   0.0s\n",
      "[CV 2/5] END C=10, coef0=0.1, degree=3, gamma=scale, kernel=linear, max_iter=500;, score=0.511 total time=   0.0s\n",
      "[CV 3/5] END C=10, coef0=0.1, degree=3, gamma=scale, kernel=linear, max_iter=500;, score=0.376 total time=   0.0s\n",
      "[CV 4/5] END C=10, coef0=0.1, degree=3, gamma=scale, kernel=linear, max_iter=500;, score=0.281 total time=   0.0s\n",
      "[CV 5/5] END C=10, coef0=0.1, degree=3, gamma=scale, kernel=linear, max_iter=500;, score=0.407 total time=   0.0s\n"
     ]
    },
    {
     "name": "stderr",
     "output_type": "stream",
     "text": [
      "/Library/Frameworks/Python.framework/Versions/3.9/lib/python3.9/site-packages/sklearn/svm/_base.py:297: ConvergenceWarning: Solver terminated early (max_iter=500).  Consider pre-processing your data with StandardScaler or MinMaxScaler.\n",
      "  warnings.warn(\n",
      "/Library/Frameworks/Python.framework/Versions/3.9/lib/python3.9/site-packages/sklearn/svm/_base.py:297: ConvergenceWarning: Solver terminated early (max_iter=500).  Consider pre-processing your data with StandardScaler or MinMaxScaler.\n",
      "  warnings.warn(\n",
      "/Library/Frameworks/Python.framework/Versions/3.9/lib/python3.9/site-packages/sklearn/svm/_base.py:297: ConvergenceWarning: Solver terminated early (max_iter=500).  Consider pre-processing your data with StandardScaler or MinMaxScaler.\n",
      "  warnings.warn(\n",
      "/Library/Frameworks/Python.framework/Versions/3.9/lib/python3.9/site-packages/sklearn/svm/_base.py:297: ConvergenceWarning: Solver terminated early (max_iter=500).  Consider pre-processing your data with StandardScaler or MinMaxScaler.\n",
      "  warnings.warn(\n",
      "/Library/Frameworks/Python.framework/Versions/3.9/lib/python3.9/site-packages/sklearn/svm/_base.py:297: ConvergenceWarning: Solver terminated early (max_iter=500).  Consider pre-processing your data with StandardScaler or MinMaxScaler.\n",
      "  warnings.warn(\n",
      "/Library/Frameworks/Python.framework/Versions/3.9/lib/python3.9/site-packages/sklearn/svm/_base.py:297: ConvergenceWarning: Solver terminated early (max_iter=1000).  Consider pre-processing your data with StandardScaler or MinMaxScaler.\n",
      "  warnings.warn(\n"
     ]
    },
    {
     "name": "stdout",
     "output_type": "stream",
     "text": [
      "[CV 1/5] END C=10, coef0=0.1, degree=3, gamma=scale, kernel=linear, max_iter=1000;, score=0.775 total time=   0.0s\n",
      "[CV 2/5] END C=10, coef0=0.1, degree=3, gamma=scale, kernel=linear, max_iter=1000;, score=0.803 total time=   0.0s\n",
      "[CV 3/5] END C=10, coef0=0.1, degree=3, gamma=scale, kernel=linear, max_iter=1000;, score=0.775 total time=   0.0s\n",
      "[CV 4/5] END C=10, coef0=0.1, degree=3, gamma=scale, kernel=linear, max_iter=1000;, score=0.787 total time=   0.0s\n",
      "[CV 5/5] END C=10, coef0=0.1, degree=3, gamma=scale, kernel=linear, max_iter=1000;, score=0.797 total time=   0.0s\n"
     ]
    },
    {
     "name": "stderr",
     "output_type": "stream",
     "text": [
      "/Library/Frameworks/Python.framework/Versions/3.9/lib/python3.9/site-packages/sklearn/svm/_base.py:297: ConvergenceWarning: Solver terminated early (max_iter=1000).  Consider pre-processing your data with StandardScaler or MinMaxScaler.\n",
      "  warnings.warn(\n",
      "/Library/Frameworks/Python.framework/Versions/3.9/lib/python3.9/site-packages/sklearn/svm/_base.py:297: ConvergenceWarning: Solver terminated early (max_iter=1000).  Consider pre-processing your data with StandardScaler or MinMaxScaler.\n",
      "  warnings.warn(\n",
      "/Library/Frameworks/Python.framework/Versions/3.9/lib/python3.9/site-packages/sklearn/svm/_base.py:297: ConvergenceWarning: Solver terminated early (max_iter=1000).  Consider pre-processing your data with StandardScaler or MinMaxScaler.\n",
      "  warnings.warn(\n",
      "/Library/Frameworks/Python.framework/Versions/3.9/lib/python3.9/site-packages/sklearn/svm/_base.py:297: ConvergenceWarning: Solver terminated early (max_iter=1000).  Consider pre-processing your data with StandardScaler or MinMaxScaler.\n",
      "  warnings.warn(\n",
      "/Library/Frameworks/Python.framework/Versions/3.9/lib/python3.9/site-packages/sklearn/svm/_base.py:297: ConvergenceWarning: Solver terminated early (max_iter=10000).  Consider pre-processing your data with StandardScaler or MinMaxScaler.\n",
      "  warnings.warn(\n",
      "/Library/Frameworks/Python.framework/Versions/3.9/lib/python3.9/site-packages/sklearn/svm/_base.py:297: ConvergenceWarning: Solver terminated early (max_iter=10000).  Consider pre-processing your data with StandardScaler or MinMaxScaler.\n",
      "  warnings.warn(\n",
      "/Library/Frameworks/Python.framework/Versions/3.9/lib/python3.9/site-packages/sklearn/svm/_base.py:297: ConvergenceWarning: Solver terminated early (max_iter=10000).  Consider pre-processing your data with StandardScaler or MinMaxScaler.\n",
      "  warnings.warn(\n"
     ]
    },
    {
     "name": "stdout",
     "output_type": "stream",
     "text": [
      "[CV 1/5] END C=10, coef0=0.1, degree=3, gamma=scale, kernel=linear, max_iter=10000;, score=0.820 total time=   0.1s\n",
      "[CV 2/5] END C=10, coef0=0.1, degree=3, gamma=scale, kernel=linear, max_iter=10000;, score=0.815 total time=   0.1s\n",
      "[CV 3/5] END C=10, coef0=0.1, degree=3, gamma=scale, kernel=linear, max_iter=10000;, score=0.798 total time=   0.1s\n"
     ]
    },
    {
     "name": "stderr",
     "output_type": "stream",
     "text": [
      "/Library/Frameworks/Python.framework/Versions/3.9/lib/python3.9/site-packages/sklearn/svm/_base.py:297: ConvergenceWarning: Solver terminated early (max_iter=10000).  Consider pre-processing your data with StandardScaler or MinMaxScaler.\n",
      "  warnings.warn(\n",
      "/Library/Frameworks/Python.framework/Versions/3.9/lib/python3.9/site-packages/sklearn/svm/_base.py:297: ConvergenceWarning: Solver terminated early (max_iter=10000).  Consider pre-processing your data with StandardScaler or MinMaxScaler.\n",
      "  warnings.warn(\n"
     ]
    },
    {
     "name": "stdout",
     "output_type": "stream",
     "text": [
      "[CV 4/5] END C=10, coef0=0.1, degree=3, gamma=scale, kernel=linear, max_iter=10000;, score=0.770 total time=   0.1s\n",
      "[CV 5/5] END C=10, coef0=0.1, degree=3, gamma=scale, kernel=linear, max_iter=10000;, score=0.797 total time=   0.1s\n",
      "[CV 1/5] END C=10, coef0=0.1, degree=3, gamma=scale, kernel=linear, max_iter=100000;, score=0.815 total time=   0.1s\n",
      "[CV 2/5] END C=10, coef0=0.1, degree=3, gamma=scale, kernel=linear, max_iter=100000;, score=0.815 total time=   0.2s\n"
     ]
    },
    {
     "name": "stderr",
     "output_type": "stream",
     "text": [
      "/Library/Frameworks/Python.framework/Versions/3.9/lib/python3.9/site-packages/sklearn/svm/_base.py:297: ConvergenceWarning: Solver terminated early (max_iter=100000).  Consider pre-processing your data with StandardScaler or MinMaxScaler.\n",
      "  warnings.warn(\n"
     ]
    },
    {
     "name": "stdout",
     "output_type": "stream",
     "text": [
      "[CV 3/5] END C=10, coef0=0.1, degree=3, gamma=scale, kernel=linear, max_iter=100000;, score=0.798 total time=   0.1s\n",
      "[CV 4/5] END C=10, coef0=0.1, degree=3, gamma=scale, kernel=linear, max_iter=100000;, score=0.770 total time=   0.2s\n"
     ]
    },
    {
     "name": "stderr",
     "output_type": "stream",
     "text": [
      "/Library/Frameworks/Python.framework/Versions/3.9/lib/python3.9/site-packages/sklearn/svm/_base.py:297: ConvergenceWarning: Solver terminated early (max_iter=100000).  Consider pre-processing your data with StandardScaler or MinMaxScaler.\n",
      "  warnings.warn(\n",
      "/Library/Frameworks/Python.framework/Versions/3.9/lib/python3.9/site-packages/sklearn/svm/_base.py:297: ConvergenceWarning: Solver terminated early (max_iter=100000).  Consider pre-processing your data with StandardScaler or MinMaxScaler.\n",
      "  warnings.warn(\n",
      "/Library/Frameworks/Python.framework/Versions/3.9/lib/python3.9/site-packages/sklearn/svm/_base.py:297: ConvergenceWarning: Solver terminated early (max_iter=500).  Consider pre-processing your data with StandardScaler or MinMaxScaler.\n",
      "  warnings.warn(\n",
      "/Library/Frameworks/Python.framework/Versions/3.9/lib/python3.9/site-packages/sklearn/svm/_base.py:297: ConvergenceWarning: Solver terminated early (max_iter=500).  Consider pre-processing your data with StandardScaler or MinMaxScaler.\n",
      "  warnings.warn(\n",
      "/Library/Frameworks/Python.framework/Versions/3.9/lib/python3.9/site-packages/sklearn/svm/_base.py:297: ConvergenceWarning: Solver terminated early (max_iter=500).  Consider pre-processing your data with StandardScaler or MinMaxScaler.\n",
      "  warnings.warn(\n",
      "/Library/Frameworks/Python.framework/Versions/3.9/lib/python3.9/site-packages/sklearn/svm/_base.py:297: ConvergenceWarning: Solver terminated early (max_iter=500).  Consider pre-processing your data with StandardScaler or MinMaxScaler.\n",
      "  warnings.warn(\n"
     ]
    },
    {
     "name": "stdout",
     "output_type": "stream",
     "text": [
      "[CV 5/5] END C=10, coef0=0.1, degree=3, gamma=scale, kernel=linear, max_iter=100000;, score=0.802 total time=   0.2s\n",
      "[CV 1/5] END C=10, coef0=0.1, degree=3, gamma=scale, kernel=rbf, max_iter=500;, score=0.837 total time=   0.0s\n",
      "[CV 2/5] END C=10, coef0=0.1, degree=3, gamma=scale, kernel=rbf, max_iter=500;, score=0.820 total time=   0.0s\n",
      "[CV 3/5] END C=10, coef0=0.1, degree=3, gamma=scale, kernel=rbf, max_iter=500;, score=0.820 total time=   0.0s\n",
      "[CV 4/5] END C=10, coef0=0.1, degree=3, gamma=scale, kernel=rbf, max_iter=500;, score=0.781 total time=   0.0s\n"
     ]
    },
    {
     "name": "stderr",
     "output_type": "stream",
     "text": [
      "/Library/Frameworks/Python.framework/Versions/3.9/lib/python3.9/site-packages/sklearn/svm/_base.py:297: ConvergenceWarning: Solver terminated early (max_iter=500).  Consider pre-processing your data with StandardScaler or MinMaxScaler.\n",
      "  warnings.warn(\n",
      "/Library/Frameworks/Python.framework/Versions/3.9/lib/python3.9/site-packages/sklearn/svm/_base.py:297: ConvergenceWarning: Solver terminated early (max_iter=1000).  Consider pre-processing your data with StandardScaler or MinMaxScaler.\n",
      "  warnings.warn(\n",
      "/Library/Frameworks/Python.framework/Versions/3.9/lib/python3.9/site-packages/sklearn/svm/_base.py:297: ConvergenceWarning: Solver terminated early (max_iter=1000).  Consider pre-processing your data with StandardScaler or MinMaxScaler.\n",
      "  warnings.warn(\n",
      "/Library/Frameworks/Python.framework/Versions/3.9/lib/python3.9/site-packages/sklearn/svm/_base.py:297: ConvergenceWarning: Solver terminated early (max_iter=1000).  Consider pre-processing your data with StandardScaler or MinMaxScaler.\n",
      "  warnings.warn(\n"
     ]
    },
    {
     "name": "stdout",
     "output_type": "stream",
     "text": [
      "[CV 5/5] END C=10, coef0=0.1, degree=3, gamma=scale, kernel=rbf, max_iter=500;, score=0.853 total time=   0.1s\n",
      "[CV 1/5] END C=10, coef0=0.1, degree=3, gamma=scale, kernel=rbf, max_iter=1000;, score=0.837 total time=   0.1s\n",
      "[CV 2/5] END C=10, coef0=0.1, degree=3, gamma=scale, kernel=rbf, max_iter=1000;, score=0.820 total time=   0.1s\n",
      "[CV 3/5] END C=10, coef0=0.1, degree=3, gamma=scale, kernel=rbf, max_iter=1000;, score=0.820 total time=   0.1s\n"
     ]
    },
    {
     "name": "stderr",
     "output_type": "stream",
     "text": [
      "/Library/Frameworks/Python.framework/Versions/3.9/lib/python3.9/site-packages/sklearn/svm/_base.py:297: ConvergenceWarning: Solver terminated early (max_iter=1000).  Consider pre-processing your data with StandardScaler or MinMaxScaler.\n",
      "  warnings.warn(\n",
      "/Library/Frameworks/Python.framework/Versions/3.9/lib/python3.9/site-packages/sklearn/svm/_base.py:297: ConvergenceWarning: Solver terminated early (max_iter=1000).  Consider pre-processing your data with StandardScaler or MinMaxScaler.\n",
      "  warnings.warn(\n"
     ]
    },
    {
     "name": "stdout",
     "output_type": "stream",
     "text": [
      "[CV 4/5] END C=10, coef0=0.1, degree=3, gamma=scale, kernel=rbf, max_iter=1000;, score=0.781 total time=   0.1s\n",
      "[CV 5/5] END C=10, coef0=0.1, degree=3, gamma=scale, kernel=rbf, max_iter=1000;, score=0.853 total time=   0.1s\n",
      "[CV 1/5] END C=10, coef0=0.1, degree=3, gamma=scale, kernel=rbf, max_iter=10000;, score=0.837 total time=   0.1s\n",
      "[CV 2/5] END C=10, coef0=0.1, degree=3, gamma=scale, kernel=rbf, max_iter=10000;, score=0.820 total time=   0.1s\n",
      "[CV 3/5] END C=10, coef0=0.1, degree=3, gamma=scale, kernel=rbf, max_iter=10000;, score=0.820 total time=   0.1s\n",
      "[CV 4/5] END C=10, coef0=0.1, degree=3, gamma=scale, kernel=rbf, max_iter=10000;, score=0.781 total time=   0.1s\n",
      "[CV 5/5] END C=10, coef0=0.1, degree=3, gamma=scale, kernel=rbf, max_iter=10000;, score=0.853 total time=   0.1s\n",
      "[CV 1/5] END C=10, coef0=0.1, degree=3, gamma=scale, kernel=rbf, max_iter=100000;, score=0.837 total time=   0.1s\n",
      "[CV 2/5] END C=10, coef0=0.1, degree=3, gamma=scale, kernel=rbf, max_iter=100000;, score=0.820 total time=   0.1s\n",
      "[CV 3/5] END C=10, coef0=0.1, degree=3, gamma=scale, kernel=rbf, max_iter=100000;, score=0.820 total time=   0.1s\n",
      "[CV 4/5] END C=10, coef0=0.1, degree=3, gamma=scale, kernel=rbf, max_iter=100000;, score=0.781 total time=   0.1s\n",
      "[CV 5/5] END C=10, coef0=0.1, degree=3, gamma=scale, kernel=rbf, max_iter=100000;, score=0.853 total time=   0.1s\n"
     ]
    },
    {
     "name": "stderr",
     "output_type": "stream",
     "text": [
      "/Library/Frameworks/Python.framework/Versions/3.9/lib/python3.9/site-packages/sklearn/svm/_base.py:297: ConvergenceWarning: Solver terminated early (max_iter=500).  Consider pre-processing your data with StandardScaler or MinMaxScaler.\n",
      "  warnings.warn(\n",
      "/Library/Frameworks/Python.framework/Versions/3.9/lib/python3.9/site-packages/sklearn/svm/_base.py:297: ConvergenceWarning: Solver terminated early (max_iter=500).  Consider pre-processing your data with StandardScaler or MinMaxScaler.\n",
      "  warnings.warn(\n",
      "/Library/Frameworks/Python.framework/Versions/3.9/lib/python3.9/site-packages/sklearn/svm/_base.py:297: ConvergenceWarning: Solver terminated early (max_iter=500).  Consider pre-processing your data with StandardScaler or MinMaxScaler.\n",
      "  warnings.warn(\n",
      "/Library/Frameworks/Python.framework/Versions/3.9/lib/python3.9/site-packages/sklearn/svm/_base.py:297: ConvergenceWarning: Solver terminated early (max_iter=500).  Consider pre-processing your data with StandardScaler or MinMaxScaler.\n",
      "  warnings.warn(\n",
      "/Library/Frameworks/Python.framework/Versions/3.9/lib/python3.9/site-packages/sklearn/svm/_base.py:297: ConvergenceWarning: Solver terminated early (max_iter=500).  Consider pre-processing your data with StandardScaler or MinMaxScaler.\n",
      "  warnings.warn(\n",
      "/Library/Frameworks/Python.framework/Versions/3.9/lib/python3.9/site-packages/sklearn/svm/_base.py:297: ConvergenceWarning: Solver terminated early (max_iter=1000).  Consider pre-processing your data with StandardScaler or MinMaxScaler.\n",
      "  warnings.warn(\n"
     ]
    },
    {
     "name": "stdout",
     "output_type": "stream",
     "text": [
      "[CV 1/5] END C=10, coef0=0.1, degree=3, gamma=scale, kernel=poly, max_iter=500;, score=0.803 total time=   0.0s\n",
      "[CV 2/5] END C=10, coef0=0.1, degree=3, gamma=scale, kernel=poly, max_iter=500;, score=0.831 total time=   0.0s\n",
      "[CV 3/5] END C=10, coef0=0.1, degree=3, gamma=scale, kernel=poly, max_iter=500;, score=0.725 total time=   0.0s\n",
      "[CV 4/5] END C=10, coef0=0.1, degree=3, gamma=scale, kernel=poly, max_iter=500;, score=0.781 total time=   0.0s\n",
      "[CV 5/5] END C=10, coef0=0.1, degree=3, gamma=scale, kernel=poly, max_iter=500;, score=0.825 total time=   0.0s\n",
      "[CV 1/5] END C=10, coef0=0.1, degree=3, gamma=scale, kernel=poly, max_iter=1000;, score=0.803 total time=   0.0s\n"
     ]
    },
    {
     "name": "stderr",
     "output_type": "stream",
     "text": [
      "/Library/Frameworks/Python.framework/Versions/3.9/lib/python3.9/site-packages/sklearn/svm/_base.py:297: ConvergenceWarning: Solver terminated early (max_iter=1000).  Consider pre-processing your data with StandardScaler or MinMaxScaler.\n",
      "  warnings.warn(\n",
      "/Library/Frameworks/Python.framework/Versions/3.9/lib/python3.9/site-packages/sklearn/svm/_base.py:297: ConvergenceWarning: Solver terminated early (max_iter=1000).  Consider pre-processing your data with StandardScaler or MinMaxScaler.\n",
      "  warnings.warn(\n",
      "/Library/Frameworks/Python.framework/Versions/3.9/lib/python3.9/site-packages/sklearn/svm/_base.py:297: ConvergenceWarning: Solver terminated early (max_iter=1000).  Consider pre-processing your data with StandardScaler or MinMaxScaler.\n",
      "  warnings.warn(\n",
      "/Library/Frameworks/Python.framework/Versions/3.9/lib/python3.9/site-packages/sklearn/svm/_base.py:297: ConvergenceWarning: Solver terminated early (max_iter=1000).  Consider pre-processing your data with StandardScaler or MinMaxScaler.\n",
      "  warnings.warn(\n"
     ]
    },
    {
     "name": "stdout",
     "output_type": "stream",
     "text": [
      "[CV 2/5] END C=10, coef0=0.1, degree=3, gamma=scale, kernel=poly, max_iter=1000;, score=0.820 total time=   0.0s\n",
      "[CV 3/5] END C=10, coef0=0.1, degree=3, gamma=scale, kernel=poly, max_iter=1000;, score=0.815 total time=   0.0s\n",
      "[CV 4/5] END C=10, coef0=0.1, degree=3, gamma=scale, kernel=poly, max_iter=1000;, score=0.775 total time=   0.0s\n",
      "[CV 5/5] END C=10, coef0=0.1, degree=3, gamma=scale, kernel=poly, max_iter=1000;, score=0.847 total time=   0.0s\n"
     ]
    },
    {
     "name": "stderr",
     "output_type": "stream",
     "text": [
      "/Library/Frameworks/Python.framework/Versions/3.9/lib/python3.9/site-packages/sklearn/svm/_base.py:297: ConvergenceWarning: Solver terminated early (max_iter=10000).  Consider pre-processing your data with StandardScaler or MinMaxScaler.\n",
      "  warnings.warn(\n",
      "/Library/Frameworks/Python.framework/Versions/3.9/lib/python3.9/site-packages/sklearn/svm/_base.py:297: ConvergenceWarning: Solver terminated early (max_iter=10000).  Consider pre-processing your data with StandardScaler or MinMaxScaler.\n",
      "  warnings.warn(\n"
     ]
    },
    {
     "name": "stdout",
     "output_type": "stream",
     "text": [
      "[CV 1/5] END C=10, coef0=0.1, degree=3, gamma=scale, kernel=poly, max_iter=10000;, score=0.803 total time=   0.1s\n",
      "[CV 2/5] END C=10, coef0=0.1, degree=3, gamma=scale, kernel=poly, max_iter=10000;, score=0.820 total time=   0.1s\n",
      "[CV 3/5] END C=10, coef0=0.1, degree=3, gamma=scale, kernel=poly, max_iter=10000;, score=0.815 total time=   0.1s\n",
      "[CV 4/5] END C=10, coef0=0.1, degree=3, gamma=scale, kernel=poly, max_iter=10000;, score=0.764 total time=   0.1s\n",
      "[CV 5/5] END C=10, coef0=0.1, degree=3, gamma=scale, kernel=poly, max_iter=10000;, score=0.853 total time=   0.1s\n",
      "[CV 1/5] END C=10, coef0=0.1, degree=3, gamma=scale, kernel=poly, max_iter=100000;, score=0.803 total time=   0.1s\n"
     ]
    },
    {
     "name": "stderr",
     "output_type": "stream",
     "text": [
      "/Library/Frameworks/Python.framework/Versions/3.9/lib/python3.9/site-packages/sklearn/svm/_base.py:297: ConvergenceWarning: Solver terminated early (max_iter=10000).  Consider pre-processing your data with StandardScaler or MinMaxScaler.\n",
      "  warnings.warn(\n"
     ]
    },
    {
     "name": "stdout",
     "output_type": "stream",
     "text": [
      "[CV 2/5] END C=10, coef0=0.1, degree=3, gamma=scale, kernel=poly, max_iter=100000;, score=0.820 total time=   0.1s\n",
      "[CV 3/5] END C=10, coef0=0.1, degree=3, gamma=scale, kernel=poly, max_iter=100000;, score=0.815 total time=   0.1s\n",
      "[CV 4/5] END C=10, coef0=0.1, degree=3, gamma=scale, kernel=poly, max_iter=100000;, score=0.764 total time=   0.1s\n",
      "[CV 5/5] END C=10, coef0=0.1, degree=3, gamma=scale, kernel=poly, max_iter=100000;, score=0.853 total time=   0.1s\n",
      "[CV 1/5] END C=10, coef0=0.1, degree=4, gamma=scale, kernel=linear, max_iter=500;, score=0.680 total time=   0.0s\n",
      "[CV 2/5] END C=10, coef0=0.1, degree=4, gamma=scale, kernel=linear, max_iter=500;, score=0.511 total time=   0.0s\n",
      "[CV 3/5] END C=10, coef0=0.1, degree=4, gamma=scale, kernel=linear, max_iter=500;, score=0.376 total time=   0.0s\n",
      "[CV 4/5] END C=10, coef0=0.1, degree=4, gamma=scale, kernel=linear, max_iter=500;, score=0.281 total time=   0.0s\n",
      "[CV 5/5] END C=10, coef0=0.1, degree=4, gamma=scale, kernel=linear, max_iter=500;, score=0.407 total time=   0.0s\n",
      "[CV 1/5] END C=10, coef0=0.1, degree=4, gamma=scale, kernel=linear, max_iter=1000;, score=0.775 total time=   0.0s\n"
     ]
    },
    {
     "name": "stderr",
     "output_type": "stream",
     "text": [
      "/Library/Frameworks/Python.framework/Versions/3.9/lib/python3.9/site-packages/sklearn/svm/_base.py:297: ConvergenceWarning: Solver terminated early (max_iter=500).  Consider pre-processing your data with StandardScaler or MinMaxScaler.\n",
      "  warnings.warn(\n",
      "/Library/Frameworks/Python.framework/Versions/3.9/lib/python3.9/site-packages/sklearn/svm/_base.py:297: ConvergenceWarning: Solver terminated early (max_iter=500).  Consider pre-processing your data with StandardScaler or MinMaxScaler.\n",
      "  warnings.warn(\n",
      "/Library/Frameworks/Python.framework/Versions/3.9/lib/python3.9/site-packages/sklearn/svm/_base.py:297: ConvergenceWarning: Solver terminated early (max_iter=500).  Consider pre-processing your data with StandardScaler or MinMaxScaler.\n",
      "  warnings.warn(\n",
      "/Library/Frameworks/Python.framework/Versions/3.9/lib/python3.9/site-packages/sklearn/svm/_base.py:297: ConvergenceWarning: Solver terminated early (max_iter=500).  Consider pre-processing your data with StandardScaler or MinMaxScaler.\n",
      "  warnings.warn(\n",
      "/Library/Frameworks/Python.framework/Versions/3.9/lib/python3.9/site-packages/sklearn/svm/_base.py:297: ConvergenceWarning: Solver terminated early (max_iter=500).  Consider pre-processing your data with StandardScaler or MinMaxScaler.\n",
      "  warnings.warn(\n",
      "/Library/Frameworks/Python.framework/Versions/3.9/lib/python3.9/site-packages/sklearn/svm/_base.py:297: ConvergenceWarning: Solver terminated early (max_iter=1000).  Consider pre-processing your data with StandardScaler or MinMaxScaler.\n",
      "  warnings.warn(\n",
      "/Library/Frameworks/Python.framework/Versions/3.9/lib/python3.9/site-packages/sklearn/svm/_base.py:297: ConvergenceWarning: Solver terminated early (max_iter=1000).  Consider pre-processing your data with StandardScaler or MinMaxScaler.\n",
      "  warnings.warn(\n",
      "/Library/Frameworks/Python.framework/Versions/3.9/lib/python3.9/site-packages/sklearn/svm/_base.py:297: ConvergenceWarning: Solver terminated early (max_iter=1000).  Consider pre-processing your data with StandardScaler or MinMaxScaler.\n",
      "  warnings.warn(\n",
      "/Library/Frameworks/Python.framework/Versions/3.9/lib/python3.9/site-packages/sklearn/svm/_base.py:297: ConvergenceWarning: Solver terminated early (max_iter=1000).  Consider pre-processing your data with StandardScaler or MinMaxScaler.\n",
      "  warnings.warn(\n",
      "/Library/Frameworks/Python.framework/Versions/3.9/lib/python3.9/site-packages/sklearn/svm/_base.py:297: ConvergenceWarning: Solver terminated early (max_iter=1000).  Consider pre-processing your data with StandardScaler or MinMaxScaler.\n",
      "  warnings.warn(\n"
     ]
    },
    {
     "name": "stdout",
     "output_type": "stream",
     "text": [
      "[CV 2/5] END C=10, coef0=0.1, degree=4, gamma=scale, kernel=linear, max_iter=1000;, score=0.803 total time=   0.0s\n",
      "[CV 3/5] END C=10, coef0=0.1, degree=4, gamma=scale, kernel=linear, max_iter=1000;, score=0.775 total time=   0.0s\n",
      "[CV 4/5] END C=10, coef0=0.1, degree=4, gamma=scale, kernel=linear, max_iter=1000;, score=0.787 total time=   0.0s\n",
      "[CV 5/5] END C=10, coef0=0.1, degree=4, gamma=scale, kernel=linear, max_iter=1000;, score=0.797 total time=   0.0s\n"
     ]
    },
    {
     "name": "stderr",
     "output_type": "stream",
     "text": [
      "/Library/Frameworks/Python.framework/Versions/3.9/lib/python3.9/site-packages/sklearn/svm/_base.py:297: ConvergenceWarning: Solver terminated early (max_iter=10000).  Consider pre-processing your data with StandardScaler or MinMaxScaler.\n",
      "  warnings.warn(\n",
      "/Library/Frameworks/Python.framework/Versions/3.9/lib/python3.9/site-packages/sklearn/svm/_base.py:297: ConvergenceWarning: Solver terminated early (max_iter=10000).  Consider pre-processing your data with StandardScaler or MinMaxScaler.\n",
      "  warnings.warn(\n",
      "/Library/Frameworks/Python.framework/Versions/3.9/lib/python3.9/site-packages/sklearn/svm/_base.py:297: ConvergenceWarning: Solver terminated early (max_iter=10000).  Consider pre-processing your data with StandardScaler or MinMaxScaler.\n",
      "  warnings.warn(\n"
     ]
    },
    {
     "name": "stdout",
     "output_type": "stream",
     "text": [
      "[CV 1/5] END C=10, coef0=0.1, degree=4, gamma=scale, kernel=linear, max_iter=10000;, score=0.820 total time=   0.1s\n",
      "[CV 2/5] END C=10, coef0=0.1, degree=4, gamma=scale, kernel=linear, max_iter=10000;, score=0.815 total time=   0.1s\n",
      "[CV 3/5] END C=10, coef0=0.1, degree=4, gamma=scale, kernel=linear, max_iter=10000;, score=0.798 total time=   0.1s\n"
     ]
    },
    {
     "name": "stderr",
     "output_type": "stream",
     "text": [
      "/Library/Frameworks/Python.framework/Versions/3.9/lib/python3.9/site-packages/sklearn/svm/_base.py:297: ConvergenceWarning: Solver terminated early (max_iter=10000).  Consider pre-processing your data with StandardScaler or MinMaxScaler.\n",
      "  warnings.warn(\n",
      "/Library/Frameworks/Python.framework/Versions/3.9/lib/python3.9/site-packages/sklearn/svm/_base.py:297: ConvergenceWarning: Solver terminated early (max_iter=10000).  Consider pre-processing your data with StandardScaler or MinMaxScaler.\n",
      "  warnings.warn(\n"
     ]
    },
    {
     "name": "stdout",
     "output_type": "stream",
     "text": [
      "[CV 4/5] END C=10, coef0=0.1, degree=4, gamma=scale, kernel=linear, max_iter=10000;, score=0.770 total time=   0.1s\n",
      "[CV 5/5] END C=10, coef0=0.1, degree=4, gamma=scale, kernel=linear, max_iter=10000;, score=0.797 total time=   0.1s\n",
      "[CV 1/5] END C=10, coef0=0.1, degree=4, gamma=scale, kernel=linear, max_iter=100000;, score=0.815 total time=   0.1s\n",
      "[CV 2/5] END C=10, coef0=0.1, degree=4, gamma=scale, kernel=linear, max_iter=100000;, score=0.815 total time=   0.1s\n"
     ]
    },
    {
     "name": "stderr",
     "output_type": "stream",
     "text": [
      "/Library/Frameworks/Python.framework/Versions/3.9/lib/python3.9/site-packages/sklearn/svm/_base.py:297: ConvergenceWarning: Solver terminated early (max_iter=100000).  Consider pre-processing your data with StandardScaler or MinMaxScaler.\n",
      "  warnings.warn(\n"
     ]
    },
    {
     "name": "stdout",
     "output_type": "stream",
     "text": [
      "[CV 3/5] END C=10, coef0=0.1, degree=4, gamma=scale, kernel=linear, max_iter=100000;, score=0.798 total time=   0.1s\n",
      "[CV 4/5] END C=10, coef0=0.1, degree=4, gamma=scale, kernel=linear, max_iter=100000;, score=0.770 total time=   0.2s\n"
     ]
    },
    {
     "name": "stderr",
     "output_type": "stream",
     "text": [
      "/Library/Frameworks/Python.framework/Versions/3.9/lib/python3.9/site-packages/sklearn/svm/_base.py:297: ConvergenceWarning: Solver terminated early (max_iter=100000).  Consider pre-processing your data with StandardScaler or MinMaxScaler.\n",
      "  warnings.warn(\n",
      "/Library/Frameworks/Python.framework/Versions/3.9/lib/python3.9/site-packages/sklearn/svm/_base.py:297: ConvergenceWarning: Solver terminated early (max_iter=100000).  Consider pre-processing your data with StandardScaler or MinMaxScaler.\n",
      "  warnings.warn(\n",
      "/Library/Frameworks/Python.framework/Versions/3.9/lib/python3.9/site-packages/sklearn/svm/_base.py:297: ConvergenceWarning: Solver terminated early (max_iter=500).  Consider pre-processing your data with StandardScaler or MinMaxScaler.\n",
      "  warnings.warn(\n",
      "/Library/Frameworks/Python.framework/Versions/3.9/lib/python3.9/site-packages/sklearn/svm/_base.py:297: ConvergenceWarning: Solver terminated early (max_iter=500).  Consider pre-processing your data with StandardScaler or MinMaxScaler.\n",
      "  warnings.warn(\n",
      "/Library/Frameworks/Python.framework/Versions/3.9/lib/python3.9/site-packages/sklearn/svm/_base.py:297: ConvergenceWarning: Solver terminated early (max_iter=500).  Consider pre-processing your data with StandardScaler or MinMaxScaler.\n",
      "  warnings.warn(\n",
      "/Library/Frameworks/Python.framework/Versions/3.9/lib/python3.9/site-packages/sklearn/svm/_base.py:297: ConvergenceWarning: Solver terminated early (max_iter=500).  Consider pre-processing your data with StandardScaler or MinMaxScaler.\n",
      "  warnings.warn(\n"
     ]
    },
    {
     "name": "stdout",
     "output_type": "stream",
     "text": [
      "[CV 5/5] END C=10, coef0=0.1, degree=4, gamma=scale, kernel=linear, max_iter=100000;, score=0.802 total time=   0.2s\n",
      "[CV 1/5] END C=10, coef0=0.1, degree=4, gamma=scale, kernel=rbf, max_iter=500;, score=0.837 total time=   0.1s\n",
      "[CV 2/5] END C=10, coef0=0.1, degree=4, gamma=scale, kernel=rbf, max_iter=500;, score=0.820 total time=   0.0s\n",
      "[CV 3/5] END C=10, coef0=0.1, degree=4, gamma=scale, kernel=rbf, max_iter=500;, score=0.820 total time=   0.0s\n",
      "[CV 4/5] END C=10, coef0=0.1, degree=4, gamma=scale, kernel=rbf, max_iter=500;, score=0.781 total time=   0.0s\n"
     ]
    },
    {
     "name": "stderr",
     "output_type": "stream",
     "text": [
      "/Library/Frameworks/Python.framework/Versions/3.9/lib/python3.9/site-packages/sklearn/svm/_base.py:297: ConvergenceWarning: Solver terminated early (max_iter=500).  Consider pre-processing your data with StandardScaler or MinMaxScaler.\n",
      "  warnings.warn(\n",
      "/Library/Frameworks/Python.framework/Versions/3.9/lib/python3.9/site-packages/sklearn/svm/_base.py:297: ConvergenceWarning: Solver terminated early (max_iter=1000).  Consider pre-processing your data with StandardScaler or MinMaxScaler.\n",
      "  warnings.warn(\n",
      "/Library/Frameworks/Python.framework/Versions/3.9/lib/python3.9/site-packages/sklearn/svm/_base.py:297: ConvergenceWarning: Solver terminated early (max_iter=1000).  Consider pre-processing your data with StandardScaler or MinMaxScaler.\n",
      "  warnings.warn(\n",
      "/Library/Frameworks/Python.framework/Versions/3.9/lib/python3.9/site-packages/sklearn/svm/_base.py:297: ConvergenceWarning: Solver terminated early (max_iter=1000).  Consider pre-processing your data with StandardScaler or MinMaxScaler.\n",
      "  warnings.warn(\n"
     ]
    },
    {
     "name": "stdout",
     "output_type": "stream",
     "text": [
      "[CV 5/5] END C=10, coef0=0.1, degree=4, gamma=scale, kernel=rbf, max_iter=500;, score=0.853 total time=   0.0s\n",
      "[CV 1/5] END C=10, coef0=0.1, degree=4, gamma=scale, kernel=rbf, max_iter=1000;, score=0.837 total time=   0.1s\n",
      "[CV 2/5] END C=10, coef0=0.1, degree=4, gamma=scale, kernel=rbf, max_iter=1000;, score=0.820 total time=   0.1s\n",
      "[CV 3/5] END C=10, coef0=0.1, degree=4, gamma=scale, kernel=rbf, max_iter=1000;, score=0.820 total time=   0.1s\n"
     ]
    },
    {
     "name": "stderr",
     "output_type": "stream",
     "text": [
      "/Library/Frameworks/Python.framework/Versions/3.9/lib/python3.9/site-packages/sklearn/svm/_base.py:297: ConvergenceWarning: Solver terminated early (max_iter=1000).  Consider pre-processing your data with StandardScaler or MinMaxScaler.\n",
      "  warnings.warn(\n",
      "/Library/Frameworks/Python.framework/Versions/3.9/lib/python3.9/site-packages/sklearn/svm/_base.py:297: ConvergenceWarning: Solver terminated early (max_iter=1000).  Consider pre-processing your data with StandardScaler or MinMaxScaler.\n",
      "  warnings.warn(\n"
     ]
    },
    {
     "name": "stdout",
     "output_type": "stream",
     "text": [
      "[CV 4/5] END C=10, coef0=0.1, degree=4, gamma=scale, kernel=rbf, max_iter=1000;, score=0.781 total time=   0.1s\n",
      "[CV 5/5] END C=10, coef0=0.1, degree=4, gamma=scale, kernel=rbf, max_iter=1000;, score=0.853 total time=   0.1s\n",
      "[CV 1/5] END C=10, coef0=0.1, degree=4, gamma=scale, kernel=rbf, max_iter=10000;, score=0.837 total time=   0.1s\n",
      "[CV 2/5] END C=10, coef0=0.1, degree=4, gamma=scale, kernel=rbf, max_iter=10000;, score=0.820 total time=   0.1s\n",
      "[CV 3/5] END C=10, coef0=0.1, degree=4, gamma=scale, kernel=rbf, max_iter=10000;, score=0.820 total time=   0.1s\n",
      "[CV 4/5] END C=10, coef0=0.1, degree=4, gamma=scale, kernel=rbf, max_iter=10000;, score=0.781 total time=   0.1s\n",
      "[CV 5/5] END C=10, coef0=0.1, degree=4, gamma=scale, kernel=rbf, max_iter=10000;, score=0.853 total time=   0.1s\n",
      "[CV 1/5] END C=10, coef0=0.1, degree=4, gamma=scale, kernel=rbf, max_iter=100000;, score=0.837 total time=   0.1s\n",
      "[CV 2/5] END C=10, coef0=0.1, degree=4, gamma=scale, kernel=rbf, max_iter=100000;, score=0.820 total time=   0.1s\n",
      "[CV 3/5] END C=10, coef0=0.1, degree=4, gamma=scale, kernel=rbf, max_iter=100000;, score=0.820 total time=   0.1s\n",
      "[CV 4/5] END C=10, coef0=0.1, degree=4, gamma=scale, kernel=rbf, max_iter=100000;, score=0.781 total time=   0.1s\n",
      "[CV 5/5] END C=10, coef0=0.1, degree=4, gamma=scale, kernel=rbf, max_iter=100000;, score=0.853 total time=   0.1s\n"
     ]
    },
    {
     "name": "stderr",
     "output_type": "stream",
     "text": [
      "/Library/Frameworks/Python.framework/Versions/3.9/lib/python3.9/site-packages/sklearn/svm/_base.py:297: ConvergenceWarning: Solver terminated early (max_iter=500).  Consider pre-processing your data with StandardScaler or MinMaxScaler.\n",
      "  warnings.warn(\n",
      "/Library/Frameworks/Python.framework/Versions/3.9/lib/python3.9/site-packages/sklearn/svm/_base.py:297: ConvergenceWarning: Solver terminated early (max_iter=500).  Consider pre-processing your data with StandardScaler or MinMaxScaler.\n",
      "  warnings.warn(\n",
      "/Library/Frameworks/Python.framework/Versions/3.9/lib/python3.9/site-packages/sklearn/svm/_base.py:297: ConvergenceWarning: Solver terminated early (max_iter=500).  Consider pre-processing your data with StandardScaler or MinMaxScaler.\n",
      "  warnings.warn(\n",
      "/Library/Frameworks/Python.framework/Versions/3.9/lib/python3.9/site-packages/sklearn/svm/_base.py:297: ConvergenceWarning: Solver terminated early (max_iter=500).  Consider pre-processing your data with StandardScaler or MinMaxScaler.\n",
      "  warnings.warn(\n",
      "/Library/Frameworks/Python.framework/Versions/3.9/lib/python3.9/site-packages/sklearn/svm/_base.py:297: ConvergenceWarning: Solver terminated early (max_iter=500).  Consider pre-processing your data with StandardScaler or MinMaxScaler.\n",
      "  warnings.warn(\n",
      "/Library/Frameworks/Python.framework/Versions/3.9/lib/python3.9/site-packages/sklearn/svm/_base.py:297: ConvergenceWarning: Solver terminated early (max_iter=1000).  Consider pre-processing your data with StandardScaler or MinMaxScaler.\n",
      "  warnings.warn(\n"
     ]
    },
    {
     "name": "stdout",
     "output_type": "stream",
     "text": [
      "[CV 1/5] END C=10, coef0=0.1, degree=4, gamma=scale, kernel=poly, max_iter=500;, score=0.753 total time=   0.0s\n",
      "[CV 2/5] END C=10, coef0=0.1, degree=4, gamma=scale, kernel=poly, max_iter=500;, score=0.781 total time=   0.0s\n",
      "[CV 3/5] END C=10, coef0=0.1, degree=4, gamma=scale, kernel=poly, max_iter=500;, score=0.781 total time=   0.0s\n",
      "[CV 4/5] END C=10, coef0=0.1, degree=4, gamma=scale, kernel=poly, max_iter=500;, score=0.803 total time=   0.0s\n",
      "[CV 5/5] END C=10, coef0=0.1, degree=4, gamma=scale, kernel=poly, max_iter=500;, score=0.791 total time=   0.0s\n",
      "[CV 1/5] END C=10, coef0=0.1, degree=4, gamma=scale, kernel=poly, max_iter=1000;, score=0.775 total time=   0.0s\n"
     ]
    },
    {
     "name": "stderr",
     "output_type": "stream",
     "text": [
      "/Library/Frameworks/Python.framework/Versions/3.9/lib/python3.9/site-packages/sklearn/svm/_base.py:297: ConvergenceWarning: Solver terminated early (max_iter=1000).  Consider pre-processing your data with StandardScaler or MinMaxScaler.\n",
      "  warnings.warn(\n",
      "/Library/Frameworks/Python.framework/Versions/3.9/lib/python3.9/site-packages/sklearn/svm/_base.py:297: ConvergenceWarning: Solver terminated early (max_iter=1000).  Consider pre-processing your data with StandardScaler or MinMaxScaler.\n",
      "  warnings.warn(\n",
      "/Library/Frameworks/Python.framework/Versions/3.9/lib/python3.9/site-packages/sklearn/svm/_base.py:297: ConvergenceWarning: Solver terminated early (max_iter=1000).  Consider pre-processing your data with StandardScaler or MinMaxScaler.\n",
      "  warnings.warn(\n",
      "/Library/Frameworks/Python.framework/Versions/3.9/lib/python3.9/site-packages/sklearn/svm/_base.py:297: ConvergenceWarning: Solver terminated early (max_iter=1000).  Consider pre-processing your data with StandardScaler or MinMaxScaler.\n",
      "  warnings.warn(\n"
     ]
    },
    {
     "name": "stdout",
     "output_type": "stream",
     "text": [
      "[CV 2/5] END C=10, coef0=0.1, degree=4, gamma=scale, kernel=poly, max_iter=1000;, score=0.831 total time=   0.0s\n",
      "[CV 3/5] END C=10, coef0=0.1, degree=4, gamma=scale, kernel=poly, max_iter=1000;, score=0.809 total time=   0.0s\n",
      "[CV 4/5] END C=10, coef0=0.1, degree=4, gamma=scale, kernel=poly, max_iter=1000;, score=0.792 total time=   0.0s\n",
      "[CV 5/5] END C=10, coef0=0.1, degree=4, gamma=scale, kernel=poly, max_iter=1000;, score=0.847 total time=   0.0s\n"
     ]
    },
    {
     "name": "stderr",
     "output_type": "stream",
     "text": [
      "/Library/Frameworks/Python.framework/Versions/3.9/lib/python3.9/site-packages/sklearn/svm/_base.py:297: ConvergenceWarning: Solver terminated early (max_iter=10000).  Consider pre-processing your data with StandardScaler or MinMaxScaler.\n",
      "  warnings.warn(\n",
      "/Library/Frameworks/Python.framework/Versions/3.9/lib/python3.9/site-packages/sklearn/svm/_base.py:297: ConvergenceWarning: Solver terminated early (max_iter=10000).  Consider pre-processing your data with StandardScaler or MinMaxScaler.\n",
      "  warnings.warn(\n"
     ]
    },
    {
     "name": "stdout",
     "output_type": "stream",
     "text": [
      "[CV 1/5] END C=10, coef0=0.1, degree=4, gamma=scale, kernel=poly, max_iter=10000;, score=0.787 total time=   0.1s\n",
      "[CV 2/5] END C=10, coef0=0.1, degree=4, gamma=scale, kernel=poly, max_iter=10000;, score=0.831 total time=   0.1s\n"
     ]
    },
    {
     "name": "stderr",
     "output_type": "stream",
     "text": [
      "/Library/Frameworks/Python.framework/Versions/3.9/lib/python3.9/site-packages/sklearn/svm/_base.py:297: ConvergenceWarning: Solver terminated early (max_iter=10000).  Consider pre-processing your data with StandardScaler or MinMaxScaler.\n",
      "  warnings.warn(\n",
      "/Library/Frameworks/Python.framework/Versions/3.9/lib/python3.9/site-packages/sklearn/svm/_base.py:297: ConvergenceWarning: Solver terminated early (max_iter=10000).  Consider pre-processing your data with StandardScaler or MinMaxScaler.\n",
      "  warnings.warn(\n"
     ]
    },
    {
     "name": "stdout",
     "output_type": "stream",
     "text": [
      "[CV 3/5] END C=10, coef0=0.1, degree=4, gamma=scale, kernel=poly, max_iter=10000;, score=0.815 total time=   0.1s\n",
      "[CV 4/5] END C=10, coef0=0.1, degree=4, gamma=scale, kernel=poly, max_iter=10000;, score=0.781 total time=   0.1s\n"
     ]
    },
    {
     "name": "stderr",
     "output_type": "stream",
     "text": [
      "/Library/Frameworks/Python.framework/Versions/3.9/lib/python3.9/site-packages/sklearn/svm/_base.py:297: ConvergenceWarning: Solver terminated early (max_iter=10000).  Consider pre-processing your data with StandardScaler or MinMaxScaler.\n",
      "  warnings.warn(\n"
     ]
    },
    {
     "name": "stdout",
     "output_type": "stream",
     "text": [
      "[CV 5/5] END C=10, coef0=0.1, degree=4, gamma=scale, kernel=poly, max_iter=10000;, score=0.859 total time=   0.1s\n",
      "[CV 1/5] END C=10, coef0=0.1, degree=4, gamma=scale, kernel=poly, max_iter=100000;, score=0.787 total time=   0.1s\n",
      "[CV 2/5] END C=10, coef0=0.1, degree=4, gamma=scale, kernel=poly, max_iter=100000;, score=0.831 total time=   0.1s\n",
      "[CV 3/5] END C=10, coef0=0.1, degree=4, gamma=scale, kernel=poly, max_iter=100000;, score=0.815 total time=   0.2s\n",
      "[CV 4/5] END C=10, coef0=0.1, degree=4, gamma=scale, kernel=poly, max_iter=100000;, score=0.781 total time=   0.1s\n",
      "[CV 5/5] END C=10, coef0=0.1, degree=4, gamma=scale, kernel=poly, max_iter=100000;, score=0.859 total time=   0.1s\n",
      "[CV 1/5] END C=10, coef0=0.1, degree=5, gamma=scale, kernel=linear, max_iter=500;, score=0.680 total time=   0.0s\n",
      "[CV 2/5] END C=10, coef0=0.1, degree=5, gamma=scale, kernel=linear, max_iter=500;, score=0.511 total time=   0.0s\n"
     ]
    },
    {
     "name": "stderr",
     "output_type": "stream",
     "text": [
      "/Library/Frameworks/Python.framework/Versions/3.9/lib/python3.9/site-packages/sklearn/svm/_base.py:297: ConvergenceWarning: Solver terminated early (max_iter=500).  Consider pre-processing your data with StandardScaler or MinMaxScaler.\n",
      "  warnings.warn(\n",
      "/Library/Frameworks/Python.framework/Versions/3.9/lib/python3.9/site-packages/sklearn/svm/_base.py:297: ConvergenceWarning: Solver terminated early (max_iter=500).  Consider pre-processing your data with StandardScaler or MinMaxScaler.\n",
      "  warnings.warn(\n",
      "/Library/Frameworks/Python.framework/Versions/3.9/lib/python3.9/site-packages/sklearn/svm/_base.py:297: ConvergenceWarning: Solver terminated early (max_iter=500).  Consider pre-processing your data with StandardScaler or MinMaxScaler.\n",
      "  warnings.warn(\n",
      "/Library/Frameworks/Python.framework/Versions/3.9/lib/python3.9/site-packages/sklearn/svm/_base.py:297: ConvergenceWarning: Solver terminated early (max_iter=500).  Consider pre-processing your data with StandardScaler or MinMaxScaler.\n",
      "  warnings.warn(\n",
      "/Library/Frameworks/Python.framework/Versions/3.9/lib/python3.9/site-packages/sklearn/svm/_base.py:297: ConvergenceWarning: Solver terminated early (max_iter=500).  Consider pre-processing your data with StandardScaler or MinMaxScaler.\n",
      "  warnings.warn(\n",
      "/Library/Frameworks/Python.framework/Versions/3.9/lib/python3.9/site-packages/sklearn/svm/_base.py:297: ConvergenceWarning: Solver terminated early (max_iter=1000).  Consider pre-processing your data with StandardScaler or MinMaxScaler.\n",
      "  warnings.warn(\n"
     ]
    },
    {
     "name": "stdout",
     "output_type": "stream",
     "text": [
      "[CV 3/5] END C=10, coef0=0.1, degree=5, gamma=scale, kernel=linear, max_iter=500;, score=0.376 total time=   0.0s\n",
      "[CV 4/5] END C=10, coef0=0.1, degree=5, gamma=scale, kernel=linear, max_iter=500;, score=0.281 total time=   0.0s\n",
      "[CV 5/5] END C=10, coef0=0.1, degree=5, gamma=scale, kernel=linear, max_iter=500;, score=0.407 total time=   0.0s\n",
      "[CV 1/5] END C=10, coef0=0.1, degree=5, gamma=scale, kernel=linear, max_iter=1000;, score=0.775 total time=   0.0s\n",
      "[CV 2/5] END C=10, coef0=0.1, degree=5, gamma=scale, kernel=linear, max_iter=1000;, score=0.803 total time=   0.0s\n",
      "[CV 3/5] END C=10, coef0=0.1, degree=5, gamma=scale, kernel=linear, max_iter=1000;, score=0.775 total time=   0.0s\n"
     ]
    },
    {
     "name": "stderr",
     "output_type": "stream",
     "text": [
      "/Library/Frameworks/Python.framework/Versions/3.9/lib/python3.9/site-packages/sklearn/svm/_base.py:297: ConvergenceWarning: Solver terminated early (max_iter=1000).  Consider pre-processing your data with StandardScaler or MinMaxScaler.\n",
      "  warnings.warn(\n",
      "/Library/Frameworks/Python.framework/Versions/3.9/lib/python3.9/site-packages/sklearn/svm/_base.py:297: ConvergenceWarning: Solver terminated early (max_iter=1000).  Consider pre-processing your data with StandardScaler or MinMaxScaler.\n",
      "  warnings.warn(\n",
      "/Library/Frameworks/Python.framework/Versions/3.9/lib/python3.9/site-packages/sklearn/svm/_base.py:297: ConvergenceWarning: Solver terminated early (max_iter=1000).  Consider pre-processing your data with StandardScaler or MinMaxScaler.\n",
      "  warnings.warn(\n",
      "/Library/Frameworks/Python.framework/Versions/3.9/lib/python3.9/site-packages/sklearn/svm/_base.py:297: ConvergenceWarning: Solver terminated early (max_iter=1000).  Consider pre-processing your data with StandardScaler or MinMaxScaler.\n",
      "  warnings.warn(\n"
     ]
    },
    {
     "name": "stdout",
     "output_type": "stream",
     "text": [
      "[CV 4/5] END C=10, coef0=0.1, degree=5, gamma=scale, kernel=linear, max_iter=1000;, score=0.787 total time=   0.0s\n",
      "[CV 5/5] END C=10, coef0=0.1, degree=5, gamma=scale, kernel=linear, max_iter=1000;, score=0.797 total time=   0.0s\n",
      "[CV 1/5] END C=10, coef0=0.1, degree=5, gamma=scale, kernel=linear, max_iter=10000;, score=0.820 total time=   0.1s\n"
     ]
    },
    {
     "name": "stderr",
     "output_type": "stream",
     "text": [
      "/Library/Frameworks/Python.framework/Versions/3.9/lib/python3.9/site-packages/sklearn/svm/_base.py:297: ConvergenceWarning: Solver terminated early (max_iter=10000).  Consider pre-processing your data with StandardScaler or MinMaxScaler.\n",
      "  warnings.warn(\n",
      "/Library/Frameworks/Python.framework/Versions/3.9/lib/python3.9/site-packages/sklearn/svm/_base.py:297: ConvergenceWarning: Solver terminated early (max_iter=10000).  Consider pre-processing your data with StandardScaler or MinMaxScaler.\n",
      "  warnings.warn(\n",
      "/Library/Frameworks/Python.framework/Versions/3.9/lib/python3.9/site-packages/sklearn/svm/_base.py:297: ConvergenceWarning: Solver terminated early (max_iter=10000).  Consider pre-processing your data with StandardScaler or MinMaxScaler.\n",
      "  warnings.warn(\n"
     ]
    },
    {
     "name": "stdout",
     "output_type": "stream",
     "text": [
      "[CV 2/5] END C=10, coef0=0.1, degree=5, gamma=scale, kernel=linear, max_iter=10000;, score=0.815 total time=   0.1s\n",
      "[CV 3/5] END C=10, coef0=0.1, degree=5, gamma=scale, kernel=linear, max_iter=10000;, score=0.798 total time=   0.1s\n"
     ]
    },
    {
     "name": "stderr",
     "output_type": "stream",
     "text": [
      "/Library/Frameworks/Python.framework/Versions/3.9/lib/python3.9/site-packages/sklearn/svm/_base.py:297: ConvergenceWarning: Solver terminated early (max_iter=10000).  Consider pre-processing your data with StandardScaler or MinMaxScaler.\n",
      "  warnings.warn(\n",
      "/Library/Frameworks/Python.framework/Versions/3.9/lib/python3.9/site-packages/sklearn/svm/_base.py:297: ConvergenceWarning: Solver terminated early (max_iter=10000).  Consider pre-processing your data with StandardScaler or MinMaxScaler.\n",
      "  warnings.warn(\n"
     ]
    },
    {
     "name": "stdout",
     "output_type": "stream",
     "text": [
      "[CV 4/5] END C=10, coef0=0.1, degree=5, gamma=scale, kernel=linear, max_iter=10000;, score=0.770 total time=   0.1s\n",
      "[CV 5/5] END C=10, coef0=0.1, degree=5, gamma=scale, kernel=linear, max_iter=10000;, score=0.797 total time=   0.1s\n",
      "[CV 1/5] END C=10, coef0=0.1, degree=5, gamma=scale, kernel=linear, max_iter=100000;, score=0.815 total time=   0.1s\n",
      "[CV 2/5] END C=10, coef0=0.1, degree=5, gamma=scale, kernel=linear, max_iter=100000;, score=0.815 total time=   0.1s\n"
     ]
    },
    {
     "name": "stderr",
     "output_type": "stream",
     "text": [
      "/Library/Frameworks/Python.framework/Versions/3.9/lib/python3.9/site-packages/sklearn/svm/_base.py:297: ConvergenceWarning: Solver terminated early (max_iter=100000).  Consider pre-processing your data with StandardScaler or MinMaxScaler.\n",
      "  warnings.warn(\n"
     ]
    },
    {
     "name": "stdout",
     "output_type": "stream",
     "text": [
      "[CV 3/5] END C=10, coef0=0.1, degree=5, gamma=scale, kernel=linear, max_iter=100000;, score=0.798 total time=   0.1s\n",
      "[CV 4/5] END C=10, coef0=0.1, degree=5, gamma=scale, kernel=linear, max_iter=100000;, score=0.770 total time=   0.2s\n"
     ]
    },
    {
     "name": "stderr",
     "output_type": "stream",
     "text": [
      "/Library/Frameworks/Python.framework/Versions/3.9/lib/python3.9/site-packages/sklearn/svm/_base.py:297: ConvergenceWarning: Solver terminated early (max_iter=100000).  Consider pre-processing your data with StandardScaler or MinMaxScaler.\n",
      "  warnings.warn(\n",
      "/Library/Frameworks/Python.framework/Versions/3.9/lib/python3.9/site-packages/sklearn/svm/_base.py:297: ConvergenceWarning: Solver terminated early (max_iter=100000).  Consider pre-processing your data with StandardScaler or MinMaxScaler.\n",
      "  warnings.warn(\n",
      "/Library/Frameworks/Python.framework/Versions/3.9/lib/python3.9/site-packages/sklearn/svm/_base.py:297: ConvergenceWarning: Solver terminated early (max_iter=500).  Consider pre-processing your data with StandardScaler or MinMaxScaler.\n",
      "  warnings.warn(\n",
      "/Library/Frameworks/Python.framework/Versions/3.9/lib/python3.9/site-packages/sklearn/svm/_base.py:297: ConvergenceWarning: Solver terminated early (max_iter=500).  Consider pre-processing your data with StandardScaler or MinMaxScaler.\n",
      "  warnings.warn(\n",
      "/Library/Frameworks/Python.framework/Versions/3.9/lib/python3.9/site-packages/sklearn/svm/_base.py:297: ConvergenceWarning: Solver terminated early (max_iter=500).  Consider pre-processing your data with StandardScaler or MinMaxScaler.\n",
      "  warnings.warn(\n",
      "/Library/Frameworks/Python.framework/Versions/3.9/lib/python3.9/site-packages/sklearn/svm/_base.py:297: ConvergenceWarning: Solver terminated early (max_iter=500).  Consider pre-processing your data with StandardScaler or MinMaxScaler.\n",
      "  warnings.warn(\n"
     ]
    },
    {
     "name": "stdout",
     "output_type": "stream",
     "text": [
      "[CV 5/5] END C=10, coef0=0.1, degree=5, gamma=scale, kernel=linear, max_iter=100000;, score=0.802 total time=   0.2s\n",
      "[CV 1/5] END C=10, coef0=0.1, degree=5, gamma=scale, kernel=rbf, max_iter=500;, score=0.837 total time=   0.0s\n",
      "[CV 2/5] END C=10, coef0=0.1, degree=5, gamma=scale, kernel=rbf, max_iter=500;, score=0.820 total time=   0.0s\n",
      "[CV 3/5] END C=10, coef0=0.1, degree=5, gamma=scale, kernel=rbf, max_iter=500;, score=0.820 total time=   0.0s\n",
      "[CV 4/5] END C=10, coef0=0.1, degree=5, gamma=scale, kernel=rbf, max_iter=500;, score=0.781 total time=   0.0s\n"
     ]
    },
    {
     "name": "stderr",
     "output_type": "stream",
     "text": [
      "/Library/Frameworks/Python.framework/Versions/3.9/lib/python3.9/site-packages/sklearn/svm/_base.py:297: ConvergenceWarning: Solver terminated early (max_iter=500).  Consider pre-processing your data with StandardScaler or MinMaxScaler.\n",
      "  warnings.warn(\n",
      "/Library/Frameworks/Python.framework/Versions/3.9/lib/python3.9/site-packages/sklearn/svm/_base.py:297: ConvergenceWarning: Solver terminated early (max_iter=1000).  Consider pre-processing your data with StandardScaler or MinMaxScaler.\n",
      "  warnings.warn(\n",
      "/Library/Frameworks/Python.framework/Versions/3.9/lib/python3.9/site-packages/sklearn/svm/_base.py:297: ConvergenceWarning: Solver terminated early (max_iter=1000).  Consider pre-processing your data with StandardScaler or MinMaxScaler.\n",
      "  warnings.warn(\n",
      "/Library/Frameworks/Python.framework/Versions/3.9/lib/python3.9/site-packages/sklearn/svm/_base.py:297: ConvergenceWarning: Solver terminated early (max_iter=1000).  Consider pre-processing your data with StandardScaler or MinMaxScaler.\n",
      "  warnings.warn(\n"
     ]
    },
    {
     "name": "stdout",
     "output_type": "stream",
     "text": [
      "[CV 5/5] END C=10, coef0=0.1, degree=5, gamma=scale, kernel=rbf, max_iter=500;, score=0.853 total time=   0.0s\n",
      "[CV 1/5] END C=10, coef0=0.1, degree=5, gamma=scale, kernel=rbf, max_iter=1000;, score=0.837 total time=   0.1s\n",
      "[CV 2/5] END C=10, coef0=0.1, degree=5, gamma=scale, kernel=rbf, max_iter=1000;, score=0.820 total time=   0.1s\n",
      "[CV 3/5] END C=10, coef0=0.1, degree=5, gamma=scale, kernel=rbf, max_iter=1000;, score=0.820 total time=   0.1s\n"
     ]
    },
    {
     "name": "stderr",
     "output_type": "stream",
     "text": [
      "/Library/Frameworks/Python.framework/Versions/3.9/lib/python3.9/site-packages/sklearn/svm/_base.py:297: ConvergenceWarning: Solver terminated early (max_iter=1000).  Consider pre-processing your data with StandardScaler or MinMaxScaler.\n",
      "  warnings.warn(\n",
      "/Library/Frameworks/Python.framework/Versions/3.9/lib/python3.9/site-packages/sklearn/svm/_base.py:297: ConvergenceWarning: Solver terminated early (max_iter=1000).  Consider pre-processing your data with StandardScaler or MinMaxScaler.\n",
      "  warnings.warn(\n"
     ]
    },
    {
     "name": "stdout",
     "output_type": "stream",
     "text": [
      "[CV 4/5] END C=10, coef0=0.1, degree=5, gamma=scale, kernel=rbf, max_iter=1000;, score=0.781 total time=   0.1s\n",
      "[CV 5/5] END C=10, coef0=0.1, degree=5, gamma=scale, kernel=rbf, max_iter=1000;, score=0.853 total time=   0.1s\n",
      "[CV 1/5] END C=10, coef0=0.1, degree=5, gamma=scale, kernel=rbf, max_iter=10000;, score=0.837 total time=   0.1s\n",
      "[CV 2/5] END C=10, coef0=0.1, degree=5, gamma=scale, kernel=rbf, max_iter=10000;, score=0.820 total time=   0.1s\n",
      "[CV 3/5] END C=10, coef0=0.1, degree=5, gamma=scale, kernel=rbf, max_iter=10000;, score=0.820 total time=   0.1s\n",
      "[CV 4/5] END C=10, coef0=0.1, degree=5, gamma=scale, kernel=rbf, max_iter=10000;, score=0.781 total time=   0.1s\n",
      "[CV 5/5] END C=10, coef0=0.1, degree=5, gamma=scale, kernel=rbf, max_iter=10000;, score=0.853 total time=   0.1s\n",
      "[CV 1/5] END C=10, coef0=0.1, degree=5, gamma=scale, kernel=rbf, max_iter=100000;, score=0.837 total time=   0.1s\n",
      "[CV 2/5] END C=10, coef0=0.1, degree=5, gamma=scale, kernel=rbf, max_iter=100000;, score=0.820 total time=   0.1s\n",
      "[CV 3/5] END C=10, coef0=0.1, degree=5, gamma=scale, kernel=rbf, max_iter=100000;, score=0.820 total time=   0.1s\n",
      "[CV 4/5] END C=10, coef0=0.1, degree=5, gamma=scale, kernel=rbf, max_iter=100000;, score=0.781 total time=   0.1s\n",
      "[CV 5/5] END C=10, coef0=0.1, degree=5, gamma=scale, kernel=rbf, max_iter=100000;, score=0.853 total time=   0.1s\n"
     ]
    },
    {
     "name": "stderr",
     "output_type": "stream",
     "text": [
      "/Library/Frameworks/Python.framework/Versions/3.9/lib/python3.9/site-packages/sklearn/svm/_base.py:297: ConvergenceWarning: Solver terminated early (max_iter=500).  Consider pre-processing your data with StandardScaler or MinMaxScaler.\n",
      "  warnings.warn(\n",
      "/Library/Frameworks/Python.framework/Versions/3.9/lib/python3.9/site-packages/sklearn/svm/_base.py:297: ConvergenceWarning: Solver terminated early (max_iter=500).  Consider pre-processing your data with StandardScaler or MinMaxScaler.\n",
      "  warnings.warn(\n",
      "/Library/Frameworks/Python.framework/Versions/3.9/lib/python3.9/site-packages/sklearn/svm/_base.py:297: ConvergenceWarning: Solver terminated early (max_iter=500).  Consider pre-processing your data with StandardScaler or MinMaxScaler.\n",
      "  warnings.warn(\n",
      "/Library/Frameworks/Python.framework/Versions/3.9/lib/python3.9/site-packages/sklearn/svm/_base.py:297: ConvergenceWarning: Solver terminated early (max_iter=500).  Consider pre-processing your data with StandardScaler or MinMaxScaler.\n",
      "  warnings.warn(\n",
      "/Library/Frameworks/Python.framework/Versions/3.9/lib/python3.9/site-packages/sklearn/svm/_base.py:297: ConvergenceWarning: Solver terminated early (max_iter=500).  Consider pre-processing your data with StandardScaler or MinMaxScaler.\n",
      "  warnings.warn(\n",
      "/Library/Frameworks/Python.framework/Versions/3.9/lib/python3.9/site-packages/sklearn/svm/_base.py:297: ConvergenceWarning: Solver terminated early (max_iter=1000).  Consider pre-processing your data with StandardScaler or MinMaxScaler.\n",
      "  warnings.warn(\n"
     ]
    },
    {
     "name": "stdout",
     "output_type": "stream",
     "text": [
      "[CV 1/5] END C=10, coef0=0.1, degree=5, gamma=scale, kernel=poly, max_iter=500;, score=0.567 total time=   0.0s\n",
      "[CV 2/5] END C=10, coef0=0.1, degree=5, gamma=scale, kernel=poly, max_iter=500;, score=0.590 total time=   0.0s\n",
      "[CV 3/5] END C=10, coef0=0.1, degree=5, gamma=scale, kernel=poly, max_iter=500;, score=0.511 total time=   0.0s\n",
      "[CV 4/5] END C=10, coef0=0.1, degree=5, gamma=scale, kernel=poly, max_iter=500;, score=0.809 total time=   0.0s\n",
      "[CV 5/5] END C=10, coef0=0.1, degree=5, gamma=scale, kernel=poly, max_iter=500;, score=0.424 total time=   0.0s\n",
      "[CV 1/5] END C=10, coef0=0.1, degree=5, gamma=scale, kernel=poly, max_iter=1000;, score=0.809 total time=   0.0s\n"
     ]
    },
    {
     "name": "stderr",
     "output_type": "stream",
     "text": [
      "/Library/Frameworks/Python.framework/Versions/3.9/lib/python3.9/site-packages/sklearn/svm/_base.py:297: ConvergenceWarning: Solver terminated early (max_iter=1000).  Consider pre-processing your data with StandardScaler or MinMaxScaler.\n",
      "  warnings.warn(\n",
      "/Library/Frameworks/Python.framework/Versions/3.9/lib/python3.9/site-packages/sklearn/svm/_base.py:297: ConvergenceWarning: Solver terminated early (max_iter=1000).  Consider pre-processing your data with StandardScaler or MinMaxScaler.\n",
      "  warnings.warn(\n",
      "/Library/Frameworks/Python.framework/Versions/3.9/lib/python3.9/site-packages/sklearn/svm/_base.py:297: ConvergenceWarning: Solver terminated early (max_iter=1000).  Consider pre-processing your data with StandardScaler or MinMaxScaler.\n",
      "  warnings.warn(\n",
      "/Library/Frameworks/Python.framework/Versions/3.9/lib/python3.9/site-packages/sklearn/svm/_base.py:297: ConvergenceWarning: Solver terminated early (max_iter=1000).  Consider pre-processing your data with StandardScaler or MinMaxScaler.\n",
      "  warnings.warn(\n"
     ]
    },
    {
     "name": "stdout",
     "output_type": "stream",
     "text": [
      "[CV 2/5] END C=10, coef0=0.1, degree=5, gamma=scale, kernel=poly, max_iter=1000;, score=0.815 total time=   0.0s\n",
      "[CV 3/5] END C=10, coef0=0.1, degree=5, gamma=scale, kernel=poly, max_iter=1000;, score=0.803 total time=   0.1s\n",
      "[CV 4/5] END C=10, coef0=0.1, degree=5, gamma=scale, kernel=poly, max_iter=1000;, score=0.534 total time=   0.1s\n",
      "[CV 5/5] END C=10, coef0=0.1, degree=5, gamma=scale, kernel=poly, max_iter=1000;, score=0.712 total time=   0.0s\n"
     ]
    },
    {
     "name": "stderr",
     "output_type": "stream",
     "text": [
      "/Library/Frameworks/Python.framework/Versions/3.9/lib/python3.9/site-packages/sklearn/svm/_base.py:297: ConvergenceWarning: Solver terminated early (max_iter=10000).  Consider pre-processing your data with StandardScaler or MinMaxScaler.\n",
      "  warnings.warn(\n",
      "/Library/Frameworks/Python.framework/Versions/3.9/lib/python3.9/site-packages/sklearn/svm/_base.py:297: ConvergenceWarning: Solver terminated early (max_iter=10000).  Consider pre-processing your data with StandardScaler or MinMaxScaler.\n",
      "  warnings.warn(\n"
     ]
    },
    {
     "name": "stdout",
     "output_type": "stream",
     "text": [
      "[CV 1/5] END C=10, coef0=0.1, degree=5, gamma=scale, kernel=poly, max_iter=10000;, score=0.787 total time=   0.1s\n",
      "[CV 2/5] END C=10, coef0=0.1, degree=5, gamma=scale, kernel=poly, max_iter=10000;, score=0.809 total time=   0.1s\n"
     ]
    },
    {
     "name": "stderr",
     "output_type": "stream",
     "text": [
      "/Library/Frameworks/Python.framework/Versions/3.9/lib/python3.9/site-packages/sklearn/svm/_base.py:297: ConvergenceWarning: Solver terminated early (max_iter=10000).  Consider pre-processing your data with StandardScaler or MinMaxScaler.\n",
      "  warnings.warn(\n",
      "/Library/Frameworks/Python.framework/Versions/3.9/lib/python3.9/site-packages/sklearn/svm/_base.py:297: ConvergenceWarning: Solver terminated early (max_iter=10000).  Consider pre-processing your data with StandardScaler or MinMaxScaler.\n",
      "  warnings.warn(\n"
     ]
    },
    {
     "name": "stdout",
     "output_type": "stream",
     "text": [
      "[CV 3/5] END C=10, coef0=0.1, degree=5, gamma=scale, kernel=poly, max_iter=10000;, score=0.809 total time=   0.1s\n",
      "[CV 4/5] END C=10, coef0=0.1, degree=5, gamma=scale, kernel=poly, max_iter=10000;, score=0.775 total time=   0.1s\n"
     ]
    },
    {
     "name": "stderr",
     "output_type": "stream",
     "text": [
      "/Library/Frameworks/Python.framework/Versions/3.9/lib/python3.9/site-packages/sklearn/svm/_base.py:297: ConvergenceWarning: Solver terminated early (max_iter=10000).  Consider pre-processing your data with StandardScaler or MinMaxScaler.\n",
      "  warnings.warn(\n"
     ]
    },
    {
     "name": "stdout",
     "output_type": "stream",
     "text": [
      "[CV 5/5] END C=10, coef0=0.1, degree=5, gamma=scale, kernel=poly, max_iter=10000;, score=0.842 total time=   0.1s\n",
      "[CV 1/5] END C=10, coef0=0.1, degree=5, gamma=scale, kernel=poly, max_iter=100000;, score=0.787 total time=   0.1s\n",
      "[CV 2/5] END C=10, coef0=0.1, degree=5, gamma=scale, kernel=poly, max_iter=100000;, score=0.809 total time=   0.2s\n",
      "[CV 3/5] END C=10, coef0=0.1, degree=5, gamma=scale, kernel=poly, max_iter=100000;, score=0.809 total time=   0.2s\n",
      "[CV 4/5] END C=10, coef0=0.1, degree=5, gamma=scale, kernel=poly, max_iter=100000;, score=0.781 total time=   0.2s\n",
      "[CV 5/5] END C=10, coef0=0.1, degree=5, gamma=scale, kernel=poly, max_iter=100000;, score=0.847 total time=   0.2s\n"
     ]
    },
    {
     "name": "stderr",
     "output_type": "stream",
     "text": [
      "/Library/Frameworks/Python.framework/Versions/3.9/lib/python3.9/site-packages/sklearn/svm/_base.py:297: ConvergenceWarning: Solver terminated early (max_iter=500).  Consider pre-processing your data with StandardScaler or MinMaxScaler.\n",
      "  warnings.warn(\n",
      "/Library/Frameworks/Python.framework/Versions/3.9/lib/python3.9/site-packages/sklearn/svm/_base.py:297: ConvergenceWarning: Solver terminated early (max_iter=500).  Consider pre-processing your data with StandardScaler or MinMaxScaler.\n",
      "  warnings.warn(\n",
      "/Library/Frameworks/Python.framework/Versions/3.9/lib/python3.9/site-packages/sklearn/svm/_base.py:297: ConvergenceWarning: Solver terminated early (max_iter=500).  Consider pre-processing your data with StandardScaler or MinMaxScaler.\n",
      "  warnings.warn(\n",
      "/Library/Frameworks/Python.framework/Versions/3.9/lib/python3.9/site-packages/sklearn/svm/_base.py:297: ConvergenceWarning: Solver terminated early (max_iter=500).  Consider pre-processing your data with StandardScaler or MinMaxScaler.\n",
      "  warnings.warn(\n",
      "/Library/Frameworks/Python.framework/Versions/3.9/lib/python3.9/site-packages/sklearn/svm/_base.py:297: ConvergenceWarning: Solver terminated early (max_iter=500).  Consider pre-processing your data with StandardScaler or MinMaxScaler.\n",
      "  warnings.warn(\n",
      "/Library/Frameworks/Python.framework/Versions/3.9/lib/python3.9/site-packages/sklearn/svm/_base.py:297: ConvergenceWarning: Solver terminated early (max_iter=1000).  Consider pre-processing your data with StandardScaler or MinMaxScaler.\n",
      "  warnings.warn(\n"
     ]
    },
    {
     "name": "stdout",
     "output_type": "stream",
     "text": [
      "[CV 1/5] END C=10, coef0=1, degree=2, gamma=scale, kernel=linear, max_iter=500;, score=0.680 total time=   0.0s\n",
      "[CV 2/5] END C=10, coef0=1, degree=2, gamma=scale, kernel=linear, max_iter=500;, score=0.511 total time=   0.0s\n",
      "[CV 3/5] END C=10, coef0=1, degree=2, gamma=scale, kernel=linear, max_iter=500;, score=0.376 total time=   0.0s\n",
      "[CV 4/5] END C=10, coef0=1, degree=2, gamma=scale, kernel=linear, max_iter=500;, score=0.281 total time=   0.0s\n",
      "[CV 5/5] END C=10, coef0=1, degree=2, gamma=scale, kernel=linear, max_iter=500;, score=0.407 total time=   0.0s\n",
      "[CV 1/5] END C=10, coef0=1, degree=2, gamma=scale, kernel=linear, max_iter=1000;, score=0.775 total time=   0.0s\n"
     ]
    },
    {
     "name": "stderr",
     "output_type": "stream",
     "text": [
      "/Library/Frameworks/Python.framework/Versions/3.9/lib/python3.9/site-packages/sklearn/svm/_base.py:297: ConvergenceWarning: Solver terminated early (max_iter=1000).  Consider pre-processing your data with StandardScaler or MinMaxScaler.\n",
      "  warnings.warn(\n",
      "/Library/Frameworks/Python.framework/Versions/3.9/lib/python3.9/site-packages/sklearn/svm/_base.py:297: ConvergenceWarning: Solver terminated early (max_iter=1000).  Consider pre-processing your data with StandardScaler or MinMaxScaler.\n",
      "  warnings.warn(\n",
      "/Library/Frameworks/Python.framework/Versions/3.9/lib/python3.9/site-packages/sklearn/svm/_base.py:297: ConvergenceWarning: Solver terminated early (max_iter=1000).  Consider pre-processing your data with StandardScaler or MinMaxScaler.\n",
      "  warnings.warn(\n",
      "/Library/Frameworks/Python.framework/Versions/3.9/lib/python3.9/site-packages/sklearn/svm/_base.py:297: ConvergenceWarning: Solver terminated early (max_iter=1000).  Consider pre-processing your data with StandardScaler or MinMaxScaler.\n",
      "  warnings.warn(\n"
     ]
    },
    {
     "name": "stdout",
     "output_type": "stream",
     "text": [
      "[CV 2/5] END C=10, coef0=1, degree=2, gamma=scale, kernel=linear, max_iter=1000;, score=0.803 total time=   0.0s\n",
      "[CV 3/5] END C=10, coef0=1, degree=2, gamma=scale, kernel=linear, max_iter=1000;, score=0.775 total time=   0.0s\n",
      "[CV 4/5] END C=10, coef0=1, degree=2, gamma=scale, kernel=linear, max_iter=1000;, score=0.787 total time=   0.0s\n",
      "[CV 5/5] END C=10, coef0=1, degree=2, gamma=scale, kernel=linear, max_iter=1000;, score=0.797 total time=   0.0s\n"
     ]
    },
    {
     "name": "stderr",
     "output_type": "stream",
     "text": [
      "/Library/Frameworks/Python.framework/Versions/3.9/lib/python3.9/site-packages/sklearn/svm/_base.py:297: ConvergenceWarning: Solver terminated early (max_iter=10000).  Consider pre-processing your data with StandardScaler or MinMaxScaler.\n",
      "  warnings.warn(\n",
      "/Library/Frameworks/Python.framework/Versions/3.9/lib/python3.9/site-packages/sklearn/svm/_base.py:297: ConvergenceWarning: Solver terminated early (max_iter=10000).  Consider pre-processing your data with StandardScaler or MinMaxScaler.\n",
      "  warnings.warn(\n",
      "/Library/Frameworks/Python.framework/Versions/3.9/lib/python3.9/site-packages/sklearn/svm/_base.py:297: ConvergenceWarning: Solver terminated early (max_iter=10000).  Consider pre-processing your data with StandardScaler or MinMaxScaler.\n",
      "  warnings.warn(\n"
     ]
    },
    {
     "name": "stdout",
     "output_type": "stream",
     "text": [
      "[CV 1/5] END C=10, coef0=1, degree=2, gamma=scale, kernel=linear, max_iter=10000;, score=0.820 total time=   0.1s\n",
      "[CV 2/5] END C=10, coef0=1, degree=2, gamma=scale, kernel=linear, max_iter=10000;, score=0.815 total time=   0.1s\n",
      "[CV 3/5] END C=10, coef0=1, degree=2, gamma=scale, kernel=linear, max_iter=10000;, score=0.798 total time=   0.1s\n"
     ]
    },
    {
     "name": "stderr",
     "output_type": "stream",
     "text": [
      "/Library/Frameworks/Python.framework/Versions/3.9/lib/python3.9/site-packages/sklearn/svm/_base.py:297: ConvergenceWarning: Solver terminated early (max_iter=10000).  Consider pre-processing your data with StandardScaler or MinMaxScaler.\n",
      "  warnings.warn(\n",
      "/Library/Frameworks/Python.framework/Versions/3.9/lib/python3.9/site-packages/sklearn/svm/_base.py:297: ConvergenceWarning: Solver terminated early (max_iter=10000).  Consider pre-processing your data with StandardScaler or MinMaxScaler.\n",
      "  warnings.warn(\n"
     ]
    },
    {
     "name": "stdout",
     "output_type": "stream",
     "text": [
      "[CV 4/5] END C=10, coef0=1, degree=2, gamma=scale, kernel=linear, max_iter=10000;, score=0.770 total time=   0.1s\n",
      "[CV 5/5] END C=10, coef0=1, degree=2, gamma=scale, kernel=linear, max_iter=10000;, score=0.797 total time=   0.1s\n",
      "[CV 1/5] END C=10, coef0=1, degree=2, gamma=scale, kernel=linear, max_iter=100000;, score=0.815 total time=   0.1s\n",
      "[CV 2/5] END C=10, coef0=1, degree=2, gamma=scale, kernel=linear, max_iter=100000;, score=0.815 total time=   0.1s\n"
     ]
    },
    {
     "name": "stderr",
     "output_type": "stream",
     "text": [
      "/Library/Frameworks/Python.framework/Versions/3.9/lib/python3.9/site-packages/sklearn/svm/_base.py:297: ConvergenceWarning: Solver terminated early (max_iter=100000).  Consider pre-processing your data with StandardScaler or MinMaxScaler.\n",
      "  warnings.warn(\n"
     ]
    },
    {
     "name": "stdout",
     "output_type": "stream",
     "text": [
      "[CV 3/5] END C=10, coef0=1, degree=2, gamma=scale, kernel=linear, max_iter=100000;, score=0.798 total time=   0.1s\n",
      "[CV 4/5] END C=10, coef0=1, degree=2, gamma=scale, kernel=linear, max_iter=100000;, score=0.770 total time=   0.2s\n"
     ]
    },
    {
     "name": "stderr",
     "output_type": "stream",
     "text": [
      "/Library/Frameworks/Python.framework/Versions/3.9/lib/python3.9/site-packages/sklearn/svm/_base.py:297: ConvergenceWarning: Solver terminated early (max_iter=100000).  Consider pre-processing your data with StandardScaler or MinMaxScaler.\n",
      "  warnings.warn(\n",
      "/Library/Frameworks/Python.framework/Versions/3.9/lib/python3.9/site-packages/sklearn/svm/_base.py:297: ConvergenceWarning: Solver terminated early (max_iter=100000).  Consider pre-processing your data with StandardScaler or MinMaxScaler.\n",
      "  warnings.warn(\n",
      "/Library/Frameworks/Python.framework/Versions/3.9/lib/python3.9/site-packages/sklearn/svm/_base.py:297: ConvergenceWarning: Solver terminated early (max_iter=500).  Consider pre-processing your data with StandardScaler or MinMaxScaler.\n",
      "  warnings.warn(\n",
      "/Library/Frameworks/Python.framework/Versions/3.9/lib/python3.9/site-packages/sklearn/svm/_base.py:297: ConvergenceWarning: Solver terminated early (max_iter=500).  Consider pre-processing your data with StandardScaler or MinMaxScaler.\n",
      "  warnings.warn(\n",
      "/Library/Frameworks/Python.framework/Versions/3.9/lib/python3.9/site-packages/sklearn/svm/_base.py:297: ConvergenceWarning: Solver terminated early (max_iter=500).  Consider pre-processing your data with StandardScaler or MinMaxScaler.\n",
      "  warnings.warn(\n",
      "/Library/Frameworks/Python.framework/Versions/3.9/lib/python3.9/site-packages/sklearn/svm/_base.py:297: ConvergenceWarning: Solver terminated early (max_iter=500).  Consider pre-processing your data with StandardScaler or MinMaxScaler.\n",
      "  warnings.warn(\n"
     ]
    },
    {
     "name": "stdout",
     "output_type": "stream",
     "text": [
      "[CV 5/5] END C=10, coef0=1, degree=2, gamma=scale, kernel=linear, max_iter=100000;, score=0.802 total time=   0.2s\n",
      "[CV 1/5] END C=10, coef0=1, degree=2, gamma=scale, kernel=rbf, max_iter=500;, score=0.837 total time=   0.0s\n",
      "[CV 2/5] END C=10, coef0=1, degree=2, gamma=scale, kernel=rbf, max_iter=500;, score=0.820 total time=   0.0s\n",
      "[CV 3/5] END C=10, coef0=1, degree=2, gamma=scale, kernel=rbf, max_iter=500;, score=0.820 total time=   0.0s\n",
      "[CV 4/5] END C=10, coef0=1, degree=2, gamma=scale, kernel=rbf, max_iter=500;, score=0.781 total time=   0.0s\n"
     ]
    },
    {
     "name": "stderr",
     "output_type": "stream",
     "text": [
      "/Library/Frameworks/Python.framework/Versions/3.9/lib/python3.9/site-packages/sklearn/svm/_base.py:297: ConvergenceWarning: Solver terminated early (max_iter=500).  Consider pre-processing your data with StandardScaler or MinMaxScaler.\n",
      "  warnings.warn(\n",
      "/Library/Frameworks/Python.framework/Versions/3.9/lib/python3.9/site-packages/sklearn/svm/_base.py:297: ConvergenceWarning: Solver terminated early (max_iter=1000).  Consider pre-processing your data with StandardScaler or MinMaxScaler.\n",
      "  warnings.warn(\n",
      "/Library/Frameworks/Python.framework/Versions/3.9/lib/python3.9/site-packages/sklearn/svm/_base.py:297: ConvergenceWarning: Solver terminated early (max_iter=1000).  Consider pre-processing your data with StandardScaler or MinMaxScaler.\n",
      "  warnings.warn(\n",
      "/Library/Frameworks/Python.framework/Versions/3.9/lib/python3.9/site-packages/sklearn/svm/_base.py:297: ConvergenceWarning: Solver terminated early (max_iter=1000).  Consider pre-processing your data with StandardScaler or MinMaxScaler.\n",
      "  warnings.warn(\n"
     ]
    },
    {
     "name": "stdout",
     "output_type": "stream",
     "text": [
      "[CV 5/5] END C=10, coef0=1, degree=2, gamma=scale, kernel=rbf, max_iter=500;, score=0.853 total time=   0.1s\n",
      "[CV 1/5] END C=10, coef0=1, degree=2, gamma=scale, kernel=rbf, max_iter=1000;, score=0.837 total time=   0.1s\n",
      "[CV 2/5] END C=10, coef0=1, degree=2, gamma=scale, kernel=rbf, max_iter=1000;, score=0.820 total time=   0.1s\n",
      "[CV 3/5] END C=10, coef0=1, degree=2, gamma=scale, kernel=rbf, max_iter=1000;, score=0.820 total time=   0.1s\n"
     ]
    },
    {
     "name": "stderr",
     "output_type": "stream",
     "text": [
      "/Library/Frameworks/Python.framework/Versions/3.9/lib/python3.9/site-packages/sklearn/svm/_base.py:297: ConvergenceWarning: Solver terminated early (max_iter=1000).  Consider pre-processing your data with StandardScaler or MinMaxScaler.\n",
      "  warnings.warn(\n",
      "/Library/Frameworks/Python.framework/Versions/3.9/lib/python3.9/site-packages/sklearn/svm/_base.py:297: ConvergenceWarning: Solver terminated early (max_iter=1000).  Consider pre-processing your data with StandardScaler or MinMaxScaler.\n",
      "  warnings.warn(\n"
     ]
    },
    {
     "name": "stdout",
     "output_type": "stream",
     "text": [
      "[CV 4/5] END C=10, coef0=1, degree=2, gamma=scale, kernel=rbf, max_iter=1000;, score=0.781 total time=   0.1s\n",
      "[CV 5/5] END C=10, coef0=1, degree=2, gamma=scale, kernel=rbf, max_iter=1000;, score=0.853 total time=   0.1s\n",
      "[CV 1/5] END C=10, coef0=1, degree=2, gamma=scale, kernel=rbf, max_iter=10000;, score=0.837 total time=   0.1s\n",
      "[CV 2/5] END C=10, coef0=1, degree=2, gamma=scale, kernel=rbf, max_iter=10000;, score=0.820 total time=   0.1s\n",
      "[CV 3/5] END C=10, coef0=1, degree=2, gamma=scale, kernel=rbf, max_iter=10000;, score=0.820 total time=   0.1s\n",
      "[CV 4/5] END C=10, coef0=1, degree=2, gamma=scale, kernel=rbf, max_iter=10000;, score=0.781 total time=   0.1s\n",
      "[CV 5/5] END C=10, coef0=1, degree=2, gamma=scale, kernel=rbf, max_iter=10000;, score=0.853 total time=   0.1s\n",
      "[CV 1/5] END C=10, coef0=1, degree=2, gamma=scale, kernel=rbf, max_iter=100000;, score=0.837 total time=   0.1s\n",
      "[CV 2/5] END C=10, coef0=1, degree=2, gamma=scale, kernel=rbf, max_iter=100000;, score=0.820 total time=   0.1s\n",
      "[CV 3/5] END C=10, coef0=1, degree=2, gamma=scale, kernel=rbf, max_iter=100000;, score=0.820 total time=   0.1s\n",
      "[CV 4/5] END C=10, coef0=1, degree=2, gamma=scale, kernel=rbf, max_iter=100000;, score=0.781 total time=   0.1s\n",
      "[CV 5/5] END C=10, coef0=1, degree=2, gamma=scale, kernel=rbf, max_iter=100000;, score=0.853 total time=   0.1s\n"
     ]
    },
    {
     "name": "stderr",
     "output_type": "stream",
     "text": [
      "/Library/Frameworks/Python.framework/Versions/3.9/lib/python3.9/site-packages/sklearn/svm/_base.py:297: ConvergenceWarning: Solver terminated early (max_iter=500).  Consider pre-processing your data with StandardScaler or MinMaxScaler.\n",
      "  warnings.warn(\n",
      "/Library/Frameworks/Python.framework/Versions/3.9/lib/python3.9/site-packages/sklearn/svm/_base.py:297: ConvergenceWarning: Solver terminated early (max_iter=500).  Consider pre-processing your data with StandardScaler or MinMaxScaler.\n",
      "  warnings.warn(\n",
      "/Library/Frameworks/Python.framework/Versions/3.9/lib/python3.9/site-packages/sklearn/svm/_base.py:297: ConvergenceWarning: Solver terminated early (max_iter=500).  Consider pre-processing your data with StandardScaler or MinMaxScaler.\n",
      "  warnings.warn(\n",
      "/Library/Frameworks/Python.framework/Versions/3.9/lib/python3.9/site-packages/sklearn/svm/_base.py:297: ConvergenceWarning: Solver terminated early (max_iter=500).  Consider pre-processing your data with StandardScaler or MinMaxScaler.\n",
      "  warnings.warn(\n",
      "/Library/Frameworks/Python.framework/Versions/3.9/lib/python3.9/site-packages/sklearn/svm/_base.py:297: ConvergenceWarning: Solver terminated early (max_iter=500).  Consider pre-processing your data with StandardScaler or MinMaxScaler.\n",
      "  warnings.warn(\n",
      "/Library/Frameworks/Python.framework/Versions/3.9/lib/python3.9/site-packages/sklearn/svm/_base.py:297: ConvergenceWarning: Solver terminated early (max_iter=1000).  Consider pre-processing your data with StandardScaler or MinMaxScaler.\n",
      "  warnings.warn(\n"
     ]
    },
    {
     "name": "stdout",
     "output_type": "stream",
     "text": [
      "[CV 1/5] END C=10, coef0=1, degree=2, gamma=scale, kernel=poly, max_iter=500;, score=0.831 total time=   0.0s\n",
      "[CV 2/5] END C=10, coef0=1, degree=2, gamma=scale, kernel=poly, max_iter=500;, score=0.826 total time=   0.0s\n",
      "[CV 3/5] END C=10, coef0=1, degree=2, gamma=scale, kernel=poly, max_iter=500;, score=0.820 total time=   0.0s\n",
      "[CV 4/5] END C=10, coef0=1, degree=2, gamma=scale, kernel=poly, max_iter=500;, score=0.792 total time=   0.0s\n",
      "[CV 5/5] END C=10, coef0=1, degree=2, gamma=scale, kernel=poly, max_iter=500;, score=0.853 total time=   0.0s\n",
      "[CV 1/5] END C=10, coef0=1, degree=2, gamma=scale, kernel=poly, max_iter=1000;, score=0.843 total time=   0.0s\n"
     ]
    },
    {
     "name": "stderr",
     "output_type": "stream",
     "text": [
      "/Library/Frameworks/Python.framework/Versions/3.9/lib/python3.9/site-packages/sklearn/svm/_base.py:297: ConvergenceWarning: Solver terminated early (max_iter=1000).  Consider pre-processing your data with StandardScaler or MinMaxScaler.\n",
      "  warnings.warn(\n",
      "/Library/Frameworks/Python.framework/Versions/3.9/lib/python3.9/site-packages/sklearn/svm/_base.py:297: ConvergenceWarning: Solver terminated early (max_iter=1000).  Consider pre-processing your data with StandardScaler or MinMaxScaler.\n",
      "  warnings.warn(\n",
      "/Library/Frameworks/Python.framework/Versions/3.9/lib/python3.9/site-packages/sklearn/svm/_base.py:297: ConvergenceWarning: Solver terminated early (max_iter=1000).  Consider pre-processing your data with StandardScaler or MinMaxScaler.\n",
      "  warnings.warn(\n",
      "/Library/Frameworks/Python.framework/Versions/3.9/lib/python3.9/site-packages/sklearn/svm/_base.py:297: ConvergenceWarning: Solver terminated early (max_iter=1000).  Consider pre-processing your data with StandardScaler or MinMaxScaler.\n",
      "  warnings.warn(\n",
      "/Library/Frameworks/Python.framework/Versions/3.9/lib/python3.9/site-packages/sklearn/svm/_base.py:297: ConvergenceWarning: Solver terminated early (max_iter=10000).  Consider pre-processing your data with StandardScaler or MinMaxScaler.\n",
      "  warnings.warn(\n"
     ]
    },
    {
     "name": "stdout",
     "output_type": "stream",
     "text": [
      "[CV 2/5] END C=10, coef0=1, degree=2, gamma=scale, kernel=poly, max_iter=1000;, score=0.815 total time=   0.0s\n",
      "[CV 3/5] END C=10, coef0=1, degree=2, gamma=scale, kernel=poly, max_iter=1000;, score=0.820 total time=   0.0s\n",
      "[CV 4/5] END C=10, coef0=1, degree=2, gamma=scale, kernel=poly, max_iter=1000;, score=0.792 total time=   0.0s\n",
      "[CV 5/5] END C=10, coef0=1, degree=2, gamma=scale, kernel=poly, max_iter=1000;, score=0.847 total time=   0.0s\n",
      "[CV 1/5] END C=10, coef0=1, degree=2, gamma=scale, kernel=poly, max_iter=10000;, score=0.843 total time=   0.1s\n",
      "[CV 2/5] END C=10, coef0=1, degree=2, gamma=scale, kernel=poly, max_iter=10000;, score=0.815 total time=   0.1s\n",
      "[CV 3/5] END C=10, coef0=1, degree=2, gamma=scale, kernel=poly, max_iter=10000;, score=0.820 total time=   0.1s\n",
      "[CV 4/5] END C=10, coef0=1, degree=2, gamma=scale, kernel=poly, max_iter=10000;, score=0.792 total time=   0.1s\n",
      "[CV 5/5] END C=10, coef0=1, degree=2, gamma=scale, kernel=poly, max_iter=10000;, score=0.842 total time=   0.1s\n",
      "[CV 1/5] END C=10, coef0=1, degree=2, gamma=scale, kernel=poly, max_iter=100000;, score=0.843 total time=   0.1s\n",
      "[CV 2/5] END C=10, coef0=1, degree=2, gamma=scale, kernel=poly, max_iter=100000;, score=0.815 total time=   0.1s\n",
      "[CV 3/5] END C=10, coef0=1, degree=2, gamma=scale, kernel=poly, max_iter=100000;, score=0.820 total time=   0.1s\n",
      "[CV 4/5] END C=10, coef0=1, degree=2, gamma=scale, kernel=poly, max_iter=100000;, score=0.792 total time=   0.1s\n",
      "[CV 5/5] END C=10, coef0=1, degree=2, gamma=scale, kernel=poly, max_iter=100000;, score=0.842 total time=   0.1s\n",
      "[CV 1/5] END C=10, coef0=1, degree=3, gamma=scale, kernel=linear, max_iter=500;, score=0.680 total time=   0.0s\n",
      "[CV 2/5] END C=10, coef0=1, degree=3, gamma=scale, kernel=linear, max_iter=500;, score=0.511 total time=   0.0s\n",
      "[CV 3/5] END C=10, coef0=1, degree=3, gamma=scale, kernel=linear, max_iter=500;, score=0.376 total time=   0.0s\n",
      "[CV 4/5] END C=10, coef0=1, degree=3, gamma=scale, kernel=linear, max_iter=500;, score=0.281 total time=   0.0s\n"
     ]
    },
    {
     "name": "stderr",
     "output_type": "stream",
     "text": [
      "/Library/Frameworks/Python.framework/Versions/3.9/lib/python3.9/site-packages/sklearn/svm/_base.py:297: ConvergenceWarning: Solver terminated early (max_iter=500).  Consider pre-processing your data with StandardScaler or MinMaxScaler.\n",
      "  warnings.warn(\n",
      "/Library/Frameworks/Python.framework/Versions/3.9/lib/python3.9/site-packages/sklearn/svm/_base.py:297: ConvergenceWarning: Solver terminated early (max_iter=500).  Consider pre-processing your data with StandardScaler or MinMaxScaler.\n",
      "  warnings.warn(\n",
      "/Library/Frameworks/Python.framework/Versions/3.9/lib/python3.9/site-packages/sklearn/svm/_base.py:297: ConvergenceWarning: Solver terminated early (max_iter=500).  Consider pre-processing your data with StandardScaler or MinMaxScaler.\n",
      "  warnings.warn(\n",
      "/Library/Frameworks/Python.framework/Versions/3.9/lib/python3.9/site-packages/sklearn/svm/_base.py:297: ConvergenceWarning: Solver terminated early (max_iter=500).  Consider pre-processing your data with StandardScaler or MinMaxScaler.\n",
      "  warnings.warn(\n",
      "/Library/Frameworks/Python.framework/Versions/3.9/lib/python3.9/site-packages/sklearn/svm/_base.py:297: ConvergenceWarning: Solver terminated early (max_iter=500).  Consider pre-processing your data with StandardScaler or MinMaxScaler.\n",
      "  warnings.warn(\n",
      "/Library/Frameworks/Python.framework/Versions/3.9/lib/python3.9/site-packages/sklearn/svm/_base.py:297: ConvergenceWarning: Solver terminated early (max_iter=1000).  Consider pre-processing your data with StandardScaler or MinMaxScaler.\n",
      "  warnings.warn(\n"
     ]
    },
    {
     "name": "stdout",
     "output_type": "stream",
     "text": [
      "[CV 5/5] END C=10, coef0=1, degree=3, gamma=scale, kernel=linear, max_iter=500;, score=0.407 total time=   0.0s\n",
      "[CV 1/5] END C=10, coef0=1, degree=3, gamma=scale, kernel=linear, max_iter=1000;, score=0.775 total time=   0.0s\n",
      "[CV 2/5] END C=10, coef0=1, degree=3, gamma=scale, kernel=linear, max_iter=1000;, score=0.803 total time=   0.0s\n",
      "[CV 3/5] END C=10, coef0=1, degree=3, gamma=scale, kernel=linear, max_iter=1000;, score=0.775 total time=   0.0s\n",
      "[CV 4/5] END C=10, coef0=1, degree=3, gamma=scale, kernel=linear, max_iter=1000;, score=0.787 total time=   0.0s\n"
     ]
    },
    {
     "name": "stderr",
     "output_type": "stream",
     "text": [
      "/Library/Frameworks/Python.framework/Versions/3.9/lib/python3.9/site-packages/sklearn/svm/_base.py:297: ConvergenceWarning: Solver terminated early (max_iter=1000).  Consider pre-processing your data with StandardScaler or MinMaxScaler.\n",
      "  warnings.warn(\n",
      "/Library/Frameworks/Python.framework/Versions/3.9/lib/python3.9/site-packages/sklearn/svm/_base.py:297: ConvergenceWarning: Solver terminated early (max_iter=1000).  Consider pre-processing your data with StandardScaler or MinMaxScaler.\n",
      "  warnings.warn(\n",
      "/Library/Frameworks/Python.framework/Versions/3.9/lib/python3.9/site-packages/sklearn/svm/_base.py:297: ConvergenceWarning: Solver terminated early (max_iter=1000).  Consider pre-processing your data with StandardScaler or MinMaxScaler.\n",
      "  warnings.warn(\n",
      "/Library/Frameworks/Python.framework/Versions/3.9/lib/python3.9/site-packages/sklearn/svm/_base.py:297: ConvergenceWarning: Solver terminated early (max_iter=1000).  Consider pre-processing your data with StandardScaler or MinMaxScaler.\n",
      "  warnings.warn(\n"
     ]
    },
    {
     "name": "stdout",
     "output_type": "stream",
     "text": [
      "[CV 5/5] END C=10, coef0=1, degree=3, gamma=scale, kernel=linear, max_iter=1000;, score=0.797 total time=   0.0s\n",
      "[CV 1/5] END C=10, coef0=1, degree=3, gamma=scale, kernel=linear, max_iter=10000;, score=0.820 total time=   0.1s\n",
      "[CV 2/5] END C=10, coef0=1, degree=3, gamma=scale, kernel=linear, max_iter=10000;, score=0.815 total time=   0.1s\n"
     ]
    },
    {
     "name": "stderr",
     "output_type": "stream",
     "text": [
      "/Library/Frameworks/Python.framework/Versions/3.9/lib/python3.9/site-packages/sklearn/svm/_base.py:297: ConvergenceWarning: Solver terminated early (max_iter=10000).  Consider pre-processing your data with StandardScaler or MinMaxScaler.\n",
      "  warnings.warn(\n",
      "/Library/Frameworks/Python.framework/Versions/3.9/lib/python3.9/site-packages/sklearn/svm/_base.py:297: ConvergenceWarning: Solver terminated early (max_iter=10000).  Consider pre-processing your data with StandardScaler or MinMaxScaler.\n",
      "  warnings.warn(\n",
      "/Library/Frameworks/Python.framework/Versions/3.9/lib/python3.9/site-packages/sklearn/svm/_base.py:297: ConvergenceWarning: Solver terminated early (max_iter=10000).  Consider pre-processing your data with StandardScaler or MinMaxScaler.\n",
      "  warnings.warn(\n"
     ]
    },
    {
     "name": "stdout",
     "output_type": "stream",
     "text": [
      "[CV 3/5] END C=10, coef0=1, degree=3, gamma=scale, kernel=linear, max_iter=10000;, score=0.798 total time=   0.1s\n",
      "[CV 4/5] END C=10, coef0=1, degree=3, gamma=scale, kernel=linear, max_iter=10000;, score=0.770 total time=   0.1s\n"
     ]
    },
    {
     "name": "stderr",
     "output_type": "stream",
     "text": [
      "/Library/Frameworks/Python.framework/Versions/3.9/lib/python3.9/site-packages/sklearn/svm/_base.py:297: ConvergenceWarning: Solver terminated early (max_iter=10000).  Consider pre-processing your data with StandardScaler or MinMaxScaler.\n",
      "  warnings.warn(\n",
      "/Library/Frameworks/Python.framework/Versions/3.9/lib/python3.9/site-packages/sklearn/svm/_base.py:297: ConvergenceWarning: Solver terminated early (max_iter=10000).  Consider pre-processing your data with StandardScaler or MinMaxScaler.\n",
      "  warnings.warn(\n"
     ]
    },
    {
     "name": "stdout",
     "output_type": "stream",
     "text": [
      "[CV 5/5] END C=10, coef0=1, degree=3, gamma=scale, kernel=linear, max_iter=10000;, score=0.797 total time=   0.1s\n",
      "[CV 1/5] END C=10, coef0=1, degree=3, gamma=scale, kernel=linear, max_iter=100000;, score=0.815 total time=   0.1s\n"
     ]
    },
    {
     "name": "stderr",
     "output_type": "stream",
     "text": [
      "/Library/Frameworks/Python.framework/Versions/3.9/lib/python3.9/site-packages/sklearn/svm/_base.py:297: ConvergenceWarning: Solver terminated early (max_iter=100000).  Consider pre-processing your data with StandardScaler or MinMaxScaler.\n",
      "  warnings.warn(\n"
     ]
    },
    {
     "name": "stdout",
     "output_type": "stream",
     "text": [
      "[CV 2/5] END C=10, coef0=1, degree=3, gamma=scale, kernel=linear, max_iter=100000;, score=0.815 total time=   0.1s\n",
      "[CV 3/5] END C=10, coef0=1, degree=3, gamma=scale, kernel=linear, max_iter=100000;, score=0.798 total time=   0.1s\n"
     ]
    },
    {
     "name": "stderr",
     "output_type": "stream",
     "text": [
      "/Library/Frameworks/Python.framework/Versions/3.9/lib/python3.9/site-packages/sklearn/svm/_base.py:297: ConvergenceWarning: Solver terminated early (max_iter=100000).  Consider pre-processing your data with StandardScaler or MinMaxScaler.\n",
      "  warnings.warn(\n"
     ]
    },
    {
     "name": "stdout",
     "output_type": "stream",
     "text": [
      "[CV 4/5] END C=10, coef0=1, degree=3, gamma=scale, kernel=linear, max_iter=100000;, score=0.770 total time=   0.2s\n"
     ]
    },
    {
     "name": "stderr",
     "output_type": "stream",
     "text": [
      "/Library/Frameworks/Python.framework/Versions/3.9/lib/python3.9/site-packages/sklearn/svm/_base.py:297: ConvergenceWarning: Solver terminated early (max_iter=100000).  Consider pre-processing your data with StandardScaler or MinMaxScaler.\n",
      "  warnings.warn(\n",
      "/Library/Frameworks/Python.framework/Versions/3.9/lib/python3.9/site-packages/sklearn/svm/_base.py:297: ConvergenceWarning: Solver terminated early (max_iter=500).  Consider pre-processing your data with StandardScaler or MinMaxScaler.\n",
      "  warnings.warn(\n",
      "/Library/Frameworks/Python.framework/Versions/3.9/lib/python3.9/site-packages/sklearn/svm/_base.py:297: ConvergenceWarning: Solver terminated early (max_iter=500).  Consider pre-processing your data with StandardScaler or MinMaxScaler.\n",
      "  warnings.warn(\n",
      "/Library/Frameworks/Python.framework/Versions/3.9/lib/python3.9/site-packages/sklearn/svm/_base.py:297: ConvergenceWarning: Solver terminated early (max_iter=500).  Consider pre-processing your data with StandardScaler or MinMaxScaler.\n",
      "  warnings.warn(\n",
      "/Library/Frameworks/Python.framework/Versions/3.9/lib/python3.9/site-packages/sklearn/svm/_base.py:297: ConvergenceWarning: Solver terminated early (max_iter=500).  Consider pre-processing your data with StandardScaler or MinMaxScaler.\n",
      "  warnings.warn(\n"
     ]
    },
    {
     "name": "stdout",
     "output_type": "stream",
     "text": [
      "[CV 5/5] END C=10, coef0=1, degree=3, gamma=scale, kernel=linear, max_iter=100000;, score=0.802 total time=   0.2s\n",
      "[CV 1/5] END C=10, coef0=1, degree=3, gamma=scale, kernel=rbf, max_iter=500;, score=0.837 total time=   0.0s\n",
      "[CV 2/5] END C=10, coef0=1, degree=3, gamma=scale, kernel=rbf, max_iter=500;, score=0.820 total time=   0.0s\n",
      "[CV 3/5] END C=10, coef0=1, degree=3, gamma=scale, kernel=rbf, max_iter=500;, score=0.820 total time=   0.0s\n",
      "[CV 4/5] END C=10, coef0=1, degree=3, gamma=scale, kernel=rbf, max_iter=500;, score=0.781 total time=   0.0s\n"
     ]
    },
    {
     "name": "stderr",
     "output_type": "stream",
     "text": [
      "/Library/Frameworks/Python.framework/Versions/3.9/lib/python3.9/site-packages/sklearn/svm/_base.py:297: ConvergenceWarning: Solver terminated early (max_iter=500).  Consider pre-processing your data with StandardScaler or MinMaxScaler.\n",
      "  warnings.warn(\n",
      "/Library/Frameworks/Python.framework/Versions/3.9/lib/python3.9/site-packages/sklearn/svm/_base.py:297: ConvergenceWarning: Solver terminated early (max_iter=1000).  Consider pre-processing your data with StandardScaler or MinMaxScaler.\n",
      "  warnings.warn(\n",
      "/Library/Frameworks/Python.framework/Versions/3.9/lib/python3.9/site-packages/sklearn/svm/_base.py:297: ConvergenceWarning: Solver terminated early (max_iter=1000).  Consider pre-processing your data with StandardScaler or MinMaxScaler.\n",
      "  warnings.warn(\n",
      "/Library/Frameworks/Python.framework/Versions/3.9/lib/python3.9/site-packages/sklearn/svm/_base.py:297: ConvergenceWarning: Solver terminated early (max_iter=1000).  Consider pre-processing your data with StandardScaler or MinMaxScaler.\n",
      "  warnings.warn(\n"
     ]
    },
    {
     "name": "stdout",
     "output_type": "stream",
     "text": [
      "[CV 5/5] END C=10, coef0=1, degree=3, gamma=scale, kernel=rbf, max_iter=500;, score=0.853 total time=   0.0s\n",
      "[CV 1/5] END C=10, coef0=1, degree=3, gamma=scale, kernel=rbf, max_iter=1000;, score=0.837 total time=   0.1s\n",
      "[CV 2/5] END C=10, coef0=1, degree=3, gamma=scale, kernel=rbf, max_iter=1000;, score=0.820 total time=   0.1s\n",
      "[CV 3/5] END C=10, coef0=1, degree=3, gamma=scale, kernel=rbf, max_iter=1000;, score=0.820 total time=   0.1s\n"
     ]
    },
    {
     "name": "stderr",
     "output_type": "stream",
     "text": [
      "/Library/Frameworks/Python.framework/Versions/3.9/lib/python3.9/site-packages/sklearn/svm/_base.py:297: ConvergenceWarning: Solver terminated early (max_iter=1000).  Consider pre-processing your data with StandardScaler or MinMaxScaler.\n",
      "  warnings.warn(\n",
      "/Library/Frameworks/Python.framework/Versions/3.9/lib/python3.9/site-packages/sklearn/svm/_base.py:297: ConvergenceWarning: Solver terminated early (max_iter=1000).  Consider pre-processing your data with StandardScaler or MinMaxScaler.\n",
      "  warnings.warn(\n"
     ]
    },
    {
     "name": "stdout",
     "output_type": "stream",
     "text": [
      "[CV 4/5] END C=10, coef0=1, degree=3, gamma=scale, kernel=rbf, max_iter=1000;, score=0.781 total time=   0.1s\n",
      "[CV 5/5] END C=10, coef0=1, degree=3, gamma=scale, kernel=rbf, max_iter=1000;, score=0.853 total time=   0.1s\n",
      "[CV 1/5] END C=10, coef0=1, degree=3, gamma=scale, kernel=rbf, max_iter=10000;, score=0.837 total time=   0.1s\n",
      "[CV 2/5] END C=10, coef0=1, degree=3, gamma=scale, kernel=rbf, max_iter=10000;, score=0.820 total time=   0.1s\n",
      "[CV 3/5] END C=10, coef0=1, degree=3, gamma=scale, kernel=rbf, max_iter=10000;, score=0.820 total time=   0.1s\n",
      "[CV 4/5] END C=10, coef0=1, degree=3, gamma=scale, kernel=rbf, max_iter=10000;, score=0.781 total time=   0.1s\n",
      "[CV 5/5] END C=10, coef0=1, degree=3, gamma=scale, kernel=rbf, max_iter=10000;, score=0.853 total time=   0.1s\n",
      "[CV 1/5] END C=10, coef0=1, degree=3, gamma=scale, kernel=rbf, max_iter=100000;, score=0.837 total time=   0.1s\n",
      "[CV 2/5] END C=10, coef0=1, degree=3, gamma=scale, kernel=rbf, max_iter=100000;, score=0.820 total time=   0.1s\n",
      "[CV 3/5] END C=10, coef0=1, degree=3, gamma=scale, kernel=rbf, max_iter=100000;, score=0.820 total time=   0.1s\n",
      "[CV 4/5] END C=10, coef0=1, degree=3, gamma=scale, kernel=rbf, max_iter=100000;, score=0.781 total time=   0.1s\n",
      "[CV 5/5] END C=10, coef0=1, degree=3, gamma=scale, kernel=rbf, max_iter=100000;, score=0.853 total time=   0.1s\n"
     ]
    },
    {
     "name": "stderr",
     "output_type": "stream",
     "text": [
      "/Library/Frameworks/Python.framework/Versions/3.9/lib/python3.9/site-packages/sklearn/svm/_base.py:297: ConvergenceWarning: Solver terminated early (max_iter=500).  Consider pre-processing your data with StandardScaler or MinMaxScaler.\n",
      "  warnings.warn(\n",
      "/Library/Frameworks/Python.framework/Versions/3.9/lib/python3.9/site-packages/sklearn/svm/_base.py:297: ConvergenceWarning: Solver terminated early (max_iter=500).  Consider pre-processing your data with StandardScaler or MinMaxScaler.\n",
      "  warnings.warn(\n",
      "/Library/Frameworks/Python.framework/Versions/3.9/lib/python3.9/site-packages/sklearn/svm/_base.py:297: ConvergenceWarning: Solver terminated early (max_iter=500).  Consider pre-processing your data with StandardScaler or MinMaxScaler.\n",
      "  warnings.warn(\n",
      "/Library/Frameworks/Python.framework/Versions/3.9/lib/python3.9/site-packages/sklearn/svm/_base.py:297: ConvergenceWarning: Solver terminated early (max_iter=500).  Consider pre-processing your data with StandardScaler or MinMaxScaler.\n",
      "  warnings.warn(\n",
      "/Library/Frameworks/Python.framework/Versions/3.9/lib/python3.9/site-packages/sklearn/svm/_base.py:297: ConvergenceWarning: Solver terminated early (max_iter=500).  Consider pre-processing your data with StandardScaler or MinMaxScaler.\n",
      "  warnings.warn(\n",
      "/Library/Frameworks/Python.framework/Versions/3.9/lib/python3.9/site-packages/sklearn/svm/_base.py:297: ConvergenceWarning: Solver terminated early (max_iter=1000).  Consider pre-processing your data with StandardScaler or MinMaxScaler.\n",
      "  warnings.warn(\n"
     ]
    },
    {
     "name": "stdout",
     "output_type": "stream",
     "text": [
      "[CV 1/5] END C=10, coef0=1, degree=3, gamma=scale, kernel=poly, max_iter=500;, score=0.657 total time=   0.0s\n",
      "[CV 2/5] END C=10, coef0=1, degree=3, gamma=scale, kernel=poly, max_iter=500;, score=0.618 total time=   0.0s\n",
      "[CV 3/5] END C=10, coef0=1, degree=3, gamma=scale, kernel=poly, max_iter=500;, score=0.449 total time=   0.0s\n",
      "[CV 4/5] END C=10, coef0=1, degree=3, gamma=scale, kernel=poly, max_iter=500;, score=0.742 total time=   0.0s\n",
      "[CV 5/5] END C=10, coef0=1, degree=3, gamma=scale, kernel=poly, max_iter=500;, score=0.695 total time=   0.0s\n",
      "[CV 1/5] END C=10, coef0=1, degree=3, gamma=scale, kernel=poly, max_iter=1000;, score=0.787 total time=   0.0s\n"
     ]
    },
    {
     "name": "stderr",
     "output_type": "stream",
     "text": [
      "/Library/Frameworks/Python.framework/Versions/3.9/lib/python3.9/site-packages/sklearn/svm/_base.py:297: ConvergenceWarning: Solver terminated early (max_iter=1000).  Consider pre-processing your data with StandardScaler or MinMaxScaler.\n",
      "  warnings.warn(\n",
      "/Library/Frameworks/Python.framework/Versions/3.9/lib/python3.9/site-packages/sklearn/svm/_base.py:297: ConvergenceWarning: Solver terminated early (max_iter=1000).  Consider pre-processing your data with StandardScaler or MinMaxScaler.\n",
      "  warnings.warn(\n",
      "/Library/Frameworks/Python.framework/Versions/3.9/lib/python3.9/site-packages/sklearn/svm/_base.py:297: ConvergenceWarning: Solver terminated early (max_iter=1000).  Consider pre-processing your data with StandardScaler or MinMaxScaler.\n",
      "  warnings.warn(\n",
      "/Library/Frameworks/Python.framework/Versions/3.9/lib/python3.9/site-packages/sklearn/svm/_base.py:297: ConvergenceWarning: Solver terminated early (max_iter=1000).  Consider pre-processing your data with StandardScaler or MinMaxScaler.\n",
      "  warnings.warn(\n"
     ]
    },
    {
     "name": "stdout",
     "output_type": "stream",
     "text": [
      "[CV 2/5] END C=10, coef0=1, degree=3, gamma=scale, kernel=poly, max_iter=1000;, score=0.826 total time=   0.0s\n",
      "[CV 3/5] END C=10, coef0=1, degree=3, gamma=scale, kernel=poly, max_iter=1000;, score=0.820 total time=   0.0s\n",
      "[CV 4/5] END C=10, coef0=1, degree=3, gamma=scale, kernel=poly, max_iter=1000;, score=0.787 total time=   0.0s\n",
      "[CV 5/5] END C=10, coef0=1, degree=3, gamma=scale, kernel=poly, max_iter=1000;, score=0.847 total time=   0.0s\n"
     ]
    },
    {
     "name": "stderr",
     "output_type": "stream",
     "text": [
      "/Library/Frameworks/Python.framework/Versions/3.9/lib/python3.9/site-packages/sklearn/svm/_base.py:297: ConvergenceWarning: Solver terminated early (max_iter=10000).  Consider pre-processing your data with StandardScaler or MinMaxScaler.\n",
      "  warnings.warn(\n",
      "/Library/Frameworks/Python.framework/Versions/3.9/lib/python3.9/site-packages/sklearn/svm/_base.py:297: ConvergenceWarning: Solver terminated early (max_iter=10000).  Consider pre-processing your data with StandardScaler or MinMaxScaler.\n",
      "  warnings.warn(\n"
     ]
    },
    {
     "name": "stdout",
     "output_type": "stream",
     "text": [
      "[CV 1/5] END C=10, coef0=1, degree=3, gamma=scale, kernel=poly, max_iter=10000;, score=0.809 total time=   0.1s\n",
      "[CV 2/5] END C=10, coef0=1, degree=3, gamma=scale, kernel=poly, max_iter=10000;, score=0.826 total time=   0.1s\n"
     ]
    },
    {
     "name": "stderr",
     "output_type": "stream",
     "text": [
      "/Library/Frameworks/Python.framework/Versions/3.9/lib/python3.9/site-packages/sklearn/svm/_base.py:297: ConvergenceWarning: Solver terminated early (max_iter=10000).  Consider pre-processing your data with StandardScaler or MinMaxScaler.\n",
      "  warnings.warn(\n",
      "/Library/Frameworks/Python.framework/Versions/3.9/lib/python3.9/site-packages/sklearn/svm/_base.py:297: ConvergenceWarning: Solver terminated early (max_iter=10000).  Consider pre-processing your data with StandardScaler or MinMaxScaler.\n",
      "  warnings.warn(\n"
     ]
    },
    {
     "name": "stdout",
     "output_type": "stream",
     "text": [
      "[CV 3/5] END C=10, coef0=1, degree=3, gamma=scale, kernel=poly, max_iter=10000;, score=0.815 total time=   0.1s\n",
      "[CV 4/5] END C=10, coef0=1, degree=3, gamma=scale, kernel=poly, max_iter=10000;, score=0.770 total time=   0.1s\n"
     ]
    },
    {
     "name": "stderr",
     "output_type": "stream",
     "text": [
      "/Library/Frameworks/Python.framework/Versions/3.9/lib/python3.9/site-packages/sklearn/svm/_base.py:297: ConvergenceWarning: Solver terminated early (max_iter=10000).  Consider pre-processing your data with StandardScaler or MinMaxScaler.\n",
      "  warnings.warn(\n"
     ]
    },
    {
     "name": "stdout",
     "output_type": "stream",
     "text": [
      "[CV 5/5] END C=10, coef0=1, degree=3, gamma=scale, kernel=poly, max_iter=10000;, score=0.853 total time=   0.1s\n",
      "[CV 1/5] END C=10, coef0=1, degree=3, gamma=scale, kernel=poly, max_iter=100000;, score=0.809 total time=   0.1s\n",
      "[CV 2/5] END C=10, coef0=1, degree=3, gamma=scale, kernel=poly, max_iter=100000;, score=0.826 total time=   0.1s\n",
      "[CV 3/5] END C=10, coef0=1, degree=3, gamma=scale, kernel=poly, max_iter=100000;, score=0.815 total time=   0.2s\n",
      "[CV 4/5] END C=10, coef0=1, degree=3, gamma=scale, kernel=poly, max_iter=100000;, score=0.770 total time=   0.1s\n",
      "[CV 5/5] END C=10, coef0=1, degree=3, gamma=scale, kernel=poly, max_iter=100000;, score=0.853 total time=   0.1s\n",
      "[CV 1/5] END C=10, coef0=1, degree=4, gamma=scale, kernel=linear, max_iter=500;, score=0.680 total time=   0.0s\n"
     ]
    },
    {
     "name": "stderr",
     "output_type": "stream",
     "text": [
      "/Library/Frameworks/Python.framework/Versions/3.9/lib/python3.9/site-packages/sklearn/svm/_base.py:297: ConvergenceWarning: Solver terminated early (max_iter=500).  Consider pre-processing your data with StandardScaler or MinMaxScaler.\n",
      "  warnings.warn(\n",
      "/Library/Frameworks/Python.framework/Versions/3.9/lib/python3.9/site-packages/sklearn/svm/_base.py:297: ConvergenceWarning: Solver terminated early (max_iter=500).  Consider pre-processing your data with StandardScaler or MinMaxScaler.\n",
      "  warnings.warn(\n",
      "/Library/Frameworks/Python.framework/Versions/3.9/lib/python3.9/site-packages/sklearn/svm/_base.py:297: ConvergenceWarning: Solver terminated early (max_iter=500).  Consider pre-processing your data with StandardScaler or MinMaxScaler.\n",
      "  warnings.warn(\n",
      "/Library/Frameworks/Python.framework/Versions/3.9/lib/python3.9/site-packages/sklearn/svm/_base.py:297: ConvergenceWarning: Solver terminated early (max_iter=500).  Consider pre-processing your data with StandardScaler or MinMaxScaler.\n",
      "  warnings.warn(\n",
      "/Library/Frameworks/Python.framework/Versions/3.9/lib/python3.9/site-packages/sklearn/svm/_base.py:297: ConvergenceWarning: Solver terminated early (max_iter=500).  Consider pre-processing your data with StandardScaler or MinMaxScaler.\n",
      "  warnings.warn(\n",
      "/Library/Frameworks/Python.framework/Versions/3.9/lib/python3.9/site-packages/sklearn/svm/_base.py:297: ConvergenceWarning: Solver terminated early (max_iter=1000).  Consider pre-processing your data with StandardScaler or MinMaxScaler.\n",
      "  warnings.warn(\n"
     ]
    },
    {
     "name": "stdout",
     "output_type": "stream",
     "text": [
      "[CV 2/5] END C=10, coef0=1, degree=4, gamma=scale, kernel=linear, max_iter=500;, score=0.511 total time=   0.0s\n",
      "[CV 3/5] END C=10, coef0=1, degree=4, gamma=scale, kernel=linear, max_iter=500;, score=0.376 total time=   0.0s\n",
      "[CV 4/5] END C=10, coef0=1, degree=4, gamma=scale, kernel=linear, max_iter=500;, score=0.281 total time=   0.0s\n",
      "[CV 5/5] END C=10, coef0=1, degree=4, gamma=scale, kernel=linear, max_iter=500;, score=0.407 total time=   0.0s\n",
      "[CV 1/5] END C=10, coef0=1, degree=4, gamma=scale, kernel=linear, max_iter=1000;, score=0.775 total time=   0.0s\n",
      "[CV 2/5] END C=10, coef0=1, degree=4, gamma=scale, kernel=linear, max_iter=1000;, score=0.803 total time=   0.0s\n"
     ]
    },
    {
     "name": "stderr",
     "output_type": "stream",
     "text": [
      "/Library/Frameworks/Python.framework/Versions/3.9/lib/python3.9/site-packages/sklearn/svm/_base.py:297: ConvergenceWarning: Solver terminated early (max_iter=1000).  Consider pre-processing your data with StandardScaler or MinMaxScaler.\n",
      "  warnings.warn(\n",
      "/Library/Frameworks/Python.framework/Versions/3.9/lib/python3.9/site-packages/sklearn/svm/_base.py:297: ConvergenceWarning: Solver terminated early (max_iter=1000).  Consider pre-processing your data with StandardScaler or MinMaxScaler.\n",
      "  warnings.warn(\n",
      "/Library/Frameworks/Python.framework/Versions/3.9/lib/python3.9/site-packages/sklearn/svm/_base.py:297: ConvergenceWarning: Solver terminated early (max_iter=1000).  Consider pre-processing your data with StandardScaler or MinMaxScaler.\n",
      "  warnings.warn(\n",
      "/Library/Frameworks/Python.framework/Versions/3.9/lib/python3.9/site-packages/sklearn/svm/_base.py:297: ConvergenceWarning: Solver terminated early (max_iter=1000).  Consider pre-processing your data with StandardScaler or MinMaxScaler.\n",
      "  warnings.warn(\n"
     ]
    },
    {
     "name": "stdout",
     "output_type": "stream",
     "text": [
      "[CV 3/5] END C=10, coef0=1, degree=4, gamma=scale, kernel=linear, max_iter=1000;, score=0.775 total time=   0.0s\n",
      "[CV 4/5] END C=10, coef0=1, degree=4, gamma=scale, kernel=linear, max_iter=1000;, score=0.787 total time=   0.0s\n",
      "[CV 5/5] END C=10, coef0=1, degree=4, gamma=scale, kernel=linear, max_iter=1000;, score=0.797 total time=   0.0s\n",
      "[CV 1/5] END C=10, coef0=1, degree=4, gamma=scale, kernel=linear, max_iter=10000;, score=0.820 total time=   0.1s\n"
     ]
    },
    {
     "name": "stderr",
     "output_type": "stream",
     "text": [
      "/Library/Frameworks/Python.framework/Versions/3.9/lib/python3.9/site-packages/sklearn/svm/_base.py:297: ConvergenceWarning: Solver terminated early (max_iter=10000).  Consider pre-processing your data with StandardScaler or MinMaxScaler.\n",
      "  warnings.warn(\n",
      "/Library/Frameworks/Python.framework/Versions/3.9/lib/python3.9/site-packages/sklearn/svm/_base.py:297: ConvergenceWarning: Solver terminated early (max_iter=10000).  Consider pre-processing your data with StandardScaler or MinMaxScaler.\n",
      "  warnings.warn(\n",
      "/Library/Frameworks/Python.framework/Versions/3.9/lib/python3.9/site-packages/sklearn/svm/_base.py:297: ConvergenceWarning: Solver terminated early (max_iter=10000).  Consider pre-processing your data with StandardScaler or MinMaxScaler.\n",
      "  warnings.warn(\n"
     ]
    },
    {
     "name": "stdout",
     "output_type": "stream",
     "text": [
      "[CV 2/5] END C=10, coef0=1, degree=4, gamma=scale, kernel=linear, max_iter=10000;, score=0.815 total time=   0.1s\n",
      "[CV 3/5] END C=10, coef0=1, degree=4, gamma=scale, kernel=linear, max_iter=10000;, score=0.798 total time=   0.1s\n"
     ]
    },
    {
     "name": "stderr",
     "output_type": "stream",
     "text": [
      "/Library/Frameworks/Python.framework/Versions/3.9/lib/python3.9/site-packages/sklearn/svm/_base.py:297: ConvergenceWarning: Solver terminated early (max_iter=10000).  Consider pre-processing your data with StandardScaler or MinMaxScaler.\n",
      "  warnings.warn(\n",
      "/Library/Frameworks/Python.framework/Versions/3.9/lib/python3.9/site-packages/sklearn/svm/_base.py:297: ConvergenceWarning: Solver terminated early (max_iter=10000).  Consider pre-processing your data with StandardScaler or MinMaxScaler.\n",
      "  warnings.warn(\n"
     ]
    },
    {
     "name": "stdout",
     "output_type": "stream",
     "text": [
      "[CV 4/5] END C=10, coef0=1, degree=4, gamma=scale, kernel=linear, max_iter=10000;, score=0.770 total time=   0.1s\n",
      "[CV 5/5] END C=10, coef0=1, degree=4, gamma=scale, kernel=linear, max_iter=10000;, score=0.797 total time=   0.2s\n",
      "[CV 1/5] END C=10, coef0=1, degree=4, gamma=scale, kernel=linear, max_iter=100000;, score=0.815 total time=   0.1s\n",
      "[CV 2/5] END C=10, coef0=1, degree=4, gamma=scale, kernel=linear, max_iter=100000;, score=0.815 total time=   0.1s\n"
     ]
    },
    {
     "name": "stderr",
     "output_type": "stream",
     "text": [
      "/Library/Frameworks/Python.framework/Versions/3.9/lib/python3.9/site-packages/sklearn/svm/_base.py:297: ConvergenceWarning: Solver terminated early (max_iter=100000).  Consider pre-processing your data with StandardScaler or MinMaxScaler.\n",
      "  warnings.warn(\n"
     ]
    },
    {
     "name": "stdout",
     "output_type": "stream",
     "text": [
      "[CV 3/5] END C=10, coef0=1, degree=4, gamma=scale, kernel=linear, max_iter=100000;, score=0.798 total time=   0.1s\n",
      "[CV 4/5] END C=10, coef0=1, degree=4, gamma=scale, kernel=linear, max_iter=100000;, score=0.770 total time=   0.2s\n"
     ]
    },
    {
     "name": "stderr",
     "output_type": "stream",
     "text": [
      "/Library/Frameworks/Python.framework/Versions/3.9/lib/python3.9/site-packages/sklearn/svm/_base.py:297: ConvergenceWarning: Solver terminated early (max_iter=100000).  Consider pre-processing your data with StandardScaler or MinMaxScaler.\n",
      "  warnings.warn(\n",
      "/Library/Frameworks/Python.framework/Versions/3.9/lib/python3.9/site-packages/sklearn/svm/_base.py:297: ConvergenceWarning: Solver terminated early (max_iter=100000).  Consider pre-processing your data with StandardScaler or MinMaxScaler.\n",
      "  warnings.warn(\n",
      "/Library/Frameworks/Python.framework/Versions/3.9/lib/python3.9/site-packages/sklearn/svm/_base.py:297: ConvergenceWarning: Solver terminated early (max_iter=500).  Consider pre-processing your data with StandardScaler or MinMaxScaler.\n",
      "  warnings.warn(\n",
      "/Library/Frameworks/Python.framework/Versions/3.9/lib/python3.9/site-packages/sklearn/svm/_base.py:297: ConvergenceWarning: Solver terminated early (max_iter=500).  Consider pre-processing your data with StandardScaler or MinMaxScaler.\n",
      "  warnings.warn(\n",
      "/Library/Frameworks/Python.framework/Versions/3.9/lib/python3.9/site-packages/sklearn/svm/_base.py:297: ConvergenceWarning: Solver terminated early (max_iter=500).  Consider pre-processing your data with StandardScaler or MinMaxScaler.\n",
      "  warnings.warn(\n",
      "/Library/Frameworks/Python.framework/Versions/3.9/lib/python3.9/site-packages/sklearn/svm/_base.py:297: ConvergenceWarning: Solver terminated early (max_iter=500).  Consider pre-processing your data with StandardScaler or MinMaxScaler.\n",
      "  warnings.warn(\n"
     ]
    },
    {
     "name": "stdout",
     "output_type": "stream",
     "text": [
      "[CV 5/5] END C=10, coef0=1, degree=4, gamma=scale, kernel=linear, max_iter=100000;, score=0.802 total time=   0.2s\n",
      "[CV 1/5] END C=10, coef0=1, degree=4, gamma=scale, kernel=rbf, max_iter=500;, score=0.837 total time=   0.0s\n",
      "[CV 2/5] END C=10, coef0=1, degree=4, gamma=scale, kernel=rbf, max_iter=500;, score=0.820 total time=   0.0s\n",
      "[CV 3/5] END C=10, coef0=1, degree=4, gamma=scale, kernel=rbf, max_iter=500;, score=0.820 total time=   0.0s\n",
      "[CV 4/5] END C=10, coef0=1, degree=4, gamma=scale, kernel=rbf, max_iter=500;, score=0.781 total time=   0.0s\n"
     ]
    },
    {
     "name": "stderr",
     "output_type": "stream",
     "text": [
      "/Library/Frameworks/Python.framework/Versions/3.9/lib/python3.9/site-packages/sklearn/svm/_base.py:297: ConvergenceWarning: Solver terminated early (max_iter=500).  Consider pre-processing your data with StandardScaler or MinMaxScaler.\n",
      "  warnings.warn(\n",
      "/Library/Frameworks/Python.framework/Versions/3.9/lib/python3.9/site-packages/sklearn/svm/_base.py:297: ConvergenceWarning: Solver terminated early (max_iter=1000).  Consider pre-processing your data with StandardScaler or MinMaxScaler.\n",
      "  warnings.warn(\n",
      "/Library/Frameworks/Python.framework/Versions/3.9/lib/python3.9/site-packages/sklearn/svm/_base.py:297: ConvergenceWarning: Solver terminated early (max_iter=1000).  Consider pre-processing your data with StandardScaler or MinMaxScaler.\n",
      "  warnings.warn(\n",
      "/Library/Frameworks/Python.framework/Versions/3.9/lib/python3.9/site-packages/sklearn/svm/_base.py:297: ConvergenceWarning: Solver terminated early (max_iter=1000).  Consider pre-processing your data with StandardScaler or MinMaxScaler.\n",
      "  warnings.warn(\n"
     ]
    },
    {
     "name": "stdout",
     "output_type": "stream",
     "text": [
      "[CV 5/5] END C=10, coef0=1, degree=4, gamma=scale, kernel=rbf, max_iter=500;, score=0.853 total time=   0.0s\n",
      "[CV 1/5] END C=10, coef0=1, degree=4, gamma=scale, kernel=rbf, max_iter=1000;, score=0.837 total time=   0.1s\n",
      "[CV 2/5] END C=10, coef0=1, degree=4, gamma=scale, kernel=rbf, max_iter=1000;, score=0.820 total time=   0.1s\n",
      "[CV 3/5] END C=10, coef0=1, degree=4, gamma=scale, kernel=rbf, max_iter=1000;, score=0.820 total time=   0.1s\n"
     ]
    },
    {
     "name": "stderr",
     "output_type": "stream",
     "text": [
      "/Library/Frameworks/Python.framework/Versions/3.9/lib/python3.9/site-packages/sklearn/svm/_base.py:297: ConvergenceWarning: Solver terminated early (max_iter=1000).  Consider pre-processing your data with StandardScaler or MinMaxScaler.\n",
      "  warnings.warn(\n",
      "/Library/Frameworks/Python.framework/Versions/3.9/lib/python3.9/site-packages/sklearn/svm/_base.py:297: ConvergenceWarning: Solver terminated early (max_iter=1000).  Consider pre-processing your data with StandardScaler or MinMaxScaler.\n",
      "  warnings.warn(\n"
     ]
    },
    {
     "name": "stdout",
     "output_type": "stream",
     "text": [
      "[CV 4/5] END C=10, coef0=1, degree=4, gamma=scale, kernel=rbf, max_iter=1000;, score=0.781 total time=   0.1s\n",
      "[CV 5/5] END C=10, coef0=1, degree=4, gamma=scale, kernel=rbf, max_iter=1000;, score=0.853 total time=   0.1s\n",
      "[CV 1/5] END C=10, coef0=1, degree=4, gamma=scale, kernel=rbf, max_iter=10000;, score=0.837 total time=   0.1s\n",
      "[CV 2/5] END C=10, coef0=1, degree=4, gamma=scale, kernel=rbf, max_iter=10000;, score=0.820 total time=   0.1s\n",
      "[CV 3/5] END C=10, coef0=1, degree=4, gamma=scale, kernel=rbf, max_iter=10000;, score=0.820 total time=   0.1s\n",
      "[CV 4/5] END C=10, coef0=1, degree=4, gamma=scale, kernel=rbf, max_iter=10000;, score=0.781 total time=   0.1s\n",
      "[CV 5/5] END C=10, coef0=1, degree=4, gamma=scale, kernel=rbf, max_iter=10000;, score=0.853 total time=   0.1s\n",
      "[CV 1/5] END C=10, coef0=1, degree=4, gamma=scale, kernel=rbf, max_iter=100000;, score=0.837 total time=   0.1s\n",
      "[CV 2/5] END C=10, coef0=1, degree=4, gamma=scale, kernel=rbf, max_iter=100000;, score=0.820 total time=   0.1s\n",
      "[CV 3/5] END C=10, coef0=1, degree=4, gamma=scale, kernel=rbf, max_iter=100000;, score=0.820 total time=   0.1s\n",
      "[CV 4/5] END C=10, coef0=1, degree=4, gamma=scale, kernel=rbf, max_iter=100000;, score=0.781 total time=   0.1s\n",
      "[CV 5/5] END C=10, coef0=1, degree=4, gamma=scale, kernel=rbf, max_iter=100000;, score=0.853 total time=   0.1s\n"
     ]
    },
    {
     "name": "stderr",
     "output_type": "stream",
     "text": [
      "/Library/Frameworks/Python.framework/Versions/3.9/lib/python3.9/site-packages/sklearn/svm/_base.py:297: ConvergenceWarning: Solver terminated early (max_iter=500).  Consider pre-processing your data with StandardScaler or MinMaxScaler.\n",
      "  warnings.warn(\n",
      "/Library/Frameworks/Python.framework/Versions/3.9/lib/python3.9/site-packages/sklearn/svm/_base.py:297: ConvergenceWarning: Solver terminated early (max_iter=500).  Consider pre-processing your data with StandardScaler or MinMaxScaler.\n",
      "  warnings.warn(\n",
      "/Library/Frameworks/Python.framework/Versions/3.9/lib/python3.9/site-packages/sklearn/svm/_base.py:297: ConvergenceWarning: Solver terminated early (max_iter=500).  Consider pre-processing your data with StandardScaler or MinMaxScaler.\n",
      "  warnings.warn(\n",
      "/Library/Frameworks/Python.framework/Versions/3.9/lib/python3.9/site-packages/sklearn/svm/_base.py:297: ConvergenceWarning: Solver terminated early (max_iter=500).  Consider pre-processing your data with StandardScaler or MinMaxScaler.\n",
      "  warnings.warn(\n",
      "/Library/Frameworks/Python.framework/Versions/3.9/lib/python3.9/site-packages/sklearn/svm/_base.py:297: ConvergenceWarning: Solver terminated early (max_iter=500).  Consider pre-processing your data with StandardScaler or MinMaxScaler.\n",
      "  warnings.warn(\n",
      "/Library/Frameworks/Python.framework/Versions/3.9/lib/python3.9/site-packages/sklearn/svm/_base.py:297: ConvergenceWarning: Solver terminated early (max_iter=1000).  Consider pre-processing your data with StandardScaler or MinMaxScaler.\n",
      "  warnings.warn(\n"
     ]
    },
    {
     "name": "stdout",
     "output_type": "stream",
     "text": [
      "[CV 1/5] END C=10, coef0=1, degree=4, gamma=scale, kernel=poly, max_iter=500;, score=0.646 total time=   0.0s\n",
      "[CV 2/5] END C=10, coef0=1, degree=4, gamma=scale, kernel=poly, max_iter=500;, score=0.551 total time=   0.0s\n",
      "[CV 3/5] END C=10, coef0=1, degree=4, gamma=scale, kernel=poly, max_iter=500;, score=0.640 total time=   0.0s\n",
      "[CV 4/5] END C=10, coef0=1, degree=4, gamma=scale, kernel=poly, max_iter=500;, score=0.472 total time=   0.0s\n",
      "[CV 5/5] END C=10, coef0=1, degree=4, gamma=scale, kernel=poly, max_iter=500;, score=0.672 total time=   0.0s\n",
      "[CV 1/5] END C=10, coef0=1, degree=4, gamma=scale, kernel=poly, max_iter=1000;, score=0.770 total time=   0.0s\n"
     ]
    },
    {
     "name": "stderr",
     "output_type": "stream",
     "text": [
      "/Library/Frameworks/Python.framework/Versions/3.9/lib/python3.9/site-packages/sklearn/svm/_base.py:297: ConvergenceWarning: Solver terminated early (max_iter=1000).  Consider pre-processing your data with StandardScaler or MinMaxScaler.\n",
      "  warnings.warn(\n",
      "/Library/Frameworks/Python.framework/Versions/3.9/lib/python3.9/site-packages/sklearn/svm/_base.py:297: ConvergenceWarning: Solver terminated early (max_iter=1000).  Consider pre-processing your data with StandardScaler or MinMaxScaler.\n",
      "  warnings.warn(\n",
      "/Library/Frameworks/Python.framework/Versions/3.9/lib/python3.9/site-packages/sklearn/svm/_base.py:297: ConvergenceWarning: Solver terminated early (max_iter=1000).  Consider pre-processing your data with StandardScaler or MinMaxScaler.\n",
      "  warnings.warn(\n",
      "/Library/Frameworks/Python.framework/Versions/3.9/lib/python3.9/site-packages/sklearn/svm/_base.py:297: ConvergenceWarning: Solver terminated early (max_iter=1000).  Consider pre-processing your data with StandardScaler or MinMaxScaler.\n",
      "  warnings.warn(\n"
     ]
    },
    {
     "name": "stdout",
     "output_type": "stream",
     "text": [
      "[CV 2/5] END C=10, coef0=1, degree=4, gamma=scale, kernel=poly, max_iter=1000;, score=0.697 total time=   0.0s\n",
      "[CV 3/5] END C=10, coef0=1, degree=4, gamma=scale, kernel=poly, max_iter=1000;, score=0.596 total time=   0.0s\n",
      "[CV 4/5] END C=10, coef0=1, degree=4, gamma=scale, kernel=poly, max_iter=1000;, score=0.764 total time=   0.0s\n",
      "[CV 5/5] END C=10, coef0=1, degree=4, gamma=scale, kernel=poly, max_iter=1000;, score=0.757 total time=   0.0s\n"
     ]
    },
    {
     "name": "stderr",
     "output_type": "stream",
     "text": [
      "/Library/Frameworks/Python.framework/Versions/3.9/lib/python3.9/site-packages/sklearn/svm/_base.py:297: ConvergenceWarning: Solver terminated early (max_iter=10000).  Consider pre-processing your data with StandardScaler or MinMaxScaler.\n",
      "  warnings.warn(\n",
      "/Library/Frameworks/Python.framework/Versions/3.9/lib/python3.9/site-packages/sklearn/svm/_base.py:297: ConvergenceWarning: Solver terminated early (max_iter=10000).  Consider pre-processing your data with StandardScaler or MinMaxScaler.\n",
      "  warnings.warn(\n"
     ]
    },
    {
     "name": "stdout",
     "output_type": "stream",
     "text": [
      "[CV 1/5] END C=10, coef0=1, degree=4, gamma=scale, kernel=poly, max_iter=10000;, score=0.798 total time=   0.1s\n",
      "[CV 2/5] END C=10, coef0=1, degree=4, gamma=scale, kernel=poly, max_iter=10000;, score=0.809 total time=   0.1s\n"
     ]
    },
    {
     "name": "stderr",
     "output_type": "stream",
     "text": [
      "/Library/Frameworks/Python.framework/Versions/3.9/lib/python3.9/site-packages/sklearn/svm/_base.py:297: ConvergenceWarning: Solver terminated early (max_iter=10000).  Consider pre-processing your data with StandardScaler or MinMaxScaler.\n",
      "  warnings.warn(\n",
      "/Library/Frameworks/Python.framework/Versions/3.9/lib/python3.9/site-packages/sklearn/svm/_base.py:297: ConvergenceWarning: Solver terminated early (max_iter=10000).  Consider pre-processing your data with StandardScaler or MinMaxScaler.\n",
      "  warnings.warn(\n"
     ]
    },
    {
     "name": "stdout",
     "output_type": "stream",
     "text": [
      "[CV 3/5] END C=10, coef0=1, degree=4, gamma=scale, kernel=poly, max_iter=10000;, score=0.826 total time=   0.2s\n",
      "[CV 4/5] END C=10, coef0=1, degree=4, gamma=scale, kernel=poly, max_iter=10000;, score=0.775 total time=   0.1s\n"
     ]
    },
    {
     "name": "stderr",
     "output_type": "stream",
     "text": [
      "/Library/Frameworks/Python.framework/Versions/3.9/lib/python3.9/site-packages/sklearn/svm/_base.py:297: ConvergenceWarning: Solver terminated early (max_iter=10000).  Consider pre-processing your data with StandardScaler or MinMaxScaler.\n",
      "  warnings.warn(\n"
     ]
    },
    {
     "name": "stdout",
     "output_type": "stream",
     "text": [
      "[CV 5/5] END C=10, coef0=1, degree=4, gamma=scale, kernel=poly, max_iter=10000;, score=0.853 total time=   0.1s\n",
      "[CV 1/5] END C=10, coef0=1, degree=4, gamma=scale, kernel=poly, max_iter=100000;, score=0.803 total time=   0.3s\n",
      "[CV 2/5] END C=10, coef0=1, degree=4, gamma=scale, kernel=poly, max_iter=100000;, score=0.809 total time=   0.3s\n",
      "[CV 3/5] END C=10, coef0=1, degree=4, gamma=scale, kernel=poly, max_iter=100000;, score=0.826 total time=   0.4s\n",
      "[CV 4/5] END C=10, coef0=1, degree=4, gamma=scale, kernel=poly, max_iter=100000;, score=0.775 total time=   0.4s\n",
      "[CV 5/5] END C=10, coef0=1, degree=4, gamma=scale, kernel=poly, max_iter=100000;, score=0.853 total time=   0.3s\n",
      "[CV 1/5] END C=10, coef0=1, degree=5, gamma=scale, kernel=linear, max_iter=500;, score=0.680 total time=   0.0s\n",
      "[CV 2/5] END C=10, coef0=1, degree=5, gamma=scale, kernel=linear, max_iter=500;, score=0.511 total time=   0.0s\n",
      "[CV 3/5] END C=10, coef0=1, degree=5, gamma=scale, kernel=linear, max_iter=500;, score=0.376 total time=   0.0s\n",
      "[CV 4/5] END C=10, coef0=1, degree=5, gamma=scale, kernel=linear, max_iter=500;, score=0.281 total time=   0.0s\n",
      "[CV 5/5] END C=10, coef0=1, degree=5, gamma=scale, kernel=linear, max_iter=500;, score=0.407 total time=   0.0s\n",
      "[CV 1/5] END C=10, coef0=1, degree=5, gamma=scale, kernel=linear, max_iter=1000;, score=0.775 total time=   0.0s\n"
     ]
    },
    {
     "name": "stderr",
     "output_type": "stream",
     "text": [
      "/Library/Frameworks/Python.framework/Versions/3.9/lib/python3.9/site-packages/sklearn/svm/_base.py:297: ConvergenceWarning: Solver terminated early (max_iter=500).  Consider pre-processing your data with StandardScaler or MinMaxScaler.\n",
      "  warnings.warn(\n",
      "/Library/Frameworks/Python.framework/Versions/3.9/lib/python3.9/site-packages/sklearn/svm/_base.py:297: ConvergenceWarning: Solver terminated early (max_iter=500).  Consider pre-processing your data with StandardScaler or MinMaxScaler.\n",
      "  warnings.warn(\n",
      "/Library/Frameworks/Python.framework/Versions/3.9/lib/python3.9/site-packages/sklearn/svm/_base.py:297: ConvergenceWarning: Solver terminated early (max_iter=500).  Consider pre-processing your data with StandardScaler or MinMaxScaler.\n",
      "  warnings.warn(\n",
      "/Library/Frameworks/Python.framework/Versions/3.9/lib/python3.9/site-packages/sklearn/svm/_base.py:297: ConvergenceWarning: Solver terminated early (max_iter=500).  Consider pre-processing your data with StandardScaler or MinMaxScaler.\n",
      "  warnings.warn(\n",
      "/Library/Frameworks/Python.framework/Versions/3.9/lib/python3.9/site-packages/sklearn/svm/_base.py:297: ConvergenceWarning: Solver terminated early (max_iter=500).  Consider pre-processing your data with StandardScaler or MinMaxScaler.\n",
      "  warnings.warn(\n",
      "/Library/Frameworks/Python.framework/Versions/3.9/lib/python3.9/site-packages/sklearn/svm/_base.py:297: ConvergenceWarning: Solver terminated early (max_iter=1000).  Consider pre-processing your data with StandardScaler or MinMaxScaler.\n",
      "  warnings.warn(\n",
      "/Library/Frameworks/Python.framework/Versions/3.9/lib/python3.9/site-packages/sklearn/svm/_base.py:297: ConvergenceWarning: Solver terminated early (max_iter=1000).  Consider pre-processing your data with StandardScaler or MinMaxScaler.\n",
      "  warnings.warn(\n",
      "/Library/Frameworks/Python.framework/Versions/3.9/lib/python3.9/site-packages/sklearn/svm/_base.py:297: ConvergenceWarning: Solver terminated early (max_iter=1000).  Consider pre-processing your data with StandardScaler or MinMaxScaler.\n",
      "  warnings.warn(\n",
      "/Library/Frameworks/Python.framework/Versions/3.9/lib/python3.9/site-packages/sklearn/svm/_base.py:297: ConvergenceWarning: Solver terminated early (max_iter=1000).  Consider pre-processing your data with StandardScaler or MinMaxScaler.\n",
      "  warnings.warn(\n",
      "/Library/Frameworks/Python.framework/Versions/3.9/lib/python3.9/site-packages/sklearn/svm/_base.py:297: ConvergenceWarning: Solver terminated early (max_iter=1000).  Consider pre-processing your data with StandardScaler or MinMaxScaler.\n",
      "  warnings.warn(\n"
     ]
    },
    {
     "name": "stdout",
     "output_type": "stream",
     "text": [
      "[CV 2/5] END C=10, coef0=1, degree=5, gamma=scale, kernel=linear, max_iter=1000;, score=0.803 total time=   0.0s\n",
      "[CV 3/5] END C=10, coef0=1, degree=5, gamma=scale, kernel=linear, max_iter=1000;, score=0.775 total time=   0.0s\n",
      "[CV 4/5] END C=10, coef0=1, degree=5, gamma=scale, kernel=linear, max_iter=1000;, score=0.787 total time=   0.0s\n",
      "[CV 5/5] END C=10, coef0=1, degree=5, gamma=scale, kernel=linear, max_iter=1000;, score=0.797 total time=   0.0s\n"
     ]
    },
    {
     "name": "stderr",
     "output_type": "stream",
     "text": [
      "/Library/Frameworks/Python.framework/Versions/3.9/lib/python3.9/site-packages/sklearn/svm/_base.py:297: ConvergenceWarning: Solver terminated early (max_iter=10000).  Consider pre-processing your data with StandardScaler or MinMaxScaler.\n",
      "  warnings.warn(\n",
      "/Library/Frameworks/Python.framework/Versions/3.9/lib/python3.9/site-packages/sklearn/svm/_base.py:297: ConvergenceWarning: Solver terminated early (max_iter=10000).  Consider pre-processing your data with StandardScaler or MinMaxScaler.\n",
      "  warnings.warn(\n",
      "/Library/Frameworks/Python.framework/Versions/3.9/lib/python3.9/site-packages/sklearn/svm/_base.py:297: ConvergenceWarning: Solver terminated early (max_iter=10000).  Consider pre-processing your data with StandardScaler or MinMaxScaler.\n",
      "  warnings.warn(\n"
     ]
    },
    {
     "name": "stdout",
     "output_type": "stream",
     "text": [
      "[CV 1/5] END C=10, coef0=1, degree=5, gamma=scale, kernel=linear, max_iter=10000;, score=0.820 total time=   0.1s\n",
      "[CV 2/5] END C=10, coef0=1, degree=5, gamma=scale, kernel=linear, max_iter=10000;, score=0.815 total time=   0.1s\n",
      "[CV 3/5] END C=10, coef0=1, degree=5, gamma=scale, kernel=linear, max_iter=10000;, score=0.798 total time=   0.1s\n"
     ]
    },
    {
     "name": "stderr",
     "output_type": "stream",
     "text": [
      "/Library/Frameworks/Python.framework/Versions/3.9/lib/python3.9/site-packages/sklearn/svm/_base.py:297: ConvergenceWarning: Solver terminated early (max_iter=10000).  Consider pre-processing your data with StandardScaler or MinMaxScaler.\n",
      "  warnings.warn(\n",
      "/Library/Frameworks/Python.framework/Versions/3.9/lib/python3.9/site-packages/sklearn/svm/_base.py:297: ConvergenceWarning: Solver terminated early (max_iter=10000).  Consider pre-processing your data with StandardScaler or MinMaxScaler.\n",
      "  warnings.warn(\n"
     ]
    },
    {
     "name": "stdout",
     "output_type": "stream",
     "text": [
      "[CV 4/5] END C=10, coef0=1, degree=5, gamma=scale, kernel=linear, max_iter=10000;, score=0.770 total time=   0.1s\n",
      "[CV 5/5] END C=10, coef0=1, degree=5, gamma=scale, kernel=linear, max_iter=10000;, score=0.797 total time=   0.1s\n",
      "[CV 1/5] END C=10, coef0=1, degree=5, gamma=scale, kernel=linear, max_iter=100000;, score=0.815 total time=   0.1s\n",
      "[CV 2/5] END C=10, coef0=1, degree=5, gamma=scale, kernel=linear, max_iter=100000;, score=0.815 total time=   0.1s\n"
     ]
    },
    {
     "name": "stderr",
     "output_type": "stream",
     "text": [
      "/Library/Frameworks/Python.framework/Versions/3.9/lib/python3.9/site-packages/sklearn/svm/_base.py:297: ConvergenceWarning: Solver terminated early (max_iter=100000).  Consider pre-processing your data with StandardScaler or MinMaxScaler.\n",
      "  warnings.warn(\n"
     ]
    },
    {
     "name": "stdout",
     "output_type": "stream",
     "text": [
      "[CV 3/5] END C=10, coef0=1, degree=5, gamma=scale, kernel=linear, max_iter=100000;, score=0.798 total time=   0.1s\n",
      "[CV 4/5] END C=10, coef0=1, degree=5, gamma=scale, kernel=linear, max_iter=100000;, score=0.770 total time=   0.2s\n"
     ]
    },
    {
     "name": "stderr",
     "output_type": "stream",
     "text": [
      "/Library/Frameworks/Python.framework/Versions/3.9/lib/python3.9/site-packages/sklearn/svm/_base.py:297: ConvergenceWarning: Solver terminated early (max_iter=100000).  Consider pre-processing your data with StandardScaler or MinMaxScaler.\n",
      "  warnings.warn(\n",
      "/Library/Frameworks/Python.framework/Versions/3.9/lib/python3.9/site-packages/sklearn/svm/_base.py:297: ConvergenceWarning: Solver terminated early (max_iter=100000).  Consider pre-processing your data with StandardScaler or MinMaxScaler.\n",
      "  warnings.warn(\n",
      "/Library/Frameworks/Python.framework/Versions/3.9/lib/python3.9/site-packages/sklearn/svm/_base.py:297: ConvergenceWarning: Solver terminated early (max_iter=500).  Consider pre-processing your data with StandardScaler or MinMaxScaler.\n",
      "  warnings.warn(\n",
      "/Library/Frameworks/Python.framework/Versions/3.9/lib/python3.9/site-packages/sklearn/svm/_base.py:297: ConvergenceWarning: Solver terminated early (max_iter=500).  Consider pre-processing your data with StandardScaler or MinMaxScaler.\n",
      "  warnings.warn(\n",
      "/Library/Frameworks/Python.framework/Versions/3.9/lib/python3.9/site-packages/sklearn/svm/_base.py:297: ConvergenceWarning: Solver terminated early (max_iter=500).  Consider pre-processing your data with StandardScaler or MinMaxScaler.\n",
      "  warnings.warn(\n",
      "/Library/Frameworks/Python.framework/Versions/3.9/lib/python3.9/site-packages/sklearn/svm/_base.py:297: ConvergenceWarning: Solver terminated early (max_iter=500).  Consider pre-processing your data with StandardScaler or MinMaxScaler.\n",
      "  warnings.warn(\n"
     ]
    },
    {
     "name": "stdout",
     "output_type": "stream",
     "text": [
      "[CV 5/5] END C=10, coef0=1, degree=5, gamma=scale, kernel=linear, max_iter=100000;, score=0.802 total time=   0.2s\n",
      "[CV 1/5] END C=10, coef0=1, degree=5, gamma=scale, kernel=rbf, max_iter=500;, score=0.837 total time=   0.0s\n",
      "[CV 2/5] END C=10, coef0=1, degree=5, gamma=scale, kernel=rbf, max_iter=500;, score=0.820 total time=   0.0s\n",
      "[CV 3/5] END C=10, coef0=1, degree=5, gamma=scale, kernel=rbf, max_iter=500;, score=0.820 total time=   0.0s\n",
      "[CV 4/5] END C=10, coef0=1, degree=5, gamma=scale, kernel=rbf, max_iter=500;, score=0.781 total time=   0.1s\n"
     ]
    },
    {
     "name": "stderr",
     "output_type": "stream",
     "text": [
      "/Library/Frameworks/Python.framework/Versions/3.9/lib/python3.9/site-packages/sklearn/svm/_base.py:297: ConvergenceWarning: Solver terminated early (max_iter=500).  Consider pre-processing your data with StandardScaler or MinMaxScaler.\n",
      "  warnings.warn(\n",
      "/Library/Frameworks/Python.framework/Versions/3.9/lib/python3.9/site-packages/sklearn/svm/_base.py:297: ConvergenceWarning: Solver terminated early (max_iter=1000).  Consider pre-processing your data with StandardScaler or MinMaxScaler.\n",
      "  warnings.warn(\n",
      "/Library/Frameworks/Python.framework/Versions/3.9/lib/python3.9/site-packages/sklearn/svm/_base.py:297: ConvergenceWarning: Solver terminated early (max_iter=1000).  Consider pre-processing your data with StandardScaler or MinMaxScaler.\n",
      "  warnings.warn(\n",
      "/Library/Frameworks/Python.framework/Versions/3.9/lib/python3.9/site-packages/sklearn/svm/_base.py:297: ConvergenceWarning: Solver terminated early (max_iter=1000).  Consider pre-processing your data with StandardScaler or MinMaxScaler.\n",
      "  warnings.warn(\n"
     ]
    },
    {
     "name": "stdout",
     "output_type": "stream",
     "text": [
      "[CV 5/5] END C=10, coef0=1, degree=5, gamma=scale, kernel=rbf, max_iter=500;, score=0.853 total time=   0.1s\n",
      "[CV 1/5] END C=10, coef0=1, degree=5, gamma=scale, kernel=rbf, max_iter=1000;, score=0.837 total time=   0.1s\n",
      "[CV 2/5] END C=10, coef0=1, degree=5, gamma=scale, kernel=rbf, max_iter=1000;, score=0.820 total time=   0.1s\n",
      "[CV 3/5] END C=10, coef0=1, degree=5, gamma=scale, kernel=rbf, max_iter=1000;, score=0.820 total time=   0.1s\n"
     ]
    },
    {
     "name": "stderr",
     "output_type": "stream",
     "text": [
      "/Library/Frameworks/Python.framework/Versions/3.9/lib/python3.9/site-packages/sklearn/svm/_base.py:297: ConvergenceWarning: Solver terminated early (max_iter=1000).  Consider pre-processing your data with StandardScaler or MinMaxScaler.\n",
      "  warnings.warn(\n",
      "/Library/Frameworks/Python.framework/Versions/3.9/lib/python3.9/site-packages/sklearn/svm/_base.py:297: ConvergenceWarning: Solver terminated early (max_iter=1000).  Consider pre-processing your data with StandardScaler or MinMaxScaler.\n",
      "  warnings.warn(\n"
     ]
    },
    {
     "name": "stdout",
     "output_type": "stream",
     "text": [
      "[CV 4/5] END C=10, coef0=1, degree=5, gamma=scale, kernel=rbf, max_iter=1000;, score=0.781 total time=   0.1s\n",
      "[CV 5/5] END C=10, coef0=1, degree=5, gamma=scale, kernel=rbf, max_iter=1000;, score=0.853 total time=   0.1s\n",
      "[CV 1/5] END C=10, coef0=1, degree=5, gamma=scale, kernel=rbf, max_iter=10000;, score=0.837 total time=   0.1s\n",
      "[CV 2/5] END C=10, coef0=1, degree=5, gamma=scale, kernel=rbf, max_iter=10000;, score=0.820 total time=   0.1s\n",
      "[CV 3/5] END C=10, coef0=1, degree=5, gamma=scale, kernel=rbf, max_iter=10000;, score=0.820 total time=   0.1s\n",
      "[CV 4/5] END C=10, coef0=1, degree=5, gamma=scale, kernel=rbf, max_iter=10000;, score=0.781 total time=   0.1s\n",
      "[CV 5/5] END C=10, coef0=1, degree=5, gamma=scale, kernel=rbf, max_iter=10000;, score=0.853 total time=   0.1s\n",
      "[CV 1/5] END C=10, coef0=1, degree=5, gamma=scale, kernel=rbf, max_iter=100000;, score=0.837 total time=   0.1s\n",
      "[CV 2/5] END C=10, coef0=1, degree=5, gamma=scale, kernel=rbf, max_iter=100000;, score=0.820 total time=   0.1s\n",
      "[CV 3/5] END C=10, coef0=1, degree=5, gamma=scale, kernel=rbf, max_iter=100000;, score=0.820 total time=   0.1s\n",
      "[CV 4/5] END C=10, coef0=1, degree=5, gamma=scale, kernel=rbf, max_iter=100000;, score=0.781 total time=   0.1s\n",
      "[CV 5/5] END C=10, coef0=1, degree=5, gamma=scale, kernel=rbf, max_iter=100000;, score=0.853 total time=   0.1s\n"
     ]
    },
    {
     "name": "stderr",
     "output_type": "stream",
     "text": [
      "/Library/Frameworks/Python.framework/Versions/3.9/lib/python3.9/site-packages/sklearn/svm/_base.py:297: ConvergenceWarning: Solver terminated early (max_iter=500).  Consider pre-processing your data with StandardScaler or MinMaxScaler.\n",
      "  warnings.warn(\n",
      "/Library/Frameworks/Python.framework/Versions/3.9/lib/python3.9/site-packages/sklearn/svm/_base.py:297: ConvergenceWarning: Solver terminated early (max_iter=500).  Consider pre-processing your data with StandardScaler or MinMaxScaler.\n",
      "  warnings.warn(\n",
      "/Library/Frameworks/Python.framework/Versions/3.9/lib/python3.9/site-packages/sklearn/svm/_base.py:297: ConvergenceWarning: Solver terminated early (max_iter=500).  Consider pre-processing your data with StandardScaler or MinMaxScaler.\n",
      "  warnings.warn(\n",
      "/Library/Frameworks/Python.framework/Versions/3.9/lib/python3.9/site-packages/sklearn/svm/_base.py:297: ConvergenceWarning: Solver terminated early (max_iter=500).  Consider pre-processing your data with StandardScaler or MinMaxScaler.\n",
      "  warnings.warn(\n",
      "/Library/Frameworks/Python.framework/Versions/3.9/lib/python3.9/site-packages/sklearn/svm/_base.py:297: ConvergenceWarning: Solver terminated early (max_iter=500).  Consider pre-processing your data with StandardScaler or MinMaxScaler.\n",
      "  warnings.warn(\n",
      "/Library/Frameworks/Python.framework/Versions/3.9/lib/python3.9/site-packages/sklearn/svm/_base.py:297: ConvergenceWarning: Solver terminated early (max_iter=1000).  Consider pre-processing your data with StandardScaler or MinMaxScaler.\n",
      "  warnings.warn(\n"
     ]
    },
    {
     "name": "stdout",
     "output_type": "stream",
     "text": [
      "[CV 1/5] END C=10, coef0=1, degree=5, gamma=scale, kernel=poly, max_iter=500;, score=0.562 total time=   0.0s\n",
      "[CV 2/5] END C=10, coef0=1, degree=5, gamma=scale, kernel=poly, max_iter=500;, score=0.534 total time=   0.0s\n",
      "[CV 3/5] END C=10, coef0=1, degree=5, gamma=scale, kernel=poly, max_iter=500;, score=0.388 total time=   0.0s\n",
      "[CV 4/5] END C=10, coef0=1, degree=5, gamma=scale, kernel=poly, max_iter=500;, score=0.500 total time=   0.0s\n",
      "[CV 5/5] END C=10, coef0=1, degree=5, gamma=scale, kernel=poly, max_iter=500;, score=0.458 total time=   0.0s\n",
      "[CV 1/5] END C=10, coef0=1, degree=5, gamma=scale, kernel=poly, max_iter=1000;, score=0.697 total time=   0.0s\n"
     ]
    },
    {
     "name": "stderr",
     "output_type": "stream",
     "text": [
      "/Library/Frameworks/Python.framework/Versions/3.9/lib/python3.9/site-packages/sklearn/svm/_base.py:297: ConvergenceWarning: Solver terminated early (max_iter=1000).  Consider pre-processing your data with StandardScaler or MinMaxScaler.\n",
      "  warnings.warn(\n",
      "/Library/Frameworks/Python.framework/Versions/3.9/lib/python3.9/site-packages/sklearn/svm/_base.py:297: ConvergenceWarning: Solver terminated early (max_iter=1000).  Consider pre-processing your data with StandardScaler or MinMaxScaler.\n",
      "  warnings.warn(\n",
      "/Library/Frameworks/Python.framework/Versions/3.9/lib/python3.9/site-packages/sklearn/svm/_base.py:297: ConvergenceWarning: Solver terminated early (max_iter=1000).  Consider pre-processing your data with StandardScaler or MinMaxScaler.\n",
      "  warnings.warn(\n",
      "/Library/Frameworks/Python.framework/Versions/3.9/lib/python3.9/site-packages/sklearn/svm/_base.py:297: ConvergenceWarning: Solver terminated early (max_iter=1000).  Consider pre-processing your data with StandardScaler or MinMaxScaler.\n",
      "  warnings.warn(\n"
     ]
    },
    {
     "name": "stdout",
     "output_type": "stream",
     "text": [
      "[CV 2/5] END C=10, coef0=1, degree=5, gamma=scale, kernel=poly, max_iter=1000;, score=0.809 total time=   0.0s\n",
      "[CV 3/5] END C=10, coef0=1, degree=5, gamma=scale, kernel=poly, max_iter=1000;, score=0.607 total time=   0.0s\n",
      "[CV 4/5] END C=10, coef0=1, degree=5, gamma=scale, kernel=poly, max_iter=1000;, score=0.758 total time=   0.0s\n",
      "[CV 5/5] END C=10, coef0=1, degree=5, gamma=scale, kernel=poly, max_iter=1000;, score=0.763 total time=   0.0s\n"
     ]
    },
    {
     "name": "stderr",
     "output_type": "stream",
     "text": [
      "/Library/Frameworks/Python.framework/Versions/3.9/lib/python3.9/site-packages/sklearn/svm/_base.py:297: ConvergenceWarning: Solver terminated early (max_iter=10000).  Consider pre-processing your data with StandardScaler or MinMaxScaler.\n",
      "  warnings.warn(\n",
      "/Library/Frameworks/Python.framework/Versions/3.9/lib/python3.9/site-packages/sklearn/svm/_base.py:297: ConvergenceWarning: Solver terminated early (max_iter=10000).  Consider pre-processing your data with StandardScaler or MinMaxScaler.\n",
      "  warnings.warn(\n"
     ]
    },
    {
     "name": "stdout",
     "output_type": "stream",
     "text": [
      "[CV 1/5] END C=10, coef0=1, degree=5, gamma=scale, kernel=poly, max_iter=10000;, score=0.787 total time=   0.2s\n",
      "[CV 2/5] END C=10, coef0=1, degree=5, gamma=scale, kernel=poly, max_iter=10000;, score=0.809 total time=   0.1s\n"
     ]
    },
    {
     "name": "stderr",
     "output_type": "stream",
     "text": [
      "/Library/Frameworks/Python.framework/Versions/3.9/lib/python3.9/site-packages/sklearn/svm/_base.py:297: ConvergenceWarning: Solver terminated early (max_iter=10000).  Consider pre-processing your data with StandardScaler or MinMaxScaler.\n",
      "  warnings.warn(\n",
      "/Library/Frameworks/Python.framework/Versions/3.9/lib/python3.9/site-packages/sklearn/svm/_base.py:297: ConvergenceWarning: Solver terminated early (max_iter=10000).  Consider pre-processing your data with StandardScaler or MinMaxScaler.\n",
      "  warnings.warn(\n"
     ]
    },
    {
     "name": "stdout",
     "output_type": "stream",
     "text": [
      "[CV 3/5] END C=10, coef0=1, degree=5, gamma=scale, kernel=poly, max_iter=10000;, score=0.854 total time=   0.2s\n",
      "[CV 4/5] END C=10, coef0=1, degree=5, gamma=scale, kernel=poly, max_iter=10000;, score=0.792 total time=   0.2s\n"
     ]
    },
    {
     "name": "stderr",
     "output_type": "stream",
     "text": [
      "/Library/Frameworks/Python.framework/Versions/3.9/lib/python3.9/site-packages/sklearn/svm/_base.py:297: ConvergenceWarning: Solver terminated early (max_iter=10000).  Consider pre-processing your data with StandardScaler or MinMaxScaler.\n",
      "  warnings.warn(\n"
     ]
    },
    {
     "name": "stdout",
     "output_type": "stream",
     "text": [
      "[CV 5/5] END C=10, coef0=1, degree=5, gamma=scale, kernel=poly, max_iter=10000;, score=0.836 total time=   0.2s\n"
     ]
    },
    {
     "name": "stderr",
     "output_type": "stream",
     "text": [
      "/Library/Frameworks/Python.framework/Versions/3.9/lib/python3.9/site-packages/sklearn/svm/_base.py:297: ConvergenceWarning: Solver terminated early (max_iter=100000).  Consider pre-processing your data with StandardScaler or MinMaxScaler.\n",
      "  warnings.warn(\n"
     ]
    },
    {
     "name": "stdout",
     "output_type": "stream",
     "text": [
      "[CV 1/5] END C=10, coef0=1, degree=5, gamma=scale, kernel=poly, max_iter=100000;, score=0.764 total time=   0.6s\n"
     ]
    },
    {
     "name": "stderr",
     "output_type": "stream",
     "text": [
      "/Library/Frameworks/Python.framework/Versions/3.9/lib/python3.9/site-packages/sklearn/svm/_base.py:297: ConvergenceWarning: Solver terminated early (max_iter=100000).  Consider pre-processing your data with StandardScaler or MinMaxScaler.\n",
      "  warnings.warn(\n"
     ]
    },
    {
     "name": "stdout",
     "output_type": "stream",
     "text": [
      "[CV 2/5] END C=10, coef0=1, degree=5, gamma=scale, kernel=poly, max_iter=100000;, score=0.809 total time=   0.5s\n"
     ]
    },
    {
     "name": "stderr",
     "output_type": "stream",
     "text": [
      "/Library/Frameworks/Python.framework/Versions/3.9/lib/python3.9/site-packages/sklearn/svm/_base.py:297: ConvergenceWarning: Solver terminated early (max_iter=100000).  Consider pre-processing your data with StandardScaler or MinMaxScaler.\n",
      "  warnings.warn(\n"
     ]
    },
    {
     "name": "stdout",
     "output_type": "stream",
     "text": [
      "[CV 3/5] END C=10, coef0=1, degree=5, gamma=scale, kernel=poly, max_iter=100000;, score=0.843 total time=   0.6s\n"
     ]
    },
    {
     "name": "stderr",
     "output_type": "stream",
     "text": [
      "/Library/Frameworks/Python.framework/Versions/3.9/lib/python3.9/site-packages/sklearn/svm/_base.py:297: ConvergenceWarning: Solver terminated early (max_iter=100000).  Consider pre-processing your data with StandardScaler or MinMaxScaler.\n",
      "  warnings.warn(\n"
     ]
    },
    {
     "name": "stdout",
     "output_type": "stream",
     "text": [
      "[CV 4/5] END C=10, coef0=1, degree=5, gamma=scale, kernel=poly, max_iter=100000;, score=0.787 total time=   0.6s\n"
     ]
    },
    {
     "name": "stderr",
     "output_type": "stream",
     "text": [
      "/Library/Frameworks/Python.framework/Versions/3.9/lib/python3.9/site-packages/sklearn/svm/_base.py:297: ConvergenceWarning: Solver terminated early (max_iter=100000).  Consider pre-processing your data with StandardScaler or MinMaxScaler.\n",
      "  warnings.warn(\n",
      "/Library/Frameworks/Python.framework/Versions/3.9/lib/python3.9/site-packages/sklearn/svm/_base.py:297: ConvergenceWarning: Solver terminated early (max_iter=500).  Consider pre-processing your data with StandardScaler or MinMaxScaler.\n",
      "  warnings.warn(\n",
      "/Library/Frameworks/Python.framework/Versions/3.9/lib/python3.9/site-packages/sklearn/svm/_base.py:297: ConvergenceWarning: Solver terminated early (max_iter=500).  Consider pre-processing your data with StandardScaler or MinMaxScaler.\n",
      "  warnings.warn(\n",
      "/Library/Frameworks/Python.framework/Versions/3.9/lib/python3.9/site-packages/sklearn/svm/_base.py:297: ConvergenceWarning: Solver terminated early (max_iter=500).  Consider pre-processing your data with StandardScaler or MinMaxScaler.\n",
      "  warnings.warn(\n",
      "/Library/Frameworks/Python.framework/Versions/3.9/lib/python3.9/site-packages/sklearn/svm/_base.py:297: ConvergenceWarning: Solver terminated early (max_iter=500).  Consider pre-processing your data with StandardScaler or MinMaxScaler.\n",
      "  warnings.warn(\n",
      "/Library/Frameworks/Python.framework/Versions/3.9/lib/python3.9/site-packages/sklearn/svm/_base.py:297: ConvergenceWarning: Solver terminated early (max_iter=500).  Consider pre-processing your data with StandardScaler or MinMaxScaler.\n",
      "  warnings.warn(\n",
      "/Library/Frameworks/Python.framework/Versions/3.9/lib/python3.9/site-packages/sklearn/svm/_base.py:297: ConvergenceWarning: Solver terminated early (max_iter=1000).  Consider pre-processing your data with StandardScaler or MinMaxScaler.\n",
      "  warnings.warn(\n"
     ]
    },
    {
     "name": "stdout",
     "output_type": "stream",
     "text": [
      "[CV 5/5] END C=10, coef0=1, degree=5, gamma=scale, kernel=poly, max_iter=100000;, score=0.831 total time=   0.6s\n",
      "[CV 1/5] END C=10, coef0=10, degree=2, gamma=scale, kernel=linear, max_iter=500;, score=0.680 total time=   0.0s\n",
      "[CV 2/5] END C=10, coef0=10, degree=2, gamma=scale, kernel=linear, max_iter=500;, score=0.511 total time=   0.0s\n",
      "[CV 3/5] END C=10, coef0=10, degree=2, gamma=scale, kernel=linear, max_iter=500;, score=0.376 total time=   0.0s\n",
      "[CV 4/5] END C=10, coef0=10, degree=2, gamma=scale, kernel=linear, max_iter=500;, score=0.281 total time=   0.0s\n",
      "[CV 5/5] END C=10, coef0=10, degree=2, gamma=scale, kernel=linear, max_iter=500;, score=0.407 total time=   0.0s\n",
      "[CV 1/5] END C=10, coef0=10, degree=2, gamma=scale, kernel=linear, max_iter=1000;, score=0.775 total time=   0.0s\n"
     ]
    },
    {
     "name": "stderr",
     "output_type": "stream",
     "text": [
      "/Library/Frameworks/Python.framework/Versions/3.9/lib/python3.9/site-packages/sklearn/svm/_base.py:297: ConvergenceWarning: Solver terminated early (max_iter=1000).  Consider pre-processing your data with StandardScaler or MinMaxScaler.\n",
      "  warnings.warn(\n",
      "/Library/Frameworks/Python.framework/Versions/3.9/lib/python3.9/site-packages/sklearn/svm/_base.py:297: ConvergenceWarning: Solver terminated early (max_iter=1000).  Consider pre-processing your data with StandardScaler or MinMaxScaler.\n",
      "  warnings.warn(\n",
      "/Library/Frameworks/Python.framework/Versions/3.9/lib/python3.9/site-packages/sklearn/svm/_base.py:297: ConvergenceWarning: Solver terminated early (max_iter=1000).  Consider pre-processing your data with StandardScaler or MinMaxScaler.\n",
      "  warnings.warn(\n",
      "/Library/Frameworks/Python.framework/Versions/3.9/lib/python3.9/site-packages/sklearn/svm/_base.py:297: ConvergenceWarning: Solver terminated early (max_iter=1000).  Consider pre-processing your data with StandardScaler or MinMaxScaler.\n",
      "  warnings.warn(\n"
     ]
    },
    {
     "name": "stdout",
     "output_type": "stream",
     "text": [
      "[CV 2/5] END C=10, coef0=10, degree=2, gamma=scale, kernel=linear, max_iter=1000;, score=0.803 total time=   0.0s\n",
      "[CV 3/5] END C=10, coef0=10, degree=2, gamma=scale, kernel=linear, max_iter=1000;, score=0.775 total time=   0.0s\n",
      "[CV 4/5] END C=10, coef0=10, degree=2, gamma=scale, kernel=linear, max_iter=1000;, score=0.787 total time=   0.0s\n",
      "[CV 5/5] END C=10, coef0=10, degree=2, gamma=scale, kernel=linear, max_iter=1000;, score=0.797 total time=   0.0s\n"
     ]
    },
    {
     "name": "stderr",
     "output_type": "stream",
     "text": [
      "/Library/Frameworks/Python.framework/Versions/3.9/lib/python3.9/site-packages/sklearn/svm/_base.py:297: ConvergenceWarning: Solver terminated early (max_iter=10000).  Consider pre-processing your data with StandardScaler or MinMaxScaler.\n",
      "  warnings.warn(\n",
      "/Library/Frameworks/Python.framework/Versions/3.9/lib/python3.9/site-packages/sklearn/svm/_base.py:297: ConvergenceWarning: Solver terminated early (max_iter=10000).  Consider pre-processing your data with StandardScaler or MinMaxScaler.\n",
      "  warnings.warn(\n",
      "/Library/Frameworks/Python.framework/Versions/3.9/lib/python3.9/site-packages/sklearn/svm/_base.py:297: ConvergenceWarning: Solver terminated early (max_iter=10000).  Consider pre-processing your data with StandardScaler or MinMaxScaler.\n",
      "  warnings.warn(\n"
     ]
    },
    {
     "name": "stdout",
     "output_type": "stream",
     "text": [
      "[CV 1/5] END C=10, coef0=10, degree=2, gamma=scale, kernel=linear, max_iter=10000;, score=0.820 total time=   0.1s\n",
      "[CV 2/5] END C=10, coef0=10, degree=2, gamma=scale, kernel=linear, max_iter=10000;, score=0.815 total time=   0.1s\n",
      "[CV 3/5] END C=10, coef0=10, degree=2, gamma=scale, kernel=linear, max_iter=10000;, score=0.798 total time=   0.1s\n"
     ]
    },
    {
     "name": "stderr",
     "output_type": "stream",
     "text": [
      "/Library/Frameworks/Python.framework/Versions/3.9/lib/python3.9/site-packages/sklearn/svm/_base.py:297: ConvergenceWarning: Solver terminated early (max_iter=10000).  Consider pre-processing your data with StandardScaler or MinMaxScaler.\n",
      "  warnings.warn(\n",
      "/Library/Frameworks/Python.framework/Versions/3.9/lib/python3.9/site-packages/sklearn/svm/_base.py:297: ConvergenceWarning: Solver terminated early (max_iter=10000).  Consider pre-processing your data with StandardScaler or MinMaxScaler.\n",
      "  warnings.warn(\n"
     ]
    },
    {
     "name": "stdout",
     "output_type": "stream",
     "text": [
      "[CV 4/5] END C=10, coef0=10, degree=2, gamma=scale, kernel=linear, max_iter=10000;, score=0.770 total time=   0.1s\n",
      "[CV 5/5] END C=10, coef0=10, degree=2, gamma=scale, kernel=linear, max_iter=10000;, score=0.797 total time=   0.1s\n",
      "[CV 1/5] END C=10, coef0=10, degree=2, gamma=scale, kernel=linear, max_iter=100000;, score=0.815 total time=   0.1s\n",
      "[CV 2/5] END C=10, coef0=10, degree=2, gamma=scale, kernel=linear, max_iter=100000;, score=0.815 total time=   0.2s\n"
     ]
    },
    {
     "name": "stderr",
     "output_type": "stream",
     "text": [
      "/Library/Frameworks/Python.framework/Versions/3.9/lib/python3.9/site-packages/sklearn/svm/_base.py:297: ConvergenceWarning: Solver terminated early (max_iter=100000).  Consider pre-processing your data with StandardScaler or MinMaxScaler.\n",
      "  warnings.warn(\n"
     ]
    },
    {
     "name": "stdout",
     "output_type": "stream",
     "text": [
      "[CV 3/5] END C=10, coef0=10, degree=2, gamma=scale, kernel=linear, max_iter=100000;, score=0.798 total time=   0.1s\n",
      "[CV 4/5] END C=10, coef0=10, degree=2, gamma=scale, kernel=linear, max_iter=100000;, score=0.770 total time=   0.2s\n"
     ]
    },
    {
     "name": "stderr",
     "output_type": "stream",
     "text": [
      "/Library/Frameworks/Python.framework/Versions/3.9/lib/python3.9/site-packages/sklearn/svm/_base.py:297: ConvergenceWarning: Solver terminated early (max_iter=100000).  Consider pre-processing your data with StandardScaler or MinMaxScaler.\n",
      "  warnings.warn(\n",
      "/Library/Frameworks/Python.framework/Versions/3.9/lib/python3.9/site-packages/sklearn/svm/_base.py:297: ConvergenceWarning: Solver terminated early (max_iter=100000).  Consider pre-processing your data with StandardScaler or MinMaxScaler.\n",
      "  warnings.warn(\n",
      "/Library/Frameworks/Python.framework/Versions/3.9/lib/python3.9/site-packages/sklearn/svm/_base.py:297: ConvergenceWarning: Solver terminated early (max_iter=500).  Consider pre-processing your data with StandardScaler or MinMaxScaler.\n",
      "  warnings.warn(\n",
      "/Library/Frameworks/Python.framework/Versions/3.9/lib/python3.9/site-packages/sklearn/svm/_base.py:297: ConvergenceWarning: Solver terminated early (max_iter=500).  Consider pre-processing your data with StandardScaler or MinMaxScaler.\n",
      "  warnings.warn(\n",
      "/Library/Frameworks/Python.framework/Versions/3.9/lib/python3.9/site-packages/sklearn/svm/_base.py:297: ConvergenceWarning: Solver terminated early (max_iter=500).  Consider pre-processing your data with StandardScaler or MinMaxScaler.\n",
      "  warnings.warn(\n",
      "/Library/Frameworks/Python.framework/Versions/3.9/lib/python3.9/site-packages/sklearn/svm/_base.py:297: ConvergenceWarning: Solver terminated early (max_iter=500).  Consider pre-processing your data with StandardScaler or MinMaxScaler.\n",
      "  warnings.warn(\n"
     ]
    },
    {
     "name": "stdout",
     "output_type": "stream",
     "text": [
      "[CV 5/5] END C=10, coef0=10, degree=2, gamma=scale, kernel=linear, max_iter=100000;, score=0.802 total time=   0.2s\n",
      "[CV 1/5] END C=10, coef0=10, degree=2, gamma=scale, kernel=rbf, max_iter=500;, score=0.837 total time=   0.0s\n",
      "[CV 2/5] END C=10, coef0=10, degree=2, gamma=scale, kernel=rbf, max_iter=500;, score=0.820 total time=   0.0s\n",
      "[CV 3/5] END C=10, coef0=10, degree=2, gamma=scale, kernel=rbf, max_iter=500;, score=0.820 total time=   0.0s\n",
      "[CV 4/5] END C=10, coef0=10, degree=2, gamma=scale, kernel=rbf, max_iter=500;, score=0.781 total time=   0.0s\n"
     ]
    },
    {
     "name": "stderr",
     "output_type": "stream",
     "text": [
      "/Library/Frameworks/Python.framework/Versions/3.9/lib/python3.9/site-packages/sklearn/svm/_base.py:297: ConvergenceWarning: Solver terminated early (max_iter=500).  Consider pre-processing your data with StandardScaler or MinMaxScaler.\n",
      "  warnings.warn(\n",
      "/Library/Frameworks/Python.framework/Versions/3.9/lib/python3.9/site-packages/sklearn/svm/_base.py:297: ConvergenceWarning: Solver terminated early (max_iter=1000).  Consider pre-processing your data with StandardScaler or MinMaxScaler.\n",
      "  warnings.warn(\n",
      "/Library/Frameworks/Python.framework/Versions/3.9/lib/python3.9/site-packages/sklearn/svm/_base.py:297: ConvergenceWarning: Solver terminated early (max_iter=1000).  Consider pre-processing your data with StandardScaler or MinMaxScaler.\n",
      "  warnings.warn(\n",
      "/Library/Frameworks/Python.framework/Versions/3.9/lib/python3.9/site-packages/sklearn/svm/_base.py:297: ConvergenceWarning: Solver terminated early (max_iter=1000).  Consider pre-processing your data with StandardScaler or MinMaxScaler.\n",
      "  warnings.warn(\n"
     ]
    },
    {
     "name": "stdout",
     "output_type": "stream",
     "text": [
      "[CV 5/5] END C=10, coef0=10, degree=2, gamma=scale, kernel=rbf, max_iter=500;, score=0.853 total time=   0.0s\n",
      "[CV 1/5] END C=10, coef0=10, degree=2, gamma=scale, kernel=rbf, max_iter=1000;, score=0.837 total time=   0.1s\n",
      "[CV 2/5] END C=10, coef0=10, degree=2, gamma=scale, kernel=rbf, max_iter=1000;, score=0.820 total time=   0.1s\n",
      "[CV 3/5] END C=10, coef0=10, degree=2, gamma=scale, kernel=rbf, max_iter=1000;, score=0.820 total time=   0.1s\n"
     ]
    },
    {
     "name": "stderr",
     "output_type": "stream",
     "text": [
      "/Library/Frameworks/Python.framework/Versions/3.9/lib/python3.9/site-packages/sklearn/svm/_base.py:297: ConvergenceWarning: Solver terminated early (max_iter=1000).  Consider pre-processing your data with StandardScaler or MinMaxScaler.\n",
      "  warnings.warn(\n",
      "/Library/Frameworks/Python.framework/Versions/3.9/lib/python3.9/site-packages/sklearn/svm/_base.py:297: ConvergenceWarning: Solver terminated early (max_iter=1000).  Consider pre-processing your data with StandardScaler or MinMaxScaler.\n",
      "  warnings.warn(\n"
     ]
    },
    {
     "name": "stdout",
     "output_type": "stream",
     "text": [
      "[CV 4/5] END C=10, coef0=10, degree=2, gamma=scale, kernel=rbf, max_iter=1000;, score=0.781 total time=   0.1s\n",
      "[CV 5/5] END C=10, coef0=10, degree=2, gamma=scale, kernel=rbf, max_iter=1000;, score=0.853 total time=   0.1s\n",
      "[CV 1/5] END C=10, coef0=10, degree=2, gamma=scale, kernel=rbf, max_iter=10000;, score=0.837 total time=   0.1s\n",
      "[CV 2/5] END C=10, coef0=10, degree=2, gamma=scale, kernel=rbf, max_iter=10000;, score=0.820 total time=   0.1s\n",
      "[CV 3/5] END C=10, coef0=10, degree=2, gamma=scale, kernel=rbf, max_iter=10000;, score=0.820 total time=   0.1s\n",
      "[CV 4/5] END C=10, coef0=10, degree=2, gamma=scale, kernel=rbf, max_iter=10000;, score=0.781 total time=   0.1s\n",
      "[CV 5/5] END C=10, coef0=10, degree=2, gamma=scale, kernel=rbf, max_iter=10000;, score=0.853 total time=   0.1s\n",
      "[CV 1/5] END C=10, coef0=10, degree=2, gamma=scale, kernel=rbf, max_iter=100000;, score=0.837 total time=   0.1s\n",
      "[CV 2/5] END C=10, coef0=10, degree=2, gamma=scale, kernel=rbf, max_iter=100000;, score=0.820 total time=   0.1s\n",
      "[CV 3/5] END C=10, coef0=10, degree=2, gamma=scale, kernel=rbf, max_iter=100000;, score=0.820 total time=   0.1s\n",
      "[CV 4/5] END C=10, coef0=10, degree=2, gamma=scale, kernel=rbf, max_iter=100000;, score=0.781 total time=   0.1s\n",
      "[CV 5/5] END C=10, coef0=10, degree=2, gamma=scale, kernel=rbf, max_iter=100000;, score=0.853 total time=   0.1s\n"
     ]
    },
    {
     "name": "stderr",
     "output_type": "stream",
     "text": [
      "/Library/Frameworks/Python.framework/Versions/3.9/lib/python3.9/site-packages/sklearn/svm/_base.py:297: ConvergenceWarning: Solver terminated early (max_iter=500).  Consider pre-processing your data with StandardScaler or MinMaxScaler.\n",
      "  warnings.warn(\n",
      "/Library/Frameworks/Python.framework/Versions/3.9/lib/python3.9/site-packages/sklearn/svm/_base.py:297: ConvergenceWarning: Solver terminated early (max_iter=500).  Consider pre-processing your data with StandardScaler or MinMaxScaler.\n",
      "  warnings.warn(\n",
      "/Library/Frameworks/Python.framework/Versions/3.9/lib/python3.9/site-packages/sklearn/svm/_base.py:297: ConvergenceWarning: Solver terminated early (max_iter=500).  Consider pre-processing your data with StandardScaler or MinMaxScaler.\n",
      "  warnings.warn(\n",
      "/Library/Frameworks/Python.framework/Versions/3.9/lib/python3.9/site-packages/sklearn/svm/_base.py:297: ConvergenceWarning: Solver terminated early (max_iter=500).  Consider pre-processing your data with StandardScaler or MinMaxScaler.\n",
      "  warnings.warn(\n",
      "/Library/Frameworks/Python.framework/Versions/3.9/lib/python3.9/site-packages/sklearn/svm/_base.py:297: ConvergenceWarning: Solver terminated early (max_iter=500).  Consider pre-processing your data with StandardScaler or MinMaxScaler.\n",
      "  warnings.warn(\n",
      "/Library/Frameworks/Python.framework/Versions/3.9/lib/python3.9/site-packages/sklearn/svm/_base.py:297: ConvergenceWarning: Solver terminated early (max_iter=1000).  Consider pre-processing your data with StandardScaler or MinMaxScaler.\n",
      "  warnings.warn(\n"
     ]
    },
    {
     "name": "stdout",
     "output_type": "stream",
     "text": [
      "[CV 1/5] END C=10, coef0=10, degree=2, gamma=scale, kernel=poly, max_iter=500;, score=0.815 total time=   0.0s\n",
      "[CV 2/5] END C=10, coef0=10, degree=2, gamma=scale, kernel=poly, max_iter=500;, score=0.713 total time=   0.0s\n",
      "[CV 3/5] END C=10, coef0=10, degree=2, gamma=scale, kernel=poly, max_iter=500;, score=0.489 total time=   0.0s\n",
      "[CV 4/5] END C=10, coef0=10, degree=2, gamma=scale, kernel=poly, max_iter=500;, score=0.438 total time=   0.0s\n",
      "[CV 5/5] END C=10, coef0=10, degree=2, gamma=scale, kernel=poly, max_iter=500;, score=0.763 total time=   0.0s\n",
      "[CV 1/5] END C=10, coef0=10, degree=2, gamma=scale, kernel=poly, max_iter=1000;, score=0.820 total time=   0.0s\n"
     ]
    },
    {
     "name": "stderr",
     "output_type": "stream",
     "text": [
      "/Library/Frameworks/Python.framework/Versions/3.9/lib/python3.9/site-packages/sklearn/svm/_base.py:297: ConvergenceWarning: Solver terminated early (max_iter=1000).  Consider pre-processing your data with StandardScaler or MinMaxScaler.\n",
      "  warnings.warn(\n",
      "/Library/Frameworks/Python.framework/Versions/3.9/lib/python3.9/site-packages/sklearn/svm/_base.py:297: ConvergenceWarning: Solver terminated early (max_iter=1000).  Consider pre-processing your data with StandardScaler or MinMaxScaler.\n",
      "  warnings.warn(\n",
      "/Library/Frameworks/Python.framework/Versions/3.9/lib/python3.9/site-packages/sklearn/svm/_base.py:297: ConvergenceWarning: Solver terminated early (max_iter=1000).  Consider pre-processing your data with StandardScaler or MinMaxScaler.\n",
      "  warnings.warn(\n",
      "/Library/Frameworks/Python.framework/Versions/3.9/lib/python3.9/site-packages/sklearn/svm/_base.py:297: ConvergenceWarning: Solver terminated early (max_iter=1000).  Consider pre-processing your data with StandardScaler or MinMaxScaler.\n",
      "  warnings.warn(\n"
     ]
    },
    {
     "name": "stdout",
     "output_type": "stream",
     "text": [
      "[CV 2/5] END C=10, coef0=10, degree=2, gamma=scale, kernel=poly, max_iter=1000;, score=0.831 total time=   0.0s\n",
      "[CV 3/5] END C=10, coef0=10, degree=2, gamma=scale, kernel=poly, max_iter=1000;, score=0.820 total time=   0.0s\n",
      "[CV 4/5] END C=10, coef0=10, degree=2, gamma=scale, kernel=poly, max_iter=1000;, score=0.775 total time=   0.0s\n",
      "[CV 5/5] END C=10, coef0=10, degree=2, gamma=scale, kernel=poly, max_iter=1000;, score=0.819 total time=   0.0s\n"
     ]
    },
    {
     "name": "stderr",
     "output_type": "stream",
     "text": [
      "/Library/Frameworks/Python.framework/Versions/3.9/lib/python3.9/site-packages/sklearn/svm/_base.py:297: ConvergenceWarning: Solver terminated early (max_iter=10000).  Consider pre-processing your data with StandardScaler or MinMaxScaler.\n",
      "  warnings.warn(\n",
      "/Library/Frameworks/Python.framework/Versions/3.9/lib/python3.9/site-packages/sklearn/svm/_base.py:297: ConvergenceWarning: Solver terminated early (max_iter=10000).  Consider pre-processing your data with StandardScaler or MinMaxScaler.\n",
      "  warnings.warn(\n"
     ]
    },
    {
     "name": "stdout",
     "output_type": "stream",
     "text": [
      "[CV 1/5] END C=10, coef0=10, degree=2, gamma=scale, kernel=poly, max_iter=10000;, score=0.837 total time=   0.1s\n",
      "[CV 2/5] END C=10, coef0=10, degree=2, gamma=scale, kernel=poly, max_iter=10000;, score=0.815 total time=   0.1s\n"
     ]
    },
    {
     "name": "stderr",
     "output_type": "stream",
     "text": [
      "/Library/Frameworks/Python.framework/Versions/3.9/lib/python3.9/site-packages/sklearn/svm/_base.py:297: ConvergenceWarning: Solver terminated early (max_iter=10000).  Consider pre-processing your data with StandardScaler or MinMaxScaler.\n",
      "  warnings.warn(\n",
      "/Library/Frameworks/Python.framework/Versions/3.9/lib/python3.9/site-packages/sklearn/svm/_base.py:297: ConvergenceWarning: Solver terminated early (max_iter=10000).  Consider pre-processing your data with StandardScaler or MinMaxScaler.\n",
      "  warnings.warn(\n"
     ]
    },
    {
     "name": "stdout",
     "output_type": "stream",
     "text": [
      "[CV 3/5] END C=10, coef0=10, degree=2, gamma=scale, kernel=poly, max_iter=10000;, score=0.820 total time=   0.1s\n",
      "[CV 4/5] END C=10, coef0=10, degree=2, gamma=scale, kernel=poly, max_iter=10000;, score=0.792 total time=   0.2s\n"
     ]
    },
    {
     "name": "stderr",
     "output_type": "stream",
     "text": [
      "/Library/Frameworks/Python.framework/Versions/3.9/lib/python3.9/site-packages/sklearn/svm/_base.py:297: ConvergenceWarning: Solver terminated early (max_iter=10000).  Consider pre-processing your data with StandardScaler or MinMaxScaler.\n",
      "  warnings.warn(\n"
     ]
    },
    {
     "name": "stdout",
     "output_type": "stream",
     "text": [
      "[CV 5/5] END C=10, coef0=10, degree=2, gamma=scale, kernel=poly, max_iter=10000;, score=0.842 total time=   0.2s\n",
      "[CV 1/5] END C=10, coef0=10, degree=2, gamma=scale, kernel=poly, max_iter=100000;, score=0.843 total time=   0.2s\n",
      "[CV 2/5] END C=10, coef0=10, degree=2, gamma=scale, kernel=poly, max_iter=100000;, score=0.815 total time=   0.1s\n",
      "[CV 3/5] END C=10, coef0=10, degree=2, gamma=scale, kernel=poly, max_iter=100000;, score=0.820 total time=   0.2s\n",
      "[CV 4/5] END C=10, coef0=10, degree=2, gamma=scale, kernel=poly, max_iter=100000;, score=0.792 total time=   0.2s\n",
      "[CV 5/5] END C=10, coef0=10, degree=2, gamma=scale, kernel=poly, max_iter=100000;, score=0.842 total time=   0.2s\n"
     ]
    },
    {
     "name": "stderr",
     "output_type": "stream",
     "text": [
      "/Library/Frameworks/Python.framework/Versions/3.9/lib/python3.9/site-packages/sklearn/svm/_base.py:297: ConvergenceWarning: Solver terminated early (max_iter=500).  Consider pre-processing your data with StandardScaler or MinMaxScaler.\n",
      "  warnings.warn(\n",
      "/Library/Frameworks/Python.framework/Versions/3.9/lib/python3.9/site-packages/sklearn/svm/_base.py:297: ConvergenceWarning: Solver terminated early (max_iter=500).  Consider pre-processing your data with StandardScaler or MinMaxScaler.\n",
      "  warnings.warn(\n",
      "/Library/Frameworks/Python.framework/Versions/3.9/lib/python3.9/site-packages/sklearn/svm/_base.py:297: ConvergenceWarning: Solver terminated early (max_iter=500).  Consider pre-processing your data with StandardScaler or MinMaxScaler.\n",
      "  warnings.warn(\n",
      "/Library/Frameworks/Python.framework/Versions/3.9/lib/python3.9/site-packages/sklearn/svm/_base.py:297: ConvergenceWarning: Solver terminated early (max_iter=500).  Consider pre-processing your data with StandardScaler or MinMaxScaler.\n",
      "  warnings.warn(\n",
      "/Library/Frameworks/Python.framework/Versions/3.9/lib/python3.9/site-packages/sklearn/svm/_base.py:297: ConvergenceWarning: Solver terminated early (max_iter=500).  Consider pre-processing your data with StandardScaler or MinMaxScaler.\n",
      "  warnings.warn(\n",
      "/Library/Frameworks/Python.framework/Versions/3.9/lib/python3.9/site-packages/sklearn/svm/_base.py:297: ConvergenceWarning: Solver terminated early (max_iter=1000).  Consider pre-processing your data with StandardScaler or MinMaxScaler.\n",
      "  warnings.warn(\n"
     ]
    },
    {
     "name": "stdout",
     "output_type": "stream",
     "text": [
      "[CV 1/5] END C=10, coef0=10, degree=3, gamma=scale, kernel=linear, max_iter=500;, score=0.680 total time=   0.0s\n",
      "[CV 2/5] END C=10, coef0=10, degree=3, gamma=scale, kernel=linear, max_iter=500;, score=0.511 total time=   0.0s\n",
      "[CV 3/5] END C=10, coef0=10, degree=3, gamma=scale, kernel=linear, max_iter=500;, score=0.376 total time=   0.0s\n",
      "[CV 4/5] END C=10, coef0=10, degree=3, gamma=scale, kernel=linear, max_iter=500;, score=0.281 total time=   0.0s\n",
      "[CV 5/5] END C=10, coef0=10, degree=3, gamma=scale, kernel=linear, max_iter=500;, score=0.407 total time=   0.0s\n",
      "[CV 1/5] END C=10, coef0=10, degree=3, gamma=scale, kernel=linear, max_iter=1000;, score=0.775 total time=   0.0s\n"
     ]
    },
    {
     "name": "stderr",
     "output_type": "stream",
     "text": [
      "/Library/Frameworks/Python.framework/Versions/3.9/lib/python3.9/site-packages/sklearn/svm/_base.py:297: ConvergenceWarning: Solver terminated early (max_iter=1000).  Consider pre-processing your data with StandardScaler or MinMaxScaler.\n",
      "  warnings.warn(\n",
      "/Library/Frameworks/Python.framework/Versions/3.9/lib/python3.9/site-packages/sklearn/svm/_base.py:297: ConvergenceWarning: Solver terminated early (max_iter=1000).  Consider pre-processing your data with StandardScaler or MinMaxScaler.\n",
      "  warnings.warn(\n",
      "/Library/Frameworks/Python.framework/Versions/3.9/lib/python3.9/site-packages/sklearn/svm/_base.py:297: ConvergenceWarning: Solver terminated early (max_iter=1000).  Consider pre-processing your data with StandardScaler or MinMaxScaler.\n",
      "  warnings.warn(\n",
      "/Library/Frameworks/Python.framework/Versions/3.9/lib/python3.9/site-packages/sklearn/svm/_base.py:297: ConvergenceWarning: Solver terminated early (max_iter=1000).  Consider pre-processing your data with StandardScaler or MinMaxScaler.\n",
      "  warnings.warn(\n"
     ]
    },
    {
     "name": "stdout",
     "output_type": "stream",
     "text": [
      "[CV 2/5] END C=10, coef0=10, degree=3, gamma=scale, kernel=linear, max_iter=1000;, score=0.803 total time=   0.0s\n",
      "[CV 3/5] END C=10, coef0=10, degree=3, gamma=scale, kernel=linear, max_iter=1000;, score=0.775 total time=   0.0s\n",
      "[CV 4/5] END C=10, coef0=10, degree=3, gamma=scale, kernel=linear, max_iter=1000;, score=0.787 total time=   0.0s\n",
      "[CV 5/5] END C=10, coef0=10, degree=3, gamma=scale, kernel=linear, max_iter=1000;, score=0.797 total time=   0.0s\n"
     ]
    },
    {
     "name": "stderr",
     "output_type": "stream",
     "text": [
      "/Library/Frameworks/Python.framework/Versions/3.9/lib/python3.9/site-packages/sklearn/svm/_base.py:297: ConvergenceWarning: Solver terminated early (max_iter=10000).  Consider pre-processing your data with StandardScaler or MinMaxScaler.\n",
      "  warnings.warn(\n",
      "/Library/Frameworks/Python.framework/Versions/3.9/lib/python3.9/site-packages/sklearn/svm/_base.py:297: ConvergenceWarning: Solver terminated early (max_iter=10000).  Consider pre-processing your data with StandardScaler or MinMaxScaler.\n",
      "  warnings.warn(\n",
      "/Library/Frameworks/Python.framework/Versions/3.9/lib/python3.9/site-packages/sklearn/svm/_base.py:297: ConvergenceWarning: Solver terminated early (max_iter=10000).  Consider pre-processing your data with StandardScaler or MinMaxScaler.\n",
      "  warnings.warn(\n"
     ]
    },
    {
     "name": "stdout",
     "output_type": "stream",
     "text": [
      "[CV 1/5] END C=10, coef0=10, degree=3, gamma=scale, kernel=linear, max_iter=10000;, score=0.820 total time=   0.1s\n",
      "[CV 2/5] END C=10, coef0=10, degree=3, gamma=scale, kernel=linear, max_iter=10000;, score=0.815 total time=   0.1s\n",
      "[CV 3/5] END C=10, coef0=10, degree=3, gamma=scale, kernel=linear, max_iter=10000;, score=0.798 total time=   0.1s\n"
     ]
    },
    {
     "name": "stderr",
     "output_type": "stream",
     "text": [
      "/Library/Frameworks/Python.framework/Versions/3.9/lib/python3.9/site-packages/sklearn/svm/_base.py:297: ConvergenceWarning: Solver terminated early (max_iter=10000).  Consider pre-processing your data with StandardScaler or MinMaxScaler.\n",
      "  warnings.warn(\n",
      "/Library/Frameworks/Python.framework/Versions/3.9/lib/python3.9/site-packages/sklearn/svm/_base.py:297: ConvergenceWarning: Solver terminated early (max_iter=10000).  Consider pre-processing your data with StandardScaler or MinMaxScaler.\n",
      "  warnings.warn(\n"
     ]
    },
    {
     "name": "stdout",
     "output_type": "stream",
     "text": [
      "[CV 4/5] END C=10, coef0=10, degree=3, gamma=scale, kernel=linear, max_iter=10000;, score=0.770 total time=   0.1s\n",
      "[CV 5/5] END C=10, coef0=10, degree=3, gamma=scale, kernel=linear, max_iter=10000;, score=0.797 total time=   0.1s\n",
      "[CV 1/5] END C=10, coef0=10, degree=3, gamma=scale, kernel=linear, max_iter=100000;, score=0.815 total time=   0.1s\n",
      "[CV 2/5] END C=10, coef0=10, degree=3, gamma=scale, kernel=linear, max_iter=100000;, score=0.815 total time=   0.1s\n"
     ]
    },
    {
     "name": "stderr",
     "output_type": "stream",
     "text": [
      "/Library/Frameworks/Python.framework/Versions/3.9/lib/python3.9/site-packages/sklearn/svm/_base.py:297: ConvergenceWarning: Solver terminated early (max_iter=100000).  Consider pre-processing your data with StandardScaler or MinMaxScaler.\n",
      "  warnings.warn(\n"
     ]
    },
    {
     "name": "stdout",
     "output_type": "stream",
     "text": [
      "[CV 3/5] END C=10, coef0=10, degree=3, gamma=scale, kernel=linear, max_iter=100000;, score=0.798 total time=   0.1s\n",
      "[CV 4/5] END C=10, coef0=10, degree=3, gamma=scale, kernel=linear, max_iter=100000;, score=0.770 total time=   0.2s\n"
     ]
    },
    {
     "name": "stderr",
     "output_type": "stream",
     "text": [
      "/Library/Frameworks/Python.framework/Versions/3.9/lib/python3.9/site-packages/sklearn/svm/_base.py:297: ConvergenceWarning: Solver terminated early (max_iter=100000).  Consider pre-processing your data with StandardScaler or MinMaxScaler.\n",
      "  warnings.warn(\n",
      "/Library/Frameworks/Python.framework/Versions/3.9/lib/python3.9/site-packages/sklearn/svm/_base.py:297: ConvergenceWarning: Solver terminated early (max_iter=100000).  Consider pre-processing your data with StandardScaler or MinMaxScaler.\n",
      "  warnings.warn(\n",
      "/Library/Frameworks/Python.framework/Versions/3.9/lib/python3.9/site-packages/sklearn/svm/_base.py:297: ConvergenceWarning: Solver terminated early (max_iter=500).  Consider pre-processing your data with StandardScaler or MinMaxScaler.\n",
      "  warnings.warn(\n",
      "/Library/Frameworks/Python.framework/Versions/3.9/lib/python3.9/site-packages/sklearn/svm/_base.py:297: ConvergenceWarning: Solver terminated early (max_iter=500).  Consider pre-processing your data with StandardScaler or MinMaxScaler.\n",
      "  warnings.warn(\n",
      "/Library/Frameworks/Python.framework/Versions/3.9/lib/python3.9/site-packages/sklearn/svm/_base.py:297: ConvergenceWarning: Solver terminated early (max_iter=500).  Consider pre-processing your data with StandardScaler or MinMaxScaler.\n",
      "  warnings.warn(\n",
      "/Library/Frameworks/Python.framework/Versions/3.9/lib/python3.9/site-packages/sklearn/svm/_base.py:297: ConvergenceWarning: Solver terminated early (max_iter=500).  Consider pre-processing your data with StandardScaler or MinMaxScaler.\n",
      "  warnings.warn(\n"
     ]
    },
    {
     "name": "stdout",
     "output_type": "stream",
     "text": [
      "[CV 5/5] END C=10, coef0=10, degree=3, gamma=scale, kernel=linear, max_iter=100000;, score=0.802 total time=   0.2s\n",
      "[CV 1/5] END C=10, coef0=10, degree=3, gamma=scale, kernel=rbf, max_iter=500;, score=0.837 total time=   0.0s\n",
      "[CV 2/5] END C=10, coef0=10, degree=3, gamma=scale, kernel=rbf, max_iter=500;, score=0.820 total time=   0.0s\n",
      "[CV 3/5] END C=10, coef0=10, degree=3, gamma=scale, kernel=rbf, max_iter=500;, score=0.820 total time=   0.0s\n",
      "[CV 4/5] END C=10, coef0=10, degree=3, gamma=scale, kernel=rbf, max_iter=500;, score=0.781 total time=   0.0s\n"
     ]
    },
    {
     "name": "stderr",
     "output_type": "stream",
     "text": [
      "/Library/Frameworks/Python.framework/Versions/3.9/lib/python3.9/site-packages/sklearn/svm/_base.py:297: ConvergenceWarning: Solver terminated early (max_iter=500).  Consider pre-processing your data with StandardScaler or MinMaxScaler.\n",
      "  warnings.warn(\n",
      "/Library/Frameworks/Python.framework/Versions/3.9/lib/python3.9/site-packages/sklearn/svm/_base.py:297: ConvergenceWarning: Solver terminated early (max_iter=1000).  Consider pre-processing your data with StandardScaler or MinMaxScaler.\n",
      "  warnings.warn(\n",
      "/Library/Frameworks/Python.framework/Versions/3.9/lib/python3.9/site-packages/sklearn/svm/_base.py:297: ConvergenceWarning: Solver terminated early (max_iter=1000).  Consider pre-processing your data with StandardScaler or MinMaxScaler.\n",
      "  warnings.warn(\n",
      "/Library/Frameworks/Python.framework/Versions/3.9/lib/python3.9/site-packages/sklearn/svm/_base.py:297: ConvergenceWarning: Solver terminated early (max_iter=1000).  Consider pre-processing your data with StandardScaler or MinMaxScaler.\n",
      "  warnings.warn(\n"
     ]
    },
    {
     "name": "stdout",
     "output_type": "stream",
     "text": [
      "[CV 5/5] END C=10, coef0=10, degree=3, gamma=scale, kernel=rbf, max_iter=500;, score=0.853 total time=   0.0s\n",
      "[CV 1/5] END C=10, coef0=10, degree=3, gamma=scale, kernel=rbf, max_iter=1000;, score=0.837 total time=   0.1s\n",
      "[CV 2/5] END C=10, coef0=10, degree=3, gamma=scale, kernel=rbf, max_iter=1000;, score=0.820 total time=   0.1s\n",
      "[CV 3/5] END C=10, coef0=10, degree=3, gamma=scale, kernel=rbf, max_iter=1000;, score=0.820 total time=   0.1s\n"
     ]
    },
    {
     "name": "stderr",
     "output_type": "stream",
     "text": [
      "/Library/Frameworks/Python.framework/Versions/3.9/lib/python3.9/site-packages/sklearn/svm/_base.py:297: ConvergenceWarning: Solver terminated early (max_iter=1000).  Consider pre-processing your data with StandardScaler or MinMaxScaler.\n",
      "  warnings.warn(\n",
      "/Library/Frameworks/Python.framework/Versions/3.9/lib/python3.9/site-packages/sklearn/svm/_base.py:297: ConvergenceWarning: Solver terminated early (max_iter=1000).  Consider pre-processing your data with StandardScaler or MinMaxScaler.\n",
      "  warnings.warn(\n"
     ]
    },
    {
     "name": "stdout",
     "output_type": "stream",
     "text": [
      "[CV 4/5] END C=10, coef0=10, degree=3, gamma=scale, kernel=rbf, max_iter=1000;, score=0.781 total time=   0.1s\n",
      "[CV 5/5] END C=10, coef0=10, degree=3, gamma=scale, kernel=rbf, max_iter=1000;, score=0.853 total time=   0.1s\n",
      "[CV 1/5] END C=10, coef0=10, degree=3, gamma=scale, kernel=rbf, max_iter=10000;, score=0.837 total time=   0.1s\n",
      "[CV 2/5] END C=10, coef0=10, degree=3, gamma=scale, kernel=rbf, max_iter=10000;, score=0.820 total time=   0.1s\n",
      "[CV 3/5] END C=10, coef0=10, degree=3, gamma=scale, kernel=rbf, max_iter=10000;, score=0.820 total time=   0.1s\n",
      "[CV 4/5] END C=10, coef0=10, degree=3, gamma=scale, kernel=rbf, max_iter=10000;, score=0.781 total time=   0.1s\n",
      "[CV 5/5] END C=10, coef0=10, degree=3, gamma=scale, kernel=rbf, max_iter=10000;, score=0.853 total time=   0.1s\n",
      "[CV 1/5] END C=10, coef0=10, degree=3, gamma=scale, kernel=rbf, max_iter=100000;, score=0.837 total time=   0.1s\n",
      "[CV 2/5] END C=10, coef0=10, degree=3, gamma=scale, kernel=rbf, max_iter=100000;, score=0.820 total time=   0.1s\n",
      "[CV 3/5] END C=10, coef0=10, degree=3, gamma=scale, kernel=rbf, max_iter=100000;, score=0.820 total time=   0.1s\n",
      "[CV 4/5] END C=10, coef0=10, degree=3, gamma=scale, kernel=rbf, max_iter=100000;, score=0.781 total time=   0.1s\n",
      "[CV 5/5] END C=10, coef0=10, degree=3, gamma=scale, kernel=rbf, max_iter=100000;, score=0.853 total time=   0.1s\n"
     ]
    },
    {
     "name": "stderr",
     "output_type": "stream",
     "text": [
      "/Library/Frameworks/Python.framework/Versions/3.9/lib/python3.9/site-packages/sklearn/svm/_base.py:297: ConvergenceWarning: Solver terminated early (max_iter=500).  Consider pre-processing your data with StandardScaler or MinMaxScaler.\n",
      "  warnings.warn(\n",
      "/Library/Frameworks/Python.framework/Versions/3.9/lib/python3.9/site-packages/sklearn/svm/_base.py:297: ConvergenceWarning: Solver terminated early (max_iter=500).  Consider pre-processing your data with StandardScaler or MinMaxScaler.\n",
      "  warnings.warn(\n",
      "/Library/Frameworks/Python.framework/Versions/3.9/lib/python3.9/site-packages/sklearn/svm/_base.py:297: ConvergenceWarning: Solver terminated early (max_iter=500).  Consider pre-processing your data with StandardScaler or MinMaxScaler.\n",
      "  warnings.warn(\n",
      "/Library/Frameworks/Python.framework/Versions/3.9/lib/python3.9/site-packages/sklearn/svm/_base.py:297: ConvergenceWarning: Solver terminated early (max_iter=500).  Consider pre-processing your data with StandardScaler or MinMaxScaler.\n",
      "  warnings.warn(\n",
      "/Library/Frameworks/Python.framework/Versions/3.9/lib/python3.9/site-packages/sklearn/svm/_base.py:297: ConvergenceWarning: Solver terminated early (max_iter=500).  Consider pre-processing your data with StandardScaler or MinMaxScaler.\n",
      "  warnings.warn(\n",
      "/Library/Frameworks/Python.framework/Versions/3.9/lib/python3.9/site-packages/sklearn/svm/_base.py:297: ConvergenceWarning: Solver terminated early (max_iter=1000).  Consider pre-processing your data with StandardScaler or MinMaxScaler.\n",
      "  warnings.warn(\n"
     ]
    },
    {
     "name": "stdout",
     "output_type": "stream",
     "text": [
      "[CV 1/5] END C=10, coef0=10, degree=3, gamma=scale, kernel=poly, max_iter=500;, score=0.438 total time=   0.0s\n",
      "[CV 2/5] END C=10, coef0=10, degree=3, gamma=scale, kernel=poly, max_iter=500;, score=0.483 total time=   0.0s\n",
      "[CV 3/5] END C=10, coef0=10, degree=3, gamma=scale, kernel=poly, max_iter=500;, score=0.404 total time=   0.0s\n",
      "[CV 4/5] END C=10, coef0=10, degree=3, gamma=scale, kernel=poly, max_iter=500;, score=0.567 total time=   0.0s\n",
      "[CV 5/5] END C=10, coef0=10, degree=3, gamma=scale, kernel=poly, max_iter=500;, score=0.362 total time=   0.0s\n",
      "[CV 1/5] END C=10, coef0=10, degree=3, gamma=scale, kernel=poly, max_iter=1000;, score=0.433 total time=   0.0s\n"
     ]
    },
    {
     "name": "stderr",
     "output_type": "stream",
     "text": [
      "/Library/Frameworks/Python.framework/Versions/3.9/lib/python3.9/site-packages/sklearn/svm/_base.py:297: ConvergenceWarning: Solver terminated early (max_iter=1000).  Consider pre-processing your data with StandardScaler or MinMaxScaler.\n",
      "  warnings.warn(\n",
      "/Library/Frameworks/Python.framework/Versions/3.9/lib/python3.9/site-packages/sklearn/svm/_base.py:297: ConvergenceWarning: Solver terminated early (max_iter=1000).  Consider pre-processing your data with StandardScaler or MinMaxScaler.\n",
      "  warnings.warn(\n",
      "/Library/Frameworks/Python.framework/Versions/3.9/lib/python3.9/site-packages/sklearn/svm/_base.py:297: ConvergenceWarning: Solver terminated early (max_iter=1000).  Consider pre-processing your data with StandardScaler or MinMaxScaler.\n",
      "  warnings.warn(\n"
     ]
    },
    {
     "name": "stdout",
     "output_type": "stream",
     "text": [
      "[CV 2/5] END C=10, coef0=10, degree=3, gamma=scale, kernel=poly, max_iter=1000;, score=0.551 total time=   0.0s\n",
      "[CV 3/5] END C=10, coef0=10, degree=3, gamma=scale, kernel=poly, max_iter=1000;, score=0.736 total time=   0.1s\n",
      "[CV 4/5] END C=10, coef0=10, degree=3, gamma=scale, kernel=poly, max_iter=1000;, score=0.360 total time=   0.1s\n"
     ]
    },
    {
     "name": "stderr",
     "output_type": "stream",
     "text": [
      "/Library/Frameworks/Python.framework/Versions/3.9/lib/python3.9/site-packages/sklearn/svm/_base.py:297: ConvergenceWarning: Solver terminated early (max_iter=1000).  Consider pre-processing your data with StandardScaler or MinMaxScaler.\n",
      "  warnings.warn(\n"
     ]
    },
    {
     "name": "stdout",
     "output_type": "stream",
     "text": [
      "[CV 5/5] END C=10, coef0=10, degree=3, gamma=scale, kernel=poly, max_iter=1000;, score=0.356 total time=   0.1s\n"
     ]
    },
    {
     "name": "stderr",
     "output_type": "stream",
     "text": [
      "/Library/Frameworks/Python.framework/Versions/3.9/lib/python3.9/site-packages/sklearn/svm/_base.py:297: ConvergenceWarning: Solver terminated early (max_iter=10000).  Consider pre-processing your data with StandardScaler or MinMaxScaler.\n",
      "  warnings.warn(\n"
     ]
    },
    {
     "name": "stdout",
     "output_type": "stream",
     "text": [
      "[CV 1/5] END C=10, coef0=10, degree=3, gamma=scale, kernel=poly, max_iter=10000;, score=0.787 total time=   0.2s\n"
     ]
    },
    {
     "name": "stderr",
     "output_type": "stream",
     "text": [
      "/Library/Frameworks/Python.framework/Versions/3.9/lib/python3.9/site-packages/sklearn/svm/_base.py:297: ConvergenceWarning: Solver terminated early (max_iter=10000).  Consider pre-processing your data with StandardScaler or MinMaxScaler.\n",
      "  warnings.warn(\n",
      "/Library/Frameworks/Python.framework/Versions/3.9/lib/python3.9/site-packages/sklearn/svm/_base.py:297: ConvergenceWarning: Solver terminated early (max_iter=10000).  Consider pre-processing your data with StandardScaler or MinMaxScaler.\n",
      "  warnings.warn(\n"
     ]
    },
    {
     "name": "stdout",
     "output_type": "stream",
     "text": [
      "[CV 2/5] END C=10, coef0=10, degree=3, gamma=scale, kernel=poly, max_iter=10000;, score=0.803 total time=   0.2s\n",
      "[CV 3/5] END C=10, coef0=10, degree=3, gamma=scale, kernel=poly, max_iter=10000;, score=0.815 total time=   0.2s\n"
     ]
    },
    {
     "name": "stderr",
     "output_type": "stream",
     "text": [
      "/Library/Frameworks/Python.framework/Versions/3.9/lib/python3.9/site-packages/sklearn/svm/_base.py:297: ConvergenceWarning: Solver terminated early (max_iter=10000).  Consider pre-processing your data with StandardScaler or MinMaxScaler.\n",
      "  warnings.warn(\n",
      "/Library/Frameworks/Python.framework/Versions/3.9/lib/python3.9/site-packages/sklearn/svm/_base.py:297: ConvergenceWarning: Solver terminated early (max_iter=10000).  Consider pre-processing your data with StandardScaler or MinMaxScaler.\n",
      "  warnings.warn(\n"
     ]
    },
    {
     "name": "stdout",
     "output_type": "stream",
     "text": [
      "[CV 4/5] END C=10, coef0=10, degree=3, gamma=scale, kernel=poly, max_iter=10000;, score=0.764 total time=   0.2s\n",
      "[CV 5/5] END C=10, coef0=10, degree=3, gamma=scale, kernel=poly, max_iter=10000;, score=0.836 total time=   0.2s\n"
     ]
    },
    {
     "name": "stderr",
     "output_type": "stream",
     "text": [
      "/Library/Frameworks/Python.framework/Versions/3.9/lib/python3.9/site-packages/sklearn/svm/_base.py:297: ConvergenceWarning: Solver terminated early (max_iter=100000).  Consider pre-processing your data with StandardScaler or MinMaxScaler.\n",
      "  warnings.warn(\n"
     ]
    },
    {
     "name": "stdout",
     "output_type": "stream",
     "text": [
      "[CV 1/5] END C=10, coef0=10, degree=3, gamma=scale, kernel=poly, max_iter=100000;, score=0.809 total time=   0.6s\n"
     ]
    },
    {
     "name": "stderr",
     "output_type": "stream",
     "text": [
      "/Library/Frameworks/Python.framework/Versions/3.9/lib/python3.9/site-packages/sklearn/svm/_base.py:297: ConvergenceWarning: Solver terminated early (max_iter=100000).  Consider pre-processing your data with StandardScaler or MinMaxScaler.\n",
      "  warnings.warn(\n"
     ]
    },
    {
     "name": "stdout",
     "output_type": "stream",
     "text": [
      "[CV 2/5] END C=10, coef0=10, degree=3, gamma=scale, kernel=poly, max_iter=100000;, score=0.831 total time=   0.6s\n"
     ]
    },
    {
     "name": "stderr",
     "output_type": "stream",
     "text": [
      "/Library/Frameworks/Python.framework/Versions/3.9/lib/python3.9/site-packages/sklearn/svm/_base.py:297: ConvergenceWarning: Solver terminated early (max_iter=100000).  Consider pre-processing your data with StandardScaler or MinMaxScaler.\n",
      "  warnings.warn(\n"
     ]
    },
    {
     "name": "stdout",
     "output_type": "stream",
     "text": [
      "[CV 3/5] END C=10, coef0=10, degree=3, gamma=scale, kernel=poly, max_iter=100000;, score=0.848 total time=   0.7s\n"
     ]
    },
    {
     "name": "stderr",
     "output_type": "stream",
     "text": [
      "/Library/Frameworks/Python.framework/Versions/3.9/lib/python3.9/site-packages/sklearn/svm/_base.py:297: ConvergenceWarning: Solver terminated early (max_iter=100000).  Consider pre-processing your data with StandardScaler or MinMaxScaler.\n",
      "  warnings.warn(\n"
     ]
    },
    {
     "name": "stdout",
     "output_type": "stream",
     "text": [
      "[CV 4/5] END C=10, coef0=10, degree=3, gamma=scale, kernel=poly, max_iter=100000;, score=0.781 total time=   0.7s\n"
     ]
    },
    {
     "name": "stderr",
     "output_type": "stream",
     "text": [
      "/Library/Frameworks/Python.framework/Versions/3.9/lib/python3.9/site-packages/sklearn/svm/_base.py:297: ConvergenceWarning: Solver terminated early (max_iter=100000).  Consider pre-processing your data with StandardScaler or MinMaxScaler.\n",
      "  warnings.warn(\n",
      "/Library/Frameworks/Python.framework/Versions/3.9/lib/python3.9/site-packages/sklearn/svm/_base.py:297: ConvergenceWarning: Solver terminated early (max_iter=500).  Consider pre-processing your data with StandardScaler or MinMaxScaler.\n",
      "  warnings.warn(\n",
      "/Library/Frameworks/Python.framework/Versions/3.9/lib/python3.9/site-packages/sklearn/svm/_base.py:297: ConvergenceWarning: Solver terminated early (max_iter=500).  Consider pre-processing your data with StandardScaler or MinMaxScaler.\n",
      "  warnings.warn(\n",
      "/Library/Frameworks/Python.framework/Versions/3.9/lib/python3.9/site-packages/sklearn/svm/_base.py:297: ConvergenceWarning: Solver terminated early (max_iter=500).  Consider pre-processing your data with StandardScaler or MinMaxScaler.\n",
      "  warnings.warn(\n",
      "/Library/Frameworks/Python.framework/Versions/3.9/lib/python3.9/site-packages/sklearn/svm/_base.py:297: ConvergenceWarning: Solver terminated early (max_iter=500).  Consider pre-processing your data with StandardScaler or MinMaxScaler.\n",
      "  warnings.warn(\n",
      "/Library/Frameworks/Python.framework/Versions/3.9/lib/python3.9/site-packages/sklearn/svm/_base.py:297: ConvergenceWarning: Solver terminated early (max_iter=500).  Consider pre-processing your data with StandardScaler or MinMaxScaler.\n",
      "  warnings.warn(\n",
      "/Library/Frameworks/Python.framework/Versions/3.9/lib/python3.9/site-packages/sklearn/svm/_base.py:297: ConvergenceWarning: Solver terminated early (max_iter=1000).  Consider pre-processing your data with StandardScaler or MinMaxScaler.\n",
      "  warnings.warn(\n"
     ]
    },
    {
     "name": "stdout",
     "output_type": "stream",
     "text": [
      "[CV 5/5] END C=10, coef0=10, degree=3, gamma=scale, kernel=poly, max_iter=100000;, score=0.842 total time=   0.8s\n",
      "[CV 1/5] END C=10, coef0=10, degree=4, gamma=scale, kernel=linear, max_iter=500;, score=0.680 total time=   0.0s\n",
      "[CV 2/5] END C=10, coef0=10, degree=4, gamma=scale, kernel=linear, max_iter=500;, score=0.511 total time=   0.0s\n",
      "[CV 3/5] END C=10, coef0=10, degree=4, gamma=scale, kernel=linear, max_iter=500;, score=0.376 total time=   0.0s\n",
      "[CV 4/5] END C=10, coef0=10, degree=4, gamma=scale, kernel=linear, max_iter=500;, score=0.281 total time=   0.0s\n",
      "[CV 5/5] END C=10, coef0=10, degree=4, gamma=scale, kernel=linear, max_iter=500;, score=0.407 total time=   0.0s\n",
      "[CV 1/5] END C=10, coef0=10, degree=4, gamma=scale, kernel=linear, max_iter=1000;, score=0.775 total time=   0.0s\n"
     ]
    },
    {
     "name": "stderr",
     "output_type": "stream",
     "text": [
      "/Library/Frameworks/Python.framework/Versions/3.9/lib/python3.9/site-packages/sklearn/svm/_base.py:297: ConvergenceWarning: Solver terminated early (max_iter=1000).  Consider pre-processing your data with StandardScaler or MinMaxScaler.\n",
      "  warnings.warn(\n",
      "/Library/Frameworks/Python.framework/Versions/3.9/lib/python3.9/site-packages/sklearn/svm/_base.py:297: ConvergenceWarning: Solver terminated early (max_iter=1000).  Consider pre-processing your data with StandardScaler or MinMaxScaler.\n",
      "  warnings.warn(\n",
      "/Library/Frameworks/Python.framework/Versions/3.9/lib/python3.9/site-packages/sklearn/svm/_base.py:297: ConvergenceWarning: Solver terminated early (max_iter=1000).  Consider pre-processing your data with StandardScaler or MinMaxScaler.\n",
      "  warnings.warn(\n",
      "/Library/Frameworks/Python.framework/Versions/3.9/lib/python3.9/site-packages/sklearn/svm/_base.py:297: ConvergenceWarning: Solver terminated early (max_iter=1000).  Consider pre-processing your data with StandardScaler or MinMaxScaler.\n",
      "  warnings.warn(\n"
     ]
    },
    {
     "name": "stdout",
     "output_type": "stream",
     "text": [
      "[CV 2/5] END C=10, coef0=10, degree=4, gamma=scale, kernel=linear, max_iter=1000;, score=0.803 total time=   0.0s\n",
      "[CV 3/5] END C=10, coef0=10, degree=4, gamma=scale, kernel=linear, max_iter=1000;, score=0.775 total time=   0.0s\n",
      "[CV 4/5] END C=10, coef0=10, degree=4, gamma=scale, kernel=linear, max_iter=1000;, score=0.787 total time=   0.0s\n",
      "[CV 5/5] END C=10, coef0=10, degree=4, gamma=scale, kernel=linear, max_iter=1000;, score=0.797 total time=   0.0s\n"
     ]
    },
    {
     "name": "stderr",
     "output_type": "stream",
     "text": [
      "/Library/Frameworks/Python.framework/Versions/3.9/lib/python3.9/site-packages/sklearn/svm/_base.py:297: ConvergenceWarning: Solver terminated early (max_iter=10000).  Consider pre-processing your data with StandardScaler or MinMaxScaler.\n",
      "  warnings.warn(\n",
      "/Library/Frameworks/Python.framework/Versions/3.9/lib/python3.9/site-packages/sklearn/svm/_base.py:297: ConvergenceWarning: Solver terminated early (max_iter=10000).  Consider pre-processing your data with StandardScaler or MinMaxScaler.\n",
      "  warnings.warn(\n",
      "/Library/Frameworks/Python.framework/Versions/3.9/lib/python3.9/site-packages/sklearn/svm/_base.py:297: ConvergenceWarning: Solver terminated early (max_iter=10000).  Consider pre-processing your data with StandardScaler or MinMaxScaler.\n",
      "  warnings.warn(\n"
     ]
    },
    {
     "name": "stdout",
     "output_type": "stream",
     "text": [
      "[CV 1/5] END C=10, coef0=10, degree=4, gamma=scale, kernel=linear, max_iter=10000;, score=0.820 total time=   0.1s\n",
      "[CV 2/5] END C=10, coef0=10, degree=4, gamma=scale, kernel=linear, max_iter=10000;, score=0.815 total time=   0.1s\n",
      "[CV 3/5] END C=10, coef0=10, degree=4, gamma=scale, kernel=linear, max_iter=10000;, score=0.798 total time=   0.1s\n"
     ]
    },
    {
     "name": "stderr",
     "output_type": "stream",
     "text": [
      "/Library/Frameworks/Python.framework/Versions/3.9/lib/python3.9/site-packages/sklearn/svm/_base.py:297: ConvergenceWarning: Solver terminated early (max_iter=10000).  Consider pre-processing your data with StandardScaler or MinMaxScaler.\n",
      "  warnings.warn(\n",
      "/Library/Frameworks/Python.framework/Versions/3.9/lib/python3.9/site-packages/sklearn/svm/_base.py:297: ConvergenceWarning: Solver terminated early (max_iter=10000).  Consider pre-processing your data with StandardScaler or MinMaxScaler.\n",
      "  warnings.warn(\n"
     ]
    },
    {
     "name": "stdout",
     "output_type": "stream",
     "text": [
      "[CV 4/5] END C=10, coef0=10, degree=4, gamma=scale, kernel=linear, max_iter=10000;, score=0.770 total time=   0.1s\n",
      "[CV 5/5] END C=10, coef0=10, degree=4, gamma=scale, kernel=linear, max_iter=10000;, score=0.797 total time=   0.1s\n",
      "[CV 1/5] END C=10, coef0=10, degree=4, gamma=scale, kernel=linear, max_iter=100000;, score=0.815 total time=   0.1s\n",
      "[CV 2/5] END C=10, coef0=10, degree=4, gamma=scale, kernel=linear, max_iter=100000;, score=0.815 total time=   0.1s\n"
     ]
    },
    {
     "name": "stderr",
     "output_type": "stream",
     "text": [
      "/Library/Frameworks/Python.framework/Versions/3.9/lib/python3.9/site-packages/sklearn/svm/_base.py:297: ConvergenceWarning: Solver terminated early (max_iter=100000).  Consider pre-processing your data with StandardScaler or MinMaxScaler.\n",
      "  warnings.warn(\n"
     ]
    },
    {
     "name": "stdout",
     "output_type": "stream",
     "text": [
      "[CV 3/5] END C=10, coef0=10, degree=4, gamma=scale, kernel=linear, max_iter=100000;, score=0.798 total time=   0.1s\n",
      "[CV 4/5] END C=10, coef0=10, degree=4, gamma=scale, kernel=linear, max_iter=100000;, score=0.770 total time=   0.2s\n"
     ]
    },
    {
     "name": "stderr",
     "output_type": "stream",
     "text": [
      "/Library/Frameworks/Python.framework/Versions/3.9/lib/python3.9/site-packages/sklearn/svm/_base.py:297: ConvergenceWarning: Solver terminated early (max_iter=100000).  Consider pre-processing your data with StandardScaler or MinMaxScaler.\n",
      "  warnings.warn(\n",
      "/Library/Frameworks/Python.framework/Versions/3.9/lib/python3.9/site-packages/sklearn/svm/_base.py:297: ConvergenceWarning: Solver terminated early (max_iter=100000).  Consider pre-processing your data with StandardScaler or MinMaxScaler.\n",
      "  warnings.warn(\n",
      "/Library/Frameworks/Python.framework/Versions/3.9/lib/python3.9/site-packages/sklearn/svm/_base.py:297: ConvergenceWarning: Solver terminated early (max_iter=500).  Consider pre-processing your data with StandardScaler or MinMaxScaler.\n",
      "  warnings.warn(\n",
      "/Library/Frameworks/Python.framework/Versions/3.9/lib/python3.9/site-packages/sklearn/svm/_base.py:297: ConvergenceWarning: Solver terminated early (max_iter=500).  Consider pre-processing your data with StandardScaler or MinMaxScaler.\n",
      "  warnings.warn(\n",
      "/Library/Frameworks/Python.framework/Versions/3.9/lib/python3.9/site-packages/sklearn/svm/_base.py:297: ConvergenceWarning: Solver terminated early (max_iter=500).  Consider pre-processing your data with StandardScaler or MinMaxScaler.\n",
      "  warnings.warn(\n",
      "/Library/Frameworks/Python.framework/Versions/3.9/lib/python3.9/site-packages/sklearn/svm/_base.py:297: ConvergenceWarning: Solver terminated early (max_iter=500).  Consider pre-processing your data with StandardScaler or MinMaxScaler.\n",
      "  warnings.warn(\n"
     ]
    },
    {
     "name": "stdout",
     "output_type": "stream",
     "text": [
      "[CV 5/5] END C=10, coef0=10, degree=4, gamma=scale, kernel=linear, max_iter=100000;, score=0.802 total time=   0.2s\n",
      "[CV 1/5] END C=10, coef0=10, degree=4, gamma=scale, kernel=rbf, max_iter=500;, score=0.837 total time=   0.0s\n",
      "[CV 2/5] END C=10, coef0=10, degree=4, gamma=scale, kernel=rbf, max_iter=500;, score=0.820 total time=   0.0s\n",
      "[CV 3/5] END C=10, coef0=10, degree=4, gamma=scale, kernel=rbf, max_iter=500;, score=0.820 total time=   0.0s\n",
      "[CV 4/5] END C=10, coef0=10, degree=4, gamma=scale, kernel=rbf, max_iter=500;, score=0.781 total time=   0.0s\n"
     ]
    },
    {
     "name": "stderr",
     "output_type": "stream",
     "text": [
      "/Library/Frameworks/Python.framework/Versions/3.9/lib/python3.9/site-packages/sklearn/svm/_base.py:297: ConvergenceWarning: Solver terminated early (max_iter=500).  Consider pre-processing your data with StandardScaler or MinMaxScaler.\n",
      "  warnings.warn(\n",
      "/Library/Frameworks/Python.framework/Versions/3.9/lib/python3.9/site-packages/sklearn/svm/_base.py:297: ConvergenceWarning: Solver terminated early (max_iter=1000).  Consider pre-processing your data with StandardScaler or MinMaxScaler.\n",
      "  warnings.warn(\n",
      "/Library/Frameworks/Python.framework/Versions/3.9/lib/python3.9/site-packages/sklearn/svm/_base.py:297: ConvergenceWarning: Solver terminated early (max_iter=1000).  Consider pre-processing your data with StandardScaler or MinMaxScaler.\n",
      "  warnings.warn(\n",
      "/Library/Frameworks/Python.framework/Versions/3.9/lib/python3.9/site-packages/sklearn/svm/_base.py:297: ConvergenceWarning: Solver terminated early (max_iter=1000).  Consider pre-processing your data with StandardScaler or MinMaxScaler.\n",
      "  warnings.warn(\n"
     ]
    },
    {
     "name": "stdout",
     "output_type": "stream",
     "text": [
      "[CV 5/5] END C=10, coef0=10, degree=4, gamma=scale, kernel=rbf, max_iter=500;, score=0.853 total time=   0.0s\n",
      "[CV 1/5] END C=10, coef0=10, degree=4, gamma=scale, kernel=rbf, max_iter=1000;, score=0.837 total time=   0.1s\n",
      "[CV 2/5] END C=10, coef0=10, degree=4, gamma=scale, kernel=rbf, max_iter=1000;, score=0.820 total time=   0.1s\n",
      "[CV 3/5] END C=10, coef0=10, degree=4, gamma=scale, kernel=rbf, max_iter=1000;, score=0.820 total time=   0.1s\n"
     ]
    },
    {
     "name": "stderr",
     "output_type": "stream",
     "text": [
      "/Library/Frameworks/Python.framework/Versions/3.9/lib/python3.9/site-packages/sklearn/svm/_base.py:297: ConvergenceWarning: Solver terminated early (max_iter=1000).  Consider pre-processing your data with StandardScaler or MinMaxScaler.\n",
      "  warnings.warn(\n",
      "/Library/Frameworks/Python.framework/Versions/3.9/lib/python3.9/site-packages/sklearn/svm/_base.py:297: ConvergenceWarning: Solver terminated early (max_iter=1000).  Consider pre-processing your data with StandardScaler or MinMaxScaler.\n",
      "  warnings.warn(\n"
     ]
    },
    {
     "name": "stdout",
     "output_type": "stream",
     "text": [
      "[CV 4/5] END C=10, coef0=10, degree=4, gamma=scale, kernel=rbf, max_iter=1000;, score=0.781 total time=   0.1s\n",
      "[CV 5/5] END C=10, coef0=10, degree=4, gamma=scale, kernel=rbf, max_iter=1000;, score=0.853 total time=   0.1s\n",
      "[CV 1/5] END C=10, coef0=10, degree=4, gamma=scale, kernel=rbf, max_iter=10000;, score=0.837 total time=   0.1s\n",
      "[CV 2/5] END C=10, coef0=10, degree=4, gamma=scale, kernel=rbf, max_iter=10000;, score=0.820 total time=   0.1s\n",
      "[CV 3/5] END C=10, coef0=10, degree=4, gamma=scale, kernel=rbf, max_iter=10000;, score=0.820 total time=   0.1s\n",
      "[CV 4/5] END C=10, coef0=10, degree=4, gamma=scale, kernel=rbf, max_iter=10000;, score=0.781 total time=   0.1s\n",
      "[CV 5/5] END C=10, coef0=10, degree=4, gamma=scale, kernel=rbf, max_iter=10000;, score=0.853 total time=   0.1s\n",
      "[CV 1/5] END C=10, coef0=10, degree=4, gamma=scale, kernel=rbf, max_iter=100000;, score=0.837 total time=   0.1s\n",
      "[CV 2/5] END C=10, coef0=10, degree=4, gamma=scale, kernel=rbf, max_iter=100000;, score=0.820 total time=   0.1s\n",
      "[CV 3/5] END C=10, coef0=10, degree=4, gamma=scale, kernel=rbf, max_iter=100000;, score=0.820 total time=   0.1s\n",
      "[CV 4/5] END C=10, coef0=10, degree=4, gamma=scale, kernel=rbf, max_iter=100000;, score=0.781 total time=   0.1s\n",
      "[CV 5/5] END C=10, coef0=10, degree=4, gamma=scale, kernel=rbf, max_iter=100000;, score=0.853 total time=   0.1s\n",
      "[CV 1/5] END C=10, coef0=10, degree=4, gamma=scale, kernel=poly, max_iter=500;, score=0.517 total time=   0.0s\n"
     ]
    },
    {
     "name": "stderr",
     "output_type": "stream",
     "text": [
      "/Library/Frameworks/Python.framework/Versions/3.9/lib/python3.9/site-packages/sklearn/svm/_base.py:297: ConvergenceWarning: Solver terminated early (max_iter=500).  Consider pre-processing your data with StandardScaler or MinMaxScaler.\n",
      "  warnings.warn(\n",
      "/Library/Frameworks/Python.framework/Versions/3.9/lib/python3.9/site-packages/sklearn/svm/_base.py:297: ConvergenceWarning: Solver terminated early (max_iter=500).  Consider pre-processing your data with StandardScaler or MinMaxScaler.\n",
      "  warnings.warn(\n",
      "/Library/Frameworks/Python.framework/Versions/3.9/lib/python3.9/site-packages/sklearn/svm/_base.py:297: ConvergenceWarning: Solver terminated early (max_iter=500).  Consider pre-processing your data with StandardScaler or MinMaxScaler.\n",
      "  warnings.warn(\n",
      "/Library/Frameworks/Python.framework/Versions/3.9/lib/python3.9/site-packages/sklearn/svm/_base.py:297: ConvergenceWarning: Solver terminated early (max_iter=500).  Consider pre-processing your data with StandardScaler or MinMaxScaler.\n",
      "  warnings.warn(\n",
      "/Library/Frameworks/Python.framework/Versions/3.9/lib/python3.9/site-packages/sklearn/svm/_base.py:297: ConvergenceWarning: Solver terminated early (max_iter=500).  Consider pre-processing your data with StandardScaler or MinMaxScaler.\n",
      "  warnings.warn(\n",
      "/Library/Frameworks/Python.framework/Versions/3.9/lib/python3.9/site-packages/sklearn/svm/_base.py:297: ConvergenceWarning: Solver terminated early (max_iter=1000).  Consider pre-processing your data with StandardScaler or MinMaxScaler.\n",
      "  warnings.warn(\n",
      "/Library/Frameworks/Python.framework/Versions/3.9/lib/python3.9/site-packages/sklearn/svm/_base.py:297: ConvergenceWarning: Solver terminated early (max_iter=1000).  Consider pre-processing your data with StandardScaler or MinMaxScaler.\n",
      "  warnings.warn(\n"
     ]
    },
    {
     "name": "stdout",
     "output_type": "stream",
     "text": [
      "[CV 2/5] END C=10, coef0=10, degree=4, gamma=scale, kernel=poly, max_iter=500;, score=0.416 total time=   0.0s\n",
      "[CV 3/5] END C=10, coef0=10, degree=4, gamma=scale, kernel=poly, max_iter=500;, score=0.466 total time=   0.0s\n",
      "[CV 4/5] END C=10, coef0=10, degree=4, gamma=scale, kernel=poly, max_iter=500;, score=0.376 total time=   0.0s\n",
      "[CV 5/5] END C=10, coef0=10, degree=4, gamma=scale, kernel=poly, max_iter=500;, score=0.277 total time=   0.0s\n",
      "[CV 1/5] END C=10, coef0=10, degree=4, gamma=scale, kernel=poly, max_iter=1000;, score=0.506 total time=   0.0s\n",
      "[CV 2/5] END C=10, coef0=10, degree=4, gamma=scale, kernel=poly, max_iter=1000;, score=0.449 total time=   0.0s\n",
      "[CV 3/5] END C=10, coef0=10, degree=4, gamma=scale, kernel=poly, max_iter=1000;, score=0.669 total time=   0.0s\n"
     ]
    },
    {
     "name": "stderr",
     "output_type": "stream",
     "text": [
      "/Library/Frameworks/Python.framework/Versions/3.9/lib/python3.9/site-packages/sklearn/svm/_base.py:297: ConvergenceWarning: Solver terminated early (max_iter=1000).  Consider pre-processing your data with StandardScaler or MinMaxScaler.\n",
      "  warnings.warn(\n",
      "/Library/Frameworks/Python.framework/Versions/3.9/lib/python3.9/site-packages/sklearn/svm/_base.py:297: ConvergenceWarning: Solver terminated early (max_iter=1000).  Consider pre-processing your data with StandardScaler or MinMaxScaler.\n",
      "  warnings.warn(\n",
      "/Library/Frameworks/Python.framework/Versions/3.9/lib/python3.9/site-packages/sklearn/svm/_base.py:297: ConvergenceWarning: Solver terminated early (max_iter=1000).  Consider pre-processing your data with StandardScaler or MinMaxScaler.\n",
      "  warnings.warn(\n"
     ]
    },
    {
     "name": "stdout",
     "output_type": "stream",
     "text": [
      "[CV 4/5] END C=10, coef0=10, degree=4, gamma=scale, kernel=poly, max_iter=1000;, score=0.472 total time=   0.0s\n",
      "[CV 5/5] END C=10, coef0=10, degree=4, gamma=scale, kernel=poly, max_iter=1000;, score=0.706 total time=   0.0s\n"
     ]
    },
    {
     "name": "stderr",
     "output_type": "stream",
     "text": [
      "/Library/Frameworks/Python.framework/Versions/3.9/lib/python3.9/site-packages/sklearn/svm/_base.py:297: ConvergenceWarning: Solver terminated early (max_iter=10000).  Consider pre-processing your data with StandardScaler or MinMaxScaler.\n",
      "  warnings.warn(\n",
      "/Library/Frameworks/Python.framework/Versions/3.9/lib/python3.9/site-packages/sklearn/svm/_base.py:297: ConvergenceWarning: Solver terminated early (max_iter=10000).  Consider pre-processing your data with StandardScaler or MinMaxScaler.\n",
      "  warnings.warn(\n"
     ]
    },
    {
     "name": "stdout",
     "output_type": "stream",
     "text": [
      "[CV 1/5] END C=10, coef0=10, degree=4, gamma=scale, kernel=poly, max_iter=10000;, score=0.489 total time=   0.2s\n",
      "[CV 2/5] END C=10, coef0=10, degree=4, gamma=scale, kernel=poly, max_iter=10000;, score=0.494 total time=   0.2s\n"
     ]
    },
    {
     "name": "stderr",
     "output_type": "stream",
     "text": [
      "/Library/Frameworks/Python.framework/Versions/3.9/lib/python3.9/site-packages/sklearn/svm/_base.py:297: ConvergenceWarning: Solver terminated early (max_iter=10000).  Consider pre-processing your data with StandardScaler or MinMaxScaler.\n",
      "  warnings.warn(\n",
      "/Library/Frameworks/Python.framework/Versions/3.9/lib/python3.9/site-packages/sklearn/svm/_base.py:297: ConvergenceWarning: Solver terminated early (max_iter=10000).  Consider pre-processing your data with StandardScaler or MinMaxScaler.\n",
      "  warnings.warn(\n"
     ]
    },
    {
     "name": "stdout",
     "output_type": "stream",
     "text": [
      "[CV 3/5] END C=10, coef0=10, degree=4, gamma=scale, kernel=poly, max_iter=10000;, score=0.478 total time=   0.2s\n",
      "[CV 4/5] END C=10, coef0=10, degree=4, gamma=scale, kernel=poly, max_iter=10000;, score=0.421 total time=   0.2s\n"
     ]
    },
    {
     "name": "stderr",
     "output_type": "stream",
     "text": [
      "/Library/Frameworks/Python.framework/Versions/3.9/lib/python3.9/site-packages/sklearn/svm/_base.py:297: ConvergenceWarning: Solver terminated early (max_iter=10000).  Consider pre-processing your data with StandardScaler or MinMaxScaler.\n",
      "  warnings.warn(\n"
     ]
    },
    {
     "name": "stdout",
     "output_type": "stream",
     "text": [
      "[CV 5/5] END C=10, coef0=10, degree=4, gamma=scale, kernel=poly, max_iter=10000;, score=0.373 total time=   0.2s\n"
     ]
    },
    {
     "name": "stderr",
     "output_type": "stream",
     "text": [
      "/Library/Frameworks/Python.framework/Versions/3.9/lib/python3.9/site-packages/sklearn/svm/_base.py:297: ConvergenceWarning: Solver terminated early (max_iter=100000).  Consider pre-processing your data with StandardScaler or MinMaxScaler.\n",
      "  warnings.warn(\n"
     ]
    },
    {
     "name": "stdout",
     "output_type": "stream",
     "text": [
      "[CV 1/5] END C=10, coef0=10, degree=4, gamma=scale, kernel=poly, max_iter=100000;, score=0.792 total time=   1.2s\n"
     ]
    },
    {
     "name": "stderr",
     "output_type": "stream",
     "text": [
      "/Library/Frameworks/Python.framework/Versions/3.9/lib/python3.9/site-packages/sklearn/svm/_base.py:297: ConvergenceWarning: Solver terminated early (max_iter=100000).  Consider pre-processing your data with StandardScaler or MinMaxScaler.\n",
      "  warnings.warn(\n"
     ]
    },
    {
     "name": "stdout",
     "output_type": "stream",
     "text": [
      "[CV 2/5] END C=10, coef0=10, degree=4, gamma=scale, kernel=poly, max_iter=100000;, score=0.798 total time=   1.0s\n"
     ]
    },
    {
     "name": "stderr",
     "output_type": "stream",
     "text": [
      "/Library/Frameworks/Python.framework/Versions/3.9/lib/python3.9/site-packages/sklearn/svm/_base.py:297: ConvergenceWarning: Solver terminated early (max_iter=100000).  Consider pre-processing your data with StandardScaler or MinMaxScaler.\n",
      "  warnings.warn(\n"
     ]
    },
    {
     "name": "stdout",
     "output_type": "stream",
     "text": [
      "[CV 3/5] END C=10, coef0=10, degree=4, gamma=scale, kernel=poly, max_iter=100000;, score=0.826 total time=   1.2s\n"
     ]
    },
    {
     "name": "stderr",
     "output_type": "stream",
     "text": [
      "/Library/Frameworks/Python.framework/Versions/3.9/lib/python3.9/site-packages/sklearn/svm/_base.py:297: ConvergenceWarning: Solver terminated early (max_iter=100000).  Consider pre-processing your data with StandardScaler or MinMaxScaler.\n",
      "  warnings.warn(\n"
     ]
    },
    {
     "name": "stdout",
     "output_type": "stream",
     "text": [
      "[CV 4/5] END C=10, coef0=10, degree=4, gamma=scale, kernel=poly, max_iter=100000;, score=0.781 total time=   1.2s\n"
     ]
    },
    {
     "name": "stderr",
     "output_type": "stream",
     "text": [
      "/Library/Frameworks/Python.framework/Versions/3.9/lib/python3.9/site-packages/sklearn/svm/_base.py:297: ConvergenceWarning: Solver terminated early (max_iter=100000).  Consider pre-processing your data with StandardScaler or MinMaxScaler.\n",
      "  warnings.warn(\n",
      "/Library/Frameworks/Python.framework/Versions/3.9/lib/python3.9/site-packages/sklearn/svm/_base.py:297: ConvergenceWarning: Solver terminated early (max_iter=500).  Consider pre-processing your data with StandardScaler or MinMaxScaler.\n",
      "  warnings.warn(\n",
      "/Library/Frameworks/Python.framework/Versions/3.9/lib/python3.9/site-packages/sklearn/svm/_base.py:297: ConvergenceWarning: Solver terminated early (max_iter=500).  Consider pre-processing your data with StandardScaler or MinMaxScaler.\n",
      "  warnings.warn(\n",
      "/Library/Frameworks/Python.framework/Versions/3.9/lib/python3.9/site-packages/sklearn/svm/_base.py:297: ConvergenceWarning: Solver terminated early (max_iter=500).  Consider pre-processing your data with StandardScaler or MinMaxScaler.\n",
      "  warnings.warn(\n",
      "/Library/Frameworks/Python.framework/Versions/3.9/lib/python3.9/site-packages/sklearn/svm/_base.py:297: ConvergenceWarning: Solver terminated early (max_iter=500).  Consider pre-processing your data with StandardScaler or MinMaxScaler.\n",
      "  warnings.warn(\n",
      "/Library/Frameworks/Python.framework/Versions/3.9/lib/python3.9/site-packages/sklearn/svm/_base.py:297: ConvergenceWarning: Solver terminated early (max_iter=500).  Consider pre-processing your data with StandardScaler or MinMaxScaler.\n",
      "  warnings.warn(\n"
     ]
    },
    {
     "name": "stdout",
     "output_type": "stream",
     "text": [
      "[CV 5/5] END C=10, coef0=10, degree=4, gamma=scale, kernel=poly, max_iter=100000;, score=0.768 total time=   1.2s\n",
      "[CV 1/5] END C=10, coef0=10, degree=5, gamma=scale, kernel=linear, max_iter=500;, score=0.680 total time=   0.0s\n",
      "[CV 2/5] END C=10, coef0=10, degree=5, gamma=scale, kernel=linear, max_iter=500;, score=0.511 total time=   0.0s\n",
      "[CV 3/5] END C=10, coef0=10, degree=5, gamma=scale, kernel=linear, max_iter=500;, score=0.376 total time=   0.0s\n",
      "[CV 4/5] END C=10, coef0=10, degree=5, gamma=scale, kernel=linear, max_iter=500;, score=0.281 total time=   0.0s\n",
      "[CV 5/5] END C=10, coef0=10, degree=5, gamma=scale, kernel=linear, max_iter=500;, score=0.407 total time=   0.0s\n"
     ]
    },
    {
     "name": "stderr",
     "output_type": "stream",
     "text": [
      "/Library/Frameworks/Python.framework/Versions/3.9/lib/python3.9/site-packages/sklearn/svm/_base.py:297: ConvergenceWarning: Solver terminated early (max_iter=1000).  Consider pre-processing your data with StandardScaler or MinMaxScaler.\n",
      "  warnings.warn(\n",
      "/Library/Frameworks/Python.framework/Versions/3.9/lib/python3.9/site-packages/sklearn/svm/_base.py:297: ConvergenceWarning: Solver terminated early (max_iter=1000).  Consider pre-processing your data with StandardScaler or MinMaxScaler.\n",
      "  warnings.warn(\n",
      "/Library/Frameworks/Python.framework/Versions/3.9/lib/python3.9/site-packages/sklearn/svm/_base.py:297: ConvergenceWarning: Solver terminated early (max_iter=1000).  Consider pre-processing your data with StandardScaler or MinMaxScaler.\n",
      "  warnings.warn(\n",
      "/Library/Frameworks/Python.framework/Versions/3.9/lib/python3.9/site-packages/sklearn/svm/_base.py:297: ConvergenceWarning: Solver terminated early (max_iter=1000).  Consider pre-processing your data with StandardScaler or MinMaxScaler.\n",
      "  warnings.warn(\n",
      "/Library/Frameworks/Python.framework/Versions/3.9/lib/python3.9/site-packages/sklearn/svm/_base.py:297: ConvergenceWarning: Solver terminated early (max_iter=1000).  Consider pre-processing your data with StandardScaler or MinMaxScaler.\n",
      "  warnings.warn(\n"
     ]
    },
    {
     "name": "stdout",
     "output_type": "stream",
     "text": [
      "[CV 1/5] END C=10, coef0=10, degree=5, gamma=scale, kernel=linear, max_iter=1000;, score=0.775 total time=   0.0s\n",
      "[CV 2/5] END C=10, coef0=10, degree=5, gamma=scale, kernel=linear, max_iter=1000;, score=0.803 total time=   0.0s\n",
      "[CV 3/5] END C=10, coef0=10, degree=5, gamma=scale, kernel=linear, max_iter=1000;, score=0.775 total time=   0.0s\n",
      "[CV 4/5] END C=10, coef0=10, degree=5, gamma=scale, kernel=linear, max_iter=1000;, score=0.787 total time=   0.0s\n",
      "[CV 5/5] END C=10, coef0=10, degree=5, gamma=scale, kernel=linear, max_iter=1000;, score=0.797 total time=   0.0s\n"
     ]
    },
    {
     "name": "stderr",
     "output_type": "stream",
     "text": [
      "/Library/Frameworks/Python.framework/Versions/3.9/lib/python3.9/site-packages/sklearn/svm/_base.py:297: ConvergenceWarning: Solver terminated early (max_iter=10000).  Consider pre-processing your data with StandardScaler or MinMaxScaler.\n",
      "  warnings.warn(\n",
      "/Library/Frameworks/Python.framework/Versions/3.9/lib/python3.9/site-packages/sklearn/svm/_base.py:297: ConvergenceWarning: Solver terminated early (max_iter=10000).  Consider pre-processing your data with StandardScaler or MinMaxScaler.\n",
      "  warnings.warn(\n",
      "/Library/Frameworks/Python.framework/Versions/3.9/lib/python3.9/site-packages/sklearn/svm/_base.py:297: ConvergenceWarning: Solver terminated early (max_iter=10000).  Consider pre-processing your data with StandardScaler or MinMaxScaler.\n",
      "  warnings.warn(\n"
     ]
    },
    {
     "name": "stdout",
     "output_type": "stream",
     "text": [
      "[CV 1/5] END C=10, coef0=10, degree=5, gamma=scale, kernel=linear, max_iter=10000;, score=0.820 total time=   0.1s\n",
      "[CV 2/5] END C=10, coef0=10, degree=5, gamma=scale, kernel=linear, max_iter=10000;, score=0.815 total time=   0.1s\n",
      "[CV 3/5] END C=10, coef0=10, degree=5, gamma=scale, kernel=linear, max_iter=10000;, score=0.798 total time=   0.1s\n"
     ]
    },
    {
     "name": "stderr",
     "output_type": "stream",
     "text": [
      "/Library/Frameworks/Python.framework/Versions/3.9/lib/python3.9/site-packages/sklearn/svm/_base.py:297: ConvergenceWarning: Solver terminated early (max_iter=10000).  Consider pre-processing your data with StandardScaler or MinMaxScaler.\n",
      "  warnings.warn(\n",
      "/Library/Frameworks/Python.framework/Versions/3.9/lib/python3.9/site-packages/sklearn/svm/_base.py:297: ConvergenceWarning: Solver terminated early (max_iter=10000).  Consider pre-processing your data with StandardScaler or MinMaxScaler.\n",
      "  warnings.warn(\n"
     ]
    },
    {
     "name": "stdout",
     "output_type": "stream",
     "text": [
      "[CV 4/5] END C=10, coef0=10, degree=5, gamma=scale, kernel=linear, max_iter=10000;, score=0.770 total time=   0.1s\n",
      "[CV 5/5] END C=10, coef0=10, degree=5, gamma=scale, kernel=linear, max_iter=10000;, score=0.797 total time=   0.1s\n",
      "[CV 1/5] END C=10, coef0=10, degree=5, gamma=scale, kernel=linear, max_iter=100000;, score=0.815 total time=   0.1s\n",
      "[CV 2/5] END C=10, coef0=10, degree=5, gamma=scale, kernel=linear, max_iter=100000;, score=0.815 total time=   0.1s\n"
     ]
    },
    {
     "name": "stderr",
     "output_type": "stream",
     "text": [
      "/Library/Frameworks/Python.framework/Versions/3.9/lib/python3.9/site-packages/sklearn/svm/_base.py:297: ConvergenceWarning: Solver terminated early (max_iter=100000).  Consider pre-processing your data with StandardScaler or MinMaxScaler.\n",
      "  warnings.warn(\n"
     ]
    },
    {
     "name": "stdout",
     "output_type": "stream",
     "text": [
      "[CV 3/5] END C=10, coef0=10, degree=5, gamma=scale, kernel=linear, max_iter=100000;, score=0.798 total time=   0.1s\n",
      "[CV 4/5] END C=10, coef0=10, degree=5, gamma=scale, kernel=linear, max_iter=100000;, score=0.770 total time=   0.2s\n"
     ]
    },
    {
     "name": "stderr",
     "output_type": "stream",
     "text": [
      "/Library/Frameworks/Python.framework/Versions/3.9/lib/python3.9/site-packages/sklearn/svm/_base.py:297: ConvergenceWarning: Solver terminated early (max_iter=100000).  Consider pre-processing your data with StandardScaler or MinMaxScaler.\n",
      "  warnings.warn(\n",
      "/Library/Frameworks/Python.framework/Versions/3.9/lib/python3.9/site-packages/sklearn/svm/_base.py:297: ConvergenceWarning: Solver terminated early (max_iter=100000).  Consider pre-processing your data with StandardScaler or MinMaxScaler.\n",
      "  warnings.warn(\n",
      "/Library/Frameworks/Python.framework/Versions/3.9/lib/python3.9/site-packages/sklearn/svm/_base.py:297: ConvergenceWarning: Solver terminated early (max_iter=500).  Consider pre-processing your data with StandardScaler or MinMaxScaler.\n",
      "  warnings.warn(\n",
      "/Library/Frameworks/Python.framework/Versions/3.9/lib/python3.9/site-packages/sklearn/svm/_base.py:297: ConvergenceWarning: Solver terminated early (max_iter=500).  Consider pre-processing your data with StandardScaler or MinMaxScaler.\n",
      "  warnings.warn(\n",
      "/Library/Frameworks/Python.framework/Versions/3.9/lib/python3.9/site-packages/sklearn/svm/_base.py:297: ConvergenceWarning: Solver terminated early (max_iter=500).  Consider pre-processing your data with StandardScaler or MinMaxScaler.\n",
      "  warnings.warn(\n"
     ]
    },
    {
     "name": "stdout",
     "output_type": "stream",
     "text": [
      "[CV 5/5] END C=10, coef0=10, degree=5, gamma=scale, kernel=linear, max_iter=100000;, score=0.802 total time=   0.2s\n",
      "[CV 1/5] END C=10, coef0=10, degree=5, gamma=scale, kernel=rbf, max_iter=500;, score=0.837 total time=   0.0s\n",
      "[CV 2/5] END C=10, coef0=10, degree=5, gamma=scale, kernel=rbf, max_iter=500;, score=0.820 total time=   0.0s\n",
      "[CV 3/5] END C=10, coef0=10, degree=5, gamma=scale, kernel=rbf, max_iter=500;, score=0.820 total time=   0.0s\n"
     ]
    },
    {
     "name": "stderr",
     "output_type": "stream",
     "text": [
      "/Library/Frameworks/Python.framework/Versions/3.9/lib/python3.9/site-packages/sklearn/svm/_base.py:297: ConvergenceWarning: Solver terminated early (max_iter=500).  Consider pre-processing your data with StandardScaler or MinMaxScaler.\n",
      "  warnings.warn(\n",
      "/Library/Frameworks/Python.framework/Versions/3.9/lib/python3.9/site-packages/sklearn/svm/_base.py:297: ConvergenceWarning: Solver terminated early (max_iter=500).  Consider pre-processing your data with StandardScaler or MinMaxScaler.\n",
      "  warnings.warn(\n",
      "/Library/Frameworks/Python.framework/Versions/3.9/lib/python3.9/site-packages/sklearn/svm/_base.py:297: ConvergenceWarning: Solver terminated early (max_iter=1000).  Consider pre-processing your data with StandardScaler or MinMaxScaler.\n",
      "  warnings.warn(\n",
      "/Library/Frameworks/Python.framework/Versions/3.9/lib/python3.9/site-packages/sklearn/svm/_base.py:297: ConvergenceWarning: Solver terminated early (max_iter=1000).  Consider pre-processing your data with StandardScaler or MinMaxScaler.\n",
      "  warnings.warn(\n"
     ]
    },
    {
     "name": "stdout",
     "output_type": "stream",
     "text": [
      "[CV 4/5] END C=10, coef0=10, degree=5, gamma=scale, kernel=rbf, max_iter=500;, score=0.781 total time=   0.1s\n",
      "[CV 5/5] END C=10, coef0=10, degree=5, gamma=scale, kernel=rbf, max_iter=500;, score=0.853 total time=   0.1s\n",
      "[CV 1/5] END C=10, coef0=10, degree=5, gamma=scale, kernel=rbf, max_iter=1000;, score=0.837 total time=   0.1s\n",
      "[CV 2/5] END C=10, coef0=10, degree=5, gamma=scale, kernel=rbf, max_iter=1000;, score=0.820 total time=   0.1s\n"
     ]
    },
    {
     "name": "stderr",
     "output_type": "stream",
     "text": [
      "/Library/Frameworks/Python.framework/Versions/3.9/lib/python3.9/site-packages/sklearn/svm/_base.py:297: ConvergenceWarning: Solver terminated early (max_iter=1000).  Consider pre-processing your data with StandardScaler or MinMaxScaler.\n",
      "  warnings.warn(\n",
      "/Library/Frameworks/Python.framework/Versions/3.9/lib/python3.9/site-packages/sklearn/svm/_base.py:297: ConvergenceWarning: Solver terminated early (max_iter=1000).  Consider pre-processing your data with StandardScaler or MinMaxScaler.\n",
      "  warnings.warn(\n",
      "/Library/Frameworks/Python.framework/Versions/3.9/lib/python3.9/site-packages/sklearn/svm/_base.py:297: ConvergenceWarning: Solver terminated early (max_iter=1000).  Consider pre-processing your data with StandardScaler or MinMaxScaler.\n",
      "  warnings.warn(\n"
     ]
    },
    {
     "name": "stdout",
     "output_type": "stream",
     "text": [
      "[CV 3/5] END C=10, coef0=10, degree=5, gamma=scale, kernel=rbf, max_iter=1000;, score=0.820 total time=   0.1s\n",
      "[CV 4/5] END C=10, coef0=10, degree=5, gamma=scale, kernel=rbf, max_iter=1000;, score=0.781 total time=   0.1s\n",
      "[CV 5/5] END C=10, coef0=10, degree=5, gamma=scale, kernel=rbf, max_iter=1000;, score=0.853 total time=   0.1s\n",
      "[CV 1/5] END C=10, coef0=10, degree=5, gamma=scale, kernel=rbf, max_iter=10000;, score=0.837 total time=   0.1s\n",
      "[CV 2/5] END C=10, coef0=10, degree=5, gamma=scale, kernel=rbf, max_iter=10000;, score=0.820 total time=   0.1s\n",
      "[CV 3/5] END C=10, coef0=10, degree=5, gamma=scale, kernel=rbf, max_iter=10000;, score=0.820 total time=   0.1s\n",
      "[CV 4/5] END C=10, coef0=10, degree=5, gamma=scale, kernel=rbf, max_iter=10000;, score=0.781 total time=   0.1s\n",
      "[CV 5/5] END C=10, coef0=10, degree=5, gamma=scale, kernel=rbf, max_iter=10000;, score=0.853 total time=   0.1s\n",
      "[CV 1/5] END C=10, coef0=10, degree=5, gamma=scale, kernel=rbf, max_iter=100000;, score=0.837 total time=   0.1s\n",
      "[CV 2/5] END C=10, coef0=10, degree=5, gamma=scale, kernel=rbf, max_iter=100000;, score=0.820 total time=   0.1s\n",
      "[CV 3/5] END C=10, coef0=10, degree=5, gamma=scale, kernel=rbf, max_iter=100000;, score=0.820 total time=   0.1s\n",
      "[CV 4/5] END C=10, coef0=10, degree=5, gamma=scale, kernel=rbf, max_iter=100000;, score=0.781 total time=   0.1s\n",
      "[CV 5/5] END C=10, coef0=10, degree=5, gamma=scale, kernel=rbf, max_iter=100000;, score=0.853 total time=   0.1s\n",
      "[CV 1/5] END C=10, coef0=10, degree=5, gamma=scale, kernel=poly, max_iter=500;, score=0.787 total time=   0.0s\n",
      "[CV 2/5] END C=10, coef0=10, degree=5, gamma=scale, kernel=poly, max_iter=500;, score=0.303 total time=   0.0s\n",
      "[CV 3/5] END C=10, coef0=10, degree=5, gamma=scale, kernel=poly, max_iter=500;, score=0.455 total time=   0.0s\n",
      "[CV 4/5] END C=10, coef0=10, degree=5, gamma=scale, kernel=poly, max_iter=500;, score=0.556 total time=   0.0s\n",
      "[CV 5/5] END C=10, coef0=10, degree=5, gamma=scale, kernel=poly, max_iter=500;, score=0.345 total time=   0.0s\n",
      "[CV 1/5] END C=10, coef0=10, degree=5, gamma=scale, kernel=poly, max_iter=1000;, score=0.427 total time=   0.0s\n",
      "[CV 2/5] END C=10, coef0=10, degree=5, gamma=scale, kernel=poly, max_iter=1000;, score=0.309 total time=   0.0s\n"
     ]
    },
    {
     "name": "stderr",
     "output_type": "stream",
     "text": [
      "/Library/Frameworks/Python.framework/Versions/3.9/lib/python3.9/site-packages/sklearn/svm/_base.py:297: ConvergenceWarning: Solver terminated early (max_iter=500).  Consider pre-processing your data with StandardScaler or MinMaxScaler.\n",
      "  warnings.warn(\n",
      "/Library/Frameworks/Python.framework/Versions/3.9/lib/python3.9/site-packages/sklearn/svm/_base.py:297: ConvergenceWarning: Solver terminated early (max_iter=500).  Consider pre-processing your data with StandardScaler or MinMaxScaler.\n",
      "  warnings.warn(\n",
      "/Library/Frameworks/Python.framework/Versions/3.9/lib/python3.9/site-packages/sklearn/svm/_base.py:297: ConvergenceWarning: Solver terminated early (max_iter=500).  Consider pre-processing your data with StandardScaler or MinMaxScaler.\n",
      "  warnings.warn(\n",
      "/Library/Frameworks/Python.framework/Versions/3.9/lib/python3.9/site-packages/sklearn/svm/_base.py:297: ConvergenceWarning: Solver terminated early (max_iter=500).  Consider pre-processing your data with StandardScaler or MinMaxScaler.\n",
      "  warnings.warn(\n",
      "/Library/Frameworks/Python.framework/Versions/3.9/lib/python3.9/site-packages/sklearn/svm/_base.py:297: ConvergenceWarning: Solver terminated early (max_iter=500).  Consider pre-processing your data with StandardScaler or MinMaxScaler.\n",
      "  warnings.warn(\n",
      "/Library/Frameworks/Python.framework/Versions/3.9/lib/python3.9/site-packages/sklearn/svm/_base.py:297: ConvergenceWarning: Solver terminated early (max_iter=1000).  Consider pre-processing your data with StandardScaler or MinMaxScaler.\n",
      "  warnings.warn(\n",
      "/Library/Frameworks/Python.framework/Versions/3.9/lib/python3.9/site-packages/sklearn/svm/_base.py:297: ConvergenceWarning: Solver terminated early (max_iter=1000).  Consider pre-processing your data with StandardScaler or MinMaxScaler.\n",
      "  warnings.warn(\n",
      "/Library/Frameworks/Python.framework/Versions/3.9/lib/python3.9/site-packages/sklearn/svm/_base.py:297: ConvergenceWarning: Solver terminated early (max_iter=1000).  Consider pre-processing your data with StandardScaler or MinMaxScaler.\n",
      "  warnings.warn(\n",
      "/Library/Frameworks/Python.framework/Versions/3.9/lib/python3.9/site-packages/sklearn/svm/_base.py:297: ConvergenceWarning: Solver terminated early (max_iter=1000).  Consider pre-processing your data with StandardScaler or MinMaxScaler.\n",
      "  warnings.warn(\n",
      "/Library/Frameworks/Python.framework/Versions/3.9/lib/python3.9/site-packages/sklearn/svm/_base.py:297: ConvergenceWarning: Solver terminated early (max_iter=1000).  Consider pre-processing your data with StandardScaler or MinMaxScaler.\n",
      "  warnings.warn(\n"
     ]
    },
    {
     "name": "stdout",
     "output_type": "stream",
     "text": [
      "[CV 3/5] END C=10, coef0=10, degree=5, gamma=scale, kernel=poly, max_iter=1000;, score=0.388 total time=   0.0s\n",
      "[CV 4/5] END C=10, coef0=10, degree=5, gamma=scale, kernel=poly, max_iter=1000;, score=0.573 total time=   0.0s\n",
      "[CV 5/5] END C=10, coef0=10, degree=5, gamma=scale, kernel=poly, max_iter=1000;, score=0.266 total time=   0.0s\n"
     ]
    },
    {
     "name": "stderr",
     "output_type": "stream",
     "text": [
      "/Library/Frameworks/Python.framework/Versions/3.9/lib/python3.9/site-packages/sklearn/svm/_base.py:297: ConvergenceWarning: Solver terminated early (max_iter=10000).  Consider pre-processing your data with StandardScaler or MinMaxScaler.\n",
      "  warnings.warn(\n",
      "/Library/Frameworks/Python.framework/Versions/3.9/lib/python3.9/site-packages/sklearn/svm/_base.py:297: ConvergenceWarning: Solver terminated early (max_iter=10000).  Consider pre-processing your data with StandardScaler or MinMaxScaler.\n",
      "  warnings.warn(\n"
     ]
    },
    {
     "name": "stdout",
     "output_type": "stream",
     "text": [
      "[CV 1/5] END C=10, coef0=10, degree=5, gamma=scale, kernel=poly, max_iter=10000;, score=0.612 total time=   0.2s\n",
      "[CV 2/5] END C=10, coef0=10, degree=5, gamma=scale, kernel=poly, max_iter=10000;, score=0.511 total time=   0.2s\n"
     ]
    },
    {
     "name": "stderr",
     "output_type": "stream",
     "text": [
      "/Library/Frameworks/Python.framework/Versions/3.9/lib/python3.9/site-packages/sklearn/svm/_base.py:297: ConvergenceWarning: Solver terminated early (max_iter=10000).  Consider pre-processing your data with StandardScaler or MinMaxScaler.\n",
      "  warnings.warn(\n",
      "/Library/Frameworks/Python.framework/Versions/3.9/lib/python3.9/site-packages/sklearn/svm/_base.py:297: ConvergenceWarning: Solver terminated early (max_iter=10000).  Consider pre-processing your data with StandardScaler or MinMaxScaler.\n",
      "  warnings.warn(\n"
     ]
    },
    {
     "name": "stdout",
     "output_type": "stream",
     "text": [
      "[CV 3/5] END C=10, coef0=10, degree=5, gamma=scale, kernel=poly, max_iter=10000;, score=0.590 total time=   0.2s\n",
      "[CV 4/5] END C=10, coef0=10, degree=5, gamma=scale, kernel=poly, max_iter=10000;, score=0.511 total time=   0.2s\n"
     ]
    },
    {
     "name": "stderr",
     "output_type": "stream",
     "text": [
      "/Library/Frameworks/Python.framework/Versions/3.9/lib/python3.9/site-packages/sklearn/svm/_base.py:297: ConvergenceWarning: Solver terminated early (max_iter=10000).  Consider pre-processing your data with StandardScaler or MinMaxScaler.\n",
      "  warnings.warn(\n"
     ]
    },
    {
     "name": "stdout",
     "output_type": "stream",
     "text": [
      "[CV 5/5] END C=10, coef0=10, degree=5, gamma=scale, kernel=poly, max_iter=10000;, score=0.508 total time=   0.2s\n"
     ]
    },
    {
     "name": "stderr",
     "output_type": "stream",
     "text": [
      "/Library/Frameworks/Python.framework/Versions/3.9/lib/python3.9/site-packages/sklearn/svm/_base.py:297: ConvergenceWarning: Solver terminated early (max_iter=100000).  Consider pre-processing your data with StandardScaler or MinMaxScaler.\n",
      "  warnings.warn(\n"
     ]
    },
    {
     "name": "stdout",
     "output_type": "stream",
     "text": [
      "[CV 1/5] END C=10, coef0=10, degree=5, gamma=scale, kernel=poly, max_iter=100000;, score=0.612 total time=   1.3s\n"
     ]
    },
    {
     "name": "stderr",
     "output_type": "stream",
     "text": [
      "/Library/Frameworks/Python.framework/Versions/3.9/lib/python3.9/site-packages/sklearn/svm/_base.py:297: ConvergenceWarning: Solver terminated early (max_iter=100000).  Consider pre-processing your data with StandardScaler or MinMaxScaler.\n",
      "  warnings.warn(\n"
     ]
    },
    {
     "name": "stdout",
     "output_type": "stream",
     "text": [
      "[CV 2/5] END C=10, coef0=10, degree=5, gamma=scale, kernel=poly, max_iter=100000;, score=0.612 total time=   1.1s\n"
     ]
    },
    {
     "name": "stderr",
     "output_type": "stream",
     "text": [
      "/Library/Frameworks/Python.framework/Versions/3.9/lib/python3.9/site-packages/sklearn/svm/_base.py:297: ConvergenceWarning: Solver terminated early (max_iter=100000).  Consider pre-processing your data with StandardScaler or MinMaxScaler.\n",
      "  warnings.warn(\n"
     ]
    },
    {
     "name": "stdout",
     "output_type": "stream",
     "text": [
      "[CV 3/5] END C=10, coef0=10, degree=5, gamma=scale, kernel=poly, max_iter=100000;, score=0.640 total time=   1.2s\n"
     ]
    },
    {
     "name": "stderr",
     "output_type": "stream",
     "text": [
      "/Library/Frameworks/Python.framework/Versions/3.9/lib/python3.9/site-packages/sklearn/svm/_base.py:297: ConvergenceWarning: Solver terminated early (max_iter=100000).  Consider pre-processing your data with StandardScaler or MinMaxScaler.\n",
      "  warnings.warn(\n"
     ]
    },
    {
     "name": "stdout",
     "output_type": "stream",
     "text": [
      "[CV 4/5] END C=10, coef0=10, degree=5, gamma=scale, kernel=poly, max_iter=100000;, score=0.376 total time=   1.2s\n",
      "[CV 5/5] END C=10, coef0=10, degree=5, gamma=scale, kernel=poly, max_iter=100000;, score=0.780 total time=   1.3s\n",
      "Best Parameters: {'C': 10, 'coef0': 1, 'degree': 2, 'gamma': 'scale', 'kernel': 'poly', 'max_iter': 500}\n",
      "Best Score: 0.8246\n"
     ]
    },
    {
     "name": "stderr",
     "output_type": "stream",
     "text": [
      "/Library/Frameworks/Python.framework/Versions/3.9/lib/python3.9/site-packages/sklearn/svm/_base.py:297: ConvergenceWarning: Solver terminated early (max_iter=100000).  Consider pre-processing your data with StandardScaler or MinMaxScaler.\n",
      "  warnings.warn(\n",
      "/Library/Frameworks/Python.framework/Versions/3.9/lib/python3.9/site-packages/sklearn/svm/_base.py:297: ConvergenceWarning: Solver terminated early (max_iter=500).  Consider pre-processing your data with StandardScaler or MinMaxScaler.\n",
      "  warnings.warn(\n"
     ]
    }
   ],
   "source": [
    "full_train = pd.read_csv(\"datasets/train_clean.csv\")\n",
    "\n",
    "to_drop = [\"Name\", \"Ticket\", \"Embarked\", \"PassengerId\", *[c for c in full_train if \"cabin\" in c.lower()]]\n",
    "\n",
    "full_train.drop(columns=to_drop, inplace=True)\n",
    "\n",
    "target_col = \"Survived\"\n",
    "\n",
    "X = full_train.drop(target_col, axis=1)\n",
    "y = full_train[target_col]\n",
    "\n",
    "X_train, y_train = X, y\n",
    "\n",
    "model = SVC(\n",
    "    probability=True,\n",
    "    random_state=42,\n",
    ")\n",
    "\n",
    "# Define the parameter grid for GridSearchCV\n",
    "# param_grid = {\n",
    "#     'C': [1, 10, 100],\n",
    "#     'kernel': ['linear'],\n",
    "#     'gamma': ['scale']\n",
    "# }\n",
    "\n",
    "param_grid = {\n",
    "    'C': [0.1, 1],\n",
    "    'kernel': ['linear', 'poly', 'sigmoid', 'rbf'],\n",
    "    'degree': [2, 3, 4],\n",
    "    'coef0': [1, 10],\n",
    "    'gamma': ['scale']\n",
    "}\n",
    "\n",
    "param_grid = {\n",
    "    'C': [0.001, 0.01, 0.1, 10],\n",
    "    'kernel': ['linear', 'rbf', 'poly'],\n",
    "    'gamma': [\"scale\"],\n",
    "    'degree': [2, 3, 4, 5],\n",
    "    'coef0': [0.1, 1, 10],\n",
    "    'max_iter': [500, 1000, 10000, 100000]\n",
    "}\n",
    "\n",
    "# param_grid = {\n",
    "#     'C': [0.00001, 0.0001],\n",
    "#     'kernel': ['poly'],\n",
    "#     'gamma': [\"scale\"],\n",
    "#     'degree': [5],\n",
    "#     'coef0': [10]\n",
    "# }\n",
    "\n",
    "\n",
    "grid_search = GridSearchCV(model, param_grid, n_jobs=1, cv=5, scoring='accuracy', verbose=4)\n",
    "\n",
    "grid_search.fit(X_train, y_train)\n",
    "\n",
    "best_params = grid_search.best_params_\n",
    "best_model = grid_search.best_estimator_\n",
    "\n",
    "print(f\"Best Parameters: {best_params}\")\n",
    "# print(f\"Accuracy on Test Set: {accuracy:.4f}\")\n",
    "print(f\"Best Score: {grid_search.best_score_:.4f}\")"
   ]
  },
  {
   "cell_type": "code",
   "execution_count": 3,
   "id": "9bcf8210-f072-464a-8ed1-4b4f47ec100b",
   "metadata": {},
   "outputs": [
    {
     "data": {
      "text/plain": [
       "['models/SVC_82.4554.joblib']"
      ]
     },
     "execution_count": 3,
     "metadata": {},
     "output_type": "execute_result"
    }
   ],
   "source": [
    "import joblib\n",
    "\n",
    "joblib.dump(grid_search, f'../models/{grid_search.best_estimator_.__class__.__name__}_{grid_search.best_score_ * 100:.4f}.joblib')"
   ]
  },
  {
   "cell_type": "code",
   "execution_count": 4,
   "id": "4fafe3e1-cba7-4d7d-8978-3cebec01b0bc",
   "metadata": {},
   "outputs": [],
   "source": [
    "model_name = grid_search.estimator.__class__.__name__\n",
    "\n",
    "get_best = True  # get the best model or the latest model\n",
    "\n",
    "# get files in models sorted by last modified\n",
    "if get_best:\n",
    "    import os\n",
    "    import re\n",
    "    files = os.listdir(\"../models\")\n",
    "    files = [f for f in files if re.match(f\"{model_name}_.*\\.joblib\", f)]\n",
    "    files = sorted(files, key=lambda x: re.search(r\"_(\\d+\\.\\d+)\\.joblib\", x).group(1), reverse=True)\n",
    "    file_name = files[0]\n",
    "else:\n",
    "    import os\n",
    "    import re\n",
    "    files = os.listdir(\"../models\")\n",
    "    files = [f for f in files if re.match(f\"{model_name}_.*\\.joblib\", f)]\n",
    "    files = sorted(files, key=lambda x: os.path.getmtime(os.path.join(\"models\", x)), reverse=True)\n",
    "    file_name = files[0]\n",
    "loaded_grid_search = joblib.load(f'../models/{file_name}')"
   ]
  },
  {
   "cell_type": "code",
   "execution_count": 5,
   "id": "52ef0d4f",
   "metadata": {},
   "outputs": [
    {
     "name": "stdout",
     "output_type": "stream",
     "text": [
      "mean_fit_time\t[0.03863468 0.03813171 0.03819742 0.03784118 0.06172743 0.06118207\n",
      " 0.06264844 0.06124783 0.04226007 0.04190278 0.04192181 0.04208593\n",
      " 0.03810563 0.03783302 0.03776274 0.03788939 0.06099634 0.06114926\n",
      " 0.06111984 0.06114521 0.04229002 0.04196806 0.0420434  0.04219613\n",
      " 0.03771133 0.03774219 0.03776708 0.03776512 0.06102338 0.06095157\n",
      " 0.06081228 0.060888   0.04414172 0.04404297 0.04413004 0.0440733\n",
      " 0.03778181 0.03776031 0.0377316  0.03766298 0.06092834 0.06090732\n",
      " 0.06082535 0.06099553 0.04395075 0.04365516 0.04365954 0.0436656\n",
      " 0.03773513 0.03769197 0.03778224 0.03767791 0.06073332 0.06077876\n",
      " 0.06089473 0.06087193 0.04946761 0.04223871 0.04196544 0.04184985\n",
      " 0.03771982 0.03767567 0.03759103 0.03780622 0.06073165 0.06067729\n",
      " 0.06080232 0.06112871 0.04184208 0.04197321 0.04191008 0.04200492\n",
      " 0.03834262 0.03767614 0.03777695 0.03768902 0.0608428  0.06080999\n",
      " 0.06101322 0.06101308 0.04339657 0.04340839 0.04347644 0.04338226\n",
      " 0.03778548 0.03769364 0.03810396 0.0394887  0.0609921  0.06134424\n",
      " 0.06122975 0.06326137 0.04057002 0.0403131  0.0401927  0.04118671\n",
      " 0.03929343 0.03851676 0.03876462 0.03762522 0.06071997 0.06100664\n",
      " 0.06092014 0.06101747 0.0415451  0.04156132 0.04150972 0.04146838\n",
      " 0.03756552 0.03754182 0.03754716 0.03761506 0.06051984 0.06130042\n",
      " 0.06305361 0.07171335 0.03730307 0.04202061 0.0420661  0.03561482\n",
      " 0.03768215 0.03768849 0.03867702 0.038025   0.06103597 0.06109905\n",
      " 0.0609993  0.07766519 0.05644174 0.05345707 0.03911061 0.03713121\n",
      " 0.03784328 0.037573   0.03755221 0.03768029 0.06067138 0.06058292\n",
      " 0.06119585 0.06065769 0.03268132 0.04200821 0.07835298 0.08272595\n",
      " 0.0338944  0.03384066 0.03371634 0.03377361 0.06107922 0.06102648\n",
      " 0.06139464 0.06131477 0.04197178 0.04189038 0.0423471  0.05595479\n",
      " 0.04368668 0.03944345 0.03467121 0.03396339 0.06113935 0.06211386\n",
      " 0.0626719  0.06180196 0.04093232 0.04097228 0.04099789 0.04092283\n",
      " 0.03393335 0.03412743 0.03411474 0.03397837 0.06153817 0.0614923\n",
      " 0.06173086 0.06148605 0.04084816 0.04091392 0.04088116 0.0408803\n",
      " 0.03389211 0.03401141 0.03400593 0.03413386 0.06139584 0.06153669\n",
      " 0.06159768 0.08220797 0.04359059 0.03962212 0.04006987 0.03927193\n",
      " 0.03463206 0.03469338 0.03392906 0.03427033 0.06154885 0.06150703\n",
      " 0.06137486 0.0612689  0.04171634 0.04165611 0.04174857 0.04171762\n",
      " 0.03388562 0.03378096 0.03389468 0.03447714 0.06897802 0.06171298\n",
      " 0.06163321 0.0613965  0.03855934 0.03800387 0.03816905 0.0380487\n",
      " 0.03384824 0.0338686  0.03377523 0.03379664 0.06403093 0.06139588\n",
      " 0.06130371 0.06139522 0.03568149 0.03564305 0.03557358 0.035741\n",
      " 0.03388052 0.03368287 0.03392138 0.0338253  0.06139655 0.0613483\n",
      " 0.06153803 0.0615272  0.03466935 0.03482561 0.03506193 0.03466473\n",
      " 0.03419251 0.03400097 0.03399363 0.0339776  0.0621295  0.07152267\n",
      " 0.06896544 0.06228995 0.03709159 0.03722825 0.03683534 0.03689218\n",
      " 0.03384333 0.03379097 0.03380208 0.03391099 0.06333718 0.0616888\n",
      " 0.06130309 0.06121287 0.03299503 0.03479776 0.03509321 0.03507061\n",
      " 0.03380289 0.03454404 0.03469458 0.03400307 0.06355376 0.06283321\n",
      " 0.06218262 0.062252   0.03349347 0.04307804 0.07179747 0.0723947\n",
      " 0.03475623 0.03439131 0.03413892 0.03457232 0.06195416 0.0614171\n",
      " 0.06187568 0.06217275 0.03207836 0.04376936 0.14746785 0.38199825\n",
      " 0.03101506 0.03677306 0.04421787 0.05003905 0.06094403 0.05832\n",
      " 0.05770259 0.05754304 0.03724437 0.03646669 0.03661652 0.03789034\n",
      " 0.03168921 0.03283043 0.03329139 0.03307972 0.05796118 0.05869999\n",
      " 0.05779967 0.05806222 0.03458934 0.0340179  0.03360276 0.03357162\n",
      " 0.0310389  0.03485079 0.03516765 0.03327026 0.05784717 0.06483121\n",
      " 0.05753465 0.05753889 0.03490052 0.03504763 0.03508239 0.03479514\n",
      " 0.03124323 0.03266954 0.0335063  0.03433661 0.05813203 0.05851874\n",
      " 0.05872726 0.06845999 0.04103856 0.03901734 0.03620639 0.03588643\n",
      " 0.03094354 0.03261242 0.03313422 0.03321795 0.05834565 0.05821381\n",
      " 0.05817447 0.05840292 0.03454618 0.03470836 0.0349906  0.03438029\n",
      " 0.03145723 0.03346405 0.0332016  0.03332958 0.0623117  0.05819607\n",
      " 0.05797973 0.0586041  0.03336749 0.03314271 0.03312712 0.03324089\n",
      " 0.03099179 0.03269987 0.03301744 0.03320951 0.06115985 0.05879202\n",
      " 0.05785704 0.05784435 0.03463602 0.03711958 0.03979754 0.03916903\n",
      " 0.03126378 0.03290377 0.03379421 0.03369517 0.05792317 0.05814619\n",
      " 0.05832214 0.05773616 0.03473401 0.04396224 0.04712777 0.04688163\n",
      " 0.03115544 0.03295064 0.03325706 0.03328609 0.0574307  0.05748062\n",
      " 0.05912099 0.05779872 0.03417606 0.03499207 0.03490682 0.03530326\n",
      " 0.03392859 0.03382244 0.03337712 0.03357301 0.05826097 0.05792623\n",
      " 0.05808158 0.05764394 0.0324132  0.0412467  0.06317477 0.0576705\n",
      " 0.03231654 0.03307557 0.0333662  0.03334374 0.05765896 0.05881844\n",
      " 0.06202946 0.05777049 0.03161817 0.04266653 0.13534794 0.32303629\n",
      " 0.03111124 0.03326674 0.03760209 0.03364997 0.05874829 0.05810132\n",
      " 0.05764246 0.05743804 0.02788363 0.04099441 0.18271441 0.789078\n",
      " 0.0277535  0.04340777 0.0965344  0.14523964 0.05169444 0.04923301\n",
      " 0.05163231 0.05121641 0.03320894 0.04213123 0.05161276 0.0519834\n",
      " 0.0313859  0.04020343 0.09744682 0.15069876 0.04498019 0.04943109\n",
      " 0.05129719 0.05134697 0.03167396 0.04214921 0.08141932 0.07251325\n",
      " 0.02869396 0.03970847 0.10490942 0.14521327 0.04488401 0.05101919\n",
      " 0.05156512 0.05215745 0.0327723  0.04319992 0.10798278 0.12829299\n",
      " 0.02826138 0.03990235 0.09711561 0.15216804 0.04439516 0.04928207\n",
      " 0.05186014 0.05209298 0.03244538 0.04966373 0.12091293 0.17050581\n",
      " 0.02825446 0.039395   0.09637284 0.14464607 0.04453697 0.05242987\n",
      " 0.05131764 0.05283694 0.03250861 0.04146662 0.06192641 0.06130185\n",
      " 0.02778497 0.03983135 0.09993539 0.14450541 0.0442955  0.0491034\n",
      " 0.05365868 0.05141559 0.03201823 0.04134278 0.10192113 0.13737969\n",
      " 0.02848668 0.03975568 0.10528393 0.14731536 0.04425836 0.04898472\n",
      " 0.05187302 0.05148554 0.03263216 0.04275503 0.14518385 0.30459847\n",
      " 0.02812691 0.03942623 0.09723716 0.1452014  0.05265408 0.04905939\n",
      " 0.05138216 0.05152125 0.03107543 0.04313354 0.15609012 0.55827427\n",
      " 0.0281846  0.03911839 0.09609241 0.15125518 0.04403348 0.0488987\n",
      " 0.05136681 0.05115318 0.0313755  0.04145584 0.1269084  0.15564704\n",
      " 0.0279448  0.03931646 0.0969943  0.14690385 0.04480262 0.04930582\n",
      " 0.05223889 0.05134559 0.02979317 0.06165972 0.19742179 0.66387401\n",
      " 0.02781186 0.03928714 0.09589481 0.14392643 0.0442739  0.05514493\n",
      " 0.05161424 0.05135617 0.0247438  0.03781667 0.18755865 1.14623337\n",
      " 0.03066444 0.04106579 0.09691215 0.14479847 0.05289121 0.04990125\n",
      " 0.05169759 0.05131397 0.02299237 0.03516831 0.19388785 1.21065722]\n",
      "std_fit_time\t[3.57975047e-04 2.69354459e-04 5.12460836e-04 2.23069224e-04\n",
      " 1.10120996e-03 2.96856672e-04 3.18683090e-03 3.97815671e-04\n",
      " 2.82445610e-04 2.73096468e-04 4.62891090e-04 4.81876882e-04\n",
      " 8.94030438e-04 3.61793022e-04 1.76282551e-04 2.83010570e-04\n",
      " 2.85089983e-04 5.74246986e-04 4.78961300e-04 2.05153644e-04\n",
      " 3.60302757e-04 1.71493170e-04 2.48728400e-04 2.27766528e-04\n",
      " 3.88075274e-04 3.26024881e-04 2.34255717e-04 2.15155119e-04\n",
      " 2.05752200e-04 3.43417201e-04 4.36213864e-04 1.86933145e-04\n",
      " 2.25902700e-04 1.77302816e-04 2.92297343e-04 2.47272569e-04\n",
      " 3.27088832e-04 4.77624086e-04 2.51824444e-04 2.57235240e-04\n",
      " 1.69690996e-04 3.98907426e-04 3.05524716e-04 2.37442565e-04\n",
      " 5.71285014e-04 2.52562823e-04 3.07680838e-04 2.49083931e-04\n",
      " 2.98963612e-04 1.61973701e-04 4.03098527e-04 1.91218038e-04\n",
      " 1.86476619e-04 3.59977240e-04 3.96434252e-04 2.93536230e-04\n",
      " 2.80916963e-03 7.19614465e-04 9.37286964e-05 1.06648018e-04\n",
      " 2.33437656e-04 1.25954204e-04 1.70262612e-04 3.12299450e-04\n",
      " 3.62521514e-04 3.08418333e-04 2.17896874e-04 6.04058972e-04\n",
      " 1.56732725e-04 3.74870851e-04 1.94448007e-04 2.97692252e-04\n",
      " 1.17628577e-03 2.27905785e-04 2.52502858e-04 1.18927757e-04\n",
      " 3.43459599e-04 3.45082890e-04 1.88506521e-04 4.49837636e-04\n",
      " 2.27891678e-04 2.19280918e-04 1.91555024e-04 2.20385324e-04\n",
      " 2.36472167e-04 3.12455879e-04 3.15017935e-04 1.96264917e-03\n",
      " 4.74034623e-04 6.10399274e-04 2.80038242e-04 3.96255842e-03\n",
      " 4.80022401e-04 5.89449667e-04 1.03842069e-03 2.29954330e-03\n",
      " 8.34489204e-04 2.76612738e-04 9.58292124e-04 3.29586401e-04\n",
      " 2.60002167e-04 3.41419421e-04 4.52035580e-04 5.41160438e-04\n",
      " 1.60438904e-04 2.42900699e-04 1.69453569e-04 1.02189552e-04\n",
      " 1.88570281e-04 2.49481930e-04 1.62273255e-04 3.06062751e-04\n",
      " 2.09865161e-04 9.12459364e-04 3.59551879e-03 1.64664118e-02\n",
      " 3.52909931e-03 6.70207838e-04 2.71261126e-03 8.13127235e-04\n",
      " 2.88242150e-04 1.87490285e-04 5.77824126e-04 3.15629267e-04\n",
      " 2.23060661e-04 3.65477532e-04 3.07530084e-04 1.31152832e-02\n",
      " 6.01640325e-03 5.67009650e-03 1.28522674e-03 1.43867322e-03\n",
      " 3.59333561e-04 1.41290769e-04 1.27497964e-04 1.64698657e-04\n",
      " 1.45728363e-04 1.26139553e-04 2.43105220e-04 3.37084393e-04\n",
      " 2.00825935e-04 6.86681823e-04 5.07706132e-03 7.58658083e-03\n",
      " 7.08319002e-04 7.87088710e-04 8.57722303e-04 8.83483179e-04\n",
      " 2.89011643e-04 2.46099284e-04 1.40889799e-04 3.17753542e-04\n",
      " 1.47328530e-04 1.48454808e-04 7.35687953e-04 5.93512574e-03\n",
      " 5.15688480e-03 5.50109598e-04 7.00030495e-04 5.58896751e-04\n",
      " 2.17592295e-04 4.24171528e-04 2.81182709e-04 3.91474461e-04\n",
      " 4.60215292e-04 4.42606492e-04 5.32285923e-04 4.99619325e-04\n",
      " 7.95866850e-04 1.16817734e-03 9.87568304e-04 7.70145075e-04\n",
      " 3.64533179e-04 1.66639858e-04 3.88578225e-04 3.96263740e-04\n",
      " 5.45235165e-04 5.69785520e-04 6.12607453e-04 4.91919010e-04\n",
      " 6.66176826e-04 8.67890569e-04 8.22382585e-04 9.72420079e-04\n",
      " 1.63908041e-04 2.19479271e-04 2.68374933e-04 1.67591076e-02\n",
      " 3.68657796e-03 7.43364468e-04 6.77145893e-04 6.85829658e-04\n",
      " 7.36554780e-04 5.55899544e-04 7.34096673e-04 8.69160918e-04\n",
      " 1.58645564e-04 3.71862441e-04 3.20346975e-04 2.52896358e-04\n",
      " 2.21195347e-04 3.58995765e-04 3.47326477e-04 2.59390149e-04\n",
      " 7.42575593e-04 7.30940546e-04 9.61130660e-04 1.47504037e-03\n",
      " 3.67356457e-03 4.11887593e-04 5.10656812e-04 3.87628156e-04\n",
      " 5.37334602e-04 8.16080703e-04 6.81118420e-04 6.30437629e-04\n",
      " 6.20261179e-04 6.34625320e-04 7.69152416e-04 8.10295819e-04\n",
      " 3.79864843e-03 4.29391556e-04 4.30668477e-04 3.74667538e-04\n",
      " 2.34623846e-04 3.53029938e-04 5.53008892e-04 4.20150109e-04\n",
      " 9.08801554e-04 7.24553543e-04 5.96383621e-04 6.81695374e-04\n",
      " 3.20367842e-04 2.95124321e-04 2.58361461e-04 2.31329693e-04\n",
      " 4.23625159e-04 6.35151398e-04 3.62943926e-04 2.98858639e-04\n",
      " 5.60932502e-04 6.78950840e-04 8.15789095e-04 9.46348960e-04\n",
      " 6.02054887e-04 6.79221171e-03 2.83336921e-03 1.22501653e-03\n",
      " 5.80665943e-04 3.36943562e-04 7.77965451e-04 9.31600833e-04\n",
      " 9.40030192e-04 7.85871827e-04 5.76610518e-04 7.54944440e-04\n",
      " 3.14438166e-03 3.79729731e-04 1.89588223e-04 3.38716455e-04\n",
      " 5.16718628e-04 1.51319640e-03 1.61450702e-03 1.52806997e-03\n",
      " 7.71755948e-04 6.62888419e-04 6.74988264e-04 6.74070108e-04\n",
      " 1.56655348e-03 1.70223053e-03 5.76344759e-04 4.29547749e-04\n",
      " 3.81924221e-04 4.33734985e-04 4.83600910e-03 5.96618660e-03\n",
      " 6.45465955e-04 5.25647916e-04 9.92999798e-04 9.44156772e-04\n",
      " 3.23704500e-04 4.63234574e-04 6.76371324e-04 3.27869138e-04\n",
      " 3.57112309e-04 1.64264605e-03 7.03879429e-03 3.61944871e-02\n",
      " 9.98954233e-04 4.86680135e-03 5.78187300e-03 9.55495301e-03\n",
      " 2.86459691e-03 9.20768372e-04 1.02809045e-03 1.32265843e-03\n",
      " 1.14640415e-03 4.68078705e-04 4.16855489e-04 1.91345366e-03\n",
      " 4.57602174e-04 2.88311451e-03 4.08481080e-03 3.60502103e-03\n",
      " 1.38496715e-03 1.33273018e-03 1.06999728e-03 1.13990100e-03\n",
      " 3.94538661e-04 2.85215697e-04 4.73157499e-04 4.27909335e-04\n",
      " 1.00193907e-03 4.42301443e-03 3.07028450e-03 3.61482363e-03\n",
      " 1.30255428e-03 1.17278035e-02 9.20431732e-04 1.07445965e-03\n",
      " 4.03050754e-04 6.35856238e-04 8.01989061e-04 8.75329500e-04\n",
      " 1.15031299e-03 2.57926717e-03 3.91029555e-03 3.56077407e-03\n",
      " 1.39360850e-03 1.03141442e-03 1.28866499e-03 2.55399111e-03\n",
      " 1.00405690e-03 1.46383364e-03 1.09116592e-03 8.79623040e-04\n",
      " 6.39955023e-04 2.52157660e-03 4.00890746e-03 3.97222559e-03\n",
      " 9.60824858e-04 1.48555516e-03 8.10547918e-04 1.42066249e-03\n",
      " 7.56093610e-04 1.11687934e-03 5.25838657e-04 7.71908722e-04\n",
      " 1.04252144e-03 2.35636511e-03 3.88842798e-03 3.94584546e-03\n",
      " 7.05425423e-03 1.45248233e-03 9.97833710e-04 1.04239718e-03\n",
      " 7.33955796e-04 9.12761118e-04 5.38292203e-04 9.64100099e-04\n",
      " 8.18207463e-04 2.68992324e-03 3.81251150e-03 3.47308945e-03\n",
      " 7.46566472e-03 1.50177969e-03 8.27038923e-04 9.58443523e-04\n",
      " 4.85988984e-04 7.22265204e-04 2.88260027e-03 2.83775371e-03\n",
      " 8.99297693e-04 2.89371076e-03 3.92821787e-03 3.83323694e-03\n",
      " 8.64483472e-04 1.62322123e-03 9.93936161e-04 1.20838558e-03\n",
      " 5.42995977e-04 3.93175152e-03 2.60114900e-03 2.22728826e-03\n",
      " 7.47106454e-04 2.76867681e-03 4.02251023e-03 3.59826025e-03\n",
      " 8.44503248e-04 1.26135163e-03 1.01860934e-03 9.83160015e-04\n",
      " 8.43064755e-04 1.51891988e-03 2.18458666e-03 1.90415367e-03\n",
      " 6.14957282e-03 2.53101006e-03 4.02910866e-03 3.49360392e-03\n",
      " 1.40596177e-03 1.10009076e-03 9.87635298e-04 8.36134880e-04\n",
      " 4.34891759e-04 1.31417795e-03 1.33823254e-02 4.69094442e-03\n",
      " 1.16185318e-03 2.57409287e-03 3.76380347e-03 3.56267239e-03\n",
      " 1.27895062e-03 4.83698725e-04 5.12087072e-03 1.03706203e-03\n",
      " 4.56673257e-04 4.56382625e-04 4.37423481e-03 3.54560832e-02\n",
      " 9.78375534e-04 2.50389069e-03 5.72290919e-03 3.85861977e-03\n",
      " 1.39745125e-03 7.69384588e-04 1.06385338e-03 1.07130585e-03\n",
      " 4.77826656e-04 7.41545300e-04 1.02233882e-02 4.15735603e-02\n",
      " 4.52640962e-04 8.95358599e-03 9.24539942e-03 3.42933814e-02\n",
      " 1.34682206e-02 1.83616897e-03 2.41214025e-03 2.44574165e-03\n",
      " 1.01828843e-03 2.00805152e-03 3.79524455e-03 3.22051188e-03\n",
      " 5.43640702e-03 8.07732246e-04 8.62319503e-03 3.02068899e-02\n",
      " 1.37399502e-03 1.21098314e-03 2.47420291e-03 2.60795594e-03\n",
      " 2.17863834e-04 9.68011055e-04 1.61285010e-02 6.53049996e-03\n",
      " 2.73140982e-04 2.91535314e-04 2.08033068e-02 3.33226138e-02\n",
      " 8.68197665e-04 4.95348863e-03 2.52607000e-03 2.32054900e-03\n",
      " 3.40153885e-04 4.91523262e-04 1.26888663e-02 1.83962347e-02\n",
      " 3.53162783e-04 9.04746514e-04 9.46586129e-03 3.77139162e-02\n",
      " 5.87021604e-04 1.63656432e-03 2.69429793e-03 2.07903097e-03\n",
      " 3.71062513e-04 1.13910977e-02 3.21493750e-03 2.03828638e-02\n",
      " 4.35794504e-04 2.68763358e-04 9.63095296e-03 3.33481584e-02\n",
      " 9.27896570e-04 6.64903497e-03 2.51329616e-03 3.73351179e-03\n",
      " 4.00734924e-04 7.79166633e-04 3.86198431e-03 2.73453741e-03\n",
      " 4.31313182e-04 5.49371298e-04 1.22346355e-02 3.35675495e-02\n",
      " 6.65330895e-04 1.52172388e-03 5.34161333e-03 2.72169171e-03\n",
      " 5.04507897e-04 6.07974097e-04 4.87149215e-03 2.58009663e-02\n",
      " 5.73764649e-04 4.95753850e-04 2.57496622e-02 3.67473453e-02\n",
      " 6.54097398e-04 1.19610905e-03 1.47256239e-03 2.69230276e-03\n",
      " 4.29153162e-04 7.42889010e-04 1.75238280e-02 5.48011236e-02\n",
      " 5.47062024e-04 5.05254290e-04 9.51199101e-03 3.60580989e-02\n",
      " 1.54664566e-02 1.50874259e-03 2.40146837e-03 2.90025759e-03\n",
      " 4.13757551e-04 1.27951149e-03 7.61299134e-03 5.55621108e-02\n",
      " 4.32466314e-04 7.04824657e-04 9.99885592e-03 3.42507651e-02\n",
      " 6.37906637e-04 1.56261275e-03 2.43938349e-03 2.47086496e-03\n",
      " 4.69962624e-04 6.86308470e-04 2.89158148e-02 1.30308033e-02\n",
      " 4.31849936e-04 6.64228332e-04 8.90452342e-03 3.43039571e-02\n",
      " 6.69299384e-04 1.54668455e-03 2.48013809e-03 2.30368896e-03\n",
      " 1.98476481e-03 1.31641188e-02 2.75993961e-02 6.25394030e-02\n",
      " 4.07316427e-04 6.99482395e-04 9.13776049e-03 3.39897728e-02\n",
      " 6.48029512e-04 1.14449358e-02 2.81233685e-03 2.18149806e-03\n",
      " 4.94531309e-04 9.60686186e-04 5.24366971e-03 7.40543332e-02\n",
      " 1.97563525e-03 2.61694917e-03 9.29239806e-03 3.32858401e-02\n",
      " 1.50181985e-02 1.34282889e-03 2.54770391e-03 2.18379173e-03\n",
      " 1.31786119e-03 5.89084780e-04 1.25047807e-02 4.86747914e-02]\n",
      "mean_score_time\t[0.00301714 0.002911   0.00292773 0.00281525 0.00582795 0.00575967\n",
      " 0.00572553 0.00573235 0.00293908 0.00293555 0.0029036  0.00293789\n",
      " 0.00276451 0.0028028  0.00277929 0.00278306 0.00567212 0.00566177\n",
      " 0.00563822 0.00571575 0.00291376 0.00287776 0.00291238 0.00295506\n",
      " 0.00280342 0.00275817 0.00278873 0.00276666 0.00568461 0.0056304\n",
      " 0.00567727 0.00570793 0.00305371 0.0030539  0.00306811 0.00305409\n",
      " 0.00276656 0.00275774 0.00276494 0.00277004 0.00577302 0.00567694\n",
      " 0.00565324 0.00570483 0.00307369 0.00303779 0.00305915 0.0030725\n",
      " 0.00280137 0.00278482 0.00275617 0.00276675 0.00564756 0.00563526\n",
      " 0.00571475 0.0058135  0.00344548 0.00301824 0.00293651 0.00290637\n",
      " 0.00279183 0.00272894 0.00275798 0.0027751  0.00565648 0.00571437\n",
      " 0.00568991 0.00572982 0.00285568 0.00288539 0.00287099 0.00286722\n",
      " 0.00283718 0.00275879 0.00270457 0.00273676 0.00565915 0.00565443\n",
      " 0.00564489 0.005687   0.00299234 0.00296855 0.00297022 0.00298901\n",
      " 0.00272164 0.00274367 0.00288553 0.00297351 0.0057066  0.00576739\n",
      " 0.00622487 0.00579405 0.00296798 0.00286384 0.00280905 0.00295982\n",
      " 0.00342846 0.00300617 0.00292692 0.00266337 0.00565186 0.00562963\n",
      " 0.00565605 0.00559349 0.00276227 0.00280704 0.00273666 0.00276399\n",
      " 0.00268722 0.00266623 0.00262198 0.00261264 0.00555773 0.00571985\n",
      " 0.00582232 0.00656948 0.00268316 0.00306702 0.00327549 0.0025866\n",
      " 0.00267658 0.00263796 0.00306616 0.00287375 0.00569186 0.0056582\n",
      " 0.00565314 0.00673375 0.0045548  0.00340257 0.00244403 0.00217052\n",
      " 0.00267076 0.00264926 0.00268464 0.00264139 0.00552683 0.00558519\n",
      " 0.00565138 0.00552254 0.00216808 0.00213833 0.00208735 0.00218215\n",
      " 0.00238638 0.0023685  0.00233874 0.00237184 0.00551271 0.00549555\n",
      " 0.00554957 0.00558209 0.00282745 0.00275841 0.00289636 0.004808\n",
      " 0.0034307  0.00306878 0.00257225 0.00248342 0.00565805 0.00585384\n",
      " 0.0059267  0.00576024 0.00281682 0.00282106 0.00281696 0.00283442\n",
      " 0.00250602 0.00249677 0.00255218 0.00248356 0.00570359 0.00570712\n",
      " 0.00570192 0.00566382 0.0027936  0.00279026 0.00285263 0.00285807\n",
      " 0.00241485 0.00243883 0.00249963 0.00249701 0.00563073 0.00566893\n",
      " 0.00564346 0.00747743 0.00311723 0.00291133 0.0029561  0.00285559\n",
      " 0.00276132 0.00257845 0.00244517 0.00255232 0.00574164 0.00568056\n",
      " 0.00561776 0.00559468 0.0028615  0.00279837 0.00280371 0.0028645\n",
      " 0.00242615 0.00244241 0.00245624 0.00259051 0.0065434  0.00575218\n",
      " 0.00574999 0.00567975 0.002703   0.00260944 0.00267515 0.0026453\n",
      " 0.00247421 0.00243278 0.00242257 0.00239277 0.00608072 0.00565538\n",
      " 0.00562596 0.00568786 0.00248189 0.00246611 0.00244098 0.00252957\n",
      " 0.0024641  0.00238638 0.00247936 0.00243325 0.00567355 0.00566373\n",
      " 0.00567322 0.00570636 0.00229049 0.00261555 0.00241861 0.00237699\n",
      " 0.0025722  0.00254049 0.00247054 0.0024394  0.00596051 0.00678315\n",
      " 0.00669274 0.00573626 0.00272593 0.00251822 0.00250421 0.00255098\n",
      " 0.00250816 0.0024436  0.00247574 0.00244598 0.006037   0.00573168\n",
      " 0.00572257 0.00564404 0.00212278 0.00225668 0.00225878 0.00228243\n",
      " 0.00240335 0.00263667 0.002703   0.00247173 0.00625024 0.00586085\n",
      " 0.0059103  0.00588675 0.00243073 0.00248299 0.00241179 0.00234108\n",
      " 0.00271583 0.00261426 0.0026319  0.00272641 0.00573988 0.00570617\n",
      " 0.00583673 0.00595884 0.00225911 0.00248342 0.00249195 0.00235424\n",
      " 0.00215502 0.00258193 0.00303783 0.00451097 0.00556717 0.00540166\n",
      " 0.00533295 0.00526338 0.00281019 0.00269008 0.00269656 0.00271831\n",
      " 0.00242295 0.00231619 0.00224724 0.00225306 0.00543008 0.00539613\n",
      " 0.00533156 0.00539474 0.0026412  0.00245209 0.00229754 0.0023037\n",
      " 0.002142   0.00257282 0.0023756  0.00224404 0.00537877 0.00572896\n",
      " 0.00529785 0.00534267 0.00246029 0.00256166 0.00251122 0.00240951\n",
      " 0.0022356  0.00221028 0.00224829 0.00240045 0.00548143 0.00554266\n",
      " 0.00558014 0.0063107  0.00296178 0.00267057 0.00245137 0.00230141\n",
      " 0.00210857 0.00222917 0.00217633 0.00223765 0.00546274 0.00550699\n",
      " 0.00534844 0.00535631 0.00247064 0.00255771 0.00257368 0.0023912\n",
      " 0.00226955 0.00243578 0.00219636 0.00228858 0.00577083 0.00548115\n",
      " 0.00539303 0.00552659 0.00236573 0.00237169 0.00237908 0.00247045\n",
      " 0.00214462 0.00223703 0.00215855 0.00228972 0.00535803 0.00565801\n",
      " 0.00540838 0.00536575 0.00227971 0.00234027 0.00246358 0.00242195\n",
      " 0.00227804 0.00230794 0.00249619 0.00232167 0.00548377 0.00549617\n",
      " 0.00595603 0.00532784 0.0024056  0.00310841 0.00233126 0.00232253\n",
      " 0.00223937 0.00225577 0.00224028 0.00228047 0.00519004 0.00521088\n",
      " 0.00543542 0.00528646 0.00237942 0.00238295 0.00235338 0.00254254\n",
      " 0.0025187  0.00244555 0.00227838 0.00228853 0.00549903 0.00533738\n",
      " 0.00555892 0.005305   0.00228724 0.00227113 0.00232453 0.0023581\n",
      " 0.00235934 0.00235243 0.00225143 0.00223494 0.00536957 0.00657845\n",
      " 0.00620098 0.00534868 0.00209351 0.0024869  0.00239811 0.002315\n",
      " 0.00225201 0.00249324 0.0024632  0.00236006 0.00548997 0.00540266\n",
      " 0.00530257 0.00527601 0.00200682 0.00238962 0.00262556 0.00236211\n",
      " 0.001828   0.00228195 0.00228457 0.00257277 0.00390701 0.00387678\n",
      " 0.00390935 0.00372334 0.00238514 0.00287375 0.00228443 0.0024466\n",
      " 0.00266967 0.00247474 0.00228176 0.00508761 0.00391302 0.00387139\n",
      " 0.0038384  0.00376234 0.00220985 0.00231085 0.00231452 0.00228786\n",
      " 0.00226865 0.00232635 0.00232463 0.00235171 0.00394292 0.00382848\n",
      " 0.00389228 0.00412278 0.00240874 0.00252743 0.0034996  0.00249896\n",
      " 0.00212312 0.00239201 0.00230966 0.00227618 0.00389624 0.0037868\n",
      " 0.00388408 0.0038878  0.00243421 0.00277004 0.00247121 0.00243316\n",
      " 0.00203118 0.00223832 0.00223675 0.00225339 0.00389876 0.004142\n",
      " 0.00379839 0.00383234 0.00226183 0.00230904 0.00232978 0.00221696\n",
      " 0.00191617 0.00230722 0.00230722 0.0022562  0.00392919 0.00376143\n",
      " 0.00391655 0.00382075 0.00239797 0.00240593 0.00233049 0.00233793\n",
      " 0.00222569 0.00232873 0.00242004 0.00228992 0.00390882 0.00378652\n",
      " 0.00444174 0.00386677 0.0024498  0.00251064 0.00283484 0.00254416\n",
      " 0.00198536 0.002315   0.00223088 0.00227017 0.00423131 0.00379372\n",
      " 0.00381236 0.0038208  0.00233192 0.00278473 0.00243936 0.00240502\n",
      " 0.00197458 0.00232644 0.00228801 0.0022429  0.00383534 0.00368977\n",
      " 0.00377846 0.00367699 0.00221071 0.00242276 0.00245705 0.00223861\n",
      " 0.0019773  0.00234337 0.00225325 0.00232453 0.00410318 0.00377426\n",
      " 0.00395031 0.00380597 0.00213809 0.00362144 0.00269299 0.00228095\n",
      " 0.00181642 0.00219269 0.00221524 0.00224319 0.00382032 0.00399561\n",
      " 0.00383601 0.00373588 0.00185361 0.00219913 0.00278053 0.00248885\n",
      " 0.0020844  0.00231061 0.00227408 0.00228591 0.00389175 0.00399156\n",
      " 0.00385923 0.00381122 0.00184336 0.00204611 0.00252099 0.00241885]\n",
      "std_score_time\t[1.02094989e-04 7.66775204e-05 1.12029681e-04 1.02667924e-04\n",
      " 1.07484046e-04 1.64226857e-04 1.22579021e-04 1.01554270e-04\n",
      " 9.69662870e-05 1.16746409e-04 1.16877700e-04 8.93815449e-05\n",
      " 1.15298633e-04 9.44118789e-05 9.02191025e-05 9.79377556e-05\n",
      " 8.59838814e-05 9.14242956e-05 1.16469621e-04 8.69273747e-05\n",
      " 1.08968027e-04 8.26733604e-05 1.38574293e-04 9.53387694e-05\n",
      " 9.03385080e-05 9.14118846e-05 9.22889218e-05 9.68600999e-05\n",
      " 1.05210097e-04 7.25094519e-05 8.48597873e-05 1.01203607e-04\n",
      " 1.35560904e-04 1.22197465e-04 8.04296658e-05 9.21551682e-05\n",
      " 1.13726052e-04 1.12648215e-04 1.01704682e-04 8.80960489e-05\n",
      " 4.61915677e-05 1.00959996e-04 1.10726126e-04 1.12963659e-04\n",
      " 8.76341858e-05 9.96481967e-05 6.68523315e-05 1.06117321e-04\n",
      " 8.24282233e-05 8.46696313e-05 6.57396421e-05 9.50729592e-05\n",
      " 8.64882711e-05 6.57093023e-05 6.01604488e-05 3.33883496e-04\n",
      " 2.03122701e-04 2.25513761e-04 8.59090130e-05 7.14349809e-05\n",
      " 9.83545734e-05 9.03804551e-05 1.35562330e-04 1.13697878e-04\n",
      " 1.28272741e-04 3.80859483e-05 1.54464507e-04 8.11409008e-05\n",
      " 8.18545671e-05 1.28617700e-04 5.61959014e-05 6.17269339e-05\n",
      " 1.33494222e-04 1.12903258e-04 1.04671611e-04 9.70095169e-05\n",
      " 1.27112606e-04 5.92145745e-05 9.53841910e-05 8.59859175e-05\n",
      " 8.24858547e-05 1.31992367e-04 9.04849237e-05 1.10698278e-04\n",
      " 9.76570882e-05 1.12483086e-04 2.08318656e-04 1.29286937e-04\n",
      " 3.79459928e-05 5.52125955e-05 1.05612531e-03 9.48323498e-05\n",
      " 5.73743499e-05 1.34398090e-04 1.17111536e-04 2.87463510e-04\n",
      " 8.61546430e-04 1.72962674e-04 1.72098755e-04 4.66309197e-05\n",
      " 1.16483481e-04 1.21611856e-04 1.37074005e-04 7.63020511e-05\n",
      " 2.58419345e-05 6.25210800e-05 2.16615318e-05 4.95649232e-05\n",
      " 8.54820216e-05 5.50974968e-05 2.73675452e-05 1.72884872e-05\n",
      " 9.22210214e-05 2.33138136e-04 9.46622766e-05 8.41749489e-04\n",
      " 1.31432964e-04 3.13689817e-04 4.52362914e-04 6.16522971e-05\n",
      " 9.84157240e-05 3.96551382e-05 1.96663600e-04 3.37897590e-05\n",
      " 4.23955164e-05 3.47883345e-05 6.56613597e-05 4.15761715e-04\n",
      " 1.49892686e-03 5.42448882e-04 1.76570875e-04 7.78098895e-05\n",
      " 5.07501262e-05 1.63829479e-05 9.63475880e-05 3.24478489e-05\n",
      " 3.06021740e-05 1.04023969e-04 1.31896692e-04 3.26009489e-05\n",
      " 9.38401232e-05 2.49055111e-05 3.10394986e-05 1.12181108e-04\n",
      " 3.69009732e-05 4.15832077e-05 3.17895571e-05 4.89311138e-05\n",
      " 4.52362422e-05 3.06350711e-05 3.11351661e-05 9.99179241e-05\n",
      " 9.27529050e-05 4.69055093e-05 1.62023653e-04 1.26402132e-03\n",
      " 6.33347269e-04 1.80123215e-04 7.34886973e-05 1.02168679e-04\n",
      " 9.76960792e-05 9.51349763e-05 1.33954294e-04 4.72038441e-05\n",
      " 1.13137853e-04 9.39954295e-05 8.44972935e-05 6.39254588e-05\n",
      " 7.95282330e-05 1.05988083e-04 6.37493296e-05 1.63942579e-04\n",
      " 4.69752612e-05 5.19821617e-05 1.07949930e-04 1.31064780e-04\n",
      " 8.84865624e-05 9.27133065e-05 1.18032214e-04 1.22131262e-04\n",
      " 7.46827466e-05 9.47363237e-05 8.26609833e-05 1.13127181e-04\n",
      " 8.64680783e-05 7.76116600e-05 8.24054906e-05 1.16950775e-03\n",
      " 2.74844140e-04 5.55043368e-05 7.09737151e-05 8.79243500e-05\n",
      " 1.26710572e-04 6.11994811e-05 7.93746118e-05 1.47908738e-04\n",
      " 5.97993341e-05 4.60062612e-05 1.12573124e-04 7.20269433e-05\n",
      " 1.02239380e-04 8.94049199e-05 8.28338476e-05 1.05435758e-04\n",
      " 6.83430922e-05 7.51570695e-05 1.22675142e-04 2.15894815e-04\n",
      " 3.95560580e-04 3.17480457e-05 9.68255863e-05 1.05404808e-04\n",
      " 6.13165864e-05 1.03546745e-04 1.05110053e-04 1.24777488e-04\n",
      " 1.16099968e-04 6.93730715e-05 8.61751743e-05 9.17925773e-05\n",
      " 4.51555967e-04 1.12183134e-04 1.05853768e-04 1.06597435e-04\n",
      " 1.18774518e-04 1.10173904e-04 1.00296822e-04 1.57974100e-04\n",
      " 1.07912726e-04 6.27390507e-05 8.31309756e-05 1.20530946e-04\n",
      " 7.30816689e-05 1.14001444e-04 1.09285875e-04 6.30411185e-05\n",
      " 8.30226762e-05 5.12875408e-04 8.93773475e-05 4.51500585e-05\n",
      " 7.71782116e-05 1.46704250e-04 7.70314748e-05 8.16513984e-05\n",
      " 8.07336709e-05 5.73418514e-04 1.84811318e-04 1.00160051e-04\n",
      " 3.41351353e-04 9.73036901e-05 6.97592717e-05 1.02343363e-04\n",
      " 8.72292747e-05 1.13610833e-04 1.83626145e-04 7.61248383e-05\n",
      " 4.08636285e-04 7.77920914e-05 1.16219449e-04 1.04089784e-04\n",
      " 1.10030068e-04 1.16346351e-04 8.57531674e-05 2.93889561e-05\n",
      " 1.13146294e-04 8.22497795e-05 8.68565657e-05 9.30809339e-05\n",
      " 5.94987168e-04 8.77671090e-05 1.00239019e-04 1.19801329e-04\n",
      " 1.78981029e-04 6.82529724e-05 7.35241150e-05 4.82594542e-05\n",
      " 1.48405100e-04 8.57067538e-05 1.00905886e-04 1.69544855e-04\n",
      " 1.14734135e-04 1.00550994e-04 2.24604981e-05 4.99716242e-05\n",
      " 7.07621523e-05 6.52032577e-05 1.52283230e-04 1.06492118e-04\n",
      " 1.19592851e-04 2.15872961e-04 4.27660996e-05 3.01891692e-03\n",
      " 2.03454888e-04 1.52615262e-04 6.18413859e-05 2.03278784e-04\n",
      " 1.35544131e-04 6.43228406e-05 9.64696372e-05 5.34203629e-05\n",
      " 1.85213803e-04 1.00691412e-04 9.05351162e-05 1.39591502e-04\n",
      " 1.96540373e-04 7.58099103e-05 6.19345941e-05 9.53628301e-05\n",
      " 1.37848089e-04 3.33091831e-05 9.21851656e-05 8.37552761e-05\n",
      " 1.62835065e-04 1.66006006e-04 1.79355247e-04 8.50928434e-05\n",
      " 1.80593624e-04 2.32243928e-04 7.30771264e-05 1.02382768e-04\n",
      " 1.51956668e-04 1.12206339e-04 7.64678523e-05 1.82020017e-04\n",
      " 5.69852126e-05 4.43059988e-05 1.07777856e-04 5.13005429e-05\n",
      " 1.96505594e-04 3.22256754e-04 2.98494325e-04 3.54743420e-04\n",
      " 9.93402532e-05 1.71552160e-04 5.90407207e-05 1.25703030e-04\n",
      " 1.14029203e-04 7.68142186e-05 1.34891779e-04 1.50115320e-04\n",
      " 1.42071917e-04 2.14872633e-04 1.49604799e-04 1.52859074e-04\n",
      " 9.63793475e-05 1.67043917e-04 1.29837724e-04 8.37539187e-05\n",
      " 6.03777152e-05 2.09399747e-04 7.38401085e-05 1.05465881e-04\n",
      " 8.31081884e-04 1.76698930e-04 2.07573738e-04 7.94964056e-05\n",
      " 1.44463560e-05 3.33944692e-05 1.12093716e-04 3.72602990e-04\n",
      " 7.86020026e-05 1.52692267e-04 9.17636657e-05 1.60550398e-04\n",
      " 3.36962348e-04 1.67477646e-04 1.97029933e-04 1.75317830e-04\n",
      " 6.33910840e-05 4.99440888e-05 2.16847117e-04 1.05572824e-04\n",
      " 1.45335194e-04 8.42936161e-05 1.33916080e-04 5.09938049e-05\n",
      " 1.42613823e-04 3.50634046e-04 7.73169148e-04 1.22357437e-04\n",
      " 1.04458186e-04 1.10080201e-03 5.90055879e-05 8.32731080e-05\n",
      " 1.70590224e-04 1.32746583e-04 9.85169803e-05 7.20080948e-05\n",
      " 9.95643066e-05 1.83252807e-04 2.36445627e-04 1.29544028e-04\n",
      " 6.10036694e-05 1.21966090e-04 1.35585894e-04 1.60353424e-04\n",
      " 5.11276831e-04 2.27272945e-04 9.78701036e-05 5.03404104e-05\n",
      " 1.01819261e-04 8.85885418e-05 1.39289790e-04 1.03882715e-04\n",
      " 7.03444876e-05 1.32361990e-04 1.07289569e-04 1.11693707e-04\n",
      " 6.13084278e-05 1.20121650e-04 4.29974935e-05 5.99346562e-05\n",
      " 1.87960510e-04 1.33367655e-03 1.73412714e-03 1.08190978e-04\n",
      " 1.08576606e-04 1.21374625e-04 1.21038385e-04 1.30529763e-05\n",
      " 1.80161964e-04 1.61994475e-04 1.69226451e-04 1.15806400e-04\n",
      " 1.87433860e-04 6.75176159e-05 1.13371241e-04 8.67963353e-05\n",
      " 6.43379328e-05 1.07525183e-04 1.01266629e-04 4.34842025e-05\n",
      " 8.75119479e-05 1.31598624e-04 1.16632205e-04 3.42023663e-04\n",
      " 1.03226754e-04 1.68310049e-04 1.50188415e-04 9.50521264e-05\n",
      " 1.31368853e-04 1.14442891e-03 1.09956891e-04 5.33067688e-05\n",
      " 1.19806587e-03 2.27023388e-04 4.57583829e-05 5.01648972e-03\n",
      " 5.92103505e-05 5.25861674e-05 1.06084919e-04 9.73729732e-05\n",
      " 1.26513750e-04 1.45286077e-04 8.24524941e-05 7.04427452e-05\n",
      " 7.82647399e-05 1.15839499e-04 5.36556020e-05 1.30224341e-04\n",
      " 1.15335012e-04 7.57768212e-05 1.41800548e-04 4.53777476e-04\n",
      " 6.48630003e-05 8.41567468e-05 2.12608692e-03 1.54350251e-04\n",
      " 1.69501693e-04 1.34167725e-04 8.52699773e-05 3.87580916e-05\n",
      " 1.93125466e-04 7.65689721e-05 1.50471177e-04 1.64353851e-04\n",
      " 2.71422144e-05 2.74841451e-04 1.35347269e-04 1.17580598e-04\n",
      " 1.67160134e-04 6.01207136e-05 2.54340667e-05 4.79506175e-05\n",
      " 1.77462276e-04 5.39523859e-04 1.30843769e-04 1.49823115e-04\n",
      " 5.78392662e-05 1.20090414e-04 1.54829062e-04 7.17933094e-05\n",
      " 8.06286375e-05 1.27484838e-04 7.28917617e-05 1.99523163e-05\n",
      " 1.84241289e-04 1.37437804e-04 1.43629130e-04 1.70981305e-04\n",
      " 5.67711435e-05 7.35850122e-05 9.74142720e-05 6.52399671e-05\n",
      " 2.01990460e-04 7.72659551e-05 8.25626155e-05 8.02394673e-05\n",
      " 3.45389892e-04 1.29551171e-04 1.19290009e-03 1.39763615e-04\n",
      " 1.09206162e-04 7.27812848e-05 8.15860886e-04 1.37772523e-04\n",
      " 1.36902963e-04 2.13449399e-04 3.87316834e-05 8.86298292e-05\n",
      " 3.72273601e-04 1.11199816e-04 1.01438003e-04 1.67447368e-04\n",
      " 5.72221279e-05 1.98559138e-04 7.12322898e-05 1.77389550e-04\n",
      " 4.75148549e-05 1.96170448e-04 7.21791290e-05 5.70139736e-05\n",
      " 2.23392514e-04 1.40971726e-04 6.63998097e-05 1.04420109e-04\n",
      " 1.28562284e-04 2.64717831e-04 2.24254472e-04 1.88133863e-05\n",
      " 1.31028795e-04 1.16694182e-04 3.96490599e-05 1.38009261e-04\n",
      " 5.05499117e-05 1.30108284e-04 2.02151929e-04 7.60984300e-05\n",
      " 9.58494166e-05 1.04091450e-03 2.41631856e-04 6.61160126e-05\n",
      " 5.21703436e-05 1.32853319e-04 1.61115930e-05 3.50728560e-05\n",
      " 1.54264050e-04 1.22648079e-04 1.38298034e-04 5.27978684e-05\n",
      " 1.14705515e-04 2.31807919e-04 1.56544092e-04 5.84225743e-05\n",
      " 5.42146444e-05 2.72117393e-05 3.76784038e-05 7.92613808e-05\n",
      " 9.03743416e-05 2.87682161e-04 1.35396431e-04 1.06900957e-04\n",
      " 2.31504151e-04 4.95187985e-05 1.20584226e-04 6.44779410e-05]\n",
      "param_C\t[0.001 0.001 0.001 0.001 0.001 0.001 0.001 0.001 0.001 0.001 0.001 0.001\n",
      " 0.001 0.001 0.001 0.001 0.001 0.001 0.001 0.001 0.001 0.001 0.001 0.001\n",
      " 0.001 0.001 0.001 0.001 0.001 0.001 0.001 0.001 0.001 0.001 0.001 0.001\n",
      " 0.001 0.001 0.001 0.001 0.001 0.001 0.001 0.001 0.001 0.001 0.001 0.001\n",
      " 0.001 0.001 0.001 0.001 0.001 0.001 0.001 0.001 0.001 0.001 0.001 0.001\n",
      " 0.001 0.001 0.001 0.001 0.001 0.001 0.001 0.001 0.001 0.001 0.001 0.001\n",
      " 0.001 0.001 0.001 0.001 0.001 0.001 0.001 0.001 0.001 0.001 0.001 0.001\n",
      " 0.001 0.001 0.001 0.001 0.001 0.001 0.001 0.001 0.001 0.001 0.001 0.001\n",
      " 0.001 0.001 0.001 0.001 0.001 0.001 0.001 0.001 0.001 0.001 0.001 0.001\n",
      " 0.001 0.001 0.001 0.001 0.001 0.001 0.001 0.001 0.001 0.001 0.001 0.001\n",
      " 0.001 0.001 0.001 0.001 0.001 0.001 0.001 0.001 0.001 0.001 0.001 0.001\n",
      " 0.001 0.001 0.001 0.001 0.001 0.001 0.001 0.001 0.001 0.001 0.001 0.001\n",
      " 0.01 0.01 0.01 0.01 0.01 0.01 0.01 0.01 0.01 0.01 0.01 0.01 0.01 0.01\n",
      " 0.01 0.01 0.01 0.01 0.01 0.01 0.01 0.01 0.01 0.01 0.01 0.01 0.01 0.01\n",
      " 0.01 0.01 0.01 0.01 0.01 0.01 0.01 0.01 0.01 0.01 0.01 0.01 0.01 0.01\n",
      " 0.01 0.01 0.01 0.01 0.01 0.01 0.01 0.01 0.01 0.01 0.01 0.01 0.01 0.01\n",
      " 0.01 0.01 0.01 0.01 0.01 0.01 0.01 0.01 0.01 0.01 0.01 0.01 0.01 0.01\n",
      " 0.01 0.01 0.01 0.01 0.01 0.01 0.01 0.01 0.01 0.01 0.01 0.01 0.01 0.01\n",
      " 0.01 0.01 0.01 0.01 0.01 0.01 0.01 0.01 0.01 0.01 0.01 0.01 0.01 0.01\n",
      " 0.01 0.01 0.01 0.01 0.01 0.01 0.01 0.01 0.01 0.01 0.01 0.01 0.01 0.01\n",
      " 0.01 0.01 0.01 0.01 0.01 0.01 0.01 0.01 0.01 0.01 0.01 0.01 0.01 0.01\n",
      " 0.01 0.01 0.01 0.01 0.01 0.01 0.01 0.01 0.01 0.01 0.01 0.01 0.01 0.01\n",
      " 0.01 0.01 0.01 0.01 0.1 0.1 0.1 0.1 0.1 0.1 0.1 0.1 0.1 0.1 0.1 0.1 0.1\n",
      " 0.1 0.1 0.1 0.1 0.1 0.1 0.1 0.1 0.1 0.1 0.1 0.1 0.1 0.1 0.1 0.1 0.1 0.1\n",
      " 0.1 0.1 0.1 0.1 0.1 0.1 0.1 0.1 0.1 0.1 0.1 0.1 0.1 0.1 0.1 0.1 0.1 0.1\n",
      " 0.1 0.1 0.1 0.1 0.1 0.1 0.1 0.1 0.1 0.1 0.1 0.1 0.1 0.1 0.1 0.1 0.1 0.1\n",
      " 0.1 0.1 0.1 0.1 0.1 0.1 0.1 0.1 0.1 0.1 0.1 0.1 0.1 0.1 0.1 0.1 0.1 0.1\n",
      " 0.1 0.1 0.1 0.1 0.1 0.1 0.1 0.1 0.1 0.1 0.1 0.1 0.1 0.1 0.1 0.1 0.1 0.1\n",
      " 0.1 0.1 0.1 0.1 0.1 0.1 0.1 0.1 0.1 0.1 0.1 0.1 0.1 0.1 0.1 0.1 0.1 0.1\n",
      " 0.1 0.1 0.1 0.1 0.1 0.1 0.1 0.1 0.1 0.1 0.1 0.1 0.1 0.1 0.1 0.1 0.1 0.1\n",
      " 0.1 0.1 0.1 0.1 0.1 10 10 10 10 10 10 10 10 10 10 10 10 10 10 10 10 10 10\n",
      " 10 10 10 10 10 10 10 10 10 10 10 10 10 10 10 10 10 10 10 10 10 10 10 10\n",
      " 10 10 10 10 10 10 10 10 10 10 10 10 10 10 10 10 10 10 10 10 10 10 10 10\n",
      " 10 10 10 10 10 10 10 10 10 10 10 10 10 10 10 10 10 10 10 10 10 10 10 10\n",
      " 10 10 10 10 10 10 10 10 10 10 10 10 10 10 10 10 10 10 10 10 10 10 10 10\n",
      " 10 10 10 10 10 10 10 10 10 10 10 10 10 10 10 10 10 10 10 10 10 10 10 10\n",
      " 10 10 10 10 10 10]\n",
      "param_coef0\t[0.1 0.1 0.1 0.1 0.1 0.1 0.1 0.1 0.1 0.1 0.1 0.1 0.1 0.1 0.1 0.1 0.1 0.1\n",
      " 0.1 0.1 0.1 0.1 0.1 0.1 0.1 0.1 0.1 0.1 0.1 0.1 0.1 0.1 0.1 0.1 0.1 0.1\n",
      " 0.1 0.1 0.1 0.1 0.1 0.1 0.1 0.1 0.1 0.1 0.1 0.1 1 1 1 1 1 1 1 1 1 1 1 1 1\n",
      " 1 1 1 1 1 1 1 1 1 1 1 1 1 1 1 1 1 1 1 1 1 1 1 1 1 1 1 1 1 1 1 1 1 1 1 10\n",
      " 10 10 10 10 10 10 10 10 10 10 10 10 10 10 10 10 10 10 10 10 10 10 10 10\n",
      " 10 10 10 10 10 10 10 10 10 10 10 10 10 10 10 10 10 10 10 10 10 10 10 0.1\n",
      " 0.1 0.1 0.1 0.1 0.1 0.1 0.1 0.1 0.1 0.1 0.1 0.1 0.1 0.1 0.1 0.1 0.1 0.1\n",
      " 0.1 0.1 0.1 0.1 0.1 0.1 0.1 0.1 0.1 0.1 0.1 0.1 0.1 0.1 0.1 0.1 0.1 0.1\n",
      " 0.1 0.1 0.1 0.1 0.1 0.1 0.1 0.1 0.1 0.1 0.1 1 1 1 1 1 1 1 1 1 1 1 1 1 1 1\n",
      " 1 1 1 1 1 1 1 1 1 1 1 1 1 1 1 1 1 1 1 1 1 1 1 1 1 1 1 1 1 1 1 1 1 10 10\n",
      " 10 10 10 10 10 10 10 10 10 10 10 10 10 10 10 10 10 10 10 10 10 10 10 10\n",
      " 10 10 10 10 10 10 10 10 10 10 10 10 10 10 10 10 10 10 10 10 10 10 0.1 0.1\n",
      " 0.1 0.1 0.1 0.1 0.1 0.1 0.1 0.1 0.1 0.1 0.1 0.1 0.1 0.1 0.1 0.1 0.1 0.1\n",
      " 0.1 0.1 0.1 0.1 0.1 0.1 0.1 0.1 0.1 0.1 0.1 0.1 0.1 0.1 0.1 0.1 0.1 0.1\n",
      " 0.1 0.1 0.1 0.1 0.1 0.1 0.1 0.1 0.1 0.1 1 1 1 1 1 1 1 1 1 1 1 1 1 1 1 1 1\n",
      " 1 1 1 1 1 1 1 1 1 1 1 1 1 1 1 1 1 1 1 1 1 1 1 1 1 1 1 1 1 1 1 10 10 10 10\n",
      " 10 10 10 10 10 10 10 10 10 10 10 10 10 10 10 10 10 10 10 10 10 10 10 10\n",
      " 10 10 10 10 10 10 10 10 10 10 10 10 10 10 10 10 10 10 10 10 0.1 0.1 0.1\n",
      " 0.1 0.1 0.1 0.1 0.1 0.1 0.1 0.1 0.1 0.1 0.1 0.1 0.1 0.1 0.1 0.1 0.1 0.1\n",
      " 0.1 0.1 0.1 0.1 0.1 0.1 0.1 0.1 0.1 0.1 0.1 0.1 0.1 0.1 0.1 0.1 0.1 0.1\n",
      " 0.1 0.1 0.1 0.1 0.1 0.1 0.1 0.1 0.1 1 1 1 1 1 1 1 1 1 1 1 1 1 1 1 1 1 1 1\n",
      " 1 1 1 1 1 1 1 1 1 1 1 1 1 1 1 1 1 1 1 1 1 1 1 1 1 1 1 1 1 10 10 10 10 10\n",
      " 10 10 10 10 10 10 10 10 10 10 10 10 10 10 10 10 10 10 10 10 10 10 10 10\n",
      " 10 10 10 10 10 10 10 10 10 10 10 10 10 10 10 10 10 10 10]\n",
      "param_degree\t[2 2 2 2 2 2 2 2 2 2 2 2 3 3 3 3 3 3 3 3 3 3 3 3 4 4 4 4 4 4 4 4 4 4 4 4 5\n",
      " 5 5 5 5 5 5 5 5 5 5 5 2 2 2 2 2 2 2 2 2 2 2 2 3 3 3 3 3 3 3 3 3 3 3 3 4 4\n",
      " 4 4 4 4 4 4 4 4 4 4 5 5 5 5 5 5 5 5 5 5 5 5 2 2 2 2 2 2 2 2 2 2 2 2 3 3 3\n",
      " 3 3 3 3 3 3 3 3 3 4 4 4 4 4 4 4 4 4 4 4 4 5 5 5 5 5 5 5 5 5 5 5 5 2 2 2 2\n",
      " 2 2 2 2 2 2 2 2 3 3 3 3 3 3 3 3 3 3 3 3 4 4 4 4 4 4 4 4 4 4 4 4 5 5 5 5 5\n",
      " 5 5 5 5 5 5 5 2 2 2 2 2 2 2 2 2 2 2 2 3 3 3 3 3 3 3 3 3 3 3 3 4 4 4 4 4 4\n",
      " 4 4 4 4 4 4 5 5 5 5 5 5 5 5 5 5 5 5 2 2 2 2 2 2 2 2 2 2 2 2 3 3 3 3 3 3 3\n",
      " 3 3 3 3 3 4 4 4 4 4 4 4 4 4 4 4 4 5 5 5 5 5 5 5 5 5 5 5 5 2 2 2 2 2 2 2 2\n",
      " 2 2 2 2 3 3 3 3 3 3 3 3 3 3 3 3 4 4 4 4 4 4 4 4 4 4 4 4 5 5 5 5 5 5 5 5 5\n",
      " 5 5 5 2 2 2 2 2 2 2 2 2 2 2 2 3 3 3 3 3 3 3 3 3 3 3 3 4 4 4 4 4 4 4 4 4 4\n",
      " 4 4 5 5 5 5 5 5 5 5 5 5 5 5 2 2 2 2 2 2 2 2 2 2 2 2 3 3 3 3 3 3 3 3 3 3 3\n",
      " 3 4 4 4 4 4 4 4 4 4 4 4 4 5 5 5 5 5 5 5 5 5 5 5 5 2 2 2 2 2 2 2 2 2 2 2 2\n",
      " 3 3 3 3 3 3 3 3 3 3 3 3 4 4 4 4 4 4 4 4 4 4 4 4 5 5 5 5 5 5 5 5 5 5 5 5 2\n",
      " 2 2 2 2 2 2 2 2 2 2 2 3 3 3 3 3 3 3 3 3 3 3 3 4 4 4 4 4 4 4 4 4 4 4 4 5 5\n",
      " 5 5 5 5 5 5 5 5 5 5 2 2 2 2 2 2 2 2 2 2 2 2 3 3 3 3 3 3 3 3 3 3 3 3 4 4 4\n",
      " 4 4 4 4 4 4 4 4 4 5 5 5 5 5 5 5 5 5 5 5 5]\n",
      "param_gamma\t['scale' 'scale' 'scale' 'scale' 'scale' 'scale' 'scale' 'scale' 'scale'\n",
      " 'scale' 'scale' 'scale' 'scale' 'scale' 'scale' 'scale' 'scale' 'scale'\n",
      " 'scale' 'scale' 'scale' 'scale' 'scale' 'scale' 'scale' 'scale' 'scale'\n",
      " 'scale' 'scale' 'scale' 'scale' 'scale' 'scale' 'scale' 'scale' 'scale'\n",
      " 'scale' 'scale' 'scale' 'scale' 'scale' 'scale' 'scale' 'scale' 'scale'\n",
      " 'scale' 'scale' 'scale' 'scale' 'scale' 'scale' 'scale' 'scale' 'scale'\n",
      " 'scale' 'scale' 'scale' 'scale' 'scale' 'scale' 'scale' 'scale' 'scale'\n",
      " 'scale' 'scale' 'scale' 'scale' 'scale' 'scale' 'scale' 'scale' 'scale'\n",
      " 'scale' 'scale' 'scale' 'scale' 'scale' 'scale' 'scale' 'scale' 'scale'\n",
      " 'scale' 'scale' 'scale' 'scale' 'scale' 'scale' 'scale' 'scale' 'scale'\n",
      " 'scale' 'scale' 'scale' 'scale' 'scale' 'scale' 'scale' 'scale' 'scale'\n",
      " 'scale' 'scale' 'scale' 'scale' 'scale' 'scale' 'scale' 'scale' 'scale'\n",
      " 'scale' 'scale' 'scale' 'scale' 'scale' 'scale' 'scale' 'scale' 'scale'\n",
      " 'scale' 'scale' 'scale' 'scale' 'scale' 'scale' 'scale' 'scale' 'scale'\n",
      " 'scale' 'scale' 'scale' 'scale' 'scale' 'scale' 'scale' 'scale' 'scale'\n",
      " 'scale' 'scale' 'scale' 'scale' 'scale' 'scale' 'scale' 'scale' 'scale'\n",
      " 'scale' 'scale' 'scale' 'scale' 'scale' 'scale' 'scale' 'scale' 'scale'\n",
      " 'scale' 'scale' 'scale' 'scale' 'scale' 'scale' 'scale' 'scale' 'scale'\n",
      " 'scale' 'scale' 'scale' 'scale' 'scale' 'scale' 'scale' 'scale' 'scale'\n",
      " 'scale' 'scale' 'scale' 'scale' 'scale' 'scale' 'scale' 'scale' 'scale'\n",
      " 'scale' 'scale' 'scale' 'scale' 'scale' 'scale' 'scale' 'scale' 'scale'\n",
      " 'scale' 'scale' 'scale' 'scale' 'scale' 'scale' 'scale' 'scale' 'scale'\n",
      " 'scale' 'scale' 'scale' 'scale' 'scale' 'scale' 'scale' 'scale' 'scale'\n",
      " 'scale' 'scale' 'scale' 'scale' 'scale' 'scale' 'scale' 'scale' 'scale'\n",
      " 'scale' 'scale' 'scale' 'scale' 'scale' 'scale' 'scale' 'scale' 'scale'\n",
      " 'scale' 'scale' 'scale' 'scale' 'scale' 'scale' 'scale' 'scale' 'scale'\n",
      " 'scale' 'scale' 'scale' 'scale' 'scale' 'scale' 'scale' 'scale' 'scale'\n",
      " 'scale' 'scale' 'scale' 'scale' 'scale' 'scale' 'scale' 'scale' 'scale'\n",
      " 'scale' 'scale' 'scale' 'scale' 'scale' 'scale' 'scale' 'scale' 'scale'\n",
      " 'scale' 'scale' 'scale' 'scale' 'scale' 'scale' 'scale' 'scale' 'scale'\n",
      " 'scale' 'scale' 'scale' 'scale' 'scale' 'scale' 'scale' 'scale' 'scale'\n",
      " 'scale' 'scale' 'scale' 'scale' 'scale' 'scale' 'scale' 'scale' 'scale'\n",
      " 'scale' 'scale' 'scale' 'scale' 'scale' 'scale' 'scale' 'scale' 'scale'\n",
      " 'scale' 'scale' 'scale' 'scale' 'scale' 'scale' 'scale' 'scale' 'scale'\n",
      " 'scale' 'scale' 'scale' 'scale' 'scale' 'scale' 'scale' 'scale' 'scale'\n",
      " 'scale' 'scale' 'scale' 'scale' 'scale' 'scale' 'scale' 'scale' 'scale'\n",
      " 'scale' 'scale' 'scale' 'scale' 'scale' 'scale' 'scale' 'scale' 'scale'\n",
      " 'scale' 'scale' 'scale' 'scale' 'scale' 'scale' 'scale' 'scale' 'scale'\n",
      " 'scale' 'scale' 'scale' 'scale' 'scale' 'scale' 'scale' 'scale' 'scale'\n",
      " 'scale' 'scale' 'scale' 'scale' 'scale' 'scale' 'scale' 'scale' 'scale'\n",
      " 'scale' 'scale' 'scale' 'scale' 'scale' 'scale' 'scale' 'scale' 'scale'\n",
      " 'scale' 'scale' 'scale' 'scale' 'scale' 'scale' 'scale' 'scale' 'scale'\n",
      " 'scale' 'scale' 'scale' 'scale' 'scale' 'scale' 'scale' 'scale' 'scale'\n",
      " 'scale' 'scale' 'scale' 'scale' 'scale' 'scale' 'scale' 'scale' 'scale'\n",
      " 'scale' 'scale' 'scale' 'scale' 'scale' 'scale' 'scale' 'scale' 'scale'\n",
      " 'scale' 'scale' 'scale' 'scale' 'scale' 'scale' 'scale' 'scale' 'scale'\n",
      " 'scale' 'scale' 'scale' 'scale' 'scale' 'scale' 'scale' 'scale' 'scale'\n",
      " 'scale' 'scale' 'scale' 'scale' 'scale' 'scale' 'scale' 'scale' 'scale'\n",
      " 'scale' 'scale' 'scale' 'scale' 'scale' 'scale' 'scale' 'scale' 'scale'\n",
      " 'scale' 'scale' 'scale' 'scale' 'scale' 'scale' 'scale' 'scale' 'scale'\n",
      " 'scale' 'scale' 'scale' 'scale' 'scale' 'scale' 'scale' 'scale' 'scale'\n",
      " 'scale' 'scale' 'scale' 'scale' 'scale' 'scale' 'scale' 'scale' 'scale'\n",
      " 'scale' 'scale' 'scale' 'scale' 'scale' 'scale' 'scale' 'scale' 'scale'\n",
      " 'scale' 'scale' 'scale' 'scale' 'scale' 'scale' 'scale' 'scale' 'scale'\n",
      " 'scale' 'scale' 'scale' 'scale' 'scale' 'scale' 'scale' 'scale' 'scale'\n",
      " 'scale' 'scale' 'scale' 'scale' 'scale' 'scale' 'scale' 'scale' 'scale'\n",
      " 'scale' 'scale' 'scale' 'scale' 'scale' 'scale' 'scale' 'scale' 'scale'\n",
      " 'scale' 'scale' 'scale' 'scale' 'scale' 'scale' 'scale' 'scale' 'scale'\n",
      " 'scale' 'scale' 'scale' 'scale' 'scale' 'scale' 'scale' 'scale' 'scale'\n",
      " 'scale' 'scale' 'scale' 'scale' 'scale' 'scale' 'scale' 'scale' 'scale'\n",
      " 'scale' 'scale' 'scale' 'scale' 'scale' 'scale' 'scale' 'scale' 'scale'\n",
      " 'scale' 'scale' 'scale' 'scale' 'scale' 'scale' 'scale' 'scale' 'scale'\n",
      " 'scale' 'scale' 'scale' 'scale' 'scale' 'scale' 'scale' 'scale' 'scale'\n",
      " 'scale' 'scale' 'scale' 'scale' 'scale' 'scale' 'scale' 'scale' 'scale']\n",
      "param_kernel\t['linear' 'linear' 'linear' 'linear' 'rbf' 'rbf' 'rbf' 'rbf' 'poly' 'poly'\n",
      " 'poly' 'poly' 'linear' 'linear' 'linear' 'linear' 'rbf' 'rbf' 'rbf' 'rbf'\n",
      " 'poly' 'poly' 'poly' 'poly' 'linear' 'linear' 'linear' 'linear' 'rbf'\n",
      " 'rbf' 'rbf' 'rbf' 'poly' 'poly' 'poly' 'poly' 'linear' 'linear' 'linear'\n",
      " 'linear' 'rbf' 'rbf' 'rbf' 'rbf' 'poly' 'poly' 'poly' 'poly' 'linear'\n",
      " 'linear' 'linear' 'linear' 'rbf' 'rbf' 'rbf' 'rbf' 'poly' 'poly' 'poly'\n",
      " 'poly' 'linear' 'linear' 'linear' 'linear' 'rbf' 'rbf' 'rbf' 'rbf' 'poly'\n",
      " 'poly' 'poly' 'poly' 'linear' 'linear' 'linear' 'linear' 'rbf' 'rbf'\n",
      " 'rbf' 'rbf' 'poly' 'poly' 'poly' 'poly' 'linear' 'linear' 'linear'\n",
      " 'linear' 'rbf' 'rbf' 'rbf' 'rbf' 'poly' 'poly' 'poly' 'poly' 'linear'\n",
      " 'linear' 'linear' 'linear' 'rbf' 'rbf' 'rbf' 'rbf' 'poly' 'poly' 'poly'\n",
      " 'poly' 'linear' 'linear' 'linear' 'linear' 'rbf' 'rbf' 'rbf' 'rbf' 'poly'\n",
      " 'poly' 'poly' 'poly' 'linear' 'linear' 'linear' 'linear' 'rbf' 'rbf'\n",
      " 'rbf' 'rbf' 'poly' 'poly' 'poly' 'poly' 'linear' 'linear' 'linear'\n",
      " 'linear' 'rbf' 'rbf' 'rbf' 'rbf' 'poly' 'poly' 'poly' 'poly' 'linear'\n",
      " 'linear' 'linear' 'linear' 'rbf' 'rbf' 'rbf' 'rbf' 'poly' 'poly' 'poly'\n",
      " 'poly' 'linear' 'linear' 'linear' 'linear' 'rbf' 'rbf' 'rbf' 'rbf' 'poly'\n",
      " 'poly' 'poly' 'poly' 'linear' 'linear' 'linear' 'linear' 'rbf' 'rbf'\n",
      " 'rbf' 'rbf' 'poly' 'poly' 'poly' 'poly' 'linear' 'linear' 'linear'\n",
      " 'linear' 'rbf' 'rbf' 'rbf' 'rbf' 'poly' 'poly' 'poly' 'poly' 'linear'\n",
      " 'linear' 'linear' 'linear' 'rbf' 'rbf' 'rbf' 'rbf' 'poly' 'poly' 'poly'\n",
      " 'poly' 'linear' 'linear' 'linear' 'linear' 'rbf' 'rbf' 'rbf' 'rbf' 'poly'\n",
      " 'poly' 'poly' 'poly' 'linear' 'linear' 'linear' 'linear' 'rbf' 'rbf'\n",
      " 'rbf' 'rbf' 'poly' 'poly' 'poly' 'poly' 'linear' 'linear' 'linear'\n",
      " 'linear' 'rbf' 'rbf' 'rbf' 'rbf' 'poly' 'poly' 'poly' 'poly' 'linear'\n",
      " 'linear' 'linear' 'linear' 'rbf' 'rbf' 'rbf' 'rbf' 'poly' 'poly' 'poly'\n",
      " 'poly' 'linear' 'linear' 'linear' 'linear' 'rbf' 'rbf' 'rbf' 'rbf' 'poly'\n",
      " 'poly' 'poly' 'poly' 'linear' 'linear' 'linear' 'linear' 'rbf' 'rbf'\n",
      " 'rbf' 'rbf' 'poly' 'poly' 'poly' 'poly' 'linear' 'linear' 'linear'\n",
      " 'linear' 'rbf' 'rbf' 'rbf' 'rbf' 'poly' 'poly' 'poly' 'poly' 'linear'\n",
      " 'linear' 'linear' 'linear' 'rbf' 'rbf' 'rbf' 'rbf' 'poly' 'poly' 'poly'\n",
      " 'poly' 'linear' 'linear' 'linear' 'linear' 'rbf' 'rbf' 'rbf' 'rbf' 'poly'\n",
      " 'poly' 'poly' 'poly' 'linear' 'linear' 'linear' 'linear' 'rbf' 'rbf'\n",
      " 'rbf' 'rbf' 'poly' 'poly' 'poly' 'poly' 'linear' 'linear' 'linear'\n",
      " 'linear' 'rbf' 'rbf' 'rbf' 'rbf' 'poly' 'poly' 'poly' 'poly' 'linear'\n",
      " 'linear' 'linear' 'linear' 'rbf' 'rbf' 'rbf' 'rbf' 'poly' 'poly' 'poly'\n",
      " 'poly' 'linear' 'linear' 'linear' 'linear' 'rbf' 'rbf' 'rbf' 'rbf' 'poly'\n",
      " 'poly' 'poly' 'poly' 'linear' 'linear' 'linear' 'linear' 'rbf' 'rbf'\n",
      " 'rbf' 'rbf' 'poly' 'poly' 'poly' 'poly' 'linear' 'linear' 'linear'\n",
      " 'linear' 'rbf' 'rbf' 'rbf' 'rbf' 'poly' 'poly' 'poly' 'poly' 'linear'\n",
      " 'linear' 'linear' 'linear' 'rbf' 'rbf' 'rbf' 'rbf' 'poly' 'poly' 'poly'\n",
      " 'poly' 'linear' 'linear' 'linear' 'linear' 'rbf' 'rbf' 'rbf' 'rbf' 'poly'\n",
      " 'poly' 'poly' 'poly' 'linear' 'linear' 'linear' 'linear' 'rbf' 'rbf'\n",
      " 'rbf' 'rbf' 'poly' 'poly' 'poly' 'poly' 'linear' 'linear' 'linear'\n",
      " 'linear' 'rbf' 'rbf' 'rbf' 'rbf' 'poly' 'poly' 'poly' 'poly' 'linear'\n",
      " 'linear' 'linear' 'linear' 'rbf' 'rbf' 'rbf' 'rbf' 'poly' 'poly' 'poly'\n",
      " 'poly' 'linear' 'linear' 'linear' 'linear' 'rbf' 'rbf' 'rbf' 'rbf' 'poly'\n",
      " 'poly' 'poly' 'poly' 'linear' 'linear' 'linear' 'linear' 'rbf' 'rbf'\n",
      " 'rbf' 'rbf' 'poly' 'poly' 'poly' 'poly' 'linear' 'linear' 'linear'\n",
      " 'linear' 'rbf' 'rbf' 'rbf' 'rbf' 'poly' 'poly' 'poly' 'poly' 'linear'\n",
      " 'linear' 'linear' 'linear' 'rbf' 'rbf' 'rbf' 'rbf' 'poly' 'poly' 'poly'\n",
      " 'poly' 'linear' 'linear' 'linear' 'linear' 'rbf' 'rbf' 'rbf' 'rbf' 'poly'\n",
      " 'poly' 'poly' 'poly' 'linear' 'linear' 'linear' 'linear' 'rbf' 'rbf'\n",
      " 'rbf' 'rbf' 'poly' 'poly' 'poly' 'poly' 'linear' 'linear' 'linear'\n",
      " 'linear' 'rbf' 'rbf' 'rbf' 'rbf' 'poly' 'poly' 'poly' 'poly' 'linear'\n",
      " 'linear' 'linear' 'linear' 'rbf' 'rbf' 'rbf' 'rbf' 'poly' 'poly' 'poly'\n",
      " 'poly' 'linear' 'linear' 'linear' 'linear' 'rbf' 'rbf' 'rbf' 'rbf' 'poly'\n",
      " 'poly' 'poly' 'poly' 'linear' 'linear' 'linear' 'linear' 'rbf' 'rbf'\n",
      " 'rbf' 'rbf' 'poly' 'poly' 'poly' 'poly' 'linear' 'linear' 'linear'\n",
      " 'linear' 'rbf' 'rbf' 'rbf' 'rbf' 'poly' 'poly' 'poly' 'poly']\n",
      "param_max_iter\t[500 1000 10000 100000 500 1000 10000 100000 500 1000 10000 100000 500\n",
      " 1000 10000 100000 500 1000 10000 100000 500 1000 10000 100000 500 1000\n",
      " 10000 100000 500 1000 10000 100000 500 1000 10000 100000 500 1000 10000\n",
      " 100000 500 1000 10000 100000 500 1000 10000 100000 500 1000 10000 100000\n",
      " 500 1000 10000 100000 500 1000 10000 100000 500 1000 10000 100000 500\n",
      " 1000 10000 100000 500 1000 10000 100000 500 1000 10000 100000 500 1000\n",
      " 10000 100000 500 1000 10000 100000 500 1000 10000 100000 500 1000 10000\n",
      " 100000 500 1000 10000 100000 500 1000 10000 100000 500 1000 10000 100000\n",
      " 500 1000 10000 100000 500 1000 10000 100000 500 1000 10000 100000 500\n",
      " 1000 10000 100000 500 1000 10000 100000 500 1000 10000 100000 500 1000\n",
      " 10000 100000 500 1000 10000 100000 500 1000 10000 100000 500 1000 10000\n",
      " 100000 500 1000 10000 100000 500 1000 10000 100000 500 1000 10000 100000\n",
      " 500 1000 10000 100000 500 1000 10000 100000 500 1000 10000 100000 500\n",
      " 1000 10000 100000 500 1000 10000 100000 500 1000 10000 100000 500 1000\n",
      " 10000 100000 500 1000 10000 100000 500 1000 10000 100000 500 1000 10000\n",
      " 100000 500 1000 10000 100000 500 1000 10000 100000 500 1000 10000 100000\n",
      " 500 1000 10000 100000 500 1000 10000 100000 500 1000 10000 100000 500\n",
      " 1000 10000 100000 500 1000 10000 100000 500 1000 10000 100000 500 1000\n",
      " 10000 100000 500 1000 10000 100000 500 1000 10000 100000 500 1000 10000\n",
      " 100000 500 1000 10000 100000 500 1000 10000 100000 500 1000 10000 100000\n",
      " 500 1000 10000 100000 500 1000 10000 100000 500 1000 10000 100000 500\n",
      " 1000 10000 100000 500 1000 10000 100000 500 1000 10000 100000 500 1000\n",
      " 10000 100000 500 1000 10000 100000 500 1000 10000 100000 500 1000 10000\n",
      " 100000 500 1000 10000 100000 500 1000 10000 100000 500 1000 10000 100000\n",
      " 500 1000 10000 100000 500 1000 10000 100000 500 1000 10000 100000 500\n",
      " 1000 10000 100000 500 1000 10000 100000 500 1000 10000 100000 500 1000\n",
      " 10000 100000 500 1000 10000 100000 500 1000 10000 100000 500 1000 10000\n",
      " 100000 500 1000 10000 100000 500 1000 10000 100000 500 1000 10000 100000\n",
      " 500 1000 10000 100000 500 1000 10000 100000 500 1000 10000 100000 500\n",
      " 1000 10000 100000 500 1000 10000 100000 500 1000 10000 100000 500 1000\n",
      " 10000 100000 500 1000 10000 100000 500 1000 10000 100000 500 1000 10000\n",
      " 100000 500 1000 10000 100000 500 1000 10000 100000 500 1000 10000 100000\n",
      " 500 1000 10000 100000 500 1000 10000 100000 500 1000 10000 100000 500\n",
      " 1000 10000 100000 500 1000 10000 100000 500 1000 10000 100000 500 1000\n",
      " 10000 100000 500 1000 10000 100000 500 1000 10000 100000 500 1000 10000\n",
      " 100000 500 1000 10000 100000 500 1000 10000 100000 500 1000 10000 100000\n",
      " 500 1000 10000 100000 500 1000 10000 100000 500 1000 10000 100000 500\n",
      " 1000 10000 100000 500 1000 10000 100000 500 1000 10000 100000 500 1000\n",
      " 10000 100000 500 1000 10000 100000 500 1000 10000 100000 500 1000 10000\n",
      " 100000 500 1000 10000 100000 500 1000 10000 100000 500 1000 10000 100000\n",
      " 500 1000 10000 100000 500 1000 10000 100000 500 1000 10000 100000 500\n",
      " 1000 10000 100000 500 1000 10000 100000 500 1000 10000 100000 500 1000\n",
      " 10000 100000 500 1000 10000 100000 500 1000 10000 100000 500 1000 10000\n",
      " 100000 500 1000 10000 100000 500 1000 10000 100000 500 1000 10000 100000\n",
      " 500 1000 10000 100000]\n",
      "params\t[{'C': 0.001, 'coef0': 0.1, 'degree': 2, 'gamma': 'scale', 'kernel': 'linear', 'max_iter': 500}, {'C': 0.001, 'coef0': 0.1, 'degree': 2, 'gamma': 'scale', 'kernel': 'linear', 'max_iter': 1000}, {'C': 0.001, 'coef0': 0.1, 'degree': 2, 'gamma': 'scale', 'kernel': 'linear', 'max_iter': 10000}, {'C': 0.001, 'coef0': 0.1, 'degree': 2, 'gamma': 'scale', 'kernel': 'linear', 'max_iter': 100000}, {'C': 0.001, 'coef0': 0.1, 'degree': 2, 'gamma': 'scale', 'kernel': 'rbf', 'max_iter': 500}, {'C': 0.001, 'coef0': 0.1, 'degree': 2, 'gamma': 'scale', 'kernel': 'rbf', 'max_iter': 1000}, {'C': 0.001, 'coef0': 0.1, 'degree': 2, 'gamma': 'scale', 'kernel': 'rbf', 'max_iter': 10000}, {'C': 0.001, 'coef0': 0.1, 'degree': 2, 'gamma': 'scale', 'kernel': 'rbf', 'max_iter': 100000}, {'C': 0.001, 'coef0': 0.1, 'degree': 2, 'gamma': 'scale', 'kernel': 'poly', 'max_iter': 500}, {'C': 0.001, 'coef0': 0.1, 'degree': 2, 'gamma': 'scale', 'kernel': 'poly', 'max_iter': 1000}, {'C': 0.001, 'coef0': 0.1, 'degree': 2, 'gamma': 'scale', 'kernel': 'poly', 'max_iter': 10000}, {'C': 0.001, 'coef0': 0.1, 'degree': 2, 'gamma': 'scale', 'kernel': 'poly', 'max_iter': 100000}, {'C': 0.001, 'coef0': 0.1, 'degree': 3, 'gamma': 'scale', 'kernel': 'linear', 'max_iter': 500}, {'C': 0.001, 'coef0': 0.1, 'degree': 3, 'gamma': 'scale', 'kernel': 'linear', 'max_iter': 1000}, {'C': 0.001, 'coef0': 0.1, 'degree': 3, 'gamma': 'scale', 'kernel': 'linear', 'max_iter': 10000}, {'C': 0.001, 'coef0': 0.1, 'degree': 3, 'gamma': 'scale', 'kernel': 'linear', 'max_iter': 100000}, {'C': 0.001, 'coef0': 0.1, 'degree': 3, 'gamma': 'scale', 'kernel': 'rbf', 'max_iter': 500}, {'C': 0.001, 'coef0': 0.1, 'degree': 3, 'gamma': 'scale', 'kernel': 'rbf', 'max_iter': 1000}, {'C': 0.001, 'coef0': 0.1, 'degree': 3, 'gamma': 'scale', 'kernel': 'rbf', 'max_iter': 10000}, {'C': 0.001, 'coef0': 0.1, 'degree': 3, 'gamma': 'scale', 'kernel': 'rbf', 'max_iter': 100000}, {'C': 0.001, 'coef0': 0.1, 'degree': 3, 'gamma': 'scale', 'kernel': 'poly', 'max_iter': 500}, {'C': 0.001, 'coef0': 0.1, 'degree': 3, 'gamma': 'scale', 'kernel': 'poly', 'max_iter': 1000}, {'C': 0.001, 'coef0': 0.1, 'degree': 3, 'gamma': 'scale', 'kernel': 'poly', 'max_iter': 10000}, {'C': 0.001, 'coef0': 0.1, 'degree': 3, 'gamma': 'scale', 'kernel': 'poly', 'max_iter': 100000}, {'C': 0.001, 'coef0': 0.1, 'degree': 4, 'gamma': 'scale', 'kernel': 'linear', 'max_iter': 500}, {'C': 0.001, 'coef0': 0.1, 'degree': 4, 'gamma': 'scale', 'kernel': 'linear', 'max_iter': 1000}, {'C': 0.001, 'coef0': 0.1, 'degree': 4, 'gamma': 'scale', 'kernel': 'linear', 'max_iter': 10000}, {'C': 0.001, 'coef0': 0.1, 'degree': 4, 'gamma': 'scale', 'kernel': 'linear', 'max_iter': 100000}, {'C': 0.001, 'coef0': 0.1, 'degree': 4, 'gamma': 'scale', 'kernel': 'rbf', 'max_iter': 500}, {'C': 0.001, 'coef0': 0.1, 'degree': 4, 'gamma': 'scale', 'kernel': 'rbf', 'max_iter': 1000}, {'C': 0.001, 'coef0': 0.1, 'degree': 4, 'gamma': 'scale', 'kernel': 'rbf', 'max_iter': 10000}, {'C': 0.001, 'coef0': 0.1, 'degree': 4, 'gamma': 'scale', 'kernel': 'rbf', 'max_iter': 100000}, {'C': 0.001, 'coef0': 0.1, 'degree': 4, 'gamma': 'scale', 'kernel': 'poly', 'max_iter': 500}, {'C': 0.001, 'coef0': 0.1, 'degree': 4, 'gamma': 'scale', 'kernel': 'poly', 'max_iter': 1000}, {'C': 0.001, 'coef0': 0.1, 'degree': 4, 'gamma': 'scale', 'kernel': 'poly', 'max_iter': 10000}, {'C': 0.001, 'coef0': 0.1, 'degree': 4, 'gamma': 'scale', 'kernel': 'poly', 'max_iter': 100000}, {'C': 0.001, 'coef0': 0.1, 'degree': 5, 'gamma': 'scale', 'kernel': 'linear', 'max_iter': 500}, {'C': 0.001, 'coef0': 0.1, 'degree': 5, 'gamma': 'scale', 'kernel': 'linear', 'max_iter': 1000}, {'C': 0.001, 'coef0': 0.1, 'degree': 5, 'gamma': 'scale', 'kernel': 'linear', 'max_iter': 10000}, {'C': 0.001, 'coef0': 0.1, 'degree': 5, 'gamma': 'scale', 'kernel': 'linear', 'max_iter': 100000}, {'C': 0.001, 'coef0': 0.1, 'degree': 5, 'gamma': 'scale', 'kernel': 'rbf', 'max_iter': 500}, {'C': 0.001, 'coef0': 0.1, 'degree': 5, 'gamma': 'scale', 'kernel': 'rbf', 'max_iter': 1000}, {'C': 0.001, 'coef0': 0.1, 'degree': 5, 'gamma': 'scale', 'kernel': 'rbf', 'max_iter': 10000}, {'C': 0.001, 'coef0': 0.1, 'degree': 5, 'gamma': 'scale', 'kernel': 'rbf', 'max_iter': 100000}, {'C': 0.001, 'coef0': 0.1, 'degree': 5, 'gamma': 'scale', 'kernel': 'poly', 'max_iter': 500}, {'C': 0.001, 'coef0': 0.1, 'degree': 5, 'gamma': 'scale', 'kernel': 'poly', 'max_iter': 1000}, {'C': 0.001, 'coef0': 0.1, 'degree': 5, 'gamma': 'scale', 'kernel': 'poly', 'max_iter': 10000}, {'C': 0.001, 'coef0': 0.1, 'degree': 5, 'gamma': 'scale', 'kernel': 'poly', 'max_iter': 100000}, {'C': 0.001, 'coef0': 1, 'degree': 2, 'gamma': 'scale', 'kernel': 'linear', 'max_iter': 500}, {'C': 0.001, 'coef0': 1, 'degree': 2, 'gamma': 'scale', 'kernel': 'linear', 'max_iter': 1000}, {'C': 0.001, 'coef0': 1, 'degree': 2, 'gamma': 'scale', 'kernel': 'linear', 'max_iter': 10000}, {'C': 0.001, 'coef0': 1, 'degree': 2, 'gamma': 'scale', 'kernel': 'linear', 'max_iter': 100000}, {'C': 0.001, 'coef0': 1, 'degree': 2, 'gamma': 'scale', 'kernel': 'rbf', 'max_iter': 500}, {'C': 0.001, 'coef0': 1, 'degree': 2, 'gamma': 'scale', 'kernel': 'rbf', 'max_iter': 1000}, {'C': 0.001, 'coef0': 1, 'degree': 2, 'gamma': 'scale', 'kernel': 'rbf', 'max_iter': 10000}, {'C': 0.001, 'coef0': 1, 'degree': 2, 'gamma': 'scale', 'kernel': 'rbf', 'max_iter': 100000}, {'C': 0.001, 'coef0': 1, 'degree': 2, 'gamma': 'scale', 'kernel': 'poly', 'max_iter': 500}, {'C': 0.001, 'coef0': 1, 'degree': 2, 'gamma': 'scale', 'kernel': 'poly', 'max_iter': 1000}, {'C': 0.001, 'coef0': 1, 'degree': 2, 'gamma': 'scale', 'kernel': 'poly', 'max_iter': 10000}, {'C': 0.001, 'coef0': 1, 'degree': 2, 'gamma': 'scale', 'kernel': 'poly', 'max_iter': 100000}, {'C': 0.001, 'coef0': 1, 'degree': 3, 'gamma': 'scale', 'kernel': 'linear', 'max_iter': 500}, {'C': 0.001, 'coef0': 1, 'degree': 3, 'gamma': 'scale', 'kernel': 'linear', 'max_iter': 1000}, {'C': 0.001, 'coef0': 1, 'degree': 3, 'gamma': 'scale', 'kernel': 'linear', 'max_iter': 10000}, {'C': 0.001, 'coef0': 1, 'degree': 3, 'gamma': 'scale', 'kernel': 'linear', 'max_iter': 100000}, {'C': 0.001, 'coef0': 1, 'degree': 3, 'gamma': 'scale', 'kernel': 'rbf', 'max_iter': 500}, {'C': 0.001, 'coef0': 1, 'degree': 3, 'gamma': 'scale', 'kernel': 'rbf', 'max_iter': 1000}, {'C': 0.001, 'coef0': 1, 'degree': 3, 'gamma': 'scale', 'kernel': 'rbf', 'max_iter': 10000}, {'C': 0.001, 'coef0': 1, 'degree': 3, 'gamma': 'scale', 'kernel': 'rbf', 'max_iter': 100000}, {'C': 0.001, 'coef0': 1, 'degree': 3, 'gamma': 'scale', 'kernel': 'poly', 'max_iter': 500}, {'C': 0.001, 'coef0': 1, 'degree': 3, 'gamma': 'scale', 'kernel': 'poly', 'max_iter': 1000}, {'C': 0.001, 'coef0': 1, 'degree': 3, 'gamma': 'scale', 'kernel': 'poly', 'max_iter': 10000}, {'C': 0.001, 'coef0': 1, 'degree': 3, 'gamma': 'scale', 'kernel': 'poly', 'max_iter': 100000}, {'C': 0.001, 'coef0': 1, 'degree': 4, 'gamma': 'scale', 'kernel': 'linear', 'max_iter': 500}, {'C': 0.001, 'coef0': 1, 'degree': 4, 'gamma': 'scale', 'kernel': 'linear', 'max_iter': 1000}, {'C': 0.001, 'coef0': 1, 'degree': 4, 'gamma': 'scale', 'kernel': 'linear', 'max_iter': 10000}, {'C': 0.001, 'coef0': 1, 'degree': 4, 'gamma': 'scale', 'kernel': 'linear', 'max_iter': 100000}, {'C': 0.001, 'coef0': 1, 'degree': 4, 'gamma': 'scale', 'kernel': 'rbf', 'max_iter': 500}, {'C': 0.001, 'coef0': 1, 'degree': 4, 'gamma': 'scale', 'kernel': 'rbf', 'max_iter': 1000}, {'C': 0.001, 'coef0': 1, 'degree': 4, 'gamma': 'scale', 'kernel': 'rbf', 'max_iter': 10000}, {'C': 0.001, 'coef0': 1, 'degree': 4, 'gamma': 'scale', 'kernel': 'rbf', 'max_iter': 100000}, {'C': 0.001, 'coef0': 1, 'degree': 4, 'gamma': 'scale', 'kernel': 'poly', 'max_iter': 500}, {'C': 0.001, 'coef0': 1, 'degree': 4, 'gamma': 'scale', 'kernel': 'poly', 'max_iter': 1000}, {'C': 0.001, 'coef0': 1, 'degree': 4, 'gamma': 'scale', 'kernel': 'poly', 'max_iter': 10000}, {'C': 0.001, 'coef0': 1, 'degree': 4, 'gamma': 'scale', 'kernel': 'poly', 'max_iter': 100000}, {'C': 0.001, 'coef0': 1, 'degree': 5, 'gamma': 'scale', 'kernel': 'linear', 'max_iter': 500}, {'C': 0.001, 'coef0': 1, 'degree': 5, 'gamma': 'scale', 'kernel': 'linear', 'max_iter': 1000}, {'C': 0.001, 'coef0': 1, 'degree': 5, 'gamma': 'scale', 'kernel': 'linear', 'max_iter': 10000}, {'C': 0.001, 'coef0': 1, 'degree': 5, 'gamma': 'scale', 'kernel': 'linear', 'max_iter': 100000}, {'C': 0.001, 'coef0': 1, 'degree': 5, 'gamma': 'scale', 'kernel': 'rbf', 'max_iter': 500}, {'C': 0.001, 'coef0': 1, 'degree': 5, 'gamma': 'scale', 'kernel': 'rbf', 'max_iter': 1000}, {'C': 0.001, 'coef0': 1, 'degree': 5, 'gamma': 'scale', 'kernel': 'rbf', 'max_iter': 10000}, {'C': 0.001, 'coef0': 1, 'degree': 5, 'gamma': 'scale', 'kernel': 'rbf', 'max_iter': 100000}, {'C': 0.001, 'coef0': 1, 'degree': 5, 'gamma': 'scale', 'kernel': 'poly', 'max_iter': 500}, {'C': 0.001, 'coef0': 1, 'degree': 5, 'gamma': 'scale', 'kernel': 'poly', 'max_iter': 1000}, {'C': 0.001, 'coef0': 1, 'degree': 5, 'gamma': 'scale', 'kernel': 'poly', 'max_iter': 10000}, {'C': 0.001, 'coef0': 1, 'degree': 5, 'gamma': 'scale', 'kernel': 'poly', 'max_iter': 100000}, {'C': 0.001, 'coef0': 10, 'degree': 2, 'gamma': 'scale', 'kernel': 'linear', 'max_iter': 500}, {'C': 0.001, 'coef0': 10, 'degree': 2, 'gamma': 'scale', 'kernel': 'linear', 'max_iter': 1000}, {'C': 0.001, 'coef0': 10, 'degree': 2, 'gamma': 'scale', 'kernel': 'linear', 'max_iter': 10000}, {'C': 0.001, 'coef0': 10, 'degree': 2, 'gamma': 'scale', 'kernel': 'linear', 'max_iter': 100000}, {'C': 0.001, 'coef0': 10, 'degree': 2, 'gamma': 'scale', 'kernel': 'rbf', 'max_iter': 500}, {'C': 0.001, 'coef0': 10, 'degree': 2, 'gamma': 'scale', 'kernel': 'rbf', 'max_iter': 1000}, {'C': 0.001, 'coef0': 10, 'degree': 2, 'gamma': 'scale', 'kernel': 'rbf', 'max_iter': 10000}, {'C': 0.001, 'coef0': 10, 'degree': 2, 'gamma': 'scale', 'kernel': 'rbf', 'max_iter': 100000}, {'C': 0.001, 'coef0': 10, 'degree': 2, 'gamma': 'scale', 'kernel': 'poly', 'max_iter': 500}, {'C': 0.001, 'coef0': 10, 'degree': 2, 'gamma': 'scale', 'kernel': 'poly', 'max_iter': 1000}, {'C': 0.001, 'coef0': 10, 'degree': 2, 'gamma': 'scale', 'kernel': 'poly', 'max_iter': 10000}, {'C': 0.001, 'coef0': 10, 'degree': 2, 'gamma': 'scale', 'kernel': 'poly', 'max_iter': 100000}, {'C': 0.001, 'coef0': 10, 'degree': 3, 'gamma': 'scale', 'kernel': 'linear', 'max_iter': 500}, {'C': 0.001, 'coef0': 10, 'degree': 3, 'gamma': 'scale', 'kernel': 'linear', 'max_iter': 1000}, {'C': 0.001, 'coef0': 10, 'degree': 3, 'gamma': 'scale', 'kernel': 'linear', 'max_iter': 10000}, {'C': 0.001, 'coef0': 10, 'degree': 3, 'gamma': 'scale', 'kernel': 'linear', 'max_iter': 100000}, {'C': 0.001, 'coef0': 10, 'degree': 3, 'gamma': 'scale', 'kernel': 'rbf', 'max_iter': 500}, {'C': 0.001, 'coef0': 10, 'degree': 3, 'gamma': 'scale', 'kernel': 'rbf', 'max_iter': 1000}, {'C': 0.001, 'coef0': 10, 'degree': 3, 'gamma': 'scale', 'kernel': 'rbf', 'max_iter': 10000}, {'C': 0.001, 'coef0': 10, 'degree': 3, 'gamma': 'scale', 'kernel': 'rbf', 'max_iter': 100000}, {'C': 0.001, 'coef0': 10, 'degree': 3, 'gamma': 'scale', 'kernel': 'poly', 'max_iter': 500}, {'C': 0.001, 'coef0': 10, 'degree': 3, 'gamma': 'scale', 'kernel': 'poly', 'max_iter': 1000}, {'C': 0.001, 'coef0': 10, 'degree': 3, 'gamma': 'scale', 'kernel': 'poly', 'max_iter': 10000}, {'C': 0.001, 'coef0': 10, 'degree': 3, 'gamma': 'scale', 'kernel': 'poly', 'max_iter': 100000}, {'C': 0.001, 'coef0': 10, 'degree': 4, 'gamma': 'scale', 'kernel': 'linear', 'max_iter': 500}, {'C': 0.001, 'coef0': 10, 'degree': 4, 'gamma': 'scale', 'kernel': 'linear', 'max_iter': 1000}, {'C': 0.001, 'coef0': 10, 'degree': 4, 'gamma': 'scale', 'kernel': 'linear', 'max_iter': 10000}, {'C': 0.001, 'coef0': 10, 'degree': 4, 'gamma': 'scale', 'kernel': 'linear', 'max_iter': 100000}, {'C': 0.001, 'coef0': 10, 'degree': 4, 'gamma': 'scale', 'kernel': 'rbf', 'max_iter': 500}, {'C': 0.001, 'coef0': 10, 'degree': 4, 'gamma': 'scale', 'kernel': 'rbf', 'max_iter': 1000}, {'C': 0.001, 'coef0': 10, 'degree': 4, 'gamma': 'scale', 'kernel': 'rbf', 'max_iter': 10000}, {'C': 0.001, 'coef0': 10, 'degree': 4, 'gamma': 'scale', 'kernel': 'rbf', 'max_iter': 100000}, {'C': 0.001, 'coef0': 10, 'degree': 4, 'gamma': 'scale', 'kernel': 'poly', 'max_iter': 500}, {'C': 0.001, 'coef0': 10, 'degree': 4, 'gamma': 'scale', 'kernel': 'poly', 'max_iter': 1000}, {'C': 0.001, 'coef0': 10, 'degree': 4, 'gamma': 'scale', 'kernel': 'poly', 'max_iter': 10000}, {'C': 0.001, 'coef0': 10, 'degree': 4, 'gamma': 'scale', 'kernel': 'poly', 'max_iter': 100000}, {'C': 0.001, 'coef0': 10, 'degree': 5, 'gamma': 'scale', 'kernel': 'linear', 'max_iter': 500}, {'C': 0.001, 'coef0': 10, 'degree': 5, 'gamma': 'scale', 'kernel': 'linear', 'max_iter': 1000}, {'C': 0.001, 'coef0': 10, 'degree': 5, 'gamma': 'scale', 'kernel': 'linear', 'max_iter': 10000}, {'C': 0.001, 'coef0': 10, 'degree': 5, 'gamma': 'scale', 'kernel': 'linear', 'max_iter': 100000}, {'C': 0.001, 'coef0': 10, 'degree': 5, 'gamma': 'scale', 'kernel': 'rbf', 'max_iter': 500}, {'C': 0.001, 'coef0': 10, 'degree': 5, 'gamma': 'scale', 'kernel': 'rbf', 'max_iter': 1000}, {'C': 0.001, 'coef0': 10, 'degree': 5, 'gamma': 'scale', 'kernel': 'rbf', 'max_iter': 10000}, {'C': 0.001, 'coef0': 10, 'degree': 5, 'gamma': 'scale', 'kernel': 'rbf', 'max_iter': 100000}, {'C': 0.001, 'coef0': 10, 'degree': 5, 'gamma': 'scale', 'kernel': 'poly', 'max_iter': 500}, {'C': 0.001, 'coef0': 10, 'degree': 5, 'gamma': 'scale', 'kernel': 'poly', 'max_iter': 1000}, {'C': 0.001, 'coef0': 10, 'degree': 5, 'gamma': 'scale', 'kernel': 'poly', 'max_iter': 10000}, {'C': 0.001, 'coef0': 10, 'degree': 5, 'gamma': 'scale', 'kernel': 'poly', 'max_iter': 100000}, {'C': 0.01, 'coef0': 0.1, 'degree': 2, 'gamma': 'scale', 'kernel': 'linear', 'max_iter': 500}, {'C': 0.01, 'coef0': 0.1, 'degree': 2, 'gamma': 'scale', 'kernel': 'linear', 'max_iter': 1000}, {'C': 0.01, 'coef0': 0.1, 'degree': 2, 'gamma': 'scale', 'kernel': 'linear', 'max_iter': 10000}, {'C': 0.01, 'coef0': 0.1, 'degree': 2, 'gamma': 'scale', 'kernel': 'linear', 'max_iter': 100000}, {'C': 0.01, 'coef0': 0.1, 'degree': 2, 'gamma': 'scale', 'kernel': 'rbf', 'max_iter': 500}, {'C': 0.01, 'coef0': 0.1, 'degree': 2, 'gamma': 'scale', 'kernel': 'rbf', 'max_iter': 1000}, {'C': 0.01, 'coef0': 0.1, 'degree': 2, 'gamma': 'scale', 'kernel': 'rbf', 'max_iter': 10000}, {'C': 0.01, 'coef0': 0.1, 'degree': 2, 'gamma': 'scale', 'kernel': 'rbf', 'max_iter': 100000}, {'C': 0.01, 'coef0': 0.1, 'degree': 2, 'gamma': 'scale', 'kernel': 'poly', 'max_iter': 500}, {'C': 0.01, 'coef0': 0.1, 'degree': 2, 'gamma': 'scale', 'kernel': 'poly', 'max_iter': 1000}, {'C': 0.01, 'coef0': 0.1, 'degree': 2, 'gamma': 'scale', 'kernel': 'poly', 'max_iter': 10000}, {'C': 0.01, 'coef0': 0.1, 'degree': 2, 'gamma': 'scale', 'kernel': 'poly', 'max_iter': 100000}, {'C': 0.01, 'coef0': 0.1, 'degree': 3, 'gamma': 'scale', 'kernel': 'linear', 'max_iter': 500}, {'C': 0.01, 'coef0': 0.1, 'degree': 3, 'gamma': 'scale', 'kernel': 'linear', 'max_iter': 1000}, {'C': 0.01, 'coef0': 0.1, 'degree': 3, 'gamma': 'scale', 'kernel': 'linear', 'max_iter': 10000}, {'C': 0.01, 'coef0': 0.1, 'degree': 3, 'gamma': 'scale', 'kernel': 'linear', 'max_iter': 100000}, {'C': 0.01, 'coef0': 0.1, 'degree': 3, 'gamma': 'scale', 'kernel': 'rbf', 'max_iter': 500}, {'C': 0.01, 'coef0': 0.1, 'degree': 3, 'gamma': 'scale', 'kernel': 'rbf', 'max_iter': 1000}, {'C': 0.01, 'coef0': 0.1, 'degree': 3, 'gamma': 'scale', 'kernel': 'rbf', 'max_iter': 10000}, {'C': 0.01, 'coef0': 0.1, 'degree': 3, 'gamma': 'scale', 'kernel': 'rbf', 'max_iter': 100000}, {'C': 0.01, 'coef0': 0.1, 'degree': 3, 'gamma': 'scale', 'kernel': 'poly', 'max_iter': 500}, {'C': 0.01, 'coef0': 0.1, 'degree': 3, 'gamma': 'scale', 'kernel': 'poly', 'max_iter': 1000}, {'C': 0.01, 'coef0': 0.1, 'degree': 3, 'gamma': 'scale', 'kernel': 'poly', 'max_iter': 10000}, {'C': 0.01, 'coef0': 0.1, 'degree': 3, 'gamma': 'scale', 'kernel': 'poly', 'max_iter': 100000}, {'C': 0.01, 'coef0': 0.1, 'degree': 4, 'gamma': 'scale', 'kernel': 'linear', 'max_iter': 500}, {'C': 0.01, 'coef0': 0.1, 'degree': 4, 'gamma': 'scale', 'kernel': 'linear', 'max_iter': 1000}, {'C': 0.01, 'coef0': 0.1, 'degree': 4, 'gamma': 'scale', 'kernel': 'linear', 'max_iter': 10000}, {'C': 0.01, 'coef0': 0.1, 'degree': 4, 'gamma': 'scale', 'kernel': 'linear', 'max_iter': 100000}, {'C': 0.01, 'coef0': 0.1, 'degree': 4, 'gamma': 'scale', 'kernel': 'rbf', 'max_iter': 500}, {'C': 0.01, 'coef0': 0.1, 'degree': 4, 'gamma': 'scale', 'kernel': 'rbf', 'max_iter': 1000}, {'C': 0.01, 'coef0': 0.1, 'degree': 4, 'gamma': 'scale', 'kernel': 'rbf', 'max_iter': 10000}, {'C': 0.01, 'coef0': 0.1, 'degree': 4, 'gamma': 'scale', 'kernel': 'rbf', 'max_iter': 100000}, {'C': 0.01, 'coef0': 0.1, 'degree': 4, 'gamma': 'scale', 'kernel': 'poly', 'max_iter': 500}, {'C': 0.01, 'coef0': 0.1, 'degree': 4, 'gamma': 'scale', 'kernel': 'poly', 'max_iter': 1000}, {'C': 0.01, 'coef0': 0.1, 'degree': 4, 'gamma': 'scale', 'kernel': 'poly', 'max_iter': 10000}, {'C': 0.01, 'coef0': 0.1, 'degree': 4, 'gamma': 'scale', 'kernel': 'poly', 'max_iter': 100000}, {'C': 0.01, 'coef0': 0.1, 'degree': 5, 'gamma': 'scale', 'kernel': 'linear', 'max_iter': 500}, {'C': 0.01, 'coef0': 0.1, 'degree': 5, 'gamma': 'scale', 'kernel': 'linear', 'max_iter': 1000}, {'C': 0.01, 'coef0': 0.1, 'degree': 5, 'gamma': 'scale', 'kernel': 'linear', 'max_iter': 10000}, {'C': 0.01, 'coef0': 0.1, 'degree': 5, 'gamma': 'scale', 'kernel': 'linear', 'max_iter': 100000}, {'C': 0.01, 'coef0': 0.1, 'degree': 5, 'gamma': 'scale', 'kernel': 'rbf', 'max_iter': 500}, {'C': 0.01, 'coef0': 0.1, 'degree': 5, 'gamma': 'scale', 'kernel': 'rbf', 'max_iter': 1000}, {'C': 0.01, 'coef0': 0.1, 'degree': 5, 'gamma': 'scale', 'kernel': 'rbf', 'max_iter': 10000}, {'C': 0.01, 'coef0': 0.1, 'degree': 5, 'gamma': 'scale', 'kernel': 'rbf', 'max_iter': 100000}, {'C': 0.01, 'coef0': 0.1, 'degree': 5, 'gamma': 'scale', 'kernel': 'poly', 'max_iter': 500}, {'C': 0.01, 'coef0': 0.1, 'degree': 5, 'gamma': 'scale', 'kernel': 'poly', 'max_iter': 1000}, {'C': 0.01, 'coef0': 0.1, 'degree': 5, 'gamma': 'scale', 'kernel': 'poly', 'max_iter': 10000}, {'C': 0.01, 'coef0': 0.1, 'degree': 5, 'gamma': 'scale', 'kernel': 'poly', 'max_iter': 100000}, {'C': 0.01, 'coef0': 1, 'degree': 2, 'gamma': 'scale', 'kernel': 'linear', 'max_iter': 500}, {'C': 0.01, 'coef0': 1, 'degree': 2, 'gamma': 'scale', 'kernel': 'linear', 'max_iter': 1000}, {'C': 0.01, 'coef0': 1, 'degree': 2, 'gamma': 'scale', 'kernel': 'linear', 'max_iter': 10000}, {'C': 0.01, 'coef0': 1, 'degree': 2, 'gamma': 'scale', 'kernel': 'linear', 'max_iter': 100000}, {'C': 0.01, 'coef0': 1, 'degree': 2, 'gamma': 'scale', 'kernel': 'rbf', 'max_iter': 500}, {'C': 0.01, 'coef0': 1, 'degree': 2, 'gamma': 'scale', 'kernel': 'rbf', 'max_iter': 1000}, {'C': 0.01, 'coef0': 1, 'degree': 2, 'gamma': 'scale', 'kernel': 'rbf', 'max_iter': 10000}, {'C': 0.01, 'coef0': 1, 'degree': 2, 'gamma': 'scale', 'kernel': 'rbf', 'max_iter': 100000}, {'C': 0.01, 'coef0': 1, 'degree': 2, 'gamma': 'scale', 'kernel': 'poly', 'max_iter': 500}, {'C': 0.01, 'coef0': 1, 'degree': 2, 'gamma': 'scale', 'kernel': 'poly', 'max_iter': 1000}, {'C': 0.01, 'coef0': 1, 'degree': 2, 'gamma': 'scale', 'kernel': 'poly', 'max_iter': 10000}, {'C': 0.01, 'coef0': 1, 'degree': 2, 'gamma': 'scale', 'kernel': 'poly', 'max_iter': 100000}, {'C': 0.01, 'coef0': 1, 'degree': 3, 'gamma': 'scale', 'kernel': 'linear', 'max_iter': 500}, {'C': 0.01, 'coef0': 1, 'degree': 3, 'gamma': 'scale', 'kernel': 'linear', 'max_iter': 1000}, {'C': 0.01, 'coef0': 1, 'degree': 3, 'gamma': 'scale', 'kernel': 'linear', 'max_iter': 10000}, {'C': 0.01, 'coef0': 1, 'degree': 3, 'gamma': 'scale', 'kernel': 'linear', 'max_iter': 100000}, {'C': 0.01, 'coef0': 1, 'degree': 3, 'gamma': 'scale', 'kernel': 'rbf', 'max_iter': 500}, {'C': 0.01, 'coef0': 1, 'degree': 3, 'gamma': 'scale', 'kernel': 'rbf', 'max_iter': 1000}, {'C': 0.01, 'coef0': 1, 'degree': 3, 'gamma': 'scale', 'kernel': 'rbf', 'max_iter': 10000}, {'C': 0.01, 'coef0': 1, 'degree': 3, 'gamma': 'scale', 'kernel': 'rbf', 'max_iter': 100000}, {'C': 0.01, 'coef0': 1, 'degree': 3, 'gamma': 'scale', 'kernel': 'poly', 'max_iter': 500}, {'C': 0.01, 'coef0': 1, 'degree': 3, 'gamma': 'scale', 'kernel': 'poly', 'max_iter': 1000}, {'C': 0.01, 'coef0': 1, 'degree': 3, 'gamma': 'scale', 'kernel': 'poly', 'max_iter': 10000}, {'C': 0.01, 'coef0': 1, 'degree': 3, 'gamma': 'scale', 'kernel': 'poly', 'max_iter': 100000}, {'C': 0.01, 'coef0': 1, 'degree': 4, 'gamma': 'scale', 'kernel': 'linear', 'max_iter': 500}, {'C': 0.01, 'coef0': 1, 'degree': 4, 'gamma': 'scale', 'kernel': 'linear', 'max_iter': 1000}, {'C': 0.01, 'coef0': 1, 'degree': 4, 'gamma': 'scale', 'kernel': 'linear', 'max_iter': 10000}, {'C': 0.01, 'coef0': 1, 'degree': 4, 'gamma': 'scale', 'kernel': 'linear', 'max_iter': 100000}, {'C': 0.01, 'coef0': 1, 'degree': 4, 'gamma': 'scale', 'kernel': 'rbf', 'max_iter': 500}, {'C': 0.01, 'coef0': 1, 'degree': 4, 'gamma': 'scale', 'kernel': 'rbf', 'max_iter': 1000}, {'C': 0.01, 'coef0': 1, 'degree': 4, 'gamma': 'scale', 'kernel': 'rbf', 'max_iter': 10000}, {'C': 0.01, 'coef0': 1, 'degree': 4, 'gamma': 'scale', 'kernel': 'rbf', 'max_iter': 100000}, {'C': 0.01, 'coef0': 1, 'degree': 4, 'gamma': 'scale', 'kernel': 'poly', 'max_iter': 500}, {'C': 0.01, 'coef0': 1, 'degree': 4, 'gamma': 'scale', 'kernel': 'poly', 'max_iter': 1000}, {'C': 0.01, 'coef0': 1, 'degree': 4, 'gamma': 'scale', 'kernel': 'poly', 'max_iter': 10000}, {'C': 0.01, 'coef0': 1, 'degree': 4, 'gamma': 'scale', 'kernel': 'poly', 'max_iter': 100000}, {'C': 0.01, 'coef0': 1, 'degree': 5, 'gamma': 'scale', 'kernel': 'linear', 'max_iter': 500}, {'C': 0.01, 'coef0': 1, 'degree': 5, 'gamma': 'scale', 'kernel': 'linear', 'max_iter': 1000}, {'C': 0.01, 'coef0': 1, 'degree': 5, 'gamma': 'scale', 'kernel': 'linear', 'max_iter': 10000}, {'C': 0.01, 'coef0': 1, 'degree': 5, 'gamma': 'scale', 'kernel': 'linear', 'max_iter': 100000}, {'C': 0.01, 'coef0': 1, 'degree': 5, 'gamma': 'scale', 'kernel': 'rbf', 'max_iter': 500}, {'C': 0.01, 'coef0': 1, 'degree': 5, 'gamma': 'scale', 'kernel': 'rbf', 'max_iter': 1000}, {'C': 0.01, 'coef0': 1, 'degree': 5, 'gamma': 'scale', 'kernel': 'rbf', 'max_iter': 10000}, {'C': 0.01, 'coef0': 1, 'degree': 5, 'gamma': 'scale', 'kernel': 'rbf', 'max_iter': 100000}, {'C': 0.01, 'coef0': 1, 'degree': 5, 'gamma': 'scale', 'kernel': 'poly', 'max_iter': 500}, {'C': 0.01, 'coef0': 1, 'degree': 5, 'gamma': 'scale', 'kernel': 'poly', 'max_iter': 1000}, {'C': 0.01, 'coef0': 1, 'degree': 5, 'gamma': 'scale', 'kernel': 'poly', 'max_iter': 10000}, {'C': 0.01, 'coef0': 1, 'degree': 5, 'gamma': 'scale', 'kernel': 'poly', 'max_iter': 100000}, {'C': 0.01, 'coef0': 10, 'degree': 2, 'gamma': 'scale', 'kernel': 'linear', 'max_iter': 500}, {'C': 0.01, 'coef0': 10, 'degree': 2, 'gamma': 'scale', 'kernel': 'linear', 'max_iter': 1000}, {'C': 0.01, 'coef0': 10, 'degree': 2, 'gamma': 'scale', 'kernel': 'linear', 'max_iter': 10000}, {'C': 0.01, 'coef0': 10, 'degree': 2, 'gamma': 'scale', 'kernel': 'linear', 'max_iter': 100000}, {'C': 0.01, 'coef0': 10, 'degree': 2, 'gamma': 'scale', 'kernel': 'rbf', 'max_iter': 500}, {'C': 0.01, 'coef0': 10, 'degree': 2, 'gamma': 'scale', 'kernel': 'rbf', 'max_iter': 1000}, {'C': 0.01, 'coef0': 10, 'degree': 2, 'gamma': 'scale', 'kernel': 'rbf', 'max_iter': 10000}, {'C': 0.01, 'coef0': 10, 'degree': 2, 'gamma': 'scale', 'kernel': 'rbf', 'max_iter': 100000}, {'C': 0.01, 'coef0': 10, 'degree': 2, 'gamma': 'scale', 'kernel': 'poly', 'max_iter': 500}, {'C': 0.01, 'coef0': 10, 'degree': 2, 'gamma': 'scale', 'kernel': 'poly', 'max_iter': 1000}, {'C': 0.01, 'coef0': 10, 'degree': 2, 'gamma': 'scale', 'kernel': 'poly', 'max_iter': 10000}, {'C': 0.01, 'coef0': 10, 'degree': 2, 'gamma': 'scale', 'kernel': 'poly', 'max_iter': 100000}, {'C': 0.01, 'coef0': 10, 'degree': 3, 'gamma': 'scale', 'kernel': 'linear', 'max_iter': 500}, {'C': 0.01, 'coef0': 10, 'degree': 3, 'gamma': 'scale', 'kernel': 'linear', 'max_iter': 1000}, {'C': 0.01, 'coef0': 10, 'degree': 3, 'gamma': 'scale', 'kernel': 'linear', 'max_iter': 10000}, {'C': 0.01, 'coef0': 10, 'degree': 3, 'gamma': 'scale', 'kernel': 'linear', 'max_iter': 100000}, {'C': 0.01, 'coef0': 10, 'degree': 3, 'gamma': 'scale', 'kernel': 'rbf', 'max_iter': 500}, {'C': 0.01, 'coef0': 10, 'degree': 3, 'gamma': 'scale', 'kernel': 'rbf', 'max_iter': 1000}, {'C': 0.01, 'coef0': 10, 'degree': 3, 'gamma': 'scale', 'kernel': 'rbf', 'max_iter': 10000}, {'C': 0.01, 'coef0': 10, 'degree': 3, 'gamma': 'scale', 'kernel': 'rbf', 'max_iter': 100000}, {'C': 0.01, 'coef0': 10, 'degree': 3, 'gamma': 'scale', 'kernel': 'poly', 'max_iter': 500}, {'C': 0.01, 'coef0': 10, 'degree': 3, 'gamma': 'scale', 'kernel': 'poly', 'max_iter': 1000}, {'C': 0.01, 'coef0': 10, 'degree': 3, 'gamma': 'scale', 'kernel': 'poly', 'max_iter': 10000}, {'C': 0.01, 'coef0': 10, 'degree': 3, 'gamma': 'scale', 'kernel': 'poly', 'max_iter': 100000}, {'C': 0.01, 'coef0': 10, 'degree': 4, 'gamma': 'scale', 'kernel': 'linear', 'max_iter': 500}, {'C': 0.01, 'coef0': 10, 'degree': 4, 'gamma': 'scale', 'kernel': 'linear', 'max_iter': 1000}, {'C': 0.01, 'coef0': 10, 'degree': 4, 'gamma': 'scale', 'kernel': 'linear', 'max_iter': 10000}, {'C': 0.01, 'coef0': 10, 'degree': 4, 'gamma': 'scale', 'kernel': 'linear', 'max_iter': 100000}, {'C': 0.01, 'coef0': 10, 'degree': 4, 'gamma': 'scale', 'kernel': 'rbf', 'max_iter': 500}, {'C': 0.01, 'coef0': 10, 'degree': 4, 'gamma': 'scale', 'kernel': 'rbf', 'max_iter': 1000}, {'C': 0.01, 'coef0': 10, 'degree': 4, 'gamma': 'scale', 'kernel': 'rbf', 'max_iter': 10000}, {'C': 0.01, 'coef0': 10, 'degree': 4, 'gamma': 'scale', 'kernel': 'rbf', 'max_iter': 100000}, {'C': 0.01, 'coef0': 10, 'degree': 4, 'gamma': 'scale', 'kernel': 'poly', 'max_iter': 500}, {'C': 0.01, 'coef0': 10, 'degree': 4, 'gamma': 'scale', 'kernel': 'poly', 'max_iter': 1000}, {'C': 0.01, 'coef0': 10, 'degree': 4, 'gamma': 'scale', 'kernel': 'poly', 'max_iter': 10000}, {'C': 0.01, 'coef0': 10, 'degree': 4, 'gamma': 'scale', 'kernel': 'poly', 'max_iter': 100000}, {'C': 0.01, 'coef0': 10, 'degree': 5, 'gamma': 'scale', 'kernel': 'linear', 'max_iter': 500}, {'C': 0.01, 'coef0': 10, 'degree': 5, 'gamma': 'scale', 'kernel': 'linear', 'max_iter': 1000}, {'C': 0.01, 'coef0': 10, 'degree': 5, 'gamma': 'scale', 'kernel': 'linear', 'max_iter': 10000}, {'C': 0.01, 'coef0': 10, 'degree': 5, 'gamma': 'scale', 'kernel': 'linear', 'max_iter': 100000}, {'C': 0.01, 'coef0': 10, 'degree': 5, 'gamma': 'scale', 'kernel': 'rbf', 'max_iter': 500}, {'C': 0.01, 'coef0': 10, 'degree': 5, 'gamma': 'scale', 'kernel': 'rbf', 'max_iter': 1000}, {'C': 0.01, 'coef0': 10, 'degree': 5, 'gamma': 'scale', 'kernel': 'rbf', 'max_iter': 10000}, {'C': 0.01, 'coef0': 10, 'degree': 5, 'gamma': 'scale', 'kernel': 'rbf', 'max_iter': 100000}, {'C': 0.01, 'coef0': 10, 'degree': 5, 'gamma': 'scale', 'kernel': 'poly', 'max_iter': 500}, {'C': 0.01, 'coef0': 10, 'degree': 5, 'gamma': 'scale', 'kernel': 'poly', 'max_iter': 1000}, {'C': 0.01, 'coef0': 10, 'degree': 5, 'gamma': 'scale', 'kernel': 'poly', 'max_iter': 10000}, {'C': 0.01, 'coef0': 10, 'degree': 5, 'gamma': 'scale', 'kernel': 'poly', 'max_iter': 100000}, {'C': 0.1, 'coef0': 0.1, 'degree': 2, 'gamma': 'scale', 'kernel': 'linear', 'max_iter': 500}, {'C': 0.1, 'coef0': 0.1, 'degree': 2, 'gamma': 'scale', 'kernel': 'linear', 'max_iter': 1000}, {'C': 0.1, 'coef0': 0.1, 'degree': 2, 'gamma': 'scale', 'kernel': 'linear', 'max_iter': 10000}, {'C': 0.1, 'coef0': 0.1, 'degree': 2, 'gamma': 'scale', 'kernel': 'linear', 'max_iter': 100000}, {'C': 0.1, 'coef0': 0.1, 'degree': 2, 'gamma': 'scale', 'kernel': 'rbf', 'max_iter': 500}, {'C': 0.1, 'coef0': 0.1, 'degree': 2, 'gamma': 'scale', 'kernel': 'rbf', 'max_iter': 1000}, {'C': 0.1, 'coef0': 0.1, 'degree': 2, 'gamma': 'scale', 'kernel': 'rbf', 'max_iter': 10000}, {'C': 0.1, 'coef0': 0.1, 'degree': 2, 'gamma': 'scale', 'kernel': 'rbf', 'max_iter': 100000}, {'C': 0.1, 'coef0': 0.1, 'degree': 2, 'gamma': 'scale', 'kernel': 'poly', 'max_iter': 500}, {'C': 0.1, 'coef0': 0.1, 'degree': 2, 'gamma': 'scale', 'kernel': 'poly', 'max_iter': 1000}, {'C': 0.1, 'coef0': 0.1, 'degree': 2, 'gamma': 'scale', 'kernel': 'poly', 'max_iter': 10000}, {'C': 0.1, 'coef0': 0.1, 'degree': 2, 'gamma': 'scale', 'kernel': 'poly', 'max_iter': 100000}, {'C': 0.1, 'coef0': 0.1, 'degree': 3, 'gamma': 'scale', 'kernel': 'linear', 'max_iter': 500}, {'C': 0.1, 'coef0': 0.1, 'degree': 3, 'gamma': 'scale', 'kernel': 'linear', 'max_iter': 1000}, {'C': 0.1, 'coef0': 0.1, 'degree': 3, 'gamma': 'scale', 'kernel': 'linear', 'max_iter': 10000}, {'C': 0.1, 'coef0': 0.1, 'degree': 3, 'gamma': 'scale', 'kernel': 'linear', 'max_iter': 100000}, {'C': 0.1, 'coef0': 0.1, 'degree': 3, 'gamma': 'scale', 'kernel': 'rbf', 'max_iter': 500}, {'C': 0.1, 'coef0': 0.1, 'degree': 3, 'gamma': 'scale', 'kernel': 'rbf', 'max_iter': 1000}, {'C': 0.1, 'coef0': 0.1, 'degree': 3, 'gamma': 'scale', 'kernel': 'rbf', 'max_iter': 10000}, {'C': 0.1, 'coef0': 0.1, 'degree': 3, 'gamma': 'scale', 'kernel': 'rbf', 'max_iter': 100000}, {'C': 0.1, 'coef0': 0.1, 'degree': 3, 'gamma': 'scale', 'kernel': 'poly', 'max_iter': 500}, {'C': 0.1, 'coef0': 0.1, 'degree': 3, 'gamma': 'scale', 'kernel': 'poly', 'max_iter': 1000}, {'C': 0.1, 'coef0': 0.1, 'degree': 3, 'gamma': 'scale', 'kernel': 'poly', 'max_iter': 10000}, {'C': 0.1, 'coef0': 0.1, 'degree': 3, 'gamma': 'scale', 'kernel': 'poly', 'max_iter': 100000}, {'C': 0.1, 'coef0': 0.1, 'degree': 4, 'gamma': 'scale', 'kernel': 'linear', 'max_iter': 500}, {'C': 0.1, 'coef0': 0.1, 'degree': 4, 'gamma': 'scale', 'kernel': 'linear', 'max_iter': 1000}, {'C': 0.1, 'coef0': 0.1, 'degree': 4, 'gamma': 'scale', 'kernel': 'linear', 'max_iter': 10000}, {'C': 0.1, 'coef0': 0.1, 'degree': 4, 'gamma': 'scale', 'kernel': 'linear', 'max_iter': 100000}, {'C': 0.1, 'coef0': 0.1, 'degree': 4, 'gamma': 'scale', 'kernel': 'rbf', 'max_iter': 500}, {'C': 0.1, 'coef0': 0.1, 'degree': 4, 'gamma': 'scale', 'kernel': 'rbf', 'max_iter': 1000}, {'C': 0.1, 'coef0': 0.1, 'degree': 4, 'gamma': 'scale', 'kernel': 'rbf', 'max_iter': 10000}, {'C': 0.1, 'coef0': 0.1, 'degree': 4, 'gamma': 'scale', 'kernel': 'rbf', 'max_iter': 100000}, {'C': 0.1, 'coef0': 0.1, 'degree': 4, 'gamma': 'scale', 'kernel': 'poly', 'max_iter': 500}, {'C': 0.1, 'coef0': 0.1, 'degree': 4, 'gamma': 'scale', 'kernel': 'poly', 'max_iter': 1000}, {'C': 0.1, 'coef0': 0.1, 'degree': 4, 'gamma': 'scale', 'kernel': 'poly', 'max_iter': 10000}, {'C': 0.1, 'coef0': 0.1, 'degree': 4, 'gamma': 'scale', 'kernel': 'poly', 'max_iter': 100000}, {'C': 0.1, 'coef0': 0.1, 'degree': 5, 'gamma': 'scale', 'kernel': 'linear', 'max_iter': 500}, {'C': 0.1, 'coef0': 0.1, 'degree': 5, 'gamma': 'scale', 'kernel': 'linear', 'max_iter': 1000}, {'C': 0.1, 'coef0': 0.1, 'degree': 5, 'gamma': 'scale', 'kernel': 'linear', 'max_iter': 10000}, {'C': 0.1, 'coef0': 0.1, 'degree': 5, 'gamma': 'scale', 'kernel': 'linear', 'max_iter': 100000}, {'C': 0.1, 'coef0': 0.1, 'degree': 5, 'gamma': 'scale', 'kernel': 'rbf', 'max_iter': 500}, {'C': 0.1, 'coef0': 0.1, 'degree': 5, 'gamma': 'scale', 'kernel': 'rbf', 'max_iter': 1000}, {'C': 0.1, 'coef0': 0.1, 'degree': 5, 'gamma': 'scale', 'kernel': 'rbf', 'max_iter': 10000}, {'C': 0.1, 'coef0': 0.1, 'degree': 5, 'gamma': 'scale', 'kernel': 'rbf', 'max_iter': 100000}, {'C': 0.1, 'coef0': 0.1, 'degree': 5, 'gamma': 'scale', 'kernel': 'poly', 'max_iter': 500}, {'C': 0.1, 'coef0': 0.1, 'degree': 5, 'gamma': 'scale', 'kernel': 'poly', 'max_iter': 1000}, {'C': 0.1, 'coef0': 0.1, 'degree': 5, 'gamma': 'scale', 'kernel': 'poly', 'max_iter': 10000}, {'C': 0.1, 'coef0': 0.1, 'degree': 5, 'gamma': 'scale', 'kernel': 'poly', 'max_iter': 100000}, {'C': 0.1, 'coef0': 1, 'degree': 2, 'gamma': 'scale', 'kernel': 'linear', 'max_iter': 500}, {'C': 0.1, 'coef0': 1, 'degree': 2, 'gamma': 'scale', 'kernel': 'linear', 'max_iter': 1000}, {'C': 0.1, 'coef0': 1, 'degree': 2, 'gamma': 'scale', 'kernel': 'linear', 'max_iter': 10000}, {'C': 0.1, 'coef0': 1, 'degree': 2, 'gamma': 'scale', 'kernel': 'linear', 'max_iter': 100000}, {'C': 0.1, 'coef0': 1, 'degree': 2, 'gamma': 'scale', 'kernel': 'rbf', 'max_iter': 500}, {'C': 0.1, 'coef0': 1, 'degree': 2, 'gamma': 'scale', 'kernel': 'rbf', 'max_iter': 1000}, {'C': 0.1, 'coef0': 1, 'degree': 2, 'gamma': 'scale', 'kernel': 'rbf', 'max_iter': 10000}, {'C': 0.1, 'coef0': 1, 'degree': 2, 'gamma': 'scale', 'kernel': 'rbf', 'max_iter': 100000}, {'C': 0.1, 'coef0': 1, 'degree': 2, 'gamma': 'scale', 'kernel': 'poly', 'max_iter': 500}, {'C': 0.1, 'coef0': 1, 'degree': 2, 'gamma': 'scale', 'kernel': 'poly', 'max_iter': 1000}, {'C': 0.1, 'coef0': 1, 'degree': 2, 'gamma': 'scale', 'kernel': 'poly', 'max_iter': 10000}, {'C': 0.1, 'coef0': 1, 'degree': 2, 'gamma': 'scale', 'kernel': 'poly', 'max_iter': 100000}, {'C': 0.1, 'coef0': 1, 'degree': 3, 'gamma': 'scale', 'kernel': 'linear', 'max_iter': 500}, {'C': 0.1, 'coef0': 1, 'degree': 3, 'gamma': 'scale', 'kernel': 'linear', 'max_iter': 1000}, {'C': 0.1, 'coef0': 1, 'degree': 3, 'gamma': 'scale', 'kernel': 'linear', 'max_iter': 10000}, {'C': 0.1, 'coef0': 1, 'degree': 3, 'gamma': 'scale', 'kernel': 'linear', 'max_iter': 100000}, {'C': 0.1, 'coef0': 1, 'degree': 3, 'gamma': 'scale', 'kernel': 'rbf', 'max_iter': 500}, {'C': 0.1, 'coef0': 1, 'degree': 3, 'gamma': 'scale', 'kernel': 'rbf', 'max_iter': 1000}, {'C': 0.1, 'coef0': 1, 'degree': 3, 'gamma': 'scale', 'kernel': 'rbf', 'max_iter': 10000}, {'C': 0.1, 'coef0': 1, 'degree': 3, 'gamma': 'scale', 'kernel': 'rbf', 'max_iter': 100000}, {'C': 0.1, 'coef0': 1, 'degree': 3, 'gamma': 'scale', 'kernel': 'poly', 'max_iter': 500}, {'C': 0.1, 'coef0': 1, 'degree': 3, 'gamma': 'scale', 'kernel': 'poly', 'max_iter': 1000}, {'C': 0.1, 'coef0': 1, 'degree': 3, 'gamma': 'scale', 'kernel': 'poly', 'max_iter': 10000}, {'C': 0.1, 'coef0': 1, 'degree': 3, 'gamma': 'scale', 'kernel': 'poly', 'max_iter': 100000}, {'C': 0.1, 'coef0': 1, 'degree': 4, 'gamma': 'scale', 'kernel': 'linear', 'max_iter': 500}, {'C': 0.1, 'coef0': 1, 'degree': 4, 'gamma': 'scale', 'kernel': 'linear', 'max_iter': 1000}, {'C': 0.1, 'coef0': 1, 'degree': 4, 'gamma': 'scale', 'kernel': 'linear', 'max_iter': 10000}, {'C': 0.1, 'coef0': 1, 'degree': 4, 'gamma': 'scale', 'kernel': 'linear', 'max_iter': 100000}, {'C': 0.1, 'coef0': 1, 'degree': 4, 'gamma': 'scale', 'kernel': 'rbf', 'max_iter': 500}, {'C': 0.1, 'coef0': 1, 'degree': 4, 'gamma': 'scale', 'kernel': 'rbf', 'max_iter': 1000}, {'C': 0.1, 'coef0': 1, 'degree': 4, 'gamma': 'scale', 'kernel': 'rbf', 'max_iter': 10000}, {'C': 0.1, 'coef0': 1, 'degree': 4, 'gamma': 'scale', 'kernel': 'rbf', 'max_iter': 100000}, {'C': 0.1, 'coef0': 1, 'degree': 4, 'gamma': 'scale', 'kernel': 'poly', 'max_iter': 500}, {'C': 0.1, 'coef0': 1, 'degree': 4, 'gamma': 'scale', 'kernel': 'poly', 'max_iter': 1000}, {'C': 0.1, 'coef0': 1, 'degree': 4, 'gamma': 'scale', 'kernel': 'poly', 'max_iter': 10000}, {'C': 0.1, 'coef0': 1, 'degree': 4, 'gamma': 'scale', 'kernel': 'poly', 'max_iter': 100000}, {'C': 0.1, 'coef0': 1, 'degree': 5, 'gamma': 'scale', 'kernel': 'linear', 'max_iter': 500}, {'C': 0.1, 'coef0': 1, 'degree': 5, 'gamma': 'scale', 'kernel': 'linear', 'max_iter': 1000}, {'C': 0.1, 'coef0': 1, 'degree': 5, 'gamma': 'scale', 'kernel': 'linear', 'max_iter': 10000}, {'C': 0.1, 'coef0': 1, 'degree': 5, 'gamma': 'scale', 'kernel': 'linear', 'max_iter': 100000}, {'C': 0.1, 'coef0': 1, 'degree': 5, 'gamma': 'scale', 'kernel': 'rbf', 'max_iter': 500}, {'C': 0.1, 'coef0': 1, 'degree': 5, 'gamma': 'scale', 'kernel': 'rbf', 'max_iter': 1000}, {'C': 0.1, 'coef0': 1, 'degree': 5, 'gamma': 'scale', 'kernel': 'rbf', 'max_iter': 10000}, {'C': 0.1, 'coef0': 1, 'degree': 5, 'gamma': 'scale', 'kernel': 'rbf', 'max_iter': 100000}, {'C': 0.1, 'coef0': 1, 'degree': 5, 'gamma': 'scale', 'kernel': 'poly', 'max_iter': 500}, {'C': 0.1, 'coef0': 1, 'degree': 5, 'gamma': 'scale', 'kernel': 'poly', 'max_iter': 1000}, {'C': 0.1, 'coef0': 1, 'degree': 5, 'gamma': 'scale', 'kernel': 'poly', 'max_iter': 10000}, {'C': 0.1, 'coef0': 1, 'degree': 5, 'gamma': 'scale', 'kernel': 'poly', 'max_iter': 100000}, {'C': 0.1, 'coef0': 10, 'degree': 2, 'gamma': 'scale', 'kernel': 'linear', 'max_iter': 500}, {'C': 0.1, 'coef0': 10, 'degree': 2, 'gamma': 'scale', 'kernel': 'linear', 'max_iter': 1000}, {'C': 0.1, 'coef0': 10, 'degree': 2, 'gamma': 'scale', 'kernel': 'linear', 'max_iter': 10000}, {'C': 0.1, 'coef0': 10, 'degree': 2, 'gamma': 'scale', 'kernel': 'linear', 'max_iter': 100000}, {'C': 0.1, 'coef0': 10, 'degree': 2, 'gamma': 'scale', 'kernel': 'rbf', 'max_iter': 500}, {'C': 0.1, 'coef0': 10, 'degree': 2, 'gamma': 'scale', 'kernel': 'rbf', 'max_iter': 1000}, {'C': 0.1, 'coef0': 10, 'degree': 2, 'gamma': 'scale', 'kernel': 'rbf', 'max_iter': 10000}, {'C': 0.1, 'coef0': 10, 'degree': 2, 'gamma': 'scale', 'kernel': 'rbf', 'max_iter': 100000}, {'C': 0.1, 'coef0': 10, 'degree': 2, 'gamma': 'scale', 'kernel': 'poly', 'max_iter': 500}, {'C': 0.1, 'coef0': 10, 'degree': 2, 'gamma': 'scale', 'kernel': 'poly', 'max_iter': 1000}, {'C': 0.1, 'coef0': 10, 'degree': 2, 'gamma': 'scale', 'kernel': 'poly', 'max_iter': 10000}, {'C': 0.1, 'coef0': 10, 'degree': 2, 'gamma': 'scale', 'kernel': 'poly', 'max_iter': 100000}, {'C': 0.1, 'coef0': 10, 'degree': 3, 'gamma': 'scale', 'kernel': 'linear', 'max_iter': 500}, {'C': 0.1, 'coef0': 10, 'degree': 3, 'gamma': 'scale', 'kernel': 'linear', 'max_iter': 1000}, {'C': 0.1, 'coef0': 10, 'degree': 3, 'gamma': 'scale', 'kernel': 'linear', 'max_iter': 10000}, {'C': 0.1, 'coef0': 10, 'degree': 3, 'gamma': 'scale', 'kernel': 'linear', 'max_iter': 100000}, {'C': 0.1, 'coef0': 10, 'degree': 3, 'gamma': 'scale', 'kernel': 'rbf', 'max_iter': 500}, {'C': 0.1, 'coef0': 10, 'degree': 3, 'gamma': 'scale', 'kernel': 'rbf', 'max_iter': 1000}, {'C': 0.1, 'coef0': 10, 'degree': 3, 'gamma': 'scale', 'kernel': 'rbf', 'max_iter': 10000}, {'C': 0.1, 'coef0': 10, 'degree': 3, 'gamma': 'scale', 'kernel': 'rbf', 'max_iter': 100000}, {'C': 0.1, 'coef0': 10, 'degree': 3, 'gamma': 'scale', 'kernel': 'poly', 'max_iter': 500}, {'C': 0.1, 'coef0': 10, 'degree': 3, 'gamma': 'scale', 'kernel': 'poly', 'max_iter': 1000}, {'C': 0.1, 'coef0': 10, 'degree': 3, 'gamma': 'scale', 'kernel': 'poly', 'max_iter': 10000}, {'C': 0.1, 'coef0': 10, 'degree': 3, 'gamma': 'scale', 'kernel': 'poly', 'max_iter': 100000}, {'C': 0.1, 'coef0': 10, 'degree': 4, 'gamma': 'scale', 'kernel': 'linear', 'max_iter': 500}, {'C': 0.1, 'coef0': 10, 'degree': 4, 'gamma': 'scale', 'kernel': 'linear', 'max_iter': 1000}, {'C': 0.1, 'coef0': 10, 'degree': 4, 'gamma': 'scale', 'kernel': 'linear', 'max_iter': 10000}, {'C': 0.1, 'coef0': 10, 'degree': 4, 'gamma': 'scale', 'kernel': 'linear', 'max_iter': 100000}, {'C': 0.1, 'coef0': 10, 'degree': 4, 'gamma': 'scale', 'kernel': 'rbf', 'max_iter': 500}, {'C': 0.1, 'coef0': 10, 'degree': 4, 'gamma': 'scale', 'kernel': 'rbf', 'max_iter': 1000}, {'C': 0.1, 'coef0': 10, 'degree': 4, 'gamma': 'scale', 'kernel': 'rbf', 'max_iter': 10000}, {'C': 0.1, 'coef0': 10, 'degree': 4, 'gamma': 'scale', 'kernel': 'rbf', 'max_iter': 100000}, {'C': 0.1, 'coef0': 10, 'degree': 4, 'gamma': 'scale', 'kernel': 'poly', 'max_iter': 500}, {'C': 0.1, 'coef0': 10, 'degree': 4, 'gamma': 'scale', 'kernel': 'poly', 'max_iter': 1000}, {'C': 0.1, 'coef0': 10, 'degree': 4, 'gamma': 'scale', 'kernel': 'poly', 'max_iter': 10000}, {'C': 0.1, 'coef0': 10, 'degree': 4, 'gamma': 'scale', 'kernel': 'poly', 'max_iter': 100000}, {'C': 0.1, 'coef0': 10, 'degree': 5, 'gamma': 'scale', 'kernel': 'linear', 'max_iter': 500}, {'C': 0.1, 'coef0': 10, 'degree': 5, 'gamma': 'scale', 'kernel': 'linear', 'max_iter': 1000}, {'C': 0.1, 'coef0': 10, 'degree': 5, 'gamma': 'scale', 'kernel': 'linear', 'max_iter': 10000}, {'C': 0.1, 'coef0': 10, 'degree': 5, 'gamma': 'scale', 'kernel': 'linear', 'max_iter': 100000}, {'C': 0.1, 'coef0': 10, 'degree': 5, 'gamma': 'scale', 'kernel': 'rbf', 'max_iter': 500}, {'C': 0.1, 'coef0': 10, 'degree': 5, 'gamma': 'scale', 'kernel': 'rbf', 'max_iter': 1000}, {'C': 0.1, 'coef0': 10, 'degree': 5, 'gamma': 'scale', 'kernel': 'rbf', 'max_iter': 10000}, {'C': 0.1, 'coef0': 10, 'degree': 5, 'gamma': 'scale', 'kernel': 'rbf', 'max_iter': 100000}, {'C': 0.1, 'coef0': 10, 'degree': 5, 'gamma': 'scale', 'kernel': 'poly', 'max_iter': 500}, {'C': 0.1, 'coef0': 10, 'degree': 5, 'gamma': 'scale', 'kernel': 'poly', 'max_iter': 1000}, {'C': 0.1, 'coef0': 10, 'degree': 5, 'gamma': 'scale', 'kernel': 'poly', 'max_iter': 10000}, {'C': 0.1, 'coef0': 10, 'degree': 5, 'gamma': 'scale', 'kernel': 'poly', 'max_iter': 100000}, {'C': 10, 'coef0': 0.1, 'degree': 2, 'gamma': 'scale', 'kernel': 'linear', 'max_iter': 500}, {'C': 10, 'coef0': 0.1, 'degree': 2, 'gamma': 'scale', 'kernel': 'linear', 'max_iter': 1000}, {'C': 10, 'coef0': 0.1, 'degree': 2, 'gamma': 'scale', 'kernel': 'linear', 'max_iter': 10000}, {'C': 10, 'coef0': 0.1, 'degree': 2, 'gamma': 'scale', 'kernel': 'linear', 'max_iter': 100000}, {'C': 10, 'coef0': 0.1, 'degree': 2, 'gamma': 'scale', 'kernel': 'rbf', 'max_iter': 500}, {'C': 10, 'coef0': 0.1, 'degree': 2, 'gamma': 'scale', 'kernel': 'rbf', 'max_iter': 1000}, {'C': 10, 'coef0': 0.1, 'degree': 2, 'gamma': 'scale', 'kernel': 'rbf', 'max_iter': 10000}, {'C': 10, 'coef0': 0.1, 'degree': 2, 'gamma': 'scale', 'kernel': 'rbf', 'max_iter': 100000}, {'C': 10, 'coef0': 0.1, 'degree': 2, 'gamma': 'scale', 'kernel': 'poly', 'max_iter': 500}, {'C': 10, 'coef0': 0.1, 'degree': 2, 'gamma': 'scale', 'kernel': 'poly', 'max_iter': 1000}, {'C': 10, 'coef0': 0.1, 'degree': 2, 'gamma': 'scale', 'kernel': 'poly', 'max_iter': 10000}, {'C': 10, 'coef0': 0.1, 'degree': 2, 'gamma': 'scale', 'kernel': 'poly', 'max_iter': 100000}, {'C': 10, 'coef0': 0.1, 'degree': 3, 'gamma': 'scale', 'kernel': 'linear', 'max_iter': 500}, {'C': 10, 'coef0': 0.1, 'degree': 3, 'gamma': 'scale', 'kernel': 'linear', 'max_iter': 1000}, {'C': 10, 'coef0': 0.1, 'degree': 3, 'gamma': 'scale', 'kernel': 'linear', 'max_iter': 10000}, {'C': 10, 'coef0': 0.1, 'degree': 3, 'gamma': 'scale', 'kernel': 'linear', 'max_iter': 100000}, {'C': 10, 'coef0': 0.1, 'degree': 3, 'gamma': 'scale', 'kernel': 'rbf', 'max_iter': 500}, {'C': 10, 'coef0': 0.1, 'degree': 3, 'gamma': 'scale', 'kernel': 'rbf', 'max_iter': 1000}, {'C': 10, 'coef0': 0.1, 'degree': 3, 'gamma': 'scale', 'kernel': 'rbf', 'max_iter': 10000}, {'C': 10, 'coef0': 0.1, 'degree': 3, 'gamma': 'scale', 'kernel': 'rbf', 'max_iter': 100000}, {'C': 10, 'coef0': 0.1, 'degree': 3, 'gamma': 'scale', 'kernel': 'poly', 'max_iter': 500}, {'C': 10, 'coef0': 0.1, 'degree': 3, 'gamma': 'scale', 'kernel': 'poly', 'max_iter': 1000}, {'C': 10, 'coef0': 0.1, 'degree': 3, 'gamma': 'scale', 'kernel': 'poly', 'max_iter': 10000}, {'C': 10, 'coef0': 0.1, 'degree': 3, 'gamma': 'scale', 'kernel': 'poly', 'max_iter': 100000}, {'C': 10, 'coef0': 0.1, 'degree': 4, 'gamma': 'scale', 'kernel': 'linear', 'max_iter': 500}, {'C': 10, 'coef0': 0.1, 'degree': 4, 'gamma': 'scale', 'kernel': 'linear', 'max_iter': 1000}, {'C': 10, 'coef0': 0.1, 'degree': 4, 'gamma': 'scale', 'kernel': 'linear', 'max_iter': 10000}, {'C': 10, 'coef0': 0.1, 'degree': 4, 'gamma': 'scale', 'kernel': 'linear', 'max_iter': 100000}, {'C': 10, 'coef0': 0.1, 'degree': 4, 'gamma': 'scale', 'kernel': 'rbf', 'max_iter': 500}, {'C': 10, 'coef0': 0.1, 'degree': 4, 'gamma': 'scale', 'kernel': 'rbf', 'max_iter': 1000}, {'C': 10, 'coef0': 0.1, 'degree': 4, 'gamma': 'scale', 'kernel': 'rbf', 'max_iter': 10000}, {'C': 10, 'coef0': 0.1, 'degree': 4, 'gamma': 'scale', 'kernel': 'rbf', 'max_iter': 100000}, {'C': 10, 'coef0': 0.1, 'degree': 4, 'gamma': 'scale', 'kernel': 'poly', 'max_iter': 500}, {'C': 10, 'coef0': 0.1, 'degree': 4, 'gamma': 'scale', 'kernel': 'poly', 'max_iter': 1000}, {'C': 10, 'coef0': 0.1, 'degree': 4, 'gamma': 'scale', 'kernel': 'poly', 'max_iter': 10000}, {'C': 10, 'coef0': 0.1, 'degree': 4, 'gamma': 'scale', 'kernel': 'poly', 'max_iter': 100000}, {'C': 10, 'coef0': 0.1, 'degree': 5, 'gamma': 'scale', 'kernel': 'linear', 'max_iter': 500}, {'C': 10, 'coef0': 0.1, 'degree': 5, 'gamma': 'scale', 'kernel': 'linear', 'max_iter': 1000}, {'C': 10, 'coef0': 0.1, 'degree': 5, 'gamma': 'scale', 'kernel': 'linear', 'max_iter': 10000}, {'C': 10, 'coef0': 0.1, 'degree': 5, 'gamma': 'scale', 'kernel': 'linear', 'max_iter': 100000}, {'C': 10, 'coef0': 0.1, 'degree': 5, 'gamma': 'scale', 'kernel': 'rbf', 'max_iter': 500}, {'C': 10, 'coef0': 0.1, 'degree': 5, 'gamma': 'scale', 'kernel': 'rbf', 'max_iter': 1000}, {'C': 10, 'coef0': 0.1, 'degree': 5, 'gamma': 'scale', 'kernel': 'rbf', 'max_iter': 10000}, {'C': 10, 'coef0': 0.1, 'degree': 5, 'gamma': 'scale', 'kernel': 'rbf', 'max_iter': 100000}, {'C': 10, 'coef0': 0.1, 'degree': 5, 'gamma': 'scale', 'kernel': 'poly', 'max_iter': 500}, {'C': 10, 'coef0': 0.1, 'degree': 5, 'gamma': 'scale', 'kernel': 'poly', 'max_iter': 1000}, {'C': 10, 'coef0': 0.1, 'degree': 5, 'gamma': 'scale', 'kernel': 'poly', 'max_iter': 10000}, {'C': 10, 'coef0': 0.1, 'degree': 5, 'gamma': 'scale', 'kernel': 'poly', 'max_iter': 100000}, {'C': 10, 'coef0': 1, 'degree': 2, 'gamma': 'scale', 'kernel': 'linear', 'max_iter': 500}, {'C': 10, 'coef0': 1, 'degree': 2, 'gamma': 'scale', 'kernel': 'linear', 'max_iter': 1000}, {'C': 10, 'coef0': 1, 'degree': 2, 'gamma': 'scale', 'kernel': 'linear', 'max_iter': 10000}, {'C': 10, 'coef0': 1, 'degree': 2, 'gamma': 'scale', 'kernel': 'linear', 'max_iter': 100000}, {'C': 10, 'coef0': 1, 'degree': 2, 'gamma': 'scale', 'kernel': 'rbf', 'max_iter': 500}, {'C': 10, 'coef0': 1, 'degree': 2, 'gamma': 'scale', 'kernel': 'rbf', 'max_iter': 1000}, {'C': 10, 'coef0': 1, 'degree': 2, 'gamma': 'scale', 'kernel': 'rbf', 'max_iter': 10000}, {'C': 10, 'coef0': 1, 'degree': 2, 'gamma': 'scale', 'kernel': 'rbf', 'max_iter': 100000}, {'C': 10, 'coef0': 1, 'degree': 2, 'gamma': 'scale', 'kernel': 'poly', 'max_iter': 500}, {'C': 10, 'coef0': 1, 'degree': 2, 'gamma': 'scale', 'kernel': 'poly', 'max_iter': 1000}, {'C': 10, 'coef0': 1, 'degree': 2, 'gamma': 'scale', 'kernel': 'poly', 'max_iter': 10000}, {'C': 10, 'coef0': 1, 'degree': 2, 'gamma': 'scale', 'kernel': 'poly', 'max_iter': 100000}, {'C': 10, 'coef0': 1, 'degree': 3, 'gamma': 'scale', 'kernel': 'linear', 'max_iter': 500}, {'C': 10, 'coef0': 1, 'degree': 3, 'gamma': 'scale', 'kernel': 'linear', 'max_iter': 1000}, {'C': 10, 'coef0': 1, 'degree': 3, 'gamma': 'scale', 'kernel': 'linear', 'max_iter': 10000}, {'C': 10, 'coef0': 1, 'degree': 3, 'gamma': 'scale', 'kernel': 'linear', 'max_iter': 100000}, {'C': 10, 'coef0': 1, 'degree': 3, 'gamma': 'scale', 'kernel': 'rbf', 'max_iter': 500}, {'C': 10, 'coef0': 1, 'degree': 3, 'gamma': 'scale', 'kernel': 'rbf', 'max_iter': 1000}, {'C': 10, 'coef0': 1, 'degree': 3, 'gamma': 'scale', 'kernel': 'rbf', 'max_iter': 10000}, {'C': 10, 'coef0': 1, 'degree': 3, 'gamma': 'scale', 'kernel': 'rbf', 'max_iter': 100000}, {'C': 10, 'coef0': 1, 'degree': 3, 'gamma': 'scale', 'kernel': 'poly', 'max_iter': 500}, {'C': 10, 'coef0': 1, 'degree': 3, 'gamma': 'scale', 'kernel': 'poly', 'max_iter': 1000}, {'C': 10, 'coef0': 1, 'degree': 3, 'gamma': 'scale', 'kernel': 'poly', 'max_iter': 10000}, {'C': 10, 'coef0': 1, 'degree': 3, 'gamma': 'scale', 'kernel': 'poly', 'max_iter': 100000}, {'C': 10, 'coef0': 1, 'degree': 4, 'gamma': 'scale', 'kernel': 'linear', 'max_iter': 500}, {'C': 10, 'coef0': 1, 'degree': 4, 'gamma': 'scale', 'kernel': 'linear', 'max_iter': 1000}, {'C': 10, 'coef0': 1, 'degree': 4, 'gamma': 'scale', 'kernel': 'linear', 'max_iter': 10000}, {'C': 10, 'coef0': 1, 'degree': 4, 'gamma': 'scale', 'kernel': 'linear', 'max_iter': 100000}, {'C': 10, 'coef0': 1, 'degree': 4, 'gamma': 'scale', 'kernel': 'rbf', 'max_iter': 500}, {'C': 10, 'coef0': 1, 'degree': 4, 'gamma': 'scale', 'kernel': 'rbf', 'max_iter': 1000}, {'C': 10, 'coef0': 1, 'degree': 4, 'gamma': 'scale', 'kernel': 'rbf', 'max_iter': 10000}, {'C': 10, 'coef0': 1, 'degree': 4, 'gamma': 'scale', 'kernel': 'rbf', 'max_iter': 100000}, {'C': 10, 'coef0': 1, 'degree': 4, 'gamma': 'scale', 'kernel': 'poly', 'max_iter': 500}, {'C': 10, 'coef0': 1, 'degree': 4, 'gamma': 'scale', 'kernel': 'poly', 'max_iter': 1000}, {'C': 10, 'coef0': 1, 'degree': 4, 'gamma': 'scale', 'kernel': 'poly', 'max_iter': 10000}, {'C': 10, 'coef0': 1, 'degree': 4, 'gamma': 'scale', 'kernel': 'poly', 'max_iter': 100000}, {'C': 10, 'coef0': 1, 'degree': 5, 'gamma': 'scale', 'kernel': 'linear', 'max_iter': 500}, {'C': 10, 'coef0': 1, 'degree': 5, 'gamma': 'scale', 'kernel': 'linear', 'max_iter': 1000}, {'C': 10, 'coef0': 1, 'degree': 5, 'gamma': 'scale', 'kernel': 'linear', 'max_iter': 10000}, {'C': 10, 'coef0': 1, 'degree': 5, 'gamma': 'scale', 'kernel': 'linear', 'max_iter': 100000}, {'C': 10, 'coef0': 1, 'degree': 5, 'gamma': 'scale', 'kernel': 'rbf', 'max_iter': 500}, {'C': 10, 'coef0': 1, 'degree': 5, 'gamma': 'scale', 'kernel': 'rbf', 'max_iter': 1000}, {'C': 10, 'coef0': 1, 'degree': 5, 'gamma': 'scale', 'kernel': 'rbf', 'max_iter': 10000}, {'C': 10, 'coef0': 1, 'degree': 5, 'gamma': 'scale', 'kernel': 'rbf', 'max_iter': 100000}, {'C': 10, 'coef0': 1, 'degree': 5, 'gamma': 'scale', 'kernel': 'poly', 'max_iter': 500}, {'C': 10, 'coef0': 1, 'degree': 5, 'gamma': 'scale', 'kernel': 'poly', 'max_iter': 1000}, {'C': 10, 'coef0': 1, 'degree': 5, 'gamma': 'scale', 'kernel': 'poly', 'max_iter': 10000}, {'C': 10, 'coef0': 1, 'degree': 5, 'gamma': 'scale', 'kernel': 'poly', 'max_iter': 100000}, {'C': 10, 'coef0': 10, 'degree': 2, 'gamma': 'scale', 'kernel': 'linear', 'max_iter': 500}, {'C': 10, 'coef0': 10, 'degree': 2, 'gamma': 'scale', 'kernel': 'linear', 'max_iter': 1000}, {'C': 10, 'coef0': 10, 'degree': 2, 'gamma': 'scale', 'kernel': 'linear', 'max_iter': 10000}, {'C': 10, 'coef0': 10, 'degree': 2, 'gamma': 'scale', 'kernel': 'linear', 'max_iter': 100000}, {'C': 10, 'coef0': 10, 'degree': 2, 'gamma': 'scale', 'kernel': 'rbf', 'max_iter': 500}, {'C': 10, 'coef0': 10, 'degree': 2, 'gamma': 'scale', 'kernel': 'rbf', 'max_iter': 1000}, {'C': 10, 'coef0': 10, 'degree': 2, 'gamma': 'scale', 'kernel': 'rbf', 'max_iter': 10000}, {'C': 10, 'coef0': 10, 'degree': 2, 'gamma': 'scale', 'kernel': 'rbf', 'max_iter': 100000}, {'C': 10, 'coef0': 10, 'degree': 2, 'gamma': 'scale', 'kernel': 'poly', 'max_iter': 500}, {'C': 10, 'coef0': 10, 'degree': 2, 'gamma': 'scale', 'kernel': 'poly', 'max_iter': 1000}, {'C': 10, 'coef0': 10, 'degree': 2, 'gamma': 'scale', 'kernel': 'poly', 'max_iter': 10000}, {'C': 10, 'coef0': 10, 'degree': 2, 'gamma': 'scale', 'kernel': 'poly', 'max_iter': 100000}, {'C': 10, 'coef0': 10, 'degree': 3, 'gamma': 'scale', 'kernel': 'linear', 'max_iter': 500}, {'C': 10, 'coef0': 10, 'degree': 3, 'gamma': 'scale', 'kernel': 'linear', 'max_iter': 1000}, {'C': 10, 'coef0': 10, 'degree': 3, 'gamma': 'scale', 'kernel': 'linear', 'max_iter': 10000}, {'C': 10, 'coef0': 10, 'degree': 3, 'gamma': 'scale', 'kernel': 'linear', 'max_iter': 100000}, {'C': 10, 'coef0': 10, 'degree': 3, 'gamma': 'scale', 'kernel': 'rbf', 'max_iter': 500}, {'C': 10, 'coef0': 10, 'degree': 3, 'gamma': 'scale', 'kernel': 'rbf', 'max_iter': 1000}, {'C': 10, 'coef0': 10, 'degree': 3, 'gamma': 'scale', 'kernel': 'rbf', 'max_iter': 10000}, {'C': 10, 'coef0': 10, 'degree': 3, 'gamma': 'scale', 'kernel': 'rbf', 'max_iter': 100000}, {'C': 10, 'coef0': 10, 'degree': 3, 'gamma': 'scale', 'kernel': 'poly', 'max_iter': 500}, {'C': 10, 'coef0': 10, 'degree': 3, 'gamma': 'scale', 'kernel': 'poly', 'max_iter': 1000}, {'C': 10, 'coef0': 10, 'degree': 3, 'gamma': 'scale', 'kernel': 'poly', 'max_iter': 10000}, {'C': 10, 'coef0': 10, 'degree': 3, 'gamma': 'scale', 'kernel': 'poly', 'max_iter': 100000}, {'C': 10, 'coef0': 10, 'degree': 4, 'gamma': 'scale', 'kernel': 'linear', 'max_iter': 500}, {'C': 10, 'coef0': 10, 'degree': 4, 'gamma': 'scale', 'kernel': 'linear', 'max_iter': 1000}, {'C': 10, 'coef0': 10, 'degree': 4, 'gamma': 'scale', 'kernel': 'linear', 'max_iter': 10000}, {'C': 10, 'coef0': 10, 'degree': 4, 'gamma': 'scale', 'kernel': 'linear', 'max_iter': 100000}, {'C': 10, 'coef0': 10, 'degree': 4, 'gamma': 'scale', 'kernel': 'rbf', 'max_iter': 500}, {'C': 10, 'coef0': 10, 'degree': 4, 'gamma': 'scale', 'kernel': 'rbf', 'max_iter': 1000}, {'C': 10, 'coef0': 10, 'degree': 4, 'gamma': 'scale', 'kernel': 'rbf', 'max_iter': 10000}, {'C': 10, 'coef0': 10, 'degree': 4, 'gamma': 'scale', 'kernel': 'rbf', 'max_iter': 100000}, {'C': 10, 'coef0': 10, 'degree': 4, 'gamma': 'scale', 'kernel': 'poly', 'max_iter': 500}, {'C': 10, 'coef0': 10, 'degree': 4, 'gamma': 'scale', 'kernel': 'poly', 'max_iter': 1000}, {'C': 10, 'coef0': 10, 'degree': 4, 'gamma': 'scale', 'kernel': 'poly', 'max_iter': 10000}, {'C': 10, 'coef0': 10, 'degree': 4, 'gamma': 'scale', 'kernel': 'poly', 'max_iter': 100000}, {'C': 10, 'coef0': 10, 'degree': 5, 'gamma': 'scale', 'kernel': 'linear', 'max_iter': 500}, {'C': 10, 'coef0': 10, 'degree': 5, 'gamma': 'scale', 'kernel': 'linear', 'max_iter': 1000}, {'C': 10, 'coef0': 10, 'degree': 5, 'gamma': 'scale', 'kernel': 'linear', 'max_iter': 10000}, {'C': 10, 'coef0': 10, 'degree': 5, 'gamma': 'scale', 'kernel': 'linear', 'max_iter': 100000}, {'C': 10, 'coef0': 10, 'degree': 5, 'gamma': 'scale', 'kernel': 'rbf', 'max_iter': 500}, {'C': 10, 'coef0': 10, 'degree': 5, 'gamma': 'scale', 'kernel': 'rbf', 'max_iter': 1000}, {'C': 10, 'coef0': 10, 'degree': 5, 'gamma': 'scale', 'kernel': 'rbf', 'max_iter': 10000}, {'C': 10, 'coef0': 10, 'degree': 5, 'gamma': 'scale', 'kernel': 'rbf', 'max_iter': 100000}, {'C': 10, 'coef0': 10, 'degree': 5, 'gamma': 'scale', 'kernel': 'poly', 'max_iter': 500}, {'C': 10, 'coef0': 10, 'degree': 5, 'gamma': 'scale', 'kernel': 'poly', 'max_iter': 1000}, {'C': 10, 'coef0': 10, 'degree': 5, 'gamma': 'scale', 'kernel': 'poly', 'max_iter': 10000}, {'C': 10, 'coef0': 10, 'degree': 5, 'gamma': 'scale', 'kernel': 'poly', 'max_iter': 100000}]\n",
      "split0_test_score\t[0.61797753 0.61797753 0.61797753 0.61797753 0.61797753 0.61797753\n",
      " 0.61797753 0.61797753 0.61797753 0.61797753 0.61797753 0.61797753\n",
      " 0.61797753 0.61797753 0.61797753 0.61797753 0.61797753 0.61797753\n",
      " 0.61797753 0.61797753 0.61797753 0.61797753 0.61797753 0.61797753\n",
      " 0.61797753 0.61797753 0.61797753 0.61797753 0.61797753 0.61797753\n",
      " 0.61797753 0.61797753 0.61797753 0.61797753 0.61797753 0.61797753\n",
      " 0.61797753 0.61797753 0.61797753 0.61797753 0.61797753 0.61797753\n",
      " 0.61797753 0.61797753 0.62921348 0.62921348 0.62921348 0.62921348\n",
      " 0.61797753 0.61797753 0.61797753 0.61797753 0.61797753 0.61797753\n",
      " 0.61797753 0.61797753 0.61797753 0.61797753 0.61797753 0.61797753\n",
      " 0.61797753 0.61797753 0.61797753 0.61797753 0.61797753 0.61797753\n",
      " 0.61797753 0.61797753 0.61797753 0.61797753 0.61797753 0.61797753\n",
      " 0.61797753 0.61797753 0.61797753 0.61797753 0.61797753 0.61797753\n",
      " 0.61797753 0.61797753 0.67977528 0.67977528 0.67977528 0.67977528\n",
      " 0.61797753 0.61797753 0.61797753 0.61797753 0.61797753 0.61797753\n",
      " 0.61797753 0.61797753 0.75280899 0.75280899 0.75280899 0.75280899\n",
      " 0.61797753 0.61797753 0.61797753 0.61797753 0.61797753 0.61797753\n",
      " 0.61797753 0.61797753 0.61797753 0.61797753 0.61797753 0.61797753\n",
      " 0.61797753 0.61797753 0.61797753 0.61797753 0.61797753 0.61797753\n",
      " 0.61797753 0.61797753 0.80337079 0.80337079 0.80337079 0.80337079\n",
      " 0.61797753 0.61797753 0.61797753 0.61797753 0.61797753 0.61797753\n",
      " 0.61797753 0.61797753 0.83146067 0.83146067 0.83146067 0.83146067\n",
      " 0.61797753 0.61797753 0.61797753 0.61797753 0.61797753 0.61797753\n",
      " 0.61797753 0.61797753 0.83707865 0.8258427  0.84269663 0.84269663\n",
      " 0.80337079 0.80337079 0.80337079 0.80337079 0.61797753 0.61797753\n",
      " 0.61797753 0.61797753 0.64044944 0.64044944 0.64044944 0.64044944\n",
      " 0.80337079 0.80337079 0.80337079 0.80337079 0.61797753 0.61797753\n",
      " 0.61797753 0.61797753 0.68539326 0.68539326 0.68539326 0.68539326\n",
      " 0.80337079 0.80337079 0.80337079 0.80337079 0.61797753 0.61797753\n",
      " 0.61797753 0.61797753 0.70224719 0.70224719 0.70224719 0.70224719\n",
      " 0.80337079 0.80337079 0.80337079 0.80337079 0.61797753 0.61797753\n",
      " 0.61797753 0.61797753 0.71910112 0.71910112 0.71910112 0.71910112\n",
      " 0.80337079 0.80337079 0.80337079 0.80337079 0.61797753 0.61797753\n",
      " 0.61797753 0.61797753 0.68539326 0.68539326 0.68539326 0.68539326\n",
      " 0.80337079 0.80337079 0.80337079 0.80337079 0.61797753 0.61797753\n",
      " 0.61797753 0.61797753 0.80337079 0.80337079 0.80337079 0.80337079\n",
      " 0.80337079 0.80337079 0.80337079 0.80337079 0.61797753 0.61797753\n",
      " 0.61797753 0.61797753 0.8258427  0.8258427  0.8258427  0.8258427\n",
      " 0.80337079 0.80337079 0.80337079 0.80337079 0.61797753 0.61797753\n",
      " 0.61797753 0.61797753 0.83146067 0.83146067 0.83146067 0.83146067\n",
      " 0.80337079 0.80337079 0.80337079 0.80337079 0.61797753 0.61797753\n",
      " 0.61797753 0.61797753 0.80337079 0.80337079 0.80337079 0.80337079\n",
      " 0.80337079 0.80337079 0.80337079 0.80337079 0.61797753 0.61797753\n",
      " 0.61797753 0.61797753 0.8258427  0.8258427  0.8258427  0.8258427\n",
      " 0.80337079 0.80337079 0.80337079 0.80337079 0.61797753 0.61797753\n",
      " 0.61797753 0.61797753 0.8258427  0.84269663 0.84269663 0.84269663\n",
      " 0.80337079 0.80337079 0.80337079 0.80337079 0.61797753 0.61797753\n",
      " 0.61797753 0.61797753 0.54494382 0.5        0.82022472 0.80337079\n",
      " 0.80337079 0.80337079 0.80337079 0.80337079 0.80898876 0.80898876\n",
      " 0.80898876 0.80898876 0.80898876 0.80898876 0.80898876 0.80898876\n",
      " 0.80337079 0.80337079 0.80337079 0.80337079 0.80898876 0.80898876\n",
      " 0.80898876 0.80898876 0.83146067 0.83146067 0.83146067 0.83146067\n",
      " 0.80337079 0.80337079 0.80337079 0.80337079 0.80898876 0.80898876\n",
      " 0.80898876 0.80898876 0.8258427  0.8258427  0.8258427  0.8258427\n",
      " 0.80337079 0.80337079 0.80337079 0.80337079 0.80898876 0.80898876\n",
      " 0.80898876 0.80898876 0.82022472 0.82022472 0.82022472 0.82022472\n",
      " 0.80337079 0.80337079 0.80337079 0.80337079 0.80898876 0.80898876\n",
      " 0.80898876 0.80898876 0.80337079 0.80337079 0.80337079 0.80337079\n",
      " 0.80337079 0.80337079 0.80337079 0.80337079 0.80898876 0.80898876\n",
      " 0.80898876 0.80898876 0.83146067 0.83146067 0.83146067 0.83146067\n",
      " 0.80337079 0.80337079 0.80337079 0.80337079 0.80898876 0.80898876\n",
      " 0.80898876 0.80898876 0.83146067 0.83146067 0.83146067 0.83146067\n",
      " 0.80337079 0.80337079 0.80337079 0.80337079 0.80898876 0.80898876\n",
      " 0.80898876 0.80898876 0.83146067 0.8258427  0.8258427  0.8258427\n",
      " 0.80337079 0.80337079 0.80337079 0.80337079 0.80898876 0.80898876\n",
      " 0.80898876 0.80898876 0.81460674 0.81460674 0.81460674 0.81460674\n",
      " 0.80337079 0.80337079 0.80337079 0.80337079 0.80898876 0.80898876\n",
      " 0.80898876 0.80898876 0.83707865 0.83707865 0.83146067 0.83146067\n",
      " 0.80337079 0.80337079 0.80337079 0.80337079 0.80898876 0.80898876\n",
      " 0.80898876 0.80898876 0.48314607 0.69662921 0.83146067 0.82022472\n",
      " 0.80337079 0.80337079 0.80337079 0.80337079 0.80898876 0.80898876\n",
      " 0.80898876 0.80898876 0.59550562 0.52247191 0.79775281 0.78651685\n",
      " 0.67977528 0.7752809  0.82022472 0.81460674 0.83707865 0.83707865\n",
      " 0.83707865 0.83707865 0.83707865 0.83146067 0.83146067 0.83146067\n",
      " 0.67977528 0.7752809  0.82022472 0.81460674 0.83707865 0.83707865\n",
      " 0.83707865 0.83707865 0.80337079 0.80337079 0.80337079 0.80337079\n",
      " 0.67977528 0.7752809  0.82022472 0.81460674 0.83707865 0.83707865\n",
      " 0.83707865 0.83707865 0.75280899 0.7752809  0.78651685 0.78651685\n",
      " 0.67977528 0.7752809  0.82022472 0.81460674 0.83707865 0.83707865\n",
      " 0.83707865 0.83707865 0.56741573 0.80898876 0.78651685 0.78651685\n",
      " 0.67977528 0.7752809  0.82022472 0.81460674 0.83707865 0.83707865\n",
      " 0.83707865 0.83707865 0.83146067 0.84269663 0.84269663 0.84269663\n",
      " 0.67977528 0.7752809  0.82022472 0.81460674 0.83707865 0.83707865\n",
      " 0.83707865 0.83707865 0.65730337 0.78651685 0.80898876 0.80898876\n",
      " 0.67977528 0.7752809  0.82022472 0.81460674 0.83707865 0.83707865\n",
      " 0.83707865 0.83707865 0.64606742 0.76966292 0.79775281 0.80337079\n",
      " 0.67977528 0.7752809  0.82022472 0.81460674 0.83707865 0.83707865\n",
      " 0.83707865 0.83707865 0.56179775 0.69662921 0.78651685 0.76404494\n",
      " 0.67977528 0.7752809  0.82022472 0.81460674 0.83707865 0.83707865\n",
      " 0.83707865 0.83707865 0.81460674 0.82022472 0.83707865 0.84269663\n",
      " 0.67977528 0.7752809  0.82022472 0.81460674 0.83707865 0.83707865\n",
      " 0.83707865 0.83707865 0.43820225 0.43258427 0.78651685 0.80898876\n",
      " 0.67977528 0.7752809  0.82022472 0.81460674 0.83707865 0.83707865\n",
      " 0.83707865 0.83707865 0.51685393 0.50561798 0.48876404 0.79213483\n",
      " 0.67977528 0.7752809  0.82022472 0.81460674 0.83707865 0.83707865\n",
      " 0.83707865 0.83707865 0.78651685 0.42696629 0.61235955 0.61235955]\n",
      "split1_test_score\t[0.61797753 0.61797753 0.61797753 0.61797753 0.61797753 0.61797753\n",
      " 0.61797753 0.61797753 0.61797753 0.61797753 0.61797753 0.61797753\n",
      " 0.61797753 0.61797753 0.61797753 0.61797753 0.61797753 0.61797753\n",
      " 0.61797753 0.61797753 0.61797753 0.61797753 0.61797753 0.61797753\n",
      " 0.61797753 0.61797753 0.61797753 0.61797753 0.61797753 0.61797753\n",
      " 0.61797753 0.61797753 0.61797753 0.61797753 0.61797753 0.61797753\n",
      " 0.61797753 0.61797753 0.61797753 0.61797753 0.61797753 0.61797753\n",
      " 0.61797753 0.61797753 0.66853933 0.66853933 0.66853933 0.66853933\n",
      " 0.61797753 0.61797753 0.61797753 0.61797753 0.61797753 0.61797753\n",
      " 0.61797753 0.61797753 0.61797753 0.61797753 0.61797753 0.61797753\n",
      " 0.61797753 0.61797753 0.61797753 0.61797753 0.61797753 0.61797753\n",
      " 0.61797753 0.61797753 0.61797753 0.61797753 0.61797753 0.61797753\n",
      " 0.61797753 0.61797753 0.61797753 0.61797753 0.61797753 0.61797753\n",
      " 0.61797753 0.61797753 0.73595506 0.73595506 0.73595506 0.73595506\n",
      " 0.61797753 0.61797753 0.61797753 0.61797753 0.61797753 0.61797753\n",
      " 0.61797753 0.61797753 0.82022472 0.82022472 0.82022472 0.82022472\n",
      " 0.61797753 0.61797753 0.61797753 0.61797753 0.61797753 0.61797753\n",
      " 0.61797753 0.61797753 0.61797753 0.61797753 0.61797753 0.61797753\n",
      " 0.61797753 0.61797753 0.61797753 0.61797753 0.61797753 0.61797753\n",
      " 0.61797753 0.61797753 0.80898876 0.80898876 0.80898876 0.80898876\n",
      " 0.61797753 0.61797753 0.61797753 0.61797753 0.61797753 0.61797753\n",
      " 0.61797753 0.61797753 0.82022472 0.82022472 0.82022472 0.82022472\n",
      " 0.61797753 0.61797753 0.61797753 0.61797753 0.61797753 0.61797753\n",
      " 0.61797753 0.61797753 0.82022472 0.82022472 0.82022472 0.82022472\n",
      " 0.81460674 0.81460674 0.81460674 0.81460674 0.61797753 0.61797753\n",
      " 0.61797753 0.61797753 0.66853933 0.66853933 0.66853933 0.66853933\n",
      " 0.81460674 0.81460674 0.81460674 0.81460674 0.61797753 0.61797753\n",
      " 0.61797753 0.61797753 0.75280899 0.75280899 0.75280899 0.75280899\n",
      " 0.81460674 0.81460674 0.81460674 0.81460674 0.61797753 0.61797753\n",
      " 0.61797753 0.61797753 0.78089888 0.78089888 0.78089888 0.78089888\n",
      " 0.81460674 0.81460674 0.81460674 0.81460674 0.61797753 0.61797753\n",
      " 0.61797753 0.61797753 0.81460674 0.81460674 0.81460674 0.81460674\n",
      " 0.81460674 0.81460674 0.81460674 0.81460674 0.61797753 0.61797753\n",
      " 0.61797753 0.61797753 0.75280899 0.75280899 0.75280899 0.75280899\n",
      " 0.81460674 0.81460674 0.81460674 0.81460674 0.61797753 0.61797753\n",
      " 0.61797753 0.61797753 0.80337079 0.80337079 0.80337079 0.80337079\n",
      " 0.81460674 0.81460674 0.81460674 0.81460674 0.61797753 0.61797753\n",
      " 0.61797753 0.61797753 0.80898876 0.80898876 0.80898876 0.80898876\n",
      " 0.81460674 0.81460674 0.81460674 0.81460674 0.61797753 0.61797753\n",
      " 0.61797753 0.61797753 0.81460674 0.81460674 0.81460674 0.81460674\n",
      " 0.81460674 0.81460674 0.81460674 0.81460674 0.61797753 0.61797753\n",
      " 0.61797753 0.61797753 0.81460674 0.81460674 0.81460674 0.81460674\n",
      " 0.81460674 0.81460674 0.81460674 0.81460674 0.61797753 0.61797753\n",
      " 0.61797753 0.61797753 0.82022472 0.82022472 0.82022472 0.82022472\n",
      " 0.81460674 0.81460674 0.81460674 0.81460674 0.61797753 0.61797753\n",
      " 0.61797753 0.61797753 0.8258427  0.81460674 0.81460674 0.81460674\n",
      " 0.81460674 0.81460674 0.81460674 0.81460674 0.61797753 0.61797753\n",
      " 0.61797753 0.61797753 0.48876404 0.71348315 0.8258427  0.83146067\n",
      " 0.81460674 0.81460674 0.81460674 0.81460674 0.80898876 0.80898876\n",
      " 0.80898876 0.80898876 0.80898876 0.80898876 0.80898876 0.80898876\n",
      " 0.81460674 0.81460674 0.81460674 0.81460674 0.80898876 0.80898876\n",
      " 0.80898876 0.80898876 0.81460674 0.81460674 0.81460674 0.81460674\n",
      " 0.81460674 0.81460674 0.81460674 0.81460674 0.80898876 0.80898876\n",
      " 0.80898876 0.80898876 0.82022472 0.82022472 0.82022472 0.82022472\n",
      " 0.81460674 0.81460674 0.81460674 0.81460674 0.80898876 0.80898876\n",
      " 0.80898876 0.80898876 0.82022472 0.82022472 0.82022472 0.82022472\n",
      " 0.81460674 0.81460674 0.81460674 0.81460674 0.80898876 0.80898876\n",
      " 0.80898876 0.80898876 0.81460674 0.81460674 0.81460674 0.81460674\n",
      " 0.81460674 0.81460674 0.81460674 0.81460674 0.80898876 0.80898876\n",
      " 0.80898876 0.80898876 0.82022472 0.82022472 0.82022472 0.82022472\n",
      " 0.81460674 0.81460674 0.81460674 0.81460674 0.80898876 0.80898876\n",
      " 0.80898876 0.80898876 0.82022472 0.82022472 0.82022472 0.82022472\n",
      " 0.81460674 0.81460674 0.81460674 0.81460674 0.80898876 0.80898876\n",
      " 0.80898876 0.80898876 0.82022472 0.82022472 0.82022472 0.82022472\n",
      " 0.81460674 0.81460674 0.81460674 0.81460674 0.80898876 0.80898876\n",
      " 0.80898876 0.80898876 0.81460674 0.81460674 0.81460674 0.81460674\n",
      " 0.81460674 0.81460674 0.81460674 0.81460674 0.80898876 0.80898876\n",
      " 0.80898876 0.80898876 0.82022472 0.82022472 0.82022472 0.82022472\n",
      " 0.81460674 0.81460674 0.81460674 0.81460674 0.80898876 0.80898876\n",
      " 0.80898876 0.80898876 0.70224719 0.52808989 0.82022472 0.82022472\n",
      " 0.81460674 0.81460674 0.81460674 0.81460674 0.80898876 0.80898876\n",
      " 0.80898876 0.80898876 0.34831461 0.49438202 0.82022472 0.80337079\n",
      " 0.51123596 0.80337079 0.81460674 0.81460674 0.82022472 0.82022472\n",
      " 0.82022472 0.82022472 0.82022472 0.82022472 0.82022472 0.82022472\n",
      " 0.51123596 0.80337079 0.81460674 0.81460674 0.82022472 0.82022472\n",
      " 0.82022472 0.82022472 0.83146067 0.82022472 0.82022472 0.82022472\n",
      " 0.51123596 0.80337079 0.81460674 0.81460674 0.82022472 0.82022472\n",
      " 0.82022472 0.82022472 0.78089888 0.83146067 0.83146067 0.83146067\n",
      " 0.51123596 0.80337079 0.81460674 0.81460674 0.82022472 0.82022472\n",
      " 0.82022472 0.82022472 0.58988764 0.81460674 0.80898876 0.80898876\n",
      " 0.51123596 0.80337079 0.81460674 0.81460674 0.82022472 0.82022472\n",
      " 0.82022472 0.82022472 0.8258427  0.81460674 0.81460674 0.81460674\n",
      " 0.51123596 0.80337079 0.81460674 0.81460674 0.82022472 0.82022472\n",
      " 0.82022472 0.82022472 0.61797753 0.8258427  0.8258427  0.8258427\n",
      " 0.51123596 0.80337079 0.81460674 0.81460674 0.82022472 0.82022472\n",
      " 0.82022472 0.82022472 0.5505618  0.69662921 0.80898876 0.80898876\n",
      " 0.51123596 0.80337079 0.81460674 0.81460674 0.82022472 0.82022472\n",
      " 0.82022472 0.82022472 0.53370787 0.80898876 0.80898876 0.80898876\n",
      " 0.51123596 0.80337079 0.81460674 0.81460674 0.82022472 0.82022472\n",
      " 0.82022472 0.82022472 0.71348315 0.83146067 0.81460674 0.81460674\n",
      " 0.51123596 0.80337079 0.81460674 0.81460674 0.82022472 0.82022472\n",
      " 0.82022472 0.82022472 0.48314607 0.5505618  0.80337079 0.83146067\n",
      " 0.51123596 0.80337079 0.81460674 0.81460674 0.82022472 0.82022472\n",
      " 0.82022472 0.82022472 0.41573034 0.4494382  0.49438202 0.79775281\n",
      " 0.51123596 0.80337079 0.81460674 0.81460674 0.82022472 0.82022472\n",
      " 0.82022472 0.82022472 0.30337079 0.30898876 0.51123596 0.61235955]\n",
      "split2_test_score\t[0.61797753 0.61797753 0.61797753 0.61797753 0.61797753 0.61797753\n",
      " 0.61797753 0.61797753 0.61797753 0.61797753 0.61797753 0.61797753\n",
      " 0.61797753 0.61797753 0.61797753 0.61797753 0.61797753 0.61797753\n",
      " 0.61797753 0.61797753 0.61797753 0.61797753 0.61797753 0.61797753\n",
      " 0.61797753 0.61797753 0.61797753 0.61797753 0.61797753 0.61797753\n",
      " 0.61797753 0.61797753 0.61797753 0.61797753 0.61797753 0.61797753\n",
      " 0.61797753 0.61797753 0.61797753 0.61797753 0.61797753 0.61797753\n",
      " 0.61797753 0.61797753 0.61235955 0.61235955 0.61235955 0.61235955\n",
      " 0.61797753 0.61797753 0.61797753 0.61797753 0.61797753 0.61797753\n",
      " 0.61797753 0.61797753 0.61797753 0.61797753 0.61797753 0.61797753\n",
      " 0.61797753 0.61797753 0.61797753 0.61797753 0.61797753 0.61797753\n",
      " 0.61797753 0.61797753 0.61797753 0.61797753 0.61797753 0.61797753\n",
      " 0.61797753 0.61797753 0.61797753 0.61797753 0.61797753 0.61797753\n",
      " 0.61797753 0.61797753 0.68539326 0.68539326 0.68539326 0.68539326\n",
      " 0.61797753 0.61797753 0.61797753 0.61797753 0.61797753 0.61797753\n",
      " 0.61797753 0.61797753 0.80898876 0.80898876 0.80898876 0.80898876\n",
      " 0.61797753 0.61797753 0.61797753 0.61797753 0.61797753 0.61797753\n",
      " 0.61797753 0.61797753 0.61797753 0.61797753 0.61797753 0.61797753\n",
      " 0.61797753 0.61797753 0.61797753 0.61797753 0.61797753 0.61797753\n",
      " 0.61797753 0.61797753 0.78651685 0.78651685 0.78651685 0.78651685\n",
      " 0.61797753 0.61797753 0.61797753 0.61797753 0.61797753 0.61797753\n",
      " 0.61797753 0.61797753 0.81460674 0.81460674 0.81460674 0.81460674\n",
      " 0.61797753 0.61797753 0.61797753 0.61797753 0.61797753 0.61797753\n",
      " 0.61797753 0.61797753 0.82022472 0.81460674 0.82022472 0.82022472\n",
      " 0.78651685 0.78651685 0.78651685 0.78651685 0.61797753 0.61797753\n",
      " 0.61797753 0.61797753 0.61797753 0.61797753 0.61797753 0.61797753\n",
      " 0.78651685 0.78651685 0.78651685 0.78651685 0.61797753 0.61797753\n",
      " 0.61797753 0.61797753 0.68539326 0.68539326 0.68539326 0.68539326\n",
      " 0.78651685 0.78651685 0.78651685 0.78651685 0.61797753 0.61797753\n",
      " 0.61797753 0.61797753 0.75280899 0.75280899 0.75280899 0.75280899\n",
      " 0.78651685 0.78651685 0.78651685 0.78651685 0.61797753 0.61797753\n",
      " 0.61797753 0.61797753 0.79775281 0.79775281 0.79775281 0.79775281\n",
      " 0.78651685 0.78651685 0.78651685 0.78651685 0.61797753 0.61797753\n",
      " 0.61797753 0.61797753 0.69662921 0.69662921 0.69662921 0.69662921\n",
      " 0.78651685 0.78651685 0.78651685 0.78651685 0.61797753 0.61797753\n",
      " 0.61797753 0.61797753 0.78651685 0.78651685 0.78651685 0.78651685\n",
      " 0.78651685 0.78651685 0.78651685 0.78651685 0.61797753 0.61797753\n",
      " 0.61797753 0.61797753 0.79213483 0.79213483 0.79213483 0.79213483\n",
      " 0.78651685 0.78651685 0.78651685 0.78651685 0.61797753 0.61797753\n",
      " 0.61797753 0.61797753 0.79775281 0.79775281 0.79775281 0.79775281\n",
      " 0.78651685 0.78651685 0.78651685 0.78651685 0.61797753 0.61797753\n",
      " 0.61797753 0.61797753 0.78651685 0.78651685 0.78651685 0.78651685\n",
      " 0.78651685 0.78651685 0.78651685 0.78651685 0.61797753 0.61797753\n",
      " 0.61797753 0.61797753 0.79775281 0.79775281 0.79775281 0.79775281\n",
      " 0.78651685 0.78651685 0.78651685 0.78651685 0.61797753 0.61797753\n",
      " 0.61797753 0.61797753 0.82022472 0.82022472 0.82022472 0.82022472\n",
      " 0.78651685 0.78651685 0.78651685 0.78651685 0.61797753 0.61797753\n",
      " 0.61797753 0.61797753 0.46067416 0.50561798 0.82022472 0.83707865\n",
      " 0.78651685 0.78651685 0.78651685 0.78651685 0.80337079 0.80337079\n",
      " 0.80337079 0.80337079 0.78651685 0.78651685 0.78651685 0.78651685\n",
      " 0.78651685 0.78651685 0.78651685 0.78651685 0.80337079 0.80337079\n",
      " 0.80337079 0.80337079 0.78651685 0.78651685 0.78651685 0.78651685\n",
      " 0.78651685 0.78651685 0.78651685 0.78651685 0.80337079 0.80337079\n",
      " 0.80337079 0.80337079 0.79213483 0.79213483 0.79213483 0.79213483\n",
      " 0.78651685 0.78651685 0.78651685 0.78651685 0.80337079 0.80337079\n",
      " 0.80337079 0.80337079 0.80898876 0.80898876 0.80898876 0.80898876\n",
      " 0.78651685 0.78651685 0.78651685 0.78651685 0.80337079 0.80337079\n",
      " 0.80337079 0.80337079 0.78651685 0.78651685 0.78651685 0.78651685\n",
      " 0.78651685 0.78651685 0.78651685 0.78651685 0.80337079 0.80337079\n",
      " 0.80337079 0.80337079 0.79213483 0.79213483 0.79213483 0.79213483\n",
      " 0.78651685 0.78651685 0.78651685 0.78651685 0.80337079 0.80337079\n",
      " 0.80337079 0.80337079 0.82022472 0.82022472 0.82022472 0.82022472\n",
      " 0.78651685 0.78651685 0.78651685 0.78651685 0.80337079 0.80337079\n",
      " 0.80337079 0.80337079 0.81460674 0.81460674 0.81460674 0.81460674\n",
      " 0.78651685 0.78651685 0.78651685 0.78651685 0.80337079 0.80337079\n",
      " 0.80337079 0.80337079 0.78651685 0.78651685 0.78651685 0.78651685\n",
      " 0.78651685 0.78651685 0.78651685 0.78651685 0.80337079 0.80337079\n",
      " 0.80337079 0.80337079 0.80898876 0.82022472 0.82022472 0.82022472\n",
      " 0.78651685 0.78651685 0.78651685 0.78651685 0.80337079 0.80337079\n",
      " 0.80337079 0.80337079 0.42696629 0.78651685 0.82022472 0.82022472\n",
      " 0.78651685 0.78651685 0.78651685 0.78651685 0.80337079 0.80337079\n",
      " 0.80337079 0.80337079 0.39325843 0.62359551 0.82022472 0.83146067\n",
      " 0.37640449 0.7752809  0.79775281 0.79775281 0.82022472 0.82022472\n",
      " 0.82022472 0.82022472 0.82022472 0.82022472 0.82022472 0.82022472\n",
      " 0.37640449 0.7752809  0.79775281 0.79775281 0.82022472 0.82022472\n",
      " 0.82022472 0.82022472 0.7247191  0.81460674 0.81460674 0.81460674\n",
      " 0.37640449 0.7752809  0.79775281 0.79775281 0.82022472 0.82022472\n",
      " 0.82022472 0.82022472 0.78089888 0.80898876 0.81460674 0.81460674\n",
      " 0.37640449 0.7752809  0.79775281 0.79775281 0.82022472 0.82022472\n",
      " 0.82022472 0.82022472 0.51123596 0.80337079 0.80898876 0.80898876\n",
      " 0.37640449 0.7752809  0.79775281 0.79775281 0.82022472 0.82022472\n",
      " 0.82022472 0.82022472 0.82022472 0.82022472 0.82022472 0.82022472\n",
      " 0.37640449 0.7752809  0.79775281 0.79775281 0.82022472 0.82022472\n",
      " 0.82022472 0.82022472 0.4494382  0.82022472 0.81460674 0.81460674\n",
      " 0.37640449 0.7752809  0.79775281 0.79775281 0.82022472 0.82022472\n",
      " 0.82022472 0.82022472 0.64044944 0.59550562 0.8258427  0.8258427\n",
      " 0.37640449 0.7752809  0.79775281 0.79775281 0.82022472 0.82022472\n",
      " 0.82022472 0.82022472 0.38764045 0.60674157 0.85393258 0.84269663\n",
      " 0.37640449 0.7752809  0.79775281 0.79775281 0.82022472 0.82022472\n",
      " 0.82022472 0.82022472 0.48876404 0.82022472 0.82022472 0.82022472\n",
      " 0.37640449 0.7752809  0.79775281 0.79775281 0.82022472 0.82022472\n",
      " 0.82022472 0.82022472 0.40449438 0.73595506 0.81460674 0.84831461\n",
      " 0.37640449 0.7752809  0.79775281 0.79775281 0.82022472 0.82022472\n",
      " 0.82022472 0.82022472 0.46629213 0.66853933 0.47752809 0.8258427\n",
      " 0.37640449 0.7752809  0.79775281 0.79775281 0.82022472 0.82022472\n",
      " 0.82022472 0.82022472 0.45505618 0.38764045 0.58988764 0.64044944]\n",
      "split3_test_score\t[0.61797753 0.61797753 0.61797753 0.61797753 0.61797753 0.61797753\n",
      " 0.61797753 0.61797753 0.61797753 0.61797753 0.61797753 0.61797753\n",
      " 0.61797753 0.61797753 0.61797753 0.61797753 0.61797753 0.61797753\n",
      " 0.61797753 0.61797753 0.61797753 0.61797753 0.61797753 0.61797753\n",
      " 0.61797753 0.61797753 0.61797753 0.61797753 0.61797753 0.61797753\n",
      " 0.61797753 0.61797753 0.61797753 0.61797753 0.61797753 0.61797753\n",
      " 0.61797753 0.61797753 0.61797753 0.61797753 0.61797753 0.61797753\n",
      " 0.61797753 0.61797753 0.64606742 0.64606742 0.64606742 0.64606742\n",
      " 0.61797753 0.61797753 0.61797753 0.61797753 0.61797753 0.61797753\n",
      " 0.61797753 0.61797753 0.61797753 0.61797753 0.61797753 0.61797753\n",
      " 0.61797753 0.61797753 0.61797753 0.61797753 0.61797753 0.61797753\n",
      " 0.61797753 0.61797753 0.61797753 0.61797753 0.61797753 0.61797753\n",
      " 0.61797753 0.61797753 0.61797753 0.61797753 0.61797753 0.61797753\n",
      " 0.61797753 0.61797753 0.71348315 0.71348315 0.71348315 0.71348315\n",
      " 0.61797753 0.61797753 0.61797753 0.61797753 0.61797753 0.61797753\n",
      " 0.61797753 0.61797753 0.76404494 0.76404494 0.76404494 0.76404494\n",
      " 0.61797753 0.61797753 0.61797753 0.61797753 0.61797753 0.61797753\n",
      " 0.61797753 0.61797753 0.61797753 0.61797753 0.61797753 0.61797753\n",
      " 0.61797753 0.61797753 0.61797753 0.61797753 0.61797753 0.61797753\n",
      " 0.61797753 0.61797753 0.75280899 0.75280899 0.75280899 0.75280899\n",
      " 0.61797753 0.61797753 0.61797753 0.61797753 0.61797753 0.61797753\n",
      " 0.61797753 0.61797753 0.76966292 0.7752809  0.7752809  0.7752809\n",
      " 0.61797753 0.61797753 0.61797753 0.61797753 0.61797753 0.61797753\n",
      " 0.61797753 0.61797753 0.79775281 0.79213483 0.79213483 0.79213483\n",
      " 0.75280899 0.75280899 0.75280899 0.75280899 0.61797753 0.61797753\n",
      " 0.61797753 0.61797753 0.62921348 0.62921348 0.62921348 0.62921348\n",
      " 0.75280899 0.75280899 0.75280899 0.75280899 0.61797753 0.61797753\n",
      " 0.61797753 0.61797753 0.74719101 0.74719101 0.74719101 0.74719101\n",
      " 0.75280899 0.75280899 0.75280899 0.75280899 0.61797753 0.61797753\n",
      " 0.61797753 0.61797753 0.75280899 0.75280899 0.75280899 0.75280899\n",
      " 0.75280899 0.75280899 0.75280899 0.75280899 0.61797753 0.61797753\n",
      " 0.61797753 0.61797753 0.7752809  0.7752809  0.7752809  0.7752809\n",
      " 0.75280899 0.75280899 0.75280899 0.75280899 0.61797753 0.61797753\n",
      " 0.61797753 0.61797753 0.73033708 0.73033708 0.73033708 0.73033708\n",
      " 0.75280899 0.75280899 0.75280899 0.75280899 0.61797753 0.61797753\n",
      " 0.61797753 0.61797753 0.75280899 0.75280899 0.75280899 0.75280899\n",
      " 0.75280899 0.75280899 0.75280899 0.75280899 0.61797753 0.61797753\n",
      " 0.61797753 0.61797753 0.76404494 0.76404494 0.76404494 0.76404494\n",
      " 0.75280899 0.75280899 0.75280899 0.75280899 0.61797753 0.61797753\n",
      " 0.61797753 0.61797753 0.78089888 0.78089888 0.78089888 0.78089888\n",
      " 0.75280899 0.75280899 0.75280899 0.75280899 0.61797753 0.61797753\n",
      " 0.61797753 0.61797753 0.75280899 0.75280899 0.75280899 0.75280899\n",
      " 0.75280899 0.75280899 0.75280899 0.75280899 0.61797753 0.61797753\n",
      " 0.61797753 0.61797753 0.76404494 0.76404494 0.76404494 0.76404494\n",
      " 0.75280899 0.75280899 0.75280899 0.75280899 0.61797753 0.61797753\n",
      " 0.61797753 0.61797753 0.79213483 0.79213483 0.79213483 0.79213483\n",
      " 0.75280899 0.75280899 0.75280899 0.75280899 0.61797753 0.61797753\n",
      " 0.61797753 0.61797753 0.45505618 0.70786517 0.7752809  0.7752809\n",
      " 0.75280899 0.75280899 0.75280899 0.75280899 0.78089888 0.78089888\n",
      " 0.78089888 0.78089888 0.75280899 0.75280899 0.75280899 0.75280899\n",
      " 0.75280899 0.75280899 0.75280899 0.75280899 0.78089888 0.78089888\n",
      " 0.78089888 0.78089888 0.76404494 0.76404494 0.76404494 0.76404494\n",
      " 0.75280899 0.75280899 0.75280899 0.75280899 0.78089888 0.78089888\n",
      " 0.78089888 0.78089888 0.7752809  0.7752809  0.7752809  0.7752809\n",
      " 0.75280899 0.75280899 0.75280899 0.75280899 0.78089888 0.78089888\n",
      " 0.78089888 0.78089888 0.7752809  0.7752809  0.7752809  0.7752809\n",
      " 0.75280899 0.75280899 0.75280899 0.75280899 0.78089888 0.78089888\n",
      " 0.78089888 0.78089888 0.75280899 0.75280899 0.75280899 0.75280899\n",
      " 0.75280899 0.75280899 0.75280899 0.75280899 0.78089888 0.78089888\n",
      " 0.78089888 0.78089888 0.76966292 0.76966292 0.76966292 0.76966292\n",
      " 0.75280899 0.75280899 0.75280899 0.75280899 0.78089888 0.78089888\n",
      " 0.78089888 0.78089888 0.79213483 0.79213483 0.79213483 0.79213483\n",
      " 0.75280899 0.75280899 0.75280899 0.75280899 0.78089888 0.78089888\n",
      " 0.78089888 0.78089888 0.7752809  0.7752809  0.7752809  0.7752809\n",
      " 0.75280899 0.75280899 0.75280899 0.75280899 0.78089888 0.78089888\n",
      " 0.78089888 0.78089888 0.75280899 0.75280899 0.75280899 0.75280899\n",
      " 0.75280899 0.75280899 0.75280899 0.75280899 0.78089888 0.78089888\n",
      " 0.78089888 0.78089888 0.79213483 0.79213483 0.79213483 0.79213483\n",
      " 0.75280899 0.75280899 0.75280899 0.75280899 0.78089888 0.78089888\n",
      " 0.78089888 0.78089888 0.52808989 0.75842697 0.7752809  0.7752809\n",
      " 0.75280899 0.75280899 0.75280899 0.75280899 0.78089888 0.78089888\n",
      " 0.78089888 0.78089888 0.41573034 0.47752809 0.79775281 0.76966292\n",
      " 0.28089888 0.78651685 0.76966292 0.76966292 0.78089888 0.78089888\n",
      " 0.78089888 0.78089888 0.78089888 0.78089888 0.78089888 0.78089888\n",
      " 0.28089888 0.78651685 0.76966292 0.76966292 0.78089888 0.78089888\n",
      " 0.78089888 0.78089888 0.78089888 0.7752809  0.76404494 0.76404494\n",
      " 0.28089888 0.78651685 0.76966292 0.76966292 0.78089888 0.78089888\n",
      " 0.78089888 0.78089888 0.80337079 0.79213483 0.78089888 0.78089888\n",
      " 0.28089888 0.78651685 0.76966292 0.76966292 0.78089888 0.78089888\n",
      " 0.78089888 0.78089888 0.80898876 0.53370787 0.7752809  0.78089888\n",
      " 0.28089888 0.78651685 0.76966292 0.76966292 0.78089888 0.78089888\n",
      " 0.78089888 0.78089888 0.79213483 0.79213483 0.79213483 0.79213483\n",
      " 0.28089888 0.78651685 0.76966292 0.76966292 0.78089888 0.78089888\n",
      " 0.78089888 0.78089888 0.74157303 0.78651685 0.76966292 0.76966292\n",
      " 0.28089888 0.78651685 0.76966292 0.76966292 0.78089888 0.78089888\n",
      " 0.78089888 0.78089888 0.47191011 0.76404494 0.7752809  0.7752809\n",
      " 0.28089888 0.78651685 0.76966292 0.76966292 0.78089888 0.78089888\n",
      " 0.78089888 0.78089888 0.5        0.75842697 0.79213483 0.78651685\n",
      " 0.28089888 0.78651685 0.76966292 0.76966292 0.78089888 0.78089888\n",
      " 0.78089888 0.78089888 0.43820225 0.7752809  0.79213483 0.79213483\n",
      " 0.28089888 0.78651685 0.76966292 0.76966292 0.78089888 0.78089888\n",
      " 0.78089888 0.78089888 0.56741573 0.35955056 0.76404494 0.78089888\n",
      " 0.28089888 0.78651685 0.76966292 0.76966292 0.78089888 0.78089888\n",
      " 0.78089888 0.78089888 0.37640449 0.47191011 0.42134831 0.78089888\n",
      " 0.28089888 0.78651685 0.76966292 0.76966292 0.78089888 0.78089888\n",
      " 0.78089888 0.78089888 0.55617978 0.57303371 0.51123596 0.37640449]\n",
      "split4_test_score\t[0.61581921 0.61581921 0.61581921 0.61581921 0.61581921 0.61581921\n",
      " 0.61581921 0.61581921 0.61581921 0.61581921 0.61581921 0.61581921\n",
      " 0.61581921 0.61581921 0.61581921 0.61581921 0.61581921 0.61581921\n",
      " 0.61581921 0.61581921 0.61581921 0.61581921 0.61581921 0.61581921\n",
      " 0.61581921 0.61581921 0.61581921 0.61581921 0.61581921 0.61581921\n",
      " 0.61581921 0.61581921 0.61581921 0.61581921 0.61581921 0.61581921\n",
      " 0.61581921 0.61581921 0.61581921 0.61581921 0.61581921 0.61581921\n",
      " 0.61581921 0.61581921 0.64971751 0.64971751 0.64971751 0.64971751\n",
      " 0.61581921 0.61581921 0.61581921 0.61581921 0.61581921 0.61581921\n",
      " 0.61581921 0.61581921 0.61581921 0.61581921 0.61581921 0.61581921\n",
      " 0.61581921 0.61581921 0.61581921 0.61581921 0.61581921 0.61581921\n",
      " 0.61581921 0.61581921 0.61581921 0.61581921 0.61581921 0.61581921\n",
      " 0.61581921 0.61581921 0.61581921 0.61581921 0.61581921 0.61581921\n",
      " 0.61581921 0.61581921 0.74576271 0.74576271 0.74576271 0.74576271\n",
      " 0.61581921 0.61581921 0.61581921 0.61581921 0.61581921 0.61581921\n",
      " 0.61581921 0.61581921 0.8079096  0.8079096  0.8079096  0.8079096\n",
      " 0.61581921 0.61581921 0.61581921 0.61581921 0.61581921 0.61581921\n",
      " 0.61581921 0.61581921 0.61581921 0.61581921 0.61581921 0.61581921\n",
      " 0.61581921 0.61581921 0.61581921 0.61581921 0.61581921 0.61581921\n",
      " 0.61581921 0.61581921 0.79661017 0.79661017 0.79661017 0.79661017\n",
      " 0.61581921 0.61581921 0.61581921 0.61581921 0.61581921 0.61581921\n",
      " 0.61581921 0.61581921 0.83615819 0.83050847 0.83050847 0.83050847\n",
      " 0.61581921 0.61581921 0.61581921 0.61581921 0.61581921 0.61581921\n",
      " 0.61581921 0.61581921 0.84745763 0.84180791 0.84745763 0.84745763\n",
      " 0.78531073 0.78531073 0.78531073 0.78531073 0.61581921 0.61581921\n",
      " 0.61581921 0.61581921 0.62711864 0.62711864 0.62711864 0.62711864\n",
      " 0.78531073 0.78531073 0.78531073 0.78531073 0.61581921 0.61581921\n",
      " 0.61581921 0.61581921 0.76271186 0.76271186 0.76271186 0.76271186\n",
      " 0.78531073 0.78531073 0.78531073 0.78531073 0.61581921 0.61581921\n",
      " 0.61581921 0.61581921 0.79096045 0.79096045 0.79096045 0.79096045\n",
      " 0.78531073 0.78531073 0.78531073 0.78531073 0.61581921 0.61581921\n",
      " 0.61581921 0.61581921 0.8079096  0.8079096  0.8079096  0.8079096\n",
      " 0.78531073 0.78531073 0.78531073 0.78531073 0.61581921 0.61581921\n",
      " 0.61581921 0.61581921 0.75141243 0.75141243 0.75141243 0.75141243\n",
      " 0.78531073 0.78531073 0.78531073 0.78531073 0.61581921 0.61581921\n",
      " 0.61581921 0.61581921 0.79661017 0.79661017 0.79661017 0.79661017\n",
      " 0.78531073 0.78531073 0.78531073 0.78531073 0.61581921 0.61581921\n",
      " 0.61581921 0.61581921 0.82485876 0.82485876 0.82485876 0.82485876\n",
      " 0.78531073 0.78531073 0.78531073 0.78531073 0.61581921 0.61581921\n",
      " 0.61581921 0.61581921 0.83615819 0.83615819 0.83615819 0.83615819\n",
      " 0.78531073 0.78531073 0.78531073 0.78531073 0.61581921 0.61581921\n",
      " 0.61581921 0.61581921 0.78531073 0.78531073 0.78531073 0.78531073\n",
      " 0.78531073 0.78531073 0.78531073 0.78531073 0.61581921 0.61581921\n",
      " 0.61581921 0.61581921 0.8079096  0.8079096  0.8079096  0.8079096\n",
      " 0.78531073 0.78531073 0.78531073 0.78531073 0.61581921 0.61581921\n",
      " 0.61581921 0.61581921 0.84745763 0.84745763 0.84180791 0.84180791\n",
      " 0.78531073 0.78531073 0.78531073 0.78531073 0.61581921 0.61581921\n",
      " 0.61581921 0.61581921 0.65536723 0.4519774  0.84745763 0.85310734\n",
      " 0.78531073 0.78531073 0.78531073 0.78531073 0.8079096  0.8079096\n",
      " 0.8079096  0.8079096  0.79661017 0.79661017 0.79661017 0.79661017\n",
      " 0.78531073 0.78531073 0.78531073 0.78531073 0.8079096  0.8079096\n",
      " 0.8079096  0.8079096  0.83050847 0.83050847 0.83050847 0.83050847\n",
      " 0.78531073 0.78531073 0.78531073 0.78531073 0.8079096  0.8079096\n",
      " 0.8079096  0.8079096  0.83615819 0.83615819 0.83615819 0.83615819\n",
      " 0.78531073 0.78531073 0.78531073 0.78531073 0.8079096  0.8079096\n",
      " 0.8079096  0.8079096  0.83615819 0.83615819 0.83615819 0.83615819\n",
      " 0.78531073 0.78531073 0.78531073 0.78531073 0.8079096  0.8079096\n",
      " 0.8079096  0.8079096  0.79661017 0.79661017 0.79661017 0.79661017\n",
      " 0.78531073 0.78531073 0.78531073 0.78531073 0.8079096  0.8079096\n",
      " 0.8079096  0.8079096  0.83050847 0.83050847 0.83050847 0.83050847\n",
      " 0.78531073 0.78531073 0.78531073 0.78531073 0.8079096  0.8079096\n",
      " 0.8079096  0.8079096  0.83615819 0.83615819 0.83615819 0.83615819\n",
      " 0.78531073 0.78531073 0.78531073 0.78531073 0.8079096  0.8079096\n",
      " 0.8079096  0.8079096  0.84745763 0.83615819 0.83615819 0.83615819\n",
      " 0.78531073 0.78531073 0.78531073 0.78531073 0.8079096  0.8079096\n",
      " 0.8079096  0.8079096  0.79661017 0.79661017 0.79661017 0.79661017\n",
      " 0.78531073 0.78531073 0.78531073 0.78531073 0.8079096  0.8079096\n",
      " 0.8079096  0.8079096  0.83615819 0.84180791 0.84180791 0.84180791\n",
      " 0.78531073 0.78531073 0.78531073 0.78531073 0.8079096  0.8079096\n",
      " 0.8079096  0.8079096  0.57627119 0.8079096  0.85310734 0.85310734\n",
      " 0.78531073 0.78531073 0.78531073 0.78531073 0.8079096  0.8079096\n",
      " 0.8079096  0.8079096  0.3559322  0.4180791  0.76271186 0.82485876\n",
      " 0.40677966 0.79661017 0.79661017 0.80225989 0.85310734 0.85310734\n",
      " 0.85310734 0.85310734 0.84745763 0.84745763 0.84745763 0.84745763\n",
      " 0.40677966 0.79661017 0.79661017 0.80225989 0.85310734 0.85310734\n",
      " 0.85310734 0.85310734 0.82485876 0.84745763 0.85310734 0.85310734\n",
      " 0.40677966 0.79661017 0.79661017 0.80225989 0.85310734 0.85310734\n",
      " 0.85310734 0.85310734 0.79096045 0.84745763 0.85875706 0.85875706\n",
      " 0.40677966 0.79661017 0.79661017 0.80225989 0.85310734 0.85310734\n",
      " 0.85310734 0.85310734 0.42372881 0.71186441 0.84180791 0.84745763\n",
      " 0.40677966 0.79661017 0.79661017 0.80225989 0.85310734 0.85310734\n",
      " 0.85310734 0.85310734 0.85310734 0.84745763 0.84180791 0.84180791\n",
      " 0.40677966 0.79661017 0.79661017 0.80225989 0.85310734 0.85310734\n",
      " 0.85310734 0.85310734 0.69491525 0.84745763 0.85310734 0.85310734\n",
      " 0.40677966 0.79661017 0.79661017 0.80225989 0.85310734 0.85310734\n",
      " 0.85310734 0.85310734 0.67231638 0.75706215 0.85310734 0.85310734\n",
      " 0.40677966 0.79661017 0.79661017 0.80225989 0.85310734 0.85310734\n",
      " 0.85310734 0.85310734 0.45762712 0.76271186 0.83615819 0.83050847\n",
      " 0.40677966 0.79661017 0.79661017 0.80225989 0.85310734 0.85310734\n",
      " 0.85310734 0.85310734 0.76271186 0.81920904 0.84180791 0.84180791\n",
      " 0.40677966 0.79661017 0.79661017 0.80225989 0.85310734 0.85310734\n",
      " 0.85310734 0.85310734 0.36158192 0.3559322  0.83615819 0.84180791\n",
      " 0.40677966 0.79661017 0.79661017 0.80225989 0.85310734 0.85310734\n",
      " 0.85310734 0.85310734 0.27683616 0.70621469 0.37288136 0.76836158\n",
      " 0.40677966 0.79661017 0.79661017 0.80225989 0.85310734 0.85310734\n",
      " 0.85310734 0.85310734 0.34463277 0.26553672 0.50847458 0.77966102]\n",
      "mean_test_score\t[0.61754586 0.61754586 0.61754586 0.61754586 0.61754586 0.61754586\n",
      " 0.61754586 0.61754586 0.61754586 0.61754586 0.61754586 0.61754586\n",
      " 0.61754586 0.61754586 0.61754586 0.61754586 0.61754586 0.61754586\n",
      " 0.61754586 0.61754586 0.61754586 0.61754586 0.61754586 0.61754586\n",
      " 0.61754586 0.61754586 0.61754586 0.61754586 0.61754586 0.61754586\n",
      " 0.61754586 0.61754586 0.61754586 0.61754586 0.61754586 0.61754586\n",
      " 0.61754586 0.61754586 0.61754586 0.61754586 0.61754586 0.61754586\n",
      " 0.61754586 0.61754586 0.64117946 0.64117946 0.64117946 0.64117946\n",
      " 0.61754586 0.61754586 0.61754586 0.61754586 0.61754586 0.61754586\n",
      " 0.61754586 0.61754586 0.61754586 0.61754586 0.61754586 0.61754586\n",
      " 0.61754586 0.61754586 0.61754586 0.61754586 0.61754586 0.61754586\n",
      " 0.61754586 0.61754586 0.61754586 0.61754586 0.61754586 0.61754586\n",
      " 0.61754586 0.61754586 0.61754586 0.61754586 0.61754586 0.61754586\n",
      " 0.61754586 0.61754586 0.71207389 0.71207389 0.71207389 0.71207389\n",
      " 0.61754586 0.61754586 0.61754586 0.61754586 0.61754586 0.61754586\n",
      " 0.61754586 0.61754586 0.7907954  0.7907954  0.7907954  0.7907954\n",
      " 0.61754586 0.61754586 0.61754586 0.61754586 0.61754586 0.61754586\n",
      " 0.61754586 0.61754586 0.61754586 0.61754586 0.61754586 0.61754586\n",
      " 0.61754586 0.61754586 0.61754586 0.61754586 0.61754586 0.61754586\n",
      " 0.61754586 0.61754586 0.78965911 0.78965911 0.78965911 0.78965911\n",
      " 0.61754586 0.61754586 0.61754586 0.61754586 0.61754586 0.61754586\n",
      " 0.61754586 0.61754586 0.81442265 0.8144163  0.8144163  0.8144163\n",
      " 0.61754586 0.61754586 0.61754586 0.61754586 0.61754586 0.61754586\n",
      " 0.61754586 0.61754586 0.82454771 0.81892338 0.82454771 0.82454771\n",
      " 0.78852282 0.78852282 0.78852282 0.78852282 0.61754586 0.61754586\n",
      " 0.61754586 0.61754586 0.63665968 0.63665968 0.63665968 0.63665968\n",
      " 0.78852282 0.78852282 0.78852282 0.78852282 0.61754586 0.61754586\n",
      " 0.61754586 0.61754586 0.72669968 0.72669968 0.72669968 0.72669968\n",
      " 0.78852282 0.78852282 0.78852282 0.78852282 0.61754586 0.61754586\n",
      " 0.61754586 0.61754586 0.7559449  0.7559449  0.7559449  0.7559449\n",
      " 0.78852282 0.78852282 0.78852282 0.78852282 0.61754586 0.61754586\n",
      " 0.61754586 0.61754586 0.78293024 0.78293024 0.78293024 0.78293024\n",
      " 0.78852282 0.78852282 0.78852282 0.78852282 0.61754586 0.61754586\n",
      " 0.61754586 0.61754586 0.72331619 0.72331619 0.72331619 0.72331619\n",
      " 0.78852282 0.78852282 0.78852282 0.78852282 0.61754586 0.61754586\n",
      " 0.61754586 0.61754586 0.78853552 0.78853552 0.78853552 0.78853552\n",
      " 0.78852282 0.78852282 0.78852282 0.78852282 0.61754586 0.61754586\n",
      " 0.61754586 0.61754586 0.803174   0.803174   0.803174   0.803174\n",
      " 0.78852282 0.78852282 0.78852282 0.78852282 0.61754586 0.61754586\n",
      " 0.61754586 0.61754586 0.81217546 0.81217546 0.81217546 0.81217546\n",
      " 0.78852282 0.78852282 0.78852282 0.78852282 0.61754586 0.61754586\n",
      " 0.61754586 0.61754586 0.78852282 0.78852282 0.78852282 0.78852282\n",
      " 0.78852282 0.78852282 0.78852282 0.78852282 0.61754586 0.61754586\n",
      " 0.61754586 0.61754586 0.80315495 0.80315495 0.80315495 0.80315495\n",
      " 0.78852282 0.78852282 0.78852282 0.78852282 0.61754586 0.61754586\n",
      " 0.61754586 0.61754586 0.82230051 0.82342411 0.82229417 0.82229417\n",
      " 0.78852282 0.78852282 0.78852282 0.78852282 0.61754586 0.61754586\n",
      " 0.61754586 0.61754586 0.52096109 0.57578874 0.81780613 0.82005967\n",
      " 0.78852282 0.78852282 0.78852282 0.78852282 0.80203136 0.80203136\n",
      " 0.80203136 0.80203136 0.79078271 0.79078271 0.79078271 0.79078271\n",
      " 0.78852282 0.78852282 0.78852282 0.78852282 0.80203136 0.80203136\n",
      " 0.80203136 0.80203136 0.80542754 0.80542754 0.80542754 0.80542754\n",
      " 0.78852282 0.78852282 0.78852282 0.78852282 0.80203136 0.80203136\n",
      " 0.80203136 0.80203136 0.80992827 0.80992827 0.80992827 0.80992827\n",
      " 0.78852282 0.78852282 0.78852282 0.78852282 0.80203136 0.80203136\n",
      " 0.80203136 0.80203136 0.81217546 0.81217546 0.81217546 0.81217546\n",
      " 0.78852282 0.78852282 0.78852282 0.78852282 0.80203136 0.80203136\n",
      " 0.80203136 0.80203136 0.79078271 0.79078271 0.79078271 0.79078271\n",
      " 0.78852282 0.78852282 0.78852282 0.78852282 0.80203136 0.80203136\n",
      " 0.80203136 0.80203136 0.80879832 0.80879832 0.80879832 0.80879832\n",
      " 0.78852282 0.78852282 0.78852282 0.78852282 0.80203136 0.80203136\n",
      " 0.80203136 0.80203136 0.82004063 0.82004063 0.82004063 0.82004063\n",
      " 0.78852282 0.78852282 0.78852282 0.78852282 0.80203136 0.80203136\n",
      " 0.80203136 0.80203136 0.81780613 0.81442265 0.81442265 0.81442265\n",
      " 0.78852282 0.78852282 0.78852282 0.78852282 0.80203136 0.80203136\n",
      " 0.80203136 0.80203136 0.7930299  0.7930299  0.7930299  0.7930299\n",
      " 0.78852282 0.78852282 0.78852282 0.78852282 0.80203136 0.80203136\n",
      " 0.80203136 0.80203136 0.81891703 0.82229417 0.82117057 0.82117057\n",
      " 0.78852282 0.78852282 0.78852282 0.78852282 0.80203136 0.80203136\n",
      " 0.80203136 0.80203136 0.54334412 0.71551451 0.82005967 0.81781248\n",
      " 0.78852282 0.78852282 0.78852282 0.78852282 0.80203136 0.80203136\n",
      " 0.80203136 0.80203136 0.42174824 0.50721132 0.79973338 0.803174\n",
      " 0.45101885 0.78741192 0.79977147 0.79977782 0.82230686 0.82230686\n",
      " 0.82230686 0.82230686 0.82117692 0.82005332 0.82005332 0.82005332\n",
      " 0.45101885 0.78741192 0.79977147 0.79977782 0.82230686 0.82230686\n",
      " 0.82230686 0.82230686 0.79306164 0.81218815 0.81107091 0.81107091\n",
      " 0.45101885 0.78741192 0.79977147 0.79977782 0.82230686 0.82230686\n",
      " 0.82230686 0.82230686 0.7817876  0.81106456 0.81444804 0.81444804\n",
      " 0.45101885 0.78741192 0.79977147 0.79977782 0.82230686 0.82230686\n",
      " 0.82230686 0.82230686 0.58025138 0.73450771 0.80431664 0.80657018\n",
      " 0.45101885 0.78741192 0.79977147 0.79977782 0.82230686 0.82230686\n",
      " 0.82230686 0.82230686 0.82455405 0.82342411 0.82229417 0.82229417\n",
      " 0.45101885 0.78741192 0.79977147 0.79977782 0.82230686 0.82230686\n",
      " 0.82230686 0.82230686 0.63224148 0.81331175 0.81444169 0.81444169\n",
      " 0.45101885 0.78741192 0.79977147 0.79977782 0.82230686 0.82230686\n",
      " 0.82230686 0.82230686 0.59626103 0.71658097 0.8121945  0.8133181\n",
      " 0.45101885 0.78741192 0.79977147 0.79977782 0.82230686 0.82230686\n",
      " 0.82230686 0.82230686 0.48815464 0.72669968 0.81554625 0.80655113\n",
      " 0.45101885 0.78741192 0.79977147 0.79977782 0.82230686 0.82230686\n",
      " 0.82230686 0.82230686 0.64355361 0.81328001 0.82117057 0.82229417\n",
      " 0.45101885 0.78741192 0.79977147 0.79977782 0.82230686 0.82230686\n",
      " 0.82230686 0.82230686 0.45096807 0.48691678 0.8009395  0.82229417\n",
      " 0.45101885 0.78741192 0.79977147 0.79977782 0.82230686 0.82230686\n",
      " 0.82230686 0.82230686 0.41042341 0.56034406 0.45098077 0.79299816\n",
      " 0.45101885 0.78741192 0.79977147 0.79977782 0.82230686 0.82230686\n",
      " 0.82230686 0.82230686 0.48915127 0.39243319 0.54663874 0.60424681]\n",
      "std_test_score\t[0.00086333 0.00086333 0.00086333 0.00086333 0.00086333 0.00086333\n",
      " 0.00086333 0.00086333 0.00086333 0.00086333 0.00086333 0.00086333\n",
      " 0.00086333 0.00086333 0.00086333 0.00086333 0.00086333 0.00086333\n",
      " 0.00086333 0.00086333 0.00086333 0.00086333 0.00086333 0.00086333\n",
      " 0.00086333 0.00086333 0.00086333 0.00086333 0.00086333 0.00086333\n",
      " 0.00086333 0.00086333 0.00086333 0.00086333 0.00086333 0.00086333\n",
      " 0.00086333 0.00086333 0.00086333 0.00086333 0.00086333 0.00086333\n",
      " 0.00086333 0.00086333 0.01907419 0.01907419 0.01907419 0.01907419\n",
      " 0.00086333 0.00086333 0.00086333 0.00086333 0.00086333 0.00086333\n",
      " 0.00086333 0.00086333 0.00086333 0.00086333 0.00086333 0.00086333\n",
      " 0.00086333 0.00086333 0.00086333 0.00086333 0.00086333 0.00086333\n",
      " 0.00086333 0.00086333 0.00086333 0.00086333 0.00086333 0.00086333\n",
      " 0.00086333 0.00086333 0.00086333 0.00086333 0.00086333 0.00086333\n",
      " 0.00086333 0.00086333 0.02631459 0.02631459 0.02631459 0.02631459\n",
      " 0.00086333 0.00086333 0.00086333 0.00086333 0.00086333 0.00086333\n",
      " 0.00086333 0.00086333 0.02701308 0.02701308 0.02701308 0.02701308\n",
      " 0.00086333 0.00086333 0.00086333 0.00086333 0.00086333 0.00086333\n",
      " 0.00086333 0.00086333 0.00086333 0.00086333 0.00086333 0.00086333\n",
      " 0.00086333 0.00086333 0.00086333 0.00086333 0.00086333 0.00086333\n",
      " 0.00086333 0.00086333 0.01988853 0.01988853 0.01988853 0.01988853\n",
      " 0.00086333 0.00086333 0.00086333 0.00086333 0.00086333 0.00086333\n",
      " 0.00086333 0.00086333 0.02366372 0.0205661  0.0205661  0.0205661\n",
      " 0.00086333 0.00086333 0.00086333 0.00086333 0.00086333 0.00086333\n",
      " 0.00086333 0.00086333 0.01695424 0.01618352 0.01970898 0.01970898\n",
      " 0.02093157 0.02093157 0.02093157 0.02093157 0.00086333 0.00086333\n",
      " 0.00086333 0.00086333 0.01747097 0.01747097 0.01747097 0.01747097\n",
      " 0.02093157 0.02093157 0.02093157 0.02093157 0.00086333 0.00086333\n",
      " 0.00086333 0.00086333 0.03409079 0.03409079 0.03409079 0.03409079\n",
      " 0.02093157 0.02093157 0.02093157 0.02093157 0.00086333 0.00086333\n",
      " 0.00086333 0.00086333 0.03082824 0.03082824 0.03082824 0.03082824\n",
      " 0.02093157 0.02093157 0.02093157 0.02093157 0.00086333 0.00086333\n",
      " 0.00086333 0.00086333 0.0345825  0.0345825  0.0345825  0.0345825\n",
      " 0.02093157 0.02093157 0.02093157 0.02093157 0.00086333 0.00086333\n",
      " 0.00086333 0.00086333 0.02778079 0.02778079 0.02778079 0.02778079\n",
      " 0.02093157 0.02093157 0.02093157 0.02093157 0.00086333 0.00086333\n",
      " 0.00086333 0.00086333 0.01889884 0.01889884 0.01889884 0.01889884\n",
      " 0.02093157 0.02093157 0.02093157 0.02093157 0.00086333 0.00086333\n",
      " 0.00086333 0.00086333 0.02311215 0.02311215 0.02311215 0.02311215\n",
      " 0.02093157 0.02093157 0.02093157 0.02093157 0.00086333 0.00086333\n",
      " 0.00086333 0.00086333 0.02068448 0.02068448 0.02068448 0.02068448\n",
      " 0.02093157 0.02093157 0.02093157 0.02093157 0.00086333 0.00086333\n",
      " 0.00086333 0.00086333 0.02093157 0.02093157 0.02093157 0.02093157\n",
      " 0.02093157 0.02093157 0.02093157 0.02093157 0.00086333 0.00086333\n",
      " 0.00086333 0.00086333 0.02185174 0.02185174 0.02185174 0.02185174\n",
      " 0.02093157 0.02093157 0.02093157 0.02093157 0.00086333 0.00086333\n",
      " 0.00086333 0.00086333 0.01773275 0.02008004 0.01881495 0.01881495\n",
      " 0.02093157 0.02093157 0.02093157 0.02093157 0.00086333 0.00086333\n",
      " 0.00086333 0.00086333 0.07437043 0.11171486 0.02351124 0.02755153\n",
      " 0.02093157 0.02093157 0.02093157 0.02093157 0.01076792 0.01076792\n",
      " 0.01076792 0.01076792 0.02077056 0.02077056 0.02077056 0.02077056\n",
      " 0.02093157 0.02093157 0.02093157 0.02093157 0.01076792 0.01076792\n",
      " 0.01076792 0.01076792 0.02631033 0.02631033 0.02631033 0.02631033\n",
      " 0.02093157 0.02093157 0.02093157 0.02093157 0.01076792 0.01076792\n",
      " 0.01076792 0.01076792 0.0226466  0.0226466  0.0226466  0.0226466\n",
      " 0.02093157 0.02093157 0.02093157 0.02093157 0.01076792 0.01076792\n",
      " 0.01076792 0.01076792 0.02037703 0.02037703 0.02037703 0.02037703\n",
      " 0.02093157 0.02093157 0.02093157 0.02093157 0.01076792 0.01076792\n",
      " 0.01076792 0.01076792 0.02107228 0.02107228 0.02107228 0.02107228\n",
      " 0.02093157 0.02093157 0.02093157 0.02093157 0.01076792 0.01076792\n",
      " 0.01076792 0.01076792 0.02418564 0.02418564 0.02418564 0.02418564\n",
      " 0.02093157 0.02093157 0.02093157 0.02093157 0.01076792 0.01076792\n",
      " 0.01076792 0.01076792 0.01529048 0.01529048 0.01529048 0.01529048\n",
      " 0.02093157 0.02093157 0.02093157 0.02093157 0.01076792 0.01076792\n",
      " 0.01076792 0.01076792 0.02404221 0.02082607 0.02082607 0.02082607\n",
      " 0.02093157 0.02093157 0.02093157 0.02093157 0.01076792 0.01076792\n",
      " 0.01076792 0.01076792 0.02282139 0.02282139 0.02282139 0.02282139\n",
      " 0.02093157 0.02093157 0.02093157 0.02093157 0.01076792 0.01076792\n",
      " 0.01076792 0.01076792 0.01699805 0.01742135 0.01659307 0.01659307\n",
      " 0.02093157 0.02093157 0.02093157 0.02093157 0.01076792 0.01076792\n",
      " 0.01076792 0.01076792 0.09352505 0.10090026 0.025406   0.02478758\n",
      " 0.02093157 0.02093157 0.02093157 0.02093157 0.01076792 0.01076792\n",
      " 0.01076792 0.01076792 0.09029259 0.06748096 0.0210629  0.02311215\n",
      " 0.13595648 0.01126426 0.01765794 0.01647399 0.02404233 0.02404233\n",
      " 0.02404233 0.02404233 0.02266131 0.02197386 0.02197386 0.02197386\n",
      " 0.13595648 0.01126426 0.01765794 0.01647399 0.02404233 0.02404233\n",
      " 0.02404233 0.02404233 0.03849794 0.02347025 0.02875444 0.02875444\n",
      " 0.13595648 0.01126426 0.01765794 0.01647399 0.02404233 0.02404233\n",
      " 0.02404233 0.02404233 0.01668122 0.02601373 0.02883901 0.02883901\n",
      " 0.13595648 0.01126426 0.01765794 0.01647399 0.02404233 0.02404233\n",
      " 0.02404233 0.02404233 0.12793815 0.10727414 0.02284364 0.02342919\n",
      " 0.13595648 0.01126426 0.01765794 0.01647399 0.02404233 0.02404233\n",
      " 0.02404233 0.02404233 0.01966927 0.02008004 0.01881495 0.01881495\n",
      " 0.13595648 0.01126426 0.01765794 0.01647399 0.02404233 0.02404233\n",
      " 0.02404233 0.02404233 0.1001299  0.02369256 0.02705519 0.02705519\n",
      " 0.13595648 0.01126426 0.01765794 0.01647399 0.02404233 0.02404233\n",
      " 0.02404233 0.02404233 0.0745242  0.06597964 0.0262358  0.02570825\n",
      " 0.13595648 0.01126426 0.01765794 0.01647399 0.02404233 0.02404233\n",
      " 0.02404233 0.02404233 0.0611126  0.06981285 0.02581536 0.02861657\n",
      " 0.13595648 0.01126426 0.01765794 0.01647399 0.02404233 0.02404233\n",
      " 0.02404233 0.02404233 0.15131226 0.01952476 0.01769757 0.01881495\n",
      " 0.13595648 0.01126426 0.01765794 0.01647399 0.02404233 0.02404233\n",
      " 0.02404233 0.02404233 0.07058064 0.14310967 0.02450421 0.02462713\n",
      " 0.13595648 0.01126426 0.01765794 0.01647399 0.02404233 0.02404233\n",
      " 0.02404233 0.02404233 0.08182881 0.10592457 0.04689052 0.0192638\n",
      " 0.13595648 0.01126426 0.01765794 0.01647399 0.02404233 0.02404233\n",
      " 0.02404233 0.02404233 0.17290551 0.10667496 0.04506198 0.12971085]\n",
      "rank_test_score\t[380 380 380 380 380 380 380 380 380 380 380 380 380 380 380 380 380 380\n",
      " 380 380 380 380 380 380 380 380 380 380 380 380 380 380 380 380 380 380\n",
      " 380 380 380 380 380 380 380 380 371 371 371 371 380 380 380 380 380 380\n",
      " 380 380 380 380 380 380 380 380 380 380 380 380 380 380 380 380 380 380\n",
      " 380 380 380 380 380 380 380 380 366 366 366 366 380 380 380 380 380 380\n",
      " 380 380 213 213 213 213 380 380 380 380 380 380 380 380 380 380 380 380\n",
      " 380 380 380 380 380 380 380 380 225 225 225 225 380 380 380 380 380 380\n",
      " 380 380  86  90  90  90 380 380 380 380 380 380 380 380   2  76   2   2\n",
      " 233 233 233 233 380 380 380 380 375 375 375 375 233 233 233 233 380 380\n",
      " 380 380 355 355 355 355 233 233 233 233 380 380 380 380 350 350 350 350\n",
      " 233 233 233 233 380 380 380 380 345 345 345 345 233 233 233 233 380 380\n",
      " 380 380 360 360 360 360 233 233 233 233 380 380 380 380 229 229 229 229\n",
      " 233 233 233 233 380 380 380 380 124 124 124 124 233 233 233 233 380 380\n",
      " 380 380  98  98  98  98 233 233 233 233 380 380 380 380 233 233 233 233\n",
      " 233 233 233 233 380 380 380 380 129 129 129 129 233 233 233 233 380 380\n",
      " 380 380  55   5  56  56 233 233 233 233 380 380 380 380 555 551  79  67\n",
      " 233 233 233 233 133 133 133 133 217 217 217 217 233 233 233 233 133 133\n",
      " 133 133 119 119 119 119 233 233 233 233 133 133 133 133 109 109 109 109\n",
      " 233 233 233 233 133 133 133 133  98  98  98  98 233 233 233 233 133 133\n",
      " 133 133 217 217 217 217 233 233 233 233 133 133 133 133 113 113 113 113\n",
      " 233 233 233 233 133 133 133 133  72  72  72  72 233 233 233 233 133 133\n",
      " 133 133  79  86  86  86 233 233 233 233 133 133 133 133 208 208 208 208\n",
      " 233 233 233 233 133 133 133 133  77  56  64  64 233 233 233 233 133 133\n",
      " 133 133 554 365  67  78 233 233 233 233 133 133 133 133 574 556 206 124\n",
      " 560 333 194 182   7   7   7   7  63  69  69  69 560 333 194 182   7   7\n",
      "   7   7 207  97 106 106 560 333 194 182   7   7   7   7 349 108  82  82\n",
      " 560 333 194 182   7   7   7   7 550 354 123 117 560 333 194 182   7   7\n",
      "   7   7   1   5  56  56 560 333 194 182   7   7   7   7 379  94  84  84\n",
      " 560 333 194 182   7   7   7   7 549 364  96  93 560 333 194 182   7   7\n",
      "   7   7 558 355  81 118 560 333 194 182   7   7   7   7 370  95  64  56\n",
      " 560 333 194 182   7   7   7   7 573 559 181  56 560 333 194 182   7   7\n",
      "   7   7 575 552 572 212 560 333 194 182   7   7   7   7 557 576 553 548]\n"
     ]
    }
   ],
   "source": [
    "for k, v in loaded_grid_search.cv_results_.items():\n",
    "    print(k, v, sep=\"\\t\")"
   ]
  },
  {
   "cell_type": "code",
   "execution_count": 6,
   "id": "5cf6b29d-0217-4d71-aa4e-b694cfde28e1",
   "metadata": {},
   "outputs": [],
   "source": [
    "real_test = pd.read_csv(\"datasets/test_clean.csv\")"
   ]
  },
  {
   "cell_type": "code",
   "execution_count": 7,
   "id": "16757f44-526a-4433-aae7-605d75ce719c",
   "metadata": {},
   "outputs": [],
   "source": [
    "real_test.drop(columns=list(set(to_drop)-{\"PassengerId\"}), inplace=True)"
   ]
  },
  {
   "cell_type": "code",
   "execution_count": 8,
   "id": "afaad9c4-bdea-40c7-b7e5-e1eea59716f5",
   "metadata": {
    "scrolled": true
   },
   "outputs": [],
   "source": [
    "pred = pd.DataFrame(best_model.predict(real_test.drop(columns=[\"PassengerId\"]))).rename(columns={0: \"Survived\"})"
   ]
  },
  {
   "cell_type": "code",
   "execution_count": 9,
   "id": "f9d02525",
   "metadata": {},
   "outputs": [],
   "source": [
    "# get probabilities\n",
    "probs = best_model.predict_proba(X_train)\n",
    "\n",
    "# keep probabilities for the positive outcome only\n",
    "probs = probs[:, 1]\n",
    "\n",
    "# predict class values\n",
    "yhat = best_model.predict(X_train)\n",
    "\n",
    "# calculate roc-auc score\n",
    "lr_auc = roc_auc_score(y_train, probs)\n",
    "\n",
    "# calculate roc curve\n",
    "ns_fpr, ns_tpr, _ = roc_curve(y_train, probs)\n",
    "\n",
    "# get f1 score\n",
    "lr_f1 = f1_score(y_train, best_model.predict(X_train))\n",
    "\n",
    "# get auc score\n",
    "lr_auc = auc(ns_fpr, ns_tpr)\n",
    "\n",
    "# get precision & recall\n",
    "lr_precision, lr_recall, _ = precision_recall_curve(y_train, probs)"
   ]
  },
  {
   "cell_type": "code",
   "execution_count": 10,
   "id": "10ea5e72",
   "metadata": {},
   "outputs": [
    {
     "data": {
      "image/png": "[encoded data removed]",
      "text/plain": [
       "<Figure size 800x600 with 1 Axes>"
      ]
     },
     "metadata": {},
     "output_type": "display_data"
    }
   ],
   "source": [
    "import seaborn as sns\n",
    "import matplotlib.pyplot as plt\n",
    "\n",
    "# Get no-skill line\n",
    "no_skill = len(y_train[y_train == 1]) / len(y_train)\n",
    "\n",
    "# Set the style\n",
    "sns.set(style=\"whitegrid\")\n",
    "\n",
    "# Plot the precision-recall curves\n",
    "plt.figure(figsize=(8, 6))\n",
    "sns.lineplot(\n",
    "    x=[0, 1],\n",
    "    y=[no_skill, no_skill],\n",
    "    linestyle='dotted',\n",
    "    label='No Skill'\n",
    ")\n",
    "sns.lineplot(\n",
    "    x=lr_recall,\n",
    "    y=lr_precision,\n",
    "    marker='.',\n",
    "    label=model_name\n",
    ")\n",
    "\n",
    "# Set axis labels\n",
    "plt.xlabel('Recall')\n",
    "plt.ylabel('Precision')\n",
    "\n",
    "# Show the legend\n",
    "plt.legend()\n",
    "\n",
    "# Show the plot\n",
    "plt.show()"
   ]
  },
  {
   "cell_type": "code",
   "execution_count": 11,
   "id": "0f801591",
   "metadata": {},
   "outputs": [
    {
     "data": {
      "image/png": "[encoded data removed]",
      "text/plain": [
       "<Figure size 800x600 with 1 Axes>"
      ]
     },
     "metadata": {},
     "output_type": "display_data"
    }
   ],
   "source": [
    "# Plot the ROC curve\n",
    "plt.figure(figsize=(8, 6))\n",
    "sns.lineplot(\n",
    "    x=ns_fpr,\n",
    "    y=ns_tpr,\n",
    "    linestyle='--',\n",
    "    label=model_name\n",
    ")\n",
    "\n",
    "# Set axis labels\n",
    "plt.xlabel('False Positive Rate')\n",
    "plt.ylabel('True Positive Rate')\n",
    "\n",
    "# Show the legend\n",
    "plt.legend()\n",
    "\n",
    "# Show the plot\n",
    "plt.show()"
   ]
  },
  {
   "cell_type": "code",
   "execution_count": 12,
   "id": "a715b489-f19d-4f74-b33b-4935f701a12f",
   "metadata": {},
   "outputs": [],
   "source": [
    "pd.concat([real_test[[\"PassengerId\"]], pred], axis=1).to_csv(f\"../outs/{best_model.__class__.__name__}_{grid_search.best_score_ * 100:.4f}.csv\", index=False)"
   ]
  }
 ],
 "metadata": {
  "kernelspec": {
   "display_name": "Python 3 (ipykernel)",
   "language": "python",
   "name": "python3"
  }
 },
 "nbformat": 4,
 "nbformat_minor": 5
}
