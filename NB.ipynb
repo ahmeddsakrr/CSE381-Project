{
 "cells": [
  {
   "cell_type": "code",
   "execution_count": 3,
   "metadata": {},
   "outputs": [],
   "source": [
    "import pandas as pd\n",
    "from sklearn.model_selection import train_test_split, GridSearchCV\n",
    "from sklearn.neighbors import BayesianGaussianMixture\n",
    "from sklearn.metrics import accuracy_score"
   ]
  },
  {
   "cell_type": "code",
   "execution_count": 4,
   "metadata": {},
   "outputs": [
    {
     "name": "stdout",
     "output_type": "stream",
     "text": [
      "Fitting 7 folds for each of 1 candidates, totalling 7 fits\n",
      "[CV 1/7] END algorithm=ball_tree, leaf_size=5, metric=euclidean, n_jobs=-1, n_neighbors=4, p=1, weights=uniform;, score=0.814 total time=   3.2s\n",
      "[CV 2/7] END algorithm=ball_tree, leaf_size=5, metric=euclidean, n_jobs=-1, n_neighbors=4, p=1, weights=uniform;, score=0.853 total time=   0.0s\n",
      "[CV 3/7] END algorithm=ball_tree, leaf_size=5, metric=euclidean, n_jobs=-1, n_neighbors=4, p=1, weights=uniform;, score=0.902 total time=   0.0s\n",
      "[CV 4/7] END algorithm=ball_tree, leaf_size=5, metric=euclidean, n_jobs=-1, n_neighbors=4, p=1, weights=uniform;, score=0.863 total time=   0.0s\n",
      "[CV 5/7] END algorithm=ball_tree, leaf_size=5, metric=euclidean, n_jobs=-1, n_neighbors=4, p=1, weights=uniform;, score=0.792 total time=   0.0s\n",
      "[CV 6/7] END algorithm=ball_tree, leaf_size=5, metric=euclidean, n_jobs=-1, n_neighbors=4, p=1, weights=uniform;, score=0.851 total time=   0.0s\n",
      "[CV 7/7] END algorithm=ball_tree, leaf_size=5, metric=euclidean, n_jobs=-1, n_neighbors=4, p=1, weights=uniform;, score=0.861 total time=   0.0s\n",
      "Best Parameters: {'algorithm': 'ball_tree', 'leaf_size': 5, 'metric': 'euclidean', 'n_jobs': -1, 'n_neighbors': 4, 'p': 1, 'weights': 'uniform'}\n",
      "Accuracy on Test Set: 0.7921\n"
     ]
    }
   ],
   "source": [
    "# Read the dataset and preprocess as described\n",
    "full_train = pd.read_csv(\"datasets/train_clean_pca_transformed.csv\")\n",
    "full_test = pd.read_csv(\"datasets/test_clean_pca_transformed.csv\")\n",
    "\n",
    "target_col = \"Survived\"\n",
    "X = full_train.drop(target_col, axis=1)\n",
    "y = full_train[target_col]\n",
    "\n",
    "# Split the data into training and testing sets\n",
    "X_train, X_test, y_train, y_test = train_test_split(\n",
    "    X, y, test_size=0.2, random_state=42\n",
    ")\n",
    "\n",
    "# X_train, y_train = X, y\n",
    "\n",
    "# Create the Bayesian Gausian Mixture Classifier\n",
    "\n",
    "cv = StratifiedKFold(n_splits=5, shuffle=True, random_state=42)\n",
    "\n",
    "# Create the GridSearchCV object\n",
    "grid_search = GridSearchCV(\n",
    "    knn_model, param_grid, n_jobs=1, cv=StratifiedKFold, scoring=\"accuracy\", verbose=4\n",
    ")\n",
    "\n",
    "# Fit the model\n",
    "grid_search.fit(X_train, y_train)\n",
    "\n",
    "# Get the best parameters and best model\n",
    "best_params = grid_search.best_params_\n",
    "best_model = grid_search.best_estimator_\n",
    "\n",
    "# Make predictions on the test set\n",
    "y_pred = best_model.predict(X_test)\n",
    "\n",
    "# Calculate accuracy on the test set\n",
    "accuracy = accuracy_score(y_test, y_pred)\n",
    "\n",
    "print(f\"Best Parameters: {best_params}\")\n",
    "# print(f\"Best Score: {grid_search.best_score_:.4f}\")\n",
    "print(f\"Accuracy on Test Set: {accuracy:.4f}\")"
   ]
  },
  {
   "cell_type": "code",
   "execution_count": 5,
   "metadata": {},
   "outputs": [
    {
     "data": {
      "text/plain": [
       "['grid_search_model.joblib']"
      ]
     },
     "execution_count": 5,
     "metadata": {},
     "output_type": "execute_result"
    }
   ],
   "source": [
    "import joblib\n",
    "\n",
    "joblib.dump(grid_search, 'grid_search_model.joblib')"
   ]
  },
  {
   "cell_type": "code",
   "execution_count": 6,
   "metadata": {},
   "outputs": [],
   "source": [
    "loaded_grid_search = joblib.load('grid_search_model.joblib')"
   ]
  },
  {
   "cell_type": "code",
   "execution_count": 7,
   "metadata": {},
   "outputs": [
    {
     "name": "stdout",
     "output_type": "stream",
     "text": [
      "mean_fit_time\t[0.00371443]\n",
      "std_fit_time\t[0.00190504]\n",
      "mean_score_time\t[0.4952848]\n",
      "std_score_time\t[1.15932513]\n",
      "param_algorithm\t['ball_tree']\n",
      "param_leaf_size\t[5]\n",
      "param_metric\t['euclidean']\n",
      "param_n_jobs\t[-1]\n",
      "param_n_neighbors\t[4]\n",
      "param_p\t[1]\n",
      "param_weights\t['uniform']\n",
      "params\t[{'algorithm': 'ball_tree', 'leaf_size': 5, 'metric': 'euclidean', 'n_jobs': -1, 'n_neighbors': 4, 'p': 1, 'weights': 'uniform'}]\n",
      "split0_test_score\t[0.81372549]\n",
      "split1_test_score\t[0.85294118]\n",
      "split2_test_score\t[0.90196078]\n",
      "split3_test_score\t[0.8627451]\n",
      "split4_test_score\t[0.79207921]\n",
      "split5_test_score\t[0.85148515]\n",
      "split6_test_score\t[0.86138614]\n",
      "mean_test_score\t[0.84804615]\n",
      "std_test_score\t[0.03305147]\n",
      "rank_test_score\t[1]\n"
     ]
    }
   ],
   "source": [
    "for k, v in loaded_grid_search.cv_results_.items():\n",
    "    print(k, v, sep=\"\\t\")"
   ]
  },
  {
   "cell_type": "code",
   "execution_count": 8,
   "metadata": {},
   "outputs": [],
   "source": [
    "real_test = pd.read_csv(\"datasets/test_clean_pca_transformed.csv\")"
   ]
  },
  {
   "cell_type": "code",
   "execution_count": 9,
   "metadata": {},
   "outputs": [],
   "source": [
    "pred = pd.DataFrame(best_model.predict(real_test.drop(columns=[\"PassengerId\"]))).rename(columns={0: \"Survived\"})"
   ]
  },
  {
   "cell_type": "code",
   "execution_count": 10,
   "metadata": {},
   "outputs": [],
   "source": [
    "pd.concat([real_test[[\"PassengerId\"]], pred], axis=1).to_csv(\"KNN_v1.csv\", index=None)"
   ]
  },
  {
   "cell_type": "code",
   "execution_count": null,
   "metadata": {},
   "outputs": [],
   "source": []
  },
  {
   "cell_type": "code",
   "execution_count": null,
   "metadata": {},
   "outputs": [],
   "source": []
  }
 ],
 "metadata": {
  "kernelspec": {
   "display_name": "Python 3",
   "language": "python",
   "name": "python3"
  },
  "language_info": {
   "codemirror_mode": {
    "name": "ipython",
    "version": 3
   },
   "file_extension": ".py",
   "mimetype": "text/x-python",
   "name": "python",
   "nbconvert_exporter": "python",
   "pygments_lexer": "ipython3",
   "version": "3.10.7"
  }
 },
 "nbformat": 4,
 "nbformat_minor": 2
}
